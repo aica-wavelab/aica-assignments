{
 "cells": [
  {
   "cell_type": "markdown",
   "metadata": {},
   "source": [
    "# Melody Generation\n",
    "\n",
    "+ **AI in Culture and Arts - Tech Crash Course**\n",
    "+ **Date:** 06.06.2024\n",
    "+ **Author:** B. Zönnchen"
   ]
  },
  {
   "cell_type": "markdown",
   "metadata": {},
   "source": [
    "<a href=\"https://colab.research.google.com/github/aica-wavelab/aica-assignments/blob/main/A4_melody_generation/3_1_one_hot_encoding.ipynb\" target=\"_parent\">\n",
    "  <img src=\"https://colab.research.google.com/assets/colab-badge.svg\" alt=\"Open In Colab\"/>\n",
    "</a>"
   ]
  },
  {
   "cell_type": "code",
   "execution_count": null,
   "metadata": {},
   "outputs": [],
   "source": [
    "#@title install dependencies to play sound\n",
    "%%capture\n",
    "print('installing fluidsynth...')\n",
    "!apt-get install fluidsynth > /dev/null\n",
    "!cp /usr/share/sounds/sf2/FluidR3_GM.sf2 ./font.sf2\n",
    "print('done!')"
   ]
  },
  {
   "cell_type": "code",
   "execution_count": null,
   "metadata": {},
   "outputs": [],
   "source": [
    "#@title install dependencies to show score in music notation\n",
    "%%capture\n",
    "print('installing musescore3...')\n",
    "!apt-get install musescore3 > /dev/null\n",
    "print('done!')"
   ]
  },
  {
   "cell_type": "code",
   "execution_count": null,
   "metadata": {},
   "outputs": [],
   "source": [
    "#@title clone git repository\n",
    "%%capture\n",
    "%rm -rf aica-assignments\n",
    "!git clone https://github.com/aica-wavelab/aica-assignments.git\n",
    "%cd aica-assignments/A4_melody_generation"
   ]
  },
  {
   "cell_type": "markdown",
   "metadata": {},
   "source": [
    "For this notebook we need the following ``Python`` packages and moduls. Execute the cell to install them:"
   ]
  },
  {
   "cell_type": "code",
   "execution_count": null,
   "metadata": {},
   "outputs": [],
   "source": [
    "%pip install pandas\n",
    "%pip install numpy\n",
    "%pip install tensorflow\n",
    "\n",
    "%pip install otter-grader"
   ]
  },
  {
   "cell_type": "code",
   "execution_count": null,
   "metadata": {},
   "outputs": [],
   "source": [
    "import numpy as np\n",
    "import pandas as pd\n",
    "import tensorflow as tf"
   ]
  },
  {
   "cell_type": "code",
   "execution_count": null,
   "metadata": {},
   "outputs": [],
   "source": [
    "# Initialize Otter\n",
    "import otter\n",
    "grader = otter.Notebook(\"3_1_one_hot_encoding.ipynb\")"
   ]
  },
  {
   "cell_type": "markdown",
   "metadata": {},
   "source": [
    "# 3. Representations\n",
    "\n",
    "## 3.1 The One-Hot Encoding\n",
    "\n",
    "Let us first think about what kind of data we want to use. And let us first consider the general case, i.e. some ``Score`` consisting of all kind of musical objects such as ``Note``s, ``Chord``s, bars, measurements and so on. A ``Score`` is a ``Stream``, that is, linear sequence of objects, which we call (musical) **events**.\n",
    "\n",
    "As we saw, *pitch* and *duration* can be represented by floating point numbers. *Pitch* can be either the MIDI note (which can also be rational) or frequency. Since the single input of a neural network can be a floating point number, we could decide to use two inputs:\n",
    "\n",
    "<img src=\"figs/float_input_ann.png\" alt=\"\" height=\"250\">\n",
    "\n",
    "However, we have to consider that if we think in terms of dissonant and consonant then MIDI notes close in value are not close with respect to consonance. Relations of notes might have a certain usage in a piece that is completely unrelated to their specific numerical value in MIDI note or frequency. In case of a simple melody, this is probably not that relevant. However, what if we want to use events such as a bar or a change in measurement? Or what if we want to work with ``noteOn``, ``noteOff`` events? Or what about ``Rest``s which have no pitch? How are they related to ``Note``s? These events might be categorical and not numerical.\n",
    "\n",
    "The *one-hot encoding* can be useful if we want to deal with categorical data that can not be ordered. Especially if we deal with sequences, one-hot encoding can work well because it can help the neural network to learn pattern without assuming any inherent ordering in the input. But how does it work?\n",
    "\n",
    "Imagine a vector of numbers representing the temperature of a metal block. The number indicates how hot the block is at a position. One-hot, means that the temperature is concentrated at one specific point. Thus, the vector consists of one ``1`` and all the other values are ``0``.\n",
    "Suppose we have the categories:\n",
    "\n",
    "```\n",
    "Coat\n",
    "Pants\n",
    "Shoes\n",
    "Jacket\n",
    "```\n",
    "\n",
    "Then a one-hot encoding would look like this:\n",
    "\n",
    "```\n",
    "   Coat      Pants     Shoes     Jacket\n",
    "    1          0         0         0\n",
    "    0          1         0         0\n",
    "    0          0         1         0\n",
    "    0          0         0         1\n",
    "```\n",
    "\n",
    "And the neural network would look like this:\n",
    "\n",
    "<img src=\"figs/one_hot_input_ann.png\" alt=\"\" height=\"250\">\n",
    "\n",
    "The input of the network would be vectors like these:"
   ]
  },
  {
   "cell_type": "code",
   "execution_count": null,
   "metadata": {},
   "outputs": [],
   "source": [
    "inputs = [[0, 0, 1, 0], [0, 0, 1, 0], [0, 1, 0, 0]]"
   ]
  },
  {
   "cell_type": "markdown",
   "metadata": {},
   "source": [
    "This means that only one input node fires.\n",
    "\n",
    "One disadvantages of this approach is that the dimensionality of the input can explode. For ``128`` MIDI notes (without considering duration) we would require ``128``-dimensional vectors.\n",
    "\n",
    "The following code generates a ``DataFrame`` of one hot-encoded colors, where each row represents one color."
   ]
  },
  {
   "cell_type": "code",
   "execution_count": null,
   "metadata": {},
   "outputs": [],
   "source": [
    "# Sample data\n",
    "data = {'Color': ['Red', 'Blue', 'Green', 'Yellow', 'Red', 'Red' ]}\n",
    "df = pd.DataFrame(data)\n",
    "\n",
    "# One-hot encoding\n",
    "one_hot_encoded_df = pd.get_dummies(df, columns=['Color'])\n",
    "\n",
    "print(one_hot_encoded_df)"
   ]
  },
  {
   "cell_type": "markdown",
   "metadata": {},
   "source": [
    "In ``Tensorflow`` ``tf.one_hot(input, depth=num_classes)`` does the trick but here we have to privide a ``numpy`` array of natural numbers ranging from ``0`` to ``depth-1``. This basically means that we have to assign consecutive natural numbers starting from ``0`` to our categories beforehand."
   ]
  },
  {
   "cell_type": "code",
   "execution_count": null,
   "metadata": {},
   "outputs": [],
   "source": [
    "X = np.array([0, 0, 1, 3, 1, 6])\n",
    "\n",
    "X_one_hot = tf.one_hot(X, depth=7).numpy().astype('float32')\n",
    "X_one_hot"
   ]
  },
  {
   "cell_type": "markdown",
   "metadata": {
    "deletable": false,
    "editable": false
   },
   "source": [
    "<!-- BEGIN QUESTION -->\n",
    "\n",
    "<div class=\"alert alert-info\">\n",
    "\n",
    "**Instruction 3.1.1** Explain how a *one-hot* encoding of the following sequence of **words** might look like.\n",
    "\n",
    "\n",
    "``I`` ``like`` ``to`` ``eat`` ``and`` ``I`` ``like`` ``to`` ``play``\n",
    "\n",
    "How many dimensions are required if you only want to encode this sequence?\n",
    "\n",
    "</div>"
   ]
  },
  {
   "cell_type": "markdown",
   "metadata": {},
   "source": [
    "_Type your answer here, replacing this text._"
   ]
  },
  {
   "cell_type": "markdown",
   "metadata": {
    "deletable": false,
    "editable": false
   },
   "source": [
    "<!-- END QUESTION -->\n",
    "\n"
   ]
  }
 ],
 "metadata": {
  "kernelspec": {
   "display_name": "Python 3",
   "language": "python",
   "name": "python3"
  },
  "language_info": {
   "codemirror_mode": {
    "name": "ipython",
    "version": 3
   },
   "file_extension": ".py",
   "mimetype": "text/x-python",
   "name": "python",
   "nbconvert_exporter": "python",
   "pygments_lexer": "ipython3",
   "version": "3.12.3"
  },
  "otter": {
   "assignment_name": "3_1_one_hot_encoding"
  }
 },
 "nbformat": 4,
 "nbformat_minor": 2
}
