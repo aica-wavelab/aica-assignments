{
 "cells": [
  {
   "cell_type": "markdown",
   "metadata": {},
   "source": [
    "# Melody Generation\n",
    "\n",
    "+ **AI in Culture and Arts - Tech Crash Course**\n",
    "+ **Date:** 06.06.2024\n",
    "+ **Author:** B. Zönnchen"
   ]
  },
  {
   "cell_type": "markdown",
   "metadata": {},
   "source": [
    "<a href=\"https://colab.research.google.com/github/aica-wavelab/aica-assignments/blob/main/A4_melody_generation/1_working_with_music21.ipynb\" target=\"_parent\">\n",
    "  <img src=\"https://colab.research.google.com/assets/colab-badge.svg\" alt=\"Open In Colab\"/>\n",
    "</a>"
   ]
  },
  {
   "cell_type": "markdown",
   "metadata": {},
   "source": [
    "In the following we will create music sheets and sound. For those tasks ``Python`` requires external programs that you should install if you are working locally:\n",
    "\n",
    "1. [Musescore](https://musescore.org/de) (for generating sheets)\n",
    "2. [FluidSynth](https://www.fluidsynth.org/) (for generating sound, might be tricky to install)"
   ]
  },
  {
   "cell_type": "markdown",
   "metadata": {},
   "source": [
    "If you are working on google ``Colab`` you can evaluate the following to cells three install these applications:"
   ]
  },
  {
   "cell_type": "code",
   "execution_count": null,
   "metadata": {},
   "outputs": [],
   "source": [
    "#@title install dependencies to play sound\n",
    "%%capture\n",
    "print('installing fluidsynth...')\n",
    "!apt-get install fluidsynth > /dev/null\n",
    "!cp /usr/share/sounds/sf2/FluidR3_GM.sf2 ./font.sf2\n",
    "print('done!')"
   ]
  },
  {
   "cell_type": "code",
   "execution_count": null,
   "metadata": {},
   "outputs": [],
   "source": [
    "#@title install dependencies to show score in music notation\n",
    "%%capture\n",
    "print('installing musescore3...')\n",
    "!apt-get install musescore3 > /dev/null\n",
    "print('done!')"
   ]
  },
  {
   "cell_type": "code",
   "execution_count": null,
   "metadata": {},
   "outputs": [],
   "source": [
    "#@title clone git repository\n",
    "%%capture\n",
    "!rm -rf musical-interrogation\n",
    "!git clone https://github.com/aica-wavelab/aica-assignments.git\n",
    "%cd A4_melody_generation"
   ]
  },
  {
   "cell_type": "markdown",
   "metadata": {},
   "source": [
    "Furtheremore, for this notebook, we need the following ``Python`` packages and moduls. Execute the cell to install them:"
   ]
  },
  {
   "cell_type": "code",
   "execution_count": null,
   "metadata": {},
   "outputs": [],
   "source": [
    "%pip install music21\n",
    "%pip install pyfluidsynth\n",
    "%pip install otter-grader"
   ]
  },
  {
   "cell_type": "markdown",
   "metadata": {},
   "source": [
    "# 1. Working with ``music21``\n",
    "\n",
    "## 1.2 Musical Objects of Western Music Notation\n",
    "\n",
    "``music21`` was and still is developed at MIT and is a powerful ``Python`` package to help researchers, musicians and students to analyse, transcribe and create music. It is based on musical objects such as \n",
    "\n",
    "+ ``Note``: Represents a musical note (pitch, duration, ...)\n",
    "+ ``Chord``: Represents a chord, that is, multiple ``Note``s played together\n",
    "+ ``Stream``: An abstract representation of a sequence, i.e. stream of other musical objects (including other streams)\n",
    "+ ``Voice``: Rrepresents multiple overlapping musical ideas or layers in a single staff. A ``Voice`` is also a ``Stream``.\n",
    "+ ``Part``: Represents e.g. the ``Stream`` played by an instrument or the right / left hand on a piano. A ``Part`` is also a ``Stream``\n",
    "+ ``Score``: Represents a complete work of musical composition. A ``Score`` is also a ``Stream``\n",
    "+ ...\n",
    "\n",
    "Thus each of these objects represent different elements of a piece of music. Each object has its own properties and methods which allow you to manipulate and analyse music. There are other objects such as ``TimeSignature`` representing a measurement or the key of a ``Stream`` but we mainly focus on the above objects.\n",
    "\n",
    "To use ``music21`` we have to install it ``pip install music21`` (which we already did) and we have to import it into this notebook. Here we assign an alias ``m21`` to the package to reduce typing. We also import the objects we want to use to further reduce typing. Doing this we can write\n",
    "\n",
    "```python\n",
    "note = Note('C4')\n",
    "```\n",
    "\n",
    "instead of \n",
    "\n",
    "```python\n",
    "note = m21.note.Note('C4')\n",
    "```"
   ]
  },
  {
   "cell_type": "code",
   "execution_count": null,
   "metadata": {},
   "outputs": [],
   "source": [
    "# Initialize Otter\n",
    "import otter\n",
    "grader = otter.Notebook(\"1_working_with_music21.ipynb\")"
   ]
  },
  {
   "cell_type": "code",
   "execution_count": null,
   "metadata": {},
   "outputs": [],
   "source": [
    "import music21 as m21\n",
    "from music21.note import Note, Rest\n",
    "from music21.chord import Chord\n",
    "from music21.stream import Voice, Part, Score, Stream"
   ]
  },
  {
   "cell_type": "markdown",
   "metadata": {},
   "source": [
    "Let us create a single ``Note`` object:"
   ]
  },
  {
   "cell_type": "code",
   "execution_count": null,
   "metadata": {},
   "outputs": [],
   "source": [
    "n = Note(nameWithOctave='C4')"
   ]
  },
  {
   "cell_type": "markdown",
   "metadata": {},
   "source": [
    "Note that ``music21`` uses the English notation, therefore the German pitch class ``H`` is ``B`` instead.\n",
    "\n",
    "If you have **Musescore** installed you can display the object in musical notation:"
   ]
  },
  {
   "cell_type": "code",
   "execution_count": null,
   "metadata": {},
   "outputs": [],
   "source": [
    "n.show()"
   ]
  },
  {
   "cell_type": "markdown",
   "metadata": {},
   "source": [
    "We can also print information about the note, e.g. its name / pitch class and its octave. By default the duration is one quater note and the duration is also measured in number of quater notes."
   ]
  },
  {
   "cell_type": "code",
   "execution_count": null,
   "metadata": {},
   "outputs": [],
   "source": [
    "print(f'name / pitch class: {n.name}, octave: {n.octave}')\n",
    "print(f'pitch: {n.pitch}, frequency: {n.pitch.frequency}, duration: {n.duration.quarterLength}')\n",
    "print(f'fullname: {n.fullName}')"
   ]
  },
  {
   "cell_type": "markdown",
   "metadata": {},
   "source": [
    "# 1.2 MIDI Values"
   ]
  },
  {
   "cell_type": "markdown",
   "metadata": {},
   "source": [
    "The MIDI notes are natural numbers assign to piano keys. Going one semitone up increases this number by ``1``.\n",
    "We will explain later what this actually means. MIDI uses ``7`` bits for the values thus MIDI notes range from ``0`` to ``127``, that is, ``0000000`` to ``1111111`` in binary notation.\n",
    "\n",
    "For people without a musical background, MIDI notation is often easier to handle.\n",
    "\n",
    "In the following picture the numbers at the bottom are the MIDI notes. \n",
    "\n",
    "![Keyboard with MIDI notes](figs/piano-keys.png)"
   ]
  },
  {
   "cell_type": "markdown",
   "metadata": {},
   "source": [
    "You can also access the MIDI note of the note by calling ``n.pitch.midi``:"
   ]
  },
  {
   "cell_type": "code",
   "execution_count": null,
   "metadata": {},
   "outputs": [],
   "source": [
    "print(f'MIDI note {n.pitch.midi} is equivalent to {n.pitch}')"
   ]
  },
  {
   "cell_type": "markdown",
   "metadata": {},
   "source": [
    "To move 1 semitone up or down we can add or subtract ``1`` from the MIDI value. Note that ``music21`` will change all other properties of the ``Note`` accordingly."
   ]
  },
  {
   "cell_type": "code",
   "execution_count": null,
   "metadata": {},
   "outputs": [],
   "source": [
    "# this is equal to: n.pitch.midi = n.pitch.midi + 1 \n",
    "print(f'name / pitch class: {n.name}, MIDI note: {n.pitch.midi}')\n",
    "n.pitch.midi += 1\n",
    "print(f'name / pitch class: {n.name}, MIDI note: {n.pitch.midi}')"
   ]
  },
  {
   "cell_type": "markdown",
   "metadata": {
    "deletable": false,
    "editable": false
   },
   "source": [
    "<div class=\"alert alert-info\">\n",
    "\n",
    "**Instruction 1.1** The pitch of a ``Note`` has also a property ``frequency``. 'Compute' the frequencies of note ``C5`` and ``C6`` and compute their ratio in such a way that it is greater than ``1.0``. What do you observe?\n",
    "\n",
    "</div>"
   ]
  },
  {
   "cell_type": "code",
   "execution_count": null,
   "metadata": {
    "tags": []
   },
   "outputs": [],
   "source": [
    "c5_frequency = ...\n",
    "c6_frequency = ...\n",
    "ratio = ..."
   ]
  },
  {
   "cell_type": "code",
   "execution_count": null,
   "metadata": {
    "deletable": false,
    "editable": false
   },
   "outputs": [],
   "source": [
    "grader.check(\"q1\")"
   ]
  },
  {
   "cell_type": "markdown",
   "metadata": {},
   "source": [
    "# 1.3 Sticking Notes Together"
   ]
  },
  {
   "cell_type": "markdown",
   "metadata": {},
   "source": [
    "To create a melody you can use the ``Stream`` or ``Part`` object to ``append`` mutiple ``Note``s into it.\n",
    "A ``Stream`` object functions as an vertically and horizontally ordered container for other musical objects.\n",
    "Optionally, you can add a time signature (``m21.meter.TimeSignature``) to it, otherwise the default time signature is 4/4."
   ]
  },
  {
   "cell_type": "code",
   "execution_count": null,
   "metadata": {},
   "outputs": [],
   "source": [
    "melody = Stream()\n",
    "melody.append(m21.meter.TimeSignature('3/4'))\n",
    "melody.append(Note('C4'))\n",
    "melody.append(Note('D4'))\n",
    "melody.append(Note('E4'))\n",
    "melody.append(m21.meter.TimeSignature('4/4'))\n",
    "melody.append(Note('F4'))\n",
    "melody.append(Note('G4'))\n",
    "melody.append(Note('G4',type='half'))\n",
    "melody.append(Rest(1))\n",
    "melody.append(Note('F4'))\n",
    "melody.append(Note('G4'))"
   ]
  },
  {
   "cell_type": "code",
   "execution_count": null,
   "metadata": {},
   "outputs": [],
   "source": [
    "melody.show()"
   ]
  },
  {
   "cell_type": "markdown",
   "metadata": {
    "deletable": false,
    "editable": false
   },
   "source": [
    "<div class=\"alert alert-info\">\n",
    "\n",
    "**Instruction 1.2** Build a ``Stream`` called ``chromatic_stream`` which consists of the *chromatic scale* (12 notes).\n",
    "\n",
    "</div>"
   ]
  },
  {
   "cell_type": "code",
   "execution_count": null,
   "metadata": {
    "tags": []
   },
   "outputs": [],
   "source": [
    "chromatic_stream = Stream()\n",
    "..."
   ]
  },
  {
   "cell_type": "code",
   "execution_count": null,
   "metadata": {
    "deletable": false,
    "editable": false
   },
   "outputs": [],
   "source": [
    "grader.check(\"q2\")"
   ]
  },
  {
   "cell_type": "markdown",
   "metadata": {},
   "source": [
    "Let us now build a complete ``Score``"
   ]
  },
  {
   "cell_type": "code",
   "execution_count": null,
   "metadata": {},
   "outputs": [],
   "source": [
    "# Create a score object to hold all the musical parts and measures\n",
    "score = Score()\n",
    "\n",
    "# Create a part object to represent a single intrumental or vocal part\n",
    "part = Part()\n",
    "\n",
    "# Create a part object to represent a bass part\n",
    "bass_line = Part()\n",
    "\n",
    "# Create two voice objects to represent the melody and the harmony parts\n",
    "voice1 = Voice()\n",
    "voice2 = Voice()\n",
    "\n",
    "# Define a list of notenames that make up a C major scale\n",
    "notes = [\"C4\", \"D4\", \"E4\", \"F4\", \"G4\", \"A4\", \"B4\", \"C5\"]\n",
    "\n",
    "# Create a note object for each note and apped it to voice1\n",
    "for notename in notes:\n",
    "  melody_note = Note(notename)\n",
    "  voice1.append(melody_note)\n",
    "\n",
    "  # Create a harmony note for each melody note and append it to voice2\n",
    "  harmony_note = melody_note.transpose(-8)\n",
    "  voice2.append(harmony_note)\n",
    "\n",
    "  # Create a bass note and append it to the bass voice\n",
    "  bass_note = m21.note.Note(notename)\n",
    "  bass_note.octave -= -2\n",
    "  bass_line.append(bass_note)\n",
    "\n",
    "# Append the voice objects to their relevant parts\n",
    "part.append([voice1, voice2])\n",
    "\n",
    "# Insert the part objects into the score object\n",
    "score.insert(0, part)\n",
    "score.insert(0, bass_line)\n",
    "\n",
    "score.show()"
   ]
  },
  {
   "cell_type": "markdown",
   "metadata": {},
   "source": [
    "We can transpose a whole ``Score`` into a different key. We are currently in the key of C major. Let's change it to D major."
   ]
  },
  {
   "cell_type": "code",
   "execution_count": null,
   "metadata": {},
   "outputs": [],
   "source": [
    "score_fsharp = score.transpose(m21.interval.Interval(m21.pitch.Pitch('C'), m21.pitch.Pitch('D')))\n",
    "score_fsharp.show()"
   ]
  },
  {
   "cell_type": "markdown",
   "metadata": {},
   "source": [
    "To iterate over a score we can use ``.recursive()`` and we can filter using ``notesAndRests`` to only iterate over ``Note``s, ``Chord``s and ``Rest``s."
   ]
  },
  {
   "cell_type": "code",
   "execution_count": null,
   "metadata": {},
   "outputs": [],
   "source": [
    "for event in score_fsharp.recurse().notesAndRests:\n",
    "  print(event)"
   ]
  },
  {
   "cell_type": "markdown",
   "metadata": {},
   "source": [
    "We can play the almost any musical object calling ``.show('midi')`` on it:"
   ]
  },
  {
   "cell_type": "code",
   "execution_count": null,
   "metadata": {},
   "outputs": [],
   "source": [
    "score.show('midi')"
   ]
  },
  {
   "cell_type": "markdown",
   "metadata": {
    "deletable": false,
    "editable": false
   },
   "source": [
    "<div class=\"alert alert-info\">\n",
    "\n",
    "**Instruction 1.3**: Construct a ``music21`` ``Score`` called ``my_score`` of an existing melody of your choice. The ``Score`` should consists of one ``Part`` containing the melody.\n",
    "\n",
    "</div>"
   ]
  },
  {
   "cell_type": "code",
   "execution_count": null,
   "metadata": {
    "tags": []
   },
   "outputs": [],
   "source": [
    "my_score = Score()\n",
    "\n",
    "..."
   ]
  },
  {
   "cell_type": "code",
   "execution_count": null,
   "metadata": {
    "deletable": false,
    "editable": false
   },
   "outputs": [],
   "source": [
    "grader.check(\"q3\")"
   ]
  },
  {
   "cell_type": "markdown",
   "metadata": {},
   "source": [
    "# 1.4 Using a Corpus"
   ]
  },
  {
   "cell_type": "markdown",
   "metadata": {},
   "source": [
    "``music21`` comes with a large ``corpus`` of freely distributable music. To get access to the corpus, you can import it into this notebook:"
   ]
  },
  {
   "cell_type": "code",
   "execution_count": null,
   "metadata": {},
   "outputs": [],
   "source": [
    "from music21 import corpus"
   ]
  },
  {
   "cell_type": "markdown",
   "metadata": {},
   "source": [
    "You can use the `` `` method to get access to works of a specific composer.\n",
    "The following returns a list of file paths:"
   ]
  },
  {
   "cell_type": "code",
   "execution_count": null,
   "metadata": {},
   "outputs": [],
   "source": [
    "# Get all works composed by bach\n",
    "bach_works = corpus.getComposer('bach')\n",
    "print(bach_works)"
   ]
  },
  {
   "cell_type": "markdown",
   "metadata": {},
   "source": [
    "If the object is not a ``Stream`` try to convert it into such an object using the ``converter`` of ``music21``.\n",
    "It lets you also convert files in many different formats (such as ``.mid``, ``mxl``, or ``.krn``)!\n",
    "Call the ``.parse()`` method of the ``converter``:"
   ]
  },
  {
   "cell_type": "code",
   "execution_count": null,
   "metadata": {},
   "outputs": [],
   "source": [
    "back_score = m21.converter.parse(bach_works[0])"
   ]
  },
  {
   "cell_type": "code",
   "execution_count": null,
   "metadata": {},
   "outputs": [],
   "source": [
    "back_score.show()"
   ]
  },
  {
   "cell_type": "code",
   "execution_count": null,
   "metadata": {},
   "outputs": [],
   "source": [
    "# Note that our synthesizer might have troubles playing multiple instruments\n",
    "back_score.show('midi')"
   ]
  },
  {
   "cell_type": "markdown",
   "metadata": {},
   "source": [
    "We can also search for specific pieces. This can take some time and will return a list of ``MetadataBundle`` which offer a ``.parse()`` method to get the respective ``Score``."
   ]
  },
  {
   "cell_type": "code",
   "execution_count": null,
   "metadata": {},
   "outputs": [],
   "source": [
    "# This returns not a list of filenames but a MetadataBundle\n",
    "works = corpus.search(composer='bach', timeSignature='3/4')\n",
    "print(works)\n",
    "# You can transform it into a Stream object using .parse\n",
    "bach_work = works[0].parse()\n",
    "bach_work.show()"
   ]
  },
  {
   "cell_type": "markdown",
   "metadata": {
    "deletable": false,
    "editable": false
   },
   "source": [
    "<div class=\"alert alert-info\">\n",
    "\n",
    "**Instruction 1.4**: Search for all pieces in the ``corpus`` of ``music21`` that only use one ``Part`` (e.g. one instrument). **Hint:** You may want to look at the [documentation](https://web.mit.edu/music21/doc/usersGuide/usersGuide_11_corpusSearching.html)\n",
    "\n",
    "</div>"
   ]
  },
  {
   "cell_type": "code",
   "execution_count": null,
   "metadata": {
    "tags": []
   },
   "outputs": [],
   "source": [
    "one_part_works = ..."
   ]
  },
  {
   "cell_type": "markdown",
   "metadata": {},
   "source": [
    "# 1.5 Parsing Files"
   ]
  },
  {
   "cell_type": "markdown",
   "metadata": {},
   "source": [
    "As already mentioned, you can also ``parse`` an external MIDI file (``mid``) into a ``Stream`` object.\n",
    "You find some MIDI files in the ``data`` folder.\n",
    "However, often MIDI files only offer incomplete information and sometimes consist of errors. \n",
    "The quality of the file and inforamtion depends on the author, extraction method or software that generated it."
   ]
  },
  {
   "cell_type": "code",
   "execution_count": null,
   "metadata": {},
   "outputs": [],
   "source": [
    "parsed_work = m21.converter.parse('data/Minuet_in_G.mid')"
   ]
  },
  {
   "cell_type": "code",
   "execution_count": null,
   "metadata": {},
   "outputs": [],
   "source": [
    "parsed_work.show('midi')"
   ]
  },
  {
   "cell_type": "markdown",
   "metadata": {
    "deletable": false,
    "editable": false
   },
   "source": [
    "<div class=\"alert alert-info\">\n",
    "\n",
    "**Instruction 1.5**: Download a MIDI file of your choice and analyse it using ``music21``. Count the number of overall notes the piece consists of. Count each individual pitch class, that is, ``A, A#, B C, C#, D, D#, E, F, F#, G, G#``. \n",
    "\n",
    "**Note** that all black keys have two names, e.g. C-sharp (``C#``) is equal to D-flat (``D-``).\n",
    "\n",
    " **Hint:** To test if a variable ``a`` is of type (or subtype) ``Note`` you can use ``isinstance(a, Note)``.\n",
    "\n",
    "</div>"
   ]
  },
  {
   "cell_type": "code",
   "execution_count": null,
   "metadata": {
    "tags": []
   },
   "outputs": [],
   "source": [
    "\n",
    "midi_score = ...\n",
    "\n",
    "note_counts = dict()\n",
    "\n",
    "count = 0\n",
    "\n",
    "...\n",
    "\n",
    "print(f'There are {count} notes')\n",
    "print(note_counts)"
   ]
  },
  {
   "cell_type": "markdown",
   "metadata": {
    "deletable": false,
    "editable": false
   },
   "source": [
    "---\n",
    "\n",
    "To double-check your work, the cell below will rerun all of the autograder tests."
   ]
  },
  {
   "cell_type": "code",
   "execution_count": null,
   "metadata": {
    "deletable": false,
    "editable": false
   },
   "outputs": [],
   "source": [
    "grader.check_all()"
   ]
  },
  {
   "cell_type": "markdown",
   "metadata": {
    "deletable": false,
    "editable": false
   },
   "source": [
    "## Submission\n",
    "\n",
    "Make sure you have run all cells in your notebook in order before running the cell below, so that all images/graphs appear in the output. The cell below will generate a zip file for you to submit."
   ]
  },
  {
   "cell_type": "code",
   "execution_count": null,
   "metadata": {
    "deletable": false,
    "editable": false
   },
   "outputs": [],
   "source": [
    "grader.export(force_save=True, run_tests=True)"
   ]
  },
  {
   "cell_type": "markdown",
   "metadata": {},
   "source": [
    " "
   ]
  }
 ],
 "metadata": {
  "kernelspec": {
   "display_name": "torch-m1",
   "language": "python",
   "name": "python3"
  },
  "language_info": {
   "codemirror_mode": {
    "name": "ipython",
    "version": 3
   },
   "file_extension": ".py",
   "mimetype": "text/x-python",
   "name": "python",
   "nbconvert_exporter": "python",
   "pygments_lexer": "ipython3",
   "version": "3.12.3"
  },
  "otter": {
   "OK_FORMAT": false,
   "assignment_name": "1_working_with_music21",
   "tests": {
    "q1": "from otter.test_files import test_case\n\nOK_FORMAT = False\n\nname = \"q1\"\npoints = None\n\n@test_case(points=None, hidden=False, \n    success_message=\"correct!\")\ndef test_var_c5_frequency(env):\n  m21 = env['m21']\n  assert 'c5_frequency' in env, 'variable c5_frequency is not initialized'\n  assert abs(env['c5_frequency'] - m21.note.Note(nameWithOctave='C5').pitch.frequency) < 0.01, 'wrong value for c5_frequency'\n    \n@test_case(points=None, hidden=False, \n    success_message=\"correct!\")\ndef test_var_c6_frequency(env):\n  m21 = env['m21']\n  assert 'c6_frequency' in env, 'variable c6_frequency is not initialized'\n  assert abs(env['c6_frequency'] - m21.note.Note(nameWithOctave='C6').pitch.frequency) < 0.01, 'wrong value for c6_frequency'\n    \n@test_case(points=None, hidden=False, \n    success_message=\"correct!\")\ndef test_var_ratio(env):\n  assert 'ratio' in env, 'variable ratio is not initialized'\n  assert abs(env['ratio']-2.0) < 0.01, 'wrong value for ratio'\n    \n",
    "q2": "from otter.test_files import test_case\n\nOK_FORMAT = False\n\nname = \"q2\"\npoints = None\n\n@test_case(points=None, hidden=False, \n    success_message=\"correct!\")\ndef test_var_chromatic_stream(env):\n  m21 = env['m21']\n  assert 'chromatic_stream' in env, 'variable chromatic_stream is not initialized'\n  pitch_classes = [\"C\", \"C#\", \"D\", \"D#\", \"E\", \"F\", \"F#\", \"G\", \"G#\", \"A\", \"A#\", \"B\"]\n  pitch_classes.reverse()\n  for note in env['chromatic_stream']:\n    expected = pitch_classes.pop()\n    n = m21.note.Note(expected)\n    assert abs((note.pitch.midi%12) - (n.pitch.midi%12)) < 0.01, f'{note.name} is not equal to {expected}'\n\n    \n",
    "q3": "from otter.test_files import test_case\n\nOK_FORMAT = False\n\nname = \"q3\"\npoints = None\n\n@test_case(points=None, hidden=False, \n    success_message=\"correct!\")\ndef test_var_my_score(env):\n  m21 = env['m21']\n  assert 'my_score' in env, 'variable my_score is not initialized'\n  score = env['my_score']\n  assert isinstance(score, m21.stream.Score), 'my_score is not of type Score'\n  all_elements = [e for e in score.recurse()]\n  assert isinstance(all_elements[0], m21.stream.Part), 'Your Score does not consist of a Part'\n  notes_and_rests = [e for e in score.recurse().notesAndRests]\n  assert all([isinstance(e, (m21.note.Note, m21.note.Rest)) for e in notes_and_rests]), 'Not all elements of your part are Notes or Rests'\n\n"
   }
  }
 },
 "nbformat": 4,
 "nbformat_minor": 2
}
