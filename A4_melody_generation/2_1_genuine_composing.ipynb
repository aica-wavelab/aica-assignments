{
 "cells": [
  {
   "cell_type": "markdown",
   "metadata": {},
   "source": [
    "# Melody Generation\n",
    "\n",
    "+ **AI in Culture and Arts - Tech Crash Course**\n",
    "+ **Date:** 06.06.2024\n",
    "+ **Author:** B. Zönnchen"
   ]
  },
  {
   "cell_type": "markdown",
   "metadata": {},
   "source": [
    "<a href=\"https://colab.research.google.com/github/aica-wavelab/aica-assignments/blob/main/A4_melody_generation/2_1_genuine_composing.ipynb\" target=\"_parent\">\n",
    "  <img src=\"https://colab.research.google.com/assets/colab-badge.svg\" alt=\"Open In Colab\"/>\n",
    "</a>"
   ]
  },
  {
   "cell_type": "markdown",
   "metadata": {},
   "source": [
    "In the following we will create music sheets and sound. For those tasks ``Python`` requires external programs that you should install if you are working locally:\n",
    "\n",
    "1. [Musescore](https://musescore.org/de) (for generating sheets)\n",
    "2. [FluidSynth](https://www.fluidsynth.org/) (for generating sound)"
   ]
  },
  {
   "cell_type": "markdown",
   "metadata": {},
   "source": [
    "If you are working on google ``Colab`` you can evaluate the following three cells to install these applications:"
   ]
  },
  {
   "cell_type": "code",
   "execution_count": null,
   "metadata": {},
   "outputs": [],
   "source": [
    "#@title install dependencies to play sound\n",
    "%%capture\n",
    "print('installing fluidsynth...')\n",
    "!apt-get install fluidsynth > /dev/null\n",
    "!cp /usr/share/sounds/sf2/FluidR3_GM.sf2 ./font.sf2\n",
    "print('done!')"
   ]
  },
  {
   "cell_type": "code",
   "execution_count": null,
   "metadata": {},
   "outputs": [],
   "source": [
    "#@title install dependencies to show score in music notation\n",
    "%%capture\n",
    "print('installing musescore3...')\n",
    "!apt-get install musescore3 > /dev/null\n",
    "print('done!')"
   ]
  },
  {
   "cell_type": "code",
   "execution_count": null,
   "metadata": {},
   "outputs": [],
   "source": [
    "#@title clone git repository\n",
    "%%capture\n",
    "!rm -rf musical-interrogation\n",
    "!git clone https://github.com/aica-wavelab/aica-assignments.git\n",
    "%cd A4_melody_generation"
   ]
  },
  {
   "cell_type": "markdown",
   "metadata": {},
   "source": [
    "Furtheremore, for this notebook, we need the following ``Python`` packages and moduls. Execute the cell to install them:"
   ]
  },
  {
   "cell_type": "code",
   "execution_count": null,
   "metadata": {},
   "outputs": [],
   "source": [
    "%pip install music21\n",
    "%pip install pyfluidsynth\n",
    "%pip install otter-grader"
   ]
  },
  {
   "cell_type": "code",
   "execution_count": null,
   "metadata": {},
   "outputs": [],
   "source": [
    "# Initialize Otter\n",
    "import otter\n",
    "grader = otter.Notebook(\"2_1_genuine_composing.ipynb\")"
   ]
  },
  {
   "cell_type": "code",
   "execution_count": null,
   "metadata": {},
   "outputs": [],
   "source": [
    "import random\n",
    "import music21 as m21\n",
    "from music21.note import Note, Rest\n",
    "from music21.chord import Chord\n",
    "from music21.stream import Part, Score"
   ]
  },
  {
   "cell_type": "markdown",
   "metadata": {},
   "source": [
    "# 2 Simple Melody Generation"
   ]
  },
  {
   "cell_type": "markdown",
   "metadata": {},
   "source": [
    "## 2.2 Genuine Composition"
   ]
  },
  {
   "cell_type": "markdown",
   "metadata": {},
   "source": [
    "We have now the ability to create musical (symolical) pieces via code. In principle we can compose music algorithmically.\n",
    "\n",
    "### 2.1 Pure Randomness"
   ]
  },
  {
   "cell_type": "markdown",
   "metadata": {},
   "source": [
    "We can create a function which generates a purely random ``Score`` without considering any music thery with the exception that we use notes:"
   ]
  },
  {
   "cell_type": "code",
   "execution_count": null,
   "metadata": {},
   "outputs": [],
   "source": [
    "def random_score(length=10, lower=m21.note.Note('C3'), upper=m21.note.Note('C6'), q=0.1):\n",
    "  score = Score()\n",
    "  part = Part()\n",
    "\n",
    "  for _ in range(length):\n",
    "    \n",
    "    # with probability q there will be a rest\n",
    "    if random.random()<=q:\n",
    "      part.append(Rest())\n",
    "    else:\n",
    "      midi = random.randint(lower.pitch.midi, upper.pitch.midi)\n",
    "      note = Note()\n",
    "      note.pitch.midi = midi\n",
    "      part.append(note)\n",
    "  score.insert(0, part)\n",
    "  return score"
   ]
  },
  {
   "cell_type": "markdown",
   "metadata": {},
   "source": [
    "Let us listen to the result. It sounds quite unmusical and random."
   ]
  },
  {
   "cell_type": "code",
   "execution_count": null,
   "metadata": {},
   "outputs": [],
   "source": [
    "score = random_score(30)\n",
    "score.show('midi')"
   ]
  },
  {
   "cell_type": "markdown",
   "metadata": {
    "deletable": false,
    "editable": false
   },
   "source": [
    "<div class=\"alert alert-info\">\n",
    "\n",
    "**Instruction 2.1.1** Write a function ``random_cmajor_score(length, q=0.1)`` that generates a random ``Score`` (a melody) in the key of C major of ``length`` using only one octave. ``length`` determines the number elements (``Rest``s or ``Note``s) of the ``Score``. You can use ``random.randint(a, b)`` to generate random whole numbers (i.e. integers). You might wanna pick certain durations and you might want to include ``Rest``s. ``q`` can be the probability that a ``Rest`` will be 'played'. Test your result, that is, generate a piece of length ``n`` and play it back.\n",
    "\n",
    "</div>"
   ]
  },
  {
   "cell_type": "code",
   "execution_count": null,
   "metadata": {
    "tags": []
   },
   "outputs": [],
   "source": [
    "\n",
    "def random_cmajor_score(length=10, q=0.1):\n",
    "  score = Score()\n",
    "  ...\n",
    "  return score\n",
    "\n",
    "score = random_cmajor_score(20)\n",
    "score.show('midi')\n",
    "score.recurse().notesAndRests"
   ]
  },
  {
   "cell_type": "code",
   "execution_count": null,
   "metadata": {
    "deletable": false,
    "editable": false
   },
   "outputs": [],
   "source": [
    "grader.check(\"q21\")"
   ]
  },
  {
   "cell_type": "markdown",
   "metadata": {},
   "source": [
    "### 2.2 Exploiting Music Theory\n",
    "\n",
    "A melody that is generated purely randomly without any considerations to music theory doesn't sound great. It sounds random. Therefore, let us talk a little bit about music theory.\n",
    "\n",
    "We say that two notes form an interval and it is this interval we have to look at to see if two notes are rather *consonant* or *disonant*. The pitch is defined by a freuency which measures how often a certain pattern is repeated. For example, the pitch ``C4`` represents (depending on the how an instrument is tuned) a frequency equal to"
   ]
  },
  {
   "cell_type": "code",
   "execution_count": null,
   "metadata": {},
   "outputs": [],
   "source": [
    "Note(\"C4\").pitch.frequency"
   ]
  },
  {
   "cell_type": "markdown",
   "metadata": {},
   "source": [
    "Therefore, if something oscillates with a frequency of 261.625 Hz (repetitions per second), then we perceive a ``C4``. This perception is of course subjective. Doubling the frequency leads to a pitch one octave higher:"
   ]
  },
  {
   "cell_type": "code",
   "execution_count": null,
   "metadata": {},
   "outputs": [],
   "source": [
    "print(Note(\"C5\").pitch.frequency) # this is roughly Note(\"C4\").pitch.frequency * 2\n",
    "print(Note(\"C4\").pitch.frequency * 2) "
   ]
  },
  {
   "cell_type": "markdown",
   "metadata": {},
   "source": [
    "This phenomenon, that is, the octave relationship is a natural phenomenon that has been referred to as the *basic miracle of music*. Its use is common in most musical systems.\n",
    "\n",
    "If we consider two frequencies, we get some interference since they form a new pattern that repeats depending on both frequencies. For example if our first frequency is equal to $f_1$ and our second one is equal to \n",
    "\n",
    "$$f_2 = f_1 \\cdot 2$$\n",
    "\n",
    "then their ratio is simple:\n",
    "\n",
    "$$\\frac{f_1}{f_2} = \\frac{1}{2}.$$\n",
    "\n",
    "In this case, if both pattern start at the same time, the second one repeats the second time when the first one finishes the first time. Furthermore, there is a new repetition determined by the second pattern. We say that $f_2$ is a *harmonic* of its *fundamental frequency* $f_1$. In fact, hitting a string generates the harmonic series:\n",
    "\n",
    "$$\\sum_{k=0}^N f_1 \\cdot 2^k.$$\n",
    "\n",
    "Therefore, playing ``C4`` and ``C5`` together or in sequence sounds consonant and rather pleasing (but also boring).\n",
    "Let us play ``C4`` and ``C5`` together. We can use the ``Chord`` object to do this:"
   ]
  },
  {
   "cell_type": "code",
   "execution_count": null,
   "metadata": {},
   "outputs": [],
   "source": [
    "chord = Chord(['C4', 'C5'])\n",
    "# this interval sounds very consonant\n",
    "chord.show('midi')"
   ]
  },
  {
   "cell_type": "markdown",
   "metadata": {},
   "source": [
    "On the other hand, there are intervals that sound disonant. Consider ``C4`` and the pitch 6 semitones above, that is, ``F#`` or ``G-``. This interval is sometimes called *the Devil's Tritone* because it is very disonant.\n",
    "Let's have a look at the respective frequencies:"
   ]
  },
  {
   "cell_type": "code",
   "execution_count": null,
   "metadata": {},
   "outputs": [],
   "source": [
    "print(f'C4 frequncy: {Note(\"C4\").pitch.frequency}') # this is roughly Note(\"C4\").pitch.frequency * 2\n",
    "print(f'Gb frequncy: {Note(\"G4-\").pitch.frequency}') \n",
    "print(f'ratio: {Note(\"G4-\").pitch.frequency/Note(\"C4\").pitch.frequency}')\n",
    "print(f'square root of 2 = {2**0.5}')"
   ]
  },
  {
   "cell_type": "markdown",
   "metadata": {},
   "source": [
    "The ratio is approximately ``1.414`` which is close to $\\sqrt{2}$ which is an irrational number! Therefore, the resulting pattern emerging when playing both notes repeats hardly ever.\n",
    "Thus we perceive it as *dissonant*."
   ]
  },
  {
   "cell_type": "code",
   "execution_count": null,
   "metadata": {},
   "outputs": [],
   "source": [
    "chord = Chord(['C4', 'G4-'])\n",
    "# this interval sounds very dissonant\n",
    "chord.show('midi')"
   ]
  },
  {
   "cell_type": "markdown",
   "metadata": {},
   "source": [
    "However, our ears are not that perfect and if a ratio is close to a simple ratio, we still perceive it as *consonant*. In fact, most Western pianos follow the *twelve-tone equal temperament tuning* which was first introduced in China in 1584. \n",
    "\n",
    "There are ``12`` different tones in each octave and the octave interval is ``2``. To be able to play a piece of music in multiple keys or to make it easier to change keys during a piece, the *twelve-tone equal temperament tuning* divides the octave evenly! Therefore, in this system, each interval of two consecutive notes e.g. ``E4`` and ``F4`` or ``F4`` and ``F4#`` is equal. Thus all these intervals have to be (or very close to)\n",
    "\n",
    "$$2^{\\frac{1}{12}} = \\sqrt[12]{2}$$\n",
    "\n",
    "because\n",
    "\n",
    "$$2^{\\frac{1}{12} \\cdot 12} = 2.$$\n",
    "\n",
    "However, $2^{\\frac{1}{12}}$ is an irrational number! Therefore, most inverals are irrational as well. For example, we the interval formed by ``C4`` ($f_1$) and ``F4`` ($f_2$) to be very *consonant*. This interval is called the *perfect fifth*. It spans 7 semitones thus\n",
    "\n",
    "$$f_2 = f_1 \\cdot 2^{\\frac{1}{12} \\cdot 7} = 2^{\\frac{7}{12}} = 1.4930...$$\n",
    "\n",
    "But this number is close to 1.5 and therefore we perceive it as very *consonant*. On the other hand, $\\sqrt{2}$ is close to 64/45 which is not a simple ratio, therefore we perceive it as *dissonant*.\n",
    "\n",
    "In summary, adding a semitone to a note is equal to multiplying its frequency by $2^\\frac{1}{12}$:"
   ]
  },
  {
   "cell_type": "code",
   "execution_count": null,
   "metadata": {},
   "outputs": [],
   "source": [
    "note =Note('C4')\n",
    "frequency = note.pitch.frequency\n",
    "print(f'frequency of C4 {note.pitch.frequency}')\n",
    "\n",
    "note.pitch.midi += 1\n",
    "print(f'frequency of C4 + 1 semitone {note.pitch.frequency}')\n",
    "print(f'frequency times 2 to the power of 1/12: {frequency * (2**(1/12))}')"
   ]
  },
  {
   "cell_type": "markdown",
   "metadata": {},
   "source": [
    "Very generally speaking, many regard the interval of ``0``, ``12``, ``7``, ``5`` to be very *consonant*."
   ]
  },
  {
   "cell_type": "code",
   "execution_count": null,
   "metadata": {},
   "outputs": [],
   "source": [
    "tonic_note = Note('C4')\n",
    "\n",
    "octave_above = Note('C4')\n",
    "octave_above.pitch.midi += 12\n",
    "\n",
    "perfect_fifth_above = Note('C4')\n",
    "perfect_fifth_above.pitch.midi += 7\n",
    "\n",
    "perfect_fourth_above = Note('C4')\n",
    "perfect_fourth_above.pitch.midi += 5\n",
    "\n",
    "octave = Chord([tonic_note, octave_above])\n",
    "perfect_fifth = Chord([tonic_note, perfect_fifth_above])\n",
    "perfect_fourth = Chord([tonic_note, perfect_fourth_above])\n",
    "\n",
    "# this interval sounds very dissonant\n",
    "part = Part()\n",
    "part.append([octave, perfect_fifth, perfect_fourth])\n",
    "part.show('midi')"
   ]
  },
  {
   "cell_type": "markdown",
   "metadata": {},
   "source": [
    "Often chords are inverted, meaning we can shift notes within a chord up and down one or even multiple octaves and they still sound pleasing if they are consonant in the root position, because the ratio will be multiplied or divided by ``2`` which will result in a simple ratio if the ratio was simple before."
   ]
  },
  {
   "cell_type": "code",
   "execution_count": null,
   "metadata": {},
   "outputs": [],
   "source": [
    "tonic_note = Note('C4')\n",
    "\n",
    "octave_above = Note('C4')\n",
    "octave_above.pitch.midi += 12 + 12\n",
    "\n",
    "perfect_fifth_above = Note('C4')\n",
    "perfect_fifth_above.pitch.midi += 7 + 12\n",
    "\n",
    "perfect_fourth_above = Note('C4')\n",
    "perfect_fourth_above.pitch.midi += 5 + 12\n",
    "\n",
    "octave = Chord([tonic_note, octave_above])\n",
    "perfect_fifth = Chord([tonic_note, perfect_fifth_above])\n",
    "perfect_fourth = Chord([tonic_note, perfect_fourth_above])\n",
    "\n",
    "# this interval sounds very dissonant\n",
    "part = Part()\n",
    "part.append([octave, perfect_fifth, perfect_fourth])\n",
    "part.show('midi')"
   ]
  },
  {
   "cell_type": "markdown",
   "metadata": {
    "deletable": false,
    "editable": false
   },
   "source": [
    "<div class=\"alert alert-info\">\n",
    "\n",
    "**Instruction 2.1.2** Write a function ``semi_random_score(note, length)`` that generates a random ``Score`` (a melody) in the key of C major of length ``length`` but this time integrate some music theory knowledge and use only certain intervals.\n",
    "\n",
    "</div>"
   ]
  },
  {
   "cell_type": "code",
   "execution_count": null,
   "metadata": {
    "tags": []
   },
   "outputs": [],
   "source": [
    "def semi_random_score(tonic_note=m21.note.Note('C4'), length=10):\n",
    "  score = Score()\n",
    "  ...\n",
    "  return score\n",
    "\n",
    "score = semi_random_score(tonic_note=m21.note.Note('C4'), length=20)\n",
    "score.show('midi')\n"
   ]
  },
  {
   "cell_type": "markdown",
   "metadata": {},
   "source": [
    "You just managed to generate a **genuine composition**! Next we want to use **style imitation** to compose new melodies using *machine learning (ML)*. Suppose you have a corpus of melodies, that is, monophonic pieces and you want to generate new pieces that imitate the style of the given corpus. One very simple approach is to compute the frequency of appearance of events which are defined by any possible consecutive pairs of notes (including ``Rest``s) appearing in the pieces of the corpus."
   ]
  },
  {
   "cell_type": "markdown",
   "metadata": {},
   "source": []
  },
  {
   "cell_type": "markdown",
   "metadata": {
    "deletable": false,
    "editable": false
   },
   "source": [
    "---\n",
    "\n",
    "To double-check your work, the cell below will rerun all of the autograder tests."
   ]
  },
  {
   "cell_type": "code",
   "execution_count": null,
   "metadata": {
    "deletable": false,
    "editable": false
   },
   "outputs": [],
   "source": [
    "grader.check_all()"
   ]
  },
  {
   "cell_type": "markdown",
   "metadata": {
    "deletable": false,
    "editable": false
   },
   "source": [
    "## Submission\n",
    "\n",
    "Make sure you have run all cells in your notebook in order before running the cell below, so that all images/graphs appear in the output. The cell below will generate a zip file for you to submit. **Please save before exporting!**"
   ]
  },
  {
   "cell_type": "code",
   "execution_count": null,
   "metadata": {
    "deletable": false,
    "editable": false
   },
   "outputs": [],
   "source": [
    "# Save your notebook first, then run this cell to export your submission.\n",
    "grader.export(run_tests=True)"
   ]
  },
  {
   "cell_type": "markdown",
   "metadata": {},
   "source": [
    " "
   ]
  }
 ],
 "metadata": {
  "kernelspec": {
   "display_name": "base",
   "language": "python",
   "name": "python3"
  },
  "language_info": {
   "codemirror_mode": {
    "name": "ipython",
    "version": 3
   },
   "file_extension": ".py",
   "mimetype": "text/x-python",
   "name": "python",
   "nbconvert_exporter": "python",
   "pygments_lexer": "ipython3",
   "version": "3.12.3"
  },
  "otter": {
   "OK_FORMAT": false,
   "assignment_name": "2_1_genuine_composing",
   "tests": {
    "q21": "from otter.test_files import test_case\n\nOK_FORMAT = False\n\nname = \"q21\"\npoints = None\n\n@test_case(points=None, hidden=False, \n    success_message=\"correct!\")\ndef test_random_cmajor_score(env):\n  notes = [\"C\", \"D\", \"E\", \"F\", \"G\", \"A\", \"B\"]\n  m21 = env['m21']\n  random_cmajor_score = env['random_cmajor_score']\n  score = random_cmajor_score(10)\n\n  assert all([isinstance(e, m21.note.Rest) or e.name in notes for e in score.recurse().notesAndRests]), 'Invalid score was generated by random_cmajor_score'\n    \n"
   }
  }
 },
 "nbformat": 4,
 "nbformat_minor": 2
}
