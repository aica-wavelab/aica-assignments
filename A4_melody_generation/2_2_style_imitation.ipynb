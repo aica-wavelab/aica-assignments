{
 "cells": [
  {
   "cell_type": "markdown",
   "metadata": {},
   "source": [
    "# Melody Generation\n",
    "\n",
    "+ **AI in Culture and Arts - Tech Crash Course**\n",
    "+ **Date:** 06.06.2024\n",
    "+ **Author:** B. Zönnchen"
   ]
  },
  {
   "cell_type": "markdown",
   "metadata": {},
   "source": [
    "<a href=\"https://colab.research.google.com/github/aica-wavelab/aica-assignments/blob/main/A4_melody_generation/2_2_style_imitation.ipynb\" target=\"_parent\">\n",
    "  <img src=\"https://colab.research.google.com/assets/colab-badge.svg\" alt=\"Open In Colab\"/>\n",
    "</a>"
   ]
  },
  {
   "cell_type": "markdown",
   "metadata": {},
   "source": [
    "In the following we will create music sheets and sound. For those tasks ``Python`` requires external programs that you should install if you are working locally:\n",
    "\n",
    "1. [Musescore](https://musescore.org/de) (for generating sheets)\n",
    "2. [FluidSynth](https://www.fluidsynth.org/) (for generating sound)"
   ]
  },
  {
   "cell_type": "markdown",
   "metadata": {},
   "source": [
    "If you are working on google ``Colab`` you can evaluate the following three cells to install these applications:"
   ]
  },
  {
   "cell_type": "code",
   "execution_count": null,
   "metadata": {},
   "outputs": [],
   "source": [
    "#@title install dependencies to play sound\n",
    "%%capture\n",
    "print('installing fluidsynth...')\n",
    "!apt-get install fluidsynth > /dev/null\n",
    "!cp /usr/share/sounds/sf2/FluidR3_GM.sf2 ./font.sf2\n",
    "print('done!')"
   ]
  },
  {
   "cell_type": "code",
   "execution_count": null,
   "metadata": {},
   "outputs": [],
   "source": [
    "#@title install dependencies to show score in music notation\n",
    "%%capture\n",
    "print('installing musescore3...')\n",
    "!apt-get install musescore3 > /dev/null\n",
    "print('done!')"
   ]
  },
  {
   "cell_type": "code",
   "execution_count": null,
   "metadata": {},
   "outputs": [],
   "source": [
    "#@title clone git repository\n",
    "%%capture\n",
    "%rm -rf aica-assignments\n",
    "!git clone https://github.com/aica-wavelab/aica-assignments.git\n",
    "%cd aica-assignments/A4_melody_generation"
   ]
  },
  {
   "cell_type": "markdown",
   "metadata": {},
   "source": [
    "Furtheremore, for this notebook, we need the following ``Python`` packages and moduls. Execute the cell to install them:"
   ]
  },
  {
   "cell_type": "code",
   "execution_count": null,
   "metadata": {},
   "outputs": [],
   "source": [
    "%pip install music21\n",
    "%pip install numpy\n",
    "%pip install pandas\n",
    "%pip install matplotlib\n",
    "%pip install pyfluidsynth\n",
    "%pip install otter-grader"
   ]
  },
  {
   "cell_type": "code",
   "execution_count": null,
   "metadata": {},
   "outputs": [],
   "source": [
    "import random\n",
    "import music21 as m21\n",
    "from music21.note import Note, Rest\n",
    "from music21.chord import Chord\n",
    "from music21.stream import Part, Score\n",
    "import numpy as np\n",
    "\n",
    "from encoder import NoteToIntEncoder\n",
    "from encoder import TERM_SYMBOL"
   ]
  },
  {
   "cell_type": "code",
   "execution_count": null,
   "metadata": {},
   "outputs": [],
   "source": [
    "# Initialize Otter\n",
    "import otter\n",
    "grader = otter.Notebook(\"2_2_style_imitation.ipynb\")"
   ]
  },
  {
   "cell_type": "code",
   "execution_count": null,
   "metadata": {},
   "outputs": [],
   "source": [
    "# from notebook 2_genuine_composing\n",
    "def generate_random_score(length=10, lower=m21.note.Note('C3'), upper=m21.note.Note('C6'), q=0.1):\n",
    "  score = m21.stream.Score()\n",
    "  part = m21.stream.Part()\n",
    "\n",
    "  for _ in range(length):\n",
    "    \n",
    "    # with probability q there will be a rest\n",
    "    if random.random()<=q:\n",
    "      part.append(m21.note.Rest())\n",
    "    else:\n",
    "      midi = random.randint(lower.pitch.midi, upper.pitch.midi)\n",
    "      note = m21.note.Note()\n",
    "      note.pitch.midi = midi\n",
    "      part.append(note)\n",
    "  score.insert(0, part)\n",
    "  return score"
   ]
  },
  {
   "cell_type": "markdown",
   "metadata": {},
   "source": [
    "## 2.2 Style Imitation"
   ]
  },
  {
   "cell_type": "markdown",
   "metadata": {},
   "source": [
    "Let us suppose we have no music theory knowledge and we still want to generate a melody that sounds rather pleasing.\n",
    "And let us suppose we have some melodies from well-known composers at our fingertips.\n",
    "In this case we can learn from the data! That is, we can apply *machine learning* techniques.\n",
    "\n",
    "### 2.2.1 Learning Intervals\n",
    "\n",
    "We can, for example, analyse which intervals the composer uses and we can compute how often a certain interval was used.\n",
    "The advantage of this approach is that we do not rely on certain note combinations.\n",
    "\n",
    "We exploit a property that is very special to musical notations: **translation does keep the essence of the piece alive**.\n",
    "This is very different compared to text, since if we translate a text by one letter, the meaning is completely different!\n",
    "**Note:** Translation works only well for an *equal temperament instrument*.\n",
    "\n",
    "Let us implement a function that returns the frequencies of intervals in a ``dict``.\n",
    "We might want to ignore *inversions* (shifting a pitch one or multiple octaves).\n",
    "To iterate over each element in a ``Stream`` object (e.g. ``Part`` or ``Score``) we can use the ``.recurse()`` method of that object.\n",
    "You can find further information [here](https://web.mit.edu/music21/doc/usersGuide/usersGuide_06_stream2.html).\n",
    "\n",
    "Let us first test this by printing all the notes of a ``Score``, luckily we can now use our function above to compute some random ``Score``!"
   ]
  },
  {
   "cell_type": "code",
   "execution_count": null,
   "metadata": {},
   "outputs": [],
   "source": [
    "score = generate_random_score()\n",
    "for element in score.recurse():\n",
    "  print(element)"
   ]
  },
  {
   "cell_type": "markdown",
   "metadata": {},
   "source": [
    "Ok, as we can see the iteration also goes over ``Part``. We can assume that our score is monophonic, thus we are only interested in ``Note``s.\n",
    "Using the ``Python`` function ``isinstance`` we can check for the ``type`` (and subtype) of the object:"
   ]
  },
  {
   "cell_type": "code",
   "execution_count": null,
   "metadata": {},
   "outputs": [],
   "source": [
    "score = generate_random_score()\n",
    "for element in score.recurse():\n",
    "  if isinstance(element, Note):\n",
    "    print(element)"
   ]
  },
  {
   "cell_type": "markdown",
   "metadata": {},
   "source": [
    "Nice! We only get the ``Note``s. Let us implement the function ``count_intervals(score, ignore_inversions, intervals=None)``. ``score`` is the ``Score`` we want to extract intervals from,``ignore_inversions`` indicates if we do not want to differentiate between e.g. ``C4`` and ``C5`` and the optional ``intervals`` argument is the result of calling this function on some other ``Score`` which makes it possible to consider multiple ``Score``s."
   ]
  },
  {
   "cell_type": "code",
   "execution_count": null,
   "metadata": {},
   "outputs": [],
   "source": [
    "# the function can optionally receive a non-empty dictionary. This is useful if we want to apply it for multiple scores.\n",
    "def count_intervals(score, ignore_inversions=False, intervals = None):\n",
    "\n",
    "  if intervals == None:\n",
    "    intervals = dict()\n",
    "\n",
    "  # we start with nothing!\n",
    "  current = None\n",
    "  \n",
    "  # we only use the first part assuming it is the melody in the piece.\n",
    "  for element in score.parts[0].recurse():\n",
    "    if isinstance(element, m21.note.Note):\n",
    "      # for the first element we cannot compute an interval\n",
    "      if current != None:\n",
    "\n",
    "        # compute the interval\n",
    "        interval = element.pitch.midi - current.pitch.midi\n",
    "\n",
    "        # if we want to ignore inversions, we use the modulo operator\n",
    "        if ignore_inversions:\n",
    "          interval = interval % 12\n",
    "        \n",
    "        # if the interval has already an entry in the dictionary, we just add 1 otherwise we have to create a new entry\n",
    "        if interval in intervals:\n",
    "          intervals[interval] += 1\n",
    "        else:\n",
    "          intervals[interval] = 1\n",
    "      current = element\n",
    "  return intervals"
   ]
  },
  {
   "cell_type": "code",
   "execution_count": null,
   "metadata": {},
   "outputs": [],
   "source": [
    "intervals = count_intervals(score, True)\n",
    "intervals"
   ]
  },
  {
   "cell_type": "code",
   "execution_count": null,
   "metadata": {},
   "outputs": [],
   "source": [
    "intervals = count_intervals(score, False)\n",
    "intervals"
   ]
  },
  {
   "cell_type": "markdown",
   "metadata": {},
   "source": [
    "Next we need a nice data structure to pick intervals from.\n",
    "More frequent intervals should be picked more often.\n",
    "Therefore, we can compute a discrete probability distribution over the intervals.\n",
    "First we convert the frequencies in probabilities.\n",
    "We can do this by \n",
    "\n",
    "1. computing the number overall number of intervals\n",
    "2. divide each value in the ``dict`` by this number\n",
    "3. extract everything into a list of pairs ``(interval, probability)``\n",
    "4. sort it by the probability in descending order"
   ]
  },
  {
   "cell_type": "code",
   "execution_count": null,
   "metadata": {},
   "outputs": [],
   "source": [
    "def to_probability_dist(intervals):\n",
    "  # 1. computing the number of intervals\n",
    "  n_intervals = 0\n",
    "  for n in intervals.values():\n",
    "    n_intervals += n\n",
    "  n_intervals\n",
    "\n",
    "  # 2. divide each value in the ``dict`` by this number\n",
    "  for key in intervals.keys():\n",
    "    intervals[key] /= n_intervals\n",
    "  intervals\n",
    "\n",
    "  # 3. extract everything into a list of pairs\n",
    "  intervals_list = []\n",
    "  for item in intervals.items():\n",
    "    intervals_list.append(item)\n",
    "\n",
    "  # 4. sort it by the probability\n",
    "  intervals_list.sort(key=lambda item: item[1], reverse=True)\n",
    "  return intervals_list"
   ]
  },
  {
   "cell_type": "code",
   "execution_count": null,
   "metadata": {},
   "outputs": [],
   "source": [
    "prob_list = to_probability_dist(intervals)\n",
    "prob_list"
   ]
  },
  {
   "cell_type": "markdown",
   "metadata": {},
   "source": [
    "Now we can generate a random number $r$ in $[0;1)$ and go through the list until the sum of probabilities is larger or equal to $r$.\n",
    "This is the interval we have to use! "
   ]
  },
  {
   "cell_type": "code",
   "execution_count": null,
   "metadata": {},
   "outputs": [],
   "source": [
    "def choose_interval(prob_list):\n",
    "  r = random.random()\n",
    "  p = 0\n",
    "  i = 0\n",
    "  while r >= p:\n",
    "    p += prob_list[i][1]\n",
    "    i += 1\n",
    "  return prob_list[i-1][0]\n",
    "\n",
    "choose_interval(prob_list)"
   ]
  },
  {
   "cell_type": "markdown",
   "metadata": {},
   "source": [
    "Now everything is in place and we can \n",
    "\n",
    "1. compute our probability list by analysing one or multiple scores\n",
    "2. generate a new score using ``choose_interval``.\n",
    "\n",
    "There is only one last problem: Nothing prevents us to move high up or down the octaves! A simple solution is to define a certain interval we have to be in and to use inversion if this is not the case!\n",
    "\n",
    "Let us use a single function to do everything!"
   ]
  },
  {
   "cell_type": "code",
   "execution_count": null,
   "metadata": {},
   "outputs": [],
   "source": [
    "# compute our probability list by analysing multiple scores\n",
    "def interval_dist(scores, ignore_inversions=False):\n",
    "  interval_freqs = dict()\n",
    "  for score in scores:\n",
    "    interval_freqs = count_intervals(score, ignore_inversions=ignore_inversions, intervals=interval_freqs)\n",
    "  prob_list = to_probability_dist(interval_freqs)\n",
    "  return prob_list\n",
    "\n",
    "def generate_score_by_interval_dist(interval_dist, \n",
    "                         tonic_note=Note('C4'), \n",
    "                         length=10,\n",
    "                         lowest_note=Note('C6'), \n",
    "                         highest_note=Note('C2')):\n",
    "  score = m21.stream.Score()\n",
    "  part = m21.stream.Part()\n",
    "  \n",
    "  # 2. add the tonic / root note\n",
    "  note = tonic_note\n",
    "  part.append(note)\n",
    "\n",
    "  for _ in range(length-1):\n",
    "    # 3. pick the next interval and generate the next note\n",
    "    interval = choose_interval(interval_dist)\n",
    "    note = m21.note.Note()\n",
    "    note.pitch.midi = note.pitch.midi + interval\n",
    "\n",
    "    # 4. sanity inversion to push the next note in our desired range\n",
    "    distance = note.pitch.midi - highest_note.pitch.midi\n",
    "    if distance > 0:\n",
    "      # // is a division of whole numbers, e.g. 7.6 // 2.0 == 3.0\n",
    "      note.pitch.midi -= (distance // 12 + 1) * 12\n",
    "\n",
    "    distance = lowest_note.pitch.midi - note.pitch.midi\n",
    "    if distance > 0:\n",
    "      # // is a division of whole numbers, e.g. 7.6 // 2.0 == 3.0\n",
    "      note.pitch.midi += (distance // 12 + 1) * 12\n",
    "    \n",
    "    part.append(note)\n",
    "  score.insert(0, part)\n",
    "  return score"
   ]
  },
  {
   "cell_type": "code",
   "execution_count": null,
   "metadata": {},
   "outputs": [],
   "source": [
    "# 1. generate a bad \"training dataset\"\n",
    "score = generate_random_score(10)\n",
    "# 2. train our model\n",
    "model = interval_dist([score], True)\n",
    "gen_score = generate_score_by_interval_dist(model, Note('C4'), 10, Note('C3'), Note('C6'))\n",
    "gen_score.show('midi')"
   ]
  },
  {
   "cell_type": "markdown",
   "metadata": {},
   "source": [
    "We can use a subset of the ``m21.corpus`` as our training dataset. However, it does not contain simple melodies. Therefore, we can try to identify monophonic pieces (i.e. without ``Chord``s) and only consider the first ``Part``. Note that this dataset is not that great!\n",
    "The following function ``is_monophonic(score)`` returns true if the ``Score`` does not contain any ``Chord``s."
   ]
  },
  {
   "cell_type": "code",
   "execution_count": null,
   "metadata": {},
   "outputs": [],
   "source": [
    "def is_monophonic(score):\n",
    "    \"\"\"Check if a score is monophonic.\"\"\"\n",
    "    for part in score.parts:\n",
    "        previous_offset = None\n",
    "        for note in part.flatten().notes:\n",
    "            if isinstance(note, Chord):\n",
    "                return False\n",
    "            if previous_offset is not None and note.offset == previous_offset:\n",
    "                return False\n",
    "            previous_offset = note.offset\n",
    "    return True"
   ]
  },
  {
   "cell_type": "markdown",
   "metadata": {},
   "source": [
    "Ok, now we can try to imitate other composers. Let us filter the corpus to get all monophonic pieces by Bach:"
   ]
  },
  {
   "cell_type": "code",
   "execution_count": null,
   "metadata": {},
   "outputs": [],
   "source": [
    "training_dataset = []\n",
    "monophonic_bach_works = m21.corpus.search(composer='bach')\n",
    "\n",
    "# this can take some time\n",
    "for work in monophonic_bach_works:\n",
    "  score = work.parse()\n",
    "  if is_monophonic(score):\n",
    "    training_dataset.append(score)\n",
    "\n",
    "print(f'There are {len(training_dataset)} monophonic works of Bach')"
   ]
  },
  {
   "cell_type": "code",
   "execution_count": null,
   "metadata": {},
   "outputs": [],
   "source": [
    "training_dataset[0].show('midi')"
   ]
  },
  {
   "cell_type": "markdown",
   "metadata": {},
   "source": [
    "Let us *train* our model:"
   ]
  },
  {
   "cell_type": "code",
   "execution_count": null,
   "metadata": {},
   "outputs": [],
   "source": [
    "model = interval_dist(training_dataset, False)\n",
    "model"
   ]
  },
  {
   "cell_type": "markdown",
   "metadata": {},
   "source": [
    "Let us generate a new score! Note that we only consider intervals and no durations!"
   ]
  },
  {
   "cell_type": "code",
   "execution_count": null,
   "metadata": {},
   "outputs": [],
   "source": [
    "gen_score = generate_score_by_interval_dist(model,Note('C4'), 40, Note('C3'), Note('C6'))\n",
    "gen_score.show('midi')"
   ]
  },
  {
   "cell_type": "markdown",
   "metadata": {},
   "source": [
    "Let's compare it with our random score generation:"
   ]
  },
  {
   "cell_type": "code",
   "execution_count": null,
   "metadata": {},
   "outputs": [],
   "source": [
    "ran_score = generate_random_score(40)\n",
    "ran_score.show('midi')"
   ]
  },
  {
   "cell_type": "markdown",
   "metadata": {},
   "source": [
    "### 3.2 Learning Note-Transitions with Markov Chains"
   ]
  },
  {
   "cell_type": "markdown",
   "metadata": {},
   "source": [
    "Sice we are learning only the probability distribution of intervals, we only use very little information of a corpus. As we saw, this does not really lead to good results.\n",
    "\n",
    "Next we want to learn the probability of appearence of the next note (pitch & duration) based on its predecessor.\n",
    "We can do this by learning a so called (time-homogeneous) *[discrete Markov chain](https://en.wikipedia.org/wiki/Markov_chain)*."
   ]
  },
  {
   "cell_type": "markdown",
   "metadata": {},
   "source": [
    "A melody can be represented by a set of notes $\\{n_1, n_2, \\ldots, n_m\\}$ (including rests) defined by their *pitch* and *duration*. For each note $n_i$ we can compute the frequency of transitions to the next note. \n",
    "For example, take the following sequence: ``C4 C4 F4 D4 F4 D4 C4 C4`` and assume all durations are the same, then we would have \n",
    "\n",
    "+ (``TERM_SYMBOL`` -> ``C4``) 1 times,\n",
    "+ (``C4`` -> ``C4``) 2 times, \n",
    "+ (``C4`` -> ``F4``) 1 times,\n",
    "+ (``F4`` -> ``D4``) 2 times,\n",
    "+ (``D4`` -> ``F4``) 1 times,\n",
    "+ (``D4`` -> ``C4``) 1 times,\n",
    "+ (``C4`` -> ``TERM_SYMBOL``) 1 times\n",
    "\n",
    "Thus we know that if a ``C4`` is played a ``C4`` will follow with probability ``0.5``, or the piece will end with probability ``0.25`` or a ``F4`` will follow with probability ``0.25``.\n",
    "\n",
    "To generate a piece of music we start with ``TERM_SYMBOL``. It is a special symbol that marks the start and end of a melody. Then we roll the dice and pick the next note according to the probabilities of available transitions.\n",
    "Then we roll the dice again and pick the next note until we reach the ``TERM_SYMBOL`` again.\n",
    "\n",
    "So far we worked directly with the objects of ``music21``. It is however often advisable to work with numbers instead. Our problem is one such situation. Instead of working with notes $\\{n_1, n_2, \\ldots, n_m\\}$ we could work instead with numbers $0,1, \\ldots, m-1$, where each number represents the respective note. We implemented the ``NoteToIntEncoder`` that can be used to do this encoding. It expects a list of ``music21`` ``Stream`` objects to compute the set of notes. The ``encoder`` maps ``Note``s and ``Rest``s to consecutive natural numbers starting from ``0``"
   ]
  },
  {
   "cell_type": "code",
   "execution_count": null,
   "metadata": {},
   "outputs": [],
   "source": [
    "part = Part()\n",
    "part.append([\n",
    "  Note('C4'), Note('A4'), Rest(0.5), \n",
    "  Note('C5'), Rest(1.0), Note('C4'), \n",
    "  Rest(1.0), Note('A4')\n",
    "  ])\n",
    "\n",
    "encoder = NoteToIntEncoder([part, part])\n",
    "\n",
    "for element in part:\n",
    "  print(f'{element.fullName} -> {encoder.encode(element)} -> {encoder.decode(encoder.encode(element))}')"
   ]
  },
  {
   "cell_type": "markdown",
   "metadata": {},
   "source": [
    "Calling the ``len(encoder)`` returns the number of unique elements, i.e. $m-1$:"
   ]
  },
  {
   "cell_type": "code",
   "execution_count": null,
   "metadata": {},
   "outputs": [],
   "source": [
    "m = len(encoder)\n",
    "print(m)"
   ]
  },
  {
   "cell_type": "markdown",
   "metadata": {},
   "source": [
    "One simple representation for the probability transitions is the so-called *Markov* matrix.\n",
    "Each row of the matrix represents the starting point of a transition and each column endpoint of a transition.\n",
    "Therefore, the value in row $i$ and column $j$ tells us the probability from the state / note $i$ to the state / note $j$.\n",
    "The following is an example of a Markov matrix with $m=3$ states / notes.\n",
    "\n",
    "$$\n",
    "M = \\begin{pmatrix} 0.1 & 0.3 & 0.6 \\\\ 0.3 & 0.3 & 0.4 \\\\ 0.0 & 0.1 & 0.9 \\end{pmatrix}\n",
    "$$\n",
    "\n",
    "Note that the sum over all elements of a row has to be equal to ``1.0``.\n",
    "\n",
    "The following code computes the Markov matrix. It requires the respective ``Stream``s and the respective ``NoteToIntEncoder``. "
   ]
  },
  {
   "cell_type": "code",
   "execution_count": null,
   "metadata": {},
   "outputs": [],
   "source": [
    "def markov_matrix(streams, encoder):\n",
    "  m = len(encoder)\n",
    "\n",
    "  # initiate the Markov matrix with zeros\n",
    "  M = np.zeros((m,m))\n",
    "\n",
    "  # count the transitions; a row represents the starting point and the column the end point\n",
    "  for part in streams:\n",
    "    predecessor = TERM_SYMBOL\n",
    "    idx2 = 0\n",
    "    for element in part.recurse():\n",
    "      if isinstance(element, (m21.note.Rest, m21.note.Note)):\n",
    "        idx1 = encoder.encode(predecessor)\n",
    "        idx2 = encoder.encode(element)\n",
    "        M[idx1][idx2] += 1.0\n",
    "        predecessor = element\n",
    "      # this is for the ending since we arrive at a TERM_SYMBOL\n",
    "    M[idx2][encoder.encode(TERM_SYMBOL)] += 1.0\n",
    "\n",
    "  # divide each element of a row by the sum of that row\n",
    "  return M / M.sum(axis=1, keepdims=True)"
   ]
  },
  {
   "cell_type": "markdown",
   "metadata": {},
   "source": [
    "To generate a ``Score``, we start by setting our first element / event / state to ``TERM_SYMBOL``.\n",
    "Then we pick the row from the Markov matrix ``M`` of that element which gives us a probability distribution.\n",
    "According to this distribution we pick the next element / event / state which we add to our ``Score``.\n",
    "We repeat this as long as the score length is smaller than ``max_len`` or we run into ``TERM_SYMBOL`` again."
   ]
  },
  {
   "cell_type": "code",
   "execution_count": null,
   "metadata": {},
   "outputs": [],
   "source": [
    "def generate_markov_score(M, encoder, max_len=100):\n",
    "  # start with the terminal symbol, i.e. with the start of a piece\n",
    "  score = Score()\n",
    "  part = Part()\n",
    "  \n",
    "  element = encoder.encode(TERM_SYMBOL)\n",
    "  for _ in range(max_len):\n",
    "    m = len(encoder)\n",
    "\n",
    "    # pick the next element according to the distribution M[element]\n",
    "    element = np.random.choice(m, size=1, p=M[element])[0]\n",
    "\n",
    "    # decode the number element to a symbol\n",
    "    symbol = encoder.decode(element)\n",
    "\n",
    "    # check if we should stop\n",
    "    if symbol == TERM_SYMBOL:\n",
    "      break\n",
    "    else: \n",
    "      part.append(symbol)\n",
    "      \n",
    "  score.insert(0, part)\n",
    "  return score"
   ]
  },
  {
   "cell_type": "markdown",
   "metadata": {},
   "source": [
    "Let us try our approach using only parts of Bach's *Minuet in G*."
   ]
  },
  {
   "cell_type": "code",
   "execution_count": null,
   "metadata": {},
   "outputs": [],
   "source": [
    "bach_minuet = m21.converter.parse('data/Minuet_in_G.mid')\n",
    "bach_minuet.show('midi')"
   ]
  },
  {
   "cell_type": "markdown",
   "metadata": {},
   "source": [
    "We extract the first part and we ignore all ``Chord``s."
   ]
  },
  {
   "cell_type": "code",
   "execution_count": null,
   "metadata": {},
   "outputs": [],
   "source": [
    "bach_minuet_melody = bach_minuet.parts[0]\n",
    "bach_minuet_melody.show('midi')"
   ]
  },
  {
   "cell_type": "markdown",
   "metadata": {},
   "source": [
    "Again, the ``NoteToIntEncoder`` encodes the notes of ``Stream``s to natural numbers in $[0;m-1]$.\n",
    "First we generate our Markov matrix ``M``."
   ]
  },
  {
   "cell_type": "code",
   "execution_count": null,
   "metadata": {},
   "outputs": [],
   "source": [
    "encoder = NoteToIntEncoder([bach_minuet_melody])\n",
    "M = markov_matrix([bach_minuet_melody], encoder)"
   ]
  },
  {
   "cell_type": "markdown",
   "metadata": {},
   "source": [
    "According to ``M``, we generate a new melody:"
   ]
  },
  {
   "cell_type": "code",
   "execution_count": null,
   "metadata": {},
   "outputs": [],
   "source": [
    "minuet_imitation = generate_markov_score(M, encoder=encoder, max_len=10_000)"
   ]
  },
  {
   "cell_type": "code",
   "execution_count": null,
   "metadata": {},
   "outputs": [],
   "source": [
    "minuet_imitation.show('midi')"
   ]
  },
  {
   "cell_type": "markdown",
   "metadata": {
    "deletable": false,
    "editable": false
   },
   "source": [
    "<!-- BEGIN QUESTION -->\n",
    "\n",
    "We can clearly hear the similarities of Bach's *Minuet in G* and our piece. Of course, this is musically not very interesting. Often, Markov chains are used either for ambient music or for transitions that are not based on notes but on more large scale concepts such as themes or musical ideas."
   ]
  },
  {
   "cell_type": "markdown",
   "metadata": {
    "deletable": false,
    "editable": false
   },
   "source": [
    "<div class=\"alert alert-info\">\n",
    "\n",
    "**Instruction 2.2.1** Our Markov chain is of order 1, meaning that the next note only depends on the previous one. One can say that this process is memoryless.\n",
    "\n",
    "1. How could we change our implementation to make the next ``Note`` dependent on the last two previous ``Note``s. Describe it conceptually, you do not have to describe the required code!\n",
    "2. Let's suppose the next note depends on the last $n$ notes. Would this result in a better or worse imitation?\n",
    "\n",
    "</div>"
   ]
  },
  {
   "cell_type": "markdown",
   "metadata": {},
   "source": [
    "_Type your answer here, replacing this text._"
   ]
  },
  {
   "cell_type": "markdown",
   "metadata": {
    "deletable": false,
    "editable": false
   },
   "source": [
    "<!-- END QUESTION -->\n",
    "\n"
   ]
  },
  {
   "cell_type": "markdown",
   "metadata": {
    "deletable": false,
    "editable": false
   },
   "source": [
    "---\n",
    "\n",
    "To double-check your work, the cell below will rerun all of the autograder tests."
   ]
  },
  {
   "cell_type": "code",
   "execution_count": null,
   "metadata": {
    "deletable": false,
    "editable": false
   },
   "outputs": [],
   "source": [
    "grader.check_all()"
   ]
  }
 ],
 "metadata": {
  "kernelspec": {
   "display_name": "base",
   "language": "python",
   "name": "python3"
  },
  "language_info": {
   "codemirror_mode": {
    "name": "ipython",
    "version": 3
   },
   "file_extension": ".py",
   "mimetype": "text/x-python",
   "name": "python",
   "nbconvert_exporter": "python",
   "pygments_lexer": "ipython3",
   "version": "3.12.3"
  },
  "otter": {
   "assignment_name": "2_2_style_imitation"
  }
 },
 "nbformat": 4,
 "nbformat_minor": 2
}
