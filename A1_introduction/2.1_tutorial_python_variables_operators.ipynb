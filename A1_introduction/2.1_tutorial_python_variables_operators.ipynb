{
 "cells": [
  {
   "cell_type": "markdown",
   "metadata": {},
   "source": [
    "Before you turn this problem in, make sure everything runs as expected. First, **restart the kernel** (in the menubar, select Kernel $\\rightarrow$ Restart) and then **run all cells** (in the menubar, select Cell $\\rightarrow$ Run All).\n",
    "\n",
    "Make sure you fill in any place that says `YOUR CODE HERE` or \"YOUR ANSWER HERE\", as well as your name and email below:"
   ]
  },
  {
   "cell_type": "code",
   "execution_count": null,
   "metadata": {},
   "outputs": [],
   "source": [
    "# Full name\n",
    "NAME = \"\"\n",
    "# Institutional email (hm.edu or hmtm.de)\n",
    "EMAIL = \"\""
   ]
  },
  {
   "cell_type": "markdown",
   "metadata": {},
   "source": [
    "---"
   ]
  },
  {
   "cell_type": "markdown",
   "metadata": {
    "deletable": false,
    "editable": false,
    "nbgrader": {
     "cell_type": "markdown",
     "checksum": "7408250fcc6029bf25eabc8c1f867d30",
     "grade": false,
     "grade_id": "cell-c08fd4305bac6204",
     "locked": true,
     "schema_version": 3,
     "solution": false,
     "task": false
    }
   },
   "source": [
    "# Rudiments of Python : variables, types, and operators\n",
    "\n",
    "**Why Python ?**\n",
    "\n",
    "<image src=\"https://upload.wikimedia.org/wikipedia/commons/thumb/f/f8/Python_logo_and_wordmark.svg/2560px-Python_logo_and_wordmark.svg.png\" style=\"width: 300px; display: block; margin-left: auto; margin-right: auto;\"/>\n",
    "\n",
    "There are many reasons why we chose to teach you rudiments of Python in this tech crash course:\n",
    "\n",
    "- It is free and open source,\n",
    "- It is a worldwide language used in science and machine learning. For this reason, you will easily find support online, even for your specific problem, and it will continually be improved and updated,\n",
    "- It has a simple syntax, which makes it easy to read and learn"
   ]
  },
  {
   "cell_type": "markdown",
   "metadata": {
    "deletable": false,
    "editable": false,
    "nbgrader": {
     "cell_type": "markdown",
     "checksum": "76b66a3d2b2563728b38307399c4327e",
     "grade": false,
     "grade_id": "cell-98c3215522f96b42",
     "locked": true,
     "schema_version": 3,
     "solution": false,
     "task": false
    }
   },
   "source": [
    "## 1. Variables\n",
    "\n",
    "> **A variable** is a container for storing data values.\n",
    "\n",
    "- A variable is created the moment you first assign a value to it.\n",
    "- A value is assigned to a variable using the `=` operator.\n",
    "- The value of a variable can be accessed using the variable name.\n",
    "- Variables are case-sensitive.\n",
    "- In jupyter notebook, a variable is stored in memory and persist across cells until you restart the kernel.\n",
    "\n",
    "Let's see an example:"
   ]
  },
  {
   "cell_type": "code",
   "execution_count": null,
   "metadata": {
    "deletable": false,
    "editable": false,
    "nbgrader": {
     "cell_type": "code",
     "checksum": "2e1622f10669e7f89e77ba7234c75b5d",
     "grade": false,
     "grade_id": "cell-7d02e8283c4a03ce",
     "locked": true,
     "schema_version": 3,
     "solution": false,
     "task": false
    }
   },
   "outputs": [],
   "source": [
    "x = 5 # I assign the value of 5 to the variable x\n",
    "y = \"Frank Rosenblatt\" # I assign the name of the inventor of the perceptron to the variable y\n",
    "print(x) # I print the value of x\n",
    "\n",
    "# You understood that comments can be written using the # symbol\n",
    "# Everything that comes after the # symbol is considered a comment and is not executed by the Python interpreter"
   ]
  },
  {
   "cell_type": "markdown",
   "metadata": {
    "deletable": false,
    "editable": false,
    "nbgrader": {
     "cell_type": "markdown",
     "checksum": "be747d4397c4808b60aaae77bfc4f9fb",
     "grade": false,
     "grade_id": "cell-4bfe15efe63bc80d",
     "locked": true,
     "schema_version": 3,
     "solution": false,
     "task": false
    }
   },
   "source": [
    "- The value of a variable can be changed after it has been set (it is mutable)."
   ]
  },
  {
   "cell_type": "code",
   "execution_count": null,
   "metadata": {
    "deletable": false,
    "editable": false,
    "nbgrader": {
     "cell_type": "code",
     "checksum": "534114d13445b925c02b6d0db08eead3",
     "grade": false,
     "grade_id": "cell-c826f2fe94ca8592",
     "locked": true,
     "schema_version": 3,
     "solution": false,
     "task": false
    }
   },
   "outputs": [],
   "source": [
    "print(y)\n",
    "y = 124\n",
    "print(y)\n",
    "y = \"Yann Lecun\" # He is important figure of deep learning\n",
    "print(y)"
   ]
  },
  {
   "cell_type": "markdown",
   "metadata": {
    "deletable": false,
    "editable": false,
    "nbgrader": {
     "cell_type": "markdown",
     "checksum": "951097cecd7abcf2bc803e05cf434117",
     "grade": false,
     "grade_id": "cell-8a0c250e558cb6f1",
     "locked": true,
     "schema_version": 3,
     "solution": false,
     "task": false
    }
   },
   "source": [
    "- A variable takes the type of the value assigned to it."
   ]
  },
  {
   "cell_type": "code",
   "execution_count": null,
   "metadata": {
    "deletable": false,
    "editable": false,
    "nbgrader": {
     "cell_type": "code",
     "checksum": "fd794e3336394d59853b17f87358f6b1",
     "grade": false,
     "grade_id": "cell-1946a5e4e542f55e",
     "locked": true,
     "schema_version": 3,
     "solution": false,
     "task": false
    }
   },
   "outputs": [],
   "source": [
    "type(x)"
   ]
  },
  {
   "cell_type": "code",
   "execution_count": null,
   "metadata": {
    "deletable": false,
    "editable": false,
    "nbgrader": {
     "cell_type": "code",
     "checksum": "72a9f0f91e63eb63f3867a0cb8bd23e6",
     "grade": false,
     "grade_id": "cell-506233d226880c84",
     "locked": true,
     "schema_version": 3,
     "solution": false,
     "task": false
    }
   },
   "outputs": [],
   "source": [
    "type(y)"
   ]
  },
  {
   "cell_type": "markdown",
   "metadata": {
    "deletable": false,
    "editable": false,
    "nbgrader": {
     "cell_type": "markdown",
     "checksum": "80bc7538c9425b992ec7f31bab453bc4",
     "grade": false,
     "grade_id": "cell-ae69caf1b9052526",
     "locked": true,
     "schema_version": 3,
     "solution": false,
     "task": false
    }
   },
   "source": [
    "## 2. Types and values\n",
    "\n",
    "> In python, the type of a variable is determined by the value assigned to it.\n",
    "\n",
    "For example, if you assign: \n",
    "\n",
    "    x = 5\n",
    "\n",
    "Then the **type** of `x` is `int` (integer), while the **value** of `x` is `5`.\n",
    "\n",
    "\n",
    "<div class=\"alert alert-block alert-info\">\n",
    "\n",
    "The main data types in python are:\n",
    "\n",
    "- **Numbers** : those can be integers `int` or floating numbers  `float`;\n",
    "- **Strings** : those are sequence of characters, noted `str`;\n",
    "- **Booleans** : those are logical values, i.e. `True` or `False`, and are noted `bool`;\n",
    "\n",
    "</div>\n",
    "\n",
    "One function that is very useful to know is `type()`, which allows you to know the type of a variable."
   ]
  },
  {
   "cell_type": "code",
   "execution_count": null,
   "metadata": {
    "deletable": false,
    "editable": false,
    "nbgrader": {
     "cell_type": "code",
     "checksum": "d6b0363c61e59361e8a2a8b38a19ccfa",
     "grade": false,
     "grade_id": "cell-c6477c20c743c0d4",
     "locked": true,
     "schema_version": 3,
     "solution": false,
     "task": false
    }
   },
   "outputs": [],
   "source": [
    "type(42)"
   ]
  },
  {
   "cell_type": "code",
   "execution_count": null,
   "metadata": {
    "deletable": false,
    "editable": false,
    "nbgrader": {
     "cell_type": "code",
     "checksum": "66de033c976612579a6b2fa1104b646b",
     "grade": false,
     "grade_id": "cell-87d22b7c194c37e5",
     "locked": true,
     "schema_version": 3,
     "solution": false,
     "task": false
    }
   },
   "outputs": [],
   "source": [
    "type(1.4)"
   ]
  },
  {
   "cell_type": "code",
   "execution_count": null,
   "metadata": {
    "deletable": false,
    "editable": false,
    "nbgrader": {
     "cell_type": "code",
     "checksum": "21268462af3cdbcaeaae0a8840c05d44",
     "grade": false,
     "grade_id": "cell-7828194444dbb302",
     "locked": true,
     "schema_version": 3,
     "solution": false,
     "task": false
    }
   },
   "outputs": [],
   "source": [
    "type(\"Hello World!\")"
   ]
  },
  {
   "cell_type": "code",
   "execution_count": null,
   "metadata": {
    "deletable": false,
    "editable": false,
    "nbgrader": {
     "cell_type": "code",
     "checksum": "450680f2299349efce95b472cd0ef22f",
     "grade": false,
     "grade_id": "cell-af9033b9b4b9ec7c",
     "locked": true,
     "schema_version": 3,
     "solution": false,
     "task": false
    }
   },
   "outputs": [],
   "source": [
    "type(True)"
   ]
  },
  {
   "cell_type": "markdown",
   "metadata": {
    "deletable": false,
    "editable": false,
    "nbgrader": {
     "cell_type": "markdown",
     "checksum": "ee7105e18437f091de23da535842c6a0",
     "grade": false,
     "grade_id": "cell-d6c2e3283f931f66",
     "locked": true,
     "schema_version": 3,
     "solution": false,
     "task": false
    }
   },
   "source": [
    "Another important function is `print()`, which allows you to display a value. \n",
    "\n",
    "In Jupyter Notebook, you can display a value by simply executing a cell, as shown above with `type(\"Hello world!)`. However,  if several variables are called in the same cell, only the last one will be displayed, except if you `print` them all !\n",
    "\n",
    "As a rule of thumb, you should use `print()` to display values."
   ]
  },
  {
   "cell_type": "code",
   "execution_count": null,
   "metadata": {
    "deletable": false,
    "editable": false,
    "nbgrader": {
     "cell_type": "code",
     "checksum": "38e22589f04f3ac55b431ffd7491f45e",
     "grade": false,
     "grade_id": "cell-41f8be5a8660491b",
     "locked": true,
     "schema_version": 3,
     "solution": false,
     "task": false
    }
   },
   "outputs": [],
   "source": [
    "42\n",
    "\"Hello world!\""
   ]
  },
  {
   "cell_type": "code",
   "execution_count": null,
   "metadata": {
    "deletable": false,
    "editable": false,
    "nbgrader": {
     "cell_type": "code",
     "checksum": "fa219904204f014471d3c738bf82e47b",
     "grade": false,
     "grade_id": "cell-24d0ce7133eeaea1",
     "locked": true,
     "schema_version": 3,
     "solution": false,
     "task": false
    }
   },
   "outputs": [],
   "source": [
    "print(42)\n",
    "print(\"Hello world!\")"
   ]
  },
  {
   "cell_type": "markdown",
   "metadata": {
    "deletable": false,
    "editable": false,
    "nbgrader": {
     "cell_type": "markdown",
     "checksum": "0cf569399d3a2bc6dbe42ad878ac665e",
     "grade": false,
     "grade_id": "cell-7bc7abd8f060778d",
     "locked": true,
     "schema_version": 3,
     "solution": false,
     "task": false
    }
   },
   "source": [
    "### 2.1 Data structures\n",
    "\n",
    "> **Data structures** are a way of organizing and storing data so that they can be accessed and worked with efficiently.\n",
    "\n",
    "There are four built-in data structures in Python:\n",
    "- **List** : a collection which is ordered and changeable. Allows duplicate members.\n",
    "- **Tuple** : a collection which is ordered and unchangeable. Allows duplicate members.\n",
    "- **Set** : a collection which is unordered and unindexed. No duplicate members.\n",
    "- **Dictionary** : a collection which is unordered, changeable and indexed. No duplicate members.\n",
    "\n",
    "We will only focus on lists and dictionaries in this tutorial.\n",
    "\n",
    "#### 2.1.1 Lists\n",
    "\n",
    "> A list is a collection which is ordered and changeable. In Python lists are written with square brackets `[]`\n",
    "\n"
   ]
  },
  {
   "cell_type": "code",
   "execution_count": null,
   "metadata": {
    "deletable": false,
    "editable": false,
    "nbgrader": {
     "cell_type": "code",
     "checksum": "487eb58c12d4d5bb677dd5d2ce87cf7c",
     "grade": false,
     "grade_id": "cell-a730fa1a8c070561",
     "locked": true,
     "schema_version": 3,
     "solution": false,
     "task": false
    }
   },
   "outputs": [],
   "source": [
    "list_of_ai_researchers = [\"Yann Lecun\", \"Geoffrey Hinton\", \"Yoshua Bengio\", \"Andrew Ng\", \"Fei Fei Li\"] \n",
    "print(list_of_ai_researchers)"
   ]
  },
  {
   "cell_type": "code",
   "execution_count": null,
   "metadata": {
    "deletable": false,
    "editable": false,
    "nbgrader": {
     "cell_type": "code",
     "checksum": "6ed3bf4a3cd7328989a82f6c6ed33548",
     "grade": false,
     "grade_id": "cell-2e954a9c501d2d2d",
     "locked": true,
     "schema_version": 3,
     "solution": false,
     "task": false
    }
   },
   "outputs": [],
   "source": [
    "l = [1, 2, 3, 4, 5]\n",
    "print(l)"
   ]
  },
  {
   "cell_type": "markdown",
   "metadata": {
    "deletable": false,
    "editable": false,
    "nbgrader": {
     "cell_type": "markdown",
     "checksum": "de14e9f92ca7e2e97af9ac2888ea336f",
     "grade": false,
     "grade_id": "cell-179b55f6a2bfc35c",
     "locked": true,
     "schema_version": 3,
     "solution": false,
     "task": false
    }
   },
   "source": [
    "> Values in a list can be accessed using an index (an integer), which starts at 0."
   ]
  },
  {
   "cell_type": "code",
   "execution_count": null,
   "metadata": {
    "deletable": false,
    "editable": false,
    "nbgrader": {
     "cell_type": "code",
     "checksum": "b0593ea9095014b7535c09b496432123",
     "grade": false,
     "grade_id": "cell-db756c7d2f0b1ae1",
     "locked": true,
     "schema_version": 3,
     "solution": false,
     "task": false
    }
   },
   "outputs": [],
   "source": [
    "list_of_ai_researchers[0]"
   ]
  },
  {
   "cell_type": "code",
   "execution_count": null,
   "metadata": {
    "deletable": false,
    "editable": false,
    "nbgrader": {
     "cell_type": "code",
     "checksum": "edbedd20c720d4a59f455ef9f1126642",
     "grade": false,
     "grade_id": "cell-3c3c8f5bc8ccab0d",
     "locked": true,
     "schema_version": 3,
     "solution": false,
     "task": false
    }
   },
   "outputs": [],
   "source": [
    "list_of_ai_researchers[1]"
   ]
  },
  {
   "cell_type": "code",
   "execution_count": null,
   "metadata": {
    "deletable": false,
    "editable": false,
    "nbgrader": {
     "cell_type": "code",
     "checksum": "01ddaa2a35126dfddd7d572863416404",
     "grade": false,
     "grade_id": "cell-1bf5f2bf82bd58d0",
     "locked": true,
     "schema_version": 3,
     "solution": false,
     "task": false
    }
   },
   "outputs": [],
   "source": [
    "l[0]"
   ]
  },
  {
   "cell_type": "markdown",
   "metadata": {
    "deletable": false,
    "editable": false,
    "nbgrader": {
     "cell_type": "markdown",
     "checksum": "2d168f4a3743d3ec2c0536472fbafdb3",
     "grade": false,
     "grade_id": "cell-50553e2f88ae469a",
     "locked": true,
     "schema_version": 3,
     "solution": false,
     "task": false
    }
   },
   "source": [
    "Values in a list can also be accessed using negative indices, which start at -1. The last element of a list is at index -1, the second to last at index -2, and so on."
   ]
  },
  {
   "cell_type": "code",
   "execution_count": null,
   "metadata": {
    "deletable": false,
    "editable": false,
    "nbgrader": {
     "cell_type": "code",
     "checksum": "afcba580ae031da57dc670c32a98645a",
     "grade": false,
     "grade_id": "cell-3520fd26969b1f75",
     "locked": true,
     "schema_version": 3,
     "solution": false,
     "task": false
    }
   },
   "outputs": [],
   "source": [
    "list_of_ai_researchers[-1]"
   ]
  },
  {
   "cell_type": "markdown",
   "metadata": {
    "deletable": false,
    "editable": false,
    "nbgrader": {
     "cell_type": "markdown",
     "checksum": "08fd09df32f136c3f87b0ae8d21f0ce7",
     "grade": false,
     "grade_id": "cell-6b434b87d0140a70",
     "locked": true,
     "schema_version": 3,
     "solution": false,
     "task": false
    }
   },
   "source": [
    "#### 2.1.2 Dictionaries\n",
    "\n",
    "> A dictionary is a collection which is unordered, changeable and indexed. In Python dictionaries are written with curly brackets `{}`, and they have keys and values.\n"
   ]
  },
  {
   "cell_type": "code",
   "execution_count": null,
   "metadata": {
    "deletable": false,
    "editable": false,
    "nbgrader": {
     "cell_type": "code",
     "checksum": "faf07ff587001705dfdc8ab67a19aa82",
     "grade": false,
     "grade_id": "cell-f4f2e0e8cc103646",
     "locked": true,
     "schema_version": 3,
     "solution": false,
     "task": false
    }
   },
   "outputs": [],
   "source": [
    "phone_book = {\"Alice\" : 123456789, \"Bob\" : 987654321, \"Charlie\" : 123123123} # The keys are my friends' names and the values are their phone numbers\n",
    "phone_book"
   ]
  },
  {
   "cell_type": "markdown",
   "metadata": {
    "deletable": false,
    "editable": false,
    "nbgrader": {
     "cell_type": "markdown",
     "checksum": "eb5b1390c6a0d464a417fda3b6ce3f0e",
     "grade": false,
     "grade_id": "cell-0b72cf5fb6ac4395",
     "locked": true,
     "schema_version": 3,
     "solution": false,
     "task": false
    }
   },
   "source": [
    "\n",
    "- The keys of a dictionary are unique and can be of any type.\n",
    "- The values of a dictionary can be of any type (including a list or another dictionary!)\n",
    "- The keys of a dictionary are case-sensitive.\n",
    "- The values of a dictionary can be accessed using the keys and the `[]` operator.\n",
    "- The values of a dictionary can be changed after they have been set (they are mutable).\n",
    "- The keys of a dictionary can be accessed using the `keys()` method.\n",
    "- The values of a dictionary can be accessed using the `values()` method.\n",
    "\n",
    "\n",
    "Let's access the phone number (value) of Alice (key):"
   ]
  },
  {
   "cell_type": "code",
   "execution_count": null,
   "metadata": {
    "deletable": false,
    "editable": false,
    "nbgrader": {
     "cell_type": "code",
     "checksum": "73e3d578ee78b2f7a88491231740c6a7",
     "grade": false,
     "grade_id": "cell-0e8ea1f12f7587a8",
     "locked": true,
     "schema_version": 3,
     "solution": false,
     "task": false
    }
   },
   "outputs": [],
   "source": [
    "phone_book[\"Alice\"]"
   ]
  },
  {
   "cell_type": "markdown",
   "metadata": {
    "deletable": false,
    "editable": false,
    "nbgrader": {
     "cell_type": "markdown",
     "checksum": "3b9376651465541a7f439dc5ef0cc270",
     "grade": false,
     "grade_id": "cell-6da09bf2eb233847",
     "locked": true,
     "schema_version": 3,
     "solution": false,
     "task": false
    }
   },
   "source": [
    "Oh no! Alice gave me a wrong number... Let's change it:"
   ]
  },
  {
   "cell_type": "code",
   "execution_count": null,
   "metadata": {
    "deletable": false,
    "editable": false,
    "nbgrader": {
     "cell_type": "code",
     "checksum": "ad5a82aa99681fc2249db41dc82ffc3b",
     "grade": false,
     "grade_id": "cell-41d384160cb50bad",
     "locked": true,
     "schema_version": 3,
     "solution": false,
     "task": false
    }
   },
   "outputs": [],
   "source": [
    "phone_book[\"Alice\"] = 135792468\n",
    "phone_book"
   ]
  },
  {
   "cell_type": "markdown",
   "metadata": {
    "deletable": false,
    "editable": false,
    "nbgrader": {
     "cell_type": "markdown",
     "checksum": "b462d7a8fa56f43d8a22738ef7272f0d",
     "grade": false,
     "grade_id": "cell-2cbac37e5f093eff",
     "locked": true,
     "schema_version": 3,
     "solution": false,
     "task": false
    }
   },
   "source": [
    "What are my contacts again?"
   ]
  },
  {
   "cell_type": "code",
   "execution_count": null,
   "metadata": {
    "deletable": false,
    "editable": false,
    "nbgrader": {
     "cell_type": "code",
     "checksum": "961f9edb37238cc4aaf6edf451ef4c06",
     "grade": false,
     "grade_id": "cell-4725c534bd598225",
     "locked": true,
     "schema_version": 3,
     "solution": false,
     "task": false
    }
   },
   "outputs": [],
   "source": [
    "phone_book.keys()"
   ]
  },
  {
   "cell_type": "code",
   "execution_count": null,
   "metadata": {
    "deletable": false,
    "editable": false,
    "nbgrader": {
     "cell_type": "code",
     "checksum": "6a790639ded96e5aa1100f845b6cf533",
     "grade": false,
     "grade_id": "cell-e29cbac58b1c8c29",
     "locked": true,
     "schema_version": 3,
     "solution": false,
     "task": false
    }
   },
   "outputs": [],
   "source": [
    "phone_book.values()"
   ]
  },
  {
   "cell_type": "markdown",
   "metadata": {
    "deletable": false,
    "editable": false,
    "nbgrader": {
     "cell_type": "markdown",
     "checksum": "9ae2f2f390d0356267419b2573201889",
     "grade": false,
     "grade_id": "cell-c8c6a61fe0875f0a",
     "locked": true,
     "schema_version": 3,
     "solution": false,
     "task": false
    }
   },
   "source": [
    "## 3. Operators\n",
    "\n",
    "> Operators are used to perform operations on variables and values.\n",
    "\n",
    "Many operators are available in Python, but:\n",
    "\n",
    "- Operators cannot be used with all types of values.\n",
    "- Operators can have different meanings depending on the type of the values they are used with.\n",
    "\n",
    "<div class=\"alert alert-block alert-info\">\n",
    "\n",
    "Operators can be classified into different categories: \n",
    "- **Assignment operators** : `=`, `+=`, `-=`, etc///\n",
    "- **Arithmetic operators** : `+`, `-`, `*`, `/`, etc.., \n",
    "- **Comparison operators** : `==`, `!=`, `>`, `<`, `>=`, `<=`,\n",
    "- **Logical operators** : `and`, `or`, `not`,\n",
    "- **Membership operators** : `in`, `not in`,\n",
    "- **Identity operators** : `is`, `is not`,\n",
    "\n",
    "</div>\n",
    "\n",
    "Let's see some examples !"
   ]
  },
  {
   "cell_type": "markdown",
   "metadata": {
    "deletable": false,
    "editable": false,
    "nbgrader": {
     "cell_type": "markdown",
     "checksum": "8e814b46ec88804294276eb780e24213",
     "grade": false,
     "grade_id": "cell-4baa7bc8704feac8",
     "locked": true,
     "schema_version": 3,
     "solution": false,
     "task": false
    }
   },
   "source": [
    "### 3.1 Assignement operators\n",
    "\n",
    "You already know the `=` operator, which is used to assign a value to a variable."
   ]
  },
  {
   "cell_type": "code",
   "execution_count": null,
   "metadata": {
    "deletable": false,
    "editable": false,
    "nbgrader": {
     "cell_type": "code",
     "checksum": "b301b6eeed7a3c4106919d8ca7a823dd",
     "grade": false,
     "grade_id": "cell-6868307fa088c5d2",
     "locked": true,
     "schema_version": 3,
     "solution": false,
     "task": false
    }
   },
   "outputs": [],
   "source": [
    "z = 1\n",
    "z"
   ]
  },
  {
   "cell_type": "markdown",
   "metadata": {
    "deletable": false,
    "editable": false,
    "nbgrader": {
     "cell_type": "markdown",
     "checksum": "b200636cae0c262630e9497736de9dc7",
     "grade": false,
     "grade_id": "cell-c67d63bb2cd1578b",
     "locked": true,
     "schema_version": 3,
     "solution": false,
     "task": false
    }
   },
   "source": [
    "Variables can be reassigned using the same `=` operator."
   ]
  },
  {
   "cell_type": "code",
   "execution_count": null,
   "metadata": {
    "deletable": false,
    "editable": false,
    "nbgrader": {
     "cell_type": "code",
     "checksum": "6e47549cbd676bcd1e0aadc171fefffb",
     "grade": false,
     "grade_id": "cell-50f665e12b12cf33",
     "locked": true,
     "schema_version": 3,
     "solution": false,
     "task": false
    }
   },
   "outputs": [],
   "source": [
    "z = 2\n",
    "z"
   ]
  },
  {
   "cell_type": "markdown",
   "metadata": {
    "deletable": false,
    "editable": false,
    "nbgrader": {
     "cell_type": "markdown",
     "checksum": "4871c3e1a1f70c1c6e3fdf3d0ff08104",
     "grade": false,
     "grade_id": "cell-58417c2f14797712",
     "locked": true,
     "schema_version": 3,
     "solution": false,
     "task": false
    }
   },
   "source": [
    "You can even assign the value of a variable to another variable."
   ]
  },
  {
   "cell_type": "code",
   "execution_count": null,
   "metadata": {
    "deletable": false,
    "editable": false,
    "nbgrader": {
     "cell_type": "code",
     "checksum": "d75b16ecf1d2b2d0c22ae3c654270eac",
     "grade": false,
     "grade_id": "cell-4a5ede0fcce0bc65",
     "locked": true,
     "schema_version": 3,
     "solution": false,
     "task": false
    }
   },
   "outputs": [],
   "source": [
    "z = z + x\n",
    "z"
   ]
  },
  {
   "cell_type": "markdown",
   "metadata": {
    "deletable": false,
    "editable": false,
    "nbgrader": {
     "cell_type": "markdown",
     "checksum": "853ec71b54b43358cc380a44f9a3bb9c",
     "grade": false,
     "grade_id": "cell-a18b5d02417b0eff",
     "locked": true,
     "schema_version": 3,
     "solution": false,
     "task": false
    }
   },
   "source": [
    "Some operators allow you to perform an operation and assign the result to a variable in one step. For example, `+=` adds the value on the right to the value on the left and assigns the result to the variable on the left."
   ]
  },
  {
   "cell_type": "code",
   "execution_count": null,
   "metadata": {
    "deletable": false,
    "editable": false,
    "nbgrader": {
     "cell_type": "code",
     "checksum": "0352b38ea1541aa55cf67b3c7117478c",
     "grade": false,
     "grade_id": "cell-f9cad87f3cc46610",
     "locked": true,
     "schema_version": 3,
     "solution": false,
     "task": false
    }
   },
   "outputs": [],
   "source": [
    "z += 1\n",
    "z"
   ]
  },
  {
   "cell_type": "markdown",
   "metadata": {
    "deletable": false,
    "editable": false,
    "nbgrader": {
     "cell_type": "markdown",
     "checksum": "cd22ad83554afec3fb518d9f2e8b3f47",
     "grade": false,
     "grade_id": "cell-2f606eea69fbfabb",
     "locked": true,
     "schema_version": 3,
     "solution": false,
     "task": false
    }
   },
   "source": [
    "The cell above is equivalent to:"
   ]
  },
  {
   "cell_type": "code",
   "execution_count": null,
   "metadata": {
    "deletable": false,
    "editable": false,
    "nbgrader": {
     "cell_type": "code",
     "checksum": "6c92fbb3459b7b43e5af8f492b21403e",
     "grade": false,
     "grade_id": "cell-df5662332d949907",
     "locked": true,
     "schema_version": 3,
     "solution": false,
     "task": false
    }
   },
   "outputs": [],
   "source": [
    "z = z + 1\n",
    "z"
   ]
  },
  {
   "cell_type": "code",
   "execution_count": null,
   "metadata": {
    "deletable": false,
    "editable": false,
    "nbgrader": {
     "cell_type": "code",
     "checksum": "77a0c56ff2b7d841c3604b40d163d806",
     "grade": false,
     "grade_id": "cell-57331f3196f1511e",
     "locked": true,
     "schema_version": 3,
     "solution": false,
     "task": false
    }
   },
   "outputs": [],
   "source": [
    "z *= 2\n",
    "z"
   ]
  },
  {
   "cell_type": "markdown",
   "metadata": {
    "deletable": false,
    "editable": false,
    "nbgrader": {
     "cell_type": "markdown",
     "checksum": "25e95acedb42669da2bcc7eb8bcbae59",
     "grade": false,
     "grade_id": "cell-85b17157d0dc7dc9",
     "locked": true,
     "schema_version": 3,
     "solution": false,
     "task": false
    }
   },
   "source": [
    "### 3.2  Arithmetic operators\n",
    "\n",
    "You already used arithmetic operators earlier. They are used to perform mathematical operations when used on numbers ( `int` or `float`)."
   ]
  },
  {
   "cell_type": "code",
   "execution_count": null,
   "metadata": {
    "deletable": false,
    "editable": false,
    "nbgrader": {
     "cell_type": "code",
     "checksum": "f58a7f4e05ec0a9cb43eb91b4b278fff",
     "grade": false,
     "grade_id": "cell-eb5883b61370b5ea",
     "locked": true,
     "schema_version": 3,
     "solution": false,
     "task": false
    }
   },
   "outputs": [],
   "source": [
    "5+5"
   ]
  },
  {
   "cell_type": "code",
   "execution_count": null,
   "metadata": {
    "deletable": false,
    "editable": false,
    "nbgrader": {
     "cell_type": "code",
     "checksum": "bc1fe3d844c7cf74b01c96782ba18eaa",
     "grade": false,
     "grade_id": "cell-57cf5c9aa389b2b1",
     "locked": true,
     "schema_version": 3,
     "solution": false,
     "task": false
    }
   },
   "outputs": [],
   "source": [
    "5-10"
   ]
  },
  {
   "cell_type": "code",
   "execution_count": null,
   "metadata": {
    "deletable": false,
    "editable": false,
    "nbgrader": {
     "cell_type": "code",
     "checksum": "c543c371b99ee46aa0c11d8ed0b73aa4",
     "grade": false,
     "grade_id": "cell-11fab821c00efc7d",
     "locked": true,
     "schema_version": 3,
     "solution": false,
     "task": false
    }
   },
   "outputs": [],
   "source": [
    "3*3"
   ]
  },
  {
   "cell_type": "code",
   "execution_count": null,
   "metadata": {
    "deletable": false,
    "editable": false,
    "nbgrader": {
     "cell_type": "code",
     "checksum": "81bfc8a71c07fbbc1ed945a785a04cb0",
     "grade": false,
     "grade_id": "cell-3813ac71c6a75153",
     "locked": true,
     "schema_version": 3,
     "solution": false,
     "task": false
    }
   },
   "outputs": [],
   "source": [
    "3/4"
   ]
  },
  {
   "cell_type": "code",
   "execution_count": null,
   "metadata": {
    "deletable": false,
    "editable": false,
    "nbgrader": {
     "cell_type": "code",
     "checksum": "6530226c79d525176a44f4ec84613364",
     "grade": false,
     "grade_id": "cell-82603a1a57f1bd8c",
     "locked": true,
     "schema_version": 3,
     "solution": false,
     "task": false
    }
   },
   "outputs": [],
   "source": [
    "5**2 # 5 to the power of 2"
   ]
  },
  {
   "cell_type": "markdown",
   "metadata": {
    "deletable": false,
    "editable": false,
    "nbgrader": {
     "cell_type": "markdown",
     "checksum": "ff2d24f5ad17868e48b1a4af2234e987",
     "grade": false,
     "grade_id": "cell-4ef4ad3762eefc72",
     "locked": true,
     "schema_version": 3,
     "solution": false,
     "task": false
    }
   },
   "source": [
    "However, the same operator `+` can be used on strings but with a different meaning! Let's have a look:"
   ]
  },
  {
   "cell_type": "code",
   "execution_count": null,
   "metadata": {
    "deletable": false,
    "editable": false,
    "nbgrader": {
     "cell_type": "code",
     "checksum": "ebc3bde3d80f2797ce024a4eee15d456",
     "grade": false,
     "grade_id": "cell-9cbbc4a724d5fbe4",
     "locked": true,
     "schema_version": 3,
     "solution": false,
     "task": false
    }
   },
   "outputs": [],
   "source": [
    "\"Hello\" + \" \" + \"World!\""
   ]
  },
  {
   "cell_type": "markdown",
   "metadata": {
    "deletable": false,
    "editable": false,
    "nbgrader": {
     "cell_type": "markdown",
     "checksum": "4ff52213a91f43c4bf74ab3772ca35d9",
     "grade": false,
     "grade_id": "cell-b870dd745c26317e",
     "locked": true,
     "schema_version": 3,
     "solution": false,
     "task": false
    }
   },
   "source": [
    "> **Concatenation** is the operation of joining two strings together. It can be done using the `+` operator when used with strings."
   ]
  },
  {
   "cell_type": "markdown",
   "metadata": {
    "deletable": false,
    "editable": false,
    "nbgrader": {
     "cell_type": "markdown",
     "checksum": "accbcb98f90b4c1df64d0b4ed1c0fc89",
     "grade": false,
     "grade_id": "cell-82370a9aa2a28e3f",
     "locked": true,
     "schema_version": 3,
     "solution": false,
     "task": false
    }
   },
   "source": [
    "<div class=\"alert alert-block alert-info\">\n",
    "\n",
    "Why does the code cell below is raising an error ?\n",
    "\n",
    "</div>"
   ]
  },
  {
   "cell_type": "code",
   "execution_count": null,
   "metadata": {
    "deletable": false,
    "editable": false,
    "nbgrader": {
     "cell_type": "code",
     "checksum": "913b65bbfcf3d99d51ac47fc06e62a0c",
     "grade": false,
     "grade_id": "cell-ad8ee39bf8236af8",
     "locked": true,
     "schema_version": 3,
     "solution": false,
     "task": false
    }
   },
   "outputs": [],
   "source": [
    "2+'2'"
   ]
  },
  {
   "cell_type": "markdown",
   "metadata": {
    "deletable": false,
    "editable": false,
    "nbgrader": {
     "cell_type": "markdown",
     "checksum": "75e8e5be9b895da8e9d1ce86c4fd50bb",
     "grade": false,
     "grade_id": "cell-52e99bf8956c5956",
     "locked": true,
     "schema_version": 3,
     "solution": false,
     "task": false
    }
   },
   "source": [
    "Strings can also be multiplied by an integer, which repeats the string that number of times."
   ]
  },
  {
   "cell_type": "code",
   "execution_count": null,
   "metadata": {
    "deletable": false,
    "editable": false,
    "nbgrader": {
     "cell_type": "code",
     "checksum": "595b6694dcb77cb6828a49b6a45c3f86",
     "grade": false,
     "grade_id": "cell-870f8c1440b82bb5",
     "locked": true,
     "schema_version": 3,
     "solution": false,
     "task": false
    }
   },
   "outputs": [],
   "source": [
    "\"Ich bin ein papagei! \" * 10"
   ]
  },
  {
   "cell_type": "markdown",
   "metadata": {
    "deletable": false,
    "editable": false,
    "nbgrader": {
     "cell_type": "markdown",
     "checksum": "63d88f015fc63d41a5e6a468a4b11b3a",
     "grade": false,
     "grade_id": "cell-2279454a15be821a",
     "locked": true,
     "schema_version": 3,
     "solution": false,
     "task": false
    }
   },
   "source": [
    "### 3.3 Comparison operators\n",
    "\n",
    "Comparison operators are used to compare two values. They return a boolean value, `True` or `False`."
   ]
  },
  {
   "cell_type": "code",
   "execution_count": null,
   "metadata": {
    "deletable": false,
    "editable": false,
    "nbgrader": {
     "cell_type": "code",
     "checksum": "18095e7a01a90777467fff7f81998953",
     "grade": false,
     "grade_id": "cell-2b2d1b599f661f3e",
     "locked": true,
     "schema_version": 3,
     "solution": false,
     "task": false
    }
   },
   "outputs": [],
   "source": [
    "3 < 4 # Is 3 less than 4?"
   ]
  },
  {
   "cell_type": "code",
   "execution_count": null,
   "metadata": {
    "deletable": false,
    "editable": false,
    "nbgrader": {
     "cell_type": "code",
     "checksum": "6682d47356bd179399e5c0ba7a1b2032",
     "grade": false,
     "grade_id": "cell-9f027244b4c133d4",
     "locked": true,
     "schema_version": 3,
     "solution": false,
     "task": false
    }
   },
   "outputs": [],
   "source": [
    "3 > 4 # Is 3 greater than 4?"
   ]
  },
  {
   "cell_type": "code",
   "execution_count": null,
   "metadata": {
    "deletable": false,
    "editable": false,
    "nbgrader": {
     "cell_type": "code",
     "checksum": "5b3307041793de7494205dd6350cb831",
     "grade": false,
     "grade_id": "cell-c872a4e07330b7b9",
     "locked": true,
     "schema_version": 3,
     "solution": false,
     "task": false
    }
   },
   "outputs": [],
   "source": [
    "3 <= 3 # Is 3 less than or equal to 3?"
   ]
  },
  {
   "cell_type": "code",
   "execution_count": null,
   "metadata": {
    "deletable": false,
    "editable": false,
    "nbgrader": {
     "cell_type": "code",
     "checksum": "5ba30d973ad3837b73afc4e985e06c85",
     "grade": false,
     "grade_id": "cell-9ae5a0de8523309c",
     "locked": true,
     "schema_version": 3,
     "solution": false,
     "task": false
    }
   },
   "outputs": [],
   "source": [
    "3 >= 4 # Is 3 greater than or equal to 3?"
   ]
  },
  {
   "cell_type": "code",
   "execution_count": null,
   "metadata": {
    "deletable": false,
    "editable": false,
    "nbgrader": {
     "cell_type": "code",
     "checksum": "bfc3edbe12d3173cb990162c3aa7275f",
     "grade": false,
     "grade_id": "cell-bd7182ec3b2d6662",
     "locked": true,
     "schema_version": 3,
     "solution": false,
     "task": false
    }
   },
   "outputs": [],
   "source": [
    "3 == 4 # Is 3 equal to 4? Do not confuse with the assignment operator = "
   ]
  },
  {
   "cell_type": "code",
   "execution_count": null,
   "metadata": {
    "deletable": false,
    "editable": false,
    "nbgrader": {
     "cell_type": "code",
     "checksum": "81e22520243b3087ce40f8d2a929d904",
     "grade": false,
     "grade_id": "cell-3a95d9dd45197cb1",
     "locked": true,
     "schema_version": 3,
     "solution": false,
     "task": false
    }
   },
   "outputs": [],
   "source": [
    "3 != 4 # Is 3 different from 4?"
   ]
  },
  {
   "cell_type": "code",
   "execution_count": null,
   "metadata": {
    "deletable": false,
    "editable": false,
    "nbgrader": {
     "cell_type": "code",
     "checksum": "c88a433e9209a3c8e18932949cd8da43",
     "grade": false,
     "grade_id": "cell-0c2bf7fe4aa440ef",
     "locked": true,
     "schema_version": 3,
     "solution": false,
     "task": false
    }
   },
   "outputs": [],
   "source": [
    "\"Alice\" != \"Bob\""
   ]
  },
  {
   "cell_type": "markdown",
   "metadata": {
    "deletable": false,
    "editable": false,
    "nbgrader": {
     "cell_type": "markdown",
     "checksum": "3a7f83562c2a71d1279b3154ccb05b53",
     "grade": false,
     "grade_id": "cell-29621be992763ab4",
     "locked": true,
     "schema_version": 3,
     "solution": false,
     "task": false
    }
   },
   "source": [
    "### 3.4 Logical operators\n",
    "\n",
    "> Logical operators are used to combine conditional statements. They return a boolean value, `True` or `False`.\n",
    "\n",
    "Logical Operator | Description\n",
    "--- | ---\n",
    "and | If both the operands are True then condition becomes True.\n",
    "or | If any of the two operands are True then condition becomes True. \n",
    "not | Used to reverse the logical (not False becomes True, not True becomes False)"
   ]
  },
  {
   "cell_type": "code",
   "execution_count": null,
   "metadata": {
    "deletable": false,
    "editable": false,
    "nbgrader": {
     "cell_type": "code",
     "checksum": "4153e2c242f7556b2fba993ea5bbd81e",
     "grade": false,
     "grade_id": "cell-07fe7f4a43ecb69e",
     "locked": true,
     "schema_version": 3,
     "solution": false,
     "task": false
    }
   },
   "outputs": [],
   "source": [
    "True and False"
   ]
  },
  {
   "cell_type": "code",
   "execution_count": null,
   "metadata": {
    "deletable": false,
    "editable": false,
    "nbgrader": {
     "cell_type": "code",
     "checksum": "f84547bcab40c702417f9d65c598f54f",
     "grade": false,
     "grade_id": "cell-c1e48a51490af3ab",
     "locked": true,
     "schema_version": 3,
     "solution": false,
     "task": false
    }
   },
   "outputs": [],
   "source": [
    "True or False"
   ]
  },
  {
   "cell_type": "code",
   "execution_count": null,
   "metadata": {
    "deletable": false,
    "editable": false,
    "nbgrader": {
     "cell_type": "code",
     "checksum": "a675dbaa6daec19370df220b9391cd7b",
     "grade": false,
     "grade_id": "cell-de03d5e2be096dea",
     "locked": true,
     "schema_version": 3,
     "solution": false,
     "task": false
    }
   },
   "outputs": [],
   "source": [
    "not True"
   ]
  },
  {
   "cell_type": "code",
   "execution_count": null,
   "metadata": {
    "deletable": false,
    "editable": false,
    "nbgrader": {
     "cell_type": "code",
     "checksum": "5a22b836abfade206ce210dd947ba5ba",
     "grade": false,
     "grade_id": "cell-d7512ecd1ef60c30",
     "locked": true,
     "schema_version": 3,
     "solution": false,
     "task": false
    }
   },
   "outputs": [],
   "source": [
    "not False"
   ]
  },
  {
   "cell_type": "markdown",
   "metadata": {
    "deletable": false,
    "editable": false,
    "nbgrader": {
     "cell_type": "markdown",
     "checksum": "624e5af018807f6fc1298b9486734811",
     "grade": false,
     "grade_id": "cell-aca00813b939b65a",
     "locked": true,
     "schema_version": 3,
     "solution": false,
     "task": false
    }
   },
   "source": [
    "Operands of logical operators are often conditional statements, which return a boolean value. Example:"
   ]
  },
  {
   "cell_type": "code",
   "execution_count": null,
   "metadata": {
    "deletable": false,
    "editable": false,
    "nbgrader": {
     "cell_type": "code",
     "checksum": "089f353cebfee8b5516c58a55a74675a",
     "grade": false,
     "grade_id": "cell-dbbb74aab7532c15",
     "locked": true,
     "schema_version": 3,
     "solution": false,
     "task": false
    }
   },
   "outputs": [],
   "source": [
    "x = 3\n",
    "y = 4\n",
    "z = 5\n",
    "\n",
    "x < y and y > z"
   ]
  },
  {
   "cell_type": "markdown",
   "metadata": {
    "deletable": false,
    "editable": false,
    "nbgrader": {
     "cell_type": "markdown",
     "checksum": "c34a4ce1bb435bb9a7516ad92d472219",
     "grade": false,
     "grade_id": "cell-4768a22d8ee7e324",
     "locked": true,
     "schema_version": 3,
     "solution": false,
     "task": false
    }
   },
   "source": [
    "<div class=\"alert alert-info\">\n",
    "<b>Instruction:</b> What are the type and values of the following expressions ?\n",
    "</div>"
   ]
  },
  {
   "cell_type": "markdown",
   "metadata": {
    "deletable": false,
    "nbgrader": {
     "cell_type": "markdown",
     "checksum": "280c9b51c606ee3a8da4e77838537599",
     "grade": true,
     "grade_id": "cell-f1a7b9be52d8618a",
     "locked": false,
     "points": 0,
     "schema_version": 3,
     "solution": true,
     "task": false
    }
   },
   "source": [
    "```python\n",
    "   not (x != 3)\n",
    "```\n",
    "\n",
    "Response: \n",
    "YOUR ANSWER HERE"
   ]
  },
  {
   "cell_type": "markdown",
   "metadata": {
    "deletable": false,
    "nbgrader": {
     "cell_type": "markdown",
     "checksum": "a1e6d7a2ce417fdb39bade77e5fae858",
     "grade": true,
     "grade_id": "cell-9abcbd78e0bd53dd",
     "locked": false,
     "points": 0,
     "schema_version": 3,
     "solution": true,
     "task": false
    }
   },
   "source": [
    "```python\n",
    "   not x != 3 and y == 4\n",
    "```\n",
    "\n",
    "Response:\n",
    "YOUR ANSWER HERE"
   ]
  },
  {
   "cell_type": "markdown",
   "metadata": {
    "deletable": false,
    "nbgrader": {
     "cell_type": "markdown",
     "checksum": "4eb90f2d0b547aeeb4bf5e7fac0030e5",
     "grade": true,
     "grade_id": "cell-7d7a5b5841027d9d",
     "locked": false,
     "points": 0,
     "schema_version": 3,
     "solution": true,
     "task": false
    }
   },
   "source": [
    "```python\n",
    "   not ((x + 2) == 5 ) or (x + 5) == 2*y\n",
    "```\n",
    "\n",
    "Response:\n",
    "YOUR ANSWER HERE"
   ]
  },
  {
   "cell_type": "markdown",
   "metadata": {
    "deletable": false,
    "editable": false,
    "nbgrader": {
     "cell_type": "markdown",
     "checksum": "db103b9c69819050f802c8a30e418083",
     "grade": false,
     "grade_id": "cell-ca485184d443a6a0",
     "locked": true,
     "schema_version": 3,
     "solution": false,
     "task": false
    }
   },
   "source": [
    "### 3.5 Membership operators\n",
    "\n",
    "> Membership operators are used to test if a sequence is presented in an object.\n",
    "\n",
    "Membership Operator | Description\n",
    "--- | ---\n",
    "in | Returns `True` if a sequence with the specified value is present in the object.\n",
    "not in | Returns `True` if a sequence with the specified value is not present in the object.\n",
    "\n",
    "Membership operators are commonly used with strings, lists, and dictionaries.  \n",
    "Let's take an example with strings."
   ]
  },
  {
   "cell_type": "code",
   "execution_count": null,
   "metadata": {
    "deletable": false,
    "editable": false,
    "nbgrader": {
     "cell_type": "code",
     "checksum": "022738ed39afb5863fb96c233b720999",
     "grade": false,
     "grade_id": "cell-6396915050ffe225",
     "locked": true,
     "schema_version": 3,
     "solution": false,
     "task": false
    }
   },
   "outputs": [],
   "source": [
    "\"Picasso\" in \"Pablo Diego José Francisco de Paula Juan Nepomuceno María de los Remedios Cipriano de la Santísima Trinidad Ruiz y Picasso\""
   ]
  },
  {
   "cell_type": "markdown",
   "metadata": {
    "deletable": false,
    "editable": false,
    "nbgrader": {
     "cell_type": "markdown",
     "checksum": "638133dfd90c7a4a48144d59faad3b04",
     "grade": false,
     "grade_id": "cell-e7c4c0f1ab09291c",
     "locked": true,
     "schema_version": 3,
     "solution": false,
     "task": false
    }
   },
   "source": [
    "It means that the substring `\"Picasso\"` is present in his actual full name at birth (no kidding).\n",
    "\n",
    "Let's now take an example with a list."
   ]
  },
  {
   "cell_type": "code",
   "execution_count": null,
   "metadata": {
    "deletable": false,
    "editable": false,
    "nbgrader": {
     "cell_type": "code",
     "checksum": "e22d4622dfa4cc11fa17174a8de19e45",
     "grade": false,
     "grade_id": "cell-1f14e85baf7fd9b1",
     "locked": true,
     "schema_version": 3,
     "solution": false,
     "task": false
    }
   },
   "outputs": [],
   "source": [
    "VIP_list = [\"Alice\", \"Bob\", \"Charlie\", \"David\", \"Eve\"]\n",
    "\n",
    "\"Alice\" in VIP_list # Is Alice in the VIP list?"
   ]
  },
  {
   "cell_type": "code",
   "execution_count": null,
   "metadata": {
    "deletable": false,
    "editable": false,
    "nbgrader": {
     "cell_type": "code",
     "checksum": "c4d2b945161e8fea333ca28bb0a69164",
     "grade": false,
     "grade_id": "cell-f2ce1408830ccc07",
     "locked": true,
     "schema_version": 3,
     "solution": false,
     "task": false
    }
   },
   "outputs": [],
   "source": [
    "\"Téo\" in VIP_list # Is Téo in the VIP list?"
   ]
  },
  {
   "cell_type": "code",
   "execution_count": null,
   "metadata": {
    "deletable": false,
    "editable": false,
    "nbgrader": {
     "cell_type": "code",
     "checksum": "dc21d24ca7f93a1dc0d02ec0ae21c5a1",
     "grade": false,
     "grade_id": "cell-7f84170a497ced95",
     "locked": true,
     "schema_version": 3,
     "solution": false,
     "task": false
    }
   },
   "outputs": [],
   "source": [
    "\"Téo\" not in VIP_list # Is Téo not in the VIP list?"
   ]
  },
  {
   "cell_type": "markdown",
   "metadata": {
    "deletable": false,
    "editable": false,
    "nbgrader": {
     "cell_type": "markdown",
     "checksum": "2bbe7e915378a82f6760febddd5f60d0",
     "grade": false,
     "grade_id": "cell-a589e529ee4b6200",
     "locked": true,
     "schema_version": 3,
     "solution": false,
     "task": false
    }
   },
   "source": [
    "I am not in the VIP list... but I can add myself with a special method of `list` objects."
   ]
  },
  {
   "cell_type": "code",
   "execution_count": null,
   "metadata": {
    "deletable": false,
    "editable": false,
    "nbgrader": {
     "cell_type": "code",
     "checksum": "3bc6c4f07a21d0b61aafc2b9f4d0e06f",
     "grade": false,
     "grade_id": "cell-888bc910aa1134be",
     "locked": true,
     "schema_version": 3,
     "solution": false,
     "task": false
    }
   },
   "outputs": [],
   "source": [
    "VIP_list.append(\"Téo\")\n",
    "VIP_list"
   ]
  },
  {
   "cell_type": "code",
   "execution_count": null,
   "metadata": {
    "deletable": false,
    "editable": false,
    "nbgrader": {
     "cell_type": "code",
     "checksum": "f5542cf83df83711bdbebd2389bc6272",
     "grade": false,
     "grade_id": "cell-71a9767c2ee4b67d",
     "locked": true,
     "schema_version": 3,
     "solution": false,
     "task": false
    }
   },
   "outputs": [],
   "source": [
    "\"Téo\" in VIP_list"
   ]
  },
  {
   "cell_type": "markdown",
   "metadata": {
    "deletable": false,
    "editable": false,
    "nbgrader": {
     "cell_type": "markdown",
     "checksum": "8cecbcb1ae9af34bc7b7f0aa160b7a1d",
     "grade": false,
     "grade_id": "cell-ac3fac36f3deaf9d",
     "locked": true,
     "schema_version": 3,
     "solution": false,
     "task": false
    }
   },
   "source": [
    "Let's take an example with a dictionary."
   ]
  },
  {
   "cell_type": "code",
   "execution_count": null,
   "metadata": {
    "deletable": false,
    "editable": false,
    "nbgrader": {
     "cell_type": "code",
     "checksum": "fce16b06babef1b2658c68863b98f400",
     "grade": false,
     "grade_id": "cell-b5f39a5fd03d2063",
     "locked": true,
     "schema_version": 3,
     "solution": false,
     "task": false
    }
   },
   "outputs": [],
   "source": [
    "inventory = {\"pencil\" : 5, \"brush\" : 3, \"notebook\" : 2, \"palette\" : 1}\n",
    "inventory"
   ]
  },
  {
   "cell_type": "code",
   "execution_count": null,
   "metadata": {
    "deletable": false,
    "editable": false,
    "nbgrader": {
     "cell_type": "code",
     "checksum": "44ab62a17bbededb92c8863442ab223b",
     "grade": false,
     "grade_id": "cell-f2637d561b7f6be2",
     "locked": true,
     "schema_version": 3,
     "solution": false,
     "task": false
    }
   },
   "outputs": [],
   "source": [
    "\"brush\" in inventory # Is there a brush in my inventory?"
   ]
  },
  {
   "cell_type": "code",
   "execution_count": null,
   "metadata": {
    "deletable": false,
    "editable": false,
    "nbgrader": {
     "cell_type": "code",
     "checksum": "634442213033b691c9d8c260e862ed3d",
     "grade": false,
     "grade_id": "cell-89735e2a145b921c",
     "locked": true,
     "schema_version": 3,
     "solution": false,
     "task": false
    }
   },
   "outputs": [],
   "source": [
    "\"eraser\" in inventory # Is there an eraser in my inventory?"
   ]
  },
  {
   "cell_type": "code",
   "execution_count": null,
   "metadata": {
    "deletable": false,
    "editable": false,
    "nbgrader": {
     "cell_type": "code",
     "checksum": "6536f2ef23a958a79f4842e25022aa7c",
     "grade": false,
     "grade_id": "cell-500f4dc1ef5f2c47",
     "locked": true,
     "schema_version": 3,
     "solution": false,
     "task": false
    }
   },
   "outputs": [],
   "source": [
    "\"stand\" not in inventory # Is there no stand in my inventory?"
   ]
  },
  {
   "cell_type": "markdown",
   "metadata": {
    "deletable": false,
    "editable": false,
    "nbgrader": {
     "cell_type": "markdown",
     "checksum": "9204af9e7d7cf44a747e05173f4bc562",
     "grade": false,
     "grade_id": "cell-937980ff701e82d2",
     "locked": true,
     "schema_version": 3,
     "solution": false,
     "task": false
    }
   },
   "source": [
    "### 3.6 Identity operators\n",
    "\n",
    "> Identity operators are used to compare the objects, not if they are equal, but if they are actually the same object, with the same memory location.\n",
    "\n",
    "Identity Operator | Description\n",
    "--- | ---\n",
    "is | Returns `True` if both variables are the same object.\n",
    "is not | Returns `True` if both variables are not the same object.\n",
    "\n",
    "The most common use of identity operators is to compare variables to `None`, which is a special value in Python that represents the absence of a value."
   ]
  },
  {
   "cell_type": "code",
   "execution_count": null,
   "metadata": {
    "deletable": false,
    "editable": false,
    "nbgrader": {
     "cell_type": "code",
     "checksum": "553bdfadc6f26562743ebddd8599704f",
     "grade": false,
     "grade_id": "cell-624e597943ad7fd7",
     "locked": true,
     "schema_version": 3,
     "solution": false,
     "task": false
    }
   },
   "outputs": [],
   "source": [
    "x = [1, 2, 3]\n",
    "y = x\n",
    "z = [1, 2, 3]\n",
    "\n",
    "print(x is y)\n",
    "print(x is z)"
   ]
  },
  {
   "cell_type": "markdown",
   "metadata": {
    "deletable": false,
    "editable": false,
    "nbgrader": {
     "cell_type": "markdown",
     "checksum": "7bde314a337681ddeae28f13aa6e6014",
     "grade": false,
     "grade_id": "cell-c20461737f77d5db",
     "locked": true,
     "schema_version": 3,
     "solution": false,
     "task": false
    }
   },
   "source": [
    "## Well done!\n",
    "\n",
    "You've learned the basics of Python, a powerful programming language that is widely used in data science and machine learning.\n",
    "\n",
    "In particular, you should now be able to:\n",
    "\n",
    " - Assign values to variables using the `=` operator\n",
    " - Determine the type of a variable\n",
    " - Identify the main data types in Python: numbers, strings, and booleans, \n",
    " - Use lists and dictionaries to store multiple values\n",
    " - Use the main operators in Python: assignment, arithmetic, comparison, logical, membership, and identity operators.\n",
    " \n",
    "It is time to dive deeper into python and learn about control structures and loops.\n",
    "\n",
    "Go to the next [notebook](2.2_tutorial_python_conditions_loops.ipynb) to learn about control structures and loops."
   ]
  }
 ],
 "metadata": {
  "kernelspec": {
   "display_name": "Python 3 (ipykernel)",
   "language": "python",
   "name": "python3"
  },
  "language_info": {
   "codemirror_mode": {
    "name": "ipython",
    "version": 3
   },
   "file_extension": ".py",
   "mimetype": "text/x-python",
   "name": "python",
   "nbconvert_exporter": "python",
   "pygments_lexer": "ipython3",
   "version": "3.11.4"
  }
 },
 "nbformat": 4,
 "nbformat_minor": 4
}
