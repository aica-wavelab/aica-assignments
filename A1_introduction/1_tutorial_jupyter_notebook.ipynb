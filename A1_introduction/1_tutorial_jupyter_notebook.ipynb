{
 "cells": [
  {
   "cell_type": "code",
   "execution_count": null,
   "metadata": {},
   "outputs": [],
   "source": [
    "# Full name test\n",
    "NAME = \"\"\n",
    "# Institutional email (hm.edu or hmtm.de)\n",
    "EMAIL = \"\""
   ]
  },
  {
   "cell_type": "code",
   "execution_count": null,
   "metadata": {
    "scrolled": true
   },
   "outputs": [],
   "source": [
    "#@title install required packages\n",
    "%pip install otter-grader"
   ]
  },
  {
   "cell_type": "code",
   "execution_count": null,
   "metadata": {},
   "outputs": [],
   "source": [
    "# Initialize Otter\n",
    "import otter\n",
    "grader = otter.Notebook(\"1_tutorial_jupyter_notebook.ipynb\")"
   ]
  },
  {
   "cell_type": "markdown",
   "metadata": {
    "editable": false,
    "slideshow": {
     "slide_type": ""
    },
    "tags": []
   },
   "source": [
    "# Day 1 - Data analysis using Jupyter Notebooks\n",
    "\n",
    "+ **AI in Culture and Arts - Tech Crash Course**\n",
    "+ **Date:** 09.04.2025\n",
    "+ **Author:** Dr. Benedikt Zönnchen & Dr. Téo Sanchez"
   ]
  },
  {
   "cell_type": "markdown",
   "metadata": {
    "editable": true,
    "slideshow": {
     "slide_type": ""
    },
    "tags": [],
    "vscode": {
     "languageId": "raw"
    }
   },
   "source": [
    "<a href=\"https://colab.research.google.com/github/aica-wavelab/aica-assignments/blob/main/A1_introduction/1_tutorial_jupyter_notebook.ipynb\" target=\"_parent\">\n",
    "  <img src=\"https://colab.research.google.com/assets/colab-badge.svg\" alt=\"Open In Colab\"/>\n",
    "</a>\n",
    "\n",
    "A *data analysis* addresses the following questions:\n",
    "\n",
    "- What is the question (our objective)?\n",
    "- What are the data?\n",
    "- How do we answer it (statistical tools)?\n",
    "- What are the results (our observations)?\n",
    "- What are the conclusions (our interpretation)?\n",
    "\n",
    "A data analysis takes the form of a narrative document explaining the objectives, hypotheses, and steps of the analysis. It is typically written in English so that it can be shared with a wider audience."
   ]
  },
  {
   "cell_type": "markdown",
   "metadata": {
    "editable": true,
    "nbgrader": {
     "grade": false,
     "grade_id": "cell-28df5629e3b6957e",
     "locked": true,
     "schema_version": 3,
     "solution": false,
     "task": false
    },
    "slideshow": {
     "slide_type": ""
    },
    "tags": []
   },
   "source": [
    "## 1 Working with Jupyter Notebooks\n",
    "\n",
    "<!-- Center the image -->\n",
    "<image src=\"https://upload.wikimedia.org/wikipedia/commons/thumb/3/38/Jupyter_logo.svg/1200px-Jupyter_logo.svg.png\" style=\"width: 200px; display: block; margin-left: auto; margin-right: auto;\"/>\n",
    "\n",
    "[Jupyter](https://jupyter.org/) is an open-source web application that support interactive data science: you can create and share documents that contain executable code, equations, visualizations, and narrative text. It supports various programming languages, but it is most commonly used with ``Python``.\n",
    "\n",
    "It is the preferred means to write such data analysis because **the calculation are easily reproducibles** and **the document is self-contained**.\n",
    "You can intertwin narration (text, formulas), execution of code, and visualization.\n",
    "\n",
    "**The document you are currently reading is a Jupyter Notebook**. A notebook comprises cells, either **text cell**, like this one, or **code cell**, like the one below.\n",
    "\n",
    "<div class=\"alert alert-info\">\n",
    "\n",
    "**Instruction 1.1:** To execute a code cell, click inside the cell and type ``[Shift] + [Enter]``.\n",
    "\n",
    "</div>"
   ]
  },
  {
   "cell_type": "code",
   "execution_count": null,
   "metadata": {
    "editable": true,
    "nbgrader": {
     "grade": false,
     "grade_id": "cell-96cd0bbaf31b132b",
     "locked": true,
     "schema_version": 3,
     "solution": false,
     "task": false
    },
    "slideshow": {
     "slide_type": ""
    },
    "tags": []
   },
   "outputs": [],
   "source": [
    "1 + 1"
   ]
  },
  {
   "cell_type": "markdown",
   "metadata": {
    "editable": true,
    "nbgrader": {
     "grade": false,
     "grade_id": "cell-682986b0d3d9e7b4",
     "locked": true,
     "schema_version": 3,
     "solution": false,
     "task": false
    },
    "slideshow": {
     "slide_type": ""
    },
    "tags": []
   },
   "source": [
    "The output of a cell is placed below it and is usually equal to ``print([last statement of the cell])`` To edit a cell, double-click inside the cell.\n",
    "\n",
    "<div class=\"alert alert-info\">\n",
    "\n",
    "**Instruction 1.2:** Edit the cell above to calculate `2 + 2` instead.\n",
    "\n",
    "</div>"
   ]
  },
  {
   "cell_type": "markdown",
   "metadata": {
    "editable": true,
    "nbgrader": {
     "grade": false,
     "grade_id": "cell-a4c15553e347f5b8",
     "locked": true,
     "schema_version": 3,
     "solution": false,
     "task": false
    },
    "slideshow": {
     "slide_type": ""
    },
    "tags": []
   },
   "source": [
    "### 1.1 The cells in a Jupyter Notebook\n",
    "\n",
    "\n",
    "Most of the course assignments will take the form of Jupyter Notebooks. Those include cells to complete, either with code or explanations in english.\n",
    "\n",
    "The following cell is an example of a cell to complete. The ``...`` indicate that you have to insert something here instead of these dots."
   ]
  },
  {
   "cell_type": "markdown",
   "metadata": {
    "deletable": false,
    "editable": false,
    "slideshow": {
     "slide_type": ""
    },
    "tags": [],
    "vscode": {
     "languageId": "raw"
    }
   },
   "source": [
    "<div class=\"alert alert-info\">\n",
    "\n",
    "**Instruction 1.3:** Calculate `5 - 12` and assign the result to the variable `x`.\n",
    "\n",
    "</div>"
   ]
  },
  {
   "cell_type": "code",
   "execution_count": null,
   "metadata": {
    "editable": true,
    "slideshow": {
     "slide_type": ""
    },
    "tags": [
     "otter_answer_cell"
    ]
   },
   "outputs": [],
   "source": [
    "# Your code here\n",
    "x = ...\n",
    "x"
   ]
  },
  {
   "cell_type": "code",
   "execution_count": null,
   "metadata": {
    "deletable": false,
    "editable": false
   },
   "outputs": [],
   "source": [
    "grader.check(\"q13\")"
   ]
  },
  {
   "cell_type": "markdown",
   "metadata": {
    "editable": true,
    "nbgrader": {
     "grade": true,
     "grade_id": "cell-b52128dda6d3051b",
     "locked": false,
     "points": 1,
     "schema_version": 3,
     "solution": true,
     "task": false
    },
    "slideshow": {
     "slide_type": ""
    },
    "tags": []
   },
   "source": [
    "You can also edit cells containing text like this one\n",
    "like this one. "
   ]
  },
  {
   "cell_type": "markdown",
   "metadata": {
    "deletable": false,
    "editable": false,
    "slideshow": {
     "slide_type": ""
    },
    "tags": [],
    "vscode": {
     "languageId": "raw"
    }
   },
   "source": [
    "<!-- BEGIN QUESTION -->\n",
    "\n",
    "<div class=\"alert alert-info\">\n",
    "\n",
    "**Instruction 1.4:** Double-click in the cell and put your name there. Then execute the cell pressing ``[Shift] + [Enter]``\n",
    "\n",
    "</div>"
   ]
  },
  {
   "cell_type": "markdown",
   "metadata": {
    "tags": [
     "otter_answer_cell"
    ]
   },
   "source": [
    "_Type your answer here, replacing this text._"
   ]
  },
  {
   "cell_type": "markdown",
   "metadata": {
    "deletable": false,
    "editable": false,
    "slideshow": {
     "slide_type": ""
    },
    "tags": [],
    "vscode": {
     "languageId": "raw"
    }
   },
   "source": [
    "<!-- END QUESTION -->\n",
    "\n",
    "Note that some cells in this document are **read-only** : you cannot modify them.  However, you can always insert new free cells (Menu Insert' > 'Insert cell after').\n",
    "\n",
    "You can also enter mathematical formulae in a cell:\n",
    "$$\\frac 1 {1-\\frac 1z} = \\sum_{i=0}^\\infty \\frac 1 {z^i}$$"
   ]
  },
  {
   "cell_type": "markdown",
   "metadata": {
    "editable": true,
    "nbgrader": {
     "grade": false,
     "grade_id": "cell-80839d487efbf220",
     "locked": true,
     "schema_version": 3,
     "solution": false,
     "task": false
    },
    "slideshow": {
     "slide_type": ""
    },
    "tags": []
   },
   "source": [
    "### 1.2 Semi-automatic correction with nbgrader\n",
    "\n",
    "For a graded assignment using Jupyter notebook (not all assignments use Jupyter notebook), part of the correction is based on automatic and hidden tests. The rest of the correction is manual: your teachers will look at your answers and interpretations of the results and will award points to each of them."
   ]
  },
  {
   "cell_type": "markdown",
   "metadata": {
    "editable": true,
    "nbgrader": {
     "grade": false,
     "grade_id": "cell-bfd00ebb6445e4ad",
     "locked": true,
     "schema_version": 3,
     "solution": false,
     "task": false
    },
    "slideshow": {
     "slide_type": ""
    },
    "tags": []
   },
   "source": [
    "### 1.3 Let's get to work!\n",
    "\n",
    "You've learned the basics of Jupyter, a recurrent\n",
    "working environment in this course and in data analysis. In particular, you should now be able to:\n",
    "\n",
    " - Open a jupyter notebook\n",
    " - Create and executing cells\n",
    " - Identify missing code/text that will be graded (either automatically or manually)\n",
    " \n",
    "It is time to learn or refresh your memory on the Python programming language! Go to the next notebook [Python tutorial](2_tutorial_python.ipynb)"
   ]
  },
  {
   "cell_type": "markdown",
   "metadata": {
    "deletable": false,
    "editable": false
   },
   "source": [
    "---\n",
    "\n",
    "To double-check your work, the cell below will rerun all of the autograder tests."
   ]
  },
  {
   "cell_type": "code",
   "execution_count": null,
   "metadata": {
    "deletable": false,
    "editable": false
   },
   "outputs": [],
   "source": [
    "grader.check_all()"
   ]
  }
 ],
 "metadata": {
  "kernelspec": {
   "display_name": "Python 3 (ipykernel)",
   "language": "python",
   "name": "python3"
  },
  "language_info": {
   "codemirror_mode": {
    "name": "ipython",
    "version": 3
   },
   "file_extension": ".py",
   "mimetype": "text/x-python",
   "name": "python",
   "nbconvert_exporter": "python",
   "pygments_lexer": "ipython3",
   "version": "3.11.11"
  },
  "otter": {
   "assignment_name": "1_working_with_notebooks"
  }
 },
 "nbformat": 4,
 "nbformat_minor": 4
}
