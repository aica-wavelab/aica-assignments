{
 "cells": [
  {
   "cell_type": "markdown",
   "metadata": {},
   "source": [
    "Before you turn this problem in, make sure everything runs as expected. First, **restart the kernel** (in the menubar, select Kernel $\\rightarrow$ Restart) and then **run all cells** (in the menubar, select Cell $\\rightarrow$ Run All).\n",
    "\n",
    "Make sure you fill in any place that says `YOUR CODE HERE` or \"YOUR ANSWER HERE\", as well as your name and email below:"
   ]
  },
  {
   "cell_type": "code",
   "execution_count": null,
   "metadata": {},
   "outputs": [],
   "source": [
    "# Full name\n",
    "NAME = \"\"\n",
    "# Institutional email (hm.edu or hmtm.de)\n",
    "EMAIL = \"\""
   ]
  },
  {
   "cell_type": "markdown",
   "metadata": {},
   "source": [
    "---"
   ]
  },
  {
   "cell_type": "markdown",
   "metadata": {
    "deletable": false,
    "editable": false,
    "nbgrader": {
     "cell_type": "markdown",
     "checksum": "16b442c685170987c3b3257f28dbbd1a",
     "grade": false,
     "grade_id": "cell-d4e97482d85bfb1d",
     "locked": true,
     "schema_version": 3,
     "solution": false,
     "task": false
    }
   },
   "source": [
    "# Data analysis using Jupyter Notebook\n",
    "\n",
    "A *data analysis* addresses the following questions:\n",
    "\n",
    "- What is the question (our objective)?\n",
    "- What are the data?\n",
    "- How do we answer it (statistical tools)?\n",
    "- What are the results (our observations)?\n",
    "- What are the conclusions (our interpretation)?\n",
    "\n",
    "A data analysis takes the form of a narrative document explaining the objectives, hypotheses, and steps of the analysis. It is typically written in English so that it can be shared with a wider audience."
   ]
  },
  {
   "cell_type": "markdown",
   "metadata": {
    "deletable": false,
    "editable": false,
    "nbgrader": {
     "cell_type": "markdown",
     "checksum": "20d25843199b348042badf2e47f8598d",
     "grade": false,
     "grade_id": "cell-28df5629e3b6957e",
     "locked": true,
     "schema_version": 3,
     "solution": false,
     "task": false
    }
   },
   "source": [
    "## Why using Jupyter Notebook?\n",
    "\n",
    "<!-- Center the image -->\n",
    "<image src=\"https://upload.wikimedia.org/wikipedia/commons/thumb/3/38/Jupyter_logo.svg/1200px-Jupyter_logo.svg.png\" style=\"width: 200px; display: block; margin-left: auto; margin-right: auto;\"/>\n",
    "\n",
    "[Jupyter](https://jupyter.org/) is an open-source web application that support interactive data science: you can create and share documents that contain executable code, equations, visualizations, and narrative text. It supports various programming languages, but it is most commonly used with Python.\n",
    "\n",
    "It is the preferred means to write such data analysis because **the calculation are easily reproducibles** and **the document is self-contained**.\n",
    "You can intertwin narration (text, formulas), execution of code, and visualization.\n",
    "\n",
    "**The document you are currently reading is a Jupyter Notebook**. A notebook comprises cells, either **text cell**, like this one, or **code cell**, like the one below.\n",
    "\n",
    "<div class=\"alert alert-info\">\n",
    "\n",
    "**Instruction:** To execute a code cell, click inside the cell and type `Shift-Enter`.\n",
    "\n",
    "</div>"
   ]
  },
  {
   "cell_type": "code",
   "execution_count": null,
   "metadata": {
    "deletable": false,
    "editable": false,
    "nbgrader": {
     "cell_type": "code",
     "checksum": "d10e5d306017bf42dc49e31e1e9cca72",
     "grade": false,
     "grade_id": "cell-96cd0bbaf31b132b",
     "locked": true,
     "schema_version": 3,
     "solution": false,
     "task": false
    }
   },
   "outputs": [],
   "source": [
    "1 + 1"
   ]
  },
  {
   "cell_type": "markdown",
   "metadata": {
    "deletable": false,
    "editable": false,
    "nbgrader": {
     "cell_type": "markdown",
     "checksum": "e88794e9984eff7ef8d4582f6fe998cd",
     "grade": false,
     "grade_id": "cell-682986b0d3d9e7b4",
     "locked": true,
     "schema_version": 3,
     "solution": false,
     "task": false
    }
   },
   "source": [
    "To edit a cell, double-click inside the cell.\n",
    "\n",
    "<div class=\"alert alert-info\">\n",
    "\n",
    "** Instruction:** Edit the cell above to calculate `2 + 2` instead.\n",
    "\n",
    "</div>"
   ]
  },
  {
   "cell_type": "markdown",
   "metadata": {
    "deletable": false,
    "editable": false,
    "nbgrader": {
     "cell_type": "markdown",
     "checksum": "521833423238a948b2933e0b30ad0b11",
     "grade": false,
     "grade_id": "cell-a4c15553e347f5b8",
     "locked": true,
     "schema_version": 3,
     "solution": false,
     "task": false
    }
   },
   "source": [
    "## The cells in a Jupyter Notebook\n",
    "\n",
    "\n",
    "Most of the course assignments will take the form of Jupyter Notebooks. Those include cells to complete, either with code or explanations in english.\n",
    "\n",
    "The following cell is an example of a cell to complete. Replace the two lines `# Your code here` and\n",
    "`raise NotImplementedError()` with the calculation to be made. \n",
    "<div class=\"alert alert-info\">\n",
    "\n",
    "*Instruction:* calculate `5 - 12`\n",
    "\n",
    "</div>"
   ]
  },
  {
   "cell_type": "code",
   "execution_count": null,
   "metadata": {
    "deletable": false,
    "nbgrader": {
     "cell_type": "code",
     "checksum": "b411d4f3a6e07912e420c8e2c09eae91",
     "grade": true,
     "grade_id": "cell-7b512196b53d2f97",
     "locked": false,
     "points": 1,
     "schema_version": 3,
     "solution": true,
     "task": false
    }
   },
   "outputs": [],
   "source": [
    "# Write your variable here\n",
    "# YOUR CODE HERE\n",
    "raise NotImplementedError()"
   ]
  },
  {
   "cell_type": "markdown",
   "metadata": {
    "deletable": false,
    "nbgrader": {
     "cell_type": "markdown",
     "checksum": "02874963e690f1e986cd5bfb62a56890",
     "grade": true,
     "grade_id": "cell-b52128dda6d3051b",
     "locked": false,
     "points": 1,
     "schema_version": 3,
     "solution": true,
     "task": false
    }
   },
   "source": [
    "You can also edit cells containing text like this one\n",
    "like this one. \n",
    "<div class=\"alert alert-info\">\n",
    "\n",
    "**Instruction:** double-click in the cell and put your name there:\n",
    "\n",
    "</div>\n",
    "\n",
    "YOUR ANSWER HERE\n",
    "\n",
    "Then Shift-Enter.\n",
    "\n",
    "Note that some cells in this document are **read-only** : you cannot modify them.  However, you can always insert new free cells (Menu Insert' > 'Insert cell after')."
   ]
  },
  {
   "cell_type": "markdown",
   "metadata": {
    "deletable": false,
    "editable": false,
    "nbgrader": {
     "cell_type": "markdown",
     "checksum": "8845c606798a5144d6863d4eeb1b9d96",
     "grade": false,
     "grade_id": "cell-bbc91f30c622bdc8",
     "locked": true,
     "schema_version": 3,
     "solution": false,
     "task": false
    }
   },
   "source": [
    "You can also enter mathematical formulae in a cell:\n",
    "$$\\frac 1 {1-\\frac 1z} = \\sum_{i=0}^\\infty \\frac 1 {z^i}$$"
   ]
  },
  {
   "cell_type": "markdown",
   "metadata": {
    "deletable": false,
    "editable": false,
    "nbgrader": {
     "cell_type": "markdown",
     "checksum": "dffbc667dd409c91a39afcf505987ffb",
     "grade": false,
     "grade_id": "cell-80839d487efbf220",
     "locked": true,
     "schema_version": 3,
     "solution": false,
     "task": false
    }
   },
   "source": [
    "## Semi-automatic correction with nbgrader\n",
    "\n",
    "For a graded assignment using jupyter notebook (not all assignments use jupyter notebook), part of the correction is based on automatic and hidden tests.\n",
    "\n",
    "The rest of the correction is manual: your teachers will look at your answers and interpretations of the results and will award points to each of them."
   ]
  },
  {
   "cell_type": "markdown",
   "metadata": {
    "deletable": false,
    "editable": false,
    "nbgrader": {
     "cell_type": "markdown",
     "checksum": "c2868f2aa86c1c714da0f1488d6ff610",
     "grade": false,
     "grade_id": "cell-bfd00ebb6445e4ad",
     "locked": true,
     "schema_version": 3,
     "solution": false,
     "task": false
    }
   },
   "source": [
    "## Let's get to work!\n",
    "\n",
    "You've learned the basics of Jupyter, a recurrent\n",
    "working environment in this course and in data analysis. In particular, you should now be able to:\n",
    "\n",
    " - Open a jupyter notebook\n",
    " - Create and executing cells\n",
    " - Identify missing code/text that will be graded (either automatically or manually)\n",
    " \n",
    "It is time to learn or refresh your memory on the Python programming language! Go to the next notebook [Python tutorial](2_tutorial_python.ipynb)"
   ]
  }
 ],
 "metadata": {
  "kernelspec": {
   "display_name": "Python 3 (ipykernel)",
   "language": "python",
   "name": "python3"
  },
  "language_info": {
   "codemirror_mode": {
    "name": "ipython",
    "version": 3
   },
   "file_extension": ".py",
   "mimetype": "text/x-python",
   "name": "python",
   "nbconvert_exporter": "python",
   "pygments_lexer": "ipython3",
   "version": "3.11.4"
  }
 },
 "nbformat": 4,
 "nbformat_minor": 4
}
