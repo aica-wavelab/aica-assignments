{
 "cells": [
  {
   "cell_type": "code",
   "execution_count": null,
   "metadata": {},
   "outputs": [],
   "source": [
    "# Full name test\n",
    "NAME = \"\"\n",
    "# Institutional email (hm.edu or hmtm.de)\n",
    "EMAIL = \"\""
   ]
  },
  {
   "cell_type": "code",
   "execution_count": null,
   "metadata": {},
   "outputs": [],
   "source": [
    "#@title install required packages\n",
    "%pip install otter-grader"
   ]
  },
  {
   "cell_type": "code",
   "execution_count": null,
   "metadata": {},
   "outputs": [],
   "source": [
    "#@title clone git repository\n",
    "%%capture\n",
    "%rm -rf aica-assignments\n",
    "!git clone https://github.com/aica-wavelab/aica-assignments.git\n",
    "%cd aica-assignments/A1_introduction"
   ]
  },
  {
   "cell_type": "code",
   "execution_count": null,
   "metadata": {},
   "outputs": [],
   "source": [
    "# Initialize Otter\n",
    "import otter\n",
    "grader = otter.Notebook(\"2_3_tutorial_python_packages.ipynb\")"
   ]
  },
  {
   "cell_type": "markdown",
   "metadata": {},
   "source": [
    "# Day 1 - Rudiments of Python: Modules and Packages\n",
    "\n",
    "+ **AI in Culture and Arts - Tech Crash Course**\n",
    "+ **Date:** 09.04.2025\n",
    "+ **Author:** Dr. Benedikt Zönnchen & Dr. Téo Sanchez"
   ]
  },
  {
   "cell_type": "markdown",
   "metadata": {},
   "source": [
    "<a href=\"https://colab.research.google.com/github/aica-wavelab/aica-assignments/blob/main/A1_introduction/2_3_tutorial_python_packages.ipynb\" target=\"_parent\">\n",
    "  <img src=\"https://colab.research.google.com/assets/colab-badge.svg\" alt=\"Open In Colab\"/>\n",
    "</a>\n",
    "\n",
    "## 8 Modules\n",
    "\n",
    ">A module is a Python file that you want to use in another file or in a notebook. Modules help you and others to structure code.\n",
    "\n",
    "For exampe, in your directory there is a file ``prime.py`` which is a module containing a ``Python`` function ``isprime``. You can ``import`` this function into your code by:"
   ]
  },
  {
   "cell_type": "code",
   "execution_count": null,
   "metadata": {},
   "outputs": [],
   "source": [
    "from prime import isprime"
   ]
  },
  {
   "cell_type": "markdown",
   "metadata": {},
   "source": [
    "After this line the function is in your namespace and you can call it!"
   ]
  },
  {
   "cell_type": "code",
   "execution_count": null,
   "metadata": {},
   "outputs": [],
   "source": [
    "isprime(7)"
   ]
  },
  {
   "cell_type": "code",
   "execution_count": null,
   "metadata": {},
   "outputs": [],
   "source": [
    "isprime(1)"
   ]
  },
  {
   "cell_type": "code",
   "execution_count": null,
   "metadata": {},
   "outputs": [],
   "source": [
    "isprime(2)"
   ]
  },
  {
   "cell_type": "code",
   "execution_count": null,
   "metadata": {},
   "outputs": [],
   "source": [
    "isprime(15)"
   ]
  },
  {
   "cell_type": "markdown",
   "metadata": {},
   "source": [
    "This import works because the file is in the same directory. However, this would be impractical if different programmers want to share there code. Therefore, ``Python`` uses so called package managers to install, delete and manage so called packages. Basically, a package manager makes sure that code from others can be used frictionless."
   ]
  },
  {
   "cell_type": "markdown",
   "metadata": {},
   "source": [
    "> A package is a collection of multiple modules, i.e., functions and methods that allows you to perform many actions without writing your own code.\n",
    "\n",
    "Python has a vast number of packages that can be imported and used in your code. After installing a package using a package manager such as ``pip`` you can usually use it. Again, to import a package, you can use the `import` keyword followed by the package name. Some very basic packages are pre-installed after you install ``Python``.\n",
    "\n",
    "Let's take an example with the `math` package. This package provides mathematical functions and constants."
   ]
  },
  {
   "cell_type": "code",
   "execution_count": null,
   "metadata": {},
   "outputs": [],
   "source": [
    "# Import the math package\n",
    "import math \n",
    "\n",
    "print(math.pi) # prints the value of pi\n",
    "\n",
    "print(math.sqrt(16)) # prints the square root of 16"
   ]
  },
  {
   "cell_type": "markdown",
   "metadata": {},
   "source": [
    "Alternatively, you could import only the specific functions that you need from the `math` package using the `from` keyword."
   ]
  },
  {
   "cell_type": "code",
   "execution_count": null,
   "metadata": {},
   "outputs": [],
   "source": [
    "from math import pi, sqrt\n",
    "\n",
    "print(pi)\n",
    "\n",
    "print(sqrt(16))\n"
   ]
  },
  {
   "cell_type": "markdown",
   "metadata": {},
   "source": [
    "What you can use freely by using ``Python`` packages is unimaginable. It is duo to the open source community rooted in computer science that this gift is provided to humanity.\n",
    "\n",
    "To install a new package you can run\n",
    "\n",
    "```\n",
    "pip install [package-name]\n",
    "```\n",
    "\n",
    "in your terminal or\n",
    "\n",
    "```\n",
    "%pip install [package-name]\n",
    "```\n",
    "\n",
    "in a notebook cell. If the package is already installed, it will say so."
   ]
  },
  {
   "cell_type": "markdown",
   "metadata": {
    "deletable": false,
    "editable": false
   },
   "source": [
    "<!-- BEGIN QUESTION -->\n",
    "\n",
    "<div  class = \"alert alert-info\">\n",
    "\n",
    "**Instruction 8.1:** Install the package called ``pandas``.\n",
    "\n",
    "</div>"
   ]
  },
  {
   "cell_type": "code",
   "execution_count": null,
   "metadata": {
    "tags": [
     "otter_answer_cell"
    ]
   },
   "outputs": [],
   "source": [
    "..."
   ]
  },
  {
   "cell_type": "code",
   "execution_count": null,
   "metadata": {
    "deletable": false,
    "editable": false
   },
   "outputs": [],
   "source": [
    "grader.check(\"q81\")"
   ]
  },
  {
   "cell_type": "markdown",
   "metadata": {
    "deletable": false,
    "editable": false
   },
   "source": [
    "<!-- END QUESTION -->\n",
    "\n",
    "Usually developers try to make their code accesible by providing documentations. For example, writing a doc string at the beginning of a fuction is one such effort.\n",
    "\n",
    "You can print these kind of information using the built in ``help`` function:"
   ]
  },
  {
   "cell_type": "code",
   "execution_count": null,
   "metadata": {},
   "outputs": [],
   "source": [
    "help(sqrt)"
   ]
  },
  {
   "cell_type": "code",
   "execution_count": null,
   "metadata": {},
   "outputs": [],
   "source": [
    "help(isprime)"
   ]
  },
  {
   "cell_type": "markdown",
   "metadata": {},
   "source": [
    "## Well done!\n",
    "\n",
    "You've learned the basics of Python, a powerful programming language that is widely used in data science and machine learning.\n",
    "\n",
    "In particular, you should now be able to:\n",
    "\n",
    " - Use another ``Python`` file as a module.\n",
    " - Install and use packages developed by other people\n",
    " \n",
    "It is time to learn about data science! Go to the [data science tutorial](3_tutorial_data_science.ipynb)"
   ]
  }
 ],
 "metadata": {
  "kernelspec": {
   "display_name": "Python 3 (ipykernel)",
   "language": "python",
   "name": "python3"
  },
  "language_info": {
   "codemirror_mode": {
    "name": "ipython",
    "version": 3
   },
   "file_extension": ".py",
   "mimetype": "text/x-python",
   "name": "python",
   "nbconvert_exporter": "python",
   "pygments_lexer": "ipython3",
   "version": "3.11.11"
  },
  "otter": {
   "assignment_name": "2_3_packages"
  }
 },
 "nbformat": 4,
 "nbformat_minor": 4
}
