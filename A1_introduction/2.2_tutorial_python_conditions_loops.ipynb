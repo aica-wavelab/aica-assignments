{
 "cells": [
  {
   "cell_type": "markdown",
   "metadata": {},
   "source": [
    "Before you turn this problem in, make sure everything runs as expected. First, **restart the kernel** (in the menubar, select Kernel $\\rightarrow$ Restart) and then **run all cells** (in the menubar, select Cell $\\rightarrow$ Run All).\n",
    "\n",
    "Make sure you fill in any place that says `YOUR CODE HERE` or \"YOUR ANSWER HERE\", as well as your name and email below:"
   ]
  },
  {
   "cell_type": "code",
   "execution_count": null,
   "metadata": {},
   "outputs": [],
   "source": [
    "# Full name\n",
    "NAME = \"\"\n",
    "# Institutional email (hm.edu or hmtm.de)\n",
    "EMAIL = \"\""
   ]
  },
  {
   "cell_type": "markdown",
   "metadata": {},
   "source": [
    "---"
   ]
  },
  {
   "cell_type": "markdown",
   "metadata": {
    "deletable": false,
    "editable": false,
    "nbgrader": {
     "cell_type": "markdown",
     "checksum": "d20e308696728601aa9ac3168995b52d",
     "grade": false,
     "grade_id": "cell-1bd26b66e6108823",
     "locked": true,
     "schema_version": 3,
     "solution": false,
     "task": false
    }
   },
   "source": [
    "# Rudiments of Python : conditions and loops\n",
    "\n",
    "## 1. Conditional execution of code blocks\n",
    "\n",
    "> Conditional structures allow to conditionally execute portions of code. Conditional structures use the `if`, `elif`, and `else` statements as below:\n",
    "\n",
    "```python\n",
    "if condition1:\n",
    "    # code block 1\n",
    "elif condition2:\n",
    "    # code block 2\n",
    "elif condition3:\n",
    "    # code block 3\n",
    "else:\n",
    "    # code block 4\n",
    "```\n",
    "\n",
    "The `elif` and `else` blocks are optional. The `elif` block can be repeated as many times as needed.\n",
    "\n",
    "- The `if` block is executed if `condition1` is `True`.\n",
    "- The `elif` block is executed if `condition1` is `False` and `condition2` is `True`.\n",
    "- The `elif` block is executed if `condition1` and `condition2` are `False` and `condition3` is `True`.\n",
    "- The `else` block is executed if all other conditions are `False`.\n",
    "\n",
    "Let's take an example !"
   ]
  },
  {
   "cell_type": "code",
   "execution_count": null,
   "metadata": {
    "deletable": false,
    "editable": false,
    "nbgrader": {
     "cell_type": "code",
     "checksum": "ff18072dadd661c2cc2079f8c3a2c395",
     "grade": false,
     "grade_id": "cell-f4623216f294ab54",
     "locked": true,
     "schema_version": 3,
     "solution": false,
     "task": false
    }
   },
   "outputs": [],
   "source": [
    "x = 10\n",
    "if x > 5:\n",
    "    print(\"x is greater than 5\")\n",
    "elif x < 5:\n",
    "    print(\"x is less than 5\")\n",
    "else:\n",
    "    print(\"x is equal to 5\")"
   ]
  },
  {
   "cell_type": "markdown",
   "metadata": {
    "deletable": false,
    "editable": false,
    "nbgrader": {
     "cell_type": "markdown",
     "checksum": "8d7b4a478dd7ee51961f082f693a0fd6",
     "grade": false,
     "grade_id": "cell-8ec8f1849424b07e",
     "locked": true,
     "schema_version": 3,
     "solution": false,
     "task": false
    }
   },
   "source": [
    "<div  class = \"alert alert-info\">\n",
    "\n",
    "**Instruction:** Assign your age to the variable my_age. Then, write a program that prints a message according to the value of my_age. \n",
    "If my_age is lesser or equal to 26, the program should print \"Youth discount\". If my_age is between 27 and 65 included, the program should print \"Normal price\". Otherwise, the program should print \"Senior discount\".\n",
    "\n",
    "</div>"
   ]
  },
  {
   "cell_type": "code",
   "execution_count": null,
   "metadata": {
    "deletable": false,
    "nbgrader": {
     "cell_type": "code",
     "checksum": "09b04d0fb8a56be55cf342d5b14e8901",
     "grade": true,
     "grade_id": "cell-ab583ad882827be9",
     "locked": false,
     "points": 0,
     "schema_version": 3,
     "solution": true,
     "task": false
    }
   },
   "outputs": [],
   "source": [
    "my_age = 31\n",
    "# YOUR CODE HERE\n",
    "raise NotImplementedError()"
   ]
  },
  {
   "cell_type": "markdown",
   "metadata": {
    "deletable": false,
    "editable": false,
    "nbgrader": {
     "cell_type": "markdown",
     "checksum": "e9c32059f4bd187c27ae9e984a30c832",
     "grade": false,
     "grade_id": "cell-ce329515ec3075d5",
     "locked": true,
     "schema_version": 3,
     "solution": false,
     "task": false
    }
   },
   "source": [
    "<div class=\"alert alert-warning\">\n",
    "⚠️ In python, code blocks are defined by their indentation. An indentation is made of 4 spaces, and you can use the `Tab` key to create one.\n",
    "As a rule of thumb, you should always ident your code after a `:`.\n",
    "If the identation is not respected, you will get an `IndentationError`.\n",
    "</div>"
   ]
  },
  {
   "cell_type": "markdown",
   "metadata": {
    "deletable": false,
    "editable": false,
    "nbgrader": {
     "cell_type": "markdown",
     "checksum": "56b14d06afc7d57a1f5d7a77b573972a",
     "grade": false,
     "grade_id": "cell-cce03222f5b6a8ed",
     "locked": true,
     "schema_version": 3,
     "solution": false,
     "task": false
    }
   },
   "source": [
    "## 2. Loop structures\n",
    "\n",
    "> Loop structures are used to repeat a block of code multiple times. There are two types of loops in Python: `for` and `while`.\n",
    "\n",
    "### 2.1 The `for` loop\n",
    "\n",
    "> The `for` loop is used to iterate over a sequence (list, tuple, string, etc.) and execute a block of code for each element in the sequence.\n",
    "\n",
    "```python\n",
    "for value in sequence:\n",
    "    # code to execute for each value in the sequence\n",
    "```\n",
    "\n",
    "Let's take an example !"
   ]
  },
  {
   "cell_type": "code",
   "execution_count": null,
   "metadata": {
    "deletable": false,
    "editable": false,
    "nbgrader": {
     "cell_type": "code",
     "checksum": "b895f8cc8d4a021415b87650ae62a144",
     "grade": false,
     "grade_id": "cell-5f006dc823ad08a1",
     "locked": true,
     "schema_version": 3,
     "solution": false,
     "task": false
    }
   },
   "outputs": [],
   "source": [
    "my_friends = [\"Thomas\", \"Chloé\", \"Killian\", \"Laure\", \"Hugo\", \"Gaël\", \"Nicolas\", \"Paula\", \"Mélodie\"]\n",
    "\n",
    "for friend in my_friends:\n",
    "    print(friend)"
   ]
  },
  {
   "cell_type": "markdown",
   "metadata": {
    "deletable": false,
    "editable": false,
    "nbgrader": {
     "cell_type": "markdown",
     "checksum": "8ccb4da780286add3d719a1976e68c31",
     "grade": false,
     "grade_id": "cell-cc421580eee1daa7",
     "locked": true,
     "schema_version": 3,
     "solution": false,
     "task": false
    }
   },
   "source": [
    "How many friends do you have? Let's count it using a counter variable names `count`:"
   ]
  },
  {
   "cell_type": "code",
   "execution_count": null,
   "metadata": {
    "deletable": false,
    "editable": false,
    "nbgrader": {
     "cell_type": "code",
     "checksum": "e6bc99dfc4aacbc6720db384f3670f88",
     "grade": false,
     "grade_id": "cell-549fc126336b8ace",
     "locked": true,
     "schema_version": 3,
     "solution": false,
     "task": false
    }
   },
   "outputs": [],
   "source": [
    "count = 0\n",
    "for friend in my_friends:\n",
    "    count += 1\n",
    "\n",
    "print(\"I have\", count, \"friends\")"
   ]
  },
  {
   "cell_type": "markdown",
   "metadata": {
    "deletable": false,
    "editable": false,
    "nbgrader": {
     "cell_type": "markdown",
     "checksum": "0eb13e10d7846191feaf9fb6044c1572",
     "grade": false,
     "grade_id": "cell-82ed9fead14fb2ae",
     "locked": true,
     "schema_version": 3,
     "solution": false,
     "task": false
    }
   },
   "source": [
    "You will notive that the `for` loop creates a variable, in this case `friend`. This variable is successively assigned to each value in the list `friends` and persist even after the loop is finished."
   ]
  },
  {
   "cell_type": "code",
   "execution_count": null,
   "metadata": {
    "deletable": false,
    "editable": false,
    "nbgrader": {
     "cell_type": "code",
     "checksum": "6017920fe672242d171fe108b6800bd7",
     "grade": false,
     "grade_id": "cell-fbfd2551bf7ebb41",
     "locked": true,
     "schema_version": 3,
     "solution": false,
     "task": false
    }
   },
   "outputs": [],
   "source": [
    "friend"
   ]
  },
  {
   "cell_type": "markdown",
   "metadata": {
    "deletable": false,
    "editable": false,
    "nbgrader": {
     "cell_type": "markdown",
     "checksum": "6563f71f1c25f8141a03e15be2d2266b",
     "grade": false,
     "grade_id": "cell-df64ebe9558254b5",
     "locked": true,
     "schema_version": 3,
     "solution": false,
     "task": false
    }
   },
   "source": [
    "A very useful function in Python is `range()`. It generates a sequence of numbers as follows:\n",
    "\n",
    "- `range(n)` generates a sequence of numbers from 0 to n-1.\n",
    "- `range(n, m)` generates a sequence of numbers from n to m-1.\n",
    "- `range(n, m, s)` generates a sequence of numbers from n to m-1 with a step of s.\n",
    "\n",
    "Let's take an example !"
   ]
  },
  {
   "cell_type": "code",
   "execution_count": null,
   "metadata": {
    "deletable": false,
    "editable": false,
    "nbgrader": {
     "cell_type": "code",
     "checksum": "b2a62907658af46f65640b18f9918826",
     "grade": false,
     "grade_id": "cell-4be01bae96f4c1d0",
     "locked": true,
     "schema_version": 3,
     "solution": false,
     "task": false
    }
   },
   "outputs": [],
   "source": [
    "for i in range(10):\n",
    "    print(i)"
   ]
  },
  {
   "cell_type": "code",
   "execution_count": null,
   "metadata": {
    "deletable": false,
    "editable": false,
    "nbgrader": {
     "cell_type": "code",
     "checksum": "35e5783e06b013f68e2929b72c70cd79",
     "grade": false,
     "grade_id": "cell-e4f71203ea8ff715",
     "locked": true,
     "schema_version": 3,
     "solution": false,
     "task": false
    }
   },
   "outputs": [],
   "source": [
    "for i in range(-5, 5):\n",
    "    print(i)"
   ]
  },
  {
   "cell_type": "code",
   "execution_count": null,
   "metadata": {
    "deletable": false,
    "editable": false,
    "nbgrader": {
     "cell_type": "code",
     "checksum": "52fc5f8b65aab62ccd265b1f84edd0fc",
     "grade": false,
     "grade_id": "cell-af544e9140b55fba",
     "locked": true,
     "schema_version": 3,
     "solution": false,
     "task": false
    }
   },
   "outputs": [],
   "source": [
    "for i in range(0, 10, 2):\n",
    "    print(i)"
   ]
  },
  {
   "cell_type": "markdown",
   "metadata": {
    "deletable": false,
    "editable": false,
    "nbgrader": {
     "cell_type": "markdown",
     "checksum": "37431173aa1e71ad33c64bb716e70e5c",
     "grade": false,
     "grade_id": "cell-815202c36e2b05bb",
     "locked": true,
     "schema_version": 3,
     "solution": false,
     "task": false
    }
   },
   "source": [
    "The variable `i` is a common name when using `range()` in a `for` loop. It means \"iteration\" or \"increment\".\n",
    "\n",
    "<div class = \"alert alert-info\">\n",
    "\n",
    "**Instruction:** Write a program that prints all even numbers between 0 and 100 included.\n",
    "\n",
    "</div>"
   ]
  },
  {
   "cell_type": "code",
   "execution_count": null,
   "metadata": {
    "deletable": false,
    "nbgrader": {
     "cell_type": "code",
     "checksum": "0dc163e9bfb0859e51453f4768c726ec",
     "grade": true,
     "grade_id": "cell-6ae4849c708e212e",
     "locked": false,
     "points": 0,
     "schema_version": 3,
     "solution": true,
     "task": false
    }
   },
   "outputs": [],
   "source": [
    "# YOUR CODE HERE\n",
    "raise NotImplementedError()"
   ]
  },
  {
   "cell_type": "markdown",
   "metadata": {
    "deletable": false,
    "editable": false,
    "nbgrader": {
     "cell_type": "markdown",
     "checksum": "b5f3d8ad28029247299d7077725d54c9",
     "grade": false,
     "grade_id": "cell-57b6fc69f129b3e6",
     "locked": true,
     "schema_version": 3,
     "solution": false,
     "task": false
    }
   },
   "source": [
    "`if` statements can be used inside of a loop to conditionally execute code !\n",
    "\n",
    "Let's take an example !"
   ]
  },
  {
   "cell_type": "code",
   "execution_count": null,
   "metadata": {
    "deletable": false,
    "editable": false,
    "nbgrader": {
     "cell_type": "code",
     "checksum": "bf624ef769ea47e500196023a5dea193",
     "grade": false,
     "grade_id": "cell-02623cb3eda4e0ac",
     "locked": true,
     "schema_version": 3,
     "solution": false,
     "task": false
    }
   },
   "outputs": [],
   "source": [
    "guest_list = [\"Alice\", \"Bob\", \"Charlie\", \"David\", \"Eve\", \"Frank\", \"Grace\", \"Heidi\", \"Ivan\", \"Jack\", \"Karl\", \"Laura\", \"Mallory\", \"Nancy\", \"Oscar\", \"Peggy\", \"Quentin\", \"Romeo\", \"Sybil\", \"Trent\", \"Ursula\", \"Victor\", \"Walter\", \"Xavier\", \"Yvonne\", \"Zelda\"]\n",
    "\n",
    "VIP_list = [\"Alice\", \"Heidi\", \"Oscar\", \"Ursula\"]\n",
    "\n",
    "for guest in guest_list:\n",
    "    if guest in VIP_list:\n",
    "        print(guest, \"is a VIP !\")\n",
    "    else:\n",
    "        print(guest)"
   ]
  },
  {
   "cell_type": "markdown",
   "metadata": {
    "deletable": false,
    "editable": false,
    "nbgrader": {
     "cell_type": "markdown",
     "checksum": "89ee0a157444153a5d636e0ef4fb1b37",
     "grade": false,
     "grade_id": "cell-baf997ecebe57595",
     "locked": true,
     "schema_version": 3,
     "solution": false,
     "task": false
    }
   },
   "source": [
    "### 2.1 The `while` loop\n",
    "\n",
    "> The `while` loop is used to execute a block of code as long as a condition is `True`.\n",
    "\n",
    "```python\n",
    "while condition:\n",
    "    # code to execute as long as the condition is True\n",
    "```\n",
    "\n",
    "Let's take an example!"
   ]
  },
  {
   "cell_type": "code",
   "execution_count": null,
   "metadata": {
    "deletable": false,
    "editable": false,
    "nbgrader": {
     "cell_type": "code",
     "checksum": "a9a4fbfe59a39db61016c0ee33a89104",
     "grade": false,
     "grade_id": "cell-c0aff0e922d1ac2d",
     "locked": true,
     "schema_version": 3,
     "solution": false,
     "task": false
    }
   },
   "outputs": [],
   "source": [
    "count = 10\n",
    "while count > 0:\n",
    "    print(count)\n",
    "    count = count - 1\n",
    "print(\"BOOM!\")"
   ]
  },
  {
   "cell_type": "markdown",
   "metadata": {
    "deletable": false,
    "editable": false,
    "nbgrader": {
     "cell_type": "markdown",
     "checksum": "16bee3e2e770bdb3b2247a5cd72615e6",
     "grade": false,
     "grade_id": "cell-94d7626f8b02e8f7",
     "locked": true,
     "schema_version": 3,
     "solution": false,
     "task": false
    }
   },
   "source": [
    "<div class = \"alert alert-info\">\n",
    "\n",
    "Any `for` loop can be written as a `while` loop, but the opposite is not true. \n",
    "\n",
    "`for` loops are more readable and should be preferred when possible.\n",
    "\n",
    "</div>\n",
    "\n",
    "Let's rewrite the previous examples (even numbers between 0 and 100 included) using a `while` loop."
   ]
  },
  {
   "cell_type": "code",
   "execution_count": null,
   "metadata": {
    "deletable": false,
    "editable": false,
    "nbgrader": {
     "cell_type": "code",
     "checksum": "5e030fa003261c4f0aacb4364583fe22",
     "grade": false,
     "grade_id": "cell-832bbf8b16d63738",
     "locked": true,
     "schema_version": 3,
     "solution": false,
     "task": false
    }
   },
   "outputs": [],
   "source": [
    "i = 0\n",
    "while i <= 100:\n",
    "    print(i)\n",
    "    i += 2"
   ]
  },
  {
   "cell_type": "markdown",
   "metadata": {
    "deletable": false,
    "editable": false,
    "nbgrader": {
     "cell_type": "markdown",
     "checksum": "fb3b8316de4505a32ea6fd7dd3417b7d",
     "grade": false,
     "grade_id": "cell-977d913bc3f4478f",
     "locked": true,
     "schema_version": 3,
     "solution": false,
     "task": false
    }
   },
   "source": [
    "With a `while` loop, the increment `i` is defined before the loop and incremented inside the loop.\n",
    "\n",
    "\n",
    "Let's rewrite the previous example (VIP list) using a `while` loop."
   ]
  },
  {
   "cell_type": "code",
   "execution_count": null,
   "metadata": {
    "deletable": false,
    "editable": false,
    "nbgrader": {
     "cell_type": "code",
     "checksum": "f024c37b768ca45b54736d7a5504ddc8",
     "grade": false,
     "grade_id": "cell-0796532b7d27031a",
     "locked": true,
     "schema_version": 3,
     "solution": false,
     "task": false
    }
   },
   "outputs": [],
   "source": [
    "guest_list = [\"Alice\", \"Bob\", \"Charlie\", \"David\", \"Eve\", \"Frank\", \"Grace\", \"Heidi\", \"Ivan\", \"Jack\", \"Karl\", \"Laura\", \"Mallory\", \"Nancy\", \"Oscar\", \"Peggy\", \"Quentin\", \"Romeo\", \"Sybil\", \"Trent\", \"Ursula\", \"Victor\", \"Walter\", \"Xavier\", \"Yvonne\", \"Zelda\"]\n",
    "\n",
    "VIP_list = [\"Alice\", \"Heidi\", \"Oscar\", \"Ursula\"]\n",
    "\n",
    "i = 0\n",
    "while i < len(guest_list):\n",
    "    guest = guest_list[i]\n",
    "    if guest in VIP_list:\n",
    "        print(guest, \"is a VIP !\")\n",
    "    else:\n",
    "        print(guest)\n",
    "    i += 1"
   ]
  },
  {
   "cell_type": "markdown",
   "metadata": {
    "deletable": false,
    "editable": false,
    "nbgrader": {
     "cell_type": "markdown",
     "checksum": "5a95099d3b84c9da4cf3c7f24118c929",
     "grade": false,
     "grade_id": "cell-ea4baad802a250ab",
     "locked": true,
     "schema_version": 3,
     "solution": false,
     "task": false
    }
   },
   "source": [
    "Here we use the increment `i` as an index of the list `friends`."
   ]
  },
  {
   "cell_type": "markdown",
   "metadata": {
    "deletable": false,
    "editable": false,
    "nbgrader": {
     "cell_type": "markdown",
     "checksum": "a57b95f89912a5706325a700318de02d",
     "grade": false,
     "grade_id": "cell-984d9d9b88fd599e",
     "locked": true,
     "schema_version": 3,
     "solution": false,
     "task": false
    }
   },
   "source": [
    "<div class = \"alert alert-info\">\n",
    "\n",
    "**Instruction:** Create a program using a for loop that accomplishes the following:\n",
    "- Identifies and prints all numbers between 0 and 100 that are divisible by both 3 and 7.\n",
    "- Displays these numbers in descending order.\n",
    "\n",
    "</div>\n",
    "\n",
    "NB : The modulo operator `%` returns the remainder of the division of the first operand by the second. It is used to check if a number is divisible by another. For example: \n",
    "- `5 % 2` returns `1` because `5 = 2*2 + 1`\n",
    "- `10 % 5` returns `0` because `10 = 2*5 + 0`"
   ]
  },
  {
   "cell_type": "code",
   "execution_count": null,
   "metadata": {
    "deletable": false,
    "nbgrader": {
     "cell_type": "code",
     "checksum": "15015f22fec00c5f5494c2c20b1220f0",
     "grade": true,
     "grade_id": "cell-7ccc7c7c65dbfad0",
     "locked": false,
     "points": 0,
     "schema_version": 3,
     "solution": true,
     "task": false
    }
   },
   "outputs": [],
   "source": [
    "# YOUR CODE HERE\n",
    "raise NotImplementedError()"
   ]
  },
  {
   "cell_type": "markdown",
   "metadata": {
    "deletable": false,
    "editable": false,
    "nbgrader": {
     "cell_type": "markdown",
     "checksum": "bef50351cae59834f05303c4a266d13b",
     "grade": false,
     "grade_id": "cell-cc1f70327d749572",
     "locked": true,
     "schema_version": 3,
     "solution": false,
     "task": false
    }
   },
   "source": [
    "<div class = \"alert alert-info\">\n",
    "\n",
    "**Instruction:** Create a program using a while loop that accomplishes the same task as the previous program.\n",
    "\n",
    "</div>"
   ]
  },
  {
   "cell_type": "code",
   "execution_count": null,
   "metadata": {
    "deletable": false,
    "nbgrader": {
     "cell_type": "code",
     "checksum": "31eaa2e712ddf64051d980be04026594",
     "grade": true,
     "grade_id": "cell-c425d1107fc4d971",
     "locked": false,
     "points": 0,
     "schema_version": 3,
     "solution": true,
     "task": false
    }
   },
   "outputs": [],
   "source": [
    "# YOUR CODE HERE\n",
    "raise NotImplementedError()"
   ]
  },
  {
   "cell_type": "markdown",
   "metadata": {
    "deletable": false,
    "editable": false,
    "nbgrader": {
     "cell_type": "markdown",
     "checksum": "2067cf21e0e606d66b7334ef03fd146d",
     "grade": false,
     "grade_id": "cell-5ebadfe8b2557217",
     "locked": true,
     "schema_version": 3,
     "solution": false,
     "task": false
    }
   },
   "source": [
    "<div class=\"alert alert-info\">\n",
    "<b>Instruction:</b> Below is a list of names. Create a `while` loop that iterate over the list and display each name until the name \"Jane\" is found.\n",
    "</div>\n",
    "\n",
    "\n",
    "**Important**:\n",
    "- The `break` statement is used to exit a loop.\n",
    "- The `continue` statement is used to skip the rest of the code block and continue with the next iteration.\n",
    "- The `pass` statement is used when a statement is required syntactically but you do not want any command or code to execute.\n"
   ]
  },
  {
   "cell_type": "code",
   "execution_count": null,
   "metadata": {
    "deletable": false,
    "nbgrader": {
     "cell_type": "code",
     "checksum": "d03db197289848ed833b3d95d0373b9a",
     "grade": true,
     "grade_id": "cell-2e241adacf776388",
     "locked": false,
     "points": 0,
     "schema_version": 3,
     "solution": true,
     "task": false
    }
   },
   "outputs": [],
   "source": [
    "names = [\"Alice\", \"Bob\", \"Charlie\", \"David\", \"Eve\", \"Frank\", \"Grace\", \"Helen\", \"Isaac\", \"Jane\", \"Karl\", \"Linda\", \"Mary\", \"Nathan\", \"Olivia\", \"Peter\", \"Quinn\", \"Rachel\", \"Steve\", \"Tom\", \"Ursula\", \"Victor\", \"Wendy\", \"Xavier\", \"Yvonne\", \"Zach\"]\n",
    "\n",
    "# YOUR CODE HERE\n",
    "raise NotImplementedError()"
   ]
  },
  {
   "cell_type": "markdown",
   "metadata": {
    "deletable": false,
    "editable": false,
    "nbgrader": {
     "cell_type": "markdown",
     "checksum": "2ab0214201dd67bae25388a543aab25d",
     "grade": false,
     "grade_id": "cell-1480702b4f8d021f",
     "locked": true,
     "schema_version": 3,
     "solution": false,
     "task": false
    }
   },
   "source": [
    "<div class=\"alert alert-info\">\n",
    "\n",
    "<b>Instruction:</b> Implement the same program as above but using a `for` loop.\n",
    "\n",
    "</div>"
   ]
  },
  {
   "cell_type": "code",
   "execution_count": null,
   "metadata": {
    "deletable": false,
    "nbgrader": {
     "cell_type": "code",
     "checksum": "42cb1dca87c4b2dd482a8a28a84554db",
     "grade": true,
     "grade_id": "cell-b7c7cfc68c87cbd3",
     "locked": false,
     "points": 0,
     "schema_version": 3,
     "solution": true,
     "task": false
    }
   },
   "outputs": [],
   "source": [
    "# YOUR CODE HERE\n",
    "raise NotImplementedError()"
   ]
  },
  {
   "cell_type": "markdown",
   "metadata": {
    "deletable": false,
    "editable": false,
    "nbgrader": {
     "cell_type": "markdown",
     "checksum": "ab39fb89dad50b3e76cc4a77c49b5850",
     "grade": false,
     "grade_id": "cell-8cea881f20e026a4",
     "locked": true,
     "schema_version": 3,
     "solution": false,
     "task": false
    }
   },
   "source": [
    "## Well done!\n",
    "\n",
    "You are now able to:\n",
    "\n",
    " - Write conditional structures using `if`, `elif`, and `else` and conditionally execute code blocks\n",
    " - Use `for` and `while` loops to execute a block of code multiple times or iterate over a sequence of values\n",
    "\n",
    "Go to the next [notebook](2.3_tutorial_python_functions.ipynb) to dive deeper into python and learn about functions and libraries."
   ]
  }
 ],
 "metadata": {
  "kernelspec": {
   "display_name": "Python 3 (ipykernel)",
   "language": "python",
   "name": "python3"
  },
  "language_info": {
   "codemirror_mode": {
    "name": "ipython",
    "version": 3
   },
   "file_extension": ".py",
   "mimetype": "text/x-python",
   "name": "python",
   "nbconvert_exporter": "python",
   "pygments_lexer": "ipython3",
   "version": "3.11.4"
  }
 },
 "nbformat": 4,
 "nbformat_minor": 4
}
