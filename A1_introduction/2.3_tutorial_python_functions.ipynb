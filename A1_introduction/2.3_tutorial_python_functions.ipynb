{
 "cells": [
  {
   "cell_type": "markdown",
   "metadata": {},
   "source": [
    "Before you turn this problem in, make sure everything runs as expected. First, **restart the kernel** (in the menubar, select Kernel $\\rightarrow$ Restart) and then **run all cells** (in the menubar, select Cell $\\rightarrow$ Run All).\n",
    "\n",
    "Make sure you fill in any place that says `YOUR CODE HERE` or \"YOUR ANSWER HERE\", as well as your name and email below:"
   ]
  },
  {
   "cell_type": "code",
   "execution_count": null,
   "metadata": {},
   "outputs": [],
   "source": [
    "# Full name\n",
    "NAME = \"\"\n",
    "# Institutional email (hm.edu or hmtm.de)\n",
    "EMAIL = \"\""
   ]
  },
  {
   "cell_type": "markdown",
   "metadata": {},
   "source": [
    "---"
   ]
  },
  {
   "cell_type": "markdown",
   "metadata": {
    "deletable": false,
    "editable": false,
    "nbgrader": {
     "cell_type": "markdown",
     "checksum": "64230fe262979159cc72bb220cb26ee6",
     "grade": false,
     "grade_id": "cell-4eaf1b650c0244d7",
     "locked": true,
     "schema_version": 3,
     "solution": false,
     "task": false
    }
   },
   "source": [
    "# Rudiments of Python : functions and libraries\n",
    "\n",
    "## 1. Functions\n",
    "\n",
    "> In Python, a function is an organized and reusable block of code that is defined to perform a specific task. It can take inputs (arguments), execute the code block, and optionally return an output. \n",
    "\n",
    "- Functions are defined using the `def` keyword, followed by the function name and parentheses that may include arguments.\n",
    "- The function body starts with a colon `:` and is indented.\n",
    "- The `return` keyword is used to return an output from the function.\n",
    "- Functions can be called by using the function name followed by parentheses that may include arguments. Example: `function_name(argument1, argument2)`\n",
    "\n",
    "Exemple:\n",
    "\n",
    "\n",
    "```python\n",
    "def my_function(parameter_1, parameter_2, ...):\n",
    "    # code to execute\n",
    "    return v\n",
    "```\n",
    "\n",
    "Let's see an example of a function that returns the sum of two numbers."
   ]
  },
  {
   "cell_type": "code",
   "execution_count": null,
   "metadata": {
    "deletable": false,
    "editable": false,
    "nbgrader": {
     "cell_type": "code",
     "checksum": "baea6d8689fb06f956ac16b19e512514",
     "grade": false,
     "grade_id": "cell-b1d4706ccdea340d",
     "locked": true,
     "schema_version": 3,
     "solution": false,
     "task": false
    }
   },
   "outputs": [],
   "source": [
    "def add(x, y):\n",
    "    return x + y"
   ]
  },
  {
   "cell_type": "markdown",
   "metadata": {
    "deletable": false,
    "editable": false,
    "nbgrader": {
     "cell_type": "markdown",
     "checksum": "f098572c9272d78390dea2ccb71b9b72",
     "grade": false,
     "grade_id": "cell-149919f69c158846",
     "locked": true,
     "schema_version": 3,
     "solution": false,
     "task": false
    }
   },
   "source": [
    "When the function is defined (i.e. stored in memory), it is not executed. To execute the function, it must be called."
   ]
  },
  {
   "cell_type": "code",
   "execution_count": null,
   "metadata": {
    "deletable": false,
    "editable": false,
    "nbgrader": {
     "cell_type": "code",
     "checksum": "9959c7ff0f2edf3fe4e086d781af42c4",
     "grade": false,
     "grade_id": "cell-c8c7df22d7ba9536",
     "locked": true,
     "schema_version": 3,
     "solution": false,
     "task": false
    }
   },
   "outputs": [],
   "source": [
    "add(1, 2)"
   ]
  },
  {
   "cell_type": "markdown",
   "metadata": {
    "deletable": false,
    "nbgrader": {
     "cell_type": "markdown",
     "checksum": "0f1a4ab0427369cfd278b1e18ab6d22f",
     "grade": true,
     "grade_id": "cell-9b1e120f790f344b",
     "locked": false,
     "points": 0,
     "schema_version": 3,
     "solution": true,
     "task": false
    }
   },
   "source": [
    "<div class=\"alert alert-info\">\n",
    "<b>Instruction:</b> What is the type of the function's arguments? What is the type returned by the function?\n",
    "</div>\n",
    "\n",
    "YOUR ANSWER HERE"
   ]
  },
  {
   "cell_type": "markdown",
   "metadata": {
    "deletable": false,
    "editable": false,
    "nbgrader": {
     "cell_type": "markdown",
     "checksum": "f8b049f24d1bb0d6128f683c4333704c",
     "grade": false,
     "grade_id": "cell-87a00973e2742f48",
     "locked": true,
     "schema_version": 3,
     "solution": false,
     "task": false
    }
   },
   "source": [
    "Types can be optionally specified in Python, but it is a good practice to do so. You can specify the type of the arguments and the return value by using the `->` notation.\n",
    "\n",
    "Using the example above, the header would become:\n",
    "\n",
    "```python\n",
    "def add(x: int, y: int) -> int:\n",
    "    # code to execute\n",
    "    return value\n",
    "```"
   ]
  },
  {
   "cell_type": "markdown",
   "metadata": {
    "deletable": false,
    "editable": false,
    "nbgrader": {
     "cell_type": "markdown",
     "checksum": "58a8b6a356fab1be28ac1cb705ab3fc7",
     "grade": false,
     "grade_id": "cell-db64a9f459808f73",
     "locked": true,
     "schema_version": 3,
     "solution": false,
     "task": false
    }
   },
   "source": [
    "It is also a good practice to document your function by using a docstring. A docstring is a string that is not executed but describes what the function does. It is placed between triple quotes `\"\"\"`.\n",
    "\n",
    "```python\n",
    "def add(x: int, y: int) -> int:\n",
    "    \"\"\"\n",
    "    This function returns the sum of two integers.\n",
    "\n",
    "    Parameters:\n",
    "        x (int): the first integer\n",
    "        y (int): the second integer\n",
    "    \n",
    "    Returns:\n",
    "        int: the sum of x and y\n",
    "    \"\"\"\n",
    "    # code to execute\n",
    "    return value\n",
    "```"
   ]
  },
  {
   "cell_type": "markdown",
   "metadata": {
    "deletable": false,
    "editable": false,
    "nbgrader": {
     "cell_type": "markdown",
     "checksum": "df2b22e88719d8978f48e56b0e8373f5",
     "grade": false,
     "grade_id": "cell-782d439064c80cb3",
     "locked": true,
     "schema_version": 3,
     "solution": false,
     "task": false
    }
   },
   "source": [
    "<div class=\"alert alert-info\">\n",
    "\n",
    "**Instruction:** Define a function named `findNameIndex` using the docstring above.\n",
    "\n",
    "</div>\n",
    "\n",
    "```python\n",
    "\"\"\"\n",
    "This function takes a list of names and a name as arguments and returns the index of the name in the list if it is found, otherwise it returns -1.\n",
    "\n",
    "Parameters:\n",
    "    names (list): a list of names\n",
    "    name (str): the name to find in the list\n",
    "\n",
    "Returns:\n",
    "    int: the index of the name in the list if it is found, otherwise -1\n",
    "\"\"\"\n",
    "```\n"
   ]
  },
  {
   "cell_type": "code",
   "execution_count": null,
   "metadata": {
    "deletable": false,
    "nbgrader": {
     "cell_type": "code",
     "checksum": "d275b8208c2b8bb5876eaa2c61ca9926",
     "grade": true,
     "grade_id": "cell-fe86fde7b317af84",
     "locked": false,
     "points": 0,
     "schema_version": 3,
     "solution": true,
     "task": false
    }
   },
   "outputs": [],
   "source": [
    "# YOUR CODE HERE\n",
    "raise NotImplementedError()"
   ]
  },
  {
   "cell_type": "code",
   "execution_count": null,
   "metadata": {
    "deletable": false,
    "editable": false,
    "nbgrader": {
     "cell_type": "code",
     "checksum": "3792d70b56dcd304e0eb8da98751090d",
     "grade": false,
     "grade_id": "cell-cc755286488a33fd",
     "locked": true,
     "schema_version": 3,
     "solution": false,
     "task": false
    }
   },
   "outputs": [],
   "source": [
    "names = [\"Alice\", \"Bob\", \"Charlie\", \"David\", \"Eve\", \"Frank\", \"Grace\", \"Heidi\", \"Ivan\", \"Judy\", \"Kevin\", \"Lily\", \"Mallory\", \"Nancy\", \"Oscar\", \"Peggy\", \"Quincy\", \"Romeo\", \"Sybil\", \"Trudy\", \"Ursula\", \"Victor\", \"Walter\", \"Xavier\", \"Yvonne\", \"Zara\"]\n",
    "\n",
    "findNameIndex(names, \"Zara\")"
   ]
  },
  {
   "cell_type": "markdown",
   "metadata": {
    "deletable": false,
    "editable": false,
    "nbgrader": {
     "cell_type": "markdown",
     "checksum": "e499a8957ec14c8d0cc2dda66d667ed1",
     "grade": false,
     "grade_id": "cell-0771011042a92608",
     "locked": true,
     "schema_version": 3,
     "solution": false,
     "task": false
    }
   },
   "source": [
    "`assert` is a useful keyword to test functions. It raises an `AssertionError` if the condition is `False`, and nothing if the condition is `True`.\n",
    "\n",
    "Your fonction `findNameIndex` should not raise any `AssertionError` with the following tests."
   ]
  },
  {
   "cell_type": "code",
   "execution_count": null,
   "metadata": {
    "deletable": false,
    "editable": false,
    "nbgrader": {
     "cell_type": "code",
     "checksum": "264aa7195231e1ef34be21fbf625411e",
     "grade": false,
     "grade_id": "cell-fd6a1dd60408ab43",
     "locked": true,
     "schema_version": 3,
     "solution": false,
     "task": false
    }
   },
   "outputs": [],
   "source": [
    "assert findNameIndex(names, \"Alice\") == 0\n",
    "assert findNameIndex(names, \"Bob\") == 1"
   ]
  },
  {
   "cell_type": "markdown",
   "metadata": {
    "deletable": false,
    "nbgrader": {
     "cell_type": "markdown",
     "checksum": "4f4b80b5f235a426dfcec9255d8b88b7",
     "grade": true,
     "grade_id": "cell-8b805f0263fddb1e",
     "locked": false,
     "points": 0,
     "schema_version": 3,
     "solution": true,
     "task": false
    }
   },
   "source": [
    "YOUR ANSWER HERE"
   ]
  },
  {
   "cell_type": "code",
   "execution_count": null,
   "metadata": {
    "deletable": false,
    "nbgrader": {
     "cell_type": "code",
     "checksum": "b52ae4c1bdb161150b8c39cfd91557e1",
     "grade": true,
     "grade_id": "cell-327c3dc7553796d2",
     "locked": false,
     "points": 0,
     "schema_version": 3,
     "solution": true,
     "task": false
    }
   },
   "outputs": [],
   "source": [
    "# YOUR CODE HERE\n",
    "raise NotImplementedError()"
   ]
  },
  {
   "cell_type": "markdown",
   "metadata": {
    "deletable": false,
    "editable": false,
    "nbgrader": {
     "cell_type": "markdown",
     "checksum": "faa0018696866e0ecdfc19704898382c",
     "grade": false,
     "grade_id": "cell-457f057203eceef0",
     "locked": true,
     "schema_version": 3,
     "solution": false,
     "task": false
    }
   },
   "source": [
    "## 2. Libraries\n",
    "\n",
    "> A library is a collection of functions and methods that allows you to perform many actions without writing your own code.\n",
    "\n",
    "Python has a vast number of libraries that can be imported and used in your code. To import a library, you can use the `import` keyword followed by the library name.\n",
    "\n",
    "Let's take an example with the `math` library. This library provides mathematical functions and constants."
   ]
  },
  {
   "cell_type": "code",
   "execution_count": null,
   "metadata": {
    "deletable": false,
    "editable": false,
    "nbgrader": {
     "cell_type": "code",
     "checksum": "b268a3b4b5e0fc34c3cba313cbcda090",
     "grade": false,
     "grade_id": "cell-90d7aa8b0fe8bc0c",
     "locked": true,
     "schema_version": 3,
     "solution": false,
     "task": false
    }
   },
   "outputs": [],
   "source": [
    "# Import the math library\n",
    "import math \n",
    "\n",
    "\n",
    "print(math.pi) # prints the value of pi\n",
    "\n",
    "print(math.sqrt(16)) # prints the square root of 16"
   ]
  },
  {
   "cell_type": "markdown",
   "metadata": {
    "deletable": false,
    "editable": false,
    "nbgrader": {
     "cell_type": "markdown",
     "checksum": "8917c0209827264dabe32f55c8c83ab1",
     "grade": false,
     "grade_id": "cell-e77c40a3483def45",
     "locked": true,
     "schema_version": 3,
     "solution": false,
     "task": false
    }
   },
   "source": [
    "Alternatively, you could import only the specific functions that you need from the `math` library using the `from` keyword."
   ]
  },
  {
   "cell_type": "code",
   "execution_count": null,
   "metadata": {
    "deletable": false,
    "editable": false,
    "nbgrader": {
     "cell_type": "code",
     "checksum": "85986a0314dc41e78aa9863b50ba76dc",
     "grade": false,
     "grade_id": "cell-c0eb9a8a048ac6b4",
     "locked": true,
     "schema_version": 3,
     "solution": false,
     "task": false
    }
   },
   "outputs": [],
   "source": [
    "from math import pi, sqrt\n",
    "\n",
    "print(pi)\n",
    "\n",
    "print(sqrt(16))\n"
   ]
  },
  {
   "cell_type": "markdown",
   "metadata": {
    "deletable": false,
    "editable": false,
    "nbgrader": {
     "cell_type": "markdown",
     "checksum": "14ed7f75b2c27b454fc3792f92e33293",
     "grade": false,
     "grade_id": "cell-2eede99d62901d4e",
     "locked": true,
     "schema_version": 3,
     "solution": false,
     "task": false
    }
   },
   "source": [
    "## 3. Exercise: Data base of british artists\n",
    "\n",
    "The cell below contains a data structure that represents a database of British artists and their song.\n",
    "\n",
    "The variable `brit_artists` is a dictionary (`dict`) where the keys are the names of the artists (`str`) and the values are lists of songs (`list`)."
   ]
  },
  {
   "cell_type": "code",
   "execution_count": null,
   "metadata": {
    "deletable": false,
    "editable": false,
    "nbgrader": {
     "cell_type": "code",
     "checksum": "9e844699ef1ba242b4deb7c0490bfe2c",
     "grade": false,
     "grade_id": "cell-f422e1b3eaa7d9de",
     "locked": true,
     "schema_version": 3,
     "solution": false,
     "task": false
    }
   },
   "outputs": [],
   "source": [
    "brit_artists = {\"The Beattles\" : [\"Yesterday\",\n",
    "                            \"Hey Jude\",\n",
    "                            \"Let it be\",\n",
    "                            \"Come Together\"],\n",
    "            \"Queen\" : [\"Bohemian Rhapsody\",\n",
    "                     \"We Will Rock You\",\n",
    "                     \"We Are The Champions\",\n",
    "                     \"Another One Bites The Dust\"],\n",
    "            \"Elton John\" : [\"Rocket man\",\n",
    "                            \"Your Song\",\n",
    "                            \"Tiny Dancer\",\n",
    "                            \"Crocodile Rock\"],\n",
    "            \"David Bowie\" : [\"Space Oddity\",\n",
    "                            \"Life on Mars\",\n",
    "                            \"Heroes\",\n",
    "                            \"Starman\"],\n",
    "            \"The Rolling Stones\" : [\"Paint it Black\",\n",
    "                                    \"Sympathy for the Devil\",\n",
    "                                    \"Gimme Shelter\",\n",
    "                                    \"Angie\"]}"
   ]
  },
  {
   "cell_type": "markdown",
   "metadata": {
    "deletable": false,
    "editable": false,
    "nbgrader": {
     "cell_type": "markdown",
     "checksum": "040c16663fbb10e110740829d7c9e35e",
     "grade": false,
     "grade_id": "cell-94dba699e0c823c9",
     "locked": true,
     "schema_version": 3,
     "solution": false,
     "task": false
    }
   },
   "source": [
    "<div class=\"alert alert-info\">\n",
    "\n",
    "**Instruction:** Access the first song of David Bowie ?\n",
    "\n",
    "</div>"
   ]
  },
  {
   "cell_type": "code",
   "execution_count": null,
   "metadata": {
    "deletable": false,
    "nbgrader": {
     "cell_type": "code",
     "checksum": "067f16d9f1e2831026571bbb96fa435f",
     "grade": true,
     "grade_id": "cell-f2d218c27dce83a8",
     "locked": false,
     "points": 0,
     "schema_version": 3,
     "solution": true,
     "task": false
    }
   },
   "outputs": [],
   "source": [
    "# YOUR CODE HERE\n",
    "raise NotImplementedError()"
   ]
  },
  {
   "cell_type": "markdown",
   "metadata": {
    "deletable": false,
    "editable": false,
    "nbgrader": {
     "cell_type": "markdown",
     "checksum": "0fcb365bc5f36f405bfda6b15ce89443",
     "grade": false,
     "grade_id": "cell-fc3b6d3ff2a111c2",
     "locked": true,
     "schema_version": 3,
     "solution": false,
     "task": false
    }
   },
   "source": [
    "<div class=\"alert alert-info\">\n",
    "<b>Instruction:</b> Implement a function named `getSongs` that takes a dictionary of artists and the name of an artist as arguments and returns the list of songs of the artist if it is found, otherwise it raises a `ValueError`.\n",
    "</div>"
   ]
  },
  {
   "cell_type": "code",
   "execution_count": null,
   "metadata": {
    "deletable": false,
    "nbgrader": {
     "cell_type": "code",
     "checksum": "e55b04b6066b6e03a4f46bcb8d7741e6",
     "grade": true,
     "grade_id": "cell-35ab9dcf6f670228",
     "locked": false,
     "points": 0,
     "schema_version": 3,
     "solution": true,
     "task": false
    }
   },
   "outputs": [],
   "source": [
    "def getSongs(data : dict, artist_name : str) -> list:\n",
    "    \"\"\" Get the list of songs from a given artist\n",
    "\n",
    "    Args:\n",
    "        data (dict): Dictionary with artists as keys and songs as values\n",
    "        artist_name (str): Name of the artist\n",
    "\n",
    "    Raises:\n",
    "        ValueError: If the artist is not found in the dictionary\n",
    "\n",
    "    Returns:\n",
    "        list: List of songs from the artist\n",
    "    \"\"\"\n",
    "    \n",
    "    if artist_name in data:\n",
    "        # YOUR CODE HERE\n",
    "        raise NotImplementedError()\n",
    "    else:\n",
    "        raise ValueError(\"Artist not found\")"
   ]
  },
  {
   "cell_type": "markdown",
   "metadata": {
    "deletable": false,
    "editable": false,
    "nbgrader": {
     "cell_type": "markdown",
     "checksum": "d2ea96416fb1490122b870cd99e01155",
     "grade": false,
     "grade_id": "cell-c025e7ec9628b497",
     "locked": true,
     "schema_version": 3,
     "solution": false,
     "task": false
    }
   },
   "source": [
    "<div class=\"alert alert-info\">\n",
    "\n",
    "**Instruction:** Implement a function named `getArtist` that takes a dictionary of artists and the name of a song as arguments and returns the artist that composed the song if it is found, otherwise it raises a `ValueError`.\n",
    "\n",
    "Do not forget to indicate the types of the arguments and the return value in the function's header, as well as to write a docstring.\n",
    "\n",
    "</div>"
   ]
  },
  {
   "cell_type": "code",
   "execution_count": null,
   "metadata": {
    "deletable": false,
    "nbgrader": {
     "cell_type": "code",
     "checksum": "cf1fde3fabd2a07552f85fbb7c365041",
     "grade": true,
     "grade_id": "cell-73ecca779d0930fb",
     "locked": false,
     "points": 0,
     "schema_version": 3,
     "solution": true,
     "task": false
    }
   },
   "outputs": [],
   "source": [
    "# YOUR CODE HERE\n",
    "raise NotImplementedError()"
   ]
  },
  {
   "cell_type": "markdown",
   "metadata": {
    "deletable": false,
    "editable": false,
    "nbgrader": {
     "cell_type": "markdown",
     "checksum": "800083ce2ed1f8af1e3660438c940374",
     "grade": false,
     "grade_id": "cell-31dd492fab9655c4",
     "locked": true,
     "schema_version": 3,
     "solution": false,
     "task": false
    }
   },
   "source": [
    "The functions you implemented must pass all the tests below (no error raised):"
   ]
  },
  {
   "cell_type": "code",
   "execution_count": null,
   "metadata": {
    "deletable": false,
    "editable": false,
    "nbgrader": {
     "cell_type": "code",
     "checksum": "f92aeb9ee785c482acbfe3a351973079",
     "grade": false,
     "grade_id": "cell-56f6335a29fe6e21",
     "locked": true,
     "schema_version": 3,
     "solution": false,
     "task": false
    }
   },
   "outputs": [],
   "source": [
    "assert getSongs(brit_artists, \"Queen\") == [\"Bohemian Rhapsody\",\n",
    "                        \"We Will Rock You\",\n",
    "                        \"We Are The Champions\",\n",
    "                        \"Another One Bites The Dust\"]\n",
    "\n",
    "assert getSongs(brit_artists, \"David Bowie\") == [\"Space Oddity\",\n",
    "                            \"Life on Mars\",\n",
    "                            \"Heroes\",\n",
    "                            \"Starman\"]\n",
    "assert getArtist(brit_artists, \"Bohemian Rhapsody\") == \"Queen\"\n",
    "assert getArtist(brit_artists, \"Space Oddity\") == \"David Bowie\"\n",
    "assert getArtist(brit_artists, \"Yesterday\") == \"The Beattles\""
   ]
  },
  {
   "cell_type": "markdown",
   "metadata": {
    "deletable": false,
    "editable": false,
    "nbgrader": {
     "cell_type": "markdown",
     "checksum": "c3c725bac22dfff6f3197e582405ae1a",
     "grade": false,
     "grade_id": "cell-56f46eb81a92c26d",
     "locked": true,
     "schema_version": 3,
     "solution": false,
     "task": false
    }
   },
   "source": [
    "## Well done!\n",
    "\n",
    "You've learned the basics of Python, a powerful programming language that is widely used in data science and machine learning.\n",
    "\n",
    "In particular, you should now be able to:\n",
    "\n",
    " - Define and call functions\n",
    " - Import libraries and use their functions\n",
    " \n",
    "It is time to learn about data science! Go to the [data science tutorial](3_tutorial_data_science.ipynb)"
   ]
  }
 ],
 "metadata": {
  "kernelspec": {
   "display_name": "Python 3 (ipykernel)",
   "language": "python",
   "name": "python3"
  },
  "language_info": {
   "codemirror_mode": {
    "name": "ipython",
    "version": 3
   },
   "file_extension": ".py",
   "mimetype": "text/x-python",
   "name": "python",
   "nbconvert_exporter": "python",
   "pygments_lexer": "ipython3",
   "version": "3.11.4"
  }
 },
 "nbformat": 4,
 "nbformat_minor": 4
}
