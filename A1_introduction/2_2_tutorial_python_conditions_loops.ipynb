{
 "cells": [
  {
   "cell_type": "code",
   "execution_count": null,
   "metadata": {},
   "outputs": [],
   "source": [
    "# Full name test\n",
    "NAME = \"\"\n",
    "# Institutional email (hm.edu or hmtm.de)\n",
    "EMAIL = \"\""
   ]
  },
  {
   "cell_type": "code",
   "execution_count": null,
   "metadata": {},
   "outputs": [],
   "source": [
    "#@title install required packages\n",
    "%pip install otter-grader"
   ]
  },
  {
   "cell_type": "code",
   "execution_count": null,
   "metadata": {},
   "outputs": [],
   "source": [
    "# Initialize Otter\n",
    "import otter\n",
    "grader = otter.Notebook(\"2_2_tutorial_python_conditions_loops.ipynb\")"
   ]
  },
  {
   "cell_type": "markdown",
   "metadata": {},
   "source": [
    "# Day 1 - Rudiments of Python: Conditions and Loops\n",
    "\n",
    "+ **AI in Culture and Arts - Tech Crash Course**\n",
    "+ **Date:** 09.04.2025\n",
    "+ **Author:** Dr. Benedikt Zönnchen & Téo Sanchez"
   ]
  },
  {
   "cell_type": "markdown",
   "metadata": {
    "editable": true,
    "slideshow": {
     "slide_type": ""
    },
    "tags": []
   },
   "source": [
    "<a href=\"https://colab.research.google.com/github/aica-wavelab/aica-assignments/blob/main/A1_introduction/2_2_tutorial_python_conditions_loops.ipynb\" target=\"_parent\">\n",
    "  <img src=\"https://colab.research.google.com/assets/colab-badge.svg\" alt=\"Open In Colab\"/>\n",
    "</a>\n",
    "\n",
    "## 6 Conditional Execution of Code Blocks\n",
    "\n",
    "> Conditional structures allow to conditionally execute portions of code. Conditional structures use the `if`, `elif`, and `else` statements as below:\n",
    "\n",
    "```python\n",
    "if condition1:\n",
    "    # code block 1\n",
    "elif condition2:\n",
    "    # code block 2\n",
    "elif condition3:\n",
    "    # code block 3\n",
    "else:\n",
    "    # code block 4\n",
    "```\n",
    "\n",
    "The `elif` and `else` blocks are optional. The `elif` block can be repeated as many times as needed.\n",
    "\n",
    "- The `if` block is executed if `condition1` is `True`.\n",
    "- The `elif` block is executed if `condition1` is `False` and `condition2` is `True`.\n",
    "- The `elif` block is executed if `condition1` and `condition2` are `False` and `condition3` is `True`.\n",
    "- The `else` block is executed if all other conditions are `False`.\n",
    "\n",
    "Let's take an example !"
   ]
  },
  {
   "cell_type": "code",
   "execution_count": null,
   "metadata": {},
   "outputs": [],
   "source": [
    "x = 10\n",
    "if x > 5:\n",
    "    print(\"x is greater than 5\")\n",
    "elif x < 5:\n",
    "    print(\"x is less than 5\")\n",
    "else:\n",
    "    print(\"x is equal to 5\")"
   ]
  },
  {
   "cell_type": "markdown",
   "metadata": {
    "deletable": false,
    "editable": false
   },
   "source": [
    "<!-- BEGIN QUESTION -->\n",
    "\n",
    "<div  class = \"alert alert-info\">\n",
    "\n",
    "**Instruction 6.1:** Assign your age to the variable ``my_age``. Then, write a program that prints a message according to the value of ``my_age``. \n",
    "If ``my_age`` is lesser or equal to 26, the program should print ``\"Youth discount\"``. If ``my_age`` is between 27 and 65 included, the program should print ``\"Normal price\"``. Otherwise, the program should print ``\"Senior discount\"``.\n",
    "\n",
    "</div>"
   ]
  },
  {
   "cell_type": "code",
   "execution_count": null,
   "metadata": {
    "tags": [
     "otter_answer_cell"
    ]
   },
   "outputs": [],
   "source": [
    "my_age = ...\n",
    "..."
   ]
  },
  {
   "cell_type": "markdown",
   "metadata": {
    "deletable": false,
    "editable": false
   },
   "source": [
    "<!-- END QUESTION -->\n",
    "\n",
    "<div class=\"alert alert-warning\">\n",
    "    \n",
    "⚠️ In python, code blocks are defined by their indentation. An indentation is made of 4 spaces, and you can use the `Tab` key to create one.\n",
    "As a rule of thumb, you should always ident your code after a `:`.\n",
    "If the identation is not respected, you will get an `IndentationError`.\n",
    "\n",
    "</div>"
   ]
  },
  {
   "cell_type": "markdown",
   "metadata": {},
   "source": [
    "## 7 Loop Structures\n",
    "\n",
    "> Loop structures are used to repeat a block of code multiple times. There are two types of loops in Python: `for` and `while`.\n",
    "\n",
    "### 7.1 The `for` Loop\n",
    "\n",
    "> The `for` loop is used to iterate over a sequence (list, tuple, string, etc.) and execute a block of code for each element in the sequence.\n",
    "\n",
    "```python\n",
    "for value in sequence:\n",
    "    # code to execute for each value in the sequence\n",
    "```\n",
    "\n",
    "Let's take an example !"
   ]
  },
  {
   "cell_type": "code",
   "execution_count": null,
   "metadata": {},
   "outputs": [],
   "source": [
    "my_friends = [\"Thomas\", \"Chloé\", \"Killian\", \"Laure\", \"Hugo\", \"Gaël\", \"Nicolas\", \"Paula\", \"Mélodie\"]\n",
    "\n",
    "for friend in my_friends:\n",
    "    print(friend)"
   ]
  },
  {
   "cell_type": "markdown",
   "metadata": {},
   "source": [
    "How many friends do you have? Let's count it using a counter variable names `count`:"
   ]
  },
  {
   "cell_type": "code",
   "execution_count": null,
   "metadata": {},
   "outputs": [],
   "source": [
    "count = 0\n",
    "for friend in my_friends:\n",
    "    count += 1\n",
    "\n",
    "print(\"I have\", count, \"friends\")"
   ]
  },
  {
   "cell_type": "markdown",
   "metadata": {},
   "source": [
    "You will notive that the `for` loop creates a variable, in this case `friend`. This variable is successively assigned to each value in the list `friends` and persist even after the loop is finished."
   ]
  },
  {
   "cell_type": "code",
   "execution_count": null,
   "metadata": {},
   "outputs": [],
   "source": [
    "friend"
   ]
  },
  {
   "cell_type": "markdown",
   "metadata": {},
   "source": [
    "A very useful function in Python is `range()`. It generates a sequence of numbers as follows:\n",
    "\n",
    "- `range(n)` generates a sequence of numbers from 0 to n-1.\n",
    "- `range(n, m)` generates a sequence of numbers from n to m-1.\n",
    "- `range(n, m, s)` generates a sequence of numbers from n to m-1 with a step of s.\n",
    "\n",
    "Let's take an example !"
   ]
  },
  {
   "cell_type": "code",
   "execution_count": null,
   "metadata": {},
   "outputs": [],
   "source": [
    "for i in range(10):\n",
    "    print(i)"
   ]
  },
  {
   "cell_type": "code",
   "execution_count": null,
   "metadata": {},
   "outputs": [],
   "source": [
    "for i in range(-5, 5):\n",
    "    print(i)"
   ]
  },
  {
   "cell_type": "code",
   "execution_count": null,
   "metadata": {
    "scrolled": true
   },
   "outputs": [],
   "source": [
    "for i in range(0, 10, 2):\n",
    "    print(i)"
   ]
  },
  {
   "cell_type": "markdown",
   "metadata": {},
   "source": [
    "The variable `i` is a common name when using `range()` in a `for` loop. It means \"iteration\" or \"increment\"."
   ]
  },
  {
   "cell_type": "markdown",
   "metadata": {
    "deletable": false,
    "editable": false
   },
   "source": [
    "<!-- BEGIN QUESTION -->\n",
    "\n",
    "<div class = \"alert alert-info\">\n",
    "\n",
    "**Instruction 7.0:** Write a program that prints all even numbers between 0 and 100 included.\n",
    "\n",
    "</div>"
   ]
  },
  {
   "cell_type": "code",
   "execution_count": null,
   "metadata": {
    "tags": [
     "otter_answer_cell"
    ]
   },
   "outputs": [],
   "source": [
    "..."
   ]
  },
  {
   "cell_type": "markdown",
   "metadata": {
    "deletable": false,
    "editable": false
   },
   "source": [
    "<!-- END QUESTION -->\n",
    "\n",
    "`if` statements can be used inside of a loop to conditionally execute code !\n",
    "\n",
    "Let's take an example !"
   ]
  },
  {
   "cell_type": "code",
   "execution_count": null,
   "metadata": {},
   "outputs": [],
   "source": [
    "guest_list = [\"Alice\", \"Bob\", \"Charlie\", \"David\", \"Eve\", \"Frank\", \"Grace\", \"Heidi\", \"Ivan\", \"Jack\", \"Karl\", \"Laura\", \"Mallory\", \"Nancy\", \"Oscar\", \"Peggy\", \"Quentin\", \"Romeo\", \"Sybil\", \"Trent\", \"Ursula\", \"Victor\", \"Walter\", \"Xavier\", \"Yvonne\", \"Zelda\"]\n",
    "\n",
    "VIP_list = [\"Alice\", \"Heidi\", \"Oscar\", \"Ursula\"]\n",
    "\n",
    "for guest in guest_list:\n",
    "    if guest in VIP_list:\n",
    "        print(guest, \"is a VIP !\")\n",
    "    else:\n",
    "        print(guest)"
   ]
  },
  {
   "cell_type": "markdown",
   "metadata": {},
   "source": [
    "### 7.2 The `while` Loop\n",
    "\n",
    "> The `while` loop is used to execute a block of code as long as a condition is `True`.\n",
    "\n",
    "```python\n",
    "while condition:\n",
    "    # code to execute as long as the condition is True\n",
    "```\n",
    "\n",
    "Let's take an example!"
   ]
  },
  {
   "cell_type": "code",
   "execution_count": null,
   "metadata": {},
   "outputs": [],
   "source": [
    "count = 10\n",
    "while count > 0:\n",
    "    print(count)\n",
    "    count = count - 1\n",
    "print(\"BOOM!\")"
   ]
  },
  {
   "cell_type": "markdown",
   "metadata": {},
   "source": [
    "<div class = \"alert alert-info\">\n",
    "\n",
    "Any `for` loop can be written as a `while` loop, but the opposite is not true. \n",
    "\n",
    "`for` loops are more readable and should be preferred when possible.\n",
    "\n",
    "</div>\n",
    "\n",
    "Let's rewrite the previous examples (even numbers between 0 and 100 included) using a `while` loop."
   ]
  },
  {
   "cell_type": "code",
   "execution_count": null,
   "metadata": {},
   "outputs": [],
   "source": [
    "i = 0\n",
    "while i <= 100:\n",
    "    print(i)\n",
    "    i += 2"
   ]
  },
  {
   "cell_type": "markdown",
   "metadata": {},
   "source": [
    "With a `while` loop, the increment `i` is defined before the loop and incremented inside the loop.\n",
    "\n",
    "\n",
    "Let's rewrite the previous example (VIP list) using a `while` loop."
   ]
  },
  {
   "cell_type": "code",
   "execution_count": null,
   "metadata": {},
   "outputs": [],
   "source": [
    "guest_list = [\"Alice\", \"Bob\", \"Charlie\", \"David\", \"Eve\", \"Frank\", \"Grace\", \"Heidi\", \"Ivan\", \"Jack\", \"Karl\", \"Laura\", \"Mallory\", \"Nancy\", \"Oscar\", \"Peggy\", \"Quentin\", \"Romeo\", \"Sybil\", \"Trent\", \"Ursula\", \"Victor\", \"Walter\", \"Xavier\", \"Yvonne\", \"Zelda\"]\n",
    "\n",
    "VIP_list = [\"Alice\", \"Heidi\", \"Oscar\", \"Ursula\"]\n",
    "\n",
    "i = 0\n",
    "while i < len(guest_list):\n",
    "    guest = guest_list[i]\n",
    "    if guest in VIP_list:\n",
    "        print(guest, \"is a VIP !\")\n",
    "    else:\n",
    "        print(guest)\n",
    "    i += 1"
   ]
  },
  {
   "cell_type": "markdown",
   "metadata": {},
   "source": [
    "Here we use the increment `i` as an index of the list `friends`."
   ]
  },
  {
   "cell_type": "markdown",
   "metadata": {
    "deletable": false,
    "editable": false
   },
   "source": [
    "<!-- BEGIN QUESTION -->\n",
    "\n",
    "<div class = \"alert alert-info\">\n",
    "\n",
    "**Instruction 7.1:** Create a program using a for loop that accomplishes the following:\n",
    "- Identifies and prints all numbers between 0 and 100 that are divisible by both 3 and 7.\n",
    "- Displays these numbers in descending order.\n",
    "\n",
    "</div>\n",
    "\n",
    "NB : The modulo operator `%` returns the remainder of the division of the first operand by the second. It is used to check if a number is divisible by another. For example: \n",
    "- `5 % 2` returns `1` because `5 = 2*2 + 1`\n",
    "- `10 % 5` returns `0` because `10 = 2*5 + 0`"
   ]
  },
  {
   "cell_type": "code",
   "execution_count": null,
   "metadata": {
    "tags": [
     "otter_answer_cell"
    ]
   },
   "outputs": [],
   "source": [
    "..."
   ]
  },
  {
   "cell_type": "markdown",
   "metadata": {
    "deletable": false,
    "editable": false
   },
   "source": [
    "<!-- END QUESTION -->\n",
    "\n",
    "<!-- BEGIN QUESTION -->\n",
    "\n",
    "<div class = \"alert alert-info\">\n",
    "\n",
    "**Instruction 7.2:** Create a program using a while loop that accomplishes the same task as the previous program.\n",
    "\n",
    "</div>"
   ]
  },
  {
   "cell_type": "code",
   "execution_count": null,
   "metadata": {
    "tags": [
     "otter_answer_cell"
    ]
   },
   "outputs": [],
   "source": [
    "..."
   ]
  },
  {
   "cell_type": "markdown",
   "metadata": {
    "deletable": false,
    "editable": false
   },
   "source": [
    "<!-- END QUESTION -->\n",
    "\n",
    "<!-- BEGIN QUESTION -->\n",
    "\n",
    "<div class=\"alert alert-info\">\n",
    "    \n",
    "<b>Instruction 7.3:</b> Below is a list of names. Create a `while` loop that iterate over the list and display each name until the name \"Jane\" is found.\n",
    "\n",
    "</div>\n",
    "\n",
    "\n",
    "**Important**:\n",
    "- The `break` statement is used to exit a loop.\n",
    "- The `continue` statement is used to skip the rest of the code block and continue with the next iteration.\n",
    "- The `pass` statement is used when a statement is required syntactically but you do not want any command or code to execute.\n"
   ]
  },
  {
   "cell_type": "code",
   "execution_count": null,
   "metadata": {
    "tags": [
     "otter_answer_cell"
    ]
   },
   "outputs": [],
   "source": [
    "names = [\"Alice\", \"Bob\", \"Charlie\", \"David\", \"Eve\", \"Frank\", \"Grace\", \"Helen\", \"Isaac\", \"Jane\", \"Karl\", \"Linda\", \"Mary\", \"Nathan\", \"Olivia\", \"Peter\", \"Quinn\", \"Rachel\", \"Steve\", \"Tom\", \"Ursula\", \"Victor\", \"Wendy\", \"Xavier\", \"Yvonne\", \"Zach\"]\n",
    "\n",
    "..."
   ]
  },
  {
   "cell_type": "markdown",
   "metadata": {
    "deletable": false,
    "editable": false
   },
   "source": [
    "<!-- END QUESTION -->\n",
    "\n",
    "<!-- BEGIN QUESTION -->\n",
    "\n",
    "<div class=\"alert alert-info\">\n",
    "\n",
    "<b>Instruction 7.4:</b> Implement the same program as above but using a `for` loop.\n",
    "\n",
    "</div>"
   ]
  },
  {
   "cell_type": "code",
   "execution_count": null,
   "metadata": {
    "tags": [
     "otter_answer_cell"
    ]
   },
   "outputs": [],
   "source": [
    "names = [\"Alice\", \"Bob\", \"Charlie\", \"David\", \"Eve\", \"Frank\", \"Grace\", \"Helen\", \"Isaac\", \"Jane\", \"Karl\", \"Linda\", \"Mary\", \"Nathan\", \"Olivia\", \"Peter\", \"Quinn\", \"Rachel\", \"Steve\", \"Tom\", \"Ursula\", \"Victor\", \"Wendy\", \"Xavier\", \"Yvonne\", \"Zach\"]\n",
    "\n",
    "..."
   ]
  },
  {
   "cell_type": "markdown",
   "metadata": {
    "deletable": false,
    "editable": false
   },
   "source": [
    "<!-- END QUESTION -->\n",
    "\n",
    "<div class=\"alert alert-info\">\n",
    "\n",
    "<b>Instruction 7.5:</b> Let us now combine what we have learned. Write a function ``largest`` that takes a ``list`` of whole numbers, that is integers (``int``) and returns the largest one. You can assume that your list of numbers is correct (i.e. it contains only integers) and non-empty.\n",
    "\n",
    "</div>"
   ]
  },
  {
   "cell_type": "code",
   "execution_count": null,
   "metadata": {
    "tags": [
     "otter_answer_cell"
    ]
   },
   "outputs": [],
   "source": [
    "def largest(numbers: list[int]) -> int:\n",
    "    ..."
   ]
  },
  {
   "cell_type": "code",
   "execution_count": null,
   "metadata": {
    "deletable": false,
    "editable": false
   },
   "outputs": [],
   "source": [
    "grader.check(\"q75\")"
   ]
  },
  {
   "cell_type": "markdown",
   "metadata": {
    "deletable": false,
    "editable": false
   },
   "source": [
    "<div class=\"alert alert-info\">\n",
    "\n",
    "<b>Instruction 7.6 (difficult):</b> In Western music theory, there are 12 notes in an octave named ``C``, ``C#``, ``D`` ``D#``, ``E``, ``F``,``F#``, ``G``,``G#``,``A``,``A#``,``B``. At each step e.g. from ``D`` to ``D#`` we move one semitone higher. Write a function ``transpose`` that moves all the notes in list (which represents a melody) ``k`` semintones up. \n",
    "\n",
    "**Hint:** Maybe you want to use two dictionary ``dict`` to transform a note into a number and a number into a note (as a ``str``). \n",
    "\n",
    "</div>"
   ]
  },
  {
   "cell_type": "code",
   "execution_count": null,
   "metadata": {
    "tags": [
     "otter_answer_cell"
    ]
   },
   "outputs": [],
   "source": [
    "def transpose(notes: list[str], k) -> list[str]:\n",
    "    ..."
   ]
  },
  {
   "cell_type": "code",
   "execution_count": null,
   "metadata": {
    "deletable": false,
    "editable": false
   },
   "outputs": [],
   "source": [
    "grader.check(\"q76\")"
   ]
  },
  {
   "cell_type": "markdown",
   "metadata": {},
   "source": [
    "## Well done!\n",
    "\n",
    "You are now able to:\n",
    "\n",
    " - Write conditional structures using `if`, `elif`, and `else` and conditionally execute code blocks\n",
    " - Use `for` and `while` loops to execute a block of code multiple times or iterate over a sequence of values\n",
    "\n",
    "Go to the next [notebook](2.3_tutorial_python_functions.ipynb) to dive deeper into python and learn about functions and libraries."
   ]
  },
  {
   "cell_type": "markdown",
   "metadata": {
    "deletable": false,
    "editable": false
   },
   "source": [
    "---\n",
    "\n",
    "To double-check your work, the cell below will rerun all of the autograder tests."
   ]
  },
  {
   "cell_type": "code",
   "execution_count": null,
   "metadata": {
    "deletable": false,
    "editable": false
   },
   "outputs": [],
   "source": [
    "grader.check_all()"
   ]
  }
 ],
 "metadata": {
  "kernelspec": {
   "display_name": "Python 3 (ipykernel)",
   "language": "python",
   "name": "python3"
  },
  "language_info": {
   "codemirror_mode": {
    "name": "ipython",
    "version": 3
   },
   "file_extension": ".py",
   "mimetype": "text/x-python",
   "name": "python",
   "nbconvert_exporter": "python",
   "pygments_lexer": "ipython3",
   "version": "3.11.11"
  },
  "otter": {
   "assignment_name": "2_2_conditions_loops"
  }
 },
 "nbformat": 4,
 "nbformat_minor": 4
}
