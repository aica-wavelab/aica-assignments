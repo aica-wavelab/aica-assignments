{
 "cells": [
  {
   "cell_type": "markdown",
   "id": "99b5377c",
   "metadata": {},
   "source": [
    "Before you turn this problem in, make sure everything runs as expected. First, **restart the kernel** (in the menubar, select Kernel $\\rightarrow$ Restart) and then **run all cells** (in the menubar, select Cell $\\rightarrow$ Run All).\n",
    "\n",
    "Make sure you fill in any place that says `YOUR CODE HERE` or \"YOUR ANSWER HERE\", as well as your name and email below:"
   ]
  },
  {
   "cell_type": "code",
   "execution_count": null,
   "id": "69815e56",
   "metadata": {},
   "outputs": [],
   "source": [
    "# Full name\n",
    "NAME = \"\"\n",
    "# Institutional email (hm.edu or hmtm.de)\n",
    "EMAIL = \"\""
   ]
  },
  {
   "cell_type": "markdown",
   "id": "e29328bb",
   "metadata": {},
   "source": [
    "---"
   ]
  },
  {
   "cell_type": "markdown",
   "id": "5bf0c09a",
   "metadata": {
    "deletable": false,
    "editable": false,
    "nbgrader": {
     "cell_type": "markdown",
     "checksum": "86cb909435f26f0b0a52b48c3fcdb7be",
     "grade": false,
     "grade_id": "cell-f929ebfafd6568b5",
     "locked": true,
     "schema_version": 3,
     "solution": false,
     "task": false
    }
   },
   "source": [
    "# Day 5 - Visualizing painters' biographies similarity\n",
    "\n",
    "+ **AI in Culture and Arts - Tech Crash Course**\n",
    "+ **Date:** 11.06.2024\n",
    "+ **Author:** Lenny Martinez Dominguez, Ph.D candidate at Sorbonne Université\n",
    "\n",
    "<a href=\"https://colab.research.google.com/github/aica-wavelab/aica-assignments/blob/main/A5_semantic_similarities_visualization/painter_biography_analysis.ipynb\" target=\"_parent\">\n",
    "  <img src=\"https://colab.research.google.com/assets/colab-badge.svg\" alt=\"Open In Colab\"/>\n",
    "</a>\n",
    "\n",
    "## 0. Getting Started\n",
    "\n",
    "### Introduction\n",
    "\n",
    "This fifth day of class will teach you:\n",
    "\n",
    "- How to browse machine learning models on [HuggingFace](https://huggingface.co/), a platform for developing and hosting machine learning models;\n",
    "- How to compute and visualize similarities between artists' biographies;\n",
    "\n",
    "### Content of the repository\n",
    "\n",
    "- `data`: A folder containing the summary information for artists gathered from [Wikipedia](https://en.wikipedia.org/).\n",
    "- `painter_semantic_distance.ipynb`: This notebook you are reading right now, in which you will perform your analysis.\n",
    "\n",
    "### Assignment\n",
    "\n",
    "Your task is to cluster and visualize painters according to the similarity of their biographies, found on [Wikipedia](https://en.wikipedia.org/). The dataset comprises 3939 artists' biographies.\n",
    "\n",
    "### Installation required\n",
    "\n",
    "Please execute the next cell to make sure you have the necessary packages installed for today."
   ]
  },
  {
   "cell_type": "code",
   "execution_count": 1,
   "id": "b874c467",
   "metadata": {
    "deletable": false,
    "editable": false,
    "nbgrader": {
     "cell_type": "code",
     "checksum": "1defecb240383aac3384df835516d606",
     "grade": false,
     "grade_id": "cell-88aba5c0e8e74094",
     "locked": true,
     "schema_version": 3,
     "solution": false,
     "task": false
    }
   },
   "outputs": [
    {
     "name": "stdout",
     "output_type": "stream",
     "text": [
      "Requirement already satisfied: pandas in /opt/miniconda3/lib/python3.12/site-packages (2.1.4)\n",
      "Requirement already satisfied: numpy in /opt/miniconda3/lib/python3.12/site-packages (1.26.4)\n",
      "Requirement already satisfied: matplotlib in /opt/miniconda3/lib/python3.12/site-packages (3.9.0)\n",
      "Requirement already satisfied: seaborn in /opt/miniconda3/lib/python3.12/site-packages (0.13.2)\n",
      "Requirement already satisfied: sentence-transformers in /opt/miniconda3/lib/python3.12/site-packages (3.0.1)\n",
      "Requirement already satisfied: umap-learn in /opt/miniconda3/lib/python3.12/site-packages (0.5.6)\n",
      "Requirement already satisfied: plotly in /opt/miniconda3/lib/python3.12/site-packages (5.22.0)\n",
      "Requirement already satisfied: python-dateutil>=2.8.2 in /opt/miniconda3/lib/python3.12/site-packages (from pandas) (2.8.2)\n",
      "Requirement already satisfied: pytz>=2020.1 in /opt/miniconda3/lib/python3.12/site-packages (from pandas) (2023.3.post1)\n",
      "Requirement already satisfied: tzdata>=2022.1 in /opt/miniconda3/lib/python3.12/site-packages (from pandas) (2023.3)\n",
      "Requirement already satisfied: contourpy>=1.0.1 in /opt/miniconda3/lib/python3.12/site-packages (from matplotlib) (1.2.1)\n",
      "Requirement already satisfied: cycler>=0.10 in /opt/miniconda3/lib/python3.12/site-packages (from matplotlib) (0.12.1)\n",
      "Requirement already satisfied: fonttools>=4.22.0 in /opt/miniconda3/lib/python3.12/site-packages (from matplotlib) (4.52.4)\n",
      "Requirement already satisfied: kiwisolver>=1.3.1 in /opt/miniconda3/lib/python3.12/site-packages (from matplotlib) (1.4.5)\n",
      "Requirement already satisfied: packaging>=20.0 in /opt/miniconda3/lib/python3.12/site-packages (from matplotlib) (23.1)\n",
      "Requirement already satisfied: pillow>=8 in /opt/miniconda3/lib/python3.12/site-packages (from matplotlib) (10.2.0)\n",
      "Requirement already satisfied: pyparsing>=2.3.1 in /opt/miniconda3/lib/python3.12/site-packages (from matplotlib) (3.1.2)\n",
      "Requirement already satisfied: transformers<5.0.0,>=4.34.0 in /opt/miniconda3/lib/python3.12/site-packages (from sentence-transformers) (4.41.2)\n",
      "Requirement already satisfied: tqdm in /opt/miniconda3/lib/python3.12/site-packages (from sentence-transformers) (4.65.0)\n",
      "Requirement already satisfied: torch>=1.11.0 in /opt/miniconda3/lib/python3.12/site-packages (from sentence-transformers) (2.2.1)\n",
      "Requirement already satisfied: scikit-learn in /opt/miniconda3/lib/python3.12/site-packages (from sentence-transformers) (1.5.0)\n",
      "Requirement already satisfied: scipy in /opt/miniconda3/lib/python3.12/site-packages (from sentence-transformers) (1.13.1)\n",
      "Requirement already satisfied: huggingface-hub>=0.15.1 in /opt/miniconda3/lib/python3.12/site-packages (from sentence-transformers) (0.23.3)\n",
      "Requirement already satisfied: numba>=0.51.2 in /opt/miniconda3/lib/python3.12/site-packages (from umap-learn) (0.59.1)\n",
      "Requirement already satisfied: pynndescent>=0.5 in /opt/miniconda3/lib/python3.12/site-packages (from umap-learn) (0.5.12)\n",
      "Requirement already satisfied: tenacity>=6.2.0 in /opt/miniconda3/lib/python3.12/site-packages (from plotly) (8.3.0)\n",
      "Requirement already satisfied: filelock in /opt/miniconda3/lib/python3.12/site-packages (from huggingface-hub>=0.15.1->sentence-transformers) (3.13.1)\n",
      "Requirement already satisfied: fsspec>=2023.5.0 in /opt/miniconda3/lib/python3.12/site-packages (from huggingface-hub>=0.15.1->sentence-transformers) (2024.6.0)\n",
      "Requirement already satisfied: pyyaml>=5.1 in /opt/miniconda3/lib/python3.12/site-packages (from huggingface-hub>=0.15.1->sentence-transformers) (6.0.1)\n",
      "Requirement already satisfied: requests in /opt/miniconda3/lib/python3.12/site-packages (from huggingface-hub>=0.15.1->sentence-transformers) (2.31.0)\n",
      "Requirement already satisfied: typing-extensions>=3.7.4.3 in /opt/miniconda3/lib/python3.12/site-packages (from huggingface-hub>=0.15.1->sentence-transformers) (4.9.0)\n",
      "Requirement already satisfied: llvmlite<0.43,>=0.42.0dev0 in /opt/miniconda3/lib/python3.12/site-packages (from numba>=0.51.2->umap-learn) (0.42.0)\n",
      "Requirement already satisfied: joblib>=0.11 in /opt/miniconda3/lib/python3.12/site-packages (from pynndescent>=0.5->umap-learn) (1.4.2)\n",
      "Requirement already satisfied: six>=1.5 in /opt/miniconda3/lib/python3.12/site-packages (from python-dateutil>=2.8.2->pandas) (1.16.0)\n",
      "Requirement already satisfied: threadpoolctl>=3.1.0 in /opt/miniconda3/lib/python3.12/site-packages (from scikit-learn->sentence-transformers) (3.5.0)\n",
      "Requirement already satisfied: sympy in /opt/miniconda3/lib/python3.12/site-packages (from torch>=1.11.0->sentence-transformers) (1.12)\n",
      "Requirement already satisfied: networkx in /opt/miniconda3/lib/python3.12/site-packages (from torch>=1.11.0->sentence-transformers) (3.1)\n",
      "Requirement already satisfied: jinja2 in /opt/miniconda3/lib/python3.12/site-packages (from torch>=1.11.0->sentence-transformers) (3.1.3)\n",
      "Requirement already satisfied: regex!=2019.12.17 in /opt/miniconda3/lib/python3.12/site-packages (from transformers<5.0.0,>=4.34.0->sentence-transformers) (2024.5.15)\n",
      "Requirement already satisfied: tokenizers<0.20,>=0.19 in /opt/miniconda3/lib/python3.12/site-packages (from transformers<5.0.0,>=4.34.0->sentence-transformers) (0.19.1)\n",
      "Requirement already satisfied: safetensors>=0.4.1 in /opt/miniconda3/lib/python3.12/site-packages (from transformers<5.0.0,>=4.34.0->sentence-transformers) (0.4.3)\n",
      "Requirement already satisfied: MarkupSafe>=2.0 in /opt/miniconda3/lib/python3.12/site-packages (from jinja2->torch>=1.11.0->sentence-transformers) (2.1.3)\n",
      "Requirement already satisfied: charset-normalizer<4,>=2 in /opt/miniconda3/lib/python3.12/site-packages (from requests->huggingface-hub>=0.15.1->sentence-transformers) (2.0.4)\n",
      "Requirement already satisfied: idna<4,>=2.5 in /opt/miniconda3/lib/python3.12/site-packages (from requests->huggingface-hub>=0.15.1->sentence-transformers) (3.4)\n",
      "Requirement already satisfied: urllib3<3,>=1.21.1 in /opt/miniconda3/lib/python3.12/site-packages (from requests->huggingface-hub>=0.15.1->sentence-transformers) (2.1.0)\n",
      "Requirement already satisfied: certifi>=2017.4.17 in /opt/miniconda3/lib/python3.12/site-packages (from requests->huggingface-hub>=0.15.1->sentence-transformers) (2024.2.2)\n",
      "Requirement already satisfied: mpmath>=0.19 in /opt/miniconda3/lib/python3.12/site-packages (from sympy->torch>=1.11.0->sentence-transformers) (1.3.0)\n"
     ]
    }
   ],
   "source": [
    "!pip install pandas numpy matplotlib seaborn sentence-transformers umap-learn plotly"
   ]
  },
  {
   "cell_type": "markdown",
   "id": "29f0421c",
   "metadata": {
    "deletable": false,
    "editable": false,
    "nbgrader": {
     "cell_type": "markdown",
     "checksum": "938d1b5ad0f21168f15993aff28162ab",
     "grade": false,
     "grade_id": "cell-4ec02fd8caddf5b5",
     "locked": true,
     "schema_version": 3,
     "solution": false,
     "task": false
    }
   },
   "source": [
    "---\n",
    "## 4.1. The dataset\n",
    "\n",
    "The dataset was extracted using the [`wikipedia-api` package](https://pypi.org/project/Wikipedia-API/). It's a collection of summaries from painter pages on Wikipedia. The painter pages come from the Wikipedia article [\"List of painters by name\"](https://en.wikipedia.org/wiki/List_of_painters_by_name). While it has a lot of painters, it is important to note that it is far to cover _all_  painters documented on Wikipedia.\n",
    "\n",
    "The dataset is divided into two sections:\n",
    "\n",
    "- The main file is `painter_summaries_all.csv`; it has data on all 3900+ painters listed in the Wikipedia article. One listed painter has been removed from this dataset, which appears in the partial files, and the IDs have not been changed.\n",
    "- There are also six files in the `partial` directory with the format `painter_summaries_part#.csv.` These files have the data split into smaller chunks based on how the data was gathered.\n",
    "\n",
    "### Inspecting the data\n",
    "\n",
    "Open the `painter_summaries_all.csv` file in a spreadsheet program (Excel, Numbers, Sheets, etc.) and look at the data.\n",
    "\n",
    "<div class=\"alert alert-info\">\n",
    "<b>Instruction:</b> What are the columns in this dataset? What do they each contain?\n",
    "</div>"
   ]
  },
  {
   "cell_type": "markdown",
   "id": "661d29b5",
   "metadata": {
    "deletable": false,
    "nbgrader": {
     "cell_type": "markdown",
     "checksum": "5361b736a6d96a706f6297961ff9086a",
     "grade": true,
     "grade_id": "cell-300c692fd608f685",
     "locked": false,
     "points": 0,
     "schema_version": 3,
     "solution": true,
     "task": false
    }
   },
   "source": [
    "- `painter_id`: some numerical data for the painters\n",
    "- `painter_name`: name of the painter\n",
    "- `summary`: the painter's bio according to Wikipedia\n",
    "- `url`: you never know if you need it later"
   ]
  },
  {
   "cell_type": "markdown",
   "id": "e05dad26",
   "metadata": {
    "deletable": false,
    "editable": false,
    "nbgrader": {
     "cell_type": "markdown",
     "checksum": "65ac76c815705ede046be7088b52606a",
     "grade": false,
     "grade_id": "cell-04e7ec5d788172dc",
     "locked": true,
     "schema_version": 3,
     "solution": false,
     "task": false
    }
   },
   "source": [
    "### Loading the data\n",
    "\n",
    "Let's load the complete dataset and inspect it using pandas."
   ]
  },
  {
   "cell_type": "code",
   "execution_count": 18,
   "id": "d2b4fd37",
   "metadata": {
    "deletable": false,
    "editable": false,
    "nbgrader": {
     "cell_type": "code",
     "checksum": "c835b2233582dc094c97cad2ca8b549b",
     "grade": false,
     "grade_id": "cell-c6d7539e5cdc44e9",
     "locked": true,
     "schema_version": 3,
     "solution": false,
     "task": false
    }
   },
   "outputs": [
    {
     "data": {
      "text/html": [
       "<div>\n",
       "<style scoped>\n",
       "    .dataframe tbody tr th:only-of-type {\n",
       "        vertical-align: middle;\n",
       "    }\n",
       "\n",
       "    .dataframe tbody tr th {\n",
       "        vertical-align: top;\n",
       "    }\n",
       "\n",
       "    .dataframe thead th {\n",
       "        text-align: right;\n",
       "    }\n",
       "</style>\n",
       "<table border=\"1\" class=\"dataframe\">\n",
       "  <thead>\n",
       "    <tr style=\"text-align: right;\">\n",
       "      <th></th>\n",
       "      <th>painter_id</th>\n",
       "      <th>painter_name</th>\n",
       "      <th>summary</th>\n",
       "      <th>url</th>\n",
       "    </tr>\n",
       "  </thead>\n",
       "  <tbody>\n",
       "    <tr>\n",
       "      <th>0</th>\n",
       "      <td>1</td>\n",
       "      <td>Alfred Richard Gurrey Sr.</td>\n",
       "      <td>Alfred Richard Gurrey Sr.  (1852–1944) was an ...</td>\n",
       "      <td>https://en.wikipedia.org/wiki/Alfred_Richard_G...</td>\n",
       "    </tr>\n",
       "    <tr>\n",
       "      <th>1</th>\n",
       "      <td>2</td>\n",
       "      <td>Edward Otho Cresap Ord II</td>\n",
       "      <td>Edward Otho Cresap Ord, II (November 9, 1858 –...</td>\n",
       "      <td>https://en.wikipedia.org/wiki/Edward_Otho_Cres...</td>\n",
       "    </tr>\n",
       "    <tr>\n",
       "      <th>2</th>\n",
       "      <td>3</td>\n",
       "      <td>George Barret Jr.</td>\n",
       "      <td>George Barret Jr. (1767–1842), sometimes refer...</td>\n",
       "      <td>https://en.wikipedia.org/wiki/George_Barret_Jr.</td>\n",
       "    </tr>\n",
       "    <tr>\n",
       "      <th>3</th>\n",
       "      <td>4</td>\n",
       "      <td>George Barret Sr.</td>\n",
       "      <td>George Barret Sr.  (c. 1730 – 29 May 1784) was...</td>\n",
       "      <td>https://en.wikipedia.org/wiki/George_Barret_Sr.</td>\n",
       "    </tr>\n",
       "    <tr>\n",
       "      <th>4</th>\n",
       "      <td>5</td>\n",
       "      <td>Henry Ives Cobb Jr.</td>\n",
       "      <td>Henry Ives Cobb Jr. (March 24, 1883 – August 1...</td>\n",
       "      <td>https://en.wikipedia.org/wiki/Henry_Ives_Cobb_Jr.</td>\n",
       "    </tr>\n",
       "  </tbody>\n",
       "</table>\n",
       "</div>"
      ],
      "text/plain": [
       "   painter_id               painter_name  \\\n",
       "0           1  Alfred Richard Gurrey Sr.   \n",
       "1           2  Edward Otho Cresap Ord II   \n",
       "2           3          George Barret Jr.   \n",
       "3           4          George Barret Sr.   \n",
       "4           5        Henry Ives Cobb Jr.   \n",
       "\n",
       "                                             summary  \\\n",
       "0  Alfred Richard Gurrey Sr.  (1852–1944) was an ...   \n",
       "1  Edward Otho Cresap Ord, II (November 9, 1858 –...   \n",
       "2  George Barret Jr. (1767–1842), sometimes refer...   \n",
       "3  George Barret Sr.  (c. 1730 – 29 May 1784) was...   \n",
       "4  Henry Ives Cobb Jr. (March 24, 1883 – August 1...   \n",
       "\n",
       "                                                 url  \n",
       "0  https://en.wikipedia.org/wiki/Alfred_Richard_G...  \n",
       "1  https://en.wikipedia.org/wiki/Edward_Otho_Cres...  \n",
       "2    https://en.wikipedia.org/wiki/George_Barret_Jr.  \n",
       "3    https://en.wikipedia.org/wiki/George_Barret_Sr.  \n",
       "4  https://en.wikipedia.org/wiki/Henry_Ives_Cobb_Jr.  "
      ]
     },
     "execution_count": 18,
     "metadata": {},
     "output_type": "execute_result"
    }
   ],
   "source": [
    "import pandas as pd\n",
    "\n",
    "painter_summaries_df = pd.read_csv(\"data/painter_summaries_all.csv\")\n",
    "\n",
    "painter_summaries_df.head(5)"
   ]
  },
  {
   "cell_type": "markdown",
   "id": "1a7f6584",
   "metadata": {
    "deletable": false,
    "editable": false,
    "nbgrader": {
     "cell_type": "markdown",
     "checksum": "3e699d74173b31cd194172c26f3acd46",
     "grade": false,
     "grade_id": "cell-6aadb4775bc4e583",
     "locked": true,
     "schema_version": 3,
     "solution": false,
     "task": false
    }
   },
   "source": [
    "<div class=\"alert alert-info\">\n",
    "<b>Instruction:</b> How many painters are in the dataset?"
   ]
  },
  {
   "cell_type": "code",
   "execution_count": 19,
   "id": "b3f5f273",
   "metadata": {
    "deletable": false,
    "nbgrader": {
     "cell_type": "code",
     "checksum": "a31a961abf25d7361e63fe8d8a22e57e",
     "grade": true,
     "grade_id": "cell-7f66c19602fc1bc5",
     "locked": false,
     "points": 0,
     "schema_version": 3,
     "solution": true,
     "task": false
    }
   },
   "outputs": [
    {
     "data": {
      "text/plain": [
       "9"
      ]
     },
     "execution_count": 19,
     "metadata": {},
     "output_type": "execute_result"
    }
   ],
   "source": [
    "painter_summaries_df[\"painter_name\"].count() - painter_summaries_df[\"painter_name\"].nunique()"
   ]
  },
  {
   "cell_type": "markdown",
   "id": "a601c4f0",
   "metadata": {
    "deletable": false,
    "editable": false,
    "nbgrader": {
     "cell_type": "markdown",
     "checksum": "2dae10055e661043d481adaea443ce73",
     "grade": false,
     "grade_id": "cell-0b80175ca420618e",
     "locked": true,
     "schema_version": 3,
     "solution": false,
     "task": false
    }
   },
   "source": [
    "<div class=\"alert alert-info\">\n",
    "<b>Instruction:</b> Print all rows of painters with identical names. Are they likely homonyms or duplicates?"
   ]
  },
  {
   "cell_type": "code",
   "execution_count": 11,
   "id": "1243ed12",
   "metadata": {
    "deletable": false,
    "nbgrader": {
     "cell_type": "code",
     "checksum": "958aad180f35e642be86cd5488918633",
     "grade": true,
     "grade_id": "cell-f0c8ee421d1bd35f",
     "locked": false,
     "points": 0,
     "schema_version": 3,
     "solution": true,
     "task": false
    }
   },
   "outputs": [
    {
     "data": {
      "text/plain": [
       "painter_name\n",
       "Galli da Bibiena family    4\n",
       "Walter Emerson Baum        2\n",
       "Hristofor Žefarović        2\n",
       "Giulio Clovio              2\n",
       "Domenichino                2\n",
       "                          ..\n",
       "Giorgio de Chirico         1\n",
       "Giorgio De Vincenzi        1\n",
       "Giorgio Morandi            1\n",
       "Giorgione                  1\n",
       "Þórarinn B. Þorláksson     1\n",
       "Name: count, Length: 3925, dtype: int64"
      ]
     },
     "execution_count": 11,
     "metadata": {},
     "output_type": "execute_result"
    }
   ],
   "source": [
    "painter_summaries_df[\"painter_name\"].value_counts()"
   ]
  },
  {
   "cell_type": "markdown",
   "id": "fb8e86eb",
   "metadata": {
    "deletable": false,
    "editable": false,
    "nbgrader": {
     "cell_type": "markdown",
     "checksum": "7fbb7066a993f8cb3ab8e2e1758f23bf",
     "grade": false,
     "grade_id": "cell-e859757e56178f14",
     "locked": true,
     "schema_version": 3,
     "solution": false,
     "task": false
    }
   },
   "source": [
    "### Cleaning the dataset \n",
    "<div class=\"alert alert-info\">\n",
    "<b>Instruction:</b> Create a new dataframe <strong>painter_summaries_clean</strong> that does not have duplicates based on the <em>painter_name</em> column.\n",
    "</div>\n",
    "To do that, you can use the [`drop_duplicates`](https://pandas.pydata.org/docs/reference/api/pandas.DataFrame.drop_duplicates.html) method from pandas."
   ]
  },
  {
   "cell_type": "code",
   "execution_count": 21,
   "id": "c07fb563",
   "metadata": {
    "deletable": false,
    "nbgrader": {
     "cell_type": "code",
     "checksum": "cc33563ed4b24c3e0d8fb2868dc3b24c",
     "grade": true,
     "grade_id": "cell-93049ee1a2f29c7e",
     "locked": false,
     "points": 0,
     "schema_version": 3,
     "solution": true,
     "task": false
    }
   },
   "outputs": [
    {
     "data": {
      "text/plain": [
       "0"
      ]
     },
     "execution_count": 21,
     "metadata": {},
     "output_type": "execute_result"
    }
   ],
   "source": [
    "painter_summaries_clean = painter_summaries_df.drop_duplicates(subset=\"painter_name\")\n",
    "painter_summaries_clean.head(10)\n",
    "\n",
    "\n",
    "painter_summaries_clean[\"painter_name\"].count() - painter_summaries_clean[\"painter_name\"].nunique()"
   ]
  },
  {
   "cell_type": "markdown",
   "id": "192eb563",
   "metadata": {
    "deletable": false,
    "editable": false,
    "nbgrader": {
     "cell_type": "markdown",
     "checksum": "4707ac6535d96c88d03a627fb1833f96",
     "grade": false,
     "grade_id": "cell-6d71b867a452b486",
     "locked": true,
     "schema_version": 3,
     "solution": false,
     "task": false
    }
   },
   "source": [
    "Now that the dataset is duplicate free we can start working it for our analysis.\n",
    "\n",
    "If you look at the data file in a spreadsheet program, you will notice that the summaries are of various lengths. Let's keep track of that somehow because we may want to filter later on."
   ]
  },
  {
   "cell_type": "code",
   "execution_count": 23,
   "id": "085bdc1d",
   "metadata": {
    "deletable": false,
    "editable": false,
    "nbgrader": {
     "cell_type": "code",
     "checksum": "170c5b1f96b4bdd66a7a32bcd8fb7a16",
     "grade": false,
     "grade_id": "cell-55810808c6b7eaba",
     "locked": true,
     "schema_version": 3,
     "solution": false,
     "task": false
    }
   },
   "outputs": [
    {
     "data": {
      "text/plain": [
       "3"
      ]
     },
     "execution_count": 23,
     "metadata": {},
     "output_type": "execute_result"
    }
   ],
   "source": [
    "def count_words(text):\n",
    "    return len(text.split())\n",
    "\n",
    "\n",
    "sample_text = \"I am Lenny.\"\n",
    "count_words(sample_text)"
   ]
  },
  {
   "cell_type": "code",
   "execution_count": 24,
   "id": "3da28932",
   "metadata": {
    "deletable": false,
    "editable": false,
    "nbgrader": {
     "cell_type": "code",
     "checksum": "67820a24593c2915295b432126e4285d",
     "grade": false,
     "grade_id": "cell-ccaa01b572db81e0",
     "locked": true,
     "schema_version": 3,
     "solution": false,
     "task": false
    }
   },
   "outputs": [
    {
     "name": "stderr",
     "output_type": "stream",
     "text": [
      "/var/folders/q7/xm4_j0ws78dgcdtz0k45k7k40000gq/T/ipykernel_4026/4236977888.py:1: SettingWithCopyWarning: \n",
      "A value is trying to be set on a copy of a slice from a DataFrame.\n",
      "Try using .loc[row_indexer,col_indexer] = value instead\n",
      "\n",
      "See the caveats in the documentation: https://pandas.pydata.org/pandas-docs/stable/user_guide/indexing.html#returning-a-view-versus-a-copy\n",
      "  painter_summaries_clean[\"summary_length\"] = painter_summaries_clean[\"summary\"].apply(count_words)\n"
     ]
    },
    {
     "data": {
      "text/html": [
       "<div>\n",
       "<style scoped>\n",
       "    .dataframe tbody tr th:only-of-type {\n",
       "        vertical-align: middle;\n",
       "    }\n",
       "\n",
       "    .dataframe tbody tr th {\n",
       "        vertical-align: top;\n",
       "    }\n",
       "\n",
       "    .dataframe thead th {\n",
       "        text-align: right;\n",
       "    }\n",
       "</style>\n",
       "<table border=\"1\" class=\"dataframe\">\n",
       "  <thead>\n",
       "    <tr style=\"text-align: right;\">\n",
       "      <th></th>\n",
       "      <th>painter_id</th>\n",
       "      <th>painter_name</th>\n",
       "      <th>summary</th>\n",
       "      <th>url</th>\n",
       "      <th>summary_length</th>\n",
       "    </tr>\n",
       "  </thead>\n",
       "  <tbody>\n",
       "    <tr>\n",
       "      <th>0</th>\n",
       "      <td>1</td>\n",
       "      <td>Alfred Richard Gurrey Sr.</td>\n",
       "      <td>Alfred Richard Gurrey Sr.  (1852–1944) was an ...</td>\n",
       "      <td>https://en.wikipedia.org/wiki/Alfred_Richard_G...</td>\n",
       "      <td>164</td>\n",
       "    </tr>\n",
       "    <tr>\n",
       "      <th>1</th>\n",
       "      <td>2</td>\n",
       "      <td>Edward Otho Cresap Ord II</td>\n",
       "      <td>Edward Otho Cresap Ord, II (November 9, 1858 –...</td>\n",
       "      <td>https://en.wikipedia.org/wiki/Edward_Otho_Cres...</td>\n",
       "      <td>84</td>\n",
       "    </tr>\n",
       "    <tr>\n",
       "      <th>2</th>\n",
       "      <td>3</td>\n",
       "      <td>George Barret Jr.</td>\n",
       "      <td>George Barret Jr. (1767–1842), sometimes refer...</td>\n",
       "      <td>https://en.wikipedia.org/wiki/George_Barret_Jr.</td>\n",
       "      <td>27</td>\n",
       "    </tr>\n",
       "    <tr>\n",
       "      <th>3</th>\n",
       "      <td>4</td>\n",
       "      <td>George Barret Sr.</td>\n",
       "      <td>George Barret Sr.  (c. 1730 – 29 May 1784) was...</td>\n",
       "      <td>https://en.wikipedia.org/wiki/George_Barret_Sr.</td>\n",
       "      <td>263</td>\n",
       "    </tr>\n",
       "    <tr>\n",
       "      <th>4</th>\n",
       "      <td>5</td>\n",
       "      <td>Henry Ives Cobb Jr.</td>\n",
       "      <td>Henry Ives Cobb Jr. (March 24, 1883 – August 1...</td>\n",
       "      <td>https://en.wikipedia.org/wiki/Henry_Ives_Cobb_Jr.</td>\n",
       "      <td>71</td>\n",
       "    </tr>\n",
       "    <tr>\n",
       "      <th>5</th>\n",
       "      <td>6</td>\n",
       "      <td>John Byrne (English artist)</td>\n",
       "      <td>John Byrne (1786–1847) was an English painter ...</td>\n",
       "      <td>https://en.wikipedia.org/wiki/John_Byrne_(Engl...</td>\n",
       "      <td>29</td>\n",
       "    </tr>\n",
       "    <tr>\n",
       "      <th>6</th>\n",
       "      <td>7</td>\n",
       "      <td>John Frederick Herring Jr.</td>\n",
       "      <td>John Frederick Herring Jr. (1820–1907) was an ...</td>\n",
       "      <td>https://en.wikipedia.org/wiki/John_Frederick_H...</td>\n",
       "      <td>17</td>\n",
       "    </tr>\n",
       "    <tr>\n",
       "      <th>7</th>\n",
       "      <td>8</td>\n",
       "      <td>John Frederick Herring Sr.</td>\n",
       "      <td>John Frederick Herring Sr. (12 September 1795 ...</td>\n",
       "      <td>https://en.wikipedia.org/wiki/John_Frederick_H...</td>\n",
       "      <td>61</td>\n",
       "    </tr>\n",
       "    <tr>\n",
       "      <th>8</th>\n",
       "      <td>9</td>\n",
       "      <td>A. B. Jackson (painter)</td>\n",
       "      <td>Alexander Brooks Jackson (April 18, 1925 – Mar...</td>\n",
       "      <td>https://en.wikipedia.org/wiki/A._B._Jackson_(p...</td>\n",
       "      <td>14</td>\n",
       "    </tr>\n",
       "    <tr>\n",
       "      <th>9</th>\n",
       "      <td>10</td>\n",
       "      <td>A. J. Casson</td>\n",
       "      <td>Alfred Joseph Casson  (May 17, 1898 – February...</td>\n",
       "      <td>https://en.wikipedia.org/wiki/A._J._Casson</td>\n",
       "      <td>66</td>\n",
       "    </tr>\n",
       "  </tbody>\n",
       "</table>\n",
       "</div>"
      ],
      "text/plain": [
       "   painter_id                 painter_name  \\\n",
       "0           1    Alfred Richard Gurrey Sr.   \n",
       "1           2    Edward Otho Cresap Ord II   \n",
       "2           3            George Barret Jr.   \n",
       "3           4            George Barret Sr.   \n",
       "4           5          Henry Ives Cobb Jr.   \n",
       "5           6  John Byrne (English artist)   \n",
       "6           7   John Frederick Herring Jr.   \n",
       "7           8   John Frederick Herring Sr.   \n",
       "8           9      A. B. Jackson (painter)   \n",
       "9          10                 A. J. Casson   \n",
       "\n",
       "                                             summary  \\\n",
       "0  Alfred Richard Gurrey Sr.  (1852–1944) was an ...   \n",
       "1  Edward Otho Cresap Ord, II (November 9, 1858 –...   \n",
       "2  George Barret Jr. (1767–1842), sometimes refer...   \n",
       "3  George Barret Sr.  (c. 1730 – 29 May 1784) was...   \n",
       "4  Henry Ives Cobb Jr. (March 24, 1883 – August 1...   \n",
       "5  John Byrne (1786–1847) was an English painter ...   \n",
       "6  John Frederick Herring Jr. (1820–1907) was an ...   \n",
       "7  John Frederick Herring Sr. (12 September 1795 ...   \n",
       "8  Alexander Brooks Jackson (April 18, 1925 – Mar...   \n",
       "9  Alfred Joseph Casson  (May 17, 1898 – February...   \n",
       "\n",
       "                                                 url  summary_length  \n",
       "0  https://en.wikipedia.org/wiki/Alfred_Richard_G...             164  \n",
       "1  https://en.wikipedia.org/wiki/Edward_Otho_Cres...              84  \n",
       "2    https://en.wikipedia.org/wiki/George_Barret_Jr.              27  \n",
       "3    https://en.wikipedia.org/wiki/George_Barret_Sr.             263  \n",
       "4  https://en.wikipedia.org/wiki/Henry_Ives_Cobb_Jr.              71  \n",
       "5  https://en.wikipedia.org/wiki/John_Byrne_(Engl...              29  \n",
       "6  https://en.wikipedia.org/wiki/John_Frederick_H...              17  \n",
       "7  https://en.wikipedia.org/wiki/John_Frederick_H...              61  \n",
       "8  https://en.wikipedia.org/wiki/A._B._Jackson_(p...              14  \n",
       "9         https://en.wikipedia.org/wiki/A._J._Casson              66  "
      ]
     },
     "execution_count": 24,
     "metadata": {},
     "output_type": "execute_result"
    }
   ],
   "source": [
    "painter_summaries_clean[\"summary_length\"] = painter_summaries_clean[\"summary\"].apply(count_words)\n",
    "painter_summaries_clean.head(10)"
   ]
  },
  {
   "cell_type": "markdown",
   "id": "b6c948b4",
   "metadata": {
    "deletable": false,
    "editable": false,
    "nbgrader": {
     "cell_type": "markdown",
     "checksum": "681654c5937c363743e31fb58ed6db25",
     "grade": false,
     "grade_id": "cell-5fa6b1dc388a5701",
     "locked": true,
     "schema_version": 3,
     "solution": false,
     "task": false
    }
   },
   "source": [
    "We'll save the data as it is now and then we can work with these summaries."
   ]
  },
  {
   "cell_type": "code",
   "execution_count": 25,
   "id": "648011d5",
   "metadata": {
    "deletable": false,
    "editable": false,
    "nbgrader": {
     "cell_type": "code",
     "checksum": "e7a014c88a90fd367d05be2a4fb4f01c",
     "grade": false,
     "grade_id": "cell-30e59803f1c4e3a6",
     "locked": true,
     "schema_version": 3,
     "solution": false,
     "task": false
    }
   },
   "outputs": [],
   "source": [
    "painter_summaries_clean.to_csv(\"data/painter_summaries_clean.csv\", index=False)"
   ]
  },
  {
   "cell_type": "markdown",
   "id": "866ca461",
   "metadata": {
    "deletable": false,
    "editable": false,
    "nbgrader": {
     "cell_type": "markdown",
     "checksum": "798f0cc68ce28cf7195f4788e917b817",
     "grade": false,
     "grade_id": "cell-0c9ededba0cd4bf9",
     "locked": true,
     "schema_version": 3,
     "solution": false,
     "task": false
    }
   },
   "source": [
    "\n",
    "---\n",
    "\n",
    "## 4.2. Sentence Similarity\n",
    "\n",
    "Let's take a step back and think about where we want to end up and where we are currently. Right now, we have a dataset of different painters' biographies (with some length differences). We want to end up with a visual of the painters clustered based on their biographies.\n",
    "\n",
    "We could manually take each biography, interpret the text, and try to group the painters ourselves. In some cases, we might group painters by their nationality (e.g., Dutch painters), their style (e.g., Surrealist painters), their subject matter (e.g., still life painters), or the period they lived in (e.g., Renaissance painters). \n",
    "\n",
    "<div class=\"alert alert-info\">\n",
    "<b>Instruction:</b> How many painter biographies would you go through before getting bored or burn out?\n",
    "</div>"
   ]
  },
  {
   "cell_type": "markdown",
   "id": "54945fde",
   "metadata": {
    "deletable": false,
    "nbgrader": {
     "cell_type": "markdown",
     "checksum": "dfe9b718c72fe1e72dcde915ffeaa4ce",
     "grade": true,
     "grade_id": "cell-223c5033a4a8f0ff",
     "locked": false,
     "points": 0,
     "schema_version": 3,
     "solution": true,
     "task": false
    }
   },
   "source": [
    "YOUR ANSWER HERE"
   ]
  },
  {
   "cell_type": "markdown",
   "id": "cb027d67",
   "metadata": {
    "deletable": false,
    "editable": false,
    "nbgrader": {
     "cell_type": "markdown",
     "checksum": "8947ecf36133178a061ef7a92e78b4b4",
     "grade": false,
     "grade_id": "cell-125fc4099402c400",
     "locked": true,
     "schema_version": 3,
     "solution": false,
     "task": false
    }
   },
   "source": [
    "We can use machine learning to assist us in clustering these biographies by comparing how similar or different the summaries are. This task is also known as Sentence Similarity and you can read more about it here: [https://huggingface.co/tasks/sentence-similarity](https://huggingface.co/tasks/sentence-similarity). \n",
    "\n",
    "For now we will play a bit with the widget on the page. First let's get a series of painter summaries to work with. I picked names that might have some obvious groupings so we can do sanity checks as we work."
   ]
  },
  {
   "cell_type": "code",
   "execution_count": 27,
   "id": "ce7db487",
   "metadata": {
    "deletable": false,
    "editable": false,
    "nbgrader": {
     "cell_type": "code",
     "checksum": "e7ddcb48443fccc3b81bb0f54e43ec5f",
     "grade": false,
     "grade_id": "cell-13348eee1c4a0206",
     "locked": true,
     "schema_version": 3,
     "solution": false,
     "task": false
    }
   },
   "outputs": [
    {
     "data": {
      "text/html": [
       "<div>\n",
       "<style scoped>\n",
       "    .dataframe tbody tr th:only-of-type {\n",
       "        vertical-align: middle;\n",
       "    }\n",
       "\n",
       "    .dataframe tbody tr th {\n",
       "        vertical-align: top;\n",
       "    }\n",
       "\n",
       "    .dataframe thead th {\n",
       "        text-align: right;\n",
       "    }\n",
       "</style>\n",
       "<table border=\"1\" class=\"dataframe\">\n",
       "  <thead>\n",
       "    <tr style=\"text-align: right;\">\n",
       "      <th></th>\n",
       "      <th>painter_name</th>\n",
       "      <th>summary</th>\n",
       "    </tr>\n",
       "  </thead>\n",
       "  <tbody>\n",
       "    <tr>\n",
       "      <th>116</th>\n",
       "      <td>Albrecht Dürer</td>\n",
       "      <td>Albrecht Dürer (; German: [ˈʔalbʁɛçt ˈdyːʁɐ]; ...</td>\n",
       "    </tr>\n",
       "    <tr>\n",
       "      <th>255</th>\n",
       "      <td>Andy Warhol</td>\n",
       "      <td>Andy Warhol (; born Andrew Warhola Jr.; August...</td>\n",
       "    </tr>\n",
       "    <tr>\n",
       "      <th>1559</th>\n",
       "      <td>Hokusai</td>\n",
       "      <td>Katsushika Hokusai (葛飾 北斎, c. 31 October 1760 ...</td>\n",
       "    </tr>\n",
       "    <tr>\n",
       "      <th>1936</th>\n",
       "      <td>Joaquín Sorolla</td>\n",
       "      <td>Joaquín Sorolla y Bastida (Valencian: Joaquim ...</td>\n",
       "    </tr>\n",
       "    <tr>\n",
       "      <th>1975</th>\n",
       "      <td>Johannes Vermeer</td>\n",
       "      <td>Johannes Vermeer (, Dutch: [vərˈmeːr], see bel...</td>\n",
       "    </tr>\n",
       "    <tr>\n",
       "      <th>2375</th>\n",
       "      <td>Leonardo da Vinci</td>\n",
       "      <td>Leonardo di ser Piero da Vinci (15 April 1452 ...</td>\n",
       "    </tr>\n",
       "    <tr>\n",
       "      <th>2685</th>\n",
       "      <td>Michelangelo</td>\n",
       "      <td>Michelangelo di Lodovico Buonarroti Simoni (It...</td>\n",
       "    </tr>\n",
       "    <tr>\n",
       "      <th>2874</th>\n",
       "      <td>Pablo Picasso</td>\n",
       "      <td>Pablo Ruiz Picasso (25 October 1881 – 8 April ...</td>\n",
       "    </tr>\n",
       "    <tr>\n",
       "      <th>3062</th>\n",
       "      <td>Raphael</td>\n",
       "      <td>Raffaello Sanzio da Urbino (Italian: [raffaˈɛl...</td>\n",
       "    </tr>\n",
       "    <tr>\n",
       "      <th>3263</th>\n",
       "      <td>Salvador Dalí</td>\n",
       "      <td>Salvador Domingo Felipe Jacinto Dalí i Domènec...</td>\n",
       "    </tr>\n",
       "    <tr>\n",
       "      <th>3284</th>\n",
       "      <td>Sandro Botticelli</td>\n",
       "      <td>Alessandro di Mariano di Vanni Filipepi (c. 14...</td>\n",
       "    </tr>\n",
       "    <tr>\n",
       "      <th>3522</th>\n",
       "      <td>Titian</td>\n",
       "      <td>Tiziano Vecelli or Vecellio (pronounced [titˈt...</td>\n",
       "    </tr>\n",
       "    <tr>\n",
       "      <th>3634</th>\n",
       "      <td>Vincent van Gogh</td>\n",
       "      <td>Vincent Willem van Gogh (Dutch: [ˈvɪnsɛnt ˈʋɪl...</td>\n",
       "    </tr>\n",
       "  </tbody>\n",
       "</table>\n",
       "</div>"
      ],
      "text/plain": [
       "           painter_name                                            summary\n",
       "116      Albrecht Dürer  Albrecht Dürer (; German: [ˈʔalbʁɛçt ˈdyːʁɐ]; ...\n",
       "255         Andy Warhol  Andy Warhol (; born Andrew Warhola Jr.; August...\n",
       "1559            Hokusai  Katsushika Hokusai (葛飾 北斎, c. 31 October 1760 ...\n",
       "1936    Joaquín Sorolla  Joaquín Sorolla y Bastida (Valencian: Joaquim ...\n",
       "1975   Johannes Vermeer  Johannes Vermeer (, Dutch: [vərˈmeːr], see bel...\n",
       "2375  Leonardo da Vinci  Leonardo di ser Piero da Vinci (15 April 1452 ...\n",
       "2685       Michelangelo  Michelangelo di Lodovico Buonarroti Simoni (It...\n",
       "2874      Pablo Picasso  Pablo Ruiz Picasso (25 October 1881 – 8 April ...\n",
       "3062            Raphael  Raffaello Sanzio da Urbino (Italian: [raffaˈɛl...\n",
       "3263      Salvador Dalí  Salvador Domingo Felipe Jacinto Dalí i Domènec...\n",
       "3284  Sandro Botticelli  Alessandro di Mariano di Vanni Filipepi (c. 14...\n",
       "3522             Titian  Tiziano Vecelli or Vecellio (pronounced [titˈt...\n",
       "3634   Vincent van Gogh  Vincent Willem van Gogh (Dutch: [ˈvɪnsɛnt ˈʋɪl..."
      ]
     },
     "execution_count": 27,
     "metadata": {},
     "output_type": "execute_result"
    }
   ],
   "source": [
    "select_painter_names = [\n",
    "    \"Albrecht Dürer\",\n",
    "    \"Leonardo da Vinci\",\n",
    "    \"Michelangelo\",\n",
    "    \"Raphael\",\n",
    "    \"Titian\",\n",
    "    \"Joaquín Sorolla\",\n",
    "    \"Pablo Picasso\",\n",
    "    \"Salvador Dalí\",\n",
    "    \"Andy Warhol\",\n",
    "    \"Vincent van Gogh\",\n",
    "    \"Johannes Vermeer\",\n",
    "    \"Sandro Botticelli\",\n",
    "    \"Hokusai\",\n",
    "]\n",
    "\n",
    "select_painter_bios = painter_summaries_clean[\n",
    "    painter_summaries_clean[\"painter_name\"].isin(select_painter_names)\n",
    "]\n",
    "\n",
    "# For this short dataset, we don't care about the other columns.\n",
    "select_painter_bios = select_painter_bios[[\"painter_name\", \"summary\"]]\n",
    "select_painter_bios"
   ]
  },
  {
   "cell_type": "code",
   "execution_count": 29,
   "id": "d6984336",
   "metadata": {},
   "outputs": [
    {
     "data": {
      "text/html": [
       "<div>\n",
       "<style scoped>\n",
       "    .dataframe tbody tr th:only-of-type {\n",
       "        vertical-align: middle;\n",
       "    }\n",
       "\n",
       "    .dataframe tbody tr th {\n",
       "        vertical-align: top;\n",
       "    }\n",
       "\n",
       "    .dataframe thead th {\n",
       "        text-align: right;\n",
       "    }\n",
       "</style>\n",
       "<table border=\"1\" class=\"dataframe\">\n",
       "  <thead>\n",
       "    <tr style=\"text-align: right;\">\n",
       "      <th></th>\n",
       "      <th>painter_name</th>\n",
       "      <th>summary</th>\n",
       "    </tr>\n",
       "  </thead>\n",
       "  <tbody>\n",
       "    <tr>\n",
       "      <th>74</th>\n",
       "      <td>Agnes Lawrence Pelton</td>\n",
       "      <td>Agnes Lawrence Pelton (August 22, 1881 – March...</td>\n",
       "    </tr>\n",
       "    <tr>\n",
       "      <th>75</th>\n",
       "      <td>Agnes Martin</td>\n",
       "      <td>Agnes Bernice Martin  (March 22, 1912 – Decemb...</td>\n",
       "    </tr>\n",
       "    <tr>\n",
       "      <th>116</th>\n",
       "      <td>Albrecht Dürer</td>\n",
       "      <td>Albrecht Dürer (; German: [ˈʔalbʁɛçt ˈdyːʁɐ]; ...</td>\n",
       "    </tr>\n",
       "    <tr>\n",
       "      <th>182</th>\n",
       "      <td>Alison Debenham</td>\n",
       "      <td>Alison Edith Debenham (later Le Plat; 1903–196...</td>\n",
       "    </tr>\n",
       "    <tr>\n",
       "      <th>183</th>\n",
       "      <td>Alison Geissler</td>\n",
       "      <td>Alison Cornwall Geissler MBE, née McDonald (13...</td>\n",
       "    </tr>\n",
       "    <tr>\n",
       "      <th>184</th>\n",
       "      <td>Alison Kinnaird</td>\n",
       "      <td>Alison Kinnaird MBE, MA, FGE (born 30 April 19...</td>\n",
       "    </tr>\n",
       "    <tr>\n",
       "      <th>185</th>\n",
       "      <td>Alison Watt (Scottish painter)</td>\n",
       "      <td>Alison Watt OBE FRSE RSA  (born 1965) is a Bri...</td>\n",
       "    </tr>\n",
       "    <tr>\n",
       "      <th>255</th>\n",
       "      <td>Andy Warhol</td>\n",
       "      <td>Andy Warhol (; born Andrew Warhola Jr.; August...</td>\n",
       "    </tr>\n",
       "    <tr>\n",
       "      <th>539</th>\n",
       "      <td>Caro Niederer</td>\n",
       "      <td>Caro Niederer (born 1963 in Zürich) is a conte...</td>\n",
       "    </tr>\n",
       "    <tr>\n",
       "      <th>556</th>\n",
       "      <td>Cecilia Beaux</td>\n",
       "      <td>Eliza Cecilia Beaux (May 1, 1855 – September 1...</td>\n",
       "    </tr>\n",
       "    <tr>\n",
       "      <th>557</th>\n",
       "      <td>Cecily Brown</td>\n",
       "      <td>Cecily Brown (born 1969) is a British painter....</td>\n",
       "    </tr>\n",
       "    <tr>\n",
       "      <th>559</th>\n",
       "      <td>Celia Fiennes (artist)</td>\n",
       "      <td>Celia Mary Twisleton-Wykeham-Fiennes known as ...</td>\n",
       "    </tr>\n",
       "    <tr>\n",
       "      <th>560</th>\n",
       "      <td>Celia Frances Bedford</td>\n",
       "      <td>Celia Frances Bedford (11 February 1904 – 23 F...</td>\n",
       "    </tr>\n",
       "    <tr>\n",
       "      <th>1169</th>\n",
       "      <td>Frida Kahlo</td>\n",
       "      <td>Magdalena Carmen Frida Kahlo y Calderón (Spani...</td>\n",
       "    </tr>\n",
       "    <tr>\n",
       "      <th>1559</th>\n",
       "      <td>Hokusai</td>\n",
       "      <td>Katsushika Hokusai (葛飾 北斎, c. 31 October 1760 ...</td>\n",
       "    </tr>\n",
       "    <tr>\n",
       "      <th>1936</th>\n",
       "      <td>Joaquín Sorolla</td>\n",
       "      <td>Joaquín Sorolla y Bastida (Valencian: Joaquim ...</td>\n",
       "    </tr>\n",
       "    <tr>\n",
       "      <th>1975</th>\n",
       "      <td>Johannes Vermeer</td>\n",
       "      <td>Johannes Vermeer (, Dutch: [vərˈmeːr], see bel...</td>\n",
       "    </tr>\n",
       "    <tr>\n",
       "      <th>2375</th>\n",
       "      <td>Leonardo da Vinci</td>\n",
       "      <td>Leonardo di ser Piero da Vinci (15 April 1452 ...</td>\n",
       "    </tr>\n",
       "    <tr>\n",
       "      <th>2685</th>\n",
       "      <td>Michelangelo</td>\n",
       "      <td>Michelangelo di Lodovico Buonarroti Simoni (It...</td>\n",
       "    </tr>\n",
       "    <tr>\n",
       "      <th>2874</th>\n",
       "      <td>Pablo Picasso</td>\n",
       "      <td>Pablo Ruiz Picasso (25 October 1881 – 8 April ...</td>\n",
       "    </tr>\n",
       "    <tr>\n",
       "      <th>3062</th>\n",
       "      <td>Raphael</td>\n",
       "      <td>Raffaello Sanzio da Urbino (Italian: [raffaˈɛl...</td>\n",
       "    </tr>\n",
       "    <tr>\n",
       "      <th>3263</th>\n",
       "      <td>Salvador Dalí</td>\n",
       "      <td>Salvador Domingo Felipe Jacinto Dalí i Domènec...</td>\n",
       "    </tr>\n",
       "    <tr>\n",
       "      <th>3284</th>\n",
       "      <td>Sandro Botticelli</td>\n",
       "      <td>Alessandro di Mariano di Vanni Filipepi (c. 14...</td>\n",
       "    </tr>\n",
       "    <tr>\n",
       "      <th>3522</th>\n",
       "      <td>Titian</td>\n",
       "      <td>Tiziano Vecelli or Vecellio (pronounced [titˈt...</td>\n",
       "    </tr>\n",
       "    <tr>\n",
       "      <th>3634</th>\n",
       "      <td>Vincent van Gogh</td>\n",
       "      <td>Vincent Willem van Gogh (Dutch: [ˈvɪnsɛnt ˈʋɪl...</td>\n",
       "    </tr>\n",
       "  </tbody>\n",
       "</table>\n",
       "</div>"
      ],
      "text/plain": [
       "                        painter_name  \\\n",
       "74             Agnes Lawrence Pelton   \n",
       "75                      Agnes Martin   \n",
       "116                   Albrecht Dürer   \n",
       "182                  Alison Debenham   \n",
       "183                  Alison Geissler   \n",
       "184                  Alison Kinnaird   \n",
       "185   Alison Watt (Scottish painter)   \n",
       "255                      Andy Warhol   \n",
       "539                    Caro Niederer   \n",
       "556                    Cecilia Beaux   \n",
       "557                     Cecily Brown   \n",
       "559           Celia Fiennes (artist)   \n",
       "560            Celia Frances Bedford   \n",
       "1169                     Frida Kahlo   \n",
       "1559                         Hokusai   \n",
       "1936                 Joaquín Sorolla   \n",
       "1975                Johannes Vermeer   \n",
       "2375               Leonardo da Vinci   \n",
       "2685                    Michelangelo   \n",
       "2874                   Pablo Picasso   \n",
       "3062                         Raphael   \n",
       "3263                   Salvador Dalí   \n",
       "3284               Sandro Botticelli   \n",
       "3522                          Titian   \n",
       "3634                Vincent van Gogh   \n",
       "\n",
       "                                                summary  \n",
       "74    Agnes Lawrence Pelton (August 22, 1881 – March...  \n",
       "75    Agnes Bernice Martin  (March 22, 1912 – Decemb...  \n",
       "116   Albrecht Dürer (; German: [ˈʔalbʁɛçt ˈdyːʁɐ]; ...  \n",
       "182   Alison Edith Debenham (later Le Plat; 1903–196...  \n",
       "183   Alison Cornwall Geissler MBE, née McDonald (13...  \n",
       "184   Alison Kinnaird MBE, MA, FGE (born 30 April 19...  \n",
       "185   Alison Watt OBE FRSE RSA  (born 1965) is a Bri...  \n",
       "255   Andy Warhol (; born Andrew Warhola Jr.; August...  \n",
       "539   Caro Niederer (born 1963 in Zürich) is a conte...  \n",
       "556   Eliza Cecilia Beaux (May 1, 1855 – September 1...  \n",
       "557   Cecily Brown (born 1969) is a British painter....  \n",
       "559   Celia Mary Twisleton-Wykeham-Fiennes known as ...  \n",
       "560   Celia Frances Bedford (11 February 1904 – 23 F...  \n",
       "1169  Magdalena Carmen Frida Kahlo y Calderón (Spani...  \n",
       "1559  Katsushika Hokusai (葛飾 北斎, c. 31 October 1760 ...  \n",
       "1936  Joaquín Sorolla y Bastida (Valencian: Joaquim ...  \n",
       "1975  Johannes Vermeer (, Dutch: [vərˈmeːr], see bel...  \n",
       "2375  Leonardo di ser Piero da Vinci (15 April 1452 ...  \n",
       "2685  Michelangelo di Lodovico Buonarroti Simoni (It...  \n",
       "2874  Pablo Ruiz Picasso (25 October 1881 – 8 April ...  \n",
       "3062  Raffaello Sanzio da Urbino (Italian: [raffaˈɛl...  \n",
       "3263  Salvador Domingo Felipe Jacinto Dalí i Domènec...  \n",
       "3284  Alessandro di Mariano di Vanni Filipepi (c. 14...  \n",
       "3522  Tiziano Vecelli or Vecellio (pronounced [titˈt...  \n",
       "3634  Vincent Willem van Gogh (Dutch: [ˈvɪnsɛnt ˈʋɪl...  "
      ]
     },
     "execution_count": 29,
     "metadata": {},
     "output_type": "execute_result"
    }
   ],
   "source": [
    "select_painter_names2 = [\n",
    "    \"Albrecht Dürer\",\n",
    "    \"Leonardo da Vinci\",\n",
    "    \"Michelangelo\",\n",
    "    \"Raphael\",\n",
    "    \"Titian\",\n",
    "    \"Joaquín Sorolla\",\n",
    "    \"Pablo Picasso\",\n",
    "    \"Salvador Dalí\",\n",
    "    \"Andy Warhol\",\n",
    "    \"Vincent van Gogh\",\n",
    "    \"Johannes Vermeer\",\n",
    "    \"Sandro Botticelli\",\n",
    "    \"Hokusai\",\n",
    "    \"Frida Kahlo\",\n",
    "    \"Agnes Lawrence Pelton\",\n",
    "    \"Agnes Martin\",\n",
    "    \"Alison Debenham\",\n",
    "    \"Alison Geissler\",\n",
    "    \"Alison Kinnaird\",\n",
    "    \"Alison Watt (Scottish painter)\",\n",
    "    \"Caro Niederer\",\n",
    "    \"Cecilia Beaux\",\n",
    "    \"Cecily Brown\",\n",
    "    \"Celia Fiennes (artist)\",\n",
    "    \"Celia Frances Bedford\"\n",
    "]\n",
    "\n",
    "select_painter_bios = painter_summaries_clean[\n",
    "    painter_summaries_clean[\"painter_name\"].isin(select_painter_names2)\n",
    "]\n",
    "\n",
    "# For this short dataset, we don't care about the other columns.\n",
    "select_painter_bios = select_painter_bios[[\"painter_name\", \"summary\"]]\n",
    "select_painter_bios"
   ]
  },
  {
   "cell_type": "markdown",
   "id": "8bd9b160",
   "metadata": {
    "deletable": false,
    "editable": false,
    "nbgrader": {
     "cell_type": "markdown",
     "checksum": "84bae6e173defd6dc10aad15fc651291",
     "grade": false,
     "grade_id": "cell-be4bc802c5bf5090",
     "locked": true,
     "schema_version": 3,
     "solution": false,
     "task": false
    }
   },
   "source": [
    "<div class=\"alert alert-info\">\n",
    "<b>Instruction:</b> Cluster the 13 painters based on what you may know, can quickly read about them.\n",
    "</div>"
   ]
  },
  {
   "cell_type": "markdown",
   "id": "05956262",
   "metadata": {
    "deletable": false,
    "nbgrader": {
     "cell_type": "markdown",
     "checksum": "778c47dbf8890109e748f22951c1b3c5",
     "grade": true,
     "grade_id": "cell-6630467ac576e077",
     "locked": false,
     "points": 0,
     "schema_version": 3,
     "solution": true,
     "task": false
    }
   },
   "source": [
    "YOUR ANSWER HERE"
   ]
  },
  {
   "cell_type": "markdown",
   "id": "b6460ee1",
   "metadata": {
    "deletable": false,
    "editable": false,
    "nbgrader": {
     "cell_type": "markdown",
     "checksum": "8f3a6a6e490970895b690a2df4f6a971",
     "grade": false,
     "grade_id": "cell-d8b53566b57e986a",
     "locked": true,
     "schema_version": 3,
     "solution": false,
     "task": false
    }
   },
   "source": [
    "Now let's play with the sentence similarity widget on Hugging face. For that we need the full summaries for each painter. I will save the previous table to a CSV for faster copy+paste, but you can also use the Python code under that to get the bios for a particular artist"
   ]
  },
  {
   "cell_type": "code",
   "execution_count": 30,
   "id": "eb5161ea",
   "metadata": {
    "deletable": false,
    "editable": false,
    "nbgrader": {
     "cell_type": "code",
     "checksum": "7a680adf09a6d5fa06c8952d0c10adb9",
     "grade": false,
     "grade_id": "cell-d8c53f04da636097",
     "locked": true,
     "schema_version": 3,
     "solution": false,
     "task": false
    }
   },
   "outputs": [],
   "source": [
    "select_painter_bios.to_csv(\"data/select_painter_bios.csv\", index=False)"
   ]
  },
  {
   "cell_type": "code",
   "execution_count": 34,
   "id": "0764c824",
   "metadata": {
    "deletable": false,
    "editable": false,
    "nbgrader": {
     "cell_type": "code",
     "checksum": "0bcd072e5eb936261c4e186236da33a2",
     "grade": false,
     "grade_id": "cell-036d3aec29625a85",
     "locked": true,
     "schema_version": 3,
     "solution": false,
     "task": false
    }
   },
   "outputs": [
    {
     "data": {
      "text/plain": [
       "\"Leonardo di ser Piero da Vinci (15 April 1452 – 2 May 1519) was an Italian polymath of the High Renaissance who was active as a painter, draughtsman, engineer, scientist, theorist, sculptor, and architect. While his fame initially rested on his achievements as a painter, he has also become known for his notebooks, in which he made drawings and notes on a variety of subjects, including anatomy, astronomy, botany, cartography, painting, and palaeontology. Leonardo is widely regarded to have been a genius who epitomised the Renaissance humanist ideal, and his collective works comprise a contribution to later generations of artists matched only by that of his younger contemporary Michelangelo.\\r\\nBorn out of wedlock to a successful notary and a lower-class woman in, or near, Vinci, he was educated in Florence by the Italian painter and sculptor Andrea del Verrocchio. He began his career in the city, but then spent much time in the service of Ludovico Sforza in Milan. Later, he worked in Florence and Milan again, as well as briefly in Rome, all while attracting a large following of imitators and students. Upon the invitation of Francis I, he spent his last three years in France, where he died in 1519. Since his death, there has not been a time where his achievements, diverse interests, personal life, and empirical thinking have failed to incite interest and admiration, making him a frequent namesake and subject in culture.\\r\\nLeonardo is identified as one of the greatest painters in the history of Western art and is often credited as the founder of the High Renaissance. Despite having many lost works and fewer than 25 attributed major works –  including numerous unfinished works –  he created some of the most influential paintings in the Western canon. His magnum opus, the Mona Lisa, is his best known work and is the world's most famous individual painting. The Last Supper is the most reproduced religious painting of all time and his Vitruvian Man drawing is also regarded as a cultural icon. In 2017, Salvator Mundi, attributed in whole or part to Leonardo, was sold at auction for US$450.3 million, setting a new record for the most expensive painting ever sold at public auction.\\r\\nRevered for his technological ingenuity, he conceptualised flying machines, a type of armoured fighting vehicle, concentrated solar power, a ratio machine that could be used in an adding machine, and the double hull. Relatively few of his designs were constructed or were even feasible during his lifetime, as the modern scientific approaches to metallurgy and engineering were only in their infancy during the Renaissance. Some of his smaller inventions, however, entered the world of manufacturing unheralded, such as an automated bobbin winder and a machine for testing the tensile strength of wire. He made substantial discoveries in anatomy, civil engineering, hydrodynamics, geology, optics, and tribology, but he did not publish his findings and they had little to no direct influence on subsequent science.\""
      ]
     },
     "execution_count": 34,
     "metadata": {},
     "output_type": "execute_result"
    }
   ],
   "source": [
    "painter_name = \"Leonardo da Vinci\"\n",
    "select_painter_bios[select_painter_bios[\"painter_name\"] == painter_name][\"summary\"].values[0]"
   ]
  },
  {
   "cell_type": "code",
   "execution_count": null,
   "id": "e8cba5ed",
   "metadata": {},
   "outputs": [],
   "source": []
  },
  {
   "cell_type": "markdown",
   "id": "52325078",
   "metadata": {
    "deletable": false,
    "editable": false,
    "nbgrader": {
     "cell_type": "markdown",
     "checksum": "546fb5289ae004e74247289f4013a729",
     "grade": false,
     "grade_id": "cell-94502ae8ea799e95",
     "locked": true,
     "schema_version": 3,
     "solution": false,
     "task": false
    },
    "vscode": {
     "languageId": "html"
    }
   },
   "source": [
    "<div class=\"alert alert-info\">\n",
    "<b>Instruction:</b> Pick 5 painters from our test set. Put their bios in the <a href=\"https://huggingface.co/tasks/sentence-similarity\">Sentence Similarity demo</a> and write down the values. Then add your interpretation of the values. Are they high or low? Why might that be? Fill in the table below:\n",
    "</div>"
   ]
  },
  {
   "cell_type": "markdown",
   "id": "dabd5d01",
   "metadata": {
    "deletable": false,
    "nbgrader": {
     "cell_type": "markdown",
     "checksum": "ce59dc91290567055e714b951821d1d1",
     "grade": true,
     "grade_id": "cell-101e94b072f5bb1e",
     "locked": false,
     "points": 0,
     "schema_version": 3,
     "solution": true,
     "task": false
    }
   },
   "source": [
    "YOUR ANSWER HERE"
   ]
  },
  {
   "cell_type": "markdown",
   "id": "e7b2b4be",
   "metadata": {
    "deletable": false,
    "editable": false,
    "nbgrader": {
     "cell_type": "markdown",
     "checksum": "473029ebcd3e80a01d623a62d5edb179",
     "grade": false,
     "grade_id": "cell-309ac82efe82284f",
     "locked": true,
     "schema_version": 3,
     "solution": false,
     "task": false
    }
   },
   "source": [
    "This Sentence Similarity demo is quite cool. It takes each summary and converts it into an **embedding**, a numerical vector representation of the text that does a good job of capturing the semantics of the text. This is the part connected to machine learning. In the demo, the pre-trained model `all-MiniLM-L6-v2` is used to compute the embeddings. We'll work with this same model below.\n",
    "\n",
    "Once all the embeddings are computed, then it's a math game. The demo takes the source embedding (whichever artist you introduced first) and compares that embedding with each of the other embeddings in pairs. For each pair that is compared, say *source_painter* and *painter_1*, it produces a score between 0 and 1, where 0 means there is no similarity, and 1 means they are identical. There are many ways to compute similarity and a popular one is Cosine Similarity. There is some info on the demo page linked above, but reproduced here:\n",
    ">     The similarity of the embeddings is evaluated mainly on cosine similarity. It is calculated as the cosine of the angle between two vectors. It is particularly useful when your texts are not the same length\n",
    "\n",
    "---\n",
    "\n",
    "## 4.3. Visualizing the `select_painter_bios`\n",
    "\n",
    "### Create embeddings\n",
    "The first step to being able to cluster and visualize the painters is to compute the embeddings. We will do this as an extra column in our dataframe of `select_painter_bios`"
   ]
  },
  {
   "cell_type": "code",
   "execution_count": 47,
   "id": "58e52934",
   "metadata": {
    "deletable": false,
    "editable": false,
    "nbgrader": {
     "cell_type": "code",
     "checksum": "95b75a9fdbf6b18ae2e90689f0a9decb",
     "grade": false,
     "grade_id": "cell-6e6e237c90ca0bd1",
     "locked": true,
     "schema_version": 3,
     "solution": false,
     "task": false
    }
   },
   "outputs": [
    {
     "name": "stderr",
     "output_type": "stream",
     "text": [
      "/opt/miniconda3/lib/python3.12/site-packages/huggingface_hub/file_download.py:1132: FutureWarning:\n",
      "\n",
      "`resume_download` is deprecated and will be removed in version 1.0.0. Downloads always resume when possible. If you want to force a new download, use `force_download=True`.\n",
      "\n"
     ]
    },
    {
     "data": {
      "text/html": [
       "<div>\n",
       "<style scoped>\n",
       "    .dataframe tbody tr th:only-of-type {\n",
       "        vertical-align: middle;\n",
       "    }\n",
       "\n",
       "    .dataframe tbody tr th {\n",
       "        vertical-align: top;\n",
       "    }\n",
       "\n",
       "    .dataframe thead th {\n",
       "        text-align: right;\n",
       "    }\n",
       "</style>\n",
       "<table border=\"1\" class=\"dataframe\">\n",
       "  <thead>\n",
       "    <tr style=\"text-align: right;\">\n",
       "      <th></th>\n",
       "      <th>painter_name</th>\n",
       "      <th>summary</th>\n",
       "      <th>embeddings</th>\n",
       "      <th>embeddings2</th>\n",
       "      <th>umap1_x</th>\n",
       "      <th>umap1_y</th>\n",
       "    </tr>\n",
       "  </thead>\n",
       "  <tbody>\n",
       "    <tr>\n",
       "      <th>74</th>\n",
       "      <td>Agnes Lawrence Pelton</td>\n",
       "      <td>Agnes Lawrence Pelton (August 22, 1881 – March...</td>\n",
       "      <td>[0.00925831962376833, 0.020879311487078667, -0...</td>\n",
       "      <td>[-0.3555273413658142, 0.6258305907249451, -0.3...</td>\n",
       "      <td>10.906144</td>\n",
       "      <td>3.149799</td>\n",
       "    </tr>\n",
       "    <tr>\n",
       "      <th>75</th>\n",
       "      <td>Agnes Martin</td>\n",
       "      <td>Agnes Bernice Martin  (March 22, 1912 – Decemb...</td>\n",
       "      <td>[0.04175714775919914, 0.08346845954656601, 0.0...</td>\n",
       "      <td>[-0.05190335959196091, 0.01991790533065796, -0...</td>\n",
       "      <td>11.422478</td>\n",
       "      <td>3.539620</td>\n",
       "    </tr>\n",
       "    <tr>\n",
       "      <th>116</th>\n",
       "      <td>Albrecht Dürer</td>\n",
       "      <td>Albrecht Dürer (; German: [ˈʔalbʁɛçt ˈdyːʁɐ]; ...</td>\n",
       "      <td>[-0.056997984647750854, 0.024535084143280983, ...</td>\n",
       "      <td>[-0.5610215663909912, 0.7210466861724854, -0.3...</td>\n",
       "      <td>7.799601</td>\n",
       "      <td>-4.351664</td>\n",
       "    </tr>\n",
       "    <tr>\n",
       "      <th>182</th>\n",
       "      <td>Alison Debenham</td>\n",
       "      <td>Alison Edith Debenham (later Le Plat; 1903–196...</td>\n",
       "      <td>[-0.06023209169507027, 0.015084055252373219, 0...</td>\n",
       "      <td>[0.3454815149307251, 0.4316037893295288, -0.27...</td>\n",
       "      <td>10.954934</td>\n",
       "      <td>1.849854</td>\n",
       "    </tr>\n",
       "    <tr>\n",
       "      <th>183</th>\n",
       "      <td>Alison Geissler</td>\n",
       "      <td>Alison Cornwall Geissler MBE, née McDonald (13...</td>\n",
       "      <td>[-0.04076974838972092, -0.009458957239985466, ...</td>\n",
       "      <td>[-0.6484456062316895, 0.4758595824241638, 0.13...</td>\n",
       "      <td>11.779065</td>\n",
       "      <td>1.953383</td>\n",
       "    </tr>\n",
       "    <tr>\n",
       "      <th>184</th>\n",
       "      <td>Alison Kinnaird</td>\n",
       "      <td>Alison Kinnaird MBE, MA, FGE (born 30 April 19...</td>\n",
       "      <td>[0.02746589109301567, -0.022002195939421654, -...</td>\n",
       "      <td>[-0.15582501888275146, 0.8702155351638794, 0.2...</td>\n",
       "      <td>11.899119</td>\n",
       "      <td>1.458376</td>\n",
       "    </tr>\n",
       "    <tr>\n",
       "      <th>185</th>\n",
       "      <td>Alison Watt (Scottish painter)</td>\n",
       "      <td>Alison Watt OBE FRSE RSA  (born 1965) is a Bri...</td>\n",
       "      <td>[-0.07076051831245422, -0.017952891066670418, ...</td>\n",
       "      <td>[-0.16642820835113525, 0.9753232598304749, 0.3...</td>\n",
       "      <td>11.289492</td>\n",
       "      <td>1.380466</td>\n",
       "    </tr>\n",
       "    <tr>\n",
       "      <th>255</th>\n",
       "      <td>Andy Warhol</td>\n",
       "      <td>Andy Warhol (; born Andrew Warhola Jr.; August...</td>\n",
       "      <td>[0.0025709313340485096, -0.08942723274230957, ...</td>\n",
       "      <td>[-0.14185909926891327, 0.6947842836380005, 0.0...</td>\n",
       "      <td>5.964389</td>\n",
       "      <td>-2.551351</td>\n",
       "    </tr>\n",
       "    <tr>\n",
       "      <th>539</th>\n",
       "      <td>Caro Niederer</td>\n",
       "      <td>Caro Niederer (born 1963 in Zürich) is a conte...</td>\n",
       "      <td>[-0.06210412457585335, 0.05394889414310455, 0....</td>\n",
       "      <td>[-0.26326656341552734, 0.21122246980667114, 0....</td>\n",
       "      <td>6.073942</td>\n",
       "      <td>-2.057461</td>\n",
       "    </tr>\n",
       "    <tr>\n",
       "      <th>556</th>\n",
       "      <td>Cecilia Beaux</td>\n",
       "      <td>Eliza Cecilia Beaux (May 1, 1855 – September 1...</td>\n",
       "      <td>[-0.00541235925629735, 0.005950777791440487, 0...</td>\n",
       "      <td>[-0.36029744148254395, 0.4289925992488861, -0....</td>\n",
       "      <td>11.972830</td>\n",
       "      <td>3.287737</td>\n",
       "    </tr>\n",
       "    <tr>\n",
       "      <th>557</th>\n",
       "      <td>Cecily Brown</td>\n",
       "      <td>Cecily Brown (born 1969) is a British painter....</td>\n",
       "      <td>[-0.01126799825578928, -0.0135478051379323, -0...</td>\n",
       "      <td>[0.0716535896062851, 0.26911643147468567, 0.60...</td>\n",
       "      <td>10.458698</td>\n",
       "      <td>2.569968</td>\n",
       "    </tr>\n",
       "    <tr>\n",
       "      <th>559</th>\n",
       "      <td>Celia Fiennes (artist)</td>\n",
       "      <td>Celia Mary Twisleton-Wykeham-Fiennes known as ...</td>\n",
       "      <td>[-0.04087485373020172, -0.058128729462623596, ...</td>\n",
       "      <td>[0.07800303399562836, 0.5016523003578186, -0.1...</td>\n",
       "      <td>12.223318</td>\n",
       "      <td>2.430804</td>\n",
       "    </tr>\n",
       "    <tr>\n",
       "      <th>560</th>\n",
       "      <td>Celia Frances Bedford</td>\n",
       "      <td>Celia Frances Bedford (11 February 1904 – 23 F...</td>\n",
       "      <td>[-0.04144958779215813, -0.0075385612435638905,...</td>\n",
       "      <td>[-0.22478514909744263, 0.6541701555252075, -0....</td>\n",
       "      <td>11.526350</td>\n",
       "      <td>2.836077</td>\n",
       "    </tr>\n",
       "    <tr>\n",
       "      <th>1169</th>\n",
       "      <td>Frida Kahlo</td>\n",
       "      <td>Magdalena Carmen Frida Kahlo y Calderón (Spani...</td>\n",
       "      <td>[-0.015083580277860165, 0.07202418893575668, -...</td>\n",
       "      <td>[-0.008977584540843964, 0.40518710017204285, -...</td>\n",
       "      <td>5.135310</td>\n",
       "      <td>-1.731199</td>\n",
       "    </tr>\n",
       "    <tr>\n",
       "      <th>1559</th>\n",
       "      <td>Hokusai</td>\n",
       "      <td>Katsushika Hokusai (葛飾 北斎, c. 31 October 1760 ...</td>\n",
       "      <td>[-0.024148855358362198, 0.04442296922206879, -...</td>\n",
       "      <td>[-0.47407805919647217, 0.2849172353744507, -0....</td>\n",
       "      <td>6.941107</td>\n",
       "      <td>-5.012307</td>\n",
       "    </tr>\n",
       "    <tr>\n",
       "      <th>1936</th>\n",
       "      <td>Joaquín Sorolla</td>\n",
       "      <td>Joaquín Sorolla y Bastida (Valencian: Joaquim ...</td>\n",
       "      <td>[0.04648873955011368, 0.08807677775621414, -0....</td>\n",
       "      <td>[-0.18695570528507233, 0.14081069827079773, -0...</td>\n",
       "      <td>5.343115</td>\n",
       "      <td>-1.264711</td>\n",
       "    </tr>\n",
       "    <tr>\n",
       "      <th>1975</th>\n",
       "      <td>Johannes Vermeer</td>\n",
       "      <td>Johannes Vermeer (, Dutch: [vərˈmeːr], see bel...</td>\n",
       "      <td>[0.0292351171374321, 0.08469347655773163, -0.0...</td>\n",
       "      <td>[-0.4320114254951477, 0.23948663473129272, -0....</td>\n",
       "      <td>7.081610</td>\n",
       "      <td>-2.609436</td>\n",
       "    </tr>\n",
       "    <tr>\n",
       "      <th>2375</th>\n",
       "      <td>Leonardo da Vinci</td>\n",
       "      <td>Leonardo di ser Piero da Vinci (15 April 1452 ...</td>\n",
       "      <td>[-0.049784105271101, -0.0011410464067012072, 0...</td>\n",
       "      <td>[-0.14724111557006836, 0.48437750339508057, 0....</td>\n",
       "      <td>7.904481</td>\n",
       "      <td>-5.879851</td>\n",
       "    </tr>\n",
       "    <tr>\n",
       "      <th>2685</th>\n",
       "      <td>Michelangelo</td>\n",
       "      <td>Michelangelo di Lodovico Buonarroti Simoni (It...</td>\n",
       "      <td>[0.01565895415842533, 0.09450660645961761, 0.0...</td>\n",
       "      <td>[-0.1202235147356987, 0.4659096300601959, 0.48...</td>\n",
       "      <td>7.268611</td>\n",
       "      <td>-5.317298</td>\n",
       "    </tr>\n",
       "    <tr>\n",
       "      <th>2874</th>\n",
       "      <td>Pablo Picasso</td>\n",
       "      <td>Pablo Ruiz Picasso (25 October 1881 – 8 April ...</td>\n",
       "      <td>[-0.013010181486606598, 0.016082225367426872, ...</td>\n",
       "      <td>[-0.5689476132392883, 0.4044139087200165, -0.0...</td>\n",
       "      <td>5.243643</td>\n",
       "      <td>-2.423695</td>\n",
       "    </tr>\n",
       "    <tr>\n",
       "      <th>3062</th>\n",
       "      <td>Raphael</td>\n",
       "      <td>Raffaello Sanzio da Urbino (Italian: [raffaˈɛl...</td>\n",
       "      <td>[-0.04124732315540314, -0.0005537216202355921,...</td>\n",
       "      <td>[-0.45465630292892456, 0.4950965642929077, 0.5...</td>\n",
       "      <td>7.887162</td>\n",
       "      <td>-5.197574</td>\n",
       "    </tr>\n",
       "    <tr>\n",
       "      <th>3263</th>\n",
       "      <td>Salvador Dalí</td>\n",
       "      <td>Salvador Domingo Felipe Jacinto Dalí i Domènec...</td>\n",
       "      <td>[0.0810016617178917, -0.022114435210824013, -0...</td>\n",
       "      <td>[-0.35352182388305664, 0.6480511426925659, 0.1...</td>\n",
       "      <td>5.876503</td>\n",
       "      <td>-1.273788</td>\n",
       "    </tr>\n",
       "    <tr>\n",
       "      <th>3284</th>\n",
       "      <td>Sandro Botticelli</td>\n",
       "      <td>Alessandro di Mariano di Vanni Filipepi (c. 14...</td>\n",
       "      <td>[-0.02803158015012741, 0.02716502733528614, 0....</td>\n",
       "      <td>[-0.37901395559310913, 0.017451822757720947, 0...</td>\n",
       "      <td>7.432415</td>\n",
       "      <td>-5.795900</td>\n",
       "    </tr>\n",
       "    <tr>\n",
       "      <th>3522</th>\n",
       "      <td>Titian</td>\n",
       "      <td>Tiziano Vecelli or Vecellio (pronounced [titˈt...</td>\n",
       "      <td>[-0.04871152341365814, 0.03751521557569504, -0...</td>\n",
       "      <td>[-0.014551511034369469, -0.15258657932281494, ...</td>\n",
       "      <td>8.237752</td>\n",
       "      <td>-5.018612</td>\n",
       "    </tr>\n",
       "    <tr>\n",
       "      <th>3634</th>\n",
       "      <td>Vincent van Gogh</td>\n",
       "      <td>Vincent Willem van Gogh (Dutch: [ˈvɪnsɛnt ˈʋɪl...</td>\n",
       "      <td>[0.08493974059820175, 0.03074062615633011, 0.0...</td>\n",
       "      <td>[-0.4844709038734436, 0.37838366627693176, -0....</td>\n",
       "      <td>6.732071</td>\n",
       "      <td>-1.874844</td>\n",
       "    </tr>\n",
       "  </tbody>\n",
       "</table>\n",
       "</div>"
      ],
      "text/plain": [
       "                        painter_name  \\\n",
       "74             Agnes Lawrence Pelton   \n",
       "75                      Agnes Martin   \n",
       "116                   Albrecht Dürer   \n",
       "182                  Alison Debenham   \n",
       "183                  Alison Geissler   \n",
       "184                  Alison Kinnaird   \n",
       "185   Alison Watt (Scottish painter)   \n",
       "255                      Andy Warhol   \n",
       "539                    Caro Niederer   \n",
       "556                    Cecilia Beaux   \n",
       "557                     Cecily Brown   \n",
       "559           Celia Fiennes (artist)   \n",
       "560            Celia Frances Bedford   \n",
       "1169                     Frida Kahlo   \n",
       "1559                         Hokusai   \n",
       "1936                 Joaquín Sorolla   \n",
       "1975                Johannes Vermeer   \n",
       "2375               Leonardo da Vinci   \n",
       "2685                    Michelangelo   \n",
       "2874                   Pablo Picasso   \n",
       "3062                         Raphael   \n",
       "3263                   Salvador Dalí   \n",
       "3284               Sandro Botticelli   \n",
       "3522                          Titian   \n",
       "3634                Vincent van Gogh   \n",
       "\n",
       "                                                summary  \\\n",
       "74    Agnes Lawrence Pelton (August 22, 1881 – March...   \n",
       "75    Agnes Bernice Martin  (March 22, 1912 – Decemb...   \n",
       "116   Albrecht Dürer (; German: [ˈʔalbʁɛçt ˈdyːʁɐ]; ...   \n",
       "182   Alison Edith Debenham (later Le Plat; 1903–196...   \n",
       "183   Alison Cornwall Geissler MBE, née McDonald (13...   \n",
       "184   Alison Kinnaird MBE, MA, FGE (born 30 April 19...   \n",
       "185   Alison Watt OBE FRSE RSA  (born 1965) is a Bri...   \n",
       "255   Andy Warhol (; born Andrew Warhola Jr.; August...   \n",
       "539   Caro Niederer (born 1963 in Zürich) is a conte...   \n",
       "556   Eliza Cecilia Beaux (May 1, 1855 – September 1...   \n",
       "557   Cecily Brown (born 1969) is a British painter....   \n",
       "559   Celia Mary Twisleton-Wykeham-Fiennes known as ...   \n",
       "560   Celia Frances Bedford (11 February 1904 – 23 F...   \n",
       "1169  Magdalena Carmen Frida Kahlo y Calderón (Spani...   \n",
       "1559  Katsushika Hokusai (葛飾 北斎, c. 31 October 1760 ...   \n",
       "1936  Joaquín Sorolla y Bastida (Valencian: Joaquim ...   \n",
       "1975  Johannes Vermeer (, Dutch: [vərˈmeːr], see bel...   \n",
       "2375  Leonardo di ser Piero da Vinci (15 April 1452 ...   \n",
       "2685  Michelangelo di Lodovico Buonarroti Simoni (It...   \n",
       "2874  Pablo Ruiz Picasso (25 October 1881 – 8 April ...   \n",
       "3062  Raffaello Sanzio da Urbino (Italian: [raffaˈɛl...   \n",
       "3263  Salvador Domingo Felipe Jacinto Dalí i Domènec...   \n",
       "3284  Alessandro di Mariano di Vanni Filipepi (c. 14...   \n",
       "3522  Tiziano Vecelli or Vecellio (pronounced [titˈt...   \n",
       "3634  Vincent Willem van Gogh (Dutch: [ˈvɪnsɛnt ˈʋɪl...   \n",
       "\n",
       "                                             embeddings  \\\n",
       "74    [0.00925831962376833, 0.020879311487078667, -0...   \n",
       "75    [0.04175714775919914, 0.08346845954656601, 0.0...   \n",
       "116   [-0.056997984647750854, 0.024535084143280983, ...   \n",
       "182   [-0.06023209169507027, 0.015084055252373219, 0...   \n",
       "183   [-0.04076974838972092, -0.009458957239985466, ...   \n",
       "184   [0.02746589109301567, -0.022002195939421654, -...   \n",
       "185   [-0.07076051831245422, -0.017952891066670418, ...   \n",
       "255   [0.0025709313340485096, -0.08942723274230957, ...   \n",
       "539   [-0.06210412457585335, 0.05394889414310455, 0....   \n",
       "556   [-0.00541235925629735, 0.005950777791440487, 0...   \n",
       "557   [-0.01126799825578928, -0.0135478051379323, -0...   \n",
       "559   [-0.04087485373020172, -0.058128729462623596, ...   \n",
       "560   [-0.04144958779215813, -0.0075385612435638905,...   \n",
       "1169  [-0.015083580277860165, 0.07202418893575668, -...   \n",
       "1559  [-0.024148855358362198, 0.04442296922206879, -...   \n",
       "1936  [0.04648873955011368, 0.08807677775621414, -0....   \n",
       "1975  [0.0292351171374321, 0.08469347655773163, -0.0...   \n",
       "2375  [-0.049784105271101, -0.0011410464067012072, 0...   \n",
       "2685  [0.01565895415842533, 0.09450660645961761, 0.0...   \n",
       "2874  [-0.013010181486606598, 0.016082225367426872, ...   \n",
       "3062  [-0.04124732315540314, -0.0005537216202355921,...   \n",
       "3263  [0.0810016617178917, -0.022114435210824013, -0...   \n",
       "3284  [-0.02803158015012741, 0.02716502733528614, 0....   \n",
       "3522  [-0.04871152341365814, 0.03751521557569504, -0...   \n",
       "3634  [0.08493974059820175, 0.03074062615633011, 0.0...   \n",
       "\n",
       "                                            embeddings2    umap1_x   umap1_y  \n",
       "74    [-0.3555273413658142, 0.6258305907249451, -0.3...  10.906144  3.149799  \n",
       "75    [-0.05190335959196091, 0.01991790533065796, -0...  11.422478  3.539620  \n",
       "116   [-0.5610215663909912, 0.7210466861724854, -0.3...   7.799601 -4.351664  \n",
       "182   [0.3454815149307251, 0.4316037893295288, -0.27...  10.954934  1.849854  \n",
       "183   [-0.6484456062316895, 0.4758595824241638, 0.13...  11.779065  1.953383  \n",
       "184   [-0.15582501888275146, 0.8702155351638794, 0.2...  11.899119  1.458376  \n",
       "185   [-0.16642820835113525, 0.9753232598304749, 0.3...  11.289492  1.380466  \n",
       "255   [-0.14185909926891327, 0.6947842836380005, 0.0...   5.964389 -2.551351  \n",
       "539   [-0.26326656341552734, 0.21122246980667114, 0....   6.073942 -2.057461  \n",
       "556   [-0.36029744148254395, 0.4289925992488861, -0....  11.972830  3.287737  \n",
       "557   [0.0716535896062851, 0.26911643147468567, 0.60...  10.458698  2.569968  \n",
       "559   [0.07800303399562836, 0.5016523003578186, -0.1...  12.223318  2.430804  \n",
       "560   [-0.22478514909744263, 0.6541701555252075, -0....  11.526350  2.836077  \n",
       "1169  [-0.008977584540843964, 0.40518710017204285, -...   5.135310 -1.731199  \n",
       "1559  [-0.47407805919647217, 0.2849172353744507, -0....   6.941107 -5.012307  \n",
       "1936  [-0.18695570528507233, 0.14081069827079773, -0...   5.343115 -1.264711  \n",
       "1975  [-0.4320114254951477, 0.23948663473129272, -0....   7.081610 -2.609436  \n",
       "2375  [-0.14724111557006836, 0.48437750339508057, 0....   7.904481 -5.879851  \n",
       "2685  [-0.1202235147356987, 0.4659096300601959, 0.48...   7.268611 -5.317298  \n",
       "2874  [-0.5689476132392883, 0.4044139087200165, -0.0...   5.243643 -2.423695  \n",
       "3062  [-0.45465630292892456, 0.4950965642929077, 0.5...   7.887162 -5.197574  \n",
       "3263  [-0.35352182388305664, 0.6480511426925659, 0.1...   5.876503 -1.273788  \n",
       "3284  [-0.37901395559310913, 0.017451822757720947, 0...   7.432415 -5.795900  \n",
       "3522  [-0.014551511034369469, -0.15258657932281494, ...   8.237752 -5.018612  \n",
       "3634  [-0.4844709038734436, 0.37838366627693176, -0....   6.732071 -1.874844  "
      ]
     },
     "execution_count": 47,
     "metadata": {},
     "output_type": "execute_result"
    }
   ],
   "source": [
    "from sentence_transformers import SentenceTransformer\n",
    "\n",
    "# Load the pre-trained model\n",
    "model = SentenceTransformer(\"all-MiniLM-L6-v2\")\n",
    "\n",
    "select_painter_bios[\"embeddings\"] = select_painter_bios[\"summary\"].apply(\n",
    "    lambda x: model.encode(x).tolist()\n",
    ")\n",
    "select_painter_bios"
   ]
  },
  {
   "cell_type": "markdown",
   "id": "585ead64",
   "metadata": {
    "deletable": false,
    "editable": false,
    "nbgrader": {
     "cell_type": "markdown",
     "checksum": "7c6ab7ccc45c17df17d9b4ff2e89c2b8",
     "grade": false,
     "grade_id": "cell-c74798848287f0fd",
     "locked": true,
     "schema_version": 3,
     "solution": false,
     "task": false
    }
   },
   "source": [
    "<div class=\"alert alert-info\">\n",
    "<b>Instruction:</b> Save the dataframe with the embeddings as <em>select_painter_embeddings.csv</em>\n",
    "</div>"
   ]
  },
  {
   "cell_type": "code",
   "execution_count": 37,
   "id": "b4388331",
   "metadata": {
    "deletable": false,
    "nbgrader": {
     "cell_type": "code",
     "checksum": "360348bb9a3cb7cb35531ce6c0f79131",
     "grade": true,
     "grade_id": "cell-169aea08d141cc72",
     "locked": false,
     "points": 0,
     "schema_version": 3,
     "solution": true,
     "task": false
    }
   },
   "outputs": [],
   "source": [
    "select_painter_bios.to_csv(\"data/select_painter_embeddings.csv\", index=False)"
   ]
  },
  {
   "cell_type": "markdown",
   "id": "40459c6b",
   "metadata": {
    "deletable": false,
    "editable": false,
    "nbgrader": {
     "cell_type": "markdown",
     "checksum": "1adc34e8ff2525e959c485e29b10e126",
     "grade": false,
     "grade_id": "cell-a9248f42cc927573",
     "locked": true,
     "schema_version": 3,
     "solution": false,
     "task": false
    }
   },
   "source": [
    "We have created our embeddings using the specific model, `all-MiniLM-L6-v2`. That is one of many many models we can use. See a full list here: [https://huggingface.co/models?library=sentence-transformers&author=sentence-transformers](https://huggingface.co/models?library=sentence-transformers&author=sentence-transformers).\n",
    "\n",
    "<div class=\"alert alert-info\">\n",
    "<b>Instruction:</b> Pick a model from the link above and create a new set of embeddings. Name that new column <em>embeddings2</em>. Fill in the table below, and save the data for that run as well.\n",
    "</div>"
   ]
  },
  {
   "cell_type": "markdown",
   "id": "55614048",
   "metadata": {
    "deletable": false,
    "nbgrader": {
     "cell_type": "markdown",
     "checksum": "38c6711984b734b1bcf73ac168ed0bb2",
     "grade": true,
     "grade_id": "cell-e6eec22dc3fd2ea9",
     "locked": false,
     "points": 0,
     "schema_version": 3,
     "solution": true,
     "task": false
    }
   },
   "source": [
    "YOUR ANSWER HERE"
   ]
  },
  {
   "cell_type": "code",
   "execution_count": 38,
   "id": "32e8d34a",
   "metadata": {
    "deletable": false,
    "nbgrader": {
     "cell_type": "code",
     "checksum": "fb685d89bfd17fca163eac8883d8e6f3",
     "grade": true,
     "grade_id": "cell-634f886b86791641",
     "locked": false,
     "points": 0,
     "schema_version": 3,
     "solution": true,
     "task": false
    }
   },
   "outputs": [
    {
     "data": {
      "application/vnd.jupyter.widget-view+json": {
       "model_id": "66bc9c502fd6417bb8b8f7b059cdaa5a",
       "version_major": 2,
       "version_minor": 0
      },
      "text/plain": [
       "modules.json:   0%|          | 0.00/229 [00:00<?, ?B/s]"
      ]
     },
     "metadata": {},
     "output_type": "display_data"
    },
    {
     "data": {
      "application/vnd.jupyter.widget-view+json": {
       "model_id": "accdf6fafd884c72bb36531aaf0e3896",
       "version_major": 2,
       "version_minor": 0
      },
      "text/plain": [
       "config_sentence_transformers.json:   0%|          | 0.00/122 [00:00<?, ?B/s]"
      ]
     },
     "metadata": {},
     "output_type": "display_data"
    },
    {
     "data": {
      "application/vnd.jupyter.widget-view+json": {
       "model_id": "95e6c2b726bb40669376bd605b4bb248",
       "version_major": 2,
       "version_minor": 0
      },
      "text/plain": [
       "README.md:   0%|          | 0.00/3.93k [00:00<?, ?B/s]"
      ]
     },
     "metadata": {},
     "output_type": "display_data"
    },
    {
     "data": {
      "application/vnd.jupyter.widget-view+json": {
       "model_id": "06396dae862a42b0841d7da20d84de04",
       "version_major": 2,
       "version_minor": 0
      },
      "text/plain": [
       "sentence_bert_config.json:   0%|          | 0.00/53.0 [00:00<?, ?B/s]"
      ]
     },
     "metadata": {},
     "output_type": "display_data"
    },
    {
     "name": "stderr",
     "output_type": "stream",
     "text": [
      "/opt/miniconda3/lib/python3.12/site-packages/huggingface_hub/file_download.py:1132: FutureWarning: `resume_download` is deprecated and will be removed in version 1.0.0. Downloads always resume when possible. If you want to force a new download, use `force_download=True`.\n",
      "  warnings.warn(\n"
     ]
    },
    {
     "data": {
      "application/vnd.jupyter.widget-view+json": {
       "model_id": "82cf0b3b76fe4f5e9879e79c3c9d583f",
       "version_major": 2,
       "version_minor": 0
      },
      "text/plain": [
       "config.json:   0%|          | 0.00/613 [00:00<?, ?B/s]"
      ]
     },
     "metadata": {},
     "output_type": "display_data"
    },
    {
     "data": {
      "application/vnd.jupyter.widget-view+json": {
       "model_id": "d14124b4387d47cda6e03e64487bd77a",
       "version_major": 2,
       "version_minor": 0
      },
      "text/plain": [
       "model.safetensors:   0%|          | 0.00/438M [00:00<?, ?B/s]"
      ]
     },
     "metadata": {},
     "output_type": "display_data"
    },
    {
     "data": {
      "application/vnd.jupyter.widget-view+json": {
       "model_id": "cb44dbf2fb4f4df786dd9dc63e1aa1a3",
       "version_major": 2,
       "version_minor": 0
      },
      "text/plain": [
       "tokenizer_config.json:   0%|          | 0.00/375 [00:00<?, ?B/s]"
      ]
     },
     "metadata": {},
     "output_type": "display_data"
    },
    {
     "data": {
      "application/vnd.jupyter.widget-view+json": {
       "model_id": "073168264d1a4db598fd0462d48977d3",
       "version_major": 2,
       "version_minor": 0
      },
      "text/plain": [
       "vocab.txt:   0%|          | 0.00/232k [00:00<?, ?B/s]"
      ]
     },
     "metadata": {},
     "output_type": "display_data"
    },
    {
     "data": {
      "application/vnd.jupyter.widget-view+json": {
       "model_id": "352d76db31054b30b5d7b0ffb8917b66",
       "version_major": 2,
       "version_minor": 0
      },
      "text/plain": [
       "tokenizer.json:   0%|          | 0.00/466k [00:00<?, ?B/s]"
      ]
     },
     "metadata": {},
     "output_type": "display_data"
    },
    {
     "data": {
      "application/vnd.jupyter.widget-view+json": {
       "model_id": "3c0ce22f3f0840ac90fe0e7df5ed8c29",
       "version_major": 2,
       "version_minor": 0
      },
      "text/plain": [
       "special_tokens_map.json:   0%|          | 0.00/112 [00:00<?, ?B/s]"
      ]
     },
     "metadata": {},
     "output_type": "display_data"
    },
    {
     "data": {
      "application/vnd.jupyter.widget-view+json": {
       "model_id": "2b131c94e5274ef69f23e5b433d8f1a6",
       "version_major": 2,
       "version_minor": 0
      },
      "text/plain": [
       "1_Pooling/config.json:   0%|          | 0.00/190 [00:00<?, ?B/s]"
      ]
     },
     "metadata": {},
     "output_type": "display_data"
    },
    {
     "data": {
      "text/html": [
       "<div>\n",
       "<style scoped>\n",
       "    .dataframe tbody tr th:only-of-type {\n",
       "        vertical-align: middle;\n",
       "    }\n",
       "\n",
       "    .dataframe tbody tr th {\n",
       "        vertical-align: top;\n",
       "    }\n",
       "\n",
       "    .dataframe thead th {\n",
       "        text-align: right;\n",
       "    }\n",
       "</style>\n",
       "<table border=\"1\" class=\"dataframe\">\n",
       "  <thead>\n",
       "    <tr style=\"text-align: right;\">\n",
       "      <th></th>\n",
       "      <th>painter_name</th>\n",
       "      <th>summary</th>\n",
       "      <th>embeddings</th>\n",
       "      <th>embeddings2</th>\n",
       "    </tr>\n",
       "  </thead>\n",
       "  <tbody>\n",
       "    <tr>\n",
       "      <th>74</th>\n",
       "      <td>Agnes Lawrence Pelton</td>\n",
       "      <td>Agnes Lawrence Pelton (August 22, 1881 – March...</td>\n",
       "      <td>[0.00925831962376833, 0.020879311487078667, -0...</td>\n",
       "      <td>[-0.3555273413658142, 0.6258305907249451, -0.3...</td>\n",
       "    </tr>\n",
       "    <tr>\n",
       "      <th>75</th>\n",
       "      <td>Agnes Martin</td>\n",
       "      <td>Agnes Bernice Martin  (March 22, 1912 – Decemb...</td>\n",
       "      <td>[0.04175714775919914, 0.08346845954656601, 0.0...</td>\n",
       "      <td>[-0.05190335959196091, 0.01991790533065796, -0...</td>\n",
       "    </tr>\n",
       "    <tr>\n",
       "      <th>116</th>\n",
       "      <td>Albrecht Dürer</td>\n",
       "      <td>Albrecht Dürer (; German: [ˈʔalbʁɛçt ˈdyːʁɐ]; ...</td>\n",
       "      <td>[-0.056997984647750854, 0.024535084143280983, ...</td>\n",
       "      <td>[-0.5610215663909912, 0.7210466861724854, -0.3...</td>\n",
       "    </tr>\n",
       "    <tr>\n",
       "      <th>182</th>\n",
       "      <td>Alison Debenham</td>\n",
       "      <td>Alison Edith Debenham (later Le Plat; 1903–196...</td>\n",
       "      <td>[-0.06023209169507027, 0.015084055252373219, 0...</td>\n",
       "      <td>[0.3454815149307251, 0.4316037893295288, -0.27...</td>\n",
       "    </tr>\n",
       "    <tr>\n",
       "      <th>183</th>\n",
       "      <td>Alison Geissler</td>\n",
       "      <td>Alison Cornwall Geissler MBE, née McDonald (13...</td>\n",
       "      <td>[-0.04076974838972092, -0.009458957239985466, ...</td>\n",
       "      <td>[-0.6484456062316895, 0.4758595824241638, 0.13...</td>\n",
       "    </tr>\n",
       "    <tr>\n",
       "      <th>184</th>\n",
       "      <td>Alison Kinnaird</td>\n",
       "      <td>Alison Kinnaird MBE, MA, FGE (born 30 April 19...</td>\n",
       "      <td>[0.02746589109301567, -0.022002195939421654, -...</td>\n",
       "      <td>[-0.15582501888275146, 0.8702155351638794, 0.2...</td>\n",
       "    </tr>\n",
       "    <tr>\n",
       "      <th>185</th>\n",
       "      <td>Alison Watt (Scottish painter)</td>\n",
       "      <td>Alison Watt OBE FRSE RSA  (born 1965) is a Bri...</td>\n",
       "      <td>[-0.07076051831245422, -0.017952891066670418, ...</td>\n",
       "      <td>[-0.16642820835113525, 0.9753232598304749, 0.3...</td>\n",
       "    </tr>\n",
       "    <tr>\n",
       "      <th>255</th>\n",
       "      <td>Andy Warhol</td>\n",
       "      <td>Andy Warhol (; born Andrew Warhola Jr.; August...</td>\n",
       "      <td>[0.0025709313340485096, -0.08942723274230957, ...</td>\n",
       "      <td>[-0.14185909926891327, 0.6947842836380005, 0.0...</td>\n",
       "    </tr>\n",
       "    <tr>\n",
       "      <th>539</th>\n",
       "      <td>Caro Niederer</td>\n",
       "      <td>Caro Niederer (born 1963 in Zürich) is a conte...</td>\n",
       "      <td>[-0.06210412457585335, 0.05394889414310455, 0....</td>\n",
       "      <td>[-0.26326656341552734, 0.21122246980667114, 0....</td>\n",
       "    </tr>\n",
       "    <tr>\n",
       "      <th>556</th>\n",
       "      <td>Cecilia Beaux</td>\n",
       "      <td>Eliza Cecilia Beaux (May 1, 1855 – September 1...</td>\n",
       "      <td>[-0.00541235925629735, 0.005950777791440487, 0...</td>\n",
       "      <td>[-0.36029744148254395, 0.4289925992488861, -0....</td>\n",
       "    </tr>\n",
       "    <tr>\n",
       "      <th>557</th>\n",
       "      <td>Cecily Brown</td>\n",
       "      <td>Cecily Brown (born 1969) is a British painter....</td>\n",
       "      <td>[-0.01126799825578928, -0.0135478051379323, -0...</td>\n",
       "      <td>[0.0716535896062851, 0.26911643147468567, 0.60...</td>\n",
       "    </tr>\n",
       "    <tr>\n",
       "      <th>559</th>\n",
       "      <td>Celia Fiennes (artist)</td>\n",
       "      <td>Celia Mary Twisleton-Wykeham-Fiennes known as ...</td>\n",
       "      <td>[-0.04087485373020172, -0.058128729462623596, ...</td>\n",
       "      <td>[0.07800303399562836, 0.5016523003578186, -0.1...</td>\n",
       "    </tr>\n",
       "    <tr>\n",
       "      <th>560</th>\n",
       "      <td>Celia Frances Bedford</td>\n",
       "      <td>Celia Frances Bedford (11 February 1904 – 23 F...</td>\n",
       "      <td>[-0.04144958779215813, -0.0075385612435638905,...</td>\n",
       "      <td>[-0.22478514909744263, 0.6541701555252075, -0....</td>\n",
       "    </tr>\n",
       "    <tr>\n",
       "      <th>1169</th>\n",
       "      <td>Frida Kahlo</td>\n",
       "      <td>Magdalena Carmen Frida Kahlo y Calderón (Spani...</td>\n",
       "      <td>[-0.015083580277860165, 0.07202418893575668, -...</td>\n",
       "      <td>[-0.008977584540843964, 0.40518710017204285, -...</td>\n",
       "    </tr>\n",
       "    <tr>\n",
       "      <th>1559</th>\n",
       "      <td>Hokusai</td>\n",
       "      <td>Katsushika Hokusai (葛飾 北斎, c. 31 October 1760 ...</td>\n",
       "      <td>[-0.024148855358362198, 0.04442296922206879, -...</td>\n",
       "      <td>[-0.47407805919647217, 0.2849172353744507, -0....</td>\n",
       "    </tr>\n",
       "    <tr>\n",
       "      <th>1936</th>\n",
       "      <td>Joaquín Sorolla</td>\n",
       "      <td>Joaquín Sorolla y Bastida (Valencian: Joaquim ...</td>\n",
       "      <td>[0.04648873955011368, 0.08807677775621414, -0....</td>\n",
       "      <td>[-0.18695570528507233, 0.14081069827079773, -0...</td>\n",
       "    </tr>\n",
       "    <tr>\n",
       "      <th>1975</th>\n",
       "      <td>Johannes Vermeer</td>\n",
       "      <td>Johannes Vermeer (, Dutch: [vərˈmeːr], see bel...</td>\n",
       "      <td>[0.0292351171374321, 0.08469347655773163, -0.0...</td>\n",
       "      <td>[-0.4320114254951477, 0.23948663473129272, -0....</td>\n",
       "    </tr>\n",
       "    <tr>\n",
       "      <th>2375</th>\n",
       "      <td>Leonardo da Vinci</td>\n",
       "      <td>Leonardo di ser Piero da Vinci (15 April 1452 ...</td>\n",
       "      <td>[-0.049784105271101, -0.0011410464067012072, 0...</td>\n",
       "      <td>[-0.14724111557006836, 0.48437750339508057, 0....</td>\n",
       "    </tr>\n",
       "    <tr>\n",
       "      <th>2685</th>\n",
       "      <td>Michelangelo</td>\n",
       "      <td>Michelangelo di Lodovico Buonarroti Simoni (It...</td>\n",
       "      <td>[0.01565895415842533, 0.09450660645961761, 0.0...</td>\n",
       "      <td>[-0.1202235147356987, 0.4659096300601959, 0.48...</td>\n",
       "    </tr>\n",
       "    <tr>\n",
       "      <th>2874</th>\n",
       "      <td>Pablo Picasso</td>\n",
       "      <td>Pablo Ruiz Picasso (25 October 1881 – 8 April ...</td>\n",
       "      <td>[-0.013010181486606598, 0.016082225367426872, ...</td>\n",
       "      <td>[-0.5689476132392883, 0.4044139087200165, -0.0...</td>\n",
       "    </tr>\n",
       "    <tr>\n",
       "      <th>3062</th>\n",
       "      <td>Raphael</td>\n",
       "      <td>Raffaello Sanzio da Urbino (Italian: [raffaˈɛl...</td>\n",
       "      <td>[-0.04124732315540314, -0.0005537216202355921,...</td>\n",
       "      <td>[-0.45465630292892456, 0.4950965642929077, 0.5...</td>\n",
       "    </tr>\n",
       "    <tr>\n",
       "      <th>3263</th>\n",
       "      <td>Salvador Dalí</td>\n",
       "      <td>Salvador Domingo Felipe Jacinto Dalí i Domènec...</td>\n",
       "      <td>[0.0810016617178917, -0.022114435210824013, -0...</td>\n",
       "      <td>[-0.35352182388305664, 0.6480511426925659, 0.1...</td>\n",
       "    </tr>\n",
       "    <tr>\n",
       "      <th>3284</th>\n",
       "      <td>Sandro Botticelli</td>\n",
       "      <td>Alessandro di Mariano di Vanni Filipepi (c. 14...</td>\n",
       "      <td>[-0.02803158015012741, 0.02716502733528614, 0....</td>\n",
       "      <td>[-0.37901395559310913, 0.017451822757720947, 0...</td>\n",
       "    </tr>\n",
       "    <tr>\n",
       "      <th>3522</th>\n",
       "      <td>Titian</td>\n",
       "      <td>Tiziano Vecelli or Vecellio (pronounced [titˈt...</td>\n",
       "      <td>[-0.04871152341365814, 0.03751521557569504, -0...</td>\n",
       "      <td>[-0.014551511034369469, -0.15258657932281494, ...</td>\n",
       "    </tr>\n",
       "    <tr>\n",
       "      <th>3634</th>\n",
       "      <td>Vincent van Gogh</td>\n",
       "      <td>Vincent Willem van Gogh (Dutch: [ˈvɪnsɛnt ˈʋɪl...</td>\n",
       "      <td>[0.08493974059820175, 0.03074062615633011, 0.0...</td>\n",
       "      <td>[-0.4844709038734436, 0.37838366627693176, -0....</td>\n",
       "    </tr>\n",
       "  </tbody>\n",
       "</table>\n",
       "</div>"
      ],
      "text/plain": [
       "                        painter_name  \\\n",
       "74             Agnes Lawrence Pelton   \n",
       "75                      Agnes Martin   \n",
       "116                   Albrecht Dürer   \n",
       "182                  Alison Debenham   \n",
       "183                  Alison Geissler   \n",
       "184                  Alison Kinnaird   \n",
       "185   Alison Watt (Scottish painter)   \n",
       "255                      Andy Warhol   \n",
       "539                    Caro Niederer   \n",
       "556                    Cecilia Beaux   \n",
       "557                     Cecily Brown   \n",
       "559           Celia Fiennes (artist)   \n",
       "560            Celia Frances Bedford   \n",
       "1169                     Frida Kahlo   \n",
       "1559                         Hokusai   \n",
       "1936                 Joaquín Sorolla   \n",
       "1975                Johannes Vermeer   \n",
       "2375               Leonardo da Vinci   \n",
       "2685                    Michelangelo   \n",
       "2874                   Pablo Picasso   \n",
       "3062                         Raphael   \n",
       "3263                   Salvador Dalí   \n",
       "3284               Sandro Botticelli   \n",
       "3522                          Titian   \n",
       "3634                Vincent van Gogh   \n",
       "\n",
       "                                                summary  \\\n",
       "74    Agnes Lawrence Pelton (August 22, 1881 – March...   \n",
       "75    Agnes Bernice Martin  (March 22, 1912 – Decemb...   \n",
       "116   Albrecht Dürer (; German: [ˈʔalbʁɛçt ˈdyːʁɐ]; ...   \n",
       "182   Alison Edith Debenham (later Le Plat; 1903–196...   \n",
       "183   Alison Cornwall Geissler MBE, née McDonald (13...   \n",
       "184   Alison Kinnaird MBE, MA, FGE (born 30 April 19...   \n",
       "185   Alison Watt OBE FRSE RSA  (born 1965) is a Bri...   \n",
       "255   Andy Warhol (; born Andrew Warhola Jr.; August...   \n",
       "539   Caro Niederer (born 1963 in Zürich) is a conte...   \n",
       "556   Eliza Cecilia Beaux (May 1, 1855 – September 1...   \n",
       "557   Cecily Brown (born 1969) is a British painter....   \n",
       "559   Celia Mary Twisleton-Wykeham-Fiennes known as ...   \n",
       "560   Celia Frances Bedford (11 February 1904 – 23 F...   \n",
       "1169  Magdalena Carmen Frida Kahlo y Calderón (Spani...   \n",
       "1559  Katsushika Hokusai (葛飾 北斎, c. 31 October 1760 ...   \n",
       "1936  Joaquín Sorolla y Bastida (Valencian: Joaquim ...   \n",
       "1975  Johannes Vermeer (, Dutch: [vərˈmeːr], see bel...   \n",
       "2375  Leonardo di ser Piero da Vinci (15 April 1452 ...   \n",
       "2685  Michelangelo di Lodovico Buonarroti Simoni (It...   \n",
       "2874  Pablo Ruiz Picasso (25 October 1881 – 8 April ...   \n",
       "3062  Raffaello Sanzio da Urbino (Italian: [raffaˈɛl...   \n",
       "3263  Salvador Domingo Felipe Jacinto Dalí i Domènec...   \n",
       "3284  Alessandro di Mariano di Vanni Filipepi (c. 14...   \n",
       "3522  Tiziano Vecelli or Vecellio (pronounced [titˈt...   \n",
       "3634  Vincent Willem van Gogh (Dutch: [ˈvɪnsɛnt ˈʋɪl...   \n",
       "\n",
       "                                             embeddings  \\\n",
       "74    [0.00925831962376833, 0.020879311487078667, -0...   \n",
       "75    [0.04175714775919914, 0.08346845954656601, 0.0...   \n",
       "116   [-0.056997984647750854, 0.024535084143280983, ...   \n",
       "182   [-0.06023209169507027, 0.015084055252373219, 0...   \n",
       "183   [-0.04076974838972092, -0.009458957239985466, ...   \n",
       "184   [0.02746589109301567, -0.022002195939421654, -...   \n",
       "185   [-0.07076051831245422, -0.017952891066670418, ...   \n",
       "255   [0.0025709313340485096, -0.08942723274230957, ...   \n",
       "539   [-0.06210412457585335, 0.05394889414310455, 0....   \n",
       "556   [-0.00541235925629735, 0.005950777791440487, 0...   \n",
       "557   [-0.01126799825578928, -0.0135478051379323, -0...   \n",
       "559   [-0.04087485373020172, -0.058128729462623596, ...   \n",
       "560   [-0.04144958779215813, -0.0075385612435638905,...   \n",
       "1169  [-0.015083580277860165, 0.07202418893575668, -...   \n",
       "1559  [-0.024148855358362198, 0.04442296922206879, -...   \n",
       "1936  [0.04648873955011368, 0.08807677775621414, -0....   \n",
       "1975  [0.0292351171374321, 0.08469347655773163, -0.0...   \n",
       "2375  [-0.049784105271101, -0.0011410464067012072, 0...   \n",
       "2685  [0.01565895415842533, 0.09450660645961761, 0.0...   \n",
       "2874  [-0.013010181486606598, 0.016082225367426872, ...   \n",
       "3062  [-0.04124732315540314, -0.0005537216202355921,...   \n",
       "3263  [0.0810016617178917, -0.022114435210824013, -0...   \n",
       "3284  [-0.02803158015012741, 0.02716502733528614, 0....   \n",
       "3522  [-0.04871152341365814, 0.03751521557569504, -0...   \n",
       "3634  [0.08493974059820175, 0.03074062615633011, 0.0...   \n",
       "\n",
       "                                            embeddings2  \n",
       "74    [-0.3555273413658142, 0.6258305907249451, -0.3...  \n",
       "75    [-0.05190335959196091, 0.01991790533065796, -0...  \n",
       "116   [-0.5610215663909912, 0.7210466861724854, -0.3...  \n",
       "182   [0.3454815149307251, 0.4316037893295288, -0.27...  \n",
       "183   [-0.6484456062316895, 0.4758595824241638, 0.13...  \n",
       "184   [-0.15582501888275146, 0.8702155351638794, 0.2...  \n",
       "185   [-0.16642820835113525, 0.9753232598304749, 0.3...  \n",
       "255   [-0.14185909926891327, 0.6947842836380005, 0.0...  \n",
       "539   [-0.26326656341552734, 0.21122246980667114, 0....  \n",
       "556   [-0.36029744148254395, 0.4289925992488861, -0....  \n",
       "557   [0.0716535896062851, 0.26911643147468567, 0.60...  \n",
       "559   [0.07800303399562836, 0.5016523003578186, -0.1...  \n",
       "560   [-0.22478514909744263, 0.6541701555252075, -0....  \n",
       "1169  [-0.008977584540843964, 0.40518710017204285, -...  \n",
       "1559  [-0.47407805919647217, 0.2849172353744507, -0....  \n",
       "1936  [-0.18695570528507233, 0.14081069827079773, -0...  \n",
       "1975  [-0.4320114254951477, 0.23948663473129272, -0....  \n",
       "2375  [-0.14724111557006836, 0.48437750339508057, 0....  \n",
       "2685  [-0.1202235147356987, 0.4659096300601959, 0.48...  \n",
       "2874  [-0.5689476132392883, 0.4044139087200165, -0.0...  \n",
       "3062  [-0.45465630292892456, 0.4950965642929077, 0.5...  \n",
       "3263  [-0.35352182388305664, 0.6480511426925659, 0.1...  \n",
       "3284  [-0.37901395559310913, 0.017451822757720947, 0...  \n",
       "3522  [-0.014551511034369469, -0.15258657932281494, ...  \n",
       "3634  [-0.4844709038734436, 0.37838366627693176, -0....  "
      ]
     },
     "execution_count": 38,
     "metadata": {},
     "output_type": "execute_result"
    }
   ],
   "source": [
    "from sentence_transformers import SentenceTransformer\n",
    "\n",
    "# Load the pre-trained model\n",
    "model = SentenceTransformer(\"sentence-transformers/nli-bert-base\")\n",
    "\n",
    "select_painter_bios[\"embeddings2\"] = select_painter_bios[\"summary\"].apply(\n",
    "    lambda x: model.encode(x).tolist()\n",
    ")\n",
    "select_painter_bios"
   ]
  },
  {
   "cell_type": "markdown",
   "id": "ae75786f",
   "metadata": {
    "deletable": false,
    "editable": false,
    "nbgrader": {
     "cell_type": "markdown",
     "checksum": "5eae9ac9e788e3de3933f664d6dad6cb",
     "grade": false,
     "grade_id": "cell-ed2674b2929b3091",
     "locked": true,
     "schema_version": 3,
     "solution": false,
     "task": false
    }
   },
   "source": [
    "### Reducing dimensions\n",
    "\n",
    "Now that we have at least one set of embeddings, we can work to visualize them. This is the embedding using the first model for Vincent van Gogh:"
   ]
  },
  {
   "cell_type": "code",
   "execution_count": 41,
   "id": "9829e753",
   "metadata": {
    "deletable": false,
    "editable": false,
    "nbgrader": {
     "cell_type": "code",
     "checksum": "5080630f5511e71d11fc138924710279",
     "grade": false,
     "grade_id": "cell-78f4f1ef1b93f0bb",
     "locked": true,
     "schema_version": 3,
     "solution": false,
     "task": false
    }
   },
   "outputs": [
    {
     "data": {
      "text/plain": [
       "[0.08493974059820175,\n",
       " 0.03074062615633011,\n",
       " 0.01686738058924675,\n",
       " 0.016839053481817245,\n",
       " 0.05989311635494232,\n",
       " 0.03570970147848129,\n",
       " 0.03619306907057762,\n",
       " 0.020847732201218605,\n",
       " -0.05887269973754883,\n",
       " -0.05923779308795929,\n",
       " -0.03598632290959358,\n",
       " -0.024541286751627922,\n",
       " 0.015377012081444263,\n",
       " -0.00451229652389884,\n",
       " 0.02243201620876789,\n",
       " 0.06546244770288467,\n",
       " -0.011373251676559448,\n",
       " 0.009499303065240383,\n",
       " -0.022144265472888947,\n",
       " 0.01504893135279417,\n",
       " -0.06678536534309387,\n",
       " 0.005186570808291435,\n",
       " -0.006639833562076092,\n",
       " -0.1190100833773613,\n",
       " 0.016290709376335144,\n",
       " 0.013186655938625336,\n",
       " 0.037642695009708405,\n",
       " -0.11208225786685944,\n",
       " 0.01721331477165222,\n",
       " 0.01671992801129818,\n",
       " 0.007216630503535271,\n",
       " 0.03301443159580231,\n",
       " -0.07266112416982651,\n",
       " -0.016496745869517326,\n",
       " -0.020407019183039665,\n",
       " -0.031391970813274384,\n",
       " -0.035718824714422226,\n",
       " 0.09690754860639572,\n",
       " -0.02765747159719467,\n",
       " 0.048770707100629807,\n",
       " -0.014674311503767967,\n",
       " -0.02429278753697872,\n",
       " -0.11335866153240204,\n",
       " -0.024795353412628174,\n",
       " 0.04409858584403992,\n",
       " -0.05508239567279816,\n",
       " 0.014842620119452477,\n",
       " 0.04135361686348915,\n",
       " 0.016377277672290802,\n",
       " -0.01589330844581127,\n",
       " 0.03363381326198578,\n",
       " -0.003481448395177722,\n",
       " -0.03350313380360603,\n",
       " -0.10320676118135452,\n",
       " 0.004797321278601885,\n",
       " -0.10732708871364594,\n",
       " -0.007750681601464748,\n",
       " 0.13126032054424286,\n",
       " 0.011188765987753868,\n",
       " 0.02837526984512806,\n",
       " 0.030811520293354988,\n",
       " 0.024776555597782135,\n",
       " 0.028937309980392456,\n",
       " -0.03875371068716049,\n",
       " -0.0025029005482792854,\n",
       " 0.01874621771275997,\n",
       " 0.01818145625293255,\n",
       " -0.04807249456644058,\n",
       " -0.03691822290420532,\n",
       " 0.05241011083126068,\n",
       " -0.013904985971748829,\n",
       " -0.07888897508382797,\n",
       " -0.07307842373847961,\n",
       " 0.00490928441286087,\n",
       " 0.013913015834987164,\n",
       " 0.02031775377690792,\n",
       " -0.011750193312764168,\n",
       " -0.014394997619092464,\n",
       " -0.0965837612748146,\n",
       " -0.09974931180477142,\n",
       " 0.0860045999288559,\n",
       " 0.08594996482133865,\n",
       " -0.012396817095577717,\n",
       " -0.01433537807315588,\n",
       " 0.010395726189017296,\n",
       " 0.0050712767988443375,\n",
       " -0.024598563089966774,\n",
       " -0.003942007664591074,\n",
       " -0.028977368026971817,\n",
       " 0.02414345182478428,\n",
       " 0.023175975307822227,\n",
       " -0.0030366210266947746,\n",
       " -0.0817502811551094,\n",
       " -0.03594987466931343,\n",
       " 0.14477473497390747,\n",
       " 0.012274382635951042,\n",
       " 0.046220164746046066,\n",
       " 0.03597961366176605,\n",
       " -0.04727211594581604,\n",
       " -0.003615011228248477,\n",
       " 0.033448126167058945,\n",
       " -0.036272380501031876,\n",
       " 0.050331275910139084,\n",
       " -0.023679031059145927,\n",
       " -0.00047996718785725534,\n",
       " 0.00675157131627202,\n",
       " -0.06191680207848549,\n",
       " 0.012148766778409481,\n",
       " -0.07050013542175293,\n",
       " -0.0058126202784478664,\n",
       " -0.04416036233305931,\n",
       " 0.0003649388672783971,\n",
       " -0.028628911823034286,\n",
       " -0.08153902739286423,\n",
       " 0.07306330651044846,\n",
       " -0.0406787171959877,\n",
       " -0.1016932874917984,\n",
       " -0.07255077362060547,\n",
       " -0.04226775839924812,\n",
       " 0.01922588236629963,\n",
       " 0.03659839928150177,\n",
       " 0.026906035840511322,\n",
       " 0.004108716733753681,\n",
       " 0.05823437124490738,\n",
       " -0.029948243871331215,\n",
       " -0.04805973172187805,\n",
       " 0.03443913161754608,\n",
       " 2.58634195613339e-33,\n",
       " 0.000544468523003161,\n",
       " -0.0004331646196078509,\n",
       " 0.03611697629094124,\n",
       " 0.04961830750107765,\n",
       " 0.028260599821805954,\n",
       " 0.02924666553735733,\n",
       " -0.019905684515833855,\n",
       " 0.02938544563949108,\n",
       " 0.03720179945230484,\n",
       " -0.025669457390904427,\n",
       " 0.019920218735933304,\n",
       " -0.04718167334794998,\n",
       " 0.013631627894937992,\n",
       " 0.06684641540050507,\n",
       " -0.07169254124164581,\n",
       " 0.1031494289636612,\n",
       " 0.059708330780267715,\n",
       " -0.02674158848822117,\n",
       " 0.06821328401565552,\n",
       " -0.030064983293414116,\n",
       " -0.04694714769721031,\n",
       " -0.042964447289705276,\n",
       " -0.03655935823917389,\n",
       " 0.03953258693218231,\n",
       " -0.09939594566822052,\n",
       " 0.07119923084974289,\n",
       " 0.004199339542537928,\n",
       " -0.02358594723045826,\n",
       " -0.02150428295135498,\n",
       " -0.017282217741012573,\n",
       " -0.06515652686357498,\n",
       " 0.019186269491910934,\n",
       " 0.05849398300051689,\n",
       " -0.025485249236226082,\n",
       " -0.10952118784189224,\n",
       " -0.023149142041802406,\n",
       " -0.0011539969127625227,\n",
       " -0.05631064623594284,\n",
       " 0.010432001203298569,\n",
       " -0.062223367393016815,\n",
       " 0.021935146301984787,\n",
       " 0.07104606181383133,\n",
       " 0.03029695525765419,\n",
       " 0.042922209948301315,\n",
       " -0.009454282000660896,\n",
       " 0.07691594958305359,\n",
       " -0.01533618662506342,\n",
       " -0.014922579750418663,\n",
       " -0.0941617339849472,\n",
       " 0.05081871524453163,\n",
       " -0.03447597846388817,\n",
       " 0.046522147953510284,\n",
       " -0.017932413145899773,\n",
       " 0.047927938401699066,\n",
       " -0.008040259592235088,\n",
       " 0.0018428382463753223,\n",
       " -0.041068561375141144,\n",
       " 0.014844086952507496,\n",
       " -0.0031529900152236223,\n",
       " -0.025270242244005203,\n",
       " 0.048497870564460754,\n",
       " 0.07838232815265656,\n",
       " -0.01107826828956604,\n",
       " 0.03724713623523712,\n",
       " 0.010200629010796547,\n",
       " 0.027294903993606567,\n",
       " -0.0523308627307415,\n",
       " 0.0028435522690415382,\n",
       " -0.043818581849336624,\n",
       " -0.007500080857425928,\n",
       " -0.046327222138643265,\n",
       " 0.09171959012746811,\n",
       " 0.003460970940068364,\n",
       " -0.2248232066631317,\n",
       " 0.01262435968965292,\n",
       " 0.03189645707607269,\n",
       " 0.03445865586400032,\n",
       " -0.033898528665304184,\n",
       " -0.08737464249134064,\n",
       " 0.07297775894403458,\n",
       " -0.0818798616528511,\n",
       " 0.02347894199192524,\n",
       " -0.054144155234098434,\n",
       " -0.050880175083875656,\n",
       " 0.021945904940366745,\n",
       " 0.057914234697818756,\n",
       " 0.004048512317240238,\n",
       " -0.006758824456483126,\n",
       " -0.0131432069465518,\n",
       " 0.06707717478275299,\n",
       " 0.07200327515602112,\n",
       " -0.06365618854761124,\n",
       " 0.021329587325453758,\n",
       " -0.059850674122571945,\n",
       " -0.029962999746203423,\n",
       " -4.4384962220240884e-33,\n",
       " -0.030364491045475006,\n",
       " 0.06515520811080933,\n",
       " 0.03268122673034668,\n",
       " 0.02196185663342476,\n",
       " 0.11500678211450577,\n",
       " -0.1143077090382576,\n",
       " -0.08906448632478714,\n",
       " 0.0626910924911499,\n",
       " -0.03961717337369919,\n",
       " -0.046046026051044464,\n",
       " 0.022221658378839493,\n",
       " -0.05170663446187973,\n",
       " 0.024505022913217545,\n",
       " 0.03676353022456169,\n",
       " -0.055822741240262985,\n",
       " -0.06143363192677498,\n",
       " -0.01084820181131363,\n",
       " 0.06597308069467545,\n",
       " -0.04510684311389923,\n",
       " 0.005297904368489981,\n",
       " -0.003974746912717819,\n",
       " 0.07255958020687103,\n",
       " 0.023904908448457718,\n",
       " -0.02375730872154236,\n",
       " -0.10986064374446869,\n",
       " 0.06575347483158112,\n",
       " 0.0029274355620145798,\n",
       " -0.08595628291368484,\n",
       " -0.016792161390185356,\n",
       " 0.021992987021803856,\n",
       " 0.030832897871732712,\n",
       " 0.05508514493703842,\n",
       " 0.03745918348431587,\n",
       " 0.01967337541282177,\n",
       " 0.008684425614774227,\n",
       " 0.01293483842164278,\n",
       " -0.03010758012533188,\n",
       " -0.01532882172614336,\n",
       " 0.000562505389098078,\n",
       " 0.017764277756214142,\n",
       " 0.039270445704460144,\n",
       " -0.02352256141602993,\n",
       " 0.0066954875364899635,\n",
       " -0.030520031228661537,\n",
       " -0.006475186441093683,\n",
       " -0.06644663959741592,\n",
       " -0.0429031141102314,\n",
       " 0.01186245959252119,\n",
       " 0.07361195981502533,\n",
       " -0.012280082330107689,\n",
       " 0.025362912565469742,\n",
       " 0.089339978992939,\n",
       " -0.006290817633271217,\n",
       " 0.04149957373738289,\n",
       " 0.020032906904816628,\n",
       " -0.047525353729724884,\n",
       " 0.02598714269697666,\n",
       " -0.008299609646201134,\n",
       " 0.04273136705160141,\n",
       " 0.06337719410657883,\n",
       " -0.08906466513872147,\n",
       " 0.020261263474822044,\n",
       " -0.01824665628373623,\n",
       " 0.07094652950763702,\n",
       " -0.028672078624367714,\n",
       " -0.009110571816563606,\n",
       " -0.015974704176187515,\n",
       " 0.1023024246096611,\n",
       " -0.050507545471191406,\n",
       " -0.03876345977187157,\n",
       " 0.0699782446026802,\n",
       " 0.046999938786029816,\n",
       " 0.024457942694425583,\n",
       " 0.08425433188676834,\n",
       " -0.0465908944606781,\n",
       " -0.10231976956129074,\n",
       " 0.0694318488240242,\n",
       " 0.033968597650527954,\n",
       " 0.03438036888837814,\n",
       " -0.004571398254483938,\n",
       " -0.08189095556735992,\n",
       " -0.09428389370441437,\n",
       " -0.017700033262372017,\n",
       " 0.044419065117836,\n",
       " -0.0036898732651025057,\n",
       " 0.004279312212020159,\n",
       " -0.1422661393880844,\n",
       " -0.06278333812952042,\n",
       " 0.02679937332868576,\n",
       " -0.04637347534298897,\n",
       " 0.05903550609946251,\n",
       " -0.030321914702653885,\n",
       " -0.050730008631944656,\n",
       " 0.020506558939814568,\n",
       " 0.039007607847452164,\n",
       " -5.734931818324185e-08,\n",
       " -0.0890578180551529,\n",
       " 0.011677944101393223,\n",
       " 0.07524079084396362,\n",
       " 0.005763529799878597,\n",
       " 0.1089554876089096,\n",
       " -0.0017706560902297497,\n",
       " 0.08502892404794693,\n",
       " 0.07288999855518341,\n",
       " -0.07408671826124191,\n",
       " 0.04540039598941803,\n",
       " -0.04679817706346512,\n",
       " 0.005002067890018225,\n",
       " 0.024881714954972267,\n",
       " -0.012156677432358265,\n",
       " 0.06155375391244888,\n",
       " -0.07811985909938812,\n",
       " 0.05299937725067139,\n",
       " -0.03877667337656021,\n",
       " 0.030599316582083702,\n",
       " -0.0189319159835577,\n",
       " 0.04940098896622658,\n",
       " -0.050638504326343536,\n",
       " -0.017849786207079887,\n",
       " -0.04839426279067993,\n",
       " -0.03154226765036583,\n",
       " -0.028336286544799805,\n",
       " 0.041849516332149506,\n",
       " -0.040584903210401535,\n",
       " -0.013549566268920898,\n",
       " 0.0006554032443091273,\n",
       " -0.01952260173857212,\n",
       " 0.04199517145752907,\n",
       " 0.018419167026877403,\n",
       " 0.032633740454912186,\n",
       " 0.05341814085841179,\n",
       " -0.11720344424247742,\n",
       " -0.03644698113203049,\n",
       " 0.04117530956864357,\n",
       " -0.15653742849826813,\n",
       " 0.0075582098215818405,\n",
       " -0.03742336109280586,\n",
       " 0.00985662080347538,\n",
       " 0.047100652009248734,\n",
       " -0.005931431893259287,\n",
       " 0.040710095316171646,\n",
       " -0.05263591930270195,\n",
       " 0.0739845484495163,\n",
       " 0.005073517560958862,\n",
       " 0.024958159774541855,\n",
       " 0.009790636599063873,\n",
       " -0.021697361022233963,\n",
       " 0.050962597131729126,\n",
       " 0.11842416226863861,\n",
       " 0.0272603128105402,\n",
       " 0.014384596608579159,\n",
       " -0.06476431339979172,\n",
       " -0.02114596776664257,\n",
       " 0.11673581600189209,\n",
       " 0.028411103412508965,\n",
       " 0.03038087859749794,\n",
       " 0.012961259111762047,\n",
       " 0.041607242077589035,\n",
       " -0.034639034420251846,\n",
       " 0.01441735215485096]"
      ]
     },
     "execution_count": 41,
     "metadata": {},
     "output_type": "execute_result"
    }
   ],
   "source": [
    "van_gogh = select_painter_bios[select_painter_bios[\"painter_name\"] == \"Vincent van Gogh\"][\"embeddings\"].values[0]\n",
    "\n",
    "van_gogh"
   ]
  },
  {
   "cell_type": "markdown",
   "id": "982b154e",
   "metadata": {
    "deletable": false,
    "editable": false,
    "nbgrader": {
     "cell_type": "markdown",
     "checksum": "a0a18b407facde5dc780a73119602718",
     "grade": false,
     "grade_id": "cell-c106e8fd229de434",
     "locked": true,
     "schema_version": 3,
     "solution": false,
     "task": false
    }
   },
   "source": [
    "<div class=\"alert alert-info\">\n",
    "<b>Instruction:</b> How long is this vector?\n",
    "</div>"
   ]
  },
  {
   "cell_type": "code",
   "execution_count": 42,
   "id": "462f62c6",
   "metadata": {
    "deletable": false,
    "nbgrader": {
     "cell_type": "code",
     "checksum": "cf7ab426746e417f1bb12283735de707",
     "grade": true,
     "grade_id": "cell-99fc92672474739a",
     "locked": false,
     "points": 0,
     "schema_version": 3,
     "solution": true,
     "task": false
    }
   },
   "outputs": [
    {
     "data": {
      "text/plain": [
       "384"
      ]
     },
     "execution_count": 42,
     "metadata": {},
     "output_type": "execute_result"
    }
   ],
   "source": [
    "len(van_gogh)"
   ]
  },
  {
   "cell_type": "markdown",
   "id": "13406294",
   "metadata": {
    "deletable": false,
    "editable": false,
    "nbgrader": {
     "cell_type": "markdown",
     "checksum": "82b37db8af8ab9cc2f5dfa2832cbc189",
     "grade": false,
     "grade_id": "cell-fd294b53e6d413de",
     "locked": true,
     "schema_version": 3,
     "solution": false,
     "task": false
    }
   },
   "source": [
    "This embedding has 384 components. It will be very difficult to visualize all 384 dimensions of this vector directly in a way that is interpretable. We are better off if we can somehow get these 384 dimensions into 2 or 3 dimensions (using 1 dimension might be too simplistic). This process of taking a large number of dimensions and reducing them to less dimensions is also known as projection. \n",
    "\n",
    "The technique that we will use is called [UMAP](https://umap-learn.readthedocs.io/en/latest/), or Uniform Manifold Approximation and Projection for Dimension Reduction. There are others, like SNE and t-SNE that are worth looking into."
   ]
  },
  {
   "cell_type": "code",
   "execution_count": 48,
   "id": "ecdf5af6",
   "metadata": {
    "deletable": false,
    "editable": false,
    "nbgrader": {
     "cell_type": "code",
     "checksum": "b44c7102576a4f099e68f44bbed80334",
     "grade": false,
     "grade_id": "cell-5264d50b1667c81d",
     "locked": true,
     "schema_version": 3,
     "solution": false,
     "task": false
    }
   },
   "outputs": [
    {
     "data": {
      "text/plain": [
       "array([[ 5.0519643 ,  3.5796976 ],\n",
       "       [ 5.484154  ,  3.0990794 ],\n",
       "       [ 4.7706885 ,  0.09465224],\n",
       "       [ 4.193799  ,  4.233761  ],\n",
       "       [ 3.4740229 ,  3.6880765 ],\n",
       "       [ 3.1062825 ,  3.9613674 ],\n",
       "       [ 3.5933201 ,  4.3301787 ],\n",
       "       [ 8.264462  ,  3.9351776 ],\n",
       "       [ 8.696705  ,  4.0380235 ],\n",
       "       [ 5.1805325 ,  2.498256  ],\n",
       "       [ 5.205619  ,  4.114147  ],\n",
       "       [ 3.9598088 ,  2.765612  ],\n",
       "       [ 4.6344633 ,  2.8937194 ],\n",
       "       [ 9.4224205 ,  3.7682912 ],\n",
       "       [ 4.0952725 , -1.6702468 ],\n",
       "       [10.056022  ,  3.7298973 ],\n",
       "       [ 7.5145636 ,  3.142597  ],\n",
       "       [ 4.337919  , -0.96336174],\n",
       "       [ 3.7503948 , -1.2492996 ],\n",
       "       [ 9.147716  ,  3.0453088 ],\n",
       "       [ 4.103911  , -0.4424793 ],\n",
       "       [ 9.662557  ,  3.1186569 ],\n",
       "       [ 3.1610255 , -0.86426497],\n",
       "       [ 3.4506395 , -0.4267401 ],\n",
       "       [ 8.165937  ,  2.9829137 ]], dtype=float32)"
      ]
     },
     "execution_count": 48,
     "metadata": {},
     "output_type": "execute_result"
    }
   ],
   "source": [
    "import umap\n",
    "\n",
    "umap_model = umap.UMAP(n_components=2, n_neighbors=5, min_dist=0.3, metric=\"cosine\")\n",
    "embeddings = select_painter_bios[\"embeddings\"].tolist()\n",
    "embedded_data_2d = umap_model.fit_transform(embeddings)\n",
    "embedded_data_2d"
   ]
  },
  {
   "cell_type": "markdown",
   "id": "09b04ac3",
   "metadata": {
    "deletable": false,
    "editable": false,
    "nbgrader": {
     "cell_type": "markdown",
     "checksum": "101ce36987529161c4162f0ba757f4e2",
     "grade": false,
     "grade_id": "cell-c9252c1af84820a1",
     "locked": true,
     "schema_version": 3,
     "solution": false,
     "task": false
    }
   },
   "source": [
    "What we have done is use the UMAP technique to project all 384 dimensions of the original embedding into 2 dimensions that we can now visualize.\n",
    "\n",
    "Each of the parameters in `umap.UMAP()` can affect our output:\n",
    "* `n_components`: This parameter controls the dimensionality of the reduction. We set it to 2 because we want to end up with 2 components in the end (that we can visualize).\n",
    "* `n_neighbors`: This parameter tweaks how UMAP balances local vs global patterns. Play around with this if your visualization later looks off.\n",
    "* `min_dist`: This parameter controls how packed points can be. \n",
    "\n",
    "You can read more about these parameters, and see some visuals of how they affect the output at the UMAP website [here](https://umap-learn.readthedocs.io/en/latest/parameters.html).\n",
    "\n",
    "Let's add those dimensions to our dataframe. We'll name these new columns `umap1_x` and `umap1_y` because we're using the first set of embeddings that were created using the `all-MiniLM-L6-v2` model."
   ]
  },
  {
   "cell_type": "code",
   "execution_count": 49,
   "id": "988f4905",
   "metadata": {
    "deletable": false,
    "editable": false,
    "nbgrader": {
     "cell_type": "code",
     "checksum": "519a535333b9d2e3842e83309b35db01",
     "grade": false,
     "grade_id": "cell-099bff046bed19bd",
     "locked": true,
     "schema_version": 3,
     "solution": false,
     "task": false
    }
   },
   "outputs": [
    {
     "data": {
      "text/html": [
       "<div>\n",
       "<style scoped>\n",
       "    .dataframe tbody tr th:only-of-type {\n",
       "        vertical-align: middle;\n",
       "    }\n",
       "\n",
       "    .dataframe tbody tr th {\n",
       "        vertical-align: top;\n",
       "    }\n",
       "\n",
       "    .dataframe thead th {\n",
       "        text-align: right;\n",
       "    }\n",
       "</style>\n",
       "<table border=\"1\" class=\"dataframe\">\n",
       "  <thead>\n",
       "    <tr style=\"text-align: right;\">\n",
       "      <th></th>\n",
       "      <th>painter_name</th>\n",
       "      <th>summary</th>\n",
       "      <th>embeddings</th>\n",
       "      <th>embeddings2</th>\n",
       "      <th>umap1_x</th>\n",
       "      <th>umap1_y</th>\n",
       "    </tr>\n",
       "  </thead>\n",
       "  <tbody>\n",
       "    <tr>\n",
       "      <th>74</th>\n",
       "      <td>Agnes Lawrence Pelton</td>\n",
       "      <td>Agnes Lawrence Pelton (August 22, 1881 – March...</td>\n",
       "      <td>[0.00925831962376833, 0.020879311487078667, -0...</td>\n",
       "      <td>[-0.3555273413658142, 0.6258305907249451, -0.3...</td>\n",
       "      <td>5.051964</td>\n",
       "      <td>3.579698</td>\n",
       "    </tr>\n",
       "    <tr>\n",
       "      <th>75</th>\n",
       "      <td>Agnes Martin</td>\n",
       "      <td>Agnes Bernice Martin  (March 22, 1912 – Decemb...</td>\n",
       "      <td>[0.04175714775919914, 0.08346845954656601, 0.0...</td>\n",
       "      <td>[-0.05190335959196091, 0.01991790533065796, -0...</td>\n",
       "      <td>5.484154</td>\n",
       "      <td>3.099079</td>\n",
       "    </tr>\n",
       "    <tr>\n",
       "      <th>116</th>\n",
       "      <td>Albrecht Dürer</td>\n",
       "      <td>Albrecht Dürer (; German: [ˈʔalbʁɛçt ˈdyːʁɐ]; ...</td>\n",
       "      <td>[-0.056997984647750854, 0.024535084143280983, ...</td>\n",
       "      <td>[-0.5610215663909912, 0.7210466861724854, -0.3...</td>\n",
       "      <td>4.770689</td>\n",
       "      <td>0.094652</td>\n",
       "    </tr>\n",
       "    <tr>\n",
       "      <th>182</th>\n",
       "      <td>Alison Debenham</td>\n",
       "      <td>Alison Edith Debenham (later Le Plat; 1903–196...</td>\n",
       "      <td>[-0.06023209169507027, 0.015084055252373219, 0...</td>\n",
       "      <td>[0.3454815149307251, 0.4316037893295288, -0.27...</td>\n",
       "      <td>4.193799</td>\n",
       "      <td>4.233761</td>\n",
       "    </tr>\n",
       "    <tr>\n",
       "      <th>183</th>\n",
       "      <td>Alison Geissler</td>\n",
       "      <td>Alison Cornwall Geissler MBE, née McDonald (13...</td>\n",
       "      <td>[-0.04076974838972092, -0.009458957239985466, ...</td>\n",
       "      <td>[-0.6484456062316895, 0.4758595824241638, 0.13...</td>\n",
       "      <td>3.474023</td>\n",
       "      <td>3.688076</td>\n",
       "    </tr>\n",
       "    <tr>\n",
       "      <th>184</th>\n",
       "      <td>Alison Kinnaird</td>\n",
       "      <td>Alison Kinnaird MBE, MA, FGE (born 30 April 19...</td>\n",
       "      <td>[0.02746589109301567, -0.022002195939421654, -...</td>\n",
       "      <td>[-0.15582501888275146, 0.8702155351638794, 0.2...</td>\n",
       "      <td>3.106282</td>\n",
       "      <td>3.961367</td>\n",
       "    </tr>\n",
       "    <tr>\n",
       "      <th>185</th>\n",
       "      <td>Alison Watt (Scottish painter)</td>\n",
       "      <td>Alison Watt OBE FRSE RSA  (born 1965) is a Bri...</td>\n",
       "      <td>[-0.07076051831245422, -0.017952891066670418, ...</td>\n",
       "      <td>[-0.16642820835113525, 0.9753232598304749, 0.3...</td>\n",
       "      <td>3.593320</td>\n",
       "      <td>4.330179</td>\n",
       "    </tr>\n",
       "    <tr>\n",
       "      <th>255</th>\n",
       "      <td>Andy Warhol</td>\n",
       "      <td>Andy Warhol (; born Andrew Warhola Jr.; August...</td>\n",
       "      <td>[0.0025709313340485096, -0.08942723274230957, ...</td>\n",
       "      <td>[-0.14185909926891327, 0.6947842836380005, 0.0...</td>\n",
       "      <td>8.264462</td>\n",
       "      <td>3.935178</td>\n",
       "    </tr>\n",
       "    <tr>\n",
       "      <th>539</th>\n",
       "      <td>Caro Niederer</td>\n",
       "      <td>Caro Niederer (born 1963 in Zürich) is a conte...</td>\n",
       "      <td>[-0.06210412457585335, 0.05394889414310455, 0....</td>\n",
       "      <td>[-0.26326656341552734, 0.21122246980667114, 0....</td>\n",
       "      <td>8.696705</td>\n",
       "      <td>4.038023</td>\n",
       "    </tr>\n",
       "    <tr>\n",
       "      <th>556</th>\n",
       "      <td>Cecilia Beaux</td>\n",
       "      <td>Eliza Cecilia Beaux (May 1, 1855 – September 1...</td>\n",
       "      <td>[-0.00541235925629735, 0.005950777791440487, 0...</td>\n",
       "      <td>[-0.36029744148254395, 0.4289925992488861, -0....</td>\n",
       "      <td>5.180532</td>\n",
       "      <td>2.498256</td>\n",
       "    </tr>\n",
       "    <tr>\n",
       "      <th>557</th>\n",
       "      <td>Cecily Brown</td>\n",
       "      <td>Cecily Brown (born 1969) is a British painter....</td>\n",
       "      <td>[-0.01126799825578928, -0.0135478051379323, -0...</td>\n",
       "      <td>[0.0716535896062851, 0.26911643147468567, 0.60...</td>\n",
       "      <td>5.205619</td>\n",
       "      <td>4.114147</td>\n",
       "    </tr>\n",
       "    <tr>\n",
       "      <th>559</th>\n",
       "      <td>Celia Fiennes (artist)</td>\n",
       "      <td>Celia Mary Twisleton-Wykeham-Fiennes known as ...</td>\n",
       "      <td>[-0.04087485373020172, -0.058128729462623596, ...</td>\n",
       "      <td>[0.07800303399562836, 0.5016523003578186, -0.1...</td>\n",
       "      <td>3.959809</td>\n",
       "      <td>2.765612</td>\n",
       "    </tr>\n",
       "    <tr>\n",
       "      <th>560</th>\n",
       "      <td>Celia Frances Bedford</td>\n",
       "      <td>Celia Frances Bedford (11 February 1904 – 23 F...</td>\n",
       "      <td>[-0.04144958779215813, -0.0075385612435638905,...</td>\n",
       "      <td>[-0.22478514909744263, 0.6541701555252075, -0....</td>\n",
       "      <td>4.634463</td>\n",
       "      <td>2.893719</td>\n",
       "    </tr>\n",
       "    <tr>\n",
       "      <th>1169</th>\n",
       "      <td>Frida Kahlo</td>\n",
       "      <td>Magdalena Carmen Frida Kahlo y Calderón (Spani...</td>\n",
       "      <td>[-0.015083580277860165, 0.07202418893575668, -...</td>\n",
       "      <td>[-0.008977584540843964, 0.40518710017204285, -...</td>\n",
       "      <td>9.422421</td>\n",
       "      <td>3.768291</td>\n",
       "    </tr>\n",
       "    <tr>\n",
       "      <th>1559</th>\n",
       "      <td>Hokusai</td>\n",
       "      <td>Katsushika Hokusai (葛飾 北斎, c. 31 October 1760 ...</td>\n",
       "      <td>[-0.024148855358362198, 0.04442296922206879, -...</td>\n",
       "      <td>[-0.47407805919647217, 0.2849172353744507, -0....</td>\n",
       "      <td>4.095273</td>\n",
       "      <td>-1.670247</td>\n",
       "    </tr>\n",
       "    <tr>\n",
       "      <th>1936</th>\n",
       "      <td>Joaquín Sorolla</td>\n",
       "      <td>Joaquín Sorolla y Bastida (Valencian: Joaquim ...</td>\n",
       "      <td>[0.04648873955011368, 0.08807677775621414, -0....</td>\n",
       "      <td>[-0.18695570528507233, 0.14081069827079773, -0...</td>\n",
       "      <td>10.056022</td>\n",
       "      <td>3.729897</td>\n",
       "    </tr>\n",
       "    <tr>\n",
       "      <th>1975</th>\n",
       "      <td>Johannes Vermeer</td>\n",
       "      <td>Johannes Vermeer (, Dutch: [vərˈmeːr], see bel...</td>\n",
       "      <td>[0.0292351171374321, 0.08469347655773163, -0.0...</td>\n",
       "      <td>[-0.4320114254951477, 0.23948663473129272, -0....</td>\n",
       "      <td>7.514564</td>\n",
       "      <td>3.142597</td>\n",
       "    </tr>\n",
       "    <tr>\n",
       "      <th>2375</th>\n",
       "      <td>Leonardo da Vinci</td>\n",
       "      <td>Leonardo di ser Piero da Vinci (15 April 1452 ...</td>\n",
       "      <td>[-0.049784105271101, -0.0011410464067012072, 0...</td>\n",
       "      <td>[-0.14724111557006836, 0.48437750339508057, 0....</td>\n",
       "      <td>4.337919</td>\n",
       "      <td>-0.963362</td>\n",
       "    </tr>\n",
       "    <tr>\n",
       "      <th>2685</th>\n",
       "      <td>Michelangelo</td>\n",
       "      <td>Michelangelo di Lodovico Buonarroti Simoni (It...</td>\n",
       "      <td>[0.01565895415842533, 0.09450660645961761, 0.0...</td>\n",
       "      <td>[-0.1202235147356987, 0.4659096300601959, 0.48...</td>\n",
       "      <td>3.750395</td>\n",
       "      <td>-1.249300</td>\n",
       "    </tr>\n",
       "    <tr>\n",
       "      <th>2874</th>\n",
       "      <td>Pablo Picasso</td>\n",
       "      <td>Pablo Ruiz Picasso (25 October 1881 – 8 April ...</td>\n",
       "      <td>[-0.013010181486606598, 0.016082225367426872, ...</td>\n",
       "      <td>[-0.5689476132392883, 0.4044139087200165, -0.0...</td>\n",
       "      <td>9.147716</td>\n",
       "      <td>3.045309</td>\n",
       "    </tr>\n",
       "    <tr>\n",
       "      <th>3062</th>\n",
       "      <td>Raphael</td>\n",
       "      <td>Raffaello Sanzio da Urbino (Italian: [raffaˈɛl...</td>\n",
       "      <td>[-0.04124732315540314, -0.0005537216202355921,...</td>\n",
       "      <td>[-0.45465630292892456, 0.4950965642929077, 0.5...</td>\n",
       "      <td>4.103911</td>\n",
       "      <td>-0.442479</td>\n",
       "    </tr>\n",
       "    <tr>\n",
       "      <th>3263</th>\n",
       "      <td>Salvador Dalí</td>\n",
       "      <td>Salvador Domingo Felipe Jacinto Dalí i Domènec...</td>\n",
       "      <td>[0.0810016617178917, -0.022114435210824013, -0...</td>\n",
       "      <td>[-0.35352182388305664, 0.6480511426925659, 0.1...</td>\n",
       "      <td>9.662557</td>\n",
       "      <td>3.118657</td>\n",
       "    </tr>\n",
       "    <tr>\n",
       "      <th>3284</th>\n",
       "      <td>Sandro Botticelli</td>\n",
       "      <td>Alessandro di Mariano di Vanni Filipepi (c. 14...</td>\n",
       "      <td>[-0.02803158015012741, 0.02716502733528614, 0....</td>\n",
       "      <td>[-0.37901395559310913, 0.017451822757720947, 0...</td>\n",
       "      <td>3.161026</td>\n",
       "      <td>-0.864265</td>\n",
       "    </tr>\n",
       "    <tr>\n",
       "      <th>3522</th>\n",
       "      <td>Titian</td>\n",
       "      <td>Tiziano Vecelli or Vecellio (pronounced [titˈt...</td>\n",
       "      <td>[-0.04871152341365814, 0.03751521557569504, -0...</td>\n",
       "      <td>[-0.014551511034369469, -0.15258657932281494, ...</td>\n",
       "      <td>3.450639</td>\n",
       "      <td>-0.426740</td>\n",
       "    </tr>\n",
       "    <tr>\n",
       "      <th>3634</th>\n",
       "      <td>Vincent van Gogh</td>\n",
       "      <td>Vincent Willem van Gogh (Dutch: [ˈvɪnsɛnt ˈʋɪl...</td>\n",
       "      <td>[0.08493974059820175, 0.03074062615633011, 0.0...</td>\n",
       "      <td>[-0.4844709038734436, 0.37838366627693176, -0....</td>\n",
       "      <td>8.165937</td>\n",
       "      <td>2.982914</td>\n",
       "    </tr>\n",
       "  </tbody>\n",
       "</table>\n",
       "</div>"
      ],
      "text/plain": [
       "                        painter_name  \\\n",
       "74             Agnes Lawrence Pelton   \n",
       "75                      Agnes Martin   \n",
       "116                   Albrecht Dürer   \n",
       "182                  Alison Debenham   \n",
       "183                  Alison Geissler   \n",
       "184                  Alison Kinnaird   \n",
       "185   Alison Watt (Scottish painter)   \n",
       "255                      Andy Warhol   \n",
       "539                    Caro Niederer   \n",
       "556                    Cecilia Beaux   \n",
       "557                     Cecily Brown   \n",
       "559           Celia Fiennes (artist)   \n",
       "560            Celia Frances Bedford   \n",
       "1169                     Frida Kahlo   \n",
       "1559                         Hokusai   \n",
       "1936                 Joaquín Sorolla   \n",
       "1975                Johannes Vermeer   \n",
       "2375               Leonardo da Vinci   \n",
       "2685                    Michelangelo   \n",
       "2874                   Pablo Picasso   \n",
       "3062                         Raphael   \n",
       "3263                   Salvador Dalí   \n",
       "3284               Sandro Botticelli   \n",
       "3522                          Titian   \n",
       "3634                Vincent van Gogh   \n",
       "\n",
       "                                                summary  \\\n",
       "74    Agnes Lawrence Pelton (August 22, 1881 – March...   \n",
       "75    Agnes Bernice Martin  (March 22, 1912 – Decemb...   \n",
       "116   Albrecht Dürer (; German: [ˈʔalbʁɛçt ˈdyːʁɐ]; ...   \n",
       "182   Alison Edith Debenham (later Le Plat; 1903–196...   \n",
       "183   Alison Cornwall Geissler MBE, née McDonald (13...   \n",
       "184   Alison Kinnaird MBE, MA, FGE (born 30 April 19...   \n",
       "185   Alison Watt OBE FRSE RSA  (born 1965) is a Bri...   \n",
       "255   Andy Warhol (; born Andrew Warhola Jr.; August...   \n",
       "539   Caro Niederer (born 1963 in Zürich) is a conte...   \n",
       "556   Eliza Cecilia Beaux (May 1, 1855 – September 1...   \n",
       "557   Cecily Brown (born 1969) is a British painter....   \n",
       "559   Celia Mary Twisleton-Wykeham-Fiennes known as ...   \n",
       "560   Celia Frances Bedford (11 February 1904 – 23 F...   \n",
       "1169  Magdalena Carmen Frida Kahlo y Calderón (Spani...   \n",
       "1559  Katsushika Hokusai (葛飾 北斎, c. 31 October 1760 ...   \n",
       "1936  Joaquín Sorolla y Bastida (Valencian: Joaquim ...   \n",
       "1975  Johannes Vermeer (, Dutch: [vərˈmeːr], see bel...   \n",
       "2375  Leonardo di ser Piero da Vinci (15 April 1452 ...   \n",
       "2685  Michelangelo di Lodovico Buonarroti Simoni (It...   \n",
       "2874  Pablo Ruiz Picasso (25 October 1881 – 8 April ...   \n",
       "3062  Raffaello Sanzio da Urbino (Italian: [raffaˈɛl...   \n",
       "3263  Salvador Domingo Felipe Jacinto Dalí i Domènec...   \n",
       "3284  Alessandro di Mariano di Vanni Filipepi (c. 14...   \n",
       "3522  Tiziano Vecelli or Vecellio (pronounced [titˈt...   \n",
       "3634  Vincent Willem van Gogh (Dutch: [ˈvɪnsɛnt ˈʋɪl...   \n",
       "\n",
       "                                             embeddings  \\\n",
       "74    [0.00925831962376833, 0.020879311487078667, -0...   \n",
       "75    [0.04175714775919914, 0.08346845954656601, 0.0...   \n",
       "116   [-0.056997984647750854, 0.024535084143280983, ...   \n",
       "182   [-0.06023209169507027, 0.015084055252373219, 0...   \n",
       "183   [-0.04076974838972092, -0.009458957239985466, ...   \n",
       "184   [0.02746589109301567, -0.022002195939421654, -...   \n",
       "185   [-0.07076051831245422, -0.017952891066670418, ...   \n",
       "255   [0.0025709313340485096, -0.08942723274230957, ...   \n",
       "539   [-0.06210412457585335, 0.05394889414310455, 0....   \n",
       "556   [-0.00541235925629735, 0.005950777791440487, 0...   \n",
       "557   [-0.01126799825578928, -0.0135478051379323, -0...   \n",
       "559   [-0.04087485373020172, -0.058128729462623596, ...   \n",
       "560   [-0.04144958779215813, -0.0075385612435638905,...   \n",
       "1169  [-0.015083580277860165, 0.07202418893575668, -...   \n",
       "1559  [-0.024148855358362198, 0.04442296922206879, -...   \n",
       "1936  [0.04648873955011368, 0.08807677775621414, -0....   \n",
       "1975  [0.0292351171374321, 0.08469347655773163, -0.0...   \n",
       "2375  [-0.049784105271101, -0.0011410464067012072, 0...   \n",
       "2685  [0.01565895415842533, 0.09450660645961761, 0.0...   \n",
       "2874  [-0.013010181486606598, 0.016082225367426872, ...   \n",
       "3062  [-0.04124732315540314, -0.0005537216202355921,...   \n",
       "3263  [0.0810016617178917, -0.022114435210824013, -0...   \n",
       "3284  [-0.02803158015012741, 0.02716502733528614, 0....   \n",
       "3522  [-0.04871152341365814, 0.03751521557569504, -0...   \n",
       "3634  [0.08493974059820175, 0.03074062615633011, 0.0...   \n",
       "\n",
       "                                            embeddings2    umap1_x   umap1_y  \n",
       "74    [-0.3555273413658142, 0.6258305907249451, -0.3...   5.051964  3.579698  \n",
       "75    [-0.05190335959196091, 0.01991790533065796, -0...   5.484154  3.099079  \n",
       "116   [-0.5610215663909912, 0.7210466861724854, -0.3...   4.770689  0.094652  \n",
       "182   [0.3454815149307251, 0.4316037893295288, -0.27...   4.193799  4.233761  \n",
       "183   [-0.6484456062316895, 0.4758595824241638, 0.13...   3.474023  3.688076  \n",
       "184   [-0.15582501888275146, 0.8702155351638794, 0.2...   3.106282  3.961367  \n",
       "185   [-0.16642820835113525, 0.9753232598304749, 0.3...   3.593320  4.330179  \n",
       "255   [-0.14185909926891327, 0.6947842836380005, 0.0...   8.264462  3.935178  \n",
       "539   [-0.26326656341552734, 0.21122246980667114, 0....   8.696705  4.038023  \n",
       "556   [-0.36029744148254395, 0.4289925992488861, -0....   5.180532  2.498256  \n",
       "557   [0.0716535896062851, 0.26911643147468567, 0.60...   5.205619  4.114147  \n",
       "559   [0.07800303399562836, 0.5016523003578186, -0.1...   3.959809  2.765612  \n",
       "560   [-0.22478514909744263, 0.6541701555252075, -0....   4.634463  2.893719  \n",
       "1169  [-0.008977584540843964, 0.40518710017204285, -...   9.422421  3.768291  \n",
       "1559  [-0.47407805919647217, 0.2849172353744507, -0....   4.095273 -1.670247  \n",
       "1936  [-0.18695570528507233, 0.14081069827079773, -0...  10.056022  3.729897  \n",
       "1975  [-0.4320114254951477, 0.23948663473129272, -0....   7.514564  3.142597  \n",
       "2375  [-0.14724111557006836, 0.48437750339508057, 0....   4.337919 -0.963362  \n",
       "2685  [-0.1202235147356987, 0.4659096300601959, 0.48...   3.750395 -1.249300  \n",
       "2874  [-0.5689476132392883, 0.4044139087200165, -0.0...   9.147716  3.045309  \n",
       "3062  [-0.45465630292892456, 0.4950965642929077, 0.5...   4.103911 -0.442479  \n",
       "3263  [-0.35352182388305664, 0.6480511426925659, 0.1...   9.662557  3.118657  \n",
       "3284  [-0.37901395559310913, 0.017451822757720947, 0...   3.161026 -0.864265  \n",
       "3522  [-0.014551511034369469, -0.15258657932281494, ...   3.450639 -0.426740  \n",
       "3634  [-0.4844709038734436, 0.37838366627693176, -0....   8.165937  2.982914  "
      ]
     },
     "execution_count": 49,
     "metadata": {},
     "output_type": "execute_result"
    }
   ],
   "source": [
    "select_painter_bios[\"umap1_x\"] = embedded_data_2d[:, 0]\n",
    "select_painter_bios[\"umap1_y\"] = embedded_data_2d[:, 1]\n",
    "\n",
    "select_painter_bios"
   ]
  },
  {
   "cell_type": "markdown",
   "id": "3ec82569",
   "metadata": {
    "deletable": false,
    "editable": false,
    "nbgrader": {
     "cell_type": "markdown",
     "checksum": "55b5a80af72a032332ce360400092f71",
     "grade": false,
     "grade_id": "cell-3ff5ca46da21d0a8",
     "locked": true,
     "schema_version": 3,
     "solution": false,
     "task": false
    }
   },
   "source": [
    "### Scatterplot visualization\n",
    "\n",
    "Now that we have reduced the 384-component long embeddings to 2 dimensions. Let's visualize them using a scatterplot."
   ]
  },
  {
   "cell_type": "code",
   "execution_count": 50,
   "id": "d5bf0815",
   "metadata": {
    "deletable": false,
    "editable": false,
    "nbgrader": {
     "cell_type": "code",
     "checksum": "059dc6a06ec0b4e24ffb0e9d7278dc54",
     "grade": false,
     "grade_id": "cell-c5d78aa0cb231db4",
     "locked": true,
     "schema_version": 3,
     "solution": false,
     "task": false
    }
   },
   "outputs": [
    {
     "data": {
      "application/vnd.plotly.v1+json": {
       "config": {
        "plotlyServerURL": "https://plot.ly"
       },
       "data": [
        {
         "customdata": [
          [
           "Agnes Lawrence Pelton"
          ],
          [
           "Agnes Martin"
          ],
          [
           "Albrecht Dürer"
          ],
          [
           "Alison Debenham"
          ],
          [
           "Alison Geissler"
          ],
          [
           "Alison Kinnaird"
          ],
          [
           "Alison Watt (Scottish painter)"
          ],
          [
           "Andy Warhol"
          ],
          [
           "Caro Niederer"
          ],
          [
           "Cecilia Beaux"
          ],
          [
           "Cecily Brown"
          ],
          [
           "Celia Fiennes (artist)"
          ],
          [
           "Celia Frances Bedford"
          ],
          [
           "Frida Kahlo"
          ],
          [
           "Hokusai"
          ],
          [
           "Joaquín Sorolla"
          ],
          [
           "Johannes Vermeer"
          ],
          [
           "Leonardo da Vinci"
          ],
          [
           "Michelangelo"
          ],
          [
           "Pablo Picasso"
          ],
          [
           "Raphael"
          ],
          [
           "Salvador Dalí"
          ],
          [
           "Sandro Botticelli"
          ],
          [
           "Titian"
          ],
          [
           "Vincent van Gogh"
          ]
         ],
         "hovertemplate": "umap1_x=%{x}<br>umap1_y=%{y}<br>painter_name=%{customdata[0]}<extra></extra>",
         "legendgroup": "",
         "marker": {
          "color": "#636efa",
          "symbol": "circle"
         },
         "mode": "markers",
         "name": "",
         "orientation": "v",
         "showlegend": false,
         "type": "scatter",
         "x": [
          5.051964282989502,
          5.484154224395752,
          4.770688533782959,
          4.193799018859863,
          3.47402286529541,
          3.1062824726104736,
          3.59332013130188,
          8.2644624710083,
          8.696704864501953,
          5.180532455444336,
          5.205618858337402,
          3.959808826446533,
          4.634463310241699,
          9.422420501708984,
          4.095272541046143,
          10.056021690368652,
          7.51456356048584,
          4.337919235229492,
          3.750394821166992,
          9.14771556854248,
          4.10391092300415,
          9.662556648254395,
          3.1610255241394043,
          3.450639486312866,
          8.165937423706055
         ],
         "xaxis": "x",
         "y": [
          3.579697608947754,
          3.0990793704986572,
          0.09465223550796509,
          4.233760833740234,
          3.6880764961242676,
          3.96136736869812,
          4.330178737640381,
          3.9351775646209717,
          4.038023471832275,
          2.498255968093872,
          4.114147186279297,
          2.7656118869781494,
          2.893719434738159,
          3.7682912349700928,
          -1.6702468395233154,
          3.7298972606658936,
          3.142596960067749,
          -0.9633617401123047,
          -1.2492996454238892,
          3.045308828353882,
          -0.44247931241989136,
          3.118656873703003,
          -0.864264965057373,
          -0.4267401099205017,
          2.9829137325286865
         ],
         "yaxis": "y"
        }
       ],
       "layout": {
        "height": 800,
        "legend": {
         "tracegroupgap": 0
        },
        "margin": {
         "t": 60
        },
        "template": {
         "data": {
          "bar": [
           {
            "error_x": {
             "color": "#2a3f5f"
            },
            "error_y": {
             "color": "#2a3f5f"
            },
            "marker": {
             "line": {
              "color": "#E5ECF6",
              "width": 0.5
             },
             "pattern": {
              "fillmode": "overlay",
              "size": 10,
              "solidity": 0.2
             }
            },
            "type": "bar"
           }
          ],
          "barpolar": [
           {
            "marker": {
             "line": {
              "color": "#E5ECF6",
              "width": 0.5
             },
             "pattern": {
              "fillmode": "overlay",
              "size": 10,
              "solidity": 0.2
             }
            },
            "type": "barpolar"
           }
          ],
          "carpet": [
           {
            "aaxis": {
             "endlinecolor": "#2a3f5f",
             "gridcolor": "white",
             "linecolor": "white",
             "minorgridcolor": "white",
             "startlinecolor": "#2a3f5f"
            },
            "baxis": {
             "endlinecolor": "#2a3f5f",
             "gridcolor": "white",
             "linecolor": "white",
             "minorgridcolor": "white",
             "startlinecolor": "#2a3f5f"
            },
            "type": "carpet"
           }
          ],
          "choropleth": [
           {
            "colorbar": {
             "outlinewidth": 0,
             "ticks": ""
            },
            "type": "choropleth"
           }
          ],
          "contour": [
           {
            "colorbar": {
             "outlinewidth": 0,
             "ticks": ""
            },
            "colorscale": [
             [
              0,
              "#0d0887"
             ],
             [
              0.1111111111111111,
              "#46039f"
             ],
             [
              0.2222222222222222,
              "#7201a8"
             ],
             [
              0.3333333333333333,
              "#9c179e"
             ],
             [
              0.4444444444444444,
              "#bd3786"
             ],
             [
              0.5555555555555556,
              "#d8576b"
             ],
             [
              0.6666666666666666,
              "#ed7953"
             ],
             [
              0.7777777777777778,
              "#fb9f3a"
             ],
             [
              0.8888888888888888,
              "#fdca26"
             ],
             [
              1,
              "#f0f921"
             ]
            ],
            "type": "contour"
           }
          ],
          "contourcarpet": [
           {
            "colorbar": {
             "outlinewidth": 0,
             "ticks": ""
            },
            "type": "contourcarpet"
           }
          ],
          "heatmap": [
           {
            "colorbar": {
             "outlinewidth": 0,
             "ticks": ""
            },
            "colorscale": [
             [
              0,
              "#0d0887"
             ],
             [
              0.1111111111111111,
              "#46039f"
             ],
             [
              0.2222222222222222,
              "#7201a8"
             ],
             [
              0.3333333333333333,
              "#9c179e"
             ],
             [
              0.4444444444444444,
              "#bd3786"
             ],
             [
              0.5555555555555556,
              "#d8576b"
             ],
             [
              0.6666666666666666,
              "#ed7953"
             ],
             [
              0.7777777777777778,
              "#fb9f3a"
             ],
             [
              0.8888888888888888,
              "#fdca26"
             ],
             [
              1,
              "#f0f921"
             ]
            ],
            "type": "heatmap"
           }
          ],
          "heatmapgl": [
           {
            "colorbar": {
             "outlinewidth": 0,
             "ticks": ""
            },
            "colorscale": [
             [
              0,
              "#0d0887"
             ],
             [
              0.1111111111111111,
              "#46039f"
             ],
             [
              0.2222222222222222,
              "#7201a8"
             ],
             [
              0.3333333333333333,
              "#9c179e"
             ],
             [
              0.4444444444444444,
              "#bd3786"
             ],
             [
              0.5555555555555556,
              "#d8576b"
             ],
             [
              0.6666666666666666,
              "#ed7953"
             ],
             [
              0.7777777777777778,
              "#fb9f3a"
             ],
             [
              0.8888888888888888,
              "#fdca26"
             ],
             [
              1,
              "#f0f921"
             ]
            ],
            "type": "heatmapgl"
           }
          ],
          "histogram": [
           {
            "marker": {
             "pattern": {
              "fillmode": "overlay",
              "size": 10,
              "solidity": 0.2
             }
            },
            "type": "histogram"
           }
          ],
          "histogram2d": [
           {
            "colorbar": {
             "outlinewidth": 0,
             "ticks": ""
            },
            "colorscale": [
             [
              0,
              "#0d0887"
             ],
             [
              0.1111111111111111,
              "#46039f"
             ],
             [
              0.2222222222222222,
              "#7201a8"
             ],
             [
              0.3333333333333333,
              "#9c179e"
             ],
             [
              0.4444444444444444,
              "#bd3786"
             ],
             [
              0.5555555555555556,
              "#d8576b"
             ],
             [
              0.6666666666666666,
              "#ed7953"
             ],
             [
              0.7777777777777778,
              "#fb9f3a"
             ],
             [
              0.8888888888888888,
              "#fdca26"
             ],
             [
              1,
              "#f0f921"
             ]
            ],
            "type": "histogram2d"
           }
          ],
          "histogram2dcontour": [
           {
            "colorbar": {
             "outlinewidth": 0,
             "ticks": ""
            },
            "colorscale": [
             [
              0,
              "#0d0887"
             ],
             [
              0.1111111111111111,
              "#46039f"
             ],
             [
              0.2222222222222222,
              "#7201a8"
             ],
             [
              0.3333333333333333,
              "#9c179e"
             ],
             [
              0.4444444444444444,
              "#bd3786"
             ],
             [
              0.5555555555555556,
              "#d8576b"
             ],
             [
              0.6666666666666666,
              "#ed7953"
             ],
             [
              0.7777777777777778,
              "#fb9f3a"
             ],
             [
              0.8888888888888888,
              "#fdca26"
             ],
             [
              1,
              "#f0f921"
             ]
            ],
            "type": "histogram2dcontour"
           }
          ],
          "mesh3d": [
           {
            "colorbar": {
             "outlinewidth": 0,
             "ticks": ""
            },
            "type": "mesh3d"
           }
          ],
          "parcoords": [
           {
            "line": {
             "colorbar": {
              "outlinewidth": 0,
              "ticks": ""
             }
            },
            "type": "parcoords"
           }
          ],
          "pie": [
           {
            "automargin": true,
            "type": "pie"
           }
          ],
          "scatter": [
           {
            "fillpattern": {
             "fillmode": "overlay",
             "size": 10,
             "solidity": 0.2
            },
            "type": "scatter"
           }
          ],
          "scatter3d": [
           {
            "line": {
             "colorbar": {
              "outlinewidth": 0,
              "ticks": ""
             }
            },
            "marker": {
             "colorbar": {
              "outlinewidth": 0,
              "ticks": ""
             }
            },
            "type": "scatter3d"
           }
          ],
          "scattercarpet": [
           {
            "marker": {
             "colorbar": {
              "outlinewidth": 0,
              "ticks": ""
             }
            },
            "type": "scattercarpet"
           }
          ],
          "scattergeo": [
           {
            "marker": {
             "colorbar": {
              "outlinewidth": 0,
              "ticks": ""
             }
            },
            "type": "scattergeo"
           }
          ],
          "scattergl": [
           {
            "marker": {
             "colorbar": {
              "outlinewidth": 0,
              "ticks": ""
             }
            },
            "type": "scattergl"
           }
          ],
          "scattermapbox": [
           {
            "marker": {
             "colorbar": {
              "outlinewidth": 0,
              "ticks": ""
             }
            },
            "type": "scattermapbox"
           }
          ],
          "scatterpolar": [
           {
            "marker": {
             "colorbar": {
              "outlinewidth": 0,
              "ticks": ""
             }
            },
            "type": "scatterpolar"
           }
          ],
          "scatterpolargl": [
           {
            "marker": {
             "colorbar": {
              "outlinewidth": 0,
              "ticks": ""
             }
            },
            "type": "scatterpolargl"
           }
          ],
          "scatterternary": [
           {
            "marker": {
             "colorbar": {
              "outlinewidth": 0,
              "ticks": ""
             }
            },
            "type": "scatterternary"
           }
          ],
          "surface": [
           {
            "colorbar": {
             "outlinewidth": 0,
             "ticks": ""
            },
            "colorscale": [
             [
              0,
              "#0d0887"
             ],
             [
              0.1111111111111111,
              "#46039f"
             ],
             [
              0.2222222222222222,
              "#7201a8"
             ],
             [
              0.3333333333333333,
              "#9c179e"
             ],
             [
              0.4444444444444444,
              "#bd3786"
             ],
             [
              0.5555555555555556,
              "#d8576b"
             ],
             [
              0.6666666666666666,
              "#ed7953"
             ],
             [
              0.7777777777777778,
              "#fb9f3a"
             ],
             [
              0.8888888888888888,
              "#fdca26"
             ],
             [
              1,
              "#f0f921"
             ]
            ],
            "type": "surface"
           }
          ],
          "table": [
           {
            "cells": {
             "fill": {
              "color": "#EBF0F8"
             },
             "line": {
              "color": "white"
             }
            },
            "header": {
             "fill": {
              "color": "#C8D4E3"
             },
             "line": {
              "color": "white"
             }
            },
            "type": "table"
           }
          ]
         },
         "layout": {
          "annotationdefaults": {
           "arrowcolor": "#2a3f5f",
           "arrowhead": 0,
           "arrowwidth": 1
          },
          "autotypenumbers": "strict",
          "coloraxis": {
           "colorbar": {
            "outlinewidth": 0,
            "ticks": ""
           }
          },
          "colorscale": {
           "diverging": [
            [
             0,
             "#8e0152"
            ],
            [
             0.1,
             "#c51b7d"
            ],
            [
             0.2,
             "#de77ae"
            ],
            [
             0.3,
             "#f1b6da"
            ],
            [
             0.4,
             "#fde0ef"
            ],
            [
             0.5,
             "#f7f7f7"
            ],
            [
             0.6,
             "#e6f5d0"
            ],
            [
             0.7,
             "#b8e186"
            ],
            [
             0.8,
             "#7fbc41"
            ],
            [
             0.9,
             "#4d9221"
            ],
            [
             1,
             "#276419"
            ]
           ],
           "sequential": [
            [
             0,
             "#0d0887"
            ],
            [
             0.1111111111111111,
             "#46039f"
            ],
            [
             0.2222222222222222,
             "#7201a8"
            ],
            [
             0.3333333333333333,
             "#9c179e"
            ],
            [
             0.4444444444444444,
             "#bd3786"
            ],
            [
             0.5555555555555556,
             "#d8576b"
            ],
            [
             0.6666666666666666,
             "#ed7953"
            ],
            [
             0.7777777777777778,
             "#fb9f3a"
            ],
            [
             0.8888888888888888,
             "#fdca26"
            ],
            [
             1,
             "#f0f921"
            ]
           ],
           "sequentialminus": [
            [
             0,
             "#0d0887"
            ],
            [
             0.1111111111111111,
             "#46039f"
            ],
            [
             0.2222222222222222,
             "#7201a8"
            ],
            [
             0.3333333333333333,
             "#9c179e"
            ],
            [
             0.4444444444444444,
             "#bd3786"
            ],
            [
             0.5555555555555556,
             "#d8576b"
            ],
            [
             0.6666666666666666,
             "#ed7953"
            ],
            [
             0.7777777777777778,
             "#fb9f3a"
            ],
            [
             0.8888888888888888,
             "#fdca26"
            ],
            [
             1,
             "#f0f921"
            ]
           ]
          },
          "colorway": [
           "#636efa",
           "#EF553B",
           "#00cc96",
           "#ab63fa",
           "#FFA15A",
           "#19d3f3",
           "#FF6692",
           "#B6E880",
           "#FF97FF",
           "#FECB52"
          ],
          "font": {
           "color": "#2a3f5f"
          },
          "geo": {
           "bgcolor": "white",
           "lakecolor": "white",
           "landcolor": "#E5ECF6",
           "showlakes": true,
           "showland": true,
           "subunitcolor": "white"
          },
          "hoverlabel": {
           "align": "left"
          },
          "hovermode": "closest",
          "mapbox": {
           "style": "light"
          },
          "paper_bgcolor": "white",
          "plot_bgcolor": "#E5ECF6",
          "polar": {
           "angularaxis": {
            "gridcolor": "white",
            "linecolor": "white",
            "ticks": ""
           },
           "bgcolor": "#E5ECF6",
           "radialaxis": {
            "gridcolor": "white",
            "linecolor": "white",
            "ticks": ""
           }
          },
          "scene": {
           "xaxis": {
            "backgroundcolor": "#E5ECF6",
            "gridcolor": "white",
            "gridwidth": 2,
            "linecolor": "white",
            "showbackground": true,
            "ticks": "",
            "zerolinecolor": "white"
           },
           "yaxis": {
            "backgroundcolor": "#E5ECF6",
            "gridcolor": "white",
            "gridwidth": 2,
            "linecolor": "white",
            "showbackground": true,
            "ticks": "",
            "zerolinecolor": "white"
           },
           "zaxis": {
            "backgroundcolor": "#E5ECF6",
            "gridcolor": "white",
            "gridwidth": 2,
            "linecolor": "white",
            "showbackground": true,
            "ticks": "",
            "zerolinecolor": "white"
           }
          },
          "shapedefaults": {
           "line": {
            "color": "#2a3f5f"
           }
          },
          "ternary": {
           "aaxis": {
            "gridcolor": "white",
            "linecolor": "white",
            "ticks": ""
           },
           "baxis": {
            "gridcolor": "white",
            "linecolor": "white",
            "ticks": ""
           },
           "bgcolor": "#E5ECF6",
           "caxis": {
            "gridcolor": "white",
            "linecolor": "white",
            "ticks": ""
           }
          },
          "title": {
           "x": 0.05
          },
          "xaxis": {
           "automargin": true,
           "gridcolor": "white",
           "linecolor": "white",
           "ticks": "",
           "title": {
            "standoff": 15
           },
           "zerolinecolor": "white",
           "zerolinewidth": 2
          },
          "yaxis": {
           "automargin": true,
           "gridcolor": "white",
           "linecolor": "white",
           "ticks": "",
           "title": {
            "standoff": 15
           },
           "zerolinecolor": "white",
           "zerolinewidth": 2
          }
         }
        },
        "width": 800,
        "xaxis": {
         "anchor": "y",
         "domain": [
          0,
          1
         ],
         "title": {
          "text": "umap1_x"
         }
        },
        "yaxis": {
         "anchor": "x",
         "domain": [
          0,
          1
         ],
         "title": {
          "text": "umap1_y"
         }
        }
       }
      }
     },
     "metadata": {},
     "output_type": "display_data"
    }
   ],
   "source": [
    "import plotly.express as px\n",
    "\n",
    "# Create a scatter plot with Plotly\n",
    "fig = px.scatter(select_painter_bios, x=\"umap1_x\", y=\"umap1_y\", hover_data=[\"painter_name\"], width=800, height=800)\n",
    "\n",
    "# Show the plot\n",
    "fig.show()\n"
   ]
  },
  {
   "cell_type": "markdown",
   "id": "d4414cea",
   "metadata": {
    "deletable": false,
    "editable": false,
    "nbgrader": {
     "cell_type": "markdown",
     "checksum": "5dc22f6af0d5eef8ced4b28fdbaccca4",
     "grade": false,
     "grade_id": "cell-fc710007e0242729",
     "locked": true,
     "schema_version": 3,
     "solution": false,
     "task": false
    }
   },
   "source": [
    "<div class=\"alert alert-info\">\n",
    "<b>Instruction:</b> How do you interpret your figure?\n",
    "</div>"
   ]
  },
  {
   "cell_type": "markdown",
   "id": "99851bbc",
   "metadata": {
    "deletable": false,
    "nbgrader": {
     "cell_type": "markdown",
     "checksum": "031c407a62af64e7ce08e6199bc700ec",
     "grade": true,
     "grade_id": "cell-4bc2f8c787f8813d",
     "locked": false,
     "points": 0,
     "schema_version": 3,
     "solution": true,
     "task": false
    }
   },
   "source": [
    "YOUR ANSWER HERE"
   ]
  },
  {
   "cell_type": "markdown",
   "id": "4b8d3abe",
   "metadata": {
    "deletable": false,
    "editable": false,
    "nbgrader": {
     "cell_type": "markdown",
     "checksum": "c6023602a355ea10631b9f7422dbb31d",
     "grade": false,
     "grade_id": "cell-5874fa1c36950908",
     "locked": true,
     "schema_version": 3,
     "solution": false,
     "task": false
    }
   },
   "source": [
    "---\n",
    "\n",
    "## 4.5 - Visualizing the embeddings for the model you chose\n",
    "\n",
    "Now that you have visualized the first embedding using the `all-MiniLM-L6-v2` model, do it for the model you chose. Feel free to reuse code that is above, but be sure to write comments and notes explaining your process."
   ]
  },
  {
   "cell_type": "code",
   "execution_count": 53,
   "id": "937f0d62",
   "metadata": {
    "deletable": false,
    "nbgrader": {
     "cell_type": "code",
     "checksum": "4b0de642766f5b0826dd350fd079e356",
     "grade": true,
     "grade_id": "cell-2595a2f06ab23c71",
     "locked": false,
     "points": 0,
     "schema_version": 3,
     "solution": true,
     "task": false
    }
   },
   "outputs": [
    {
     "data": {
      "application/vnd.plotly.v1+json": {
       "config": {
        "plotlyServerURL": "https://plot.ly"
       },
       "data": [
        {
         "customdata": [
          [
           "Agnes Lawrence Pelton"
          ],
          [
           "Agnes Martin"
          ],
          [
           "Albrecht Dürer"
          ],
          [
           "Alison Debenham"
          ],
          [
           "Alison Geissler"
          ],
          [
           "Alison Kinnaird"
          ],
          [
           "Alison Watt (Scottish painter)"
          ],
          [
           "Andy Warhol"
          ],
          [
           "Caro Niederer"
          ],
          [
           "Cecilia Beaux"
          ],
          [
           "Cecily Brown"
          ],
          [
           "Celia Fiennes (artist)"
          ],
          [
           "Celia Frances Bedford"
          ],
          [
           "Frida Kahlo"
          ],
          [
           "Hokusai"
          ],
          [
           "Joaquín Sorolla"
          ],
          [
           "Johannes Vermeer"
          ],
          [
           "Leonardo da Vinci"
          ],
          [
           "Michelangelo"
          ],
          [
           "Pablo Picasso"
          ],
          [
           "Raphael"
          ],
          [
           "Salvador Dalí"
          ],
          [
           "Sandro Botticelli"
          ],
          [
           "Titian"
          ],
          [
           "Vincent van Gogh"
          ]
         ],
         "hovertemplate": "umap2_x=%{x}<br>umap2_y=%{y}<br>painter_name=%{customdata[0]}<extra></extra>",
         "legendgroup": "",
         "marker": {
          "color": "#636efa",
          "size": 30,
          "symbol": "circle"
         },
         "mode": "markers",
         "name": "",
         "orientation": "v",
         "showlegend": false,
         "type": "scatter",
         "x": [
          0.655665397644043,
          1.0711164474487305,
          -1.7435367107391357,
          2.006014823913574,
          -0.8799487948417664,
          -0.6528487205505371,
          1.0452772378921509,
          -2.3434925079345703,
          0.26183703541755676,
          0.6747544407844543,
          0.8507815599441528,
          2.274327278137207,
          1.575047492980957,
          0.2717045843601227,
          -0.2190702259540558,
          -2.352168560028076,
          -2.595533847808838,
          -0.8882650136947632,
          -1.3592487573623657,
          -2.186171531677246,
          -1.2121856212615967,
          -2.559051990509033,
          -1.6614375114440918,
          -1.2421417236328125,
          -2.519284248352051
         ],
         "xaxis": "x",
         "y": [
          8.886900901794434,
          8.617118835449219,
          13.2103853225708,
          8.418069839477539,
          8.860713958740234,
          9.200260162353516,
          7.78830099105835,
          10.547967910766602,
          8.417623519897461,
          8.033252716064453,
          7.505241870880127,
          8.048444747924805,
          8.17747688293457,
          9.250441551208496,
          9.954782485961914,
          9.47146224975586,
          11.36484432220459,
          13.39815616607666,
          13.140990257263184,
          10.167208671569824,
          13.619797706604004,
          9.785855293273926,
          12.649938583374023,
          12.671575546264648,
          10.875718116760254
         ],
         "yaxis": "y"
        }
       ],
       "layout": {
        "height": 800,
        "legend": {
         "tracegroupgap": 0
        },
        "margin": {
         "t": 60
        },
        "template": {
         "data": {
          "bar": [
           {
            "error_x": {
             "color": "#2a3f5f"
            },
            "error_y": {
             "color": "#2a3f5f"
            },
            "marker": {
             "line": {
              "color": "#E5ECF6",
              "width": 0.5
             },
             "pattern": {
              "fillmode": "overlay",
              "size": 10,
              "solidity": 0.2
             }
            },
            "type": "bar"
           }
          ],
          "barpolar": [
           {
            "marker": {
             "line": {
              "color": "#E5ECF6",
              "width": 0.5
             },
             "pattern": {
              "fillmode": "overlay",
              "size": 10,
              "solidity": 0.2
             }
            },
            "type": "barpolar"
           }
          ],
          "carpet": [
           {
            "aaxis": {
             "endlinecolor": "#2a3f5f",
             "gridcolor": "white",
             "linecolor": "white",
             "minorgridcolor": "white",
             "startlinecolor": "#2a3f5f"
            },
            "baxis": {
             "endlinecolor": "#2a3f5f",
             "gridcolor": "white",
             "linecolor": "white",
             "minorgridcolor": "white",
             "startlinecolor": "#2a3f5f"
            },
            "type": "carpet"
           }
          ],
          "choropleth": [
           {
            "colorbar": {
             "outlinewidth": 0,
             "ticks": ""
            },
            "type": "choropleth"
           }
          ],
          "contour": [
           {
            "colorbar": {
             "outlinewidth": 0,
             "ticks": ""
            },
            "colorscale": [
             [
              0,
              "#0d0887"
             ],
             [
              0.1111111111111111,
              "#46039f"
             ],
             [
              0.2222222222222222,
              "#7201a8"
             ],
             [
              0.3333333333333333,
              "#9c179e"
             ],
             [
              0.4444444444444444,
              "#bd3786"
             ],
             [
              0.5555555555555556,
              "#d8576b"
             ],
             [
              0.6666666666666666,
              "#ed7953"
             ],
             [
              0.7777777777777778,
              "#fb9f3a"
             ],
             [
              0.8888888888888888,
              "#fdca26"
             ],
             [
              1,
              "#f0f921"
             ]
            ],
            "type": "contour"
           }
          ],
          "contourcarpet": [
           {
            "colorbar": {
             "outlinewidth": 0,
             "ticks": ""
            },
            "type": "contourcarpet"
           }
          ],
          "heatmap": [
           {
            "colorbar": {
             "outlinewidth": 0,
             "ticks": ""
            },
            "colorscale": [
             [
              0,
              "#0d0887"
             ],
             [
              0.1111111111111111,
              "#46039f"
             ],
             [
              0.2222222222222222,
              "#7201a8"
             ],
             [
              0.3333333333333333,
              "#9c179e"
             ],
             [
              0.4444444444444444,
              "#bd3786"
             ],
             [
              0.5555555555555556,
              "#d8576b"
             ],
             [
              0.6666666666666666,
              "#ed7953"
             ],
             [
              0.7777777777777778,
              "#fb9f3a"
             ],
             [
              0.8888888888888888,
              "#fdca26"
             ],
             [
              1,
              "#f0f921"
             ]
            ],
            "type": "heatmap"
           }
          ],
          "heatmapgl": [
           {
            "colorbar": {
             "outlinewidth": 0,
             "ticks": ""
            },
            "colorscale": [
             [
              0,
              "#0d0887"
             ],
             [
              0.1111111111111111,
              "#46039f"
             ],
             [
              0.2222222222222222,
              "#7201a8"
             ],
             [
              0.3333333333333333,
              "#9c179e"
             ],
             [
              0.4444444444444444,
              "#bd3786"
             ],
             [
              0.5555555555555556,
              "#d8576b"
             ],
             [
              0.6666666666666666,
              "#ed7953"
             ],
             [
              0.7777777777777778,
              "#fb9f3a"
             ],
             [
              0.8888888888888888,
              "#fdca26"
             ],
             [
              1,
              "#f0f921"
             ]
            ],
            "type": "heatmapgl"
           }
          ],
          "histogram": [
           {
            "marker": {
             "pattern": {
              "fillmode": "overlay",
              "size": 10,
              "solidity": 0.2
             }
            },
            "type": "histogram"
           }
          ],
          "histogram2d": [
           {
            "colorbar": {
             "outlinewidth": 0,
             "ticks": ""
            },
            "colorscale": [
             [
              0,
              "#0d0887"
             ],
             [
              0.1111111111111111,
              "#46039f"
             ],
             [
              0.2222222222222222,
              "#7201a8"
             ],
             [
              0.3333333333333333,
              "#9c179e"
             ],
             [
              0.4444444444444444,
              "#bd3786"
             ],
             [
              0.5555555555555556,
              "#d8576b"
             ],
             [
              0.6666666666666666,
              "#ed7953"
             ],
             [
              0.7777777777777778,
              "#fb9f3a"
             ],
             [
              0.8888888888888888,
              "#fdca26"
             ],
             [
              1,
              "#f0f921"
             ]
            ],
            "type": "histogram2d"
           }
          ],
          "histogram2dcontour": [
           {
            "colorbar": {
             "outlinewidth": 0,
             "ticks": ""
            },
            "colorscale": [
             [
              0,
              "#0d0887"
             ],
             [
              0.1111111111111111,
              "#46039f"
             ],
             [
              0.2222222222222222,
              "#7201a8"
             ],
             [
              0.3333333333333333,
              "#9c179e"
             ],
             [
              0.4444444444444444,
              "#bd3786"
             ],
             [
              0.5555555555555556,
              "#d8576b"
             ],
             [
              0.6666666666666666,
              "#ed7953"
             ],
             [
              0.7777777777777778,
              "#fb9f3a"
             ],
             [
              0.8888888888888888,
              "#fdca26"
             ],
             [
              1,
              "#f0f921"
             ]
            ],
            "type": "histogram2dcontour"
           }
          ],
          "mesh3d": [
           {
            "colorbar": {
             "outlinewidth": 0,
             "ticks": ""
            },
            "type": "mesh3d"
           }
          ],
          "parcoords": [
           {
            "line": {
             "colorbar": {
              "outlinewidth": 0,
              "ticks": ""
             }
            },
            "type": "parcoords"
           }
          ],
          "pie": [
           {
            "automargin": true,
            "type": "pie"
           }
          ],
          "scatter": [
           {
            "fillpattern": {
             "fillmode": "overlay",
             "size": 10,
             "solidity": 0.2
            },
            "type": "scatter"
           }
          ],
          "scatter3d": [
           {
            "line": {
             "colorbar": {
              "outlinewidth": 0,
              "ticks": ""
             }
            },
            "marker": {
             "colorbar": {
              "outlinewidth": 0,
              "ticks": ""
             }
            },
            "type": "scatter3d"
           }
          ],
          "scattercarpet": [
           {
            "marker": {
             "colorbar": {
              "outlinewidth": 0,
              "ticks": ""
             }
            },
            "type": "scattercarpet"
           }
          ],
          "scattergeo": [
           {
            "marker": {
             "colorbar": {
              "outlinewidth": 0,
              "ticks": ""
             }
            },
            "type": "scattergeo"
           }
          ],
          "scattergl": [
           {
            "marker": {
             "colorbar": {
              "outlinewidth": 0,
              "ticks": ""
             }
            },
            "type": "scattergl"
           }
          ],
          "scattermapbox": [
           {
            "marker": {
             "colorbar": {
              "outlinewidth": 0,
              "ticks": ""
             }
            },
            "type": "scattermapbox"
           }
          ],
          "scatterpolar": [
           {
            "marker": {
             "colorbar": {
              "outlinewidth": 0,
              "ticks": ""
             }
            },
            "type": "scatterpolar"
           }
          ],
          "scatterpolargl": [
           {
            "marker": {
             "colorbar": {
              "outlinewidth": 0,
              "ticks": ""
             }
            },
            "type": "scatterpolargl"
           }
          ],
          "scatterternary": [
           {
            "marker": {
             "colorbar": {
              "outlinewidth": 0,
              "ticks": ""
             }
            },
            "type": "scatterternary"
           }
          ],
          "surface": [
           {
            "colorbar": {
             "outlinewidth": 0,
             "ticks": ""
            },
            "colorscale": [
             [
              0,
              "#0d0887"
             ],
             [
              0.1111111111111111,
              "#46039f"
             ],
             [
              0.2222222222222222,
              "#7201a8"
             ],
             [
              0.3333333333333333,
              "#9c179e"
             ],
             [
              0.4444444444444444,
              "#bd3786"
             ],
             [
              0.5555555555555556,
              "#d8576b"
             ],
             [
              0.6666666666666666,
              "#ed7953"
             ],
             [
              0.7777777777777778,
              "#fb9f3a"
             ],
             [
              0.8888888888888888,
              "#fdca26"
             ],
             [
              1,
              "#f0f921"
             ]
            ],
            "type": "surface"
           }
          ],
          "table": [
           {
            "cells": {
             "fill": {
              "color": "#EBF0F8"
             },
             "line": {
              "color": "white"
             }
            },
            "header": {
             "fill": {
              "color": "#C8D4E3"
             },
             "line": {
              "color": "white"
             }
            },
            "type": "table"
           }
          ]
         },
         "layout": {
          "annotationdefaults": {
           "arrowcolor": "#2a3f5f",
           "arrowhead": 0,
           "arrowwidth": 1
          },
          "autotypenumbers": "strict",
          "coloraxis": {
           "colorbar": {
            "outlinewidth": 0,
            "ticks": ""
           }
          },
          "colorscale": {
           "diverging": [
            [
             0,
             "#8e0152"
            ],
            [
             0.1,
             "#c51b7d"
            ],
            [
             0.2,
             "#de77ae"
            ],
            [
             0.3,
             "#f1b6da"
            ],
            [
             0.4,
             "#fde0ef"
            ],
            [
             0.5,
             "#f7f7f7"
            ],
            [
             0.6,
             "#e6f5d0"
            ],
            [
             0.7,
             "#b8e186"
            ],
            [
             0.8,
             "#7fbc41"
            ],
            [
             0.9,
             "#4d9221"
            ],
            [
             1,
             "#276419"
            ]
           ],
           "sequential": [
            [
             0,
             "#0d0887"
            ],
            [
             0.1111111111111111,
             "#46039f"
            ],
            [
             0.2222222222222222,
             "#7201a8"
            ],
            [
             0.3333333333333333,
             "#9c179e"
            ],
            [
             0.4444444444444444,
             "#bd3786"
            ],
            [
             0.5555555555555556,
             "#d8576b"
            ],
            [
             0.6666666666666666,
             "#ed7953"
            ],
            [
             0.7777777777777778,
             "#fb9f3a"
            ],
            [
             0.8888888888888888,
             "#fdca26"
            ],
            [
             1,
             "#f0f921"
            ]
           ],
           "sequentialminus": [
            [
             0,
             "#0d0887"
            ],
            [
             0.1111111111111111,
             "#46039f"
            ],
            [
             0.2222222222222222,
             "#7201a8"
            ],
            [
             0.3333333333333333,
             "#9c179e"
            ],
            [
             0.4444444444444444,
             "#bd3786"
            ],
            [
             0.5555555555555556,
             "#d8576b"
            ],
            [
             0.6666666666666666,
             "#ed7953"
            ],
            [
             0.7777777777777778,
             "#fb9f3a"
            ],
            [
             0.8888888888888888,
             "#fdca26"
            ],
            [
             1,
             "#f0f921"
            ]
           ]
          },
          "colorway": [
           "#636efa",
           "#EF553B",
           "#00cc96",
           "#ab63fa",
           "#FFA15A",
           "#19d3f3",
           "#FF6692",
           "#B6E880",
           "#FF97FF",
           "#FECB52"
          ],
          "font": {
           "color": "#2a3f5f"
          },
          "geo": {
           "bgcolor": "white",
           "lakecolor": "white",
           "landcolor": "#E5ECF6",
           "showlakes": true,
           "showland": true,
           "subunitcolor": "white"
          },
          "hoverlabel": {
           "align": "left"
          },
          "hovermode": "closest",
          "mapbox": {
           "style": "light"
          },
          "paper_bgcolor": "white",
          "plot_bgcolor": "#E5ECF6",
          "polar": {
           "angularaxis": {
            "gridcolor": "white",
            "linecolor": "white",
            "ticks": ""
           },
           "bgcolor": "#E5ECF6",
           "radialaxis": {
            "gridcolor": "white",
            "linecolor": "white",
            "ticks": ""
           }
          },
          "scene": {
           "xaxis": {
            "backgroundcolor": "#E5ECF6",
            "gridcolor": "white",
            "gridwidth": 2,
            "linecolor": "white",
            "showbackground": true,
            "ticks": "",
            "zerolinecolor": "white"
           },
           "yaxis": {
            "backgroundcolor": "#E5ECF6",
            "gridcolor": "white",
            "gridwidth": 2,
            "linecolor": "white",
            "showbackground": true,
            "ticks": "",
            "zerolinecolor": "white"
           },
           "zaxis": {
            "backgroundcolor": "#E5ECF6",
            "gridcolor": "white",
            "gridwidth": 2,
            "linecolor": "white",
            "showbackground": true,
            "ticks": "",
            "zerolinecolor": "white"
           }
          },
          "shapedefaults": {
           "line": {
            "color": "#2a3f5f"
           }
          },
          "ternary": {
           "aaxis": {
            "gridcolor": "white",
            "linecolor": "white",
            "ticks": ""
           },
           "baxis": {
            "gridcolor": "white",
            "linecolor": "white",
            "ticks": ""
           },
           "bgcolor": "#E5ECF6",
           "caxis": {
            "gridcolor": "white",
            "linecolor": "white",
            "ticks": ""
           }
          },
          "title": {
           "x": 0.05
          },
          "xaxis": {
           "automargin": true,
           "gridcolor": "white",
           "linecolor": "white",
           "ticks": "",
           "title": {
            "standoff": 15
           },
           "zerolinecolor": "white",
           "zerolinewidth": 2
          },
          "yaxis": {
           "automargin": true,
           "gridcolor": "white",
           "linecolor": "white",
           "ticks": "",
           "title": {
            "standoff": 15
           },
           "zerolinecolor": "white",
           "zerolinewidth": 2
          }
         }
        },
        "width": 800,
        "xaxis": {
         "anchor": "y",
         "domain": [
          0,
          1
         ],
         "title": {
          "text": "umap2_x"
         }
        },
        "yaxis": {
         "anchor": "x",
         "domain": [
          0,
          1
         ],
         "title": {
          "text": "umap2_y"
         }
        }
       }
      }
     },
     "metadata": {},
     "output_type": "display_data"
    }
   ],
   "source": [
    "umap_model = umap.UMAP(n_components=2, n_neighbors=5, min_dist=0.1, metric=\"cosine\")\n",
    "embeddings = select_painter_bios[\"embeddings2\"].tolist()\n",
    "embedded_data_2d = umap_model.fit_transform(embeddings)\n",
    "embedded_data_2d\n",
    "\n",
    "select_painter_bios[\"umap2_x\"] = embedded_data_2d[:, 0]\n",
    "select_painter_bios[\"umap2_y\"] = embedded_data_2d[:, 1]\n",
    "\n",
    "# Create a scatter plot with Plotly\n",
    "fig = px.scatter(\n",
    "    select_painter_bios,\n",
    "    x=\"umap2_x\",\n",
    "    y=\"umap2_y\",\n",
    "    hover_data=[\"painter_name\"],\n",
    "    width=800,\n",
    "    height=800,\n",
    ")\n",
    "\n",
    "fig.update_traces(marker=dict(size=30))\n",
    "# Show the plot\n",
    "fig.show()"
   ]
  },
  {
   "cell_type": "markdown",
   "id": "55efa57f",
   "metadata": {
    "deletable": false,
    "editable": false,
    "nbgrader": {
     "cell_type": "markdown",
     "checksum": "76373f7b33bccf77a983f7136974a4e5",
     "grade": false,
     "grade_id": "cell-e64602af193c308b",
     "locked": true,
     "schema_version": 3,
     "solution": false,
     "task": false
    }
   },
   "source": [
    "<div class=\"alert alert-info\">\n",
    "<b>Instruction:</b> Use the space below to interpret the final visualization of your embedding. How does it compare with the previous visual?\n",
    "</div>"
   ]
  },
  {
   "cell_type": "markdown",
   "id": "7191c759",
   "metadata": {
    "deletable": false,
    "nbgrader": {
     "cell_type": "markdown",
     "checksum": "da0a8db66cb31ef70c7e80f65660e458",
     "grade": true,
     "grade_id": "cell-8fd666fac7da7c58",
     "locked": false,
     "points": 0,
     "schema_version": 3,
     "solution": true,
     "task": false
    }
   },
   "source": [
    "YOUR ANSWER HERE"
   ]
  },
  {
   "cell_type": "markdown",
   "id": "12b016b9",
   "metadata": {
    "deletable": false,
    "editable": false,
    "nbgrader": {
     "cell_type": "markdown",
     "checksum": "0e400669f499597b9592ba0dcb6040b9",
     "grade": false,
     "grade_id": "cell-9b080313fc183ec0",
     "locked": true,
     "schema_version": 3,
     "solution": false,
     "task": false
    }
   },
   "source": [
    "---\n",
    "\n",
    "## 4.6 - Visualizing the entire dataset\n",
    "\n",
    "Taking all the tools from above, visualize the entire dataset of artists. The code may take longer to run, but the process is still the same.\n",
    "\n",
    "1. Compute embeddings using one of the models from [this page](https://huggingface.co/models?library=sentence-transformers&author=sentence-transformers)\n",
    "1. Reduce dimensions using UMAP\n",
    "1. Plot the result.\n",
    "\n"
   ]
  },
  {
   "cell_type": "markdown",
   "id": "a145eb66",
   "metadata": {},
   "source": [
    "### PART 1.0 -- Show dataset"
   ]
  },
  {
   "cell_type": "code",
   "execution_count": 54,
   "id": "abfc5ab3",
   "metadata": {
    "deletable": false,
    "nbgrader": {
     "cell_type": "code",
     "checksum": "a6773889c26fc1e307dc169bc70b64cd",
     "grade": true,
     "grade_id": "cell-81a08460ea7d32f7",
     "locked": false,
     "points": 0,
     "schema_version": 3,
     "solution": true,
     "task": false
    }
   },
   "outputs": [
    {
     "data": {
      "text/html": [
       "<div>\n",
       "<style scoped>\n",
       "    .dataframe tbody tr th:only-of-type {\n",
       "        vertical-align: middle;\n",
       "    }\n",
       "\n",
       "    .dataframe tbody tr th {\n",
       "        vertical-align: top;\n",
       "    }\n",
       "\n",
       "    .dataframe thead th {\n",
       "        text-align: right;\n",
       "    }\n",
       "</style>\n",
       "<table border=\"1\" class=\"dataframe\">\n",
       "  <thead>\n",
       "    <tr style=\"text-align: right;\">\n",
       "      <th></th>\n",
       "      <th>painter_id</th>\n",
       "      <th>painter_name</th>\n",
       "      <th>summary</th>\n",
       "      <th>url</th>\n",
       "      <th>summary_length</th>\n",
       "    </tr>\n",
       "  </thead>\n",
       "  <tbody>\n",
       "    <tr>\n",
       "      <th>0</th>\n",
       "      <td>1</td>\n",
       "      <td>Alfred Richard Gurrey Sr.</td>\n",
       "      <td>Alfred Richard Gurrey Sr.  (1852–1944) was an ...</td>\n",
       "      <td>https://en.wikipedia.org/wiki/Alfred_Richard_G...</td>\n",
       "      <td>164</td>\n",
       "    </tr>\n",
       "    <tr>\n",
       "      <th>1</th>\n",
       "      <td>2</td>\n",
       "      <td>Edward Otho Cresap Ord II</td>\n",
       "      <td>Edward Otho Cresap Ord, II (November 9, 1858 –...</td>\n",
       "      <td>https://en.wikipedia.org/wiki/Edward_Otho_Cres...</td>\n",
       "      <td>84</td>\n",
       "    </tr>\n",
       "    <tr>\n",
       "      <th>2</th>\n",
       "      <td>3</td>\n",
       "      <td>George Barret Jr.</td>\n",
       "      <td>George Barret Jr. (1767–1842), sometimes refer...</td>\n",
       "      <td>https://en.wikipedia.org/wiki/George_Barret_Jr.</td>\n",
       "      <td>27</td>\n",
       "    </tr>\n",
       "    <tr>\n",
       "      <th>3</th>\n",
       "      <td>4</td>\n",
       "      <td>George Barret Sr.</td>\n",
       "      <td>George Barret Sr.  (c. 1730 – 29 May 1784) was...</td>\n",
       "      <td>https://en.wikipedia.org/wiki/George_Barret_Sr.</td>\n",
       "      <td>263</td>\n",
       "    </tr>\n",
       "    <tr>\n",
       "      <th>4</th>\n",
       "      <td>5</td>\n",
       "      <td>Henry Ives Cobb Jr.</td>\n",
       "      <td>Henry Ives Cobb Jr. (March 24, 1883 – August 1...</td>\n",
       "      <td>https://en.wikipedia.org/wiki/Henry_Ives_Cobb_Jr.</td>\n",
       "      <td>71</td>\n",
       "    </tr>\n",
       "    <tr>\n",
       "      <th>5</th>\n",
       "      <td>6</td>\n",
       "      <td>John Byrne (English artist)</td>\n",
       "      <td>John Byrne (1786–1847) was an English painter ...</td>\n",
       "      <td>https://en.wikipedia.org/wiki/John_Byrne_(Engl...</td>\n",
       "      <td>29</td>\n",
       "    </tr>\n",
       "    <tr>\n",
       "      <th>6</th>\n",
       "      <td>7</td>\n",
       "      <td>John Frederick Herring Jr.</td>\n",
       "      <td>John Frederick Herring Jr. (1820–1907) was an ...</td>\n",
       "      <td>https://en.wikipedia.org/wiki/John_Frederick_H...</td>\n",
       "      <td>17</td>\n",
       "    </tr>\n",
       "    <tr>\n",
       "      <th>7</th>\n",
       "      <td>8</td>\n",
       "      <td>John Frederick Herring Sr.</td>\n",
       "      <td>John Frederick Herring Sr. (12 September 1795 ...</td>\n",
       "      <td>https://en.wikipedia.org/wiki/John_Frederick_H...</td>\n",
       "      <td>61</td>\n",
       "    </tr>\n",
       "    <tr>\n",
       "      <th>8</th>\n",
       "      <td>9</td>\n",
       "      <td>A. B. Jackson (painter)</td>\n",
       "      <td>Alexander Brooks Jackson (April 18, 1925 – Mar...</td>\n",
       "      <td>https://en.wikipedia.org/wiki/A._B._Jackson_(p...</td>\n",
       "      <td>14</td>\n",
       "    </tr>\n",
       "    <tr>\n",
       "      <th>9</th>\n",
       "      <td>10</td>\n",
       "      <td>A. J. Casson</td>\n",
       "      <td>Alfred Joseph Casson  (May 17, 1898 – February...</td>\n",
       "      <td>https://en.wikipedia.org/wiki/A._J._Casson</td>\n",
       "      <td>66</td>\n",
       "    </tr>\n",
       "    <tr>\n",
       "      <th>10</th>\n",
       "      <td>11</td>\n",
       "      <td>A. R. Middleton Todd</td>\n",
       "      <td>Arthur Ralph Middleton Todd  (26 October 1891 ...</td>\n",
       "      <td>https://en.wikipedia.org/wiki/A._R._Middleton_...</td>\n",
       "      <td>35</td>\n",
       "    </tr>\n",
       "    <tr>\n",
       "      <th>11</th>\n",
       "      <td>12</td>\n",
       "      <td>A.D.M. Cooper</td>\n",
       "      <td>Astley David Middleton Cooper (December 23, 18...</td>\n",
       "      <td>https://en.wikipedia.org/wiki/A.D.M._Cooper</td>\n",
       "      <td>84</td>\n",
       "    </tr>\n",
       "    <tr>\n",
       "      <th>12</th>\n",
       "      <td>13</td>\n",
       "      <td>Aaron Bohrod</td>\n",
       "      <td>Aaron Bohrod (21 November 1907 – 3 April 1992)...</td>\n",
       "      <td>https://en.wikipedia.org/wiki/Aaron_Bohrod</td>\n",
       "      <td>20</td>\n",
       "    </tr>\n",
       "    <tr>\n",
       "      <th>13</th>\n",
       "      <td>14</td>\n",
       "      <td>Aaron Douglas (artist)</td>\n",
       "      <td>Aaron Douglas (May 26, 1899 – February 2, 1979...</td>\n",
       "      <td>https://en.wikipedia.org/wiki/Aaron_Douglas_(a...</td>\n",
       "      <td>124</td>\n",
       "    </tr>\n",
       "    <tr>\n",
       "      <th>14</th>\n",
       "      <td>15</td>\n",
       "      <td>Aaron Nagel</td>\n",
       "      <td>Aaron Nagel is an American painter and the ori...</td>\n",
       "      <td>https://en.wikipedia.org/wiki/Aaron_Nagel</td>\n",
       "      <td>209</td>\n",
       "    </tr>\n",
       "  </tbody>\n",
       "</table>\n",
       "</div>"
      ],
      "text/plain": [
       "    painter_id                 painter_name  \\\n",
       "0            1    Alfred Richard Gurrey Sr.   \n",
       "1            2    Edward Otho Cresap Ord II   \n",
       "2            3            George Barret Jr.   \n",
       "3            4            George Barret Sr.   \n",
       "4            5          Henry Ives Cobb Jr.   \n",
       "5            6  John Byrne (English artist)   \n",
       "6            7   John Frederick Herring Jr.   \n",
       "7            8   John Frederick Herring Sr.   \n",
       "8            9      A. B. Jackson (painter)   \n",
       "9           10                 A. J. Casson   \n",
       "10          11         A. R. Middleton Todd   \n",
       "11          12                A.D.M. Cooper   \n",
       "12          13                 Aaron Bohrod   \n",
       "13          14       Aaron Douglas (artist)   \n",
       "14          15                  Aaron Nagel   \n",
       "\n",
       "                                              summary  \\\n",
       "0   Alfred Richard Gurrey Sr.  (1852–1944) was an ...   \n",
       "1   Edward Otho Cresap Ord, II (November 9, 1858 –...   \n",
       "2   George Barret Jr. (1767–1842), sometimes refer...   \n",
       "3   George Barret Sr.  (c. 1730 – 29 May 1784) was...   \n",
       "4   Henry Ives Cobb Jr. (March 24, 1883 – August 1...   \n",
       "5   John Byrne (1786–1847) was an English painter ...   \n",
       "6   John Frederick Herring Jr. (1820–1907) was an ...   \n",
       "7   John Frederick Herring Sr. (12 September 1795 ...   \n",
       "8   Alexander Brooks Jackson (April 18, 1925 – Mar...   \n",
       "9   Alfred Joseph Casson  (May 17, 1898 – February...   \n",
       "10  Arthur Ralph Middleton Todd  (26 October 1891 ...   \n",
       "11  Astley David Middleton Cooper (December 23, 18...   \n",
       "12  Aaron Bohrod (21 November 1907 – 3 April 1992)...   \n",
       "13  Aaron Douglas (May 26, 1899 – February 2, 1979...   \n",
       "14  Aaron Nagel is an American painter and the ori...   \n",
       "\n",
       "                                                  url  summary_length  \n",
       "0   https://en.wikipedia.org/wiki/Alfred_Richard_G...             164  \n",
       "1   https://en.wikipedia.org/wiki/Edward_Otho_Cres...              84  \n",
       "2     https://en.wikipedia.org/wiki/George_Barret_Jr.              27  \n",
       "3     https://en.wikipedia.org/wiki/George_Barret_Sr.             263  \n",
       "4   https://en.wikipedia.org/wiki/Henry_Ives_Cobb_Jr.              71  \n",
       "5   https://en.wikipedia.org/wiki/John_Byrne_(Engl...              29  \n",
       "6   https://en.wikipedia.org/wiki/John_Frederick_H...              17  \n",
       "7   https://en.wikipedia.org/wiki/John_Frederick_H...              61  \n",
       "8   https://en.wikipedia.org/wiki/A._B._Jackson_(p...              14  \n",
       "9          https://en.wikipedia.org/wiki/A._J._Casson              66  \n",
       "10  https://en.wikipedia.org/wiki/A._R._Middleton_...              35  \n",
       "11        https://en.wikipedia.org/wiki/A.D.M._Cooper              84  \n",
       "12         https://en.wikipedia.org/wiki/Aaron_Bohrod              20  \n",
       "13  https://en.wikipedia.org/wiki/Aaron_Douglas_(a...             124  \n",
       "14          https://en.wikipedia.org/wiki/Aaron_Nagel             209  "
      ]
     },
     "execution_count": 54,
     "metadata": {},
     "output_type": "execute_result"
    }
   ],
   "source": [
    "painter_summaries_clean.head(15)"
   ]
  },
  {
   "cell_type": "markdown",
   "id": "00a58708",
   "metadata": {},
   "source": [
    "### PART 2 - Compute Embeddings"
   ]
  },
  {
   "cell_type": "code",
   "execution_count": 55,
   "id": "848002b1",
   "metadata": {},
   "outputs": [
    {
     "data": {
      "application/vnd.jupyter.widget-view+json": {
       "model_id": "a24f5a88c470492282974da56f80273d",
       "version_major": 2,
       "version_minor": 0
      },
      "text/plain": [
       "modules.json:   0%|          | 0.00/349 [00:00<?, ?B/s]"
      ]
     },
     "metadata": {},
     "output_type": "display_data"
    },
    {
     "data": {
      "application/vnd.jupyter.widget-view+json": {
       "model_id": "7e71f7c79f8043c89082b6b53df0b151",
       "version_major": 2,
       "version_minor": 0
      },
      "text/plain": [
       "config_sentence_transformers.json:   0%|          | 0.00/122 [00:00<?, ?B/s]"
      ]
     },
     "metadata": {},
     "output_type": "display_data"
    },
    {
     "data": {
      "application/vnd.jupyter.widget-view+json": {
       "model_id": "caced252659844f4b91f39228db58280",
       "version_major": 2,
       "version_minor": 0
      },
      "text/plain": [
       "README.md:   0%|          | 0.00/5.17k [00:00<?, ?B/s]"
      ]
     },
     "metadata": {},
     "output_type": "display_data"
    },
    {
     "data": {
      "application/vnd.jupyter.widget-view+json": {
       "model_id": "cb4cc0f80ac4494b95838e1476b5158e",
       "version_major": 2,
       "version_minor": 0
      },
      "text/plain": [
       "sentence_bert_config.json:   0%|          | 0.00/53.0 [00:00<?, ?B/s]"
      ]
     },
     "metadata": {},
     "output_type": "display_data"
    },
    {
     "name": "stderr",
     "output_type": "stream",
     "text": [
      "/opt/miniconda3/lib/python3.12/site-packages/huggingface_hub/file_download.py:1132: FutureWarning:\n",
      "\n",
      "`resume_download` is deprecated and will be removed in version 1.0.0. Downloads always resume when possible. If you want to force a new download, use `force_download=True`.\n",
      "\n"
     ]
    },
    {
     "data": {
      "application/vnd.jupyter.widget-view+json": {
       "model_id": "6980639de5f8405d8be9733256473de1",
       "version_major": 2,
       "version_minor": 0
      },
      "text/plain": [
       "config.json:   0%|          | 0.00/545 [00:00<?, ?B/s]"
      ]
     },
     "metadata": {},
     "output_type": "display_data"
    },
    {
     "data": {
      "application/vnd.jupyter.widget-view+json": {
       "model_id": "5ade031addbe4d1580ac5ed08309cb20",
       "version_major": 2,
       "version_minor": 0
      },
      "text/plain": [
       "model.safetensors:   0%|          | 0.00/265M [00:00<?, ?B/s]"
      ]
     },
     "metadata": {},
     "output_type": "display_data"
    },
    {
     "data": {
      "application/vnd.jupyter.widget-view+json": {
       "model_id": "c20d6f6916f343c3b387b5ac1dbd2667",
       "version_major": 2,
       "version_minor": 0
      },
      "text/plain": [
       "tokenizer_config.json:   0%|          | 0.00/319 [00:00<?, ?B/s]"
      ]
     },
     "metadata": {},
     "output_type": "display_data"
    },
    {
     "data": {
      "application/vnd.jupyter.widget-view+json": {
       "model_id": "d233ce2e65864e2e9ae46860382a71d3",
       "version_major": 2,
       "version_minor": 0
      },
      "text/plain": [
       "vocab.txt:   0%|          | 0.00/232k [00:00<?, ?B/s]"
      ]
     },
     "metadata": {},
     "output_type": "display_data"
    },
    {
     "data": {
      "application/vnd.jupyter.widget-view+json": {
       "model_id": "f4181d1ac32e4d7587cee41ab950a3e6",
       "version_major": 2,
       "version_minor": 0
      },
      "text/plain": [
       "tokenizer.json:   0%|          | 0.00/466k [00:00<?, ?B/s]"
      ]
     },
     "metadata": {},
     "output_type": "display_data"
    },
    {
     "data": {
      "application/vnd.jupyter.widget-view+json": {
       "model_id": "a80f52d957e1456191b782fd8dff355f",
       "version_major": 2,
       "version_minor": 0
      },
      "text/plain": [
       "special_tokens_map.json:   0%|          | 0.00/112 [00:00<?, ?B/s]"
      ]
     },
     "metadata": {},
     "output_type": "display_data"
    },
    {
     "data": {
      "application/vnd.jupyter.widget-view+json": {
       "model_id": "060d96ba2c1848ebb103236b11408057",
       "version_major": 2,
       "version_minor": 0
      },
      "text/plain": [
       "1_Pooling/config.json:   0%|          | 0.00/190 [00:00<?, ?B/s]"
      ]
     },
     "metadata": {},
     "output_type": "display_data"
    },
    {
     "name": "stderr",
     "output_type": "stream",
     "text": [
      "/var/folders/q7/xm4_j0ws78dgcdtz0k45k7k40000gq/T/ipykernel_4026/3848909696.py:6: SettingWithCopyWarning:\n",
      "\n",
      "\n",
      "A value is trying to be set on a copy of a slice from a DataFrame.\n",
      "Try using .loc[row_indexer,col_indexer] = value instead\n",
      "\n",
      "See the caveats in the documentation: https://pandas.pydata.org/pandas-docs/stable/user_guide/indexing.html#returning-a-view-versus-a-copy\n",
      "\n"
     ]
    },
    {
     "data": {
      "text/html": [
       "<div>\n",
       "<style scoped>\n",
       "    .dataframe tbody tr th:only-of-type {\n",
       "        vertical-align: middle;\n",
       "    }\n",
       "\n",
       "    .dataframe tbody tr th {\n",
       "        vertical-align: top;\n",
       "    }\n",
       "\n",
       "    .dataframe thead th {\n",
       "        text-align: right;\n",
       "    }\n",
       "</style>\n",
       "<table border=\"1\" class=\"dataframe\">\n",
       "  <thead>\n",
       "    <tr style=\"text-align: right;\">\n",
       "      <th></th>\n",
       "      <th>painter_id</th>\n",
       "      <th>painter_name</th>\n",
       "      <th>summary</th>\n",
       "      <th>url</th>\n",
       "      <th>summary_length</th>\n",
       "      <th>embeddings</th>\n",
       "    </tr>\n",
       "  </thead>\n",
       "  <tbody>\n",
       "    <tr>\n",
       "      <th>0</th>\n",
       "      <td>1</td>\n",
       "      <td>Alfred Richard Gurrey Sr.</td>\n",
       "      <td>Alfred Richard Gurrey Sr.  (1852–1944) was an ...</td>\n",
       "      <td>https://en.wikipedia.org/wiki/Alfred_Richard_G...</td>\n",
       "      <td>164</td>\n",
       "      <td>[-0.017916500568389893, 0.016814740374684334, ...</td>\n",
       "    </tr>\n",
       "    <tr>\n",
       "      <th>1</th>\n",
       "      <td>2</td>\n",
       "      <td>Edward Otho Cresap Ord II</td>\n",
       "      <td>Edward Otho Cresap Ord, II (November 9, 1858 –...</td>\n",
       "      <td>https://en.wikipedia.org/wiki/Edward_Otho_Cres...</td>\n",
       "      <td>84</td>\n",
       "      <td>[0.04755578190088272, 0.06714501231908798, -0....</td>\n",
       "    </tr>\n",
       "    <tr>\n",
       "      <th>2</th>\n",
       "      <td>3</td>\n",
       "      <td>George Barret Jr.</td>\n",
       "      <td>George Barret Jr. (1767–1842), sometimes refer...</td>\n",
       "      <td>https://en.wikipedia.org/wiki/George_Barret_Jr.</td>\n",
       "      <td>27</td>\n",
       "      <td>[0.046365100890398026, 0.04546622931957245, 0....</td>\n",
       "    </tr>\n",
       "    <tr>\n",
       "      <th>3</th>\n",
       "      <td>4</td>\n",
       "      <td>George Barret Sr.</td>\n",
       "      <td>George Barret Sr.  (c. 1730 – 29 May 1784) was...</td>\n",
       "      <td>https://en.wikipedia.org/wiki/George_Barret_Sr.</td>\n",
       "      <td>263</td>\n",
       "      <td>[0.05642620474100113, 0.025986645370721817, -0...</td>\n",
       "    </tr>\n",
       "    <tr>\n",
       "      <th>4</th>\n",
       "      <td>5</td>\n",
       "      <td>Henry Ives Cobb Jr.</td>\n",
       "      <td>Henry Ives Cobb Jr. (March 24, 1883 – August 1...</td>\n",
       "      <td>https://en.wikipedia.org/wiki/Henry_Ives_Cobb_Jr.</td>\n",
       "      <td>71</td>\n",
       "      <td>[0.03517553582787514, -0.013261149637401104, -...</td>\n",
       "    </tr>\n",
       "    <tr>\n",
       "      <th>5</th>\n",
       "      <td>6</td>\n",
       "      <td>John Byrne (English artist)</td>\n",
       "      <td>John Byrne (1786–1847) was an English painter ...</td>\n",
       "      <td>https://en.wikipedia.org/wiki/John_Byrne_(Engl...</td>\n",
       "      <td>29</td>\n",
       "      <td>[0.05095544457435608, 0.028257250785827637, -0...</td>\n",
       "    </tr>\n",
       "    <tr>\n",
       "      <th>6</th>\n",
       "      <td>7</td>\n",
       "      <td>John Frederick Herring Jr.</td>\n",
       "      <td>John Frederick Herring Jr. (1820–1907) was an ...</td>\n",
       "      <td>https://en.wikipedia.org/wiki/John_Frederick_H...</td>\n",
       "      <td>17</td>\n",
       "      <td>[0.029810236766934395, -0.017383666709065437, ...</td>\n",
       "    </tr>\n",
       "    <tr>\n",
       "      <th>7</th>\n",
       "      <td>8</td>\n",
       "      <td>John Frederick Herring Sr.</td>\n",
       "      <td>John Frederick Herring Sr. (12 September 1795 ...</td>\n",
       "      <td>https://en.wikipedia.org/wiki/John_Frederick_H...</td>\n",
       "      <td>61</td>\n",
       "      <td>[0.028860753402113914, 0.044107433408498764, -...</td>\n",
       "    </tr>\n",
       "    <tr>\n",
       "      <th>8</th>\n",
       "      <td>9</td>\n",
       "      <td>A. B. Jackson (painter)</td>\n",
       "      <td>Alexander Brooks Jackson (April 18, 1925 – Mar...</td>\n",
       "      <td>https://en.wikipedia.org/wiki/A._B._Jackson_(p...</td>\n",
       "      <td>14</td>\n",
       "      <td>[-0.004729640204459429, 0.029076918959617615, ...</td>\n",
       "    </tr>\n",
       "    <tr>\n",
       "      <th>9</th>\n",
       "      <td>10</td>\n",
       "      <td>A. J. Casson</td>\n",
       "      <td>Alfred Joseph Casson  (May 17, 1898 – February...</td>\n",
       "      <td>https://en.wikipedia.org/wiki/A._J._Casson</td>\n",
       "      <td>66</td>\n",
       "      <td>[-0.053276173770427704, -0.010091795586049557,...</td>\n",
       "    </tr>\n",
       "  </tbody>\n",
       "</table>\n",
       "</div>"
      ],
      "text/plain": [
       "   painter_id                 painter_name  \\\n",
       "0           1    Alfred Richard Gurrey Sr.   \n",
       "1           2    Edward Otho Cresap Ord II   \n",
       "2           3            George Barret Jr.   \n",
       "3           4            George Barret Sr.   \n",
       "4           5          Henry Ives Cobb Jr.   \n",
       "5           6  John Byrne (English artist)   \n",
       "6           7   John Frederick Herring Jr.   \n",
       "7           8   John Frederick Herring Sr.   \n",
       "8           9      A. B. Jackson (painter)   \n",
       "9          10                 A. J. Casson   \n",
       "\n",
       "                                             summary  \\\n",
       "0  Alfred Richard Gurrey Sr.  (1852–1944) was an ...   \n",
       "1  Edward Otho Cresap Ord, II (November 9, 1858 –...   \n",
       "2  George Barret Jr. (1767–1842), sometimes refer...   \n",
       "3  George Barret Sr.  (c. 1730 – 29 May 1784) was...   \n",
       "4  Henry Ives Cobb Jr. (March 24, 1883 – August 1...   \n",
       "5  John Byrne (1786–1847) was an English painter ...   \n",
       "6  John Frederick Herring Jr. (1820–1907) was an ...   \n",
       "7  John Frederick Herring Sr. (12 September 1795 ...   \n",
       "8  Alexander Brooks Jackson (April 18, 1925 – Mar...   \n",
       "9  Alfred Joseph Casson  (May 17, 1898 – February...   \n",
       "\n",
       "                                                 url  summary_length  \\\n",
       "0  https://en.wikipedia.org/wiki/Alfred_Richard_G...             164   \n",
       "1  https://en.wikipedia.org/wiki/Edward_Otho_Cres...              84   \n",
       "2    https://en.wikipedia.org/wiki/George_Barret_Jr.              27   \n",
       "3    https://en.wikipedia.org/wiki/George_Barret_Sr.             263   \n",
       "4  https://en.wikipedia.org/wiki/Henry_Ives_Cobb_Jr.              71   \n",
       "5  https://en.wikipedia.org/wiki/John_Byrne_(Engl...              29   \n",
       "6  https://en.wikipedia.org/wiki/John_Frederick_H...              17   \n",
       "7  https://en.wikipedia.org/wiki/John_Frederick_H...              61   \n",
       "8  https://en.wikipedia.org/wiki/A._B._Jackson_(p...              14   \n",
       "9         https://en.wikipedia.org/wiki/A._J._Casson              66   \n",
       "\n",
       "                                          embeddings  \n",
       "0  [-0.017916500568389893, 0.016814740374684334, ...  \n",
       "1  [0.04755578190088272, 0.06714501231908798, -0....  \n",
       "2  [0.046365100890398026, 0.04546622931957245, 0....  \n",
       "3  [0.05642620474100113, 0.025986645370721817, -0...  \n",
       "4  [0.03517553582787514, -0.013261149637401104, -...  \n",
       "5  [0.05095544457435608, 0.028257250785827637, -0...  \n",
       "6  [0.029810236766934395, -0.017383666709065437, ...  \n",
       "7  [0.028860753402113914, 0.044107433408498764, -...  \n",
       "8  [-0.004729640204459429, 0.029076918959617615, ...  \n",
       "9  [-0.053276173770427704, -0.010091795586049557,...  "
      ]
     },
     "execution_count": 55,
     "metadata": {},
     "output_type": "execute_result"
    }
   ],
   "source": [
    "from sentence_transformers import SentenceTransformer\n",
    "\n",
    "# Load the pre-trained model\n",
    "model = SentenceTransformer(\"msmarco-distilbert-cos-v5\")\n",
    "\n",
    "painter_summaries_clean[\"embeddings\"] = painter_summaries_clean[\"summary\"].apply(\n",
    "    lambda x: model.encode(x).tolist()\n",
    ")\n",
    "painter_summaries_clean.head(10)"
   ]
  },
  {
   "cell_type": "code",
   "execution_count": 56,
   "id": "fc900ac8",
   "metadata": {},
   "outputs": [
    {
     "data": {
      "text/plain": [
       "768"
      ]
     },
     "execution_count": 56,
     "metadata": {},
     "output_type": "execute_result"
    }
   ],
   "source": [
    "# As a sanity check, let's see the length of the embeddings for Vincent van Gogh.\n",
    "\n",
    "van_gogh = painter_summaries_clean[\n",
    "    painter_summaries_clean[\"painter_name\"] == \"Vincent van Gogh\"\n",
    "][\"embeddings\"].values[0]\n",
    "len(van_gogh)"
   ]
  },
  {
   "cell_type": "markdown",
   "id": "6d246974",
   "metadata": {},
   "source": [
    "### PART 3 - Reduce Dimensions"
   ]
  },
  {
   "cell_type": "code",
   "execution_count": 57,
   "id": "c0cb9a5c",
   "metadata": {},
   "outputs": [
    {
     "name": "stderr",
     "output_type": "stream",
     "text": [
      "/var/folders/q7/xm4_j0ws78dgcdtz0k45k7k40000gq/T/ipykernel_4026/3833050253.py:8: SettingWithCopyWarning:\n",
      "\n",
      "\n",
      "A value is trying to be set on a copy of a slice from a DataFrame.\n",
      "Try using .loc[row_indexer,col_indexer] = value instead\n",
      "\n",
      "See the caveats in the documentation: https://pandas.pydata.org/pandas-docs/stable/user_guide/indexing.html#returning-a-view-versus-a-copy\n",
      "\n",
      "/var/folders/q7/xm4_j0ws78dgcdtz0k45k7k40000gq/T/ipykernel_4026/3833050253.py:9: SettingWithCopyWarning:\n",
      "\n",
      "\n",
      "A value is trying to be set on a copy of a slice from a DataFrame.\n",
      "Try using .loc[row_indexer,col_indexer] = value instead\n",
      "\n",
      "See the caveats in the documentation: https://pandas.pydata.org/pandas-docs/stable/user_guide/indexing.html#returning-a-view-versus-a-copy\n",
      "\n"
     ]
    }
   ],
   "source": [
    "import umap\n",
    "\n",
    "umap_model = umap.UMAP(n_components=2, n_neighbors=16, min_dist=0.4, metric=\"cosine\")\n",
    "embeddings = painter_summaries_clean[\"embeddings\"].tolist()\n",
    "embedded_data_2d = umap_model.fit_transform(embeddings)\n",
    "embedded_data_2d\n",
    "\n",
    "painter_summaries_clean[\"umap_x\"] = embedded_data_2d[:, 0]\n",
    "painter_summaries_clean[\"umap_y\"] = embedded_data_2d[:, 1]"
   ]
  },
  {
   "cell_type": "code",
   "execution_count": 65,
   "id": "322645a9",
   "metadata": {},
   "outputs": [
    {
     "data": {
      "application/vnd.plotly.v1+json": {
       "config": {
        "plotlyServerURL": "https://plot.ly"
       },
       "data": [
        {
         "customdata": [
          [
           "Alfred Richard Gurrey Sr."
          ],
          [
           "Edward Otho Cresap Ord II"
          ],
          [
           "George Barret Jr."
          ],
          [
           "George Barret Sr."
          ],
          [
           "Henry Ives Cobb Jr."
          ],
          [
           "John Byrne (English artist)"
          ],
          [
           "John Frederick Herring Jr."
          ],
          [
           "John Frederick Herring Sr."
          ],
          [
           "A. B. Jackson (painter)"
          ],
          [
           "A. J. Casson"
          ],
          [
           "A. R. Middleton Todd"
          ],
          [
           "A.D.M. Cooper"
          ],
          [
           "Aaron Bohrod"
          ],
          [
           "Aaron Douglas (artist)"
          ],
          [
           "Aaron Nagel"
          ],
          [
           "Abbott Handerson Thayer"
          ],
          [
           "Abdullah Gërguri"
          ],
          [
           "Abdur Rahman Chughtai"
          ],
          [
           "Abidin Dino"
          ],
          [
           "Abraham Begeyn"
          ],
          [
           "Abraham Bloemaert"
          ],
          [
           "Abraham Bosschaert"
          ],
          [
           "Abraham de Vries (painter)"
          ],
          [
           "Abraham Hondius"
          ],
          [
           "Abraham Mignon"
          ],
          [
           "Abraham Storck"
          ],
          [
           "Abraham van Beijeren"
          ],
          [
           "Abraham van Calraet"
          ],
          [
           "Abraham Lambertsz van den Tempel"
          ],
          [
           "Abraham Willaerts"
          ],
          [
           "Abram Arkhipov"
          ],
          [
           "Achille Leonardi"
          ],
          [
           "Ada Gladys Killins"
          ],
          [
           "Ada Hill Walker"
          ],
          [
           "Adam Bruce Thomson"
          ],
          [
           "Albert Chmielowski"
          ],
          [
           "Adam Keel"
          ],
          [
           "Adam Elsheimer"
          ],
          [
           "Ádám Mányoki"
          ],
          [
           "Adam Marczyński"
          ],
          [
           "Adam Pynacker"
          ],
          [
           "Adam Saks"
          ],
          [
           "Adam Szentpétery"
          ],
          [
           "Adam Willaerts"
          ],
          [
           "Adélaïde Labille-Guiard"
          ],
          [
           "Adélaïde Victoire Hall"
          ],
          [
           "Adolf Bierbrauer"
          ],
          [
           "Adolf Born"
          ],
          [
           "Adolf Dietrich"
          ],
          [
           "Adolf Fényes"
          ],
          [
           "Adolf Hirémy-Hirschl"
          ],
          [
           "Adolf Hölzel"
          ],
          [
           "Adolf Schrödter"
          ],
          [
           "Adolf Ulrik Wertmüller"
          ],
          [
           "Adolf Wölfli"
          ],
          [
           "Adolfo Müller-Ury"
          ],
          [
           "Adolph Gottlieb"
          ],
          [
           "Adolph Menzel"
          ],
          [
           "Adolphe Willette"
          ],
          [
           "Adriaen Brouwer"
          ],
          [
           "Adriaen Coorte"
          ],
          [
           "Adriaen Hanneman"
          ],
          [
           "Adriaen Isenbrandt"
          ],
          [
           "Adriaen van de Velde"
          ],
          [
           "Adriaen van de Venne"
          ],
          [
           "Adriaen van der Werff"
          ],
          [
           "Adriaen van Ostade"
          ],
          [
           "Adrian Zingg"
          ],
          [
           "Adrienn Henczné Deák"
          ],
          [
           "Aelbert Cuyp"
          ],
          [
           "Aert de Gelder"
          ],
          [
           "Aert van der Neer"
          ],
          [
           "Aertgen van Leyden"
          ],
          [
           "Afewerk Tekle"
          ],
          [
           "Agnes Lawrence Pelton"
          ],
          [
           "Agnes Martin"
          ],
          [
           "Bronzino"
          ],
          [
           "Agnolo Gaddi"
          ],
          [
           "Agostino Carracci"
          ],
          [
           "Aguri Uchida"
          ],
          [
           "Ahmed Yacoubi"
          ],
          [
           "Ai Xuan"
          ],
          [
           "Aileen Eagleton"
          ],
          [
           "Aimé Barraud"
          ],
          [
           "Aimitsu"
          ],
          [
           "Akseli Gallen-Kallela"
          ],
          [
           "Aladár Körösfői-Kriesch"
          ],
          [
           "Alain Tasso"
          ],
          [
           "Alan Sutherland (artist)"
          ],
          [
           "Alasdair Grant Taylor"
          ],
          [
           "Alasdair Gray"
          ],
          [
           "Albert Anker"
          ],
          [
           "Albert Bertelsen"
          ],
          [
           "Albert Bierstadt"
          ],
          [
           "Albert Dubois-Pillet"
          ],
          [
           "Albert Edelfelt"
          ],
          [
           "Albert Gleizes"
          ],
          [
           "Albert Guillaume"
          ],
          [
           "Albert Henry Krehbiel"
          ],
          [
           "Albert Irvin"
          ],
          [
           "Albert J. Welti"
          ],
          [
           "Albert Joseph Moore"
          ],
          [
           "Albert von Keller"
          ],
          [
           "Albert Kotin"
          ],
          [
           "Albert Marquet"
          ],
          [
           "Albert Namatjira"
          ],
          [
           "Albert Nemethy"
          ],
          [
           "Albert Paris Gütersloh"
          ],
          [
           "Albert Swinden"
          ],
          [
           "Albert Welti"
          ],
          [
           "Alberto Burri"
          ],
          [
           "Alberto Giacometti"
          ],
          [
           "Alberto Morrocco"
          ],
          [
           "Alberto Sughi"
          ],
          [
           "Albin Egger-Lienz"
          ],
          [
           "Albrecht Altdorfer"
          ],
          [
           "Albrecht Dürer"
          ],
          [
           "Alejandro Obregón"
          ],
          [
           "Aleksander Gierymski"
          ],
          [
           "Aleksander Gine"
          ],
          [
           "Aleksander Kobzdej"
          ],
          [
           "Aleksander Kotsis"
          ],
          [
           "Aleksander Orłowski"
          ],
          [
           "Aleksandr Gerasimov (painter)"
          ],
          [
           "Aleksandr Laktionov (painter)"
          ],
          [
           "Alén Diviš"
          ],
          [
           "Alessandro Allori"
          ],
          [
           "Galli da Bibiena family"
          ],
          [
           "Alesso Baldovinetti"
          ],
          [
           "Alex Katz"
          ],
          [
           "Alex Ross"
          ],
          [
           "Alexander Brook"
          ],
          [
           "Alexander Calder"
          ],
          [
           "Alexander Carse"
          ],
          [
           "Aleksandr Deyneka"
          ],
          [
           "Alexander Andreyevich Ivanov"
          ],
          [
           "Alexander Johnston (artist)"
          ],
          [
           "Alexander Kanoldt"
          ],
          [
           "Alexander Kucharsky"
          ],
          [
           "Alexander Litovchenko"
          ],
          [
           "Alexander Mann"
          ],
          [
           "Alexander Milne Calder"
          ],
          [
           "Alexander Nasmyth"
          ],
          [
           "Alexander Robertson (artist)"
          ],
          [
           "Alexander Rodchenko"
          ],
          [
           "Alexander Roslin"
          ],
          [
           "Alexander Runciman"
          ],
          [
           "Alexander Scott (painter)"
          ],
          [
           "Alexander Stirling Calder"
          ],
          [
           "Aleksandr V. Kuprin"
          ],
          [
           "Alexandre Benois"
          ],
          [
           "Alexandre Cabanel"
          ],
          [
           "Alexandre Falguière"
          ],
          [
           "Alexandre-Évariste Fragonard"
          ],
          [
           "Alexei Savrasov"
          ],
          [
           "Alexej von Jawlensky"
          ],
          [
           "Aleksey Merinov"
          ],
          [
           "Alexey Venetsianov"
          ],
          [
           "Alexis Grimou"
          ],
          [
           "Alexis Simon Belle"
          ],
          [
           "Alfons Karpiński"
          ],
          [
           "Alfons von Czibulka"
          ],
          [
           "Alfons Walde"
          ],
          [
           "Alfred East"
          ],
          [
           "Alfred Edward Chalon"
          ],
          [
           "Alfred Janes"
          ],
          [
           "Alfred Jensen"
          ],
          [
           "Alfred Krupa"
          ],
          [
           "Alfred L. Copley"
          ],
          [
           "Alfred Leslie"
          ],
          [
           "Alfred Leyman"
          ],
          [
           "Alfred Manessier"
          ],
          [
           "Alfred Sisley"
          ],
          [
           "Alfred Thompson Bricher"
          ],
          [
           "Alfred Wallis"
          ],
          [
           "Alfred William Finch"
          ],
          [
           "Alfredo Volpi"
          ],
          [
           "Algernon Talmage"
          ],
          [
           "Alice Bailly"
          ],
          [
           "Alice Mason"
          ],
          [
           "Alice Neel"
          ],
          [
           "Alice Prin"
          ],
          [
           "Alison Debenham"
          ],
          [
           "Alison Geissler"
          ],
          [
           "Alison Kinnaird"
          ],
          [
           "Alison Watt (Scottish painter)"
          ],
          [
           "Allaert van Everdingen"
          ],
          [
           "Allan Brooks"
          ],
          [
           "Allan Linder"
          ],
          [
           "Allan Ramsay (artist)"
          ],
          [
           "Allen Butler Talcott"
          ],
          [
           "Allen Jones (artist)"
          ],
          [
           "Alma Thomas"
          ],
          [
           "Almada Negreiros"
          ],
          [
           "José Ferraz de Almeida Júnior"
          ],
          [
           "Alonso Vázquez"
          ],
          [
           "Aloysius O'Kelly"
          ],
          [
           "Alphonse Legros"
          ],
          [
           "Alphonse Mucha"
          ],
          [
           "Alson S. Clark"
          ],
          [
           "Altichiero"
          ],
          [
           "Alton Tobey"
          ],
          [
           "Altoon Sultan"
          ],
          [
           "Alvan Fisher"
          ],
          [
           "Amadeo de Souza Cardoso"
          ],
          [
           "Amalia Lindegren"
          ],
          [
           "Ambreen Butt"
          ],
          [
           "Ambrose McCarthy Patterson"
          ],
          [
           "Ambrosius Bosschaert"
          ],
          [
           "Ambrosius Bosschaert II"
          ],
          [
           "Ambrosius Holbein"
          ],
          [
           "Amédée Ozenfant"
          ],
          [
           "Amedeo Modigliani"
          ],
          [
           "Amelia Peláez"
          ],
          [
           "Amelia Robertson Hill"
          ],
          [
           "Americo Makk"
          ],
          [
           "Ammi Phillips"
          ],
          [
           "Amos Ferguson"
          ],
          [
           "An Gyeon"
          ],
          [
           "An Zhengwen"
          ],
          [
           "Ancell Stronach"
          ],
          [
           "Anders Zorn"
          ],
          [
           "Andor Basch"
          ],
          [
           "André Bauchant"
          ],
          [
           "André Beauneveu"
          ],
          [
           "André Charles Biéler"
          ],
          [
           "Andre de Krayewski"
          ],
          [
           "André Derain"
          ],
          [
           "André Lhote"
          ],
          [
           "André Pijet"
          ],
          [
           "André Thomkins"
          ],
          [
           "Andrea del Sarto"
          ],
          [
           "Andrea del Verrocchio"
          ],
          [
           "Andrea Mantegna"
          ],
          [
           "Orcagna"
          ],
          [
           "Andrea Pozzo"
          ],
          [
           "Andreas Achenbach"
          ],
          [
           "Andrée Ruellan"
          ],
          [
           "Andrei Kolkoutine"
          ],
          [
           "Andrei Rublev"
          ],
          [
           "Andrei Ryabushkin"
          ],
          [
           "Andrew Allan (artist)"
          ],
          [
           "Andrew Bell (engraver)"
          ],
          [
           "Andrew Geddes (artist)"
          ],
          [
           "Andrew Henderson (portrait painter)"
          ],
          [
           "Andrew Law (artist)"
          ],
          [
           "Andrew Robertson (miniaturist)"
          ],
          [
           "Andrew Stevovich"
          ],
          [
           "Andrew Wyeth"
          ],
          [
           "Andrey Esionov"
          ],
          [
           "Andrey Yefimovich Martynov"
          ],
          [
           "Andries Both"
          ],
          [
           "Andries Jacobsz Stock"
          ],
          [
           "Andrzej Pronaszko"
          ],
          [
           "Andrzej Wróblewski"
          ],
          [
           "Andy Warhol"
          ],
          [
           "Aneurin Jones"
          ],
          [
           "Ángel Botello"
          ],
          [
           "Angelica Kauffman"
          ],
          [
           "Aníbal Villacís"
          ],
          [
           "Aniello Falcone"
          ],
          [
           "Anita Malfatti"
          ],
          [
           "Thetis Blacker"
          ],
          [
           "Anna Ancher"
          ],
          [
           "Anna Boch"
          ],
          [
           "Anna Findlay"
          ],
          [
           "Anna Füssli"
          ],
          [
           "Anna Hotchkis"
          ],
          [
           "Anna Katharina Block"
          ],
          [
           "Anna Barbara Abesch"
          ],
          [
           "Annabel Eyres"
          ],
          [
           "Annabel Kidston"
          ],
          [
           "Anne Dunn"
          ],
          [
           "Anne Nasmyth"
          ],
          [
           "Anne Redpath"
          ],
          [
           "Anne Rigney"
          ],
          [
           "Anne Ryan"
          ],
          [
           "Anne Said"
          ],
          [
           "Anne Savage (artist)"
          ],
          [
           "Annibale Carracci"
          ],
          [
           "Annie Abernethie Pirie Quibell"
          ],
          [
           "Annie Rose Laing"
          ],
          [
           "Anselm Kiefer"
          ],
          [
           "Anthonie Palamedesz."
          ],
          [
           "Anthony Angarola"
          ],
          [
           "Anthony Devas"
          ],
          [
           "Anthony van Dyck"
          ],
          [
           "Antoine Ignace Melling"
          ],
          [
           "Antoine Wiertz"
          ],
          [
           "Anton Ažbe"
          ],
          [
           "Anton Graff"
          ],
          [
           "Anton Lehmden"
          ],
          [
           "Anton Mauve"
          ],
          [
           "Anton Möller"
          ],
          [
           "Anton Räderscheidt"
          ],
          [
           "Anton Solomoukha"
          ],
          [
           "Antonello da Messina"
          ],
          [
           "Antoni Brodowski"
          ],
          [
           "Antoni Pitxot"
          ],
          [
           "Antoni Tàpies"
          ],
          [
           "Antonín Chittussi"
          ],
          [
           "Antonín Slavíček"
          ],
          [
           "Antonio Canova"
          ],
          [
           "Antonio Cavallucci"
          ],
          [
           "Antonio Ciseri"
          ],
          [
           "Antonio da Correggio"
          ],
          [
           "Antonio de La Gándara"
          ],
          [
           "Antonio Donghi"
          ],
          [
           "Antônio Parreiras"
          ],
          [
           "Antonio Rotta"
          ],
          [
           "Antonio Saura"
          ],
          [
           "Apelles"
          ],
          [
           "Apollinary Vasnetsov"
          ],
          [
           "Arabella Rankin"
          ],
          [
           "Araceli Gilbert"
          ],
          [
           "Aramenta Dianthe Vail"
          ],
          [
           "Archibald Robertson (painter)"
          ],
          [
           "Archibald Skirving"
          ],
          [
           "Archibald Standish Hartrick"
          ],
          [
           "Arent Arentsz"
          ],
          [
           "Arie Smit"
          ],
          [
           "Aristide Maillol"
          ],
          [
           "Arkhip Kuindzhi"
          ],
          [
           "Arlington Nelson Lindenmuth"
          ],
          [
           "Armand Guillaumin"
          ],
          [
           "Armin Baumgarten"
          ],
          [
           "Armin Hansen"
          ],
          [
           "Arnold Blanch"
          ],
          [
           "Arnold Böcklin"
          ],
          [
           "Arnold Bronckorst"
          ],
          [
           "Arnold Brügger"
          ],
          [
           "Arnold Franz Brasz"
          ],
          [
           "Arnold Mesches"
          ],
          [
           "Arshile Gorky"
          ],
          [
           "Art & Language"
          ],
          [
           "Art Brenner"
          ],
          [
           "Art Frahm"
          ],
          [
           "Art Green (artist)"
          ],
          [
           "Artemisia Gentileschi"
          ],
          [
           "Arthur Beecher Carles"
          ],
          [
           "Arthur Boyd"
          ],
          [
           "Arthur Hughes (artist)"
          ],
          [
           "Arthur Lismer"
          ],
          [
           "Arthur Melville"
          ],
          [
           "Arthur Merric Boyd"
          ],
          [
           "Arthur Pan"
          ],
          [
           "Arthur Quartley"
          ],
          [
           "Arthur Sarkissian"
          ],
          [
           "Arthur Streeton"
          ],
          [
           "Arthur Webster Emerson"
          ],
          [
           "Artur Grottger"
          ],
          [
           "Arturo Rivera"
          ],
          [
           "Arvid Nyholm"
          ],
          [
           "Asai Chū"
          ],
          [
           "Asger Jorn"
          ],
          [
           "Ásgrímur Jónsson"
          ],
          [
           "Asher Brown Durand"
          ],
          [
           "Attila Meszlenyi"
          ],
          [
           "August Lemmer"
          ],
          [
           "August Macke"
          ],
          [
           "August Querfurt"
          ],
          [
           "Auguste Baud-Bovy"
          ],
          [
           "Auguste Herbin"
          ],
          [
           "Augustin Meinrad Bächtiger"
          ],
          [
           "Augustus Dunbier"
          ],
          [
           "Augustus Earle"
          ],
          [
           "Augustus John"
          ],
          [
           "Augustus Vincent Tack"
          ],
          [
           "Augustyn Mirys"
          ],
          [
           "Aurél Bernáth"
          ],
          [
           "Auseklis Ozols"
          ],
          [
           "Austin Osman Spare"
          ],
          [
           "Avgust Černigoj"
          ],
          [
           "Avigdor Arikha"
          ],
          [
           "Awataguchi Takamitsu"
          ],
          [
           "Ay-O"
          ],
          [
           "Aya Goda"
          ],
          [
           "Baiōken Eishun"
          ],
          [
           "Balázs Diószegi"
          ],
          [
           "Balcomb Greene"
          ],
          [
           "Bálint Kiss"
          ],
          [
           "Balthasar van der Ast"
          ],
          [
           "Balthus"
          ],
          [
           "Bapu (director)"
          ],
          [
           "Barbados"
          ],
          [
           "Barbara Balmer"
          ],
          [
           "Barbara Greg"
          ],
          [
           "Barbara Longhi"
          ],
          [
           "Barbara Nasmyth"
          ],
          [
           "Barbara Swan"
          ],
          [
           "Barent Fabritius"
          ],
          [
           "Barnett Newman"
          ],
          [
           "Barthel Bruyn the Elder"
          ],
          [
           "Barthel Bruyn the Younger"
          ],
          [
           "Barthélemy d'Eyck"
          ],
          [
           "Barthélemy Menn"
          ],
          [
           "Bartholomeus Breenbergh"
          ],
          [
           "Bartholomeus Strobel"
          ],
          [
           "Bartholomeus van Bassen"
          ],
          [
           "Bartholomeus van der Helst"
          ],
          [
           "Bartolomé Esteban Murillo"
          ],
          [
           "Bartolomeo Cesi"
          ],
          [
           "Bartolomeo Vivarini"
          ],
          [
           "Basil Blackshaw"
          ],
          [
           "Basuki Abdullah"
          ],
          [
           "Beatrice Ethel Lithiby"
          ],
          [
           "Beatrice Huntington"
          ],
          [
           "Beatrix Potter"
          ],
          [
           "Beauford Delaney"
          ],
          [
           "Bedwyr Williams"
          ],
          [
           "Béla Apáti Abkarovics"
          ],
          [
           "Bela Čikoš Sesija"
          ],
          [
           "Béla Czóbel"
          ],
          [
           "Béla Iványi-Grünwald"
          ],
          [
           "Béla Kondor"
          ],
          [
           "Béla Nagy Abodi"
          ],
          [
           "Béla Pállik"
          ],
          [
           "Ben Avram"
          ],
          [
           "Ben Enwonwu"
          ],
          [
           "Ben Nicholson"
          ],
          [
           "Bencho Obreshkov"
          ],
          [
           "Béni Ferenczy"
          ],
          [
           "Benito Quinquela Martín"
          ],
          [
           "Benjamin Block"
          ],
          [
           "Benjamin Gerritsz. Cuyp"
          ],
          [
           "Benjamin West"
          ],
          [
           "Benjamin Williams Leader"
          ],
          [
           "Bernard Accama"
          ],
          [
           "Bernard Buffet"
          ],
          [
           "Bernard Fleetwood-Walker"
          ],
          [
           "Bernard Meninsky"
          ],
          [
           "Bernard van Orley"
          ],
          [
           "Bernard Walter Evans"
          ],
          [
           "Bernardino Mei"
          ],
          [
           "Bernardo Bellotto"
          ],
          [
           "Bernardo Cavallino"
          ],
          [
           "Bernardo Daddi"
          ],
          [
           "Bernardo Strozzi"
          ],
          [
           "Bernat Sanjuan"
          ],
          [
           "Bernd Fasching"
          ],
          [
           "Bernt Tunold"
          ],
          [
           "Bertalan Karlovszky"
          ],
          [
           "Bertalan Pór"
          ],
          [
           "Bertalan Székely"
          ],
          [
           "Berthe Morisot"
          ],
          [
           "Bertram Brooker"
          ],
          [
           "Bessie MacNicol"
          ],
          [
           "Bessie Wheeler"
          ],
          [
           "Beta Vukanović"
          ],
          [
           "Bettina Heinen-Ayech"
          ],
          [
           "Betty Churcher"
          ],
          [
           "Betty Merken"
          ],
          [
           "Betye Saar"
          ],
          [
           "Bholekar Srihari"
          ],
          [
           "Bian Jingzhao"
          ],
          [
           "Bian Shoumin"
          ],
          [
           "Bill Lewis"
          ],
          [
           "Bill Traylor"
          ],
          [
           "Billie Waters"
          ],
          [
           "Billy Childish"
          ],
          [
           "Bjørn Wiinblad"
          ],
          [
           "Blanche Hoschedé Monet"
          ],
          [
           "Bob Ross"
          ],
          [
           "Bob Thompson (painter)"
          ],
          [
           "Boetius à Bolswert"
          ],
          [
           "Bogi Fabian"
          ],
          [
           "Bohumil Kubišta"
          ],
          [
           "Boleslaw Cybis"
          ],
          [
           "Boris Kustodiev"
          ],
          [
           "Boris Vladimirski"
          ],
          [
           "Bouchta El Hayani"
          ],
          [
           "Božidar Jakac"
          ],
          [
           "Bracha L. Ettinger"
          ],
          [
           "Bradley Walker Tomlin"
          ],
          [
           "Brenda Chamberlain (artist)"
          ],
          [
           "Brett Whiteley"
          ],
          [
           "Breyten Breytenbach"
          ],
          [
           "Brian Alfred"
          ],
          [
           "Brian Dunlop"
          ],
          [
           "Brian Froud"
          ],
          [
           "Brian Thomas (church artist)"
          ],
          [
           "Brice Marden"
          ],
          [
           "Bridget Riley"
          ],
          [
           "Brigid Derham"
          ],
          [
           "Bruce McLean"
          ],
          [
           "Bruce Nauman"
          ],
          [
           "Bruce Onobrakpeya"
          ],
          [
           "Bruno Liljefors"
          ],
          [
           "Bryan Organ"
          ],
          [
           "Byeon Sang-byeok"
          ],
          [
           "Byron Galvez"
          ],
          [
           "Caesar Andrade Faini"
          ],
          [
           "Caesar van Everdingen"
          ],
          [
           "Cagnaccio di San Pietro"
          ],
          [
           "Camille Bombois"
          ],
          [
           "Camille Bouvagne"
          ],
          [
           "Camille Pissarro"
          ],
          [
           "Camille Souter"
          ],
          [
           "Camilo Egas"
          ],
          [
           "Camilo Mori"
          ],
          [
           "Canaletto"
          ],
          [
           "Cándido Bidó"
          ],
          [
           "Cándido López"
          ],
          [
           "Candido Portinari"
          ],
          [
           "Cao Buxing"
          ],
          [
           "Cao Zhibai"
          ],
          [
           "Carel Fabritius"
          ],
          [
           "Carel Weight"
          ],
          [
           "Carel Willink"
          ],
          [
           "Carey Morris"
          ],
          [
           "Carl Arnold Gonzenbach"
          ],
          [
           "Carl Eugen Keel"
          ],
          [
           "Carl Eytel"
          ],
          [
           "Carl Frederik von Breda"
          ],
          [
           "Carl Gustaf Pilo"
          ],
          [
           "Carl Bloch"
          ],
          [
           "Carl Hoppe"
          ],
          [
           "Carl Larsson"
          ],
          [
           "Carl Morris (painter)"
          ],
          [
           "Carl Rahl"
          ],
          [
           "Carl Spitzweg"
          ],
          [
           "Carl Walter Liner"
          ],
          [
           "Carl-Henning Pedersen"
          ],
          [
           "Carle Hessay"
          ],
          [
           "Carlo Carlone"
          ],
          [
           "Carlo Carrà"
          ],
          [
           "Carlo Crivelli"
          ],
          [
           "Carlo Maderno"
          ],
          [
           "Carlo Martini"
          ],
          [
           "Carlo Mense"
          ],
          [
           "Carlo Randanini"
          ],
          [
           "Carlos Berlanga"
          ],
          [
           "Carlos Catasse"
          ],
          [
           "Carlos Enríquez Gómez"
          ],
          [
           "Carlos Francisco Chang Marín"
          ],
          [
           "Carlos Schwabe"
          ],
          [
           "Carlos Trillo Name"
          ],
          [
           "Caro Niederer"
          ],
          [
           "Carol Bove"
          ],
          [
           "Carol Sutton (artist)"
          ],
          [
           "Caroline Chariot-Dayez"
          ],
          [
           "Caroline Gotch"
          ],
          [
           "Caroline Lucy Scott"
          ],
          [
           "Caroline Mytinger"
          ],
          [
           "Carpoforo Tencalla"
          ],
          [
           "Caspar David Friedrich"
          ],
          [
           "Caspar Netscher"
          ],
          [
           "Caspar van Wittel"
          ],
          [
           "Caspar Wolf"
          ],
          [
           "Cassandra Austen"
          ],
          [
           "Cassius Marcellus Coolidge"
          ],
          [
           "Caterina Tarabotti"
          ],
          [
           "Catrin G. Grosse"
          ],
          [
           "Cecile Walton"
          ],
          [
           "Cecilia Beaux"
          ],
          [
           "Cecily Brown"
          ],
          [
           "Ceferí Olivé"
          ],
          [
           "Celia Fiennes (artist)"
          ],
          [
           "Celia Frances Bedford"
          ],
          [
           "Ceri Richards"
          ],
          [
           "Cerith Wyn Evans"
          ],
          [
           "Chafik Charobim"
          ],
          [
           "Chaïm Soutine"
          ],
          [
           "Chang Dai-chien"
          ],
          [
           "Chantal Joffe"
          ],
          [
           "Charles Alphonse du Fresnoy"
          ],
          [
           "Charles Alston"
          ],
          [
           "Charles Angrand"
          ],
          [
           "Charles Billich"
          ],
          [
           "Charles Bird King"
          ],
          [
           "Charles Blackman"
          ],
          [
           "Charles Codman"
          ],
          [
           "Charles Conder"
          ],
          [
           "Charles Crodel"
          ],
          [
           "Charles Cundall"
          ],
          [
           "Charles Demuth"
          ],
          [
           "Charles E. Burchfield"
          ],
          [
           "Charles Fremont Conner"
          ],
          [
           "Charles Furneaux"
          ],
          [
           "Charles Ginner"
          ],
          [
           "Charles Gleyre"
          ],
          [
           "Charles Herbert Woodbury"
          ],
          [
           "Charles Harold Davis"
          ],
          [
           "Charles Haslewood Shannon"
          ],
          [
           "Charles Hinman"
          ],
          [
           "Charles Hopkinson"
          ],
          [
           "Charles Joshua Chaplin"
          ],
          [
           "Charles Le Brun"
          ],
          [
           "Charles Le Roux"
          ],
          [
           "Charles Mahoney (artist)"
          ],
          [
           "Charles Marion Russell"
          ],
          [
           "Charles McAuley"
          ],
          [
           "Charles Mozley"
          ],
          [
           "Charles R. Bunnell"
          ],
          [
           "Charles Rennie Mackintosh"
          ],
          [
           "Charles Ricketts"
          ],
          [
           "Charles Roka"
          ],
          [
           "Charles Rollier"
          ],
          [
           "Charles S. Kaelin"
          ],
          [
           "Charles Thomson (artist)"
          ],
          [
           "Charles Uzzell-Edwards"
          ],
          [
           "Charles W. Bartlett"
          ],
          [
           "Charles Williams (artist)"
          ],
          [
           "Charles Willson Peale"
          ],
          [
           "Charles-Amédée-Philippe van Loo"
          ],
          [
           "Charles-André van Loo"
          ],
          [
           "Charles-François Daubigny"
          ],
          [
           "Charlotte Nasmyth"
          ],
          [
           "Charmion Von Wiegand"
          ],
          [
           "Chen Chi"
          ],
          [
           "Chen Chun"
          ],
          [
           "Chen Hong (painter)"
          ],
          [
           "Chen Hongshou"
          ],
          [
           "Chen Jiru"
          ],
          [
           "Chen Lin (painter)"
          ],
          [
           "Chen Lu (painter)"
          ],
          [
           "Chen Rong (painter)"
          ],
          [
           "Chen Yifei"
          ],
          [
           "Cheng Jiasui"
          ],
          [
           "Cheng Shifa"
          ],
          [
           "Cheng Zhengkui"
          ],
          [
           "Cherryl Fountain"
          ],
          [
           "Chica Macnab"
          ],
          [
           "Chiho Aoshima"
          ],
          [
           "Childe Hassam"
          ],
          [
           "Chinwe Chukwuogo-Roy"
          ],
          [
           "Chizuko Yoshida"
          ],
          [
           "Choe Buk"
          ],
          [
           "Christabel Dennison"
          ],
          [
           "Christen Dalsgaard"
          ],
          [
           "Christen Købke"
          ],
          [
           "Christian August Lorentzen"
          ],
          [
           "Christian Hilfgott Brand"
          ],
          [
           "Christian Jane Fergusson"
          ],
          [
           "Christian Krohg"
          ],
          [
           "Christian Rohlfs"
          ],
          [
           "Christo and Jeanne-Claude"
          ],
          [
           "Christoffel van den Berghe"
          ],
          [
           "Christoffer Wilhelm Eckersberg"
          ],
          [
           "Christoph Amberger"
          ],
          [
           "Christoph Ludwig Agricola"
          ],
          [
           "Christopher Perkins (artist)"
          ],
          [
           "Christopher Williams (Welsh artist)"
          ],
          [
           "Christopher Wood (painter)"
          ],
          [
           "Chuck Close"
          ],
          [
           "Cicely Hey"
          ],
          [
           "Cimabue"
          ],
          [
           "Cindy Wright"
          ],
          [
           "Claes Corneliszoon Moeyaert"
          ],
          [
           "Claes Jansz. Visscher"
          ],
          [
           "Claire Dalby"
          ],
          [
           "Claire Falkenstein"
          ],
          [
           "Clara Weaver Parrish"
          ],
          [
           "Clarence Holbrook Carter"
          ],
          [
           "Clarice Beckett"
          ],
          [
           "Clark Voorhees"
          ],
          [
           "Claude Bonin-Pissarro"
          ],
          [
           "Claude Lorrain"
          ],
          [
           "Claude Monet"
          ],
          [
           "Claude Rogers (artist)"
          ],
          [
           "Claudio Detto"
          ],
          [
           "Clément Serveau"
          ],
          [
           "Cleve Gray"
          ],
          [
           "Clifford Ellis"
          ],
          [
           "Clifford Ross"
          ],
          [
           "Clovis Trouille"
          ],
          [
           "Clyfford Still"
          ],
          [
           "Colijn de Coter"
          ],
          [
           "Colin Campbell Cooper"
          ],
          [
           "Colin Gill"
          ],
          [
           "Colin Hayes (artist)"
          ],
          [
           "Colin McCahon"
          ],
          [
           "Colin Middleton"
          ],
          [
           "Colin Moss"
          ],
          [
           "Conrad Marca-Relli"
          ],
          [
           "Conroy Maddox"
          ],
          [
           "Constance Copeman"
          ],
          [
           "Constance Gordon-Cumming"
          ],
          [
           "Constance-Anne Parker"
          ],
          [
           "Constant Nieuwenhuys"
          ],
          [
           "Constant Permeke"
          ],
          [
           "Constantin Hansen"
          ],
          [
           "Constantine Andreou"
          ],
          [
           "Coppo di Marcovaldo"
          ],
          [
           "Cor Melchers"
          ],
          [
           "Corneille Guillaume Beverloo"
          ],
          [
           "Cornelia MacIntyre Foley"
          ],
          [
           "Cornelis Anthonisz."
          ],
          [
           "Cornelis Bisschop"
          ],
          [
           "Cornelis Claesz van Wieringen"
          ],
          [
           "Cornelis de Heem"
          ],
          [
           "Cornelis de Man"
          ],
          [
           "Cornelis Dusart"
          ],
          [
           "Cornelis Engebrechtsz."
          ],
          [
           "Cornelis Pietersz Bega"
          ],
          [
           "Cornelis Saftleven"
          ],
          [
           "Cornelis van Haarlem"
          ],
          [
           "Cornelis van Poelenburgh"
          ],
          [
           "Cornelis Verbeeck"
          ],
          [
           "Cornelis Vroom"
          ],
          [
           "Cosmo Alexander"
          ],
          [
           "Cristache Gheorghiu"
          ],
          [
           "Cristofano Allori"
          ],
          [
           "Cui Bai"
          ],
          [
           "Cui Zizhong"
          ],
          [
           "Cuno Amiet"
          ],
          [
           "Cy Twombly"
          ],
          [
           "D. Howard Hitchcock"
          ],
          [
           "Dahlov Ipcar"
          ],
          [
           "Dai Jin"
          ],
          [
           "Dai Xi"
          ],
          [
           "Damien Hirst"
          ],
          [
           "Dan Christensen"
          ],
          [
           "Daniel Chodowiecki"
          ],
          [
           "Daniel Garber"
          ],
          [
           "Daniel Maclise"
          ],
          [
           "Daniël Mijtens"
          ],
          [
           "Daniel Schultz"
          ],
          [
           "Daniel Seghers"
          ],
          [
           "Daniel Taylor (painter)"
          ],
          [
           "Dante Gabriel Rossetti"
          ],
          [
           "Daphne Allen"
          ],
          [
           "Daphne Fedarb"
          ],
          [
           "Daphne McClure"
          ],
          [
           "David Alfaro Siqueiros"
          ],
          [
           "David Allan (painter)"
          ],
          [
           "David Annand"
          ],
          [
           "David Bailly"
          ],
          [
           "David Bomberg"
          ],
          [
           "David Boyd (artist)"
          ],
          [
           "David Brewster (painter)"
          ],
          [
           "David Budd"
          ],
          [
           "David Burton-Richardson"
          ],
          [
           "David Cooke Gibson"
          ],
          [
           "David Diao"
          ],
          [
           "David Donaldson (artist)"
          ],
          [
           "David Dougal Williams"
          ],
          [
           "David Eugene Henry"
          ],
          [
           "David G. Sorensen"
          ],
          [
           "David Garner (artist)"
          ],
          [
           "David Gilmour Blythe"
          ],
          [
           "David Hockney"
          ],
          [
           "David Imms"
          ],
          [
           "David Macbeth Sutherland"
          ],
          [
           "David Michie"
          ],
          [
           "David Octavius Hill"
          ],
          [
           "David Park (painter)"
          ],
          [
           "David Paton (artist)"
          ],
          [
           "David Ramsay Hay"
          ],
          [
           "David Roberts (painter)"
          ],
          [
           "David Simpson (artist)"
          ],
          [
           "David Teniers III"
          ],
          [
           "David Teniers the Elder"
          ],
          [
           "David Teniers the Younger"
          ],
          [
           "David Watson Stevenson"
          ],
          [
           "David Wilkie (artist)"
          ],
          [
           "David Wojnarowicz"
          ],
          [
           "David Young Cameron"
          ],
          [
           "De Hirsh Margules"
          ],
          [
           "Dechko Uzunov"
          ],
          [
           "Dee Whitcomb"
          ],
          [
           "Delmer J. Yoakum"
          ],
          [
           "Demetrios Farmakopoulos"
          ],
          [
           "Denis Eden"
          ],
          [
           "Dennis Ashbaugh"
          ],
          [
           "Dennis Flanders"
          ],
          [
           "Dennis H. Farber"
          ],
          [
           "Dennis Miller Bunker"
          ],
          [
           "Derek Chittock"
          ],
          [
           "Derek Hill (painter)"
          ],
          [
           "Derek Jarman"
          ],
          [
           "Didier Mouron"
          ],
          [
           "Diego Giacometti"
          ],
          [
           "Diego Rivera"
          ],
          [
           "Diego Velázquez"
          ],
          [
           "Dieric Bouts"
          ],
          [
           "Dietmar Damerau"
          ],
          [
           "Dimitre Mehandjiysky"
          ],
          [
           "Ding Guanpeng"
          ],
          [
           "Ding Yunpeng"
          ],
          [
           "Dionisio Baixeras Verdaguer"
          ],
          [
           "Dionisius"
          ],
          [
           "Dirck de Bray"
          ],
          [
           "Dirck de Quade van Ravesteyn"
          ],
          [
           "Dirck Hals"
          ],
          [
           "Dirck van Baburen"
          ],
          [
           "Dirck van Delen"
          ],
          [
           "Dirck van der Lisse"
          ],
          [
           "Dirk Crabeth"
          ],
          [
           "Dirck Helmbreker"
          ],
          [
           "Ditlev Blunck"
          ],
          [
           "Dmitry Levitzky"
          ],
          [
           "Doc Hammer"
          ],
          [
           "Dod Procter"
          ],
          [
           "Domenichino"
          ],
          [
           "Domenico Beccafumi"
          ],
          [
           "Domenico Ghirlandaio"
          ],
          [
           "Domenico Induno"
          ],
          [
           "Domenico Pozzi"
          ],
          [
           "Domenico Quaglio the Younger"
          ],
          [
           "Dominican Republic"
          ],
          [
           "Don Eddy"
          ],
          [
           "Don Reichert"
          ],
          [
           "Donald Judd"
          ],
          [
           "Donald Roller Wilson"
          ],
          [
           "Dong Qichang"
          ],
          [
           "Dong Yuan"
          ],
          [
           "Dora Carrington"
          ],
          [
           "Dóra Keresztes"
          ],
          [
           "Doris Blair"
          ],
          [
           "Doris Boulton-Maude"
          ],
          [
           "Dorning Rasbotham"
          ],
          [
           "Dorothea Braby"
          ],
          [
           "Dorothea Tanning"
          ],
          [
           "Dorothea Warren O'Hara"
          ],
          [
           "Dorothy Bradford (artist)"
          ],
          [
           "Dorothy Burroughes"
          ],
          [
           "Dorothy Coke"
          ],
          [
           "Dorothy Elizabeth Bradford"
          ],
          [
           "Dorothy Johnstone"
          ],
          [
           "Dorothy King (artist)"
          ],
          [
           "Dorothy Lockwood"
          ],
          [
           "Dosso Dossi"
          ],
          [
           "Doug Ohlson"
          ],
          [
           "Douglas Bourgeois"
          ],
          [
           "Douglas Robertson Bisset"
          ],
          [
           "Dr. Atl"
          ],
          [
           "Drew Struzan"
          ],
          [
           "Du Jin"
          ],
          [
           "Du Qiong"
          ],
          [
           "Duccio"
          ],
          [
           "Dugald Sutherland MacColl"
          ],
          [
           "Dulah Marie Evans"
          ],
          [
           "Duncan Grant"
          ],
          [
           "Dwight William Tryon"
          ],
          [
           "E. Charlton Fortune"
          ],
          [
           "E. T. A. Hoffmann"
          ],
          [
           "E. William Gollings"
          ],
          [
           "Eamon Everall"
          ],
          [
           "Ed Paschke"
          ],
          [
           "Eden Box"
          ],
          [
           "Edgar Ainsworth (artist)"
          ],
          [
           "Edgar Degas"
          ],
          [
           "Walter Emerson Baum"
          ],
          [
           "Edi Rama"
          ],
          [
           "Edith Edmonds"
          ],
          [
           "Edith Grace Wheatley"
          ],
          [
           "Edith Lawrence"
          ],
          [
           "Edmond Aman-Jean"
          ],
          [
           "Edmond Bille"
          ],
          [
           "Edmond Xavier Kapp"
          ],
          [
           "Edmund Blampied"
          ],
          [
           "Edmund C. Tarbell"
          ],
          [
           "Edmund Greacen"
          ],
          [
           "Edna Mann"
          ],
          [
           "Edo Murtić"
          ],
          [
           "Édouard Debat-Ponsan"
          ],
          [
           "Édouard Detaille"
          ],
          [
           "Édouard Manet"
          ],
          [
           "Édouard Vuillard"
          ],
          [
           "Eduard von Grützner"
          ],
          [
           "Eduard von Steinle"
          ],
          [
           "Eduardo Kingman"
          ],
          [
           "Eduardo Lefebvre Scovell"
          ],
          [
           "Eduardo Paolozzi"
          ],
          [
           "Edvard Munch"
          ],
          [
           "Edward Armitage"
          ],
          [
           "Edward Arthur Walton"
          ],
          [
           "Edward Atkinson Hornel"
          ],
          [
           "Edward Avedisian"
          ],
          [
           "Edward Bailey"
          ],
          [
           "Edward Baird (artist)"
          ],
          [
           "Ed Clark (artist)"
          ],
          [
           "Edward Corbett (artist)"
          ],
          [
           "Edward Dugmore"
          ],
          [
           "Edward George Handel Lucas"
          ],
          [
           "Edward Henry Potthast"
          ],
          [
           "Edward Hicks"
          ],
          [
           "Edward Hopper"
          ],
          [
           "Edward Lamson Henry"
          ],
          [
           "Edward Marshall Boehm"
          ],
          [
           "Edward Mitchell Bannister"
          ],
          [
           "Edward Robert Hughes"
          ],
          [
           "Edward Ruscha"
          ],
          [
           "Edward Scrope Shrapnel"
          ],
          [
           "Edward Simmons (painter)"
          ],
          [
           "Edward Wadsworth"
          ],
          [
           "Edward Willis Redfield"
          ],
          [
           "Edwin Austin Abbey"
          ],
          [
           "Edwin Dickinson"
          ],
          [
           "Edwin G Lucas"
          ],
          [
           "Edwin Landseer"
          ],
          [
           "Eero Järnefelt"
          ],
          [
           "Eero Snellman"
          ],
          [
           "Egbert van der Poel"
          ],
          [
           "Egbert van Heemskerck"
          ],
          [
           "Eglon van der Neer"
          ],
          [
           "Egon Schiele"
          ],
          [
           "Egon von Vietinghoff"
          ],
          [
           "Ei-Q"
          ],
          [
           "Eileen Aldridge"
          ],
          [
           "Einar Hákonarson"
          ],
          [
           "Eishōsai Chōki"
          ],
          [
           "Eizō Katō"
          ],
          [
           "Ejler Bille"
          ],
          [
           "Ejnar Nielsen"
          ],
          [
           "El Greco"
          ],
          [
           "El Lissitzky"
          ],
          [
           "Elaine Hamilton-O'Neal"
          ],
          [
           "Elbridge Ayer Burbank"
          ],
          [
           "Eleanor Best"
          ],
          [
           "Eleanor Hughes"
          ],
          [
           "Eleanor Layfield Davis"
          ],
          [
           "Elena Guro"
          ],
          [
           "Elfriede Lohse-Wächtler"
          ],
          [
           "Elias Goldberg"
          ],
          [
           "Elinor Proby Adams"
          ],
          [
           "Eliot Hodgkin"
          ],
          [
           "Elisabeth Collins"
          ],
          [
           "Élisabeth Vigée Le Brun"
          ],
          [
           "Eliseu Visconti"
          ],
          [
           "Elizabeth Charleston"
          ],
          [
           "Elizabeth Durack"
          ],
          [
           "Elizabeth Forbes (artist)"
          ],
          [
           "Elizabeth Jane Lloyd"
          ],
          [
           "Elizabeth Murray (artist)"
          ],
          [
           "Elizabeth Polunin"
          ],
          [
           "Elizabeth York Brunton"
          ],
          [
           "Ella Guru"
          ],
          [
           "Ellen Gallagher"
          ],
          [
           "Ellsworth Kelly"
          ],
          [
           "Elmer Bischoff"
          ],
          [
           "Elmyr de Hory"
          ],
          [
           "Elsa Beskow"
          ],
          [
           "Else Alfelt"
          ],
          [
           "Elsie Dalton Hewland"
          ],
          [
           "Elsie Few"
          ],
          [
           "Elsie Henderson"
          ],
          [
           "Elsie Vera Cole"
          ],
          [
           "Emanuel Büchel"
          ],
          [
           "Emanuel de Witte"
          ],
          [
           "Emanuel Leutze"
          ],
          [
           "Emanuel Witz"
          ],
          [
           "Emil Bisttram"
          ],
          [
           "Emil Carlsen"
          ],
          [
           "Emil Fuchs (artist)"
          ],
          [
           "Emil Lindenfeld"
          ],
          [
           "Emil Nolde"
          ],
          [
           "Emil Orlík"
          ],
          [
           "Carolus-Duran"
          ],
          [
           "Émile Bernard"
          ],
          [
           "Emile Lahner"
          ],
          [
           "Emiliano Di Cavalcanti"
          ],
          [
           "Emilio Grau Sala"
          ],
          [
           "Emily Carr"
          ],
          [
           "Emily Mason"
          ],
          [
           "Emily Murray Paterson"
          ],
          [
           "Emily Shanks"
          ],
          [
           "Emma Andijewska"
          ],
          [
           "Emma Lampert Cooper"
          ],
          [
           "Emperor Huizong of Song"
          ],
          [
           "Endre Bálint"
          ],
          [
           "Enguerrand Quarton"
          ],
          [
           "Enrico Baj"
          ],
          [
           "Enrique Grau"
          ],
          [
           "Enrique Simonet"
          ],
          [
           "Enrique Tábara"
          ],
          [
           "Enzo Cucchi"
          ],
          [
           "Eppo Doeve"
          ],
          [
           "Eric Auld"
          ],
          [
           "Eric de Kolb"
          ],
          [
           "Eric Taylor (artist)"
          ],
          [
           "Erich Heckel"
          ],
          [
           "Erik Ortvad"
          ],
          [
           "Erik Pevernagie"
          ],
          [
           "Erlund Hudson"
          ],
          [
           "Ernest Biéler"
          ],
          [
           "Ernest Briggs"
          ],
          [
           "Ernest Buckmaster"
          ],
          [
           "Ernest Heber Thompson"
          ],
          [
           "Ernest Hébert"
          ],
          [
           "Ernest Morgan"
          ],
          [
           "Ernest Procter"
          ],
          [
           "Ernest William Christmas"
          ],
          [
           "Ernest Zobole"
          ],
          [
           "Ernie Barnes"
          ],
          [
           "Ernő Bánk"
          ],
          [
           "Ernő Grünbaum"
          ],
          [
           "Ernő Rubik"
          ],
          [
           "Ernő Tibor"
          ],
          [
           "Ernst Ludwig Kirchner"
          ],
          [
           "Ernst Thoms"
          ],
          [
           "Ervin Plány"
          ],
          [
           "Erwin Bowien"
          ],
          [
           "Esaias Boursse"
          ],
          [
           "Esaias van de Velde"
          ],
          [
           "Esther Blaikie MacKinnon"
          ],
          [
           "Estuardo Maldonado"
          ],
          [
           "Eszter Mattioni"
          ],
          [
           "Ethel Schwabacher"
          ],
          [
           "Étienne Aubry"
          ],
          [
           "Ettore DeGrazia"
          ],
          [
           "Ettore Tito"
          ],
          [
           "Euan Uglow"
          ],
          [
           "Eugeen Van Mieghem"
          ],
          [
           "Eugène Boudin"
          ],
          [
           "Eugène Brands"
          ],
          [
           "Eugène Burnand"
          ],
          [
           "Eugène Carrière"
          ],
          [
           "Eugène Delacroix"
          ],
          [
           "Eugène Grasset"
          ],
          [
           "Eugène Isabey"
          ],
          [
           "Eugene J. Martin"
          ],
          [
           "Eugene Montgomery"
          ],
          [
           "Eugenio de Arriba"
          ],
          [
           "Eugenio Granell"
          ],
          [
           "Eugeniusz Zak"
          ],
          [
           "Eva Frankfurther"
          ],
          [
           "Eva Gonzalès"
          ],
          [
           "Eva Švankmajerová"
          ],
          [
           "Evan Charlton"
          ],
          [
           "Évariste Vital Luminais"
          ],
          [
           "Evaristo Baschenis"
          ],
          [
           "Eve Disher"
          ],
          [
           "Eve Ryder"
          ],
          [
           "Evelyn Abelson"
          ],
          [
           "Evelyn Cheston"
          ],
          [
           "Everett Shinn"
          ],
          [
           "Everett Warner"
          ],
          [
           "Evert Collier"
          ],
          [
           "F. Scott Hess"
          ],
          [
           "Fairfield Porter"
          ],
          [
           "Fan Kuan"
          ],
          [
           "Fan Qi (artist)"
          ],
          [
           "Fang Congyi"
          ],
          [
           "Fanny McIan"
          ],
          [
           "Farid Mansour (artist)"
          ],
          [
           "Fathi Hassan"
          ],
          [
           "Fay Pomerance"
          ],
          [
           "Fede Galizia"
          ],
          [
           "Federico Barocci"
          ],
          [
           "Federico Uribe"
          ],
          [
           "Federico Zandomeneghi"
          ],
          [
           "Federico Zuccari"
          ],
          [
           "Fedot Sychkov"
          ],
          [
           "Fei Danxu"
          ],
          [
           "Felice Casorati"
          ],
          [
           "Felicity Charlton"
          ],
          [
           "Felipe Seade"
          ],
          [
           "Félix Aráuz"
          ],
          [
           "Félix Bódog Widder"
          ],
          [
           "Félix Labisse"
          ],
          [
           "Félix Vallotton"
          ],
          [
           "Félix Ziem"
          ],
          [
           "Ferdinand Bol"
          ],
          [
           "Ferdinand Hodler"
          ],
          [
           "Ferdynand Ruszczyc"
          ],
          [
           "Ferenc Joachim"
          ],
          [
           "Fern Coppedge"
          ],
          [
           "Fernand Léger"
          ],
          [
           "Fernand Pelez"
          ],
          [
           "Fernand Verhaegen"
          ],
          [
           "Fernando Amorsolo"
          ],
          [
           "Fernando Botero"
          ],
          [
           "Fernando Gerassi"
          ],
          [
           "Fikret Mualla Saygı"
          ],
          [
           "Filippino Lippi"
          ],
          [
           "Fiona Rae"
          ],
          [
           "Fitz Henry Lane"
          ],
          [
           "Flavia Blois"
          ],
          [
           "Fletcher Martin"
          ],
          [
           "Flora Macdonald Reid"
          ],
          [
           "Florence Engelbach"
          ],
          [
           "Floris van Dyck"
          ],
          [
           "Floris van Schooten"
          ],
          [
           "Floruit"
          ],
          [
           "Fluxus"
          ],
          [
           "Ford Madox Brown"
          ],
          [
           "Fra Angelico"
          ],
          [
           "Fra Bartolomeo"
          ],
          [
           "Filippo Lippi"
          ],
          [
           "Frances C. Fairman"
          ],
          [
           "Frances Currey"
          ],
          [
           "Frances Hodgkins"
          ],
          [
           "Frances MacDonald"
          ],
          [
           "Frances Macdonald (English artist)"
          ],
          [
           "Francesco Albani"
          ],
          [
           "Francesco Bartolozzi"
          ],
          [
           "Francesco Bonsignori"
          ],
          [
           "Francesco Clemente"
          ],
          [
           "Francesco Cozza (painter)"
          ],
          [
           "Francesco del Cossa"
          ],
          [
           "Francesco Filippini"
          ],
          [
           "Francesco Furini"
          ],
          [
           "Francesco Guardi"
          ],
          [
           "Francesco Hayez"
          ],
          [
           "Francesco Francia"
          ],
          [
           "Francesco Zuccarelli"
          ],
          [
           "Francis Bacon (artist)"
          ],
          [
           "Francis Bourgeois"
          ],
          [
           "Francis Cadell (artist)"
          ],
          [
           "Francis Davis Millet"
          ],
          [
           "Francis Ernest Jackson"
          ],
          [
           "Francis Focer Brown"
          ],
          [
           "Francis Helps"
          ],
          [
           "Francis Picabia"
          ],
          [
           "Francisco de Burgos Mantilla"
          ],
          [
           "Francisco de Holanda"
          ],
          [
           "Francisco de Zurbarán"
          ],
          [
           "Francisco Goya"
          ],
          [
           "Francisco Oller"
          ],
          [
           "Francisco Zúñiga"
          ],
          [
           "Franciszek Kostrzewski"
          ],
          [
           "Franciszek Smuglewicz"
          ],
          [
           "Franciszek Żmurko"
          ],
          [
           "François Barraud"
          ],
          [
           "François Bocion"
          ],
          [
           "François Boucher"
          ],
          [
           "François Clouet"
          ],
          [
           "François Girardon"
          ],
          [
           "François Joseph Heim"
          ],
          [
           "François Louis Thomas Francia"
          ],
          [
           "François Quesnel"
          ],
          [
           "Frank Auerbach"
          ],
          [
           "Frank Barrington Craig"
          ],
          [
           "Frank Buchser"
          ],
          [
           "Frank DuMond"
          ],
          [
           "Frank Frazetta"
          ],
          [
           "Frank Herbert Mason"
          ],
          [
           "Frank J. Girardin"
          ],
          [
           "Frank Leonard Brooks"
          ],
          [
           "Frank McKelvey"
          ],
          [
           "Frank Montague Moore"
          ],
          [
           "Frank O'Meara"
          ],
          [
           "Frank Stella"
          ],
          [
           "Frank Weston Benson"
          ],
          [
           "Frans Hals"
          ],
          [
           "Frans Koppelaar"
          ],
          [
           "Frans Masereel"
          ],
          [
           "Frans van Mieris the Elder"
          ],
          [
           "Frans van Mieris the Younger"
          ],
          [
           "František Jakub Prokyš"
          ],
          [
           "František Kaván"
          ],
          [
           "František Kupka"
          ],
          [
           "Franz Cižek"
          ],
          [
           "Franz Fedier"
          ],
          [
           "Franz Hegi"
          ],
          [
           "Franz Karl Basler-Kopp"
          ],
          [
           "Franz Kline"
          ],
          [
           "Franz Marc"
          ],
          [
           "Franz von Stuck"
          ],
          [
           "Franz von Lenbach"
          ],
          [
           "Franz Xaver Winterhalter"
          ],
          [
           "Fred A. Precht"
          ],
          [
           "Fred Cress"
          ],
          [
           "Fred Mitchell (artist)"
          ],
          [
           "Frédéric Bazille"
          ],
          [
           "Frederic Leighton"
          ],
          [
           "Frederic Remington"
          ],
          [
           "Frederick Carl Frieseke"
          ],
          [
           "Frederic Edwin Church"
          ],
          [
           "Frederick Goodall"
          ],
          [
           "Frederick Hammersley"
          ],
          [
           "Frederick McCubbin"
          ],
          [
           "Frederik de Moucheron"
          ],
          [
           "Frederik Vermehren"
          ],
          [
           "Frida Kahlo"
          ],
          [
           "Friedel Dzubas"
          ],
          [
           "Friedensreich Hundertwasser"
          ],
          [
           "Friedrich Gauermann"
          ],
          [
           "Friedrich Ritter von Friedländer-Malheim"
          ],
          [
           "Friedrich Traffelet"
          ],
          [
           "Friedrich von Amerling"
          ],
          [
           "Frits Thaulow"
          ],
          [
           "Fritz Baumann"
          ],
          [
           "Fritz Bultman"
          ],
          [
           "Fritz Glarner"
          ],
          [
           "Fritz Puempin"
          ],
          [
           "Fritz von Dardel"
          ],
          [
           "Fritz von Uhde"
          ],
          [
           "Fu Baoshi"
          ],
          [
           "Fujishima Takeji"
          ],
          [
           "Fujiwara no Nobuzane"
          ],
          [
           "Fujiwara no Takanobu"
          ],
          [
           "Fuller Potter"
          ],
          [
           "Fuyuko Matsui"
          ],
          [
           "Fyodor Alekseyev"
          ],
          [
           "Fyodor Rokotov"
          ],
          [
           "Fyodor Slavyansky"
          ],
          [
           "Fyodor Vasilyev"
          ],
          [
           "Gábor Breznay"
          ],
          [
           "Gabriël Metsu"
          ],
          [
           "Gabriele Münter"
          ],
          [
           "Gabrijel Jurkić"
          ],
          [
           "Gaetano Previati"
          ],
          [
           "Gaetano Sabatini"
          ],
          [
           "Gai Qi"
          ],
          [
           "Gang Hui-an"
          ],
          [
           "Gang Se-hwang"
          ],
          [
           "Gao Cen"
          ],
          [
           "Gao Fenghan"
          ],
          [
           "Gao Kegong"
          ],
          [
           "Gao Qipei"
          ],
          [
           "Gao Xiang (painter)"
          ],
          [
           "Gaston Anglade"
          ],
          [
           "Gatōken Shunshi"
          ],
          [
           "Gavin Hamilton (artist)"
          ],
          [
           "Gawen Hamilton"
          ],
          [
           "Gee Vaucher"
          ],
          [
           "Geertgen tot Sint Jans"
          ],
          [
           "Gen Paul"
          ],
          [
           "Genco Gulan"
          ],
          [
           "Gene Davis (painter)"
          ],
          [
           "Genevieve Springston Lynch"
          ],
          [
           "Gensou Okuda"
          ],
          [
           "Gentile Bellini"
          ],
          [
           "Gentile Tondino"
          ],
          [
           "Geoffrey Dyer"
          ],
          [
           "Geoffrey Olsen"
          ],
          [
           "Georg Arnold-Graboné"
          ],
          [
           "Georg Baselitz"
          ],
          [
           "Georg Friedrich Kersting"
          ],
          [
           "Georg Friedrich Schmidt"
          ],
          [
           "Georg Muche"
          ],
          [
           "Georg Scholz"
          ],
          [
           "Georg Schrimpf"
          ],
          [
           "George Aleef"
          ],
          [
           "George Ault"
          ],
          [
           "George B. Sutherland"
          ],
          [
           "George Bain (artist)"
          ],
          [
           "George Barker (painter)"
          ],
          [
           "George Bell (painter)"
          ],
          [
           "George Bellows"
          ],
          [
           "George Luks"
          ],
          [
           "George Biddle"
          ],
          [
           "George Bogart"
          ],
          [
           "George Caleb Bingham"
          ],
          [
           "George Catlin"
          ],
          [
           "George Claessen"
          ],
          [
           "George Earl Ortman"
          ],
          [
           "George Fiddes Watt"
          ],
          [
           "George Frederic Watts"
          ],
          [
           "George Frederick Harris (painter)"
          ],
          [
           "George Gardner Symons"
          ],
          [
           "George Grosz"
          ],
          [
           "George Hendrik Breitner"
          ],
          [
           "George Henry (painter)"
          ],
          [
           "George Herbert Baker"
          ],
          [
           "George Herms"
          ],
          [
           "George Hitchcock (artist)"
          ],
          [
           "George Inness"
          ],
          [
           "George Jamesone"
          ],
          [
           "George Lambourn"
          ],
          [
           "George Manson"
          ],
          [
           "George Morrison (artist)"
          ],
          [
           "Georges Papazoff"
          ],
          [
           "George Passantino"
          ],
          [
           "George Paul Chalmers"
          ],
          [
           "George Pirie (artist)"
          ],
          [
           "George Reid (Scottish artist)"
          ],
          [
           "George Romney (painter)"
          ],
          [
           "George Stubbs"
          ],
          [
           "George Wyllie"
          ],
          [
           "Georges Braque"
          ],
          [
           "Georges de La Tour"
          ],
          [
           "Georges Lebacq"
          ],
          [
           "Georges Lacombe (painter)"
          ],
          [
           "Georges Lemmen"
          ],
          [
           "Georges Rouault"
          ],
          [
           "Georges Seurat"
          ],
          [
           "Georges Stein"
          ],
          [
           "Georgia O'Keeffe"
          ],
          [
           "Georgina Hunt"
          ],
          [
           "Gerald Kelly"
          ],
          [
           "Gerald Kelley"
          ],
          [
           "Gerard van Honthorst"
          ],
          [
           "Gerard David"
          ],
          [
           "Gerard de Lairesse"
          ],
          [
           "Gérard Ernest Schneider"
          ],
          [
           "Gerard Houckgeest"
          ],
          [
           "Gerard Seghers"
          ],
          [
           "Gerard Soest"
          ],
          [
           "Gerard ter Borch"
          ],
          [
           "Gerbrand van den Eeckhout"
          ],
          [
           "Gerda Wegener"
          ],
          [
           "Gerhard Richter"
          ],
          [
           "Germán Londoño"
          ],
          [
           "Gerrit Berckheyde"
          ],
          [
           "Gerrit Dou"
          ],
          [
           "Gertrude Abercrombie"
          ],
          [
           "Gertrude Greene"
          ],
          [
           "Gertrude Harvey"
          ],
          [
           "Géza Dósa"
          ],
          [
           "Géza Mészöly (painter)"
          ],
          [
           "Géza Udvary"
          ],
          [
           "Giacomo Balla"
          ],
          [
           "Giambattista Pittoni"
          ],
          [
           "Gian Lorenzo Bernini"
          ],
          [
           "Gianfredo Camesi"
          ],
          [
           "Gigadō Ashiyuki"
          ],
          [
           "Gijsbert d'Hondecoeter"
          ],
          [
           "Gilbert Stuart"
          ],
          [
           "Gillis d'Hondecoeter"
          ],
          [
           "Gillis Rombouts"
          ],
          [
           "Gim Du-ryang"
          ],
          [
           "Gim Eung-hwan"
          ],
          [
           "Kim Hong-do"
          ],
          [
           "Kim Jeong-hui"
          ],
          [
           "Gim Myeong-guk"
          ],
          [
           "Gina Pellón"
          ],
          [
           "Gino Severini"
          ],
          [
           "Giocondo Albertolli"
          ],
          [
           "Giorgio Cavallon"
          ],
          [
           "Giorgio de Chirico"
          ],
          [
           "Giorgio De Vincenzi"
          ],
          [
           "Giorgio Morandi"
          ],
          [
           "Giorgione"
          ],
          [
           "Giotto"
          ],
          [
           "Giovanni Antonio Galli (artist)"
          ],
          [
           "Giovanni Battista Cipriani"
          ],
          [
           "Giovanni Battista Gaulli"
          ],
          [
           "Giovanni Battista Innocenzo Colombo"
          ],
          [
           "Giovanni Battista Piazzetta"
          ],
          [
           "Giovanni Battista Tiepolo"
          ],
          [
           "Giovanni Bellini"
          ],
          [
           "Giovanni Bernardino Azzolini"
          ],
          [
           "Giovanni Boldini"
          ],
          [
           "Giovanni Fattori"
          ],
          [
           "Giovanni Giacometti"
          ],
          [
           "Giovanni Lanfranco"
          ],
          [
           "Giovanni Paolo Cavagna"
          ],
          [
           "Giovanni Paolo Panini"
          ],
          [
           "Giovanni Pelliccioli"
          ],
          [
           "Girolamo Muziano"
          ],
          [
           "Giulio Clovio"
          ],
          [
           "Giuseppe Abbati"
          ],
          [
           "Giuseppe Antonio Petrini"
          ],
          [
           "Giuseppe Arcimboldo"
          ],
          [
           "Giuseppe Avanzi"
          ],
          [
           "Giuseppe Bernardino Bison"
          ],
          [
           "Giuseppe De Nittis"
          ],
          [
           "Giuseppe Grisoni"
          ],
          [
           "Giuseppe Tominz"
          ],
          [
           "Gladys Dawson"
          ],
          [
           "Gladys Kathleen Bell"
          ],
          [
           "Glennray Tutor"
          ],
          [
           "Glenys Cour"
          ],
          [
           "Glòria Muñoz"
          ],
          [
           "Godfrey Blow"
          ],
          [
           "Godfried Schalcken"
          ],
          [
           "Gong Kai"
          ],
          [
           "Gong Xian"
          ],
          [
           "Gonzalo Endara Crow"
          ],
          [
           "Gottfried Helnwein"
          ],
          [
           "Govert Dircksz Camphuysen"
          ],
          [
           "Govert Flinck"
          ],
          [
           "Goyō Hashiguchi"
          ],
          [
           "Grace Clements (artist)"
          ],
          [
           "Grace Cossington Smith"
          ],
          [
           "Grace English"
          ],
          [
           "Grace Pailthorpe"
          ],
          [
           "Graham Forsythe"
          ],
          [
           "Graham Sutherland"
          ],
          [
           "Grant Wood"
          ],
          [
           "Gregorio Lazzarini"
          ],
          [
           "Gregorio Prestopino"
          ],
          [
           "Gregorius Sickinger"
          ],
          [
           "Gregory Gillespie"
          ],
          [
           "Grethe Jürgens"
          ],
          [
           "Grigoriy Myasoyedov"
          ],
          [
           "Grillo Demo"
          ],
          [
           "Griselda Allan"
          ],
          [
           "Grytė Pintukaitė"
          ],
          [
           "Gu An"
          ],
          [
           "Gu Hongzhong"
          ],
          [
           "Gu Kaizhi"
          ],
          [
           "Gu Zhengyi"
          ],
          [
           "Guan Daosheng"
          ],
          [
           "Guercino"
          ],
          [
           "Guido Reni"
          ],
          [
           "Guity Novin"
          ],
          [
           "Guo Chun"
          ],
          [
           "Guo Xi"
          ],
          [
           "Gustaf Munch-Petersen"
          ],
          [
           "Gustav Klimt"
          ],
          [
           "Gustave Boulanger"
          ],
          [
           "Gustave Caillebotte"
          ],
          [
           "Gustave Courbet"
          ],
          [
           "Gustave Doré"
          ],
          [
           "Gustave Moreau"
          ],
          [
           "Gusukuma Seihō"
          ],
          [
           "Gusztáv Kelety"
          ],
          [
           "Guy Rose"
          ],
          [
           "Gwen Barnard"
          ],
          [
           "Gwen John"
          ],
          [
           "Gwenny Griffiths"
          ],
          [
           "Gwilym Prichard"
          ],
          [
           "György Rózsahegyi"
          ],
          [
           "György Vastagh"
          ],
          [
           "Gyoshū Hayami"
          ],
          [
           "Gyula Aggházy"
          ],
          [
           "Gyula Basch"
          ],
          [
           "Gyula Batthyány"
          ],
          [
           "Gyula Benczúr"
          ],
          [
           "Gyula Derkovits"
          ],
          [
           "H. R. Giger"
          ],
          [
           "Hallsteinn Sigurðsson"
          ],
          [
           "Hamilton Sloan"
          ],
          [
           "Hamish MacDonald (artist)"
          ],
          [
           "Han Gan"
          ],
          [
           "Hanabusa Itchō"
          ],
          [
           "Hanabusa Itchō II"
          ],
          [
           "Hannah Frank"
          ],
          [
           "Hannah Tompkins (artist)"
          ],
          [
           "Hanns Katz"
          ],
          [
           "Hans Asper"
          ],
          [
           "Hans Baldung"
          ],
          [
           "Hans Beat Wieland"
          ],
          [
           "Hans Bol"
          ],
          [
           "Hans Burgkmair"
          ],
          [
           "Hans Eduard von Berlepsch-Valendas"
          ],
          [
           "Hans Erni"
          ],
          [
           "Hans Falk (painter)"
          ],
          [
           "Hans Fischer (painter)"
          ],
          [
           "Hans Fries"
          ],
          [
           "Hans Gude"
          ],
          [
           "Hans Hartung"
          ],
          [
           "Hans Hofmann"
          ],
          [
           "Hans Holbein the Elder"
          ],
          [
           "Hans Holbein the Younger"
          ],
          [
           "Hans Leu the Elder"
          ],
          [
           "Hans Makart"
          ],
          [
           "Hans Memling"
          ],
          [
           "Hans Mertens"
          ],
          [
           "Hans Sandreuter"
          ],
          [
           "Hans Schwarz (artist)"
          ],
          [
           "Hans von Aachen"
          ],
          [
           "Hans von Bartels"
          ],
          [
           "Hans Werner Schmidt"
          ],
          [
           "HAP Grieshaber"
          ],
          [
           "Harald Giersing"
          ],
          [
           "Harold Elliott (artist)"
          ],
          [
           "Harold Gilman"
          ],
          [
           "Harold Harvey (artist)"
          ],
          [
           "Harold Sandys Williamson"
          ],
          [
           "Harold Shapinsky"
          ],
          [
           "Harriet Zeitlin"
          ],
          [
           "Harrington Mann"
          ],
          [
           "Harry Morley"
          ],
          [
           "Harry Shoulberg"
          ],
          [
           "Harvey Pratt"
          ],
          [
           "Harvey Quaytman"
          ],
          [
           "Hasegawa Settan"
          ],
          [
           "Hasegawa Tōhaku"
          ],
          [
           "Hashimoto Gahō"
          ],
          [
           "Haukur Halldórsson"
          ],
          [
           "Hazel Armour"
          ],
          [
           "Hedda Sterne"
          ],
          [
           "Heinrich Bichler"
          ],
          [
           "Heinrich Brocksieper"
          ],
          [
           "Heinrich Danioth"
          ],
          [
           "Heinrich Herzig"
          ],
          [
           "Heinrich Hofmann (painter)"
          ],
          [
           "Heinrich Kley"
          ],
          [
           "Heinrich Maria Davringhausen"
          ],
          [
           "Heinz Anger"
          ],
          [
           "Helen Berman"
          ],
          [
           "Helen Biggar"
          ],
          [
           "Helen Binyon"
          ],
          [
           "Helen Dahm"
          ],
          [
           "Helen Edwards (artist)"
          ],
          [
           "Helen Frankenthaler"
          ],
          [
           "Helen Stevenson (artist)"
          ],
          [
           "Helen Thomas Dranga"
          ],
          [
           "Helene Schjerfbeck"
          ],
          [
           "Helmut Federle"
          ],
          [
           "Hendrick Avercamp"
          ],
          [
           "Hendrick Bloemaert"
          ],
          [
           "Hendrick Cornelisz Vroom"
          ],
          [
           "Hendrick Cornelisz. van Vliet"
          ],
          [
           "Hendrick Goudt"
          ],
          [
           "Hendrick ter Brugghen"
          ],
          [
           "Hendrick van Balen the Elder"
          ],
          [
           "Hendrik van Streek"
          ],
          [
           "Hendrik Gerritsz Pot"
          ],
          [
           "Hendrick Goltzius"
          ],
          [
           "Hendrik Martenszoon Sorgh"
          ],
          [
           "Hendrik van Steenwijk I"
          ],
          [
           "Hendrik van Steenwijk II"
          ],
          [
           "Hendrik Willem Mesdag"
          ],
          [
           "Henning Jakob Henrik Lund"
          ],
          [
           "Henri Alphonse Barnoin"
          ],
          [
           "Henri Bellechose"
          ],
          [
           "Henri Biva"
          ],
          [
           "Henri de Toulouse-Lautrec"
          ],
          [
           "Henri Fantin-Latour"
          ],
          [
           "Henri Harpignies"
          ],
          [
           "Henri Le Sidaner"
          ],
          [
           "Henri Matisse"
          ],
          [
           "Henri Michaux"
          ],
          [
           "Henri Rousseau"
          ],
          [
           "Henri-Edmond Cross"
          ],
          [
           "Henri-Julien Dumont"
          ],
          [
           "Henric Trenk"
          ],
          [
           "Henricus Hondius II"
          ],
          [
           "Henriett Seth F."
          ],
          [
           "Henriette Wyeth"
          ],
          [
           "Henrik Weber"
          ],
          [
           "Henry B. Christian"
          ],
          [
           "Henry Bright (painter)"
          ],
          [
           "Henry Carr (artist)"
          ],
          [
           "Henry Fuseli"
          ],
          [
           "Henry Heerup"
          ],
          [
           "Henry Lamb"
          ],
          [
           "Henry Macbeth-Raeburn"
          ],
          [
           "Henry Ossawa Tanner"
          ],
          [
           "Henry Otto Wix"
          ],
          [
           "Henry Raeburn"
          ],
          [
           "Henry Scott Tuke"
          ],
          [
           "Henry Snell Gamley"
          ],
          [
           "Henry Tonks"
          ],
          [
           "Henry van de Velde"
          ],
          [
           "Henry Wallis"
          ],
          [
           "Henry Woods (painter)"
          ],
          [
           "Henryk Rodakowski"
          ],
          [
           "Henryk Siemiradzki"
          ],
          [
           "Henryk Stażewski"
          ],
          [
           "Henryka Beyer"
          ],
          [
           "Herb Aach"
          ],
          [
           "Herbert Abrams"
          ],
          [
           "Herbert James Gunn"
          ],
          [
           "Herbert Kisza"
          ],
          [
           "Herbert MacNair"
          ],
          [
           "Hercules Seghers"
          ],
          [
           "Herman Saftleven"
          ],
          [
           "Herman van Swanevelt"
          ],
          [
           "Hermann Feierabend"
          ],
          [
           "Hermann Rüdisühli"
          ],
          [
           "Hermenegildo Anglada Camarasa"
          ],
          [
           "Hermione Hammond"
          ],
          [
           "Hew Lorimer"
          ],
          [
           "Hidari Jingorō"
          ],
          [
           "Hieronymus Bosch"
          ],
          [
           "Hilda Annetta Walker"
          ],
          [
           "Hilda May Gordon"
          ],
          [
           "Hilde Goldschmidt"
          ],
          [
           "Hilma af Klint"
          ],
          [
           "Hiro Yamagata (artist)"
          ],
          [
           "Hiromitsu Takahashi"
          ],
          [
           "Hirosada II"
          ],
          [
           "Hiroshi Honda (painter)"
          ],
          [
           "Hiroshi Yoshida"
          ],
          [
           "Hiroshige"
          ],
          [
           "Hiroyuki Tajima"
          ],
          [
           "Hishida Shunsō"
          ],
          [
           "Hishikawa Moronobu"
          ],
          [
           "Hokusai"
          ],
          [
           "Holger Roed"
          ],
          [
           "Hong Ren"
          ],
          [
           "Honoré Daumier"
          ],
          [
           "Horace Vernet"
          ],
          [
           "Horatio McCulloch"
          ],
          [
           "Horatio Nelson Poole"
          ],
          [
           "Horst Antes"
          ],
          [
           "Hovsep Pushman"
          ],
          [
           "Howard Butterworth"
          ],
          [
           "Howard Hodgkin"
          ],
          [
           "Howard Kanovitz"
          ],
          [
           "Howard Mehring"
          ],
          [
           "Howardena Pindell"
          ],
          [
           "Hristofor Žefarović"
          ],
          [
           "Hu Jieqing"
          ],
          [
           "Hu Zao"
          ],
          [
           "Hu Zaobin"
          ],
          [
           "Hua Yan"
          ],
          [
           "Huang Binhong"
          ],
          [
           "Huang Ding"
          ],
          [
           "Huang Gongwang"
          ],
          [
           "Huang Ji"
          ],
          [
           "Huang Shen"
          ],
          [
           "Huang Tingjian"
          ],
          [
           "Hubert Robert"
          ],
          [
           "Hubert van Eyck"
          ],
          [
           "Hubert van Ravesteyn"
          ],
          [
           "Hubert von Herkomer"
          ],
          [
           "Hugh Adam Crawford"
          ],
          [
           "Hugh Hughes (painter)"
          ],
          [
           "Hugh William Williams"
          ],
          [
           "Hugo Anton Fisher"
          ],
          [
           "Hugo Heyrman"
          ],
          [
           "Hugo Kārlis Grotuss"
          ],
          [
           "Hugo Sánchez Bonilla"
          ],
          [
           "Hugo Scheiber"
          ],
          [
           "Hugo Simberg"
          ],
          [
           "Hugo van der Goes"
          ],
          [
           "Humberto Castro"
          ],
          [
           "Hunter Biden"
          ],
          [
           "Hyacinthe Rigaud"
          ],
          [
           "Hyman Bloom"
          ],
          [
           "I Ketut Soki"
          ],
          [
           "Ian Fairweather"
          ],
          [
           "Ian Hamilton Finlay"
          ],
          [
           "Ib Eisner"
          ],
          [
           "Ibrahim Kodra"
          ],
          [
           "Ibram Lassaw"
          ],
          [
           "Ignacio Zuloaga"
          ],
          [
           "Ignat Bednarik"
          ],
          [
           "Ignatius Sserulyo"
          ],
          [
           "Igor Grabar"
          ],
          [
           "Igor Kufayev"
          ],
          [
           "Ihor Podolchak"
          ],
          [
           "Ike no Taiga"
          ],
          [
           "Ikuo Hirayama"
          ],
          [
           "Ilka Gedő"
          ],
          [
           "Illarion Pryanishnikov"
          ],
          [
           "Ilya Glazunov"
          ],
          [
           "Ilya Ostroukhov"
          ],
          [
           "Ilya Repin"
          ],
          [
           "Ingrīda Kadaka"
          ],
          [
           "INO (artist)"
          ],
          [
           "Inshō Dōmoto"
          ],
          [
           "Ion Andreescu"
          ],
          [
           "Irene Bache"
          ],
          [
           "Irene Lieblich"
          ],
          [
           "Irvin Bomb"
          ],
          [
           "Isaac Grünewald"
          ],
          [
           "Isaac Levitan"
          ],
          [
           "Isaac Soyer"
          ],
          [
           "Isaac van Ostade"
          ],
          [
           "Isabel Codrington"
          ],
          [
           "Isabel Naftel"
          ],
          [
           "Isamu Noguchi"
          ],
          [
           "Isidor Kaufmann"
          ],
          [
           "Isidore Bonheur"
          ],
          [
           "Ismael Nery"
          ],
          [
           "İsmail Acar"
          ],
          [
           "Ismail Gulgee"
          ],
          [
           "Isobel Heath"
          ],
          [
           "Isobelle Ann Dods-Withers"
          ],
          [
           "Israel Tsvaygenbaum"
          ],
          [
           "István Árkossy"
          ],
          [
           "István Csók"
          ],
          [
           "Istvan Horkay"
          ],
          [
           "István Nagy (painter)"
          ],
          [
           "István Orosz"
          ],
          [
           "István Regős"
          ],
          [
           "István Réti"
          ],
          [
           "István Szőnyi"
          ],
          [
           "Italo Mus"
          ],
          [
           "Itō Jakuchū"
          ],
          [
           "Shinsui Itō"
          ],
          [
           "Itshak Holtz"
          ],
          [
           "Ivan Aivazovsky"
          ],
          [
           "Ivan Albright"
          ],
          [
           "Ivan Bilibin"
          ],
          [
           "Ivan Generalić"
          ],
          [
           "Ivan Grohar"
          ],
          [
           "Ivan Kramskoi"
          ],
          [
           "Ivan Lacković Croata"
          ],
          [
           "Ivan Meštrović"
          ],
          [
           "Ivan Mrkvička"
          ],
          [
           "Ivan Ranger"
          ],
          [
           "Ivan Shishkin"
          ],
          [
           "Ivan Trush"
          ],
          [
           "Ivan Vishnyakov"
          ],
          [
           "Ivana Kobilca"
          ],
          [
           "Ivor Davies (artist)"
          ],
          [
           "Ivor Williams"
          ],
          [
           "Iwasa Matabei"
          ],
          [
           "Izidor Kršnjavi"
          ],
          [
           "J. Alden Weir"
          ],
          [
           "Johan Ludwig Lund"
          ],
          [
           "J. M. W. Turner"
          ],
          [
           "J. Massey Rhind"
          ],
          [
           "J. Ottis Adams"
          ],
          [
           "J. W. Tristram"
          ],
          [
           "Jaakko Mattila"
          ],
          [
           "Jacek Andrzej Rossakiewicz"
          ],
          [
           "Jacek Malczewski"
          ],
          [
           "Jacek Sempoliński"
          ],
          [
           "Jack Boul"
          ],
          [
           "Jack Butler Yeats"
          ],
          [
           "Jack C. Mancino"
          ],
          [
           "Jack Levine"
          ],
          [
           "Jack M. Ducker"
          ],
          [
           "Jack Roth"
          ],
          [
           "Jack Smith (artist)"
          ],
          [
           "Jackson Pollock"
          ],
          [
           "Jacob Adriaensz Backer"
          ],
          [
           "Jacob Burck"
          ],
          [
           "Jacob Collins"
          ],
          [
           "Jacob de Gheyn II"
          ],
          [
           "Jacob de Heusch"
          ],
          [
           "Jacob Duck"
          ],
          [
           "Jacob Esselens"
          ],
          [
           "Jacob Gerritsz. Cuyp"
          ],
          [
           "Jacob Jordaens"
          ],
          [
           "Jacob Kainen"
          ],
          [
           "Jacob Koninck"
          ],
          [
           "Jacob Lawrence"
          ],
          [
           "Jacob Maris"
          ],
          [
           "Jacob Marrel"
          ],
          [
           "Jacob More"
          ],
          [
           "Jacob Ochtervelt"
          ],
          [
           "Jacob Philipp Hackert"
          ],
          [
           "Jacob Pynas"
          ],
          [
           "Jacob Savery"
          ],
          [
           "Jacob Steinhardt"
          ],
          [
           "Jacob Toorenvliet"
          ],
          [
           "Jacob van Campen"
          ],
          [
           "Jacob van der Ulft"
          ],
          [
           "Jacob van Ruisdael"
          ],
          [
           "Jacob van Utrecht"
          ],
          [
           "Jacob Willemszoon de Wet"
          ],
          [
           "Jacopo Amigoni"
          ],
          [
           "Jacopo Baccarini"
          ],
          [
           "Jacopo Bassano"
          ],
          [
           "Jacopo Bellini"
          ],
          [
           "Jacopo de' Barbari"
          ],
          [
           "Pontormo"
          ],
          [
           "Jacques Blanchard"
          ],
          [
           "Jacques Callot"
          ],
          [
           "Jacques Daret"
          ],
          [
           "Jacques Maroger"
          ],
          [
           "Jacques Sablet"
          ],
          [
           "Jacques Villon"
          ],
          [
           "Jacques-François Ochard"
          ],
          [
           "Jacques-Laurent Agasse"
          ],
          [
           "Jacques-Louis David"
          ],
          [
           "Jaime Colson"
          ],
          [
           "Jakob Emanuel Handmann"
          ],
          [
           "Jakob Gauermann"
          ],
          [
           "Jakob Häne"
          ],
          [
           "Jakub Husník"
          ],
          [
           "Jakub Schikaneder"
          ],
          [
           "James Ardern Grant"
          ],
          [
           "James Ballantine"
          ],
          [
           "James Bard"
          ],
          [
           "James Barry (painter)"
          ],
          [
           "James Bateman (artist)"
          ],
          [
           "James Baynes"
          ],
          [
           "James Bolivar Manson"
          ],
          [
           "James Brooks (painter)"
          ],
          [
           "James Cadenhead"
          ],
          [
           "James Campbell Noble"
          ],
          [
           "James Cowie (artist)"
          ],
          [
           "James Cromar Watt"
          ],
          [
           "James Dickson Innes"
          ],
          [
           "James E. Brewton"
          ],
          [
           "James Ensor"
          ],
          [
           "James Giles (painter)"
          ],
          [
           "James Gillick"
          ],
          [
           "James Guthrie (artist)"
          ],
          [
           "James Humbert Craig"
          ],
          [
           "James Jarvaise"
          ],
          [
           "James McBey"
          ],
          [
           "James McIntosh Patrick"
          ],
          [
           "James McNeill Whistler"
          ],
          [
           "James Montgomery Flagg"
          ],
          [
           "James Morris (artist)"
          ],
          [
           "James Morrison (artist)"
          ],
          [
           "James Paterson (painter)"
          ],
          [
           "James Peale"
          ],
          [
           "James Pittendrigh Macgillivray"
          ],
          [
           "James Rosenquist"
          ],
          [
           "James Sessions"
          ],
          [
           "James Tissot"
          ],
          [
           "Jamie Wyeth"
          ],
          [
           "Jan van Ravesteyn"
          ],
          [
           "Jan Asselijn"
          ],
          [
           "Jan Baptist Weenix"
          ],
          [
           "Jan Brueghel the Elder"
          ],
          [
           "Jan Brueghel the Younger"
          ],
          [
           "Jan Cornelisz Vermeyen"
          ],
          [
           "Jan Cox (painter)"
          ],
          [
           "Jan Davidsz. de Heem"
          ],
          [
           "Jan de Baen"
          ],
          [
           "Jan de Bray"
          ],
          [
           "Jan Dirksz Both"
          ],
          [
           "Jan Gossaert"
          ],
          [
           "Jan Gregoor"
          ],
          [
           "Jan Griffier"
          ],
          [
           "Jan Hackaert"
          ],
          [
           "Jan Henryk de Rosen"
          ],
          [
           "Jan Jahn"
          ],
          [
           "Jan Karpíšek"
          ],
          [
           "Jan Kip"
          ],
          [
           "Jan Konůpek"
          ],
          [
           "Jan Kupecký"
          ],
          [
           "Jan Lievens"
          ],
          [
           "Jan Matejko"
          ],
          [
           "Jan Miel"
          ],
          [
           "Jan Miense Molenaer"
          ],
          [
           "Jan Müller (artist)"
          ],
          [
           "Jan Nieuwenhuys"
          ],
          [
           "Jan Pynas"
          ],
          [
           "Jan Rustem"
          ],
          [
           "Jan Sawka"
          ],
          [
           "Jan Stanisławski (painter)"
          ],
          [
           "Jan Steen"
          ],
          [
           "Jan Tengnagel"
          ],
          [
           "Jan Theuninck"
          ],
          [
           "Jan van Bijlert"
          ],
          [
           "Jan van de Cappelle"
          ],
          [
           "Jan van der Heyden"
          ],
          [
           "Jan van Eyck"
          ],
          [
           "Jan van Goyen"
          ],
          [
           "Jan van Huysum"
          ],
          [
           "Jan van Kessel the Elder"
          ],
          [
           "Jan van Kessel the Younger"
          ],
          [
           "Jan van Mieris"
          ],
          [
           "Jan Verkolje"
          ],
          [
           "Jan Victors"
          ],
          [
           "Jan Wijnants"
          ],
          [
           "Jan Wyck"
          ],
          [
           "Jan Zrzavý"
          ],
          [
           "Jane Carpanini"
          ],
          [
           "Jane Frank"
          ],
          [
           "Jane Freeman (artist)"
          ],
          [
           "Jane Freilicher"
          ],
          [
           "Jane Hawkins"
          ],
          [
           "Jane Kelly (artist)"
          ],
          [
           "Jane Nasmyth"
          ],
          [
           "Janet Archer"
          ],
          [
           "Janet Dawson"
          ],
          [
           "Janet Fish"
          ],
          [
           "Jankel Adler"
          ],
          [
           "János Donát"
          ],
          [
           "János Kass"
          ],
          [
           "János Nagy Balogh"
          ],
          [
           "János Saxon-Szász"
          ],
          [
           "János Tornyai"
          ],
          [
           "János Valentiny"
          ],
          [
           "János Vaszary"
          ],
          [
           "January Suchodolski"
          ],
          [
           "Jaroslav Doubrava"
          ],
          [
           "Jaroslava Korol"
          ],
          [
           "Jasmine Becket-Griffith"
          ],
          [
           "Jason Benjamin"
          ],
          [
           "Jason Teraoka"
          ],
          [
           "Jasper Francis Cropsey"
          ],
          [
           "Jasper Johns"
          ],
          [
           "Jay Milder"
          ],
          [
           "Antoine Watteau"
          ],
          [
           "Jean Arp"
          ],
          [
           "Jean-Auguste-Dominique Ingres"
          ],
          [
           "Jean-Baptiste Debret"
          ],
          [
           "Jean Béraud"
          ],
          [
           "Jean Clark (artist)"
          ],
          [
           "Jean Colombe"
          ],
          [
           "Jean Crotti"
          ],
          [
           "Jean Dubuffet"
          ],
          [
           "Jean Dufy"
          ],
          [
           "Jean Fautrier"
          ],
          [
           "Jean Fouquet"
          ],
          [
           "Jean Hélion"
          ],
          [
           "Jean Hey"
          ],
          [
           "Jean Huber"
          ],
          [
           "Jean Jouvenet"
          ],
          [
           "Jean Louis Petitot"
          ],
          [
           "Jean Malouel"
          ],
          [
           "Jean Messagier"
          ],
          [
           "Jean Metzinger"
          ],
          [
           "Jean Petitot"
          ],
          [
           "Jean Tabaud"
          ],
          [
           "Jean Xceron"
          ],
          [
           "Jean-Baptiste Pater"
          ],
          [
           "Jean-Baptiste van Loo"
          ],
          [
           "Jean-Baptiste-Camille Corot"
          ],
          [
           "Jean Siméon Chardin"
          ],
          [
           "Jean-Étienne Liotard"
          ],
          [
           "Jean-François de Troy"
          ],
          [
           "Jean-François Millet"
          ],
          [
           "Jean-Honoré Fragonard"
          ],
          [
           "Jean-Jacques Henner"
          ],
          [
           "Jean-Léon Gérôme"
          ],
          [
           "Ernest Meissonier"
          ],
          [
           "Jean-Marc Nattier"
          ],
          [
           "Jean-Michel Atlan"
          ],
          [
           "Jean-Michel Basquiat"
          ],
          [
           "Jean-Paul Laurens"
          ],
          [
           "Jean-Paul Riopelle"
          ],
          [
           "Jean-Pierre Norblin de La Gourdaine"
          ],
          [
           "Jean-Pierre Saint-Ours"
          ],
          [
           "Jeanne du Maurier"
          ],
          [
           "Jeanne Hébuterne"
          ],
          [
           "Jeff Koons"
          ],
          [
           "Jeka Kemp"
          ],
          [
           "Jemima Blackburn"
          ],
          [
           "Jenaro de Urrutia Olaran"
          ],
          [
           "Jennifer Bartlett"
          ],
          [
           "Jenny Eakin Delony"
          ],
          [
           "Jenny Saville"
          ],
          [
           "Jenő Barcsay"
          ],
          [
           "Jenő Gyárfás"
          ],
          [
           "J. F. Willumsen"
          ],
          [
           "Jens Jørgen Thorsen"
          ],
          [
           "Jens Juel (painter)"
          ],
          [
           "Jens Søndergaard"
          ],
          [
           "Jeong Seon"
          ],
          [
           "Jeremy Henderson"
          ],
          [
           "Jerry Weiss (artist)"
          ],
          [
           "Jerry Wilkerson"
          ],
          [
           "Jerzy Kossak"
          ],
          [
           "Jesper Knudsen (painter)"
          ],
          [
           "Jesse Richards"
          ],
          [
           "Jessie Alexandra Dick"
          ],
          [
           "Jessie Algie"
          ],
          [
           "Jessie M. King"
          ],
          [
           "Jessie Newbery"
          ],
          [
           "Jesús Mari Lazkano"
          ],
          [
           "Ji Sheng"
          ],
          [
           "Jiang Tingxi"
          ],
          [
           "Jiao Bingzhen"
          ],
          [
           "Jill Moser"
          ],
          [
           "Jim Dine"
          ],
          [
           "Jim Manley (artist)"
          ],
          [
           "Jimmy Boyle (artist)"
          ],
          [
           "Jin Homura"
          ],
          [
           "Jin Nong"
          ],
          [
           "Jiro Yoshihara"
          ],
          [
           "Jitish Kallat"
          ],
          [
           "Jo Baer"
          ],
          [
           "Joachim Patinir"
          ],
          [
           "Joan Ayling"
          ],
          [
           "Joan Brown"
          ],
          [
           "Joan Miró"
          ],
          [
           "Joan Snyder"
          ],
          [
           "Joan Warburton"
          ],
          [
           "Joanna Carrington"
          ],
          [
           "Joaquín Clausell"
          ],
          [
           "Joaquín Sorolla"
          ],
          [
           "Joaquín Torres-García"
          ],
          [
           "Joe Machine"
          ],
          [
           "Joe Mangrum"
          ],
          [
           "Joe Stefanelli (painter)"
          ],
          [
           "Johan Christian Dahl"
          ],
          [
           "Johan Edvard Mandelberg"
          ],
          [
           "Johan Jongkind"
          ],
          [
           "Johan Thomas Lundbye"
          ],
          [
           "Johann Balthasar Bullinger"
          ],
          [
           "Johann Berthelsen"
          ],
          [
           "Johann Caspar Füssli"
          ],
          [
           "Johann Christian Brand"
          ],
          [
           "Johann Friedrich Overbeck"
          ],
          [
           "Johann George Schmidt"
          ],
          [
           "Johann Gottfried Steffan"
          ],
          [
           "Johann Heinrich Bleuler"
          ],
          [
           "Johann Heinrich Meyer"
          ],
          [
           "Johann Jakob Biedermann"
          ],
          [
           "Johann Kaspar Füssli"
          ],
          [
           "Johann Liss"
          ],
          [
           "Johann Ludwig Aberli"
          ],
          [
           "Johann Ludwig Bleuler"
          ],
          [
           "Johann Pucher"
          ],
          [
           "Johann Rudolf Byss"
          ],
          [
           "Johan Zoffany"
          ],
          [
           "Johanna Juliana Friederike Bacciarelli"
          ],
          [
           "Johanna Marie Fosie"
          ],
          [
           "Johannes Bosschaert"
          ],
          [
           "Johannes Cornelisz Verspronck"
          ],
          [
           "Johannes Fabritius"
          ],
          [
           "Jóhannes Geir Jónsson"
          ],
          [
           "Johannes Heisig"
          ],
          [
           "Johannes Itten"
          ],
          [
           "Johannes Lingelbach"
          ],
          [
           "Johannes Martini (painter)"
          ],
          [
           "Johannes Mytens"
          ],
          [
           "Jóhannes Sveinsson Kjarval"
          ],
          [
           "Johannes van Haensbergen"
          ],
          [
           "Johannes Vermeer"
          ],
          [
           "John Alexander (painter)"
          ],
          [
           "John Altoon"
          ],
          [
           "John Armleder"
          ],
          [
           "John Armstrong (artist)"
          ],
          [
           "John Atkinson Grimshaw"
          ],
          [
           "John Bellany"
          ],
          [
           "John Blair (painter)"
          ],
          [
           "John Bourne (artist)"
          ],
          [
           "John Brack"
          ],
          [
           "John Brown (artist)"
          ],
          [
           "John Brown Abercromby"
          ],
          [
           "John Button (artist)"
          ],
          [
           "John Byrne (playwright)"
          ],
          [
           "John Clayton (painter)"
          ],
          [
           "John Clayton Adams"
          ],
          [
           "John Collier (painter)"
          ],
          [
           "John Constable"
          ],
          [
           "John Covert (painter)"
          ],
          [
           "John Crawford Brown"
          ],
          [
           "John Doman Turner"
          ],
          [
           "John Duncan Fergusson"
          ],
          [
           "John E. Berninger"
          ],
          [
           "John Ellsworth Weis"
          ],
          [
           "John Elwood Bundy"
          ],
          [
           "John Everett Millais"
          ],
          [
           "John Eyre (painter)"
          ],
          [
           "John F. Francis"
          ],
          [
           "John F. Peto"
          ],
          [
           "John F. Carlson"
          ],
          [
           "John Fulton Folinsbee"
          ],
          [
           "John Gibson (sculptor)"
          ],
          [
           "John Haberle"
          ],
          [
           "John Henderson (painter)"
          ],
          [
           "John Henry Lorimer"
          ],
          [
           "John Henry Twachtman"
          ],
          [
           "John Hutchison (sculptor)"
          ],
          [
           "John Hutton (artist)"
          ],
          [
           "John James Audubon"
          ],
          [
           "John Kay (caricaturist)"
          ],
          [
           "John Keane (artist)"
          ],
          [
           "John Kelso Hunter"
          ],
          [
           "John Kingsley Cook"
          ],
          [
           "John Lavery"
          ],
          [
           "John Laviers Wheatley"
          ],
          [
           "John Linnell (painter)"
          ],
          [
           "John Lowrie Morrison"
          ],
          [
           "John Luke (artist)"
          ],
          [
           "John Macdonald Aiken"
          ],
          [
           "John Maggs"
          ],
          [
           "John Marin"
          ],
          [
           "John Martin (painter)"
          ],
          [
           "John Maxwell (British artist)"
          ],
          [
           "John McLaughlin (artist)"
          ],
          [
           "John Michael Wright"
          ],
          [
           "John Mossman"
          ],
          [
           "John Murdoch (artist)"
          ],
          [
           "John Nelson Battenberg"
          ],
          [
           "John Nicolson (artist)"
          ],
          [
           "John Noble Barlow"
          ],
          [
           "John Opie"
          ],
          [
           "John Parker (cleric)"
          ],
          [
           "John Pettie"
          ],
          [
           "John Platt (artist)"
          ],
          [
           "John Plumb"
          ],
          [
           "John Quidor"
          ],
          [
           "John Quinton Pringle"
          ],
          [
           "John Rhind (sculptor)"
          ],
          [
           "John Robertson Reid"
          ],
          [
           "John Runciman"
          ],
          [
           "John Russell Fulton"
          ],
          [
           "John Singer Sargent"
          ],
          [
           "John Singleton Copley"
          ],
          [
           "John Skinner Prout"
          ],
          [
           "John Sloan"
          ],
          [
           "John Souch"
          ],
          [
           "John Steell"
          ],
          [
           "John Steuart Curry"
          ],
          [
           "John Stevenson Rhind"
          ],
          [
           "John Stuart Ingle"
          ],
          [
           "John Thomson of Duddingston"
          ],
          [
           "John Trumbull"
          ],
          [
           "John Uzzell Edwards"
          ],
          [
           "John Watson Gordon"
          ],
          [
           "John William Godward"
          ],
          [
           "John William Waterhouse"
          ],
          [
           "John Wollaston (painter)"
          ],
          [
           "John Wonnacott"
          ],
          [
           "John Zephaniah Bell"
          ],
          [
           "Jon Coffelt"
          ],
          [
           "Joop Sanders"
          ],
          [
           "Joos de Momper"
          ],
          [
           "Jörg Immendorff"
          ],
          [
           "Jorge Velarde"
          ],
          [
           "Jørgen Nash"
          ],
          [
           "Jørgen Roed"
          ],
          [
           "Joris van der Haagen"
          ],
          [
           "José Clemente Orozco"
          ],
          [
           "José Comas Quesada"
          ],
          [
           "José Malhoa"
          ],
          [
           "Josef Abel"
          ],
          [
           "Josef Albers"
          ],
          [
           "Josef Block"
          ],
          [
           "Josef Čapek"
          ],
          [
           "Josef Dande"
          ],
          [
           "Josef Jackerson"
          ],
          [
           "Josef Mánes"
          ],
          [
           "Josef Matěj Navrátil"
          ],
          [
           "Josef Šíma"
          ],
          [
           "Josefina Tanganelli Plana"
          ],
          [
           "Josep Rovira Soler"
          ],
          [
           "Joseph Badger"
          ],
          [
           "Joseph Beuys"
          ],
          [
           "Joseph DeCamp"
          ],
          [
           "Joseph Delaney (artist)"
          ],
          [
           "Joseph Dwight Strong"
          ],
          [
           "Joseph Heintz the Elder"
          ],
          [
           "Joseph Henderson (artist)"
          ],
          [
           "Joseph Ignaz Appiani"
          ],
          [
           "Joseph Kleitsch"
          ],
          [
           "Joseph Morgan Henninger"
          ],
          [
           "Joseph Noel Paton"
          ],
          [
           "Joseph Pickett (painter)"
          ],
          [
           "Joseph Pisani"
          ],
          [
           "Joseph Raphael"
          ],
          [
           "Joseph Severn"
          ],
          [
           "Joseph Stella"
          ],
          [
           "Joseph von Führich"
          ],
          [
           "Joseph Werner"
          ],
          [
           "Joseph Wright of Derby"
          ],
          [
           "Joseph Yoakum"
          ],
          [
           "Joseph-Marie Vien"
          ],
          [
           "Josetsu"
          ],
          [
           "Joshua Reynolds"
          ],
          [
           "Josse Lieferinxe"
          ],
          [
           "JoWonder"
          ],
          [
           "Joy Garnett"
          ],
          [
           "Jože Ciuha"
          ],
          [
           "Józef Brandt"
          ],
          [
           "Józef Czapski"
          ],
          [
           "Jozef Israëls"
          ],
          [
           "Józef Mehoffer"
          ],
          [
           "Józef Pankiewicz"
          ],
          [
           "Józef Simmler"
          ],
          [
           "Józef Szermentowski"
          ],
          [
           "József Borsos"
          ],
          [
           "József Breznay"
          ],
          [
           "József Egry"
          ],
          [
           "József Koszta"
          ],
          [
           "József Rippl-Rónai"
          ],
          [
           "Ju Chao"
          ],
          [
           "Ju Lian"
          ],
          [
           "Juan Carlos Stekelman"
          ],
          [
           "Juan de Flandes"
          ],
          [
           "Juan de Valdés Leal"
          ],
          [
           "Juan Fernando Cobo"
          ],
          [
           "Juan Gris"
          ],
          [
           "Juan Luna"
          ],
          [
           "Juan O'Gorman"
          ],
          [
           "Juan Villafuerte"
          ],
          [
           "Judith Brown (sculptor)"
          ],
          [
           "Judith Gutiérrez"
          ],
          [
           "Judith Leyster"
          ],
          [
           "Judy Cassab"
          ],
          [
           "Judy Takács"
          ],
          [
           "Juergen von Huendeberg"
          ],
          [
           "Jules Breton"
          ],
          [
           "Jules Chéret"
          ],
          [
           "Jules Lefebvre"
          ],
          [
           "Jules Olitski"
          ],
          [
           "Jules Pascin"
          ],
          [
           "Jules Robert Auguste"
          ],
          [
           "Jules Tavernier (painter)"
          ],
          [
           "Julian Fałat"
          ],
          [
           "Julian Hatton"
          ],
          [
           "Julian Onderdonk"
          ],
          [
           "Julian Schnabel"
          ],
          [
           "Júlíana Sveinsdóttir"
          ],
          [
           "Juliette Wytsman"
          ],
          [
           "Julio González (sculptor)"
          ],
          [
           "Julio Larraz"
          ],
          [
           "Julius Mařák"
          ],
          [
           "Julius Exner"
          ],
          [
           "Julius Hatofsky"
          ],
          [
           "Július Jakoby"
          ],
          [
           "Julius Klinger"
          ],
          [
           "Julius Kronberg"
          ],
          [
           "Julius LeBlanc Stewart"
          ],
          [
           "Juliusz Kossak"
          ],
          [
           "Junpei Satoh"
          ],
          [
           "Junsaku Koizumi"
          ],
          [
           "Jürg Kreienbühl"
          ],
          [
           "Juriaen van Streeck"
          ],
          [
           "Justus van Gent"
          ],
          [
           "Kiyokata Kaburagi"
          ],
          [
           "Kaff Gerrard"
          ],
          [
           "Kagaku Murakami"
          ],
          [
           "Kaigetsudō Anchi"
          ],
          [
           "Kaigetsudō Ando"
          ],
          [
           "Kaii Higashiyama"
          ],
          [
           "Kailash Chandra Meher"
          ],
          [
           "Kalervo Palsa"
          ],
          [
           "Kamagurka"
          ],
          [
           "Kamāl ud-Dīn Behzād"
          ],
          [
           "Kameda Bōsai"
          ],
          [
           "Kamisaka Sekka"
          ],
          [
           "Kanbun Master"
          ],
          [
           "Kanō Eitoku"
          ],
          [
           "Kanō Hōgai"
          ],
          [
           "Kanō Masanobu"
          ],
          [
           "Kanō Mitsunobu"
          ],
          [
           "Kanō Motonobu"
          ],
          [
           "Kanō Naizen"
          ],
          [
           "Kanō Sanraku"
          ],
          [
           "Kanō Sansetsu"
          ],
          [
           "Kanō Shōsen'in"
          ],
          [
           "Kanō Takanobu"
          ],
          [
           "Kanō Tan'yū"
          ],
          [
           "Kanō Tanshin"
          ],
          [
           "Kanzan Shimomura"
          ],
          [
           "Karel Appel"
          ],
          [
           "Karel Dujardin"
          ],
          [
           "Karel Havlíček"
          ],
          [
           "Karel Klíč"
          ],
          [
           "Karel Štěch"
          ],
          [
           "Karel van Mander"
          ],
          [
           "Karl Ballmer"
          ],
          [
           "Karl Bodmer"
          ],
          [
           "Karl Bryullov"
          ],
          [
           "Karl Buesgen"
          ],
          [
           "Karl Hagedorn (1889–1969)"
          ],
          [
           "Karl Hagedorn (1922–2005)"
          ],
          [
           "Karl Hofer"
          ],
          [
           "Karl Jauslin"
          ],
          [
           "Karl Matzek"
          ],
          [
           "Karl Otto Götz"
          ],
          [
           "Karl Pümpin"
          ],
          [
           "Karl Schmidt-Rottluff"
          ],
          [
           "Karl Stauffer-Bern"
          ],
          [
           "Karl Völker"
          ],
          [
           "Karl Walser"
          ],
          [
           "Karl Zerbe"
          ],
          [
           "Károly Brocky"
          ],
          [
           "Károly Ferenczy"
          ],
          [
           "Károly Kernstok"
          ],
          [
           "Károly Kisfaludy"
          ],
          [
           "Károly Lotz"
          ],
          [
           "Károly Markó the Elder"
          ],
          [
           "Károly Patkó"
          ],
          [
           "Katerina Wilczynski"
          ],
          [
           "Käthe Kollwitz"
          ],
          [
           "Kathleen Allen"
          ],
          [
           "Kathleen Browne (artist)"
          ],
          [
           "Kathleen Guthrie"
          ],
          [
           "Kathleen Scott"
          ],
          [
           "Kathleen Walne"
          ],
          [
           "Katsukawa Shun'ei"
          ],
          [
           "Katsukawa Shunchō"
          ],
          [
           "Katsukawa Shunkō I"
          ],
          [
           "Katsukawa Shunsen"
          ],
          [
           "Katsukawa Shunshō"
          ],
          [
           "Kawabata Ryūshi"
          ],
          [
           "Kawai Gyokudō"
          ],
          [
           "Kawanabe Kyōsai"
          ],
          [
           "Hasui Kawase"
          ],
          [
           "Kay Sage"
          ],
          [
           "Kayo Yamaguchi"
          ],
          [
           "Kazimierz Alchimowicz"
          ],
          [
           "Kazimierz Wojniakowski"
          ],
          [
           "Kazimir Malevich"
          ],
          [
           "Kazys Varnelis (artist)"
          ],
          [
           "Ke Jiusi"
          ],
          [
           "Kees Bol"
          ],
          [
           "Kees Maks"
          ],
          [
           "Kees van Dongen"
          ],
          [
           "Keisai Eisen"
          ],
          [
           "Keith Henderson (artist)"
          ],
          [
           "Kelly Sueda"
          ],
          [
           "Ken Danby"
          ],
          [
           "Ken Elias"
          ],
          [
           "Ken Howard (artist)"
          ],
          [
           "Ken Messer"
          ],
          [
           "Kenneth Noland"
          ],
          [
           "Ker-Xavier Roussel"
          ],
          [
           "Keraca Visulčeva"
          ],
          [
           "Kevin A. Short"
          ],
          [
           "Kevin Connor (artist)"
          ],
          [
           "Kahlil Gibran"
          ],
          [
           "Kikuchi Yōsai"
          ],
          [
           "Kikukawa Eizan"
          ],
          [
           "Kim Deuk-sin"
          ],
          [
           "Kim Tschang-yeul"
          ],
          [
           "Kinichiro Ishikawa"
          ],
          [
           "Kishi Ganku"
          ],
          [
           "Kitao Shigemasa"
          ],
          [
           "Kiyohara Tama"
          ],
          [
           "Kiyoshi Saitō (artist)"
          ],
          [
           "Kiyoshi Yamashita"
          ],
          [
           "Knox Martin"
          ],
          [
           "Knud Agger"
          ],
          [
           "Knute Stiles"
          ],
          [
           "Kobayashi Kiyochika"
          ],
          [
           "Kohno Michisei"
          ],
          [
           "Koloman Sokol"
          ],
          [
           "Kōno Bairei"
          ],
          [
           "Konrad Grob"
          ],
          [
           "Konrad Klapheck"
          ],
          [
           "Konrad Krzyżanowski"
          ],
          [
           "Konrad Witz"
          ],
          [
           "Konstantin Korovin"
          ],
          [
           "Konstantin Makovsky"
          ],
          [
           "Konstantin Savitsky"
          ],
          [
           "Konstantin Somov"
          ],
          [
           "Constantin Westchiloff"
          ],
          [
           "Konstantin Yuon"
          ],
          [
           "Koryūsai"
          ],
          [
           "Kose Kanaoka"
          ],
          [
           "Kōshirō Onchi"
          ],
          [
           "Kristian Kreković"
          ],
          [
           "Kristian Zahrtmann"
          ],
          [
           "Kristin Nelson"
          ],
          [
           "Krzysztof Boguszewski"
          ],
          [
           "Ksenia Milicevic"
          ],
          [
           "Kume Keiichiro"
          ],
          [
           "Kun Can"
          ],
          [
           "Kuroda Seiki"
          ],
          [
           "Kurt Roesch"
          ],
          [
           "Kurt Schwitters"
          ],
          [
           "Kurt Seligmann"
          ],
          [
           "Kurt Trampedach"
          ],
          [
           "Kurt Wenner"
          ],
          [
           "Kusumi Morikage"
          ],
          [
           "Kyffin Williams"
          ],
          [
           "L. A. Ring"
          ],
          [
           "L. S. Lowry"
          ],
          [
           "L. Vance Phillips"
          ],
          [
           "Lajos Berán"
          ],
          [
           "Lajos Bruck"
          ],
          [
           "Lajos Gulácsy"
          ],
          [
           "Lajos Kassák"
          ],
          [
           "Lajos Tihanyi"
          ],
          [
           "Lajos Vajda"
          ],
          [
           "Lam Qua"
          ],
          [
           "Lambert Doomer"
          ],
          [
           "Lambert Jacobsz"
          ],
          [
           "Lamorna Birch"
          ],
          [
           "Lan Ying"
          ],
          [
           "Lari Pittman"
          ],
          [
           "Larry D. Alexander"
          ],
          [
           "Larry Rivers"
          ],
          [
           "Larry Zox"
          ],
          [
           "Lars Jonson Haukaness"
          ],
          [
           "Lasar Segall"
          ],
          [
           "László Balogh (painter)"
          ],
          [
           "László Beszédes"
          ],
          [
           "László Dombrovszky"
          ],
          [
           "László Mednyánszky"
          ],
          [
           "László Moholy-Nagy"
          ],
          [
           "László Paál"
          ],
          [
           "Lattanzio Gambara"
          ],
          [
           "Laura Ford"
          ],
          [
           "Laura Knight"
          ],
          [
           "Laura Muntz Lyall"
          ],
          [
           "Laura Theresa Alma-Tadema"
          ],
          [
           "Laura Wheeler Waring"
          ],
          [
           "Laurits Tuxen"
          ],
          [
           "Lawren Harris"
          ],
          [
           "Lawrence Alma-Tadema"
          ],
          [
           "Lawrence Calcagno"
          ],
          [
           "Lawrence Harris"
          ],
          [
           "Lawton S. Parker"
          ],
          [
           "Le Nain"
          ],
          [
           "LeConte Stewart"
          ],
          [
           "Lee Gatch"
          ],
          [
           "Lefevre James Cranstone"
          ],
          [
           "Leiko Ikemura"
          ],
          [
           "Leila Faithfull"
          ],
          [
           "Leland Bell"
          ],
          [
           "Lena Alexander"
          ],
          [
           "Leng Mei"
          ],
          [
           "Lennie Lee"
          ],
          [
           "Leo Götz"
          ],
          [
           "Leo Leuppi"
          ],
          [
           "Leo Michelson"
          ],
          [
           "Leo Valledor"
          ],
          [
           "Léon Bakst"
          ],
          [
           "Leon Chwistek"
          ],
          [
           "Leon Golub"
          ],
          [
           "Leon Kapliński"
          ],
          [
           "Leon Kroll"
          ],
          [
           "Leon Polk Smith"
          ],
          [
           "Leon Wyczółkowski"
          ],
          [
           "Leona Wood"
          ],
          [
           "Leonaert Bramer"
          ],
          [
           "Leonard Appelbee"
          ],
          [
           "Leonard Bahr"
          ],
          [
           "Leonard Daniels"
          ],
          [
           "Leonard Long"
          ],
          [
           "Leonard Ochtman"
          ],
          [
           "Leonardo da Vinci"
          ],
          [
           "Leonid Pasternak"
          ],
          [
           "Leonor Fini"
          ],
          [
           "Leonora Carrington"
          ],
          [
           "Leopold Gottlieb"
          ],
          [
           "LeRoy Neiman"
          ],
          [
           "Lesser Ury"
          ],
          [
           "Lev Lvovich Kamenev"
          ],
          [
           "Lewis Henry Meakin"
          ],
          [
           "Li Cheng (painter)"
          ],
          [
           "Li Di"
          ],
          [
           "Li Fangying"
          ],
          [
           "Li Gonglin"
          ],
          [
           "Li Kan (painter)"
          ],
          [
           "Li Keran"
          ],
          [
           "Li Mei-shu"
          ],
          [
           "Li Rongjin"
          ],
          [
           "Li Shan (painter)"
          ],
          [
           "Li Shida"
          ],
          [
           "Li Shixing"
          ],
          [
           "Li Song (painter)"
          ],
          [
           "Li Tang (painter)"
          ],
          [
           "Li Zai"
          ],
          [
           "Liang Kai"
          ],
          [
           "Liao Chi-chun"
          ],
          [
           "Lili Árkayné Sztehló"
          ],
          [
           "Lilla Cabot Perry"
          ],
          [
           "Lily Delissa Joseph"
          ],
          [
           "Limbourg brothers"
          ],
          [
           "Lin Liang"
          ],
          [
           "Lin Tinggui"
          ],
          [
           "Linda Sutton"
          ],
          [
           "Lindsay Bartholomew"
          ],
          [
           "Lionel Lindsay"
          ],
          [
           "Lionel Walden"
          ],
          [
           "Lisa Milroy"
          ],
          [
           "Lisa Nankivil"
          ],
          [
           "Lisa Yuskavage"
          ],
          [
           "Liu Haisu"
          ],
          [
           "Liu Jue"
          ],
          [
           "Liu Jun (painter)"
          ],
          [
           "Lyubov Popova"
          ],
          [
           "Líviusz Gyulai"
          ],
          [
           "Lizzy Ansingh"
          ],
          [
           "Lodewijk Bruckman"
          ],
          [
           "Lois Dodd"
          ],
          [
           "Lois Mailou Jones"
          ],
          [
           "Lojze Logar"
          ],
          [
           "Loren Munk"
          ],
          [
           "Lorenz Frølich"
          ],
          [
           "Lorenzo Lotto"
          ],
          [
           "Louis Anquetin"
          ],
          [
           "Louis Briel"
          ],
          [
           "Louis Buvelot"
          ],
          [
           "Louis Comfort Tiffany"
          ],
          [
           "Louis de Caullery"
          ],
          [
           "Louis Eilshemius"
          ],
          [
           "Louis Grell"
          ],
          [
           "Louis Hersent"
          ],
          [
           "Louis Janmot"
          ],
          [
           "Louis le Brocquy"
          ],
          [
           "Louis Marcoussis"
          ],
          [
           "Louis Mathieu Verdilhan"
          ],
          [
           "Louis Pohl"
          ],
          [
           "Louis Schanker"
          ],
          [
           "Louis Valtat"
          ],
          [
           "Louis-François Aubry"
          ],
          [
           "Louis-Léopold Boilly"
          ],
          [
           "Louis-Michel van Loo"
          ],
          [
           "Louisa Chase"
          ],
          [
           "Louisa Matthíasdóttir"
          ],
          [
           "Louisa Puller"
          ],
          [
           "Louise Abbéma"
          ],
          [
           "Louise Catherine Breslau"
          ],
          [
           "Louise Nevelson"
          ],
          [
           "Lovis Corinth"
          ],
          [
           "Lu Guang (painter)"
          ],
          [
           "Lü Ji (painter)"
          ],
          [
           "Lu Zhi (painter)"
          ],
          [
           "Lubin Baugin"
          ],
          [
           "Lubna Agha"
          ],
          [
           "Luc Tuymans"
          ],
          [
           "Luc-Olivier Merson"
          ],
          [
           "Lucas Cranach the Elder"
          ],
          [
           "Lucas Cranach the Younger"
          ],
          [
           "Lucas van Leyden"
          ],
          [
           "Lucas Vorsterman the Elder"
          ],
          [
           "Lucebert"
          ],
          [
           "Lucette Barker"
          ],
          [
           "Lucia Peka"
          ],
          [
           "Lucian Freud"
          ],
          [
           "Lucien Pissarro"
          ],
          [
           "Lucio Fontana"
          ],
          [
           "Lucy Bacon"
          ],
          [
           "Lucy Madox Brown"
          ],
          [
           "Luděk Marold"
          ],
          [
           "Ludolf Bakhuizen"
          ],
          [
           "Ludolf de Jongh"
          ],
          [
           "Ludovico Carracci"
          ],
          [
           "Ľudovít Fulla"
          ],
          [
           "Ludwig Bemelmans"
          ],
          [
           "Ludwig Knaus"
          ],
          [
           "Ludwig Mestler"
          ],
          [
           "Ludwik Konarzewski"
          ],
          [
           "Ludwik Konarzewski-junior"
          ],
          [
           "Luigi Kasimir"
          ],
          [
           "Luis Enrique Camejo"
          ],
          [
           "Luis Marsans"
          ],
          [
           "Luis Miranda (painter)"
          ],
          [
           "Luis Molinari"
          ],
          [
           "Luis Ricardo Falero"
          ],
          [
           "Lujo Bezeredi"
          ],
          [
           "Luo Mu"
          ],
          [
           "Luo Ping"
          ],
          [
           "Luo Zhichuan"
          ],
          [
           "Lydia Field Emmet"
          ],
          [
           "Lyonel Feininger"
          ],
          [
           "M. C. Escher"
          ],
          [
           "M. F. Husain"
          ],
          [
           "Ma Lin (painter)"
          ],
          [
           "Ma Quan"
          ],
          [
           "Ma Shi"
          ],
          [
           "Ma Wan (painter)"
          ],
          [
           "Ma Yuan (painter)"
          ],
          [
           "Ma Yuanyu"
          ],
          [
           "Madge Oliver"
          ],
          [
           "Magdalene Bärens"
          ],
          [
           "Maggie Hamilton"
          ],
          [
           "Magnus Colcord Heurlin"
          ],
          [
           "Mahmoud Farshchian"
          ],
          [
           "Maki Haku"
          ],
          [
           "Maksimilijan Vanka"
          ],
          [
           "Maksymilian Gierymski"
          ],
          [
           "Malcolm Drummond"
          ],
          [
           "Malcolm Morley"
          ],
          [
           "Maler Müller"
          ],
          [
           "Man Ray"
          ],
          [
           "Manabu Mabe"
          ],
          [
           "Manfredi Beninati"
          ],
          [
           "Manolo Millares"
          ],
          [
           "Manuel Franquelo"
          ],
          [
           "Manuel Ortiz de Zárate"
          ],
          [
           "Manuel Rendón Seminario"
          ],
          [
           "Manuel Rivera (painter)"
          ],
          [
           "Marc Chagall"
          ],
          [
           "Marc-Aurèle de Foy Suzor-Coté"
          ],
          [
           "Marcel Duchamp"
          ],
          [
           "Marcelle Bergerol"
          ],
          [
           "Marcello Bacciarelli"
          ],
          [
           "Marcin Zaleski"
          ],
          [
           "Marcos Restrepo"
          ],
          [
           "Mardi Barrie"
          ],
          [
           "Margaret Backhouse (artist)"
          ],
          [
           "Margaret Bingham"
          ],
          [
           "Margaret Boden (artist)"
          ],
          [
           "Margaret Bruce Wells"
          ],
          [
           "Margaret Garland"
          ],
          [
           "Margaret Geddes (artist)"
          ],
          [
           "Margaret Graeme Niven"
          ],
          [
           "Margaret Leiteritz"
          ],
          [
           "Margaret Macdonald Mackintosh"
          ],
          [
           "Margareta Alströmer"
          ],
          [
           "Margit Anna"
          ],
          [
           "Margo Hoff"
          ],
          [
           "Marguerite Zorach"
          ],
          [
           "Marià Fortuny"
          ],
          [
           "Maria Helena Vieira da Silva"
          ],
          [
           "Maria Johanna Görtz"
          ],
          [
           "Maria van Oosterwijck"
          ],
          [
           "Marianne von Werefkin"
          ],
          [
           "Marie Angel (artist)"
          ],
          [
           "Marie Bashkirtseff"
          ],
          [
           "Marie Bracquemond"
          ],
          [
           "Marie Courtois"
          ],
          [
           "Marie Krøyer"
          ],
          [
           "Marie Laurencin"
          ],
          [
           "Marie Vassilieff"
          ],
          [
           "Marie-Suzanne Giroust"
          ],
          [
           "Marilyn Bendell"
          ],
          [
           "Mario Bardi"
          ],
          [
           "Mario Comensoli"
          ],
          [
           "Mario Dubsky"
          ],
          [
           "Mario Sironi"
          ],
          [
           "Marion Ancrum"
          ],
          [
           "Marion Wachtel"
          ],
          [
           "Mariotto Albertinelli"
          ],
          [
           "Marjorie Frances Bruford"
          ],
          [
           "Marjorie May Bacon"
          ],
          [
           "Mark A. Brennan"
          ],
          [
           "Mark Boyle (artist)"
          ],
          [
           "Mark Gertler (artist)"
          ],
          [
           "Mark Rothko"
          ],
          [
           "Mark Tobey"
          ],
          [
           "Marsden Hartley"
          ],
          [
           "Márta Lacza"
          ],
          [
           "Marten Post"
          ],
          [
           "Martin Benka"
          ],
          [
           "Martin Desjardins"
          ],
          [
           "Martin Johnson Heade"
          ],
          [
           "Martin Kober"
          ],
          [
           "Martina Krupičková"
          ],
          [
           "Mārtiņš Krūmiņš"
          ],
          [
           "Martinus Rørbye"
          ],
          [
           "Martiros Saryan"
          ],
          [
           "Maruja Mallo"
          ],
          [
           "Maruyama Ōkyo"
          ],
          [
           "Mary Abbott (artist)"
          ],
          [
           "Mary Adshead"
          ],
          [
           "Mary Agnes Yerkes"
          ],
          [
           "Mary Anne Ansley"
          ],
          [
           "Mary Audsley"
          ],
          [
           "Mary Black (artist)"
          ],
          [
           "Mary Byfield"
          ],
          [
           "Mary Callery"
          ],
          [
           "Mary Cameron (painter)"
          ],
          [
           "Mary Cassatt"
          ],
          [
           "Mary Corkling"
          ],
          [
           "Mary Curtis Richardson"
          ],
          [
           "Mary Davidson (artist)"
          ],
          [
           "Mary Davis (artist)"
          ],
          [
           "Mary Dignam"
          ],
          [
           "Mary Elizabeth Groom"
          ],
          [
           "Mary Elizabeth Price"
          ],
          [
           "Mary Grant (sculptor)"
          ],
          [
           "Mary McCrossan"
          ],
          [
           "Mary McEvoy (artist)"
          ],
          [
           "Mary Moser"
          ],
          [
           "Mary Syme Boyd"
          ],
          [
           "Maryam Hashemi"
          ],
          [
           "Masamitsu Ota"
          ],
          [
           "Masao Maeda"
          ],
          [
           "Masolino da Panicale"
          ],
          [
           "Master MS"
          ],
          [
           "Master of Affligem"
          ],
          [
           "Master of Saint Giles"
          ],
          [
           "Master of the Bambino Vispo"
          ],
          [
           "Master of the Embroidered Foliage"
          ],
          [
           "Master of the Legend of Saint Lucy"
          ],
          [
           "Matej Sternen"
          ],
          [
           "Mati Klarwein"
          ],
          [
           "Maties Palau Ferré"
          ],
          [
           "Matija Jama"
          ],
          [
           "Matsumura Goshun"
          ],
          [
           "Matsuno Chikanobu"
          ],
          [
           "Matteo Pérez"
          ],
          [
           "Matthew Smith (painter)"
          ],
          [
           "Matthias Grünewald"
          ],
          [
           "Matthias Stom"
          ],
          [
           "Matthijs Maris"
          ],
          [
           "Matthijs Naiveu"
          ],
          [
           "Maud Naftel"
          ],
          [
           "Maude Kaufman Eggemeyer"
          ],
          [
           "Maurice Boitel"
          ],
          [
           "Maurice Braun"
          ],
          [
           "Maurice de Vlaminck"
          ],
          [
           "Maurice Denis"
          ],
          [
           "Maurice Prendergast"
          ],
          [
           "Maurice Reymond de Broutelles"
          ],
          [
           "Maurice Utrillo"
          ],
          [
           "Maurycy Gottlieb"
          ],
          [
           "Max Beckmann"
          ],
          [
           "Max Buri"
          ],
          [
           "Max Dauthendey"
          ],
          [
           "Max Ernst"
          ],
          [
           "Max Friedrich Koch"
          ],
          [
           "Max Gubler"
          ],
          [
           "Max Klinger"
          ],
          [
           "Max Liebermann"
          ],
          [
           "Max Magnus Norman"
          ],
          [
           "Max Pechstein"
          ],
          [
           "Max Slevogt"
          ],
          [
           "Max Švabinský"
          ],
          [
           "Max Walter Svanberg"
          ],
          [
           "Maxfield Parrish"
          ],
          [
           "Maximilian Cercha"
          ],
          [
           "Maximilien Luce"
          ],
          [
           "Maxwell Bates"
          ],
          [
           "Maxwell Gordon Lightfoot"
          ],
          [
           "Maxwell Hendler"
          ],
          [
           "May de Montravel Edwardes"
          ],
          [
           "May Louise Greville Cooksey"
          ],
          [
           "McKendree Long"
          ],
          [
           "Mei Qing"
          ],
          [
           "Meindert Hobbema"
          ],
          [
           "Melchior Broederlam"
          ],
          [
           "Melchior d'Hondecoeter"
          ],
          [
           "Melchior Lorck"
          ],
          [
           "Melozzo da Forlì"
          ],
          [
           "Menez (painter)"
          ],
          [
           "Meredith Dillman"
          ],
          [
           "Meredith Garniss"
          ],
          [
           "Mi Fu"
          ],
          [
           "Mia Brownell"
          ],
          [
           "Miao Fu"
          ],
          [
           "Michael Sarisky"
          ],
          [
           "Michael Ancher"
          ],
          [
           "Michael Andrews (artist)"
          ],
          [
           "Michael Dahl"
          ],
          [
           "Michael Ford (artist)"
          ],
          [
           "Michael Goldberg (painter)"
          ],
          [
           "Michael Kmit"
          ],
          [
           "Michael Leunig"
          ],
          [
           "Michael Ray Charles"
          ],
          [
           "Michael Sittow"
          ],
          [
           "Michalis Oikonomou"
          ],
          [
           "Michel De Caso"
          ],
          [
           "Michel Delacroix (painter)"
          ],
          [
           "Michel Kikoine"
          ],
          [
           "Michel Tapié"
          ],
          [
           "Michelangelo"
          ],
          [
           "Caravaggio"
          ],
          [
           "Michelangelo Unterberger"
          ],
          [
           "Michiel Jansz. van Mierevelt"
          ],
          [
           "Michiel van Musscher"
          ],
          [
           "Mihály Munkácsy"
          ],
          [
           "Mihály Zichy"
          ],
          [
           "Mikalojus Konstantinas Čiurlionis"
          ],
          [
           "Mikhail Evstafiev"
          ],
          [
           "Mikhail Larionov"
          ],
          [
           "Mikhail Lebedev"
          ],
          [
           "Mikhail Nesterov"
          ],
          [
           "Mikhail Vrubel"
          ],
          [
           "Mikhail Lermontov"
          ],
          [
           "Miklós Barabás"
          ],
          [
           "Miklós Borsos"
          ],
          [
           "Mikoláš Aleš"
          ],
          [
           "Mildred Anne Butler"
          ],
          [
           "Mildred Eldridge"
          ],
          [
           "Millard Sheets"
          ],
          [
           "Milton Avery"
          ],
          [
           "Milton Menasco"
          ],
          [
           "Miltos Manetas"
          ],
          [
           "Min Zhen"
          ],
          [
           "Minerva J. Chapman"
          ],
          [
           "Mirabello Cavalori"
          ],
          [
           "Mirko Rački"
          ],
          [
           "Miyagawa Chōshun"
          ],
          [
           "Miyagawa Isshō"
          ],
          [
           "Miyagawa Shunsui"
          ],
          [
           "Modest Urgell"
          ],
          [
           "Moïse Kisling"
          ],
          [
           "Mollie Forestier-Walker"
          ],
          [
           "Mona Moore"
          ],
          [
           "Mór Adler"
          ],
          [
           "Mór Than"
          ],
          [
           "Morgan Russell"
          ],
          [
           "Mori Sosen"
          ],
          [
           "Morris Kestelman"
          ],
          [
           "Morris Louis"
          ],
          [
           "Moses Soyer"
          ],
          [
           "Moses van Uyttenbroeck"
          ],
          [
           "Mstislav Dobuzhinsky"
          ],
          [
           "Muggur"
          ],
          [
           "Muirhead Bone"
          ],
          [
           "Shikō Munakata"
          ],
          [
           "Muqi"
          ],
          [
           "Mural"
          ],
          [
           "Muriel Brandt"
          ],
          [
           "Mykola Burachek"
          ],
          [
           "Mym Tuma"
          ],
          [
           "Myra Landau"
          ],
          [
           "N. C. Wyeth"
          ],
          [
           "Nabil Kanso"
          ],
          [
           "Nadim Karam"
          ],
          [
           "Nadir Afonso"
          ],
          [
           "Nadya Rusheva"
          ],
          [
           "Nagasawa Rosetsu"
          ],
          [
           "Naka Bokunen"
          ],
          [
           "Nakahara Nantenbō"
          ],
          [
           "Nam Gye-u"
          ],
          [
           "Nancy Carline"
          ],
          [
           "Nancy Graves"
          ],
          [
           "Nancy Spero"
          ],
          [
           "Nándor Katona"
          ],
          [
           "Naohisa Inoue"
          ],
          [
           "Naondo Nakamura"
          ],
          [
           "Narashige Koide"
          ],
          [
           "Nassos Daphnis"
          ],
          [
           "Natalia Goncharova"
          ],
          [
           "Nathan Oliveira"
          ],
          [
           "Nathan Wyburn"
          ],
          [
           "Nathaniel Hone the Elder"
          ],
          [
           "Nathaniel Pousette-Dart"
          ],
          [
           "Naza"
          ],
          [
           "Naza (artist)"
          ],
          [
           "Nazmi Ziya Güran"
          ],
          [
           "Ndoc Martini"
          ],
          [
           "Neil Welliver"
          ],
          [
           "Neil Williams (artist)"
          ],
          [
           "NEVERCREW"
          ],
          [
           "Nevin Çokay"
          ],
          [
           "Ni Duan"
          ],
          [
           "Ni Tian"
          ],
          [
           "Ni Yuanlu"
          ],
          [
           "Ni Zan"
          ],
          [
           "Niccolò dell'Abbate"
          ],
          [
           "Nicholas Hilliard"
          ],
          [
           "Nicholas Marsicano"
          ],
          [
           "Nicholas Roerich"
          ],
          [
           "Nick Fudge"
          ],
          [
           "Nick Gentry"
          ],
          [
           "Nicolaes Pickenoy"
          ],
          [
           "Nicolaes Maes"
          ],
          [
           "Nicolaes Pieterszoon Berchem"
          ],
          [
           "Nicolas Carone"
          ],
          [
           "Nicolas de Staël"
          ],
          [
           "Nicolas Froment"
          ],
          [
           "Nicolas Lancret"
          ],
          [
           "Nicolas Poussin"
          ],
          [
           "Nicolas-Toussaint Charlet"
          ],
          [
           "Nicolette Macnamara"
          ],
          [
           "Nicomachus of Thebes"
          ],
          [
           "Niels Lergaard"
          ],
          [
           "Niklaus Manuel Deutsch"
          ],
          [
           "Nikola Avramov"
          ],
          [
           "Nikolay Kasatkin"
          ],
          [
           "Nikolai Astrup"
          ],
          [
           "Nikolai Ge"
          ],
          [
           "Nikolai Yaroshenko"
          ],
          [
           "Nicolai Abildgaard"
          ],
          [
           "Nikolay Dubovskoy"
          ],
          [
           "Nils Dardel"
          ],
          [
           "Nina Hamnett"
          ],
          [
           "Nina Valetova"
          ],
          [
           "Nína Tryggvadóttir"
          ],
          [
           "Nishida Shun'ei"
          ],
          [
           "Nishikawa Sukenobu"
          ],
          [
           "Nōami"
          ],
          [
           "Noe Canjura"
          ],
          [
           "Noel Counihan"
          ],
          [
           "Noémi Ferenczy"
          ],
          [
           "Nora Cundell"
          ],
          [
           "Norah Neilson Gray"
          ],
          [
           "Norma Bull"
          ],
          [
           "Norman Garstin"
          ],
          [
           "Norman Hepple"
          ],
          [
           "Norman Rockwell"
          ],
          [
           "Normand Baker"
          ],
          [
           "Nuno Gonçalves"
          ],
          [
           "Nyuju Stumpy Brown"
          ],
          [
           "Odd Nerdrum"
          ],
          [
           "Odhise Paskali"
          ],
          [
           "Odilon Redon"
          ],
          [
           "Ödön Márffy"
          ],
          [
           "Ogata Gekkō"
          ],
          [
           "Ogata Kenzan"
          ],
          [
           "Ogata Kōrin"
          ],
          [
           "Ogura Yonesuke Itoh"
          ],
          [
           "Ohara Koson"
          ],
          [
           "Okada Beisanjin"
          ],
          [
           "Okada Hankō"
          ],
          [
           "Okumura Masanobu"
          ],
          [
           "Olaf Gulbransson"
          ],
          [
           "Olaf Rude"
          ],
          [
           "Oleg Lipchenko"
          ],
          [
           "Olga Boznańska"
          ],
          [
           "Olive Mudie-Cooke"
          ],
          [
           "Oliver Sin"
          ],
          [
           "Olivia Peguero"
          ],
          [
           "Oluf Høst"
          ],
          [
           "Orazio Gentileschi"
          ],
          [
           "Orovida Camille Pissarro"
          ],
          [
           "Orshi Drozdik"
          ],
          [
           "Óscar Domínguez"
          ],
          [
           "Oscar Rodríguez Naranjo"
          ],
          [
           "Oskar Kokoschka"
          ],
          [
           "Oskar Lüthy"
          ],
          [
           "Ossip Zadkine"
          ],
          [
           "Osvaldo Romberg"
          ],
          [
           "Oswald Achenbach"
          ],
          [
           "Oswald Birley"
          ],
          [
           "Oswaldo Guayasamín"
          ],
          [
           "Oswaldo Viteri"
          ],
          [
           "Oszkar Tordai Schilling"
          ],
          [
           "Ota Bubeníček"
          ],
          [
           "Otakar Kubín"
          ],
          [
           "Otakar Sedloň"
          ],
          [
           "Otake Chikuha"
          ],
          [
           "Otis Kaye"
          ],
          [
           "Oton Gliha"
          ],
          [
           "Oton Iveković"
          ],
          [
           "Ottilie Maclaren Wallace"
          ],
          [
           "Otto Abt"
          ],
          [
           "Ottó Baditz"
          ],
          [
           "Otto Dix"
          ],
          [
           "Otto Eckmann"
          ],
          [
           "Otto Frölicher"
          ],
          [
           "Otto Lange"
          ],
          [
           "Otto Marseus van Schrieck"
          ],
          [
           "Otto Meyer-Amden"
          ],
          [
           "Otto Morach"
          ],
          [
           "Otto Piene"
          ],
          [
           "Otto Pilny"
          ],
          [
           "Otto Placht"
          ],
          [
           "Otto Stark"
          ],
          [
           "Jang Seung-eop"
          ],
          [
           "P. C. Skovgaard"
          ],
          [
           "Pablo Picasso"
          ],
          [
           "Pablo Rey"
          ],
          [
           "Pacita Abad"
          ],
          [
           "Pál Balkay"
          ],
          [
           "Pál Böhm"
          ],
          [
           "Pál Szinyei Merse"
          ],
          [
           "Pamela Ascherson"
          ],
          [
           "Pamela Drew"
          ],
          [
           "Pamelia Hill"
          ],
          [
           "Pamphilus (painter)"
          ],
          [
           "Pan Tianshou"
          ],
          [
           "Pan Yuliang"
          ],
          [
           "Paolo Uccello"
          ],
          [
           "Paolo Veronese"
          ],
          [
           "Parmigianino"
          ],
          [
           "Pascal Dagnan-Bouveret"
          ],
          [
           "Pasquarosa"
          ],
          [
           "Pat Adams"
          ],
          [
           "Patrick Adam"
          ],
          [
           "Patrick Caulfield"
          ],
          [
           "Patrick Ching"
          ],
          [
           "Patrick Hall (artist)"
          ],
          [
           "Patrick Henry Bruce"
          ],
          [
           "Patrick Nagel"
          ],
          [
           "Patrick Nasmyth"
          ],
          [
           "Patrick Pietropoli"
          ],
          [
           "Patrick Pye"
          ],
          [
           "Paul Bird (artist)"
          ],
          [
           "Paul Bodmer"
          ],
          [
           "Paul Cadmus"
          ],
          [
           "Paul Cézanne"
          ],
          [
           "Paul Cornoyer"
          ],
          [
           "Paul Delvaux"
          ],
          [
           "Paul Dirmeikis"
          ],
          [
           "Paul Émile Chabas"
          ],
          [
           "Paul Emmert"
          ],
          [
           "Paul Feeley"
          ],
          [
           "Paul Gauguin"
          ],
          [
           "Paul Georges"
          ],
          [
           "Paul Guigou"
          ],
          [
           "Paul Gustav Fischer"
          ],
          [
           "Paul Harvey (artist)"
          ],
          [
           "Paul Henry (painter)"
          ],
          [
           "Paul Manship"
          ],
          [
           "Paul Jacob Naftel"
          ],
          [
           "Paul Kane"
          ],
          [
           "Paul Kelpe"
          ],
          [
           "Paul Klee"
          ],
          [
           "Richard Paul Lohse"
          ],
          [
           "Paul Lucien Dessau"
          ],
          [
           "Paul Mavrides"
          ],
          [
           "Paul Monnier"
          ],
          [
           "Paul Nash (artist)"
          ],
          [
           "Paul Resika"
          ],
          [
           "Paul Signac"
          ],
          [
           "Paul Wunderlich"
          ],
          [
           "Paul-Albert Besnard"
          ],
          [
           "Paul-Émile Borduas"
          ],
          [
           "Paula Rego"
          ],
          [
           "Paulus Moreelse"
          ],
          [
           "Paulus Potter"
          ],
          [
           "Pavel Fedotov"
          ],
          [
           "Pavel Filonov"
          ],
          [
           "Peder Severin Krøyer"
          ],
          [
           "Pedro Álvarez Castelló"
          ],
          [
           "Pedro Figari"
          ],
          [
           "Pedro Pedraja"
          ],
          [
           "Peggy Angus"
          ],
          [
           "Peggy Bacon"
          ],
          [
           "Penelope Beaton"
          ],
          [
           "Penleigh Boyd"
          ],
          [
           "Penny Rimbaud"
          ],
          [
           "Penry Williams (artist)"
          ],
          [
           "Per Kirkeby"
          ],
          [
           "Per Krohg"
          ],
          [
           "Perino del Vaga"
          ],
          [
           "Perle Fine"
          ],
          [
           "Persis Goodale Thurston Taylor"
          ],
          [
           "Peter Alexander Hay"
          ],
          [
           "Peter Benjamin Graham"
          ],
          [
           "Peter Birmann"
          ],
          [
           "Peter Blume"
          ],
          [
           "Peter Brandes"
          ],
          [
           "Peter Brook (painter)"
          ],
          [
           "Peter Churcher"
          ],
          [
           "Peter Lanyon"
          ],
          [
           "Peter Lely"
          ],
          [
           "Peter Max"
          ],
          [
           "Peter Maxwell Ewart"
          ],
          [
           "Peter McArdle"
          ],
          [
           "Peter Michael (artist)"
          ],
          [
           "Peter Paul Rubens"
          ],
          [
           "Peter Prendergast (artist)"
          ],
          [
           "Peter S. Pezzati"
          ],
          [
           "Peter Scott"
          ],
          [
           "Peter Snow (artist)"
          ],
          [
           "Peter Wtewael"
          ],
          [
           "Petr Brandl"
          ],
          [
           "Petrus Christus"
          ],
          [
           "Petrus Van der Velden"
          ],
          [
           "Philip Absolon"
          ],
          [
           "Philip de László"
          ],
          [
           "Philip Evergood"
          ],
          [
           "Philip Guston"
          ],
          [
           "Philip Wilson Steer"
          ],
          [
           "Philipp Veit"
          ],
          [
           "Philips Koninck"
          ],
          [
           "Philips Wouwerman"
          ],
          [
           "Philipp Otto Runge"
          ],
          [
           "Phyllis Bone"
          ],
          [
           "Phyllis Bray"
          ],
          [
           "Phyllis Ginger"
          ],
          [
           "Pia Fries"
          ],
          [
           "Piero della Francesca"
          ],
          [
           "Piero di Cosimo"
          ],
          [
           "Pierre Adolphe Valette"
          ],
          [
           "Pierre Alechinsky"
          ],
          [
           "Pierre Auguste Cot"
          ],
          [
           "Pierre Bonnard"
          ],
          [
           "Pierre Brissaud"
          ],
          [
           "Pierre Laffillé"
          ],
          [
           "Pierre Puvis de Chavannes"
          ],
          [
           "Pierre Roland Renoir"
          ],
          [
           "Pierre Roy (painter)"
          ],
          [
           "Pierre Soulages"
          ],
          [
           "Pierre Toutain-Dorbec"
          ],
          [
           "Pierre-Auguste Renoir"
          ],
          [
           "Pierre-Joseph Redouté"
          ],
          [
           "Piet Mondrian"
          ],
          [
           "Pieter Aertsen"
          ],
          [
           "Pieter Anthonisz. van Groenewegen"
          ],
          [
           "Pieter Bruegel the Elder"
          ],
          [
           "Pieter Brueghel the Younger"
          ],
          [
           "Pieter Claesz"
          ],
          [
           "Pieter Codde"
          ],
          [
           "Pieter Cornelisz van Slingelandt"
          ],
          [
           "Pieter de Bloot"
          ],
          [
           "Pieter de Grebber"
          ],
          [
           "Pieter de Hooch"
          ],
          [
           "Pieter de Ring"
          ],
          [
           "Pieter Franciscus Dierckx"
          ],
          [
           "Pieter Huys"
          ],
          [
           "Pieter Janssens Elinga"
          ],
          [
           "Pieter Quast"
          ],
          [
           "Pieter Jansz. Saenredam"
          ],
          [
           "Pieter Jansz van Asch"
          ],
          [
           "Pieter Lastman"
          ],
          [
           "Pieter Mulier II"
          ],
          [
           "Pieter Mulier the Elder"
          ],
          [
           "Pieter van Anraedt"
          ],
          [
           "Pieter van der Werff"
          ],
          [
           "Pieter van Laer"
          ],
          [
           "Pietro da Cortona"
          ],
          [
           "Pietro Faccini"
          ],
          [
           "Pietro Longhi"
          ],
          [
           "Pietro Lorenzetti"
          ],
          [
           "Pietro Perugino"
          ],
          [
           "Pietro Testa"
          ],
          [
           "Pinchus Kremegne"
          ],
          [
           "Pinturicchio"
          ],
          [
           "Piotr Michałowski"
          ],
          [
           "Pisanello"
          ],
          [
           "Pogus Caesar"
          ],
          [
           "Pompeo Batoni"
          ],
          [
           "Porfirio DiDonna"
          ],
          [
           "Primrose Pitman"
          ],
          [
           "Prince Hoare (elder)"
          ],
          [
           "Prince Hoare (younger)"
          ],
          [
           "Prudence Heward"
          ],
          [
           "Pu Hua"
          ],
          [
           "Puru (artist)"
          ],
          [
           "Qi Baishi"
          ],
          [
           "Qian Du"
          ],
          [
           "Qian Gu"
          ],
          [
           "Qian Xuan"
          ],
          [
           "Qiu Ying"
          ],
          [
           "Qu Leilei"
          ],
          [
           "Quentin Matsys"
          ],
          [
           "Quirijn van Brekelenkam"
          ],
          [
           "Quirizio di Giovanni da Murano"
          ],
          [
           "R. B. Kitaj"
          ],
          [
           "R. R. McIan"
          ],
          [
           "Rachel Reckitt"
          ],
          [
           "Rachel Ruysch"
          ],
          [
           "Rackstraw Downes"
          ],
          [
           "Radi Nedelchev"
          ],
          [
           "Raphael Ritz"
          ],
          [
           "Rafail Levitsky"
          ],
          [
           "Raphael"
          ],
          [
           "Rainer Maria Latzke"
          ],
          [
           "Raja Ravi Varma"
          ],
          [
           "Rajesh Soni"
          ],
          [
           "Rajmund Kanelba"
          ],
          [
           "Ralph Albert Blakelock"
          ],
          [
           "Ralph Burke Tyree"
          ],
          [
           "Ralph Earl"
          ],
          [
           "Ram Chandra Shukla"
          ],
          [
           "Ramon Casas"
          ],
          [
           "Ramón Piaguaje"
          ],
          [
           "Ramon Pichot"
          ],
          [
           "Ramón Silva"
          ],
          [
           "Randall Schmit"
          ],
          [
           "Randolph Schwabe"
          ],
          [
           "Raoul De Keyser"
          ],
          [
           "Raoul Dufy"
          ],
          [
           "Raoul Ubac"
          ],
          [
           "Raphaël Collin"
          ],
          [
           "Raphael Kirchner"
          ],
          [
           "Raphael Soyer"
          ],
          [
           "Raphaelle Peale"
          ],
          [
           "Ras Akyem"
          ],
          [
           "Raúl Martínez (artist)"
          ],
          [
           "Ray Crooke"
          ],
          [
           "Ray Howard-Jones"
          ],
          [
           "Ray Parker (painter)"
          ],
          [
           "Raymond Coxon"
          ],
          [
           "Raymond Duchamp-Villon"
          ],
          [
           "Raymond Han"
          ],
          [
           "Raymond Hendler"
          ],
          [
           "Raymond Normand"
          ],
          [
           "Raymond Saunders (artist)"
          ],
          [
           "Raymond Teague Cowern"
          ],
          [
           "Reinier Nooms"
          ],
          [
           "Relja Penezic"
          ],
          [
           "Rembrandt"
          ],
          [
           "Rembrandt Peale"
          ],
          [
           "Remedios Varo"
          ],
          [
           "Ren Bonian"
          ],
          [
           "Ren Renfa"
          ],
          [
           "Ren Xiong"
          ],
          [
           "Ren Xun"
          ],
          [
           "René Auberjonois (painter)"
          ],
          [
           "René Magritte"
          ],
          [
           "Reuben Tam"
          ],
          [
           "Reynolds Beal"
          ],
          [
           "Rezső Bálint (painter)"
          ],
          [
           "Rhea Carmi"
          ],
          [
           "Riad Beyrouti"
          ],
          [
           "Richard Anuszkiewicz"
          ],
          [
           "Richard Artschwager"
          ],
          [
           "Richard Carline"
          ],
          [
           "Richard Dadd"
          ],
          [
           "Richard Demarco"
          ],
          [
           "Richard Diebenkorn"
          ],
          [
           "Richard Estes"
          ],
          [
           "Richard Gerstl"
          ],
          [
           "Richard Gordon Kendall"
          ],
          [
           "Richard Gruelle"
          ],
          [
           "Richard Hamilton (artist)"
          ],
          [
           "Richard Mayhew"
          ],
          [
           "Richard Mortensen"
          ],
          [
           "Richard Parkes Bonington"
          ],
          [
           "Richard Pionk"
          ],
          [
           "Richard Pousette-Dart"
          ],
          [
           "Richard Schmid"
          ],
          [
           "Richard Sedlon"
          ],
          [
           "Richard T. Scott"
          ],
          [
           "Richard Wilson (painter)"
          ],
          [
           "Richmond Barthé"
          ],
          [
           "Rick Amor"
          ],
          [
           "Ridolfo Ghirlandaio"
          ],
          [
           "Rihard Jakopič"
          ],
          [
           "Rinaldo Cuneo"
          ],
          [
           "Rita Angus"
          ],
          [
           "Reza Abbasi"
          ],
          [
           "Roar Kjernstad"
          ],
          [
           "Robert Adamson (photographer)"
          ],
          [
           "Robert Alwyn Hughes"
          ],
          [
           "Robert Antoine Pinchon"
          ],
          [
           "Robert Bain (artist)"
          ],
          [
           "Robert Ballagh"
          ],
          [
           "Robert Bateman (artist)"
          ],
          [
           "Robert Bateman (painter)"
          ],
          [
           "Robert Beauchamp"
          ],
          [
           "Robert Bechtle"
          ],
          [
           "Róbert Berény"
          ],
          [
           "Robert Bery"
          ],
          [
           "Robert Bevan"
          ],
          [
           "Robert Brackman"
          ],
          [
           "Robert Brough"
          ],
          [
           "Robert Bryden"
          ],
          [
           "Robert C. Barnfield"
          ],
          [
           "Robert Campin"
          ],
          [
           "Robert Colescott"
          ],
          [
           "Robert Colquhoun"
          ],
          [
           "Robert Combas"
          ],
          [
           "Robert Crozier (artist)"
          ],
          [
           "Robert Delaunay"
          ],
          [
           "Robert Dickerson"
          ],
          [
           "Robert Edmonstone"
          ],
          [
           "Robert Falk"
          ],
          [
           "Robert Feke"
          ],
          [
           "Robert Freebairn"
          ],
          [
           "Robert Gavin"
          ],
          [
           "Robert Goodnough"
          ],
          [
           "Robert Griffier"
          ],
          [
           "Robert Henderson Blyth"
          ],
          [
           "Robert Henri"
          ],
          [
           "Robert J. Brawley"
          ],
          [
           "Robert Jacobsen"
          ],
          [
           "Robert Koehler"
          ],
          [
           "Robert Lee Eskridge"
          ],
          [
           "Robert Lenkiewicz"
          ],
          [
           "Robert Macaulay Stevenson"
          ],
          [
           "Robert MacBryde"
          ],
          [
           "Robert Medley"
          ],
          [
           "Robert Motherwell"
          ],
          [
           "Robert Noble (artist)"
          ],
          [
           "Robert Rauschenberg"
          ],
          [
           "Robert Reid (American painter)"
          ],
          [
           "Robert Richenburg"
          ],
          [
           "Robert Scott Lauder"
          ],
          [
           "Robert Sivell"
          ],
          [
           "Robert Storm Petersen"
          ],
          [
           "Robert Thomas (sculptor)"
          ],
          [
           "Robert Walker Macbeth"
          ],
          [
           "Robert Weir Allan"
          ],
          [
           "Robert Vonnoh"
          ],
          [
           "Robert Zünd"
          ],
          [
           "Roberto Matta"
          ],
          [
           "Roberto Parada (painter)"
          ],
          [
           "Robin Guthrie (artist)"
          ],
          [
           "Rockwell Kent"
          ],
          [
           "Rodney Joseph Burn"
          ],
          [
           "Rodolfo Amoedo"
          ],
          [
           "Rodolfo Escalera"
          ],
          [
           "Rodolfo Morales"
          ],
          [
           "Rodolphe Töpffer"
          ],
          [
           "Rodolphe Wytsman"
          ],
          [
           "Roelant Savery"
          ],
          [
           "Roelof Jansz van Vries"
          ],
          [
           "Roger Cecil"
          ],
          [
           "Roger Swainston"
          ],
          [
           "Roger Wilson Dennis"
          ],
          [
           "Rogier van der Weyden"
          ],
          [
           "Rolf Iseli"
          ],
          [
           "Romaine Brooks"
          ],
          [
           "Roman Bezpalkiv"
          ],
          [
           "Romano Vio"
          ],
          [
           "Romare Bearden"
          ],
          [
           "Ron English"
          ],
          [
           "Ronald Davis"
          ],
          [
           "Ronald Rae"
          ],
          [
           "Ronnie Landfield"
          ],
          [
           "Rory McEwen (artist)"
          ],
          [
           "Rosa Bonheur"
          ],
          [
           "Rosalie Emslie"
          ],
          [
           "Rose Henriques"
          ],
          [
           "Rose Maynard Barton"
          ],
          [
           "Rosemary Allan"
          ],
          [
           "Ross Bleckner"
          ],
          [
           "Rowena Meeks Abdy"
          ],
          [
           "Roy Dalgarno"
          ],
          [
           "Roy De Maistre"
          ],
          [
           "Roy Lichtenstein"
          ],
          [
           "Roy Newell"
          ],
          [
           "Roy Petley"
          ],
          [
           "Rubens Peale"
          ],
          [
           "Rudolf Hausner"
          ],
          [
           "Rudolf Koller"
          ],
          [
           "Rudolf Schlichter"
          ],
          [
           "Rudolf von Alt"
          ],
          [
           "Rudolph F. Ingerle"
          ],
          [
           "Rufino Tamayo"
          ],
          [
           "Rupert Bunny"
          ],
          [
           "Rupert Shephard"
          ],
          [
           "Russell Chatham"
          ],
          [
           "Russell Drysdale"
          ],
          [
           "Ruth Abrahams"
          ],
          [
           "Ruth Abrams (artist)"
          ],
          [
           "Ruth Brandt"
          ],
          [
           "Ruth Collet"
          ],
          [
           "Ruth Hollingsworth"
          ],
          [
           "Ruth Jên"
          ],
          [
           "Ruth Schmidt Stockhausen"
          ],
          [
           "Ruth Simpson (artist)"
          ],
          [
           "Ruud Janssen"
          ],
          [
           "Ryōhei Koiso"
          ],
          [
           "Ryūkōsai Jokei"
          ],
          [
           "Ryūsei Kishida"
          ],
          [
           "Ryūzaburō Umehara"
          ],
          [
           "Sadamichi Hirasawa"
          ],
          [
           "Sadao Watanabe (artist)"
          ],
          [
           "Sakai Hōitsu"
          ],
          [
           "Sally Haley"
          ],
          [
           "Salomon de Bray"
          ],
          [
           "Salomon Koninck"
          ],
          [
           "Salomon van Abbé"
          ],
          [
           "Salomon van Ruysdael"
          ],
          [
           "Salvador Dalí"
          ],
          [
           "Sam Black (artist)"
          ],
          [
           "Sam Charles"
          ],
          [
           "Sam Dillemans"
          ],
          [
           "Sam Francis"
          ],
          [
           "Sam Havadtoy"
          ],
          [
           "Samu Börtsök"
          ],
          [
           "Samuel Birmann"
          ],
          [
           "Samuel Colman"
          ],
          [
           "Samuel Dirksz van Hoogstraten"
          ],
          [
           "Samuel Morse"
          ],
          [
           "Samuel Hieronymus Grimm"
          ],
          [
           "Samuel Peploe"
          ],
          [
           "Samuel Prout"
          ],
          [
           "Samuel Scott (painter)"
          ],
          [
           "Samuel Shelley"
          ],
          [
           "Samuel Washington Weis"
          ],
          [
           "Sándor Bihari"
          ],
          [
           "Sándor Bortnyik"
          ],
          [
           "Sándor Brodszky"
          ],
          [
           "Sándor Liezen-Mayer"
          ],
          [
           "Sandro Botticelli"
          ],
          [
           "Saneatsu Mushanokōji"
          ],
          [
           "Sanford Robinson Gifford"
          ],
          [
           "Santiago Martínez Delgado"
          ],
          [
           "Santiago Rusiñol"
          ],
          [
           "Sara Saftleven"
          ],
          [
           "Sarah C. Frothingham"
          ],
          [
           "Sarah Gough Adamson"
          ],
          [
           "Sarah Louisa Kilpack"
          ],
          [
           "Sobha Singh (painter)"
          ],
          [
           "Sargent Claude Johnson"
          ],
          [
           "Sasha Putrya"
          ],
          [
           "Satake Yoshiatsu"
          ],
          [
           "Saul Yaffie"
          ],
          [
           "Sava Šumanović"
          ],
          [
           "Sawa Sekkyō"
          ],
          [
           "Schelte a Bolswert"
          ],
          [
           "Sean Scully"
          ],
          [
           "Sebastian Spreng"
          ],
          [
           "Sebastiaen Vrancx"
          ],
          [
           "Sebastiano Ricci"
          ],
          [
           "Seison Maeda"
          ],
          [
           "Seiu Ito"
          ],
          [
           "Sengai"
          ],
          [
           "Serafino De Tivoli"
          ],
          [
           "Serge Poliakoff"
          ],
          [
           "Serge Sudeikin"
          ],
          [
           "Sergei Sviatchenko"
          ],
          [
           "Sergio Burzi"
          ],
          [
           "Sergio Rossetti Morosini"
          ],
          [
           "Serhii Vasylkivsky"
          ],
          [
           "Sesshū Tōyō"
          ],
          [
           "Sesson Shukei"
          ],
          [
           "Shang Xi"
          ],
          [
           "Shani Rhys James"
          ],
          [
           "Shao Mi"
          ],
          [
           "Sheila McClean"
          ],
          [
           "Sheila Mullen (artist)"
          ],
          [
           "Shen Che-tsai"
          ],
          [
           "Shen Quan"
          ],
          [
           "Shen Shichong"
          ],
          [
           "Shen Zhou"
          ],
          [
           "Sheng Mao"
          ],
          [
           "Sheng Maoye"
          ],
          [
           "Shi Rui"
          ],
          [
           "Shi Zhonggui (painter)"
          ],
          [
           "Shiba Kōkan"
          ],
          [
           "Shibata Zeshin"
          ],
          [
           "Shigeru Aoki"
          ],
          [
           "Shin Saimdang"
          ],
          [
           "Sin Yun-bok"
          ],
          [
           "Shingei"
          ],
          [
           "Toko Shinoda"
          ],
          [
           "Shirley Teed"
          ],
          [
           "Shitao"
          ],
          [
           "Shōzaburō Watanabe"
          ],
          [
           "Shozo Shimamoto"
          ],
          [
           "Shunbaisai Hokuei"
          ],
          [
           "Shunkōsai Hokushū"
          ],
          [
           "Sidney Nolan"
          ],
          [
           "Sidney Simon"
          ],
          [
           "Sigmar Polke"
          ],
          [
           "Sigmund Freudenberger"
          ],
          [
           "Sigrid Hjertén"
          ],
          [
           "Sigurd Swane"
          ],
          [
           "Silvestro Lega"
          ],
          [
           "Silvia Dimitrova"
          ],
          [
           "Sim Sa-jeong"
          ],
          [
           "Simon de Vlieger"
          ],
          [
           "Simon Gaon"
          ],
          [
           "Simon Marmion"
          ],
          [
           "Simon Ushakov"
          ],
          [
           "Simon Vouet"
          ],
          [
           "Simone Martini"
          ],
          [
           "Sin Wi"
          ],
          [
           "Siona Shimshi"
          ],
          [
           "Alfred Munnings"
          ],
          [
           "Jacob Epstein"
          ],
          [
           "William Russell Flint"
          ],
          [
           "Slava Raškaj"
          ],
          [
           "Slobodan Pejić"
          ],
          [
           "Sō Shiseki"
          ],
          [
           "Sōami"
          ],
          [
           "Sofonisba Anguissola"
          ],
          [
           "Sohrab Sepehri"
          ],
          [
           "Salomon Gessner"
          ],
          [
           "Soma Orlai Petrich"
          ],
          [
           "Song Maojin"
          ],
          [
           "Song Xu"
          ],
          [
           "Sonia Delaunay"
          ],
          [
           "Sophia Beale"
          ],
          [
           "Sophie Gengembre Anderson"
          ],
          [
           "Sophie Pemberton"
          ],
          [
           "Sophie Taeuber-Arp"
          ],
          [
           "Sōtarō Yasui"
          ],
          [
           "Spencer Gore (artist)"
          ],
          [
           "Stan Stokes"
          ],
          [
           "Stanhope Forbes"
          ],
          [
           "Stanislas Lépine"
          ],
          [
           "Stanislav Zhukovsky"
          ],
          [
           "Stanisław Ignacy Witkiewicz"
          ],
          [
           "Stanisław Masłowski"
          ],
          [
           "Stanisław Samostrzelnik"
          ],
          [
           "Stanisław Tondos"
          ],
          [
           "Stanisław Witkiewicz"
          ],
          [
           "Stanisław Wyspiański"
          ],
          [
           "Stanley Bahe"
          ],
          [
           "Stanley Matthew Mitruk"
          ],
          [
           "Stanley Spencer"
          ],
          [
           "Stanley Twardowicz"
          ],
          [
           "Stanton Macdonald-Wright"
          ],
          [
           "Stefan Gierowski"
          ],
          [
           "Stefan Lochner"
          ],
          [
           "Ștefan Luchian"
          ],
          [
           "Stella Schmolle"
          ],
          [
           "Stephen Bone"
          ],
          [
           "Stephen Gilbert"
          ],
          [
           "Stephen Greene (artist)"
          ],
          [
           "Stephen Pace (artist)"
          ],
          [
           "Steven Campbell (artist)"
          ],
          [
           "Stokely Webster"
          ],
          [
           "Stuart Davis (painter)"
          ],
          [
           "Sudip Roy"
          ],
          [
           "Sugimura Jihei"
          ],
          [
           "Sun Junze"
          ],
          [
           "Sun Kehong"
          ],
          [
           "Sun Long (painter)"
          ],
          [
           "Susan Crile"
          ],
          [
           "Susan Weil"
          ],
          [
           "Suzanne Duchamp"
          ],
          [
           "Suzanne Valadon"
          ],
          [
           "Suzuki Harunobu"
          ],
          [
           "Suzy Rice"
          ],
          [
           "Sven Erixson"
          ],
          [
           "Svend Rasmussen Svendsen"
          ],
          [
           "Svetoslav Roerich"
          ],
          [
           "Syd Barrett"
          ],
          [
           "Sydney Carline"
          ],
          [
           "Sylvester Shchedrin"
          ],
          [
           "Sylvia Clark Molloy"
          ],
          [
           "Sylvia Sleigh"
          ],
          [
           "Sylvia Snowden"
          ],
          [
           "Sylvia Wishart"
          ],
          [
           "Szymon Czechowicz"
          ],
          [
           "T. C. Steele"
          ],
          [
           "T. K. Padmini"
          ],
          [
           "Tadanori Yokoo"
          ],
          [
           "Tadashi Nakayama (artist)"
          ],
          [
           "Tadashige Ono"
          ],
          [
           "Taddeo Gaddi"
          ],
          [
           "Tadeusz Ajdukiewicz"
          ],
          [
           "Tadeusz Brzozowski (painter)"
          ],
          [
           "Tadeusz Dominik"
          ],
          [
           "Tadeusz Kantor"
          ],
          [
           "Tadeusz Makowski"
          ],
          [
           "Tadeusz Pruszkowski"
          ],
          [
           "Tahir Salahov"
          ],
          [
           "Takahashi Yuichi"
          ],
          [
           "Takashi Murakami"
          ],
          [
           "Yumeji Takehisa"
          ],
          [
           "Takeuchi Seihō"
          ],
          [
           "Tamara de Lempicka"
          ],
          [
           "Tamás Galambos"
          ],
          [
           "Tan Teng-pho"
          ],
          [
           "Tanaka Isson"
          ],
          [
           "Tang Di"
          ],
          [
           "Tang Yifen"
          ],
          [
           "Tang Yin"
          ],
          [
           "Tani Bunchō"
          ],
          [
           "Tanomura Chikuden"
          ],
          [
           "Tarō Okamoto"
          ],
          [
           "Taro Yamamoto (artist)"
          ],
          [
           "Tarsila do Amaral"
          ],
          [
           "Tate"
          ],
          [
           "Tawaraya Sōtatsu"
          ],
          [
           "Ted Joans"
          ],
          [
           "Telemaco Signorini"
          ],
          [
           "Tenshō Shūbun"
          ],
          [
           "Teobaldo Nina Mamani"
          ],
          [
           "Teresa Copnall"
          ],
          [
           "Terrell James"
          ],
          [
           "Terry Marks"
          ],
          [
           "Terry Morris (artist and photographer)"
          ],
          [
           "Tetsugorō Yorozu"
          ],
          [
           "The Mazeking"
          ],
          [
           "Theo Constanté"
          ],
          [
           "Theo van Doesburg"
          ],
          [
           "Theodor Philipsen"
          ],
          [
           "Théodore Chassériau"
          ],
          [
           "Theodore Earl Butler"
          ],
          [
           "Théodore Géricault"
          ],
          [
           "Theodore Major"
          ],
          [
           "Theodore Robinson"
          ],
          [
           "Théodore Rousseau"
          ],
          [
           "Théodule Ribot"
          ],
          [
           "Theophanes the Greek"
          ],
          [
           "Théophile Steinlen"
          ],
          [
           "Thierry Bisch"
          ],
          [
           "Thomas Aquinas Daly"
          ],
          [
           "Thomas Baines"
          ],
          [
           "Thomas Barker (painter)"
          ],
          [
           "Thomas Bock"
          ],
          [
           "Thomas Campbell (sculptor)"
          ],
          [
           "Thomas Cantrell Dugdale"
          ],
          [
           "Thomas Carr (artist)"
          ],
          [
           "Thomas Cole"
          ],
          [
           "Thomas Cornell (artist)"
          ],
          [
           "Thomas Corsan Morton"
          ],
          [
           "Thomas Couture"
          ],
          [
           "Thomas de Keyser"
          ],
          [
           "Thomas Dewing"
          ],
          [
           "Thomas Doughty (artist)"
          ],
          [
           "Thomas Eakins"
          ],
          [
           "Thomas Frederick Worrall"
          ],
          [
           "Thomas Furlong (artist)"
          ],
          [
           "Thomas Gainsborough"
          ],
          [
           "Thomas Gambier Parry"
          ],
          [
           "Thomas Hart Benton (painter)"
          ],
          [
           "Thomas Hill (painter)"
          ],
          [
           "Thomas Kinkade"
          ],
          [
           "Thomas Lawrence"
          ],
          [
           "Thomas Mann Baynes"
          ],
          [
           "Thomas Millie Dow"
          ],
          [
           "Thomas Moran"
          ],
          [
           "Thomas Rowlandson"
          ],
          [
           "Thomas Stothard"
          ],
          [
           "Thomas Stuart Burnett"
          ],
          [
           "Thomas Symington Halliday"
          ],
          [
           "Thomas Tudor"
          ],
          [
           "Thomas Wijck"
          ],
          [
           "Thornton Willis"
          ],
          [
           "Thyrza Anne Leyshon"
          ],
          [
           "Tibor Czorba"
          ],
          [
           "Tibor Rényi"
          ],
          [
           "Tilo Baumgärtel"
          ],
          [
           "Tim Biskup"
          ],
          [
           "Tina Blondell"
          ],
          [
           "Tintoretto"
          ],
          [
           "Titian"
          ],
          [
           "Titian Peale"
          ],
          [
           "Tivadar Alconiere"
          ],
          [
           "Tobias Stimmer"
          ],
          [
           "Togyū Okumura"
          ],
          [
           "Tōichi Katō"
          ],
          [
           "Tom Carapic"
          ],
          [
           "Tom Gourdie"
          ],
          [
           "Tom Palin"
          ],
          [
           "Tom Phillips (artist)"
          ],
          [
           "Tom Roberts"
          ],
          [
           "Tom Scott (painter)"
          ],
          [
           "Tom Thomson"
          ],
          [
           "Tom Wesselmann"
          ],
          [
           "Tomioka Tessai"
          ],
          [
           "Tommaso Dolabella"
          ],
          [
           "Masaccio"
          ],
          [
           "Tommaso Redi"
          ],
          [
           "Tony Tuckson"
          ],
          [
           "Torii Kiyomasu"
          ],
          [
           "Torii Kiyomasu II"
          ],
          [
           "Torii Kiyomitsu"
          ],
          [
           "Torii Kiyomoto"
          ],
          [
           "Torii Kiyonaga"
          ],
          [
           "Torii Kiyonobu I"
          ],
          [
           "Toriyama Sekien"
          ],
          [
           "Toros Roslin"
          ],
          [
           "Tosa Mitsunobu"
          ],
          [
           "Tosa Mitsuoki"
          ],
          [
           "Tōshi Yoshida"
          ],
          [
           "Sharaku"
          ],
          [
           "Toss Woollaston"
          ],
          [
           "Totte Mannes"
          ],
          [
           "Toyen"
          ],
          [
           "Toyohara Chikanobu"
          ],
          [
           "Toyohara Kunichika"
          ],
          [
           "Tracey Emin"
          ],
          [
           "Tracey Moberly"
          ],
          [
           "Tracy Harris"
          ],
          [
           "Troels Wörsel"
          ],
          [
           "Tsuchida Bakusen"
          ],
          [
           "Tsuguharu Foujita"
          ],
          [
           "Tsuji Kakō"
          ],
          [
           "Tsukioka Yoshitoshi"
          ],
          [
           "Tsuruko Yamazaki"
          ],
          [
           "Tuvia Beeri"
          ],
          [
           "Tytus Czyżewski"
          ],
          [
           "Uemura Shōen"
          ],
          [
           "Ugo Nespolo"
          ],
          [
           "Ulrich Leman"
          ],
          [
           "Ulrika Pasch"
          ],
          [
           "Umberto Boccioni"
          ],
          [
           "Un'ichi Hiratsuka"
          ],
          [
           "Unkoku Togan"
          ],
          [
           "Uragami Gyokudō"
          ],
          [
           "Urakusai Nagahide"
          ],
          [
           "Ursula Edgcumbe"
          ],
          [
           "Ursula Wood (artist)"
          ],
          [
           "Utagawa Hirokage"
          ],
          [
           "Hiroshige II"
          ],
          [
           "Utagawa Kunimasa"
          ],
          [
           "Utagawa Kunimasu"
          ],
          [
           "Kunisada"
          ],
          [
           "Utagawa Kunisada II"
          ],
          [
           "Utagawa Kunisada III"
          ],
          [
           "Utagawa Kuniyoshi"
          ],
          [
           "Utagawa Toyoharu"
          ],
          [
           "Utagawa Toyokuni"
          ],
          [
           "Utagawa Yoshiiku"
          ],
          [
           "Utagawa Yoshitaki"
          ],
          [
           "Utagawa Yoshitora"
          ],
          [
           "Utagawa Yoshitsuya"
          ],
          [
           "Utamaro"
          ],
          [
           "Uwe Wittwer"
          ],
          [
           "Václav Brožík"
          ],
          [
           "Vadym Meller"
          ],
          [
           "Valentin Serov"
          ],
          [
           "Valéria Dénes"
          ],
          [
           "Valerie Petts"
          ],
          [
           "Vanessa Beecroft"
          ],
          [
           "Vanessa Bell"
          ],
          [
           "Vasile Hutopilă"
          ],
          [
           "Vasily Tropinin"
          ],
          [
           "Vasily Perov"
          ],
          [
           "Vasily Polenov"
          ],
          [
           "Vasily Surikov"
          ],
          [
           "Vasily Vereshchagin"
          ],
          [
           "Vassily Maximov"
          ],
          [
           "Veikko Törmänen"
          ],
          [
           "Veno Pilon"
          ],
          [
           "Verónica Ruiz de Velasco"
          ],
          [
           "Vicente Juan Masip"
          ],
          [
           "Victor Brauner"
          ],
          [
           "Víctor Manuel García Valdés"
          ],
          [
           "Victor Meirelles"
          ],
          [
           "Victor Noble Rainbird"
          ],
          [
           "Victor Surbek"
          ],
          [
           "Victor Vasarely"
          ],
          [
           "Victor Wang"
          ],
          [
           "Victorine Foot"
          ],
          [
           "Vija Celmins"
          ],
          [
           "Viktor de Jeney"
          ],
          [
           "Viktor Madarász"
          ],
          [
           "Viktor Oliva"
          ],
          [
           "Viktor Vasnetsov"
          ],
          [
           "Vilhelm Bissen"
          ],
          [
           "Vilhelm Kyhn"
          ],
          [
           "Vilhelm Lundstrøm"
          ],
          [
           "Villard de Honnecourt"
          ],
          [
           "Vilmos Aba-Novák"
          ],
          [
           "Vincent Evans (artist)"
          ],
          [
           "Vincent Pepi"
          ],
          [
           "Vincent van Gogh"
          ],
          [
           "Vincenzo Cabianca"
          ],
          [
           "Vincenzo Irolli"
          ],
          [
           "Viola Paterson"
          ],
          [
           "Violet Fuller"
          ],
          [
           "Vito D'Ancona"
          ],
          [
           "Vittore Carpaccio"
          ],
          [
           "Vivien Blackett"
          ],
          [
           "Vladimir Baranov-Rossiné"
          ],
          [
           "Vladimir Borovikovsky"
          ],
          [
           "Vladimir Makovsky"
          ],
          [
           "Vladimír Novák (painter)"
          ],
          [
           "Vladimir Tatlin"
          ],
          [
           "Vladimir Tretchikoff"
          ],
          [
           "Vladimír Vašíček"
          ],
          [
           "Vlady Rusakov"
          ],
          [
           "Vlaho Bukovac"
          ],
          [
           "Vytautas Kasiulis"
          ],
          [
           "W. Lindsay Cable"
          ],
          [
           "Walasse Ting"
          ],
          [
           "Waldo Peirce"
          ],
          [
           "Walenty Wańkowicz"
          ],
          [
           "Walter Bayes"
          ],
          [
           "Walter Haskell Hinton"
          ],
          [
           "Walter Leighton Clark"
          ],
          [
           "Walter Osborne"
          ],
          [
           "Walter Sickert"
          ],
          [
           "Walter Stuempfig"
          ],
          [
           "Walther Jervolino"
          ],
          [
           "Wang Duo (Ming dynasty)"
          ],
          [
           "Wang E"
          ],
          [
           "Wang Fu (painter)"
          ],
          [
           "Wang Guxiang"
          ],
          [
           "Wang Hui (Qing dynasty)"
          ],
          [
           "Wang Jian (Qing dynasty)"
          ],
          [
           "Wang Lü"
          ],
          [
           "Wang Meng (painter)"
          ],
          [
           "Wang Mian"
          ],
          [
           "Wang Shimin"
          ],
          [
           "Wang Shishen"
          ],
          [
           "Wang Wei (Tang dynasty)"
          ],
          [
           "Wang Wu (painter)"
          ],
          [
           "Wang Ximeng"
          ],
          [
           "Wang Yi (painter)"
          ],
          [
           "Wang Yuan (painter)"
          ],
          [
           "Wang Yuanqi"
          ],
          [
           "Wang Zhenpeng (painter)"
          ],
          [
           "Wang Zhongyu (painter)"
          ],
          [
           "Warren Eugene Brandon"
          ],
          [
           "Washington Allston"
          ],
          [
           "Wassily Kandinsky"
          ],
          [
           "Watanabe Kazan"
          ],
          [
           "Watanabe Shōtei"
          ],
          [
           "Wayne Thiebaud"
          ],
          [
           "Wen Boren"
          ],
          [
           "Wen Jia"
          ],
          [
           "Wen Tong"
          ],
          [
           "Wen Zhengming"
          ],
          [
           "Wen Zhenheng"
          ],
          [
           "Wenceslaus Hollar"
          ],
          [
           "Wenzel Lorenz Reiner"
          ],
          [
           "Werner Andermatt"
          ],
          [
           "Werner Gutzeit"
          ],
          [
           "Werner Tübke"
          ],
          [
           "Whanki Kim"
          ],
          [
           "Wifredo Lam"
          ],
          [
           "Wilhelm Bendz"
          ],
          [
           "Wilhelm Freddie"
          ],
          [
           "Vilhelm Hammershøi"
          ],
          [
           "Wilhelm Heise"
          ],
          [
           "Wilhelm Leibl"
          ],
          [
           "Wilhelm Marstrand"
          ],
          [
           "Wilhelm Sasnal"
          ],
          [
           "Wilhelm Schnarrenberger"
          ],
          [
           "Wilhelm Trübner"
          ],
          [
           "Wilhelmina Weber Furlong"
          ],
          [
           "Willard Metcalf"
          ],
          [
           "Willem Claesz. Heda"
          ],
          [
           "Willem Cornelisz Duyster"
          ],
          [
           "Willem de Kooning"
          ],
          [
           "Willem de Poorter"
          ],
          [
           "Willem Drost"
          ],
          [
           "Willem Hondius"
          ],
          [
           "Willem Jacobsz Delff"
          ],
          [
           "Willem Kalf"
          ],
          [
           "Willem Labeij"
          ],
          [
           "Willem Maris"
          ],
          [
           "Willem Pieterszoon Buytewech"
          ],
          [
           "Willem van Aelst"
          ],
          [
           "Willem van de Velde the Elder"
          ],
          [
           "Willem van de Velde the Younger"
          ],
          [
           "Willem van der Vliet"
          ],
          [
           "Willem van Mieris"
          ],
          [
           "William Berra"
          ],
          [
           "William Birnie Rhind"
          ],
          [
           "William Blake"
          ],
          [
           "William Blake Richmond"
          ],
          [
           "William Bliss Baker"
          ],
          [
           "William Bonnar"
          ],
          [
           "William Brodie"
          ],
          [
           "William Coldstream"
          ],
          [
           "William Congdon"
          ],
          [
           "William Conor"
          ],
          [
           "William Crosbie (artist)"
          ],
          [
           "William Crozier (Scottish artist)"
          ],
          [
           "William Dargie"
          ],
          [
           "William Didier-Pouget"
          ],
          [
           "William Dobell"
          ],
          [
           "William Dobson"
          ],
          [
           "William Dring"
          ],
          [
           "William Edouard Scott"
          ],
          [
           "William Edward West"
          ],
          [
           "William Etty"
          ],
          [
           "William Fettes Douglas"
          ],
          [
           "William Forsyth (artist)"
          ],
          [
           "William Gear"
          ],
          [
           "William Geissler"
          ],
          [
           "William George Gillies"
          ],
          [
           "William Gouw Ferguson"
          ],
          [
           "William Grant Stevenson"
          ],
          [
           "William H. Mosby"
          ],
          [
           "William Harnett"
          ],
          [
           "William Hoare"
          ],
          [
           "William Hogarth"
          ],
          [
           "William Holman Hunt"
          ],
          [
           "William Holmes Sullivan"
          ],
          [
           "William Home Lizars"
          ],
          [
           "William Jacob Baer"
          ],
          [
           "William Jennys"
          ],
          [
           "William John Thomson"
          ],
          [
           "William Langson Lathrop"
          ],
          [
           "William MacTaggart"
          ],
          [
           "William McGregor Paxton"
          ],
          [
           "William McTaggart"
          ],
          [
           "William Merritt Chase"
          ],
          [
           "William Miller (engraver)"
          ],
          [
           "William Mossman"
          ],
          [
           "William Mustart Lockhart"
          ],
          [
           "William Nicholson (artist)"
          ],
          [
           "William Orpen"
          ],
          [
           "William Powhida"
          ],
          [
           "William Quiller Orchardson"
          ],
          [
           "William Simpson (portrait artist)"
          ],
          [
           "William Stott (artist)"
          ],
          [
           "William Thon"
          ],
          [
           "William Trost Richards"
          ],
          [
           "William Turner (painter)"
          ],
          [
           "William Twigg-Smith"
          ],
          [
           "William Woodward (artist)"
          ],
          [
           "William Yellowlees"
          ],
          [
           "William York Macgregor"
          ],
          [
           "William Zorach"
          ],
          [
           "William-Adolphe Bouguereau"
          ],
          [
           "Willy Bo Richardson"
          ],
          [
           "Wilson Irvine"
          ],
          [
           "Winslow Homer"
          ],
          [
           "Winston Churchill"
          ],
          [
           "Witold Pruszkowski"
          ],
          [
           "Witold Wojtkiewicz"
          ],
          [
           "Władysław Czachórski"
          ],
          [
           "Władysław Malecki"
          ],
          [
           "Władysław Podkowiński"
          ],
          [
           "Władysław Ślewiński"
          ],
          [
           "Władysław Strzemiński"
          ],
          [
           "Wlastimil Hofman"
          ],
          [
           "Włodzimierz Tetmajer"
          ],
          [
           "Wojciech Gerson"
          ],
          [
           "Wojciech Stattler"
          ],
          [
           "Wojciech Kossak"
          ],
          [
           "Wojciech Weiss"
          ],
          [
           "Wolf Huber"
          ],
          [
           "Wolf Kahn"
          ],
          [
           "Wolf Vostell"
          ],
          [
           "Wolfgang Zelmer"
          ],
          [
           "Wouter Crabeth I"
          ],
          [
           "Wu Bin (painter)"
          ],
          [
           "Wu Changshuo"
          ],
          [
           "Wu Daozi"
          ],
          [
           "Wu Guanzhong"
          ],
          [
           "Wu Hong"
          ],
          [
           "Wu Li"
          ],
          [
           "Wu Shixian"
          ],
          [
           "Wu Wei (painter)"
          ],
          [
           "Wu Zhen (painter)"
          ],
          [
           "Wu Zuoren"
          ],
          [
           "Wuzhun Shifan"
          ],
          [
           "Wyke Bayliss"
          ],
          [
           "Wyndham Lewis"
          ],
          [
           "Xanthus Russell Smith"
          ],
          [
           "Xavier Blum Pinto"
          ],
          [
           "Xi Gang"
          ],
          [
           "Xia Chang"
          ],
          [
           "Xia Gui"
          ],
          [
           "Xia Shuwen"
          ],
          [
           "Xia Yong"
          ],
          [
           "Xiang Shengmo"
          ],
          [
           "Xiao Yuncong"
          ],
          [
           "Xie He (artist)"
          ],
          [
           "Xie Huan"
          ],
          [
           "Xie Shichen"
          ],
          [
           "Xie Sun"
          ],
          [
           "Xu Beihong"
          ],
          [
           "Xu Wei"
          ],
          [
           "Xu Xi (painter)"
          ],
          [
           "Xuande Emperor"
          ],
          [
           "Xul Solar"
          ],
          [
           "Yaacov Agam"
          ],
          [
           "Yamamoto Shōun"
          ],
          [
           "Yan Hui (painter)"
          ],
          [
           "Yan Liben"
          ],
          [
           "Yanagawa Nobusada"
          ],
          [
           "Yanagawa Shigenobu"
          ],
          [
           "Yang Borun"
          ],
          [
           "Yang Buzhi"
          ],
          [
           "Yang Jin"
          ],
          [
           "Yang Weizhen"
          ],
          [
           "Yao Tingmei"
          ],
          [
           "Yasuo Kuniyoshi"
          ],
          [
           "Yasushi Sugiyama"
          ],
          [
           "Yayoi Kusama"
          ],
          [
           "Ye Xin"
          ],
          [
           "Yehia Dessouki"
          ],
          [
           "Yi In-mun"
          ],
          [
           "Yi In-sang"
          ],
          [
           "Yi Jaegwan"
          ],
          [
           "Yi Yuanji"
          ],
          [
           "Yitzhak Frenkel"
          ],
          [
           "Yokoyama Taikan"
          ],
          [
           "Yosa Buson"
          ],
          [
           "Yoshida Hanbei"
          ],
          [
           "Yoshihiko Wada"
          ],
          [
           "Yoshio Markino"
          ],
          [
           "Yoshitomo Nara"
          ],
          [
           "Yoshitoshi Mori"
          ],
          [
           "Youri Messen-Jaschin"
          ],
          [
           "Youssef Howayek"
          ],
          [
           "Yu Zhiding"
          ],
          [
           "Yuan Jiang"
          ],
          [
           "Yuan Yao"
          ],
          [
           "Yue Minjun"
          ],
          [
           "Yuki Ogura"
          ],
          [
           "Yukihiko Yasuda"
          ],
          [
           "Yun Du-seo"
          ],
          [
           "Yun Shouping"
          ],
          [
           "Yun-Fei Ji"
          ],
          [
           "Yves Klein"
          ],
          [
           "Yves Tanguy"
          ],
          [
           "Yvonne Jacquette"
          ],
          [
           "Zahari Zograf"
          ],
          [
           "Zao Wou-Ki"
          ],
          [
           "Zbigniew Nowosadzki"
          ],
          [
           "Zdeněk Burian"
          ],
          [
           "Zdzisław Beksiński"
          ],
          [
           "Zeinab Abd al-Hamid"
          ],
          [
           "Zelma Blakely"
          ],
          [
           "Zeng Jing"
          ],
          [
           "Zha Shibiao"
          ],
          [
           "Zhan Ziqian"
          ],
          [
           "Zhang Han (Ming dynasty)"
          ],
          [
           "Zhang Lu (painter)"
          ],
          [
           "Zhang Sengyou"
          ],
          [
           "Zhang Shengwen"
          ],
          [
           "Zhang Shunzi"
          ],
          [
           "Zhang Shuqi"
          ],
          [
           "Zhang Wo"
          ],
          [
           "Zhang Xiaogang"
          ],
          [
           "Zhang Xuan"
          ],
          [
           "Zhang Yan (Ming dynasty)"
          ],
          [
           "Zhang Yan (oil painter)"
          ],
          [
           "Zhang Yin (painter)"
          ],
          [
           "Zhang Zeduan"
          ],
          [
           "Zhang Zongcang"
          ],
          [
           "Zhao Mengfu"
          ],
          [
           "Zhao Yong (painter)"
          ],
          [
           "Zhao Yuan"
          ],
          [
           "Zhao Zhiqian"
          ],
          [
           "Zhao Zuo"
          ],
          [
           "Zheng Xie"
          ],
          [
           "Zhou Chen"
          ],
          [
           "Zhou Fang (Tang dynasty)"
          ],
          [
           "Zhou Jichang"
          ],
          [
           "Zhou Shuxi"
          ],
          [
           "Zhou Wenjing"
          ],
          [
           "Bada Shanren"
          ],
          [
           "Zhu Derun"
          ],
          [
           "Zinaida Serebriakova"
          ],
          [
           "Zlatyu Boyadzhiev"
          ],
          [
           "Zofia Stryjeńska"
          ],
          [
           "Zoltán Joó"
          ],
          [
           "Zoltán Nuridsány"
          ],
          [
           "Zoran Mušič"
          ],
          [
           "Zou Yigui"
          ],
          [
           "Zou Zhe"
          ],
          [
           "Zsolt Bodoni"
          ],
          [
           "Zsuzsa Máthé"
          ],
          [
           "Zvest Apollonio"
          ],
          [
           "Zygmunt Vogel"
          ],
          [
           "Zygmunt Waliszewski"
          ],
          [
           "Þórarinn B. Þorláksson"
          ]
         ],
         "hovertemplate": "umap_x=%{x}<br>umap_y=%{y}<br>painter_name=%{customdata[0]}<extra></extra>",
         "legendgroup": "",
         "marker": {
          "color": "#636efa",
          "size": 10,
          "symbol": "circle"
         },
         "mode": "markers",
         "name": "",
         "showlegend": false,
         "type": "scattergl",
         "x": [
          8.59814167022705,
          9.049775123596191,
          9.852458000183105,
          9.757320404052734,
          10.116082191467285,
          9.228800773620605,
          9.280089378356934,
          9.422225952148438,
          8.185894966125488,
          8.752787590026855,
          8.251349449157715,
          7.9871931076049805,
          9.927145957946777,
          9.398303031921387,
          10.259014129638672,
          9.425202369689941,
          12.625338554382324,
          8.07746696472168,
          12.751172065734863,
          11.573953628540039,
          11.299673080444336,
          11.240450859069824,
          11.338204383850098,
          11.12116813659668,
          10.572037696838379,
          11.735548973083496,
          11.31106948852539,
          11.591052055358887,
          11.459486961364746,
          11.485838890075684,
          8.695074081420898,
          10.969893455505371,
          7.6721649169921875,
          6.388192176818848,
          7.939177989959717,
          13.813386917114258,
          12.61516284942627,
          11.405801773071289,
          14.099266052246094,
          13.623312950134277,
          12.078678131103516,
          12.139897346496582,
          13.33148193359375,
          11.80160140991211,
          8.521166801452637,
          7.880415916442871,
          11.6216459274292,
          11.860787391662598,
          11.965780258178711,
          12.390742301940918,
          12.003763198852539,
          11.770954132080078,
          11.428956031799316,
          10.509868621826172,
          11.966620445251465,
          12.050704956054688,
          11.649561882019043,
          11.52427864074707,
          9.52430248260498,
          11.112154006958008,
          10.967555046081543,
          11.364767074584961,
          10.721487998962402,
          10.740544319152832,
          10.799384117126465,
          10.91264820098877,
          10.873041152954102,
          11.679933547973633,
          13.706978797912598,
          11.443402290344238,
          10.895401000976562,
          10.75462818145752,
          11.768497467041016,
          12.73089599609375,
          7.699778079986572,
          9.195982933044434,
          13.047591209411621,
          12.543808937072754,
          12.342700958251953,
          8.448721885681152,
          8.838614463806152,
          2.7682764530181885,
          6.321967124938965,
          9.730015754699707,
          8.323624610900879,
          11.236383438110352,
          14.01431941986084,
          12.175559997558594,
          7.92990779876709,
          7.930765151977539,
          7.717936992645264,
          11.2183837890625,
          10.95962142944336,
          10.805272102355957,
          9.391716957092285,
          11.080826759338379,
          10.338865280151367,
          9.710687637329102,
          9.891141891479492,
          8.976799964904785,
          11.897320747375488,
          8.703995704650879,
          11.2197847366333,
          10.539597511291504,
          9.430975914001465,
          8.45317554473877,
          12.939374923706055,
          11.242814064025879,
          10.020007133483887,
          11.375118255615234,
          12.202324867248535,
          12.109495162963867,
          11.981487274169922,
          12.432037353515625,
          11.290085792541504,
          11.845976829528809,
          11.038911819458008,
          7.051687240600586,
          14.082571029663086,
          8.3793363571167,
          13.628262519836426,
          13.859221458435059,
          13.981668472290039,
          8.38961410522461,
          9.016857147216797,
          11.00738525390625,
          12.960548400878906,
          12.865583419799805,
          13.100043296813965,
          10.127779960632324,
          10.3838472366333,
          8.637755393981934,
          8.21406364440918,
          8.474678993225098,
          8.622109413146973,
          8.56054973602295,
          8.133766174316406,
          11.336777687072754,
          9.455010414123535,
          8.561712265014648,
          7.376178741455078,
          7.968945026397705,
          6.577904224395752,
          8.089813232421875,
          8.721572875976562,
          9.548212051391602,
          8.757917404174805,
          9.030659675598145,
          8.141075134277344,
          9.077520370483398,
          8.725034713745117,
          8.61416244506836,
          9.475905418395996,
          9.152297019958496,
          8.724571228027344,
          8.597037315368652,
          8.393769264221191,
          8.788167953491211,
          9.051309585571289,
          9.47684383392334,
          13.76352596282959,
          13.11032485961914,
          11.799771308898926,
          9.135540962219238,
          9.666529655456543,
          7.474792003631592,
          10.386868476867676,
          13.645209312438965,
          9.904026985168457,
          9.4935941696167,
          8.231829643249512,
          9.483960151672363,
          8.999177932739258,
          10.061025619506836,
          8.394798278808594,
          9.33137035369873,
          11.808148384094238,
          8.036516189575195,
          8.04428482055664,
          6.914229393005371,
          8.056360244750977,
          8.12060832977295,
          6.027130603790283,
          7.3024373054504395,
          7.082754611968994,
          7.20801305770874,
          10.875910758972168,
          9.130987167358398,
          8.093650817871094,
          7.610002040863037,
          9.62126350402832,
          7.627411365509033,
          8.416558265686035,
          7.315633773803711,
          7.4508376121521,
          7.77907657623291,
          8.962603569030762,
          9.516855239868164,
          12.881277084350586,
          9.344254493713379,
          12.681041717529297,
          8.598899841308594,
          8.436736106872559,
          10.212360382080078,
          7.293947696685791,
          10.81762981414795,
          7.975473403930664,
          9.970802307128906,
          10.859810829162598,
          11.114275932312012,
          11.498794555664062,
          9.754596710205078,
          12.534951210021973,
          7.513798713684082,
          6.246345043182373,
          12.672624588012695,
          8.542374610900879,
          9.433679580688477,
          2.1262524127960205,
          2.780884027481079,
          8.746315002441406,
          12.1250638961792,
          13.323980331420898,
          9.072644233703613,
          9.35965633392334,
          9.874763488769531,
          12.807836532592773,
          9.665125846862793,
          9.213844299316406,
          13.038000106811523,
          11.593096733093262,
          12.379158973693848,
          12.528594970703125,
          12.593758583068848,
          12.444053649902344,
          12.286086082458496,
          11.655567169189453,
          8.223806381225586,
          8.934513092041016,
          8.529723167419434,
          8.76535415649414,
          7.862429618835449,
          8.398221015930176,
          8.132996559143066,
          8.10867691040039,
          7.869101047515869,
          7.99587345123291,
          8.058752059936523,
          9.828987121582031,
          8.865386009216309,
          8.461867332458496,
          11.190263748168945,
          12.106364250183105,
          13.66261100769043,
          13.949925422668457,
          10.044265747070312,
          7.542390823364258,
          7.488446235656738,
          6.936079025268555,
          7.024397373199463,
          12.357661247253418,
          7.225090026855469,
          7.278664588928223,
          10.857542037963867,
          10.681089401245117,
          6.724438190460205,
          11.830965042114258,
          6.7275848388671875,
          11.952710151672363,
          10.675775527954102,
          7.279147624969482,
          6.7284650802612305,
          6.924596309661865,
          6.348536491394043,
          6.563488960266113,
          6.820647239685059,
          7.925910472869873,
          6.571556091308594,
          6.801518440246582,
          12.739562034606934,
          6.156031608581543,
          6.227595329284668,
          11.566878318786621,
          10.862836837768555,
          12.603645324707031,
          9.172499656677246,
          10.44743824005127,
          10.87077522277832,
          10.4615478515625,
          12.551268577575684,
          11.76269817352295,
          10.885757446289062,
          10.299789428710938,
          12.109230041503906,
          10.756800651550293,
          9.062531471252441,
          13.042523384094238,
          13.79508113861084,
          8.063873291015625,
          8.93159294128418,
          12.66537857055664,
          13.43656063079834,
          12.37181568145752,
          12.818729400634766,
          12.675942420959473,
          12.834076881408691,
          7.779919624328613,
          12.78201675415039,
          7.292263031005859,
          12.826498985290527,
          7.515573978424072,
          9.347465515136719,
          8.599372863769531,
          6.5883259773254395,
          6.807082176208496,
          7.5184712409973145,
          8.312313079833984,
          7.897235870361328,
          7.9985151290893555,
          10.753817558288574,
          11.205411911010742,
          9.104782104492188,
          8.945599555969238,
          10.982020378112793,
          8.961734771728516,
          11.516627311706543,
          11.436043739318848,
          10.842667579650879,
          10.028265953063965,
          11.165867805480957,
          10.957159042358398,
          13.387311935424805,
          11.172776222229004,
          8.369150161743164,
          8.257813453674316,
          9.683547019958496,
          11.159581184387207,
          9.561534881591797,
          13.122920036315918,
          9.284852027893066,
          7.1224799156188965,
          8.243102073669434,
          9.981612205505371,
          8.904841423034668,
          6.770297050476074,
          11.602773666381836,
          9.329109191894531,
          9.010843276977539,
          8.37830638885498,
          9.684070587158203,
          12.624818801879883,
          7.349404335021973,
          11.311641693115234,
          8.145116806030273,
          11.053010940551758,
          10.73064136505127,
          9.9406156539917,
          13.21680736541748,
          11.0007905960083,
          10.41854190826416,
          10.930880546569824,
          9.214973449707031,
          9.581210136413574,
          11.740345001220703,
          9.383578300476074,
          9.378673553466797,
          9.301289558410645,
          9.370701789855957,
          13.7815523147583,
          12.106005668640137,
          13.16003704071045,
          8.079374313354492,
          12.327245712280273,
          8.85646915435791,
          8.387606620788574,
          8.711640357971191,
          8.717658996582031,
          7.750479221343994,
          14.025594711303711,
          8.312422752380371,
          13.34459114074707,
          10.82911491394043,
          13.737110137939453,
          7.594385623931885,
          7.7156267166137695,
          6.741809844970703,
          6.336244106292725,
          11.909414291381836,
          6.179861068725586,
          7.357135772705078,
          11.275127410888672,
          9.682259559631348,
          11.492440223693848,
          11.411972045898438,
          10.43128776550293,
          9.645064353942871,
          11.590007781982422,
          12.739256858825684,
          11.799704551696777,
          10.911609649658203,
          7.812983512878418,
          12.855859756469727,
          13.134272575378418,
          8.854649543762207,
          11.852153778076172,
          6.294082164764404,
          6.599358558654785,
          7.6536865234375,
          9.7128324508667,
          7.418496131896973,
          13.776058197021484,
          13.644124984741211,
          13.630898475646973,
          13.719120025634766,
          13.941829681396484,
          13.742372512817383,
          13.888010025024414,
          10.882938385009766,
          8.354303359985352,
          8.598405838012695,
          8.76249885559082,
          13.472217559814453,
          7.212957382202148,
          12.727646827697754,
          11.434481620788574,
          9.173693656921387,
          7.933952808380127,
          11.97110652923584,
          9.453259468078613,
          7.415327072143555,
          9.943408966064453,
          10.909055709838867,
          7.535017490386963,
          12.775395393371582,
          12.697338104248047,
          12.828194618225098,
          12.183563232421875,
          12.484489440917969,
          7.48105525970459,
          11.82973861694336,
          11.402815818786621,
          13.65841007232666,
          13.437507629394531,
          13.904180526733398,
          8.349781036376953,
          8.54307746887207,
          6.39697790145874,
          7.251277923583984,
          10.606977462768555,
          10.433005332946777,
          6.94145393371582,
          8.060909271240234,
          7.38158655166626,
          7.561094284057617,
          2.7842445373535156,
          2.3732597827911377,
          8.574481964111328,
          8.794482231140137,
          5.974233150482178,
          8.683734893798828,
          11.490215301513672,
          7.450335502624512,
          10.227378845214844,
          9.220648765563965,
          11.055910110473633,
          13.759366989135742,
          13.442763328552246,
          13.754008293151855,
          8.702207565307617,
          9.205533027648926,
          8.840471267700195,
          13.874606132507324,
          10.189840316772461,
          9.066401481628418,
          6.384232044219971,
          9.19621753692627,
          12.203614234924316,
          8.492951393127441,
          8.245415687561035,
          10.271984100341797,
          8.585455894470215,
          10.128491401672363,
          7.17528772354126,
          6.561705112457275,
          7.986639499664307,
          8.308430671691895,
          8.247090339660645,
          11.206225395202637,
          8.85151195526123,
          1.962853193283081,
          7.702315807342529,
          11.961113929748535,
          11.285165786743164,
          12.493247985839844,
          8.805488586425781,
          8.906061172485352,
          8.418074607849121,
          7.229340553283691,
          6.746853828430176,
          6.915763854980469,
          12.688666343688965,
          7.640124320983887,
          7.427574157714844,
          7.307214260101318,
          3.4252514839172363,
          2.645672082901001,
          11.233980178833008,
          10.628129959106445,
          10.216816902160645,
          7.7571797370910645,
          11.704062461853027,
          11.518786430358887,
          10.949790954589844,
          11.783446311950684,
          11.492350578308105,
          11.788521766662598,
          10.062847137451172,
          11.548779487609863,
          9.938194274902344,
          11.625411033630371,
          11.393878936767578,
          11.311957359313965,
          11.148736000061035,
          10.494921684265137,
          12.684860229492188,
          11.820060729980469,
          12.202973365783691,
          12.979470252990723,
          12.745227813720703,
          11.374396324157715,
          12.275992393493652,
          7.126537322998047,
          8.845858573913574,
          7.071149826049805,
          6.7842278480529785,
          11.122549057006836,
          7.116919040679932,
          11.05871868133545,
          8.39367389678955,
          8.183381080627441,
          9.072785377502441,
          10.28119945526123,
          7.279841423034668,
          9.469493865966797,
          12.69943904876709,
          11.332063674926758,
          11.757790565490723,
          12.960166931152344,
          11.789949417114258,
          6.4435811042785645,
          10.744857788085938,
          12.798148155212402,
          11.042343139648438,
          6.976004600524902,
          7.514328479766846,
          7.483627796173096,
          7.92216682434082,
          6.306340217590332,
          6.5625996589660645,
          7.632382869720459,
          7.364416122436523,
          8.943310737609863,
          8.856128692626953,
          2.005423069000244,
          7.135190963745117,
          9.605292320251465,
          9.832308769226074,
          9.331439971923828,
          8.85007095336914,
          8.539213180541992,
          8.34347152709961,
          8.864418029785156,
          9.270639419555664,
          9.608323097229004,
          9.335996627807617,
          10.12097454071045,
          9.254772186279297,
          8.716909408569336,
          8.954974174499512,
          10.460488319396973,
          8.957319259643555,
          9.128877639770508,
          9.194984436035156,
          9.133991241455078,
          9.042214393615723,
          9.233738899230957,
          8.485440254211426,
          8.979691505432129,
          9.014754295349121,
          8.69987678527832,
          8.853954315185547,
          8.251877784729004,
          8.154252052307129,
          8.415045738220215,
          7.034229755401611,
          8.872447967529297,
          13.443126678466797,
          9.950223922729492,
          11.261651992797852,
          8.435416221618652,
          8.84583854675293,
          9.102514266967773,
          8.391860008239746,
          9.754197120666504,
          9.704312324523926,
          10.059417724609375,
          9.103171348571777,
          6.200573921203613,
          6.140499114990234,
          2.391781806945801,
          2.1635477542877197,
          2.132896900177002,
          2.1843621730804443,
          2.008699893951416,
          2.1068129539489746,
          2.192591667175293,
          2.2996747493743896,
          1.969072937965393,
          2.504976749420166,
          3.2454957962036133,
          2.5189895629882812,
          6.41269588470459,
          6.230539798736572,
          7.885796546936035,
          9.954643249511719,
          8.061504364013672,
          8.907941818237305,
          2.0599164962768555,
          8.407281875610352,
          11.726428031921387,
          11.618484497070312,
          11.412371635437012,
          12.040994644165039,
          7.020299434661865,
          11.440347671508789,
          11.146252632141113,
          9.529463768005371,
          10.992491722106934,
          11.701308250427246,
          12.196186065673828,
          12.231788635253906,
          8.043781280517578,
          7.365959167480469,
          9.912772178649902,
          9.244890213012695,
          6.275187015533447,
          11.919649124145508,
          8.625139236450195,
          12.134376525878906,
          12.290961265563965,
          6.790256023406982,
          7.971591949462891,
          7.238953113555908,
          8.896812438964844,
          7.986974239349365,
          9.623796463012695,
          8.714550971984863,
          9.544532775878906,
          9.047502517700195,
          8.946636199951172,
          12.2967529296875,
          9.404940605163574,
          8.583942413330078,
          8.91077995300293,
          10.00106430053711,
          8.717190742492676,
          8.794837951660156,
          10.680756568908691,
          7.871920585632324,
          7.923981189727783,
          8.066693305969238,
          7.945837020874023,
          7.8916521072387695,
          8.001565933227539,
          11.433666229248047,
          8.501955032348633,
          7.320365905761719,
          6.401364326477051,
          6.9122819900512695,
          10.202949523925781,
          9.90974235534668,
          11.457505226135254,
          9.906837463378906,
          12.936558723449707,
          10.628904342651367,
          10.089628219604492,
          6.139865398406982,
          12.105048179626465,
          11.883481979370117,
          11.840940475463867,
          11.920230865478516,
          11.531949996948242,
          11.244394302368164,
          11.59182357788086,
          11.75850772857666,
          10.78948974609375,
          11.634305953979492,
          10.944780349731445,
          11.651442527770996,
          11.610803604125977,
          8.046282768249512,
          12.017529487609863,
          12.902694702148438,
          2.409223794937134,
          2.4936680793762207,
          9.832428932189941,
          9.514820098876953,
          7.160780906677246,
          12.564166069030762,
          2.448939800262451,
          2.008866786956787,
          8.15816879272461,
          11.629083633422852,
          13.252487182617188,
          9.756532669067383,
          8.482623100280762,
          12.008111000061035,
          12.813923835754395,
          10.918542861938477,
          8.84659481048584,
          11.681191444396973,
          6.035154342651367,
          5.98184061050415,
          6.140621662139893,
          6.982570648193359,
          7.182888031005859,
          7.172728061676025,
          7.166770935058594,
          8.588645935058594,
          6.919178009033203,
          6.851634979248047,
          6.8524017333984375,
          8.510368347167969,
          7.352364540100098,
          6.577748775482178,
          7.254494667053223,
          7.162740230560303,
          6.805386066436768,
          6.966594696044922,
          6.7321343421936035,
          7.42651891708374,
          7.774712085723877,
          9.512755393981934,
          7.199795722961426,
          7.351471900939941,
          8.314301490783691,
          6.878474235534668,
          7.500843524932861,
          7.191339492797852,
          7.025537014007568,
          7.001325607299805,
          6.798614501953125,
          6.713482856750488,
          6.5567545890808105,
          7.275717258453369,
          7.766875267028809,
          13.943115234375,
          7.200673580169678,
          10.341255187988281,
          8.681292533874512,
          7.7129435539245605,
          9.71352767944336,
          9.196951866149902,
          7.962489128112793,
          10.833255767822266,
          8.625189781188965,
          10.314750671386719,
          9.187508583068848,
          9.619239807128906,
          8.616199493408203,
          8.62723159790039,
          9.576749801635742,
          12.53835678100586,
          7.565797328948975,
          7.653656005859375,
          10.924619674682617,
          11.09298038482666,
          8.63607120513916,
          2.8735177516937256,
          2.692495584487915,
          8.021717071533203,
          9.237462043762207,
          11.574393272399902,
          11.542606353759766,
          11.320708274841309,
          11.54784107208252,
          11.241920471191406,
          11.44031810760498,
          11.685640335083008,
          11.368563652038574,
          11.451416015625,
          8.599790573120117,
          10.981114387512207,
          6.770381450653076,
          12.700814247131348,
          12.30573844909668,
          12.484807968139648,
          12.956762313842773,
          12.799546241760254,
          12.869909286499023,
          7.794388771057129,
          9.97284984588623,
          11.549132347106934,
          10.012694358825684,
          9.165799140930176,
          2.623152494430542,
          2.7803308963775635,
          7.037683486938477,
          14.230545043945312,
          6.261691093444824,
          6.177753925323486,
          9.636239051818848,
          6.029348373413086,
          6.759436130523682,
          7.269534587860107,
          5.85009765625,
          5.845705509185791,
          5.809225082397461,
          5.94640588760376,
          5.76906156539917,
          5.9293646812438965,
          5.912531852722168,
          12.783441543579102,
          9.768320083618164,
          9.052742958068848,
          8.441609382629395,
          7.406423091888428,
          11.471470832824707,
          2.5364866256713867,
          2.627019166946411,
          12.585054397583008,
          7.867406845092773,
          8.308855056762695,
          7.514564514160156,
          9.920280456542969,
          6.549333095550537,
          11.070935249328613,
          10.304341316223145,
          8.440413475036621,
          10.040079116821289,
          7.715795993804932,
          8.704785346984863,
          9.236329078674316,
          11.13011646270752,
          12.805315971374512,
          6.480931282043457,
          6.153900146484375,
          6.240579128265381,
          9.3006010055542,
          9.958467483520508,
          11.610225677490234,
          8.562849044799805,
          9.653400421142578,
          9.095760345458984,
          6.024950981140137,
          13.38190746307373,
          8.935995101928711,
          9.133096694946289,
          9.321049690246582,
          9.29319953918457,
          11.793206214904785,
          11.304101943969727,
          6.849451065063477,
          8.838963508605957,
          11.98483657836914,
          10.355875015258789,
          8.781168937683105,
          8.820658683776855,
          7.960666179656982,
          8.742149353027344,
          8.008997917175293,
          8.474963188171387,
          9.183825492858887,
          8.405959129333496,
          8.280006408691406,
          8.857190132141113,
          9.406672477722168,
          8.677305221557617,
          9.444257736206055,
          9.912165641784668,
          9.593666076660156,
          8.921630859375,
          8.456852912902832,
          10.857623100280762,
          8.3292875289917,
          9.168055534362793,
          8.787683486938477,
          9.407822608947754,
          8.975544929504395,
          8.827324867248535,
          8.065924644470215,
          8.377077102661133,
          11.024340629577637,
          10.921613693237305,
          10.946928977966309,
          10.995718002319336,
          10.96564769744873,
          11.284181594848633,
          11.010632514953613,
          7.698105812072754,
          5.92551326751709,
          10.81843090057373,
          7.695043087005615,
          8.393778800964355,
          11.019469261169434,
          11.216704368591309,
          8.94189167022705,
          9.196850776672363,
          7.103750705718994,
          9.331727981567383,
          6.309203147888184,
          6.490523338317871,
          6.23901891708374,
          8.183562278747559,
          10.416776657104492,
          10.382600784301758,
          7.05628776550293,
          8.973705291748047,
          6.1210527420043945,
          8.525651931762695,
          11.508697509765625,
          6.862601280212402,
          6.626611709594727,
          7.426465034484863,
          5.898742198944092,
          6.615503787994385,
          6.7599382400512695,
          6.951470851898193,
          12.845704078674316,
          7.5583600997924805,
          9.01432991027832,
          11.816497802734375,
          10.471491813659668,
          6.8063764572143555,
          11.196737289428711,
          6.250775337219238,
          6.399740219116211,
          6.294893741607666,
          6.0516228675842285,
          10.47424030303955,
          11.453289985656738,
          10.7632417678833,
          11.861376762390137,
          11.967966079711914,
          11.108531951904297,
          11.775554656982422,
          11.364104270935059,
          10.686701774597168,
          13.25140380859375,
          9.854598999023438,
          9.670575141906738,
          12.785282135009766,
          7.212553024291992,
          7.603894233703613,
          6.769672870635986,
          6.924739360809326,
          6.3254475593566895,
          7.790887832641602,
          7.980778694152832,
          7.531405925750732,
          2.5133190155029297,
          12.99785041809082,
          9.126032829284668,
          12.414098739624023,
          7.102987766265869,
          12.538540840148926,
          6.889615058898926,
          12.049253463745117,
          10.706453323364258,
          8.29945182800293,
          11.73812484741211,
          8.639230728149414,
          11.49921989440918,
          11.070513725280762,
          9.851527214050293,
          6.350581169128418,
          10.949858665466309,
          9.869648933410645,
          8.963040351867676,
          8.731138229370117,
          9.690793991088867,
          7.515091896057129,
          7.787450313568115,
          9.168097496032715,
          13.388225555419922,
          9.330018997192383,
          12.896646499633789,
          12.79746150970459,
          8.383038520812988,
          13.141683578491211,
          11.038257598876953,
          11.780637741088867,
          13.458651542663574,
          11.560858726501465,
          10.898815155029297,
          10.732501983642578,
          7.25437068939209,
          6.695806503295898,
          13.583381652832031,
          7.641506671905518,
          9.435781478881836,
          11.762243270874023,
          12.265243530273438,
          10.4249267578125,
          11.033352851867676,
          9.12015151977539,
          10.80750846862793,
          9.23291301727295,
          9.107488632202148,
          8.814873695373535,
          9.29931640625,
          9.623751640319824,
          10.10443115234375,
          9.52351188659668,
          7.217717170715332,
          7.422844409942627,
          13.556733131408691,
          7.036007404327393,
          7.105836868286133,
          7.268805027008057,
          8.002175331115723,
          9.469827651977539,
          12.596441268920898,
          6.862998008728027,
          7.112305164337158,
          6.549135208129883,
          6.671050071716309,
          9.732375144958496,
          9.523452758789062,
          10.727453231811523,
          10.661044120788574,
          9.443836212158203,
          2.9426820278167725,
          2.3347043991088867,
          2.938821315765381,
          6.636368274688721,
          8.810791969299316,
          8.70684814453125,
          6.732597351074219,
          13.209973335266113,
          12.54558277130127,
          6.795882701873779,
          12.480693817138672,
          12.336878776550293,
          8.7378511428833,
          2.8480472564697266,
          12.24123477935791,
          6.336440086364746,
          7.985907077789307,
          6.883725166320801,
          12.787104606628418,
          9.018182754516602,
          9.078828811645508,
          10.548569679260254,
          10.818939208984375,
          11.828311920166016,
          14.14569091796875,
          13.499726295471191,
          6.0632548332214355,
          9.205551147460938,
          7.900487899780273,
          11.094611167907715,
          7.574687957763672,
          6.964201927185059,
          7.922563552856445,
          10.127117156982422,
          11.97724723815918,
          7.148589611053467,
          10.590167045593262,
          6.395577430725098,
          10.20422649383545,
          6.32485294342041,
          7.551280498504639,
          10.755545616149902,
          10.551323890686035,
          11.221165657043457,
          10.58016300201416,
          8.21611213684082,
          12.92604923248291,
          13.165006637573242,
          12.195125579833984,
          7.558981418609619,
          7.157558917999268,
          7.817731857299805,
          6.856914043426514,
          6.613925457000732,
          12.870953559875488,
          13.020679473876953,
          12.988014221191406,
          12.111626625061035,
          13.149850845336914,
          12.899600982666016,
          11.982447624206543,
          12.713946342468262,
          12.749080657958984,
          12.140429496765137,
          12.707343101501465,
          12.552513122558594,
          8.105685234069824,
          9.08953857421875,
          7.4977593421936035,
          8.861345291137695,
          8.489126205444336,
          7.801979064941406,
          7.9865875244140625,
          9.401987075805664,
          7.716752529144287,
          7.544086456298828,
          7.807052135467529,
          7.1129374504089355,
          9.471968650817871,
          7.004492282867432,
          13.804095268249512,
          14.010159492492676,
          13.854687690734863,
          9.186976432800293,
          9.912895202636719,
          9.373431205749512,
          9.066547393798828,
          9.234097480773926,
          11.542041778564453,
          9.995462417602539,
          9.170612335205078,
          11.017528533935547,
          7.657186985015869,
          11.514501571655273,
          9.25121021270752,
          11.649112701416016,
          9.003931045532227,
          9.781081199645996,
          9.69992446899414,
          7.716703414916992,
          9.40323543548584,
          8.577826499938965,
          10.645988464355469,
          9.334566116333008,
          11.309194564819336,
          11.828758239746094,
          10.122554779052734,
          11.95885944366455,
          11.986051559448242,
          13.251579284667969,
          13.452239036560059,
          13.027860641479492,
          13.52883529663086,
          10.795166969299316,
          12.057136535644531,
          11.419921875,
          11.073625564575195,
          10.912511825561523,
          12.036436080932617,
          11.445232391357422,
          11.730854988098145,
          11.225096702575684,
          8.56032657623291,
          10.521336555480957,
          9.457917213439941,
          9.405922889709473,
          9.63809585571289,
          11.271170616149902,
          9.499128341674805,
          8.859701156616211,
          10.339014053344727,
          8.602683067321777,
          10.566424369812012,
          11.695479393005371,
          7.682302951812744,
          13.47072696685791,
          11.805152893066406,
          10.964136123657227,
          11.678263664245605,
          10.887880325317383,
          11.858718872070312,
          10.340360641479492,
          11.268372535705566,
          11.17512321472168,
          10.216716766357422,
          12.124375343322754,
          11.769926071166992,
          11.40887451171875,
          3.2410054206848145,
          8.20005989074707,
          7.774130821228027,
          7.65474796295166,
          9.911674499511719,
          7.676413059234619,
          8.64704418182373,
          8.76126480102539,
          8.784158706665039,
          8.432504653930664,
          13.721390724182129,
          10.660685539245605,
          10.358643531799316,
          13.99088191986084,
          12.3814058303833,
          13.281392097473145,
          2.326930522918701,
          2.1080784797668457,
          1.980196475982666,
          3.242889165878296,
          3.123978853225708,
          3.142516851425171,
          3.148264169692993,
          3.0944292545318604,
          8.731100082397461,
          7.81820011138916,
          7.1553635597229,
          7.039072513580322,
          9.33602237701416,
          11.41932201385498,
          9.784834861755371,
          3.504028081893921,
          9.331334114074707,
          7.680909156799316,
          7.871022701263428,
          12.98851490020752,
          12.793285369873047,
          8.090868949890137,
          11.221444129943848,
          11.571601867675781,
          10.618603706359863,
          11.248946189880371,
          12.06808853149414,
          12.427470207214355,
          11.520556449890137,
          11.308454513549805,
          8.719379425048828,
          10.255692481994629,
          9.704383850097656,
          8.800739288330078,
          9.916120529174805,
          9.195491790771484,
          10.078351974487305,
          10.178703308105469,
          9.77407169342041,
          10.18874740600586,
          9.404082298278809,
          9.449459075927734,
          12.114990234375,
          10.064284324645996,
          7.7727532386779785,
          9.597900390625,
          9.284252166748047,
          10.0328950881958,
          10.528848648071289,
          10.670221328735352,
          9.031895637512207,
          9.332076072692871,
          10.021143913269043,
          10.00416374206543,
          9.133039474487305,
          8.217663764953613,
          8.935500144958496,
          7.820539951324463,
          9.639808654785156,
          9.064098358154297,
          10.518478393554688,
          8.036748886108398,
          8.367314338684082,
          8.5358247756958,
          9.22498893737793,
          9.369028091430664,
          8.984003067016602,
          9.274645805358887,
          9.341174125671387,
          9.711973190307617,
          9.493681907653809,
          9.989371299743652,
          9.118183135986328,
          8.586492538452148,
          9.75070571899414,
          8.467324256896973,
          6.459268569946289,
          8.644818305969238,
          9.783296585083008,
          10.754110336303711,
          6.800818920135498,
          10.264687538146973,
          10.37687873840332,
          10.781774520874023,
          10.809967041015625,
          10.434128761291504,
          11.108304023742676,
          11.086183547973633,
          10.93542194366455,
          11.419727325439453,
          7.23841667175293,
          11.238560676574707,
          11.054965019226074,
          7.724401473999023,
          8.026656150817871,
          7.8166985511779785,
          13.8925199508667,
          14.043553352355957,
          14.022497177124023,
          11.821188926696777,
          12.569317817687988,
          12.458473205566406,
          12.080374717712402,
          8.386273384094238,
          11.09299373626709,
          8.65426254272461,
          11.252351760864258,
          10.924930572509766,
          2.104611873626709,
          2.0196378231048584,
          2.0043721199035645,
          2.1163110733032227,
          2.1196115016937256,
          8.058897972106934,
          11.784831047058105,
          12.547443389892578,
          12.998144149780273,
          11.645516395568848,
          12.477920532226562,
          12.188553810119629,
          12.841958999633789,
          12.493935585021973,
          12.948029518127441,
          12.726753234863281,
          12.868315696716309,
          12.774571418762207,
          12.696685791015625,
          12.527924537658691,
          12.965923309326172,
          12.875246047973633,
          11.977167129516602,
          12.929709434509277,
          12.599581718444824,
          12.633983612060547,
          12.633821487426758,
          12.423568725585938,
          12.330446243286133,
          12.997235298156738,
          12.524873733520508,
          12.787004470825195,
          12.576385498046875,
          12.994503021240234,
          12.454004287719727,
          12.478479385375977,
          12.300305366516113,
          12.570693016052246,
          13.07807445526123,
          6.148494243621826,
          6.076411247253418,
          9.364659309387207,
          6.649908542633057,
          7.453364849090576,
          8.439538955688477,
          10.70189094543457,
          2.6925792694091797,
          2.3045012950897217,
          6.681003093719482,
          11.001798629760742,
          11.567238807678223,
          11.167863845825195,
          8.4695463180542,
          6.660635471343994,
          6.776758193969727,
          6.212665557861328,
          6.529518127441406,
          7.865528583526611,
          8.319438934326172,
          9.099365234375,
          12.839153289794922,
          11.751180648803711,
          12.094681739807129,
          10.109231948852539,
          10.983077049255371,
          8.710539817810059,
          6.840523719787598,
          6.329990386962891,
          12.96556282043457,
          3.0402591228485107,
          2.795485019683838,
          2.819361925125122,
          2.695371150970459,
          2.7381842136383057,
          12.65949535369873,
          12.314460754394531,
          8.972923278808594,
          2.6611409187316895,
          2.810046911239624,
          11.304587364196777,
          11.396620750427246,
          9.35738468170166,
          8.908730506896973,
          8.929163932800293,
          8.902182579040527,
          9.129623413085938,
          8.174899101257324,
          14.232908248901367,
          8.959358215332031,
          6.816849231719971,
          7.868525981903076,
          6.36256742477417,
          7.6115312576293945,
          14.145648002624512,
          14.079572677612305,
          8.483076095581055,
          14.141304016113281,
          13.127899169921875,
          13.987191200256348,
          13.841853141784668,
          13.870928764343262,
          11.584006309509277,
          10.843770027160645,
          7.120938777923584,
          7.359794616699219,
          2.8906233310699463,
          8.106918334960938,
          8.010063171386719,
          7.558582782745361,
          7.772444248199463,
          10.532064437866211,
          11.710787773132324,
          11.631695747375488,
          11.35252571105957,
          11.174704551696777,
          11.864178657531738,
          12.21014404296875,
          11.790685653686523,
          11.618731498718262,
          11.698846817016602,
          11.597737312316895,
          11.442529678344727,
          11.58548641204834,
          11.516411781311035,
          11.425433158874512,
          11.237163543701172,
          11.758169174194336,
          11.90160083770752,
          11.387816429138184,
          10.968533515930176,
          11.31771183013916,
          11.765547752380371,
          11.269242286682129,
          11.625856399536133,
          11.948183059692383,
          11.65359115600586,
          11.467248916625977,
          8.588422775268555,
          8.439456939697266,
          8.503620147705078,
          8.219317436218262,
          12.7273588180542,
          7.3115153312683105,
          7.584999084472656,
          9.339104652404785,
          9.956053733825684,
          8.956247329711914,
          9.193056106567383,
          8.303162574768066,
          7.914833068847656,
          7.820196628570557,
          10.862565994262695,
          6.4198503494262695,
          7.671774387359619,
          11.700331687927246,
          12.171335220336914,
          11.873671531677246,
          11.902994155883789,
          11.963668823242188,
          9.972679138183594,
          11.348999977111816,
          11.603584289550781,
          7.431880950927734,
          6.204685688018799,
          6.094611167907715,
          7.890198230743408,
          6.317926406860352,
          8.471120834350586,
          6.600691795349121,
          7.3854146003723145,
          10.7373685836792,
          11.333255767822266,
          11.019623756408691,
          11.440108299255371,
          11.569350242614746,
          11.165116310119629,
          11.067330360412598,
          11.302077293395996,
          10.977690696716309,
          11.230804443359375,
          11.338566780090332,
          11.238787651062012,
          11.817754745483398,
          11.42446517944336,
          11.155617713928223,
          11.421101570129395,
          11.710108757019043,
          9.597212791442871,
          11.129485130310059,
          9.10419750213623,
          8.783304214477539,
          9.28017807006836,
          9.55772876739502,
          8.850090980529785,
          9.222830772399902,
          8.79672622680664,
          8.988365173339844,
          9.112357139587402,
          9.150134086608887,
          12.066862106323242,
          11.261846542358398,
          12.992890357971191,
          9.820732116699219,
          13.266603469848633,
          9.437398910522461,
          9.701275825500488,
          8.120255470275879,
          11.494635581970215,
          11.799546241760254,
          9.326828956604004,
          7.393241882324219,
          8.385468482971191,
          10.623930931091309,
          7.874016284942627,
          9.356298446655273,
          8.54845905303955,
          9.15139102935791,
          10.528849601745605,
          8.25329875946045,
          10.06424617767334,
          13.820298194885254,
          13.367752075195312,
          13.49437427520752,
          12.733120918273926,
          10.432150840759277,
          9.49261474609375,
          8.383844375610352,
          13.999201774597168,
          7.42352294921875,
          11.089917182922363,
          11.3203706741333,
          11.455137252807617,
          11.144708633422852,
          11.607048988342285,
          7.094735145568848,
          7.33554744720459,
          8.042609214782715,
          8.427184104919434,
          10.975510597229004,
          6.796695232391357,
          6.3289475440979,
          10.598848342895508,
          7.769325256347656,
          8.978334426879883,
          8.331441879272461,
          8.581978797912598,
          8.845264434814453,
          8.757503509521484,
          8.502626419067383,
          8.786911010742188,
          8.191415786743164,
          8.379634857177734,
          8.205347061157227,
          11.27950382232666,
          3.18654727935791,
          8.86113452911377,
          9.469019889831543,
          7.708108901977539,
          9.423991203308105,
          12.516336441040039,
          8.73713207244873,
          8.119961738586426,
          9.092191696166992,
          10.32100772857666,
          9.918048858642578,
          7.561337471008301,
          8.620824813842773,
          2.0829124450683594,
          2.7642266750335693,
          3.5152440071105957,
          2.387831449508667,
          3.062648057937622,
          2.8463833332061768,
          2.641071319580078,
          2.135565996170044,
          2.606426954269409,
          2.973626136779785,
          9.602313041687012,
          10.693703651428223,
          11.487107276916504,
          11.078365325927734,
          7.7003960609436035,
          8.009736061096191,
          8.415416717529297,
          10.99772834777832,
          12.229966163635254,
          12.206877708435059,
          6.998485565185547,
          12.274045944213867,
          12.120612144470215,
          10.69349193572998,
          7.192813873291016,
          8.27785587310791,
          9.01460075378418,
          9.778294563293457,
          10.745647430419922,
          8.215130805969238,
          7.273889541625977,
          11.032325744628906,
          13.243813514709473,
          8.835437774658203,
          7.202979564666748,
          13.24696159362793,
          11.816627502441406,
          8.279879570007324,
          8.466498374938965,
          9.073436737060547,
          8.606194496154785,
          8.73738956451416,
          13.884479522705078,
          8.534280776977539,
          8.365559577941895,
          8.596856117248535,
          8.913853645324707,
          12.890238761901855,
          8.827765464782715,
          8.113861083984375,
          10.575371742248535,
          6.004427433013916,
          9.704646110534668,
          10.979939460754395,
          11.856515884399414,
          8.651718139648438,
          11.165051460266113,
          11.03937816619873,
          6.356003284454346,
          6.487276554107666,
          8.57534408569336,
          12.438050270080566,
          8.935532569885254,
          10.356279373168945,
          13.056154251098633,
          8.096073150634766,
          5.996373176574707,
          6.577805519104004,
          8.292108535766602,
          13.825016021728516,
          13.796871185302734,
          13.757941246032715,
          13.7529296875,
          13.869484901428223,
          14.037922859191895,
          13.61280632019043,
          13.564583778381348,
          12.556851387023926,
          8.555525779724121,
          8.561578750610352,
          11.17122745513916,
          8.782711029052734,
          9.478475570678711,
          8.964223861694336,
          13.887648582458496,
          13.227350234985352,
          8.5675048828125,
          14.084436416625977,
          13.986533164978027,
          13.712847709655762,
          12.348966598510742,
          8.73458480834961,
          8.902641296386719,
          8.9076566696167,
          13.91191291809082,
          7.628729820251465,
          7.489963054656982,
          8.551844596862793,
          13.658736228942871,
          9.498976707458496,
          11.700410842895508,
          9.72830867767334,
          8.061217308044434,
          9.726360321044922,
          9.38827133178711,
          11.18604564666748,
          13.844508171081543,
          13.854939460754395,
          13.592337608337402,
          9.901811599731445,
          8.925088882446289,
          10.737113952636719,
          10.527844429016113,
          10.158553123474121,
          10.698746681213379,
          10.764511108398438,
          9.79659652709961,
          11.637451171875,
          13.568194389343262,
          11.267513275146484,
          11.514451026916504,
          11.540884017944336,
          11.30792236328125,
          11.657371520996094,
          11.415865898132324,
          10.653053283691406,
          11.511791229248047,
          11.901495933532715,
          8.670266151428223,
          11.552627563476562,
          11.6398344039917,
          11.540018081665039,
          11.72342586517334,
          11.893865585327148,
          12.023453712463379,
          11.125597953796387,
          11.57909870147705,
          11.411648750305176,
          11.687567710876465,
          11.397518157958984,
          11.007919311523438,
          11.789466857910156,
          11.289697647094727,
          12.696905136108398,
          12.99359130859375,
          13.168848037719727,
          12.638686180114746,
          13.188992500305176,
          12.922212600708008,
          8.830511093139648,
          8.79187297821045,
          9.975257873535156,
          9.044170379638672,
          9.060443878173828,
          9.672453880310059,
          8.635421752929688,
          9.467458724975586,
          6.8428053855896,
          7.4761857986450195,
          11.573248863220215,
          11.7139253616333,
          11.724435806274414,
          13.302717208862305,
          13.311331748962402,
          8.024011611938477,
          7.79100227355957,
          7.884332180023193,
          8.3645658493042,
          8.875157356262207,
          9.304981231689453,
          7.80760383605957,
          7.698479652404785,
          7.593326568603516,
          7.74177360534668,
          7.665406703948975,
          7.4716620445251465,
          8.054049491882324,
          7.7614264488220215,
          9.682738304138184,
          7.816411972045898,
          7.793879985809326,
          7.423791885375977,
          7.696906566619873,
          7.722906589508057,
          7.749840259552002,
          7.771578311920166,
          8.416065216064453,
          9.926694869995117,
          7.5296759605407715,
          8.01753044128418,
          7.7541680335998535,
          9.493799209594727,
          7.758929252624512,
          10.29989242553711,
          9.18807601928711,
          8.525178909301758,
          7.836268424987793,
          12.196138381958008,
          11.964308738708496,
          11.728808403015137,
          11.424352645874023,
          11.826659202575684,
          11.95578384399414,
          12.283931732177734,
          11.964484214782715,
          11.947240829467773,
          11.854302406311035,
          12.369109153747559,
          11.977133750915527,
          11.794829368591309,
          12.143301010131836,
          12.167512893676758,
          13.74640941619873,
          12.802515983581543,
          13.432098388671875,
          12.785309791564941,
          13.479915618896484,
          13.046567916870117,
          11.780381202697754,
          13.683796882629395,
          11.873628616333008,
          12.02629566192627,
          11.079800605773926,
          10.739542007446289,
          12.329684257507324,
          12.590043067932129,
          13.949301719665527,
          13.831974983215332,
          11.812384605407715,
          11.81482982635498,
          11.881312370300293,
          11.782132148742676,
          11.788543701171875,
          11.819387435913086,
          10.626131057739258,
          11.93600082397461,
          12.188658714294434,
          11.979223251342773,
          12.017437934875488,
          12.305809020996094,
          12.151989936828613,
          11.934531211853027,
          12.349892616271973,
          10.977837562561035,
          13.492440223693848,
          7.401675224304199,
          7.611515998840332,
          7.1673150062561035,
          7.978862762451172,
          7.1504950523376465,
          7.325135707855225,
          6.171895980834961,
          6.533444404602051,
          7.029910087585449,
          7.611269474029541,
          12.829671859741211,
          14.210979461669922,
          14.110116004943848,
          13.975824356079102,
          14.2654390335083,
          14.315413475036621,
          14.07248592376709,
          14.225259780883789,
          14.140338897705078,
          13.543612480163574,
          13.962148666381836,
          6.980295658111572,
          8.41970157623291,
          8.764802932739258,
          9.46810245513916,
          9.637444496154785,
          9.953627586364746,
          8.945945739746094,
          10.031523704528809,
          9.086654663085938,
          8.570601463317871,
          9.305642127990723,
          7.54616641998291,
          9.469305992126465,
          11.504719734191895,
          9.170382499694824,
          9.275561332702637,
          9.432323455810547,
          9.121564865112305,
          9.291733741760254,
          9.634418487548828,
          11.466763496398926,
          9.232386589050293,
          9.06618881225586,
          10.263442039489746,
          9.147333145141602,
          10.099180221557617,
          9.307085990905762,
          9.356857299804688,
          8.779244422912598,
          8.695836067199707,
          9.964055061340332,
          8.906888961791992,
          9.051819801330566,
          9.501383781433105,
          9.492630958557129,
          8.860132217407227,
          9.160065650939941,
          11.064461708068848,
          8.6839599609375,
          9.36861515045166,
          9.112088203430176,
          9.36816692352295,
          8.724732398986816,
          9.395221710205078,
          9.027544021606445,
          8.900864601135254,
          9.289190292358398,
          6.816242694854736,
          7.121766090393066,
          11.987921714782715,
          6.785979270935059,
          6.304901123046875,
          7.192965030670166,
          7.8254499435424805,
          6.9112396240234375,
          7.770868301391602,
          13.599945068359375,
          14.26251220703125,
          11.638954162597656,
          11.693119049072266,
          11.687661170959473,
          11.623738288879395,
          1.9958856105804443,
          7.916201591491699,
          10.621842384338379,
          9.688248634338379,
          13.938940048217773,
          11.289806365966797,
          10.435637474060059,
          6.3631510734558105,
          6.60963249206543,
          6.323271751403809,
          6.4675092697143555,
          7.50693941116333,
          1.977696180343628,
          2.9278619289398193,
          2.699028730392456,
          7.547684669494629,
          8.637451171875,
          9.4473295211792,
          7.650904178619385,
          8.383068084716797,
          3.4016430377960205,
          9.096182823181152,
          7.738504409790039,
          9.99606990814209,
          9.655235290527344,
          6.479104995727539,
          7.470306396484375,
          7.406458854675293,
          8.75959300994873,
          6.8888421058654785,
          6.598706245422363,
          7.282719612121582,
          7.770570755004883,
          7.40068244934082,
          9.454071044921875,
          9.962751388549805,
          11.248124122619629,
          11.978941917419434,
          11.936308860778809,
          11.805673599243164,
          11.820788383483887,
          12.081356048583984,
          10.676080703735352,
          12.149580001831055,
          12.087583541870117,
          11.309316635131836,
          12.179529190063477,
          11.589972496032715,
          10.881562232971191,
          11.91546630859375,
          11.602852821350098,
          12.126275062561035,
          12.510054588317871,
          12.219953536987305,
          10.793257713317871,
          10.803291320800781,
          12.20485782623291,
          12.411664962768555,
          12.657526969909668,
          7.0978851318359375,
          11.117079734802246,
          11.880270957946777,
          11.520733833312988,
          10.694907188415527,
          11.683414459228516,
          11.226530075073242,
          11.706525802612305,
          12.506095886230469,
          12.074734687805176,
          10.873574256896973,
          12.018165588378906,
          11.796063423156738,
          8.243353843688965,
          8.990776062011719,
          10.208091735839844,
          8.261512756347656,
          9.702006340026855,
          7.964137554168701,
          8.426464080810547,
          8.453126907348633,
          8.980537414550781,
          8.7778902053833,
          8.505476951599121,
          10.150593757629395,
          8.440443992614746,
          9.555497169494629,
          9.588460922241211,
          9.412184715270996,
          8.927840232849121,
          9.721227645874023,
          8.654273986816406,
          9.680663108825684,
          7.476707935333252,
          11.727150917053223,
          10.046830177307129,
          8.748662948608398,
          8.921523094177246,
          9.416975975036621,
          10.153422355651855,
          9.069746017456055,
          11.495208740234375,
          10.085320472717285,
          8.293421745300293,
          9.259778022766113,
          8.386689186096191,
          8.780126571655273,
          9.842475891113281,
          8.013298988342285,
          9.177416801452637,
          9.24288272857666,
          9.335200309753418,
          8.974340438842773,
          9.393840789794922,
          9.221574783325195,
          8.606504440307617,
          8.463607788085938,
          9.277653694152832,
          10.154975891113281,
          9.013062477111816,
          8.349287033081055,
          9.637260437011719,
          10.132619857788086,
          10.069631576538086,
          8.464624404907227,
          9.269012451171875,
          9.229303359985352,
          8.076489448547363,
          8.559684753417969,
          11.213104248046875,
          9.576658248901367,
          9.470297813415527,
          9.22403335571289,
          9.678071022033691,
          7.886010646820068,
          9.621639251708984,
          9.345361709594727,
          12.073144912719727,
          8.837485313415527,
          8.079602241516113,
          8.635542869567871,
          9.02796459197998,
          9.765409469604492,
          9.716923713684082,
          9.791462898254395,
          9.419720649719238,
          9.805608749389648,
          9.600516319274902,
          7.907960891723633,
          9.516409873962402,
          7.803744792938232,
          10.138431549072266,
          7.955043315887451,
          9.94537353515625,
          8.946757316589355,
          7.96478796005249,
          9.285404205322266,
          9.191021919250488,
          9.694064140319824,
          8.059122085571289,
          8.739190101623535,
          7.897233963012695,
          10.387231826782227,
          11.516120910644531,
          11.675572395324707,
          6.993756294250488,
          11.374829292297363,
          11.43100643157959,
          11.692227363586426,
          7.4467926025390625,
          7.477444648742676,
          7.317926406860352,
          12.351216316223145,
          11.174944877624512,
          12.47800064086914,
          13.103190422058105,
          13.169514656066895,
          10.826769828796387,
          13.00316333770752,
          13.204639434814453,
          13.216355323791504,
          7.854759693145752,
          7.599588394165039,
          10.748520851135254,
          10.77184772491455,
          11.396809577941895,
          10.22233772277832,
          9.819487571716309,
          11.96114444732666,
          8.283194541931152,
          12.699628829956055,
          11.266292572021484,
          10.749551773071289,
          8.046330451965332,
          9.428191184997559,
          12.23388385772705,
          10.733881950378418,
          9.051152229309082,
          11.013788223266602,
          12.092474937438965,
          12.295849800109863,
          9.308321952819824,
          10.039844512939453,
          10.118574142456055,
          8.050689697265625,
          9.662430763244629,
          9.861442565917969,
          7.765635013580322,
          8.32423210144043,
          13.327500343322754,
          13.370315551757812,
          13.682196617126465,
          11.613602638244629,
          13.35699462890625,
          13.468815803527832,
          13.508265495300293,
          13.699196815490723,
          13.549335479736328,
          13.582900047302246,
          13.793975830078125,
          14.17229175567627,
          13.596880912780762,
          2.356318950653076,
          2.441276788711548,
          11.151284217834473,
          7.9923014640808105,
          7.6503520011901855,
          7.0631303787231445,
          7.693660736083984,
          7.62755012512207,
          7.690558433532715,
          6.984887599945068,
          7.572654724121094,
          6.776232719421387,
          11.690713882446289,
          13.428454399108887,
          7.91417121887207,
          11.316337585449219,
          9.161564826965332,
          9.3101167678833,
          9.581001281738281,
          9.421307563781738,
          9.025486946105957,
          9.438690185546875,
          9.405993461608887,
          13.865360260009766,
          9.303804397583008,
          9.35238265991211,
          10.630029678344727,
          10.752245903015137,
          10.210413932800293,
          7.660433769226074,
          7.059836387634277,
          13.18344783782959,
          11.518683433532715,
          12.620537757873535,
          13.721736907958984,
          11.877203941345215,
          11.62721061706543,
          8.596501350402832,
          14.213113784790039,
          8.599008560180664,
          8.297586441040039,
          11.783764839172363,
          11.150118827819824,
          10.612015724182129,
          7.756616592407227,
          6.7806315422058105,
          7.972067832946777,
          8.1582612991333,
          8.485757827758789,
          8.370931625366211,
          7.794692516326904,
          11.447275161743164,
          12.087322235107422,
          8.586470603942871,
          7.787870407104492,
          7.740001678466797,
          7.207475662231445,
          7.457594871520996,
          7.28455114364624,
          7.306005477905273,
          7.339417934417725,
          7.177797794342041,
          7.268753528594971,
          7.376072883605957,
          7.293300628662109,
          7.26566743850708,
          7.39674186706543,
          7.363720893859863,
          7.409036636352539,
          7.85724401473999,
          10.835136413574219,
          11.280324935913086,
          13.313082695007324,
          13.320561408996582,
          13.201756477355957,
          12.026450157165527,
          11.723286628723145,
          10.236207008361816,
          9.369307518005371,
          10.97764778137207,
          11.676515579223633,
          11.838761329650879,
          11.213119506835938,
          11.82934856414795,
          13.417808532714844,
          11.535283088684082,
          12.145416259765625,
          11.674394607543945,
          11.886268615722656,
          11.13687515258789,
          11.54382038116455,
          11.460861206054688,
          13.858574867248535,
          13.50623607635498,
          13.250370025634766,
          14.041937828063965,
          13.855010986328125,
          13.841357231140137,
          13.417659759521484,
          13.228754043579102,
          7.665067195892334,
          6.398091793060303,
          6.112394332885742,
          6.697477340698242,
          6.721357345581055,
          5.955073356628418,
          7.8487548828125,
          7.827630043029785,
          7.979360103607178,
          7.838786602020264,
          7.810703277587891,
          8.043909072875977,
          8.123210906982422,
          7.693374156951904,
          8.292543411254883,
          7.044364929199219,
          8.575560569763184,
          14.00411605834961,
          13.641120910644531,
          8.85347843170166,
          12.51762866973877,
          2.0766024589538574,
          10.904886245727539,
          11.801015853881836,
          10.839591979980469,
          7.599475860595703,
          8.246797561645508,
          8.467021942138672,
          8.97431468963623,
          7.661062240600586,
          9.038084983825684,
          9.675647735595703,
          9.215243339538574,
          9.756986618041992,
          8.258720397949219,
          10.138433456420898,
          8.706278800964355,
          8.762304306030273,
          7.877506732940674,
          8.220457077026367,
          2.0129427909851074,
          2.212785243988037,
          3.120760917663574,
          7.590118885040283,
          7.963806629180908,
          8.478569984436035,
          8.664107322692871,
          8.422560691833496,
          10.415323257446289,
          11.534185409545898,
          10.354903221130371,
          8.178250312805176,
          7.7278265953063965,
          13.738312721252441,
          7.93393087387085,
          12.22518253326416,
          12.827489852905273,
          13.554245948791504,
          12.54109001159668,
          8.680874824523926,
          8.633520126342773,
          8.555143356323242,
          8.571310997009277,
          8.679533958435059,
          8.5775785446167,
          8.123396873474121,
          7.449508190155029,
          8.222428321838379,
          13.893929481506348,
          10.643563270568848,
          7.152765274047852,
          13.649408340454102,
          13.850371360778809,
          8.135939598083496,
          3.3765101432800293,
          8.064251899719238,
          11.858026504516602,
          11.308306694030762,
          12.072049140930176,
          11.916828155517578,
          11.559083938598633,
          8.01707935333252,
          7.504705429077148,
          11.482532501220703,
          8.076163291931152,
          4.0037078857421875,
          13.544794082641602,
          13.325054168701172,
          13.672890663146973,
          13.879613876342773,
          13.11957836151123,
          13.865949630737305,
          3.299267292022705,
          11.797706604003906,
          12.03740406036377,
          8.18575668334961,
          2.6004388332366943,
          12.018829345703125,
          9.973194122314453,
          10.337945938110352,
          10.767143249511719,
          11.343523025512695,
          8.0562744140625,
          13.840468406677246,
          13.272306442260742,
          13.745991706848145,
          13.501165390014648,
          13.160613059997559,
          13.739386558532715,
          13.089627265930176,
          7.100155353546143,
          6.852238178253174,
          6.725739002227783,
          6.993949890136719,
          6.614231109619141,
          11.785345077514648,
          8.164422035217285,
          7.839405536651611,
          11.79621696472168,
          8.808666229248047,
          9.445329666137695,
          9.380078315734863,
          8.554506301879883,
          8.831856727600098,
          9.310903549194336,
          8.600417137145996,
          6.391923427581787,
          12.981541633605957,
          6.696102142333984,
          2.8442482948303223,
          6.666270732879639,
          11.785508155822754,
          11.017932891845703,
          10.662313461303711,
          7.482714653015137,
          12.92874526977539,
          13.119840621948242,
          13.11246109008789,
          13.5454740524292,
          12.704263687133789,
          12.604076385498047,
          13.226369857788086,
          7.246032238006592,
          11.292509078979492,
          10.050796508789062,
          10.557747840881348,
          9.571599006652832,
          9.372112274169922,
          10.307097434997559,
          12.40296459197998,
          8.529924392700195,
          7.3486857414245605,
          6.860259056091309,
          12.496613502502441,
          9.334383010864258,
          11.479379653930664,
          8.695890426635742,
          9.458946228027344,
          2.935580253601074,
          2.9482126235961914,
          3.100015163421631,
          2.793917417526245,
          2.9254038333892822,
          2.9403672218322754,
          2.923037528991699,
          3.043938159942627,
          3.0576584339141846,
          2.9897406101226807,
          2.993845224380493,
          2.761698007583618,
          2.933988571166992,
          2.7756853103637695,
          2.3822662830352783,
          2.0454304218292236,
          14.046026229858398,
          7.293117046356201,
          6.529212951660156,
          10.679433822631836,
          2.4581356048583984,
          2.711181402206421,
          7.9123029708862305,
          7.9727349281311035,
          8.659289360046387,
          9.0841064453125,
          8.017003059387207,
          7.291589260101318,
          7.837750434875488,
          3.4393558502197266,
          2.7578744888305664,
          2.8619790077209473,
          8.246574401855469,
          14.025136947631836,
          10.425561904907227,
          10.969032287597656,
          7.110668182373047,
          7.294812202453613,
          13.97880744934082,
          12.610699653625488,
          11.357653617858887,
          12.586130142211914,
          9.459181785583496,
          9.765137672424316,
          9.892288208007812,
          9.674628257751465,
          9.47414779663086,
          10.604074478149414,
          10.176386833190918,
          10.02365779876709,
          11.727091789245605,
          9.612313270568848,
          9.783638000488281,
          9.35351848602295,
          10.717050552368164,
          10.439451217651367,
          9.61759090423584,
          9.322101593017578,
          9.051590919494629,
          10.002108573913574,
          6.790760040283203,
          10.40428638458252,
          6.680606365203857,
          8.006258964538574,
          10.384902954101562,
          12.2896146774292,
          9.81747817993164,
          2.9266200065612793,
          2.4550342559814453,
          2.683683395385742,
          9.642802238464355,
          8.24549674987793,
          10.439713478088379,
          10.051387786865234,
          11.895553588867188,
          12.165389060974121,
          12.054399490356445,
          12.06405258178711,
          10.420108795166016,
          6.620306015014648,
          13.066581726074219,
          10.425812721252441,
          8.545549392700195,
          11.608427047729492,
          7.72391414642334,
          7.090348720550537,
          13.343486785888672,
          10.72867202758789,
          10.773651123046875,
          12.621273040771484,
          13.605624198913574,
          9.09902286529541,
          11.272150993347168,
          11.287907600402832,
          13.709988594055176,
          13.779084205627441,
          12.466035842895508,
          7.212578773498535,
          8.803790092468262,
          6.798447132110596,
          6.882322311401367,
          7.4995198249816895,
          13.505858421325684,
          3.4688472747802734,
          3.0965325832366943,
          3.074735164642334,
          7.286395072937012,
          10.505173683166504,
          10.188920974731445,
          8.320018768310547,
          2.7016401290893555,
          2.567150831222534,
          2.677698850631714,
          2.6749820709228516,
          2.705660820007324,
          2.603167772293091,
          6.178248405456543,
          10.759053230285645,
          6.8248090744018555,
          9.608357429504395,
          8.606118202209473,
          8.252242088317871,
          13.66243839263916,
          13.594482421875,
          8.657181739807129,
          9.2062406539917,
          11.561173439025879,
          9.232081413269043,
          8.069486618041992,
          12.95193862915039,
          7.377831935882568,
          7.766469955444336,
          7.31221342086792,
          6.794662952423096,
          7.4951581954956055,
          9.883008003234863,
          9.320969581604004,
          9.220504760742188,
          8.667078971862793,
          12.760284423828125,
          13.5370512008667,
          7.005817890167236,
          6.356327533721924,
          7.222128868103027,
          6.366797924041748,
          6.861011981964111,
          6.570760726928711,
          6.932561874389648,
          6.876226902008057,
          6.5365753173828125,
          7.442741870880127,
          6.740025043487549,
          11.185009002685547,
          13.3034086227417,
          11.711539268493652,
          10.536059379577637,
          7.71323823928833,
          7.330060958862305,
          10.214378356933594,
          10.494482040405273,
          8.00806713104248,
          6.129146099090576,
          7.980345249176025,
          8.544783592224121,
          8.73693561553955,
          11.085884094238281,
          8.895368576049805,
          8.20394229888916,
          9.573349952697754,
          5.812502861022949,
          12.283395767211914,
          12.069351196289062,
          13.09675407409668,
          12.10216999053955,
          6.6431779861450195,
          9.24826717376709,
          12.710042953491211,
          6.418500900268555,
          6.73777961730957,
          8.225768089294434,
          8.190190315246582,
          7.4884934425354,
          10.753214836120605,
          8.46432876586914,
          8.902865409851074,
          13.409010887145996,
          11.663041114807129,
          13.475746154785156,
          10.038867950439453,
          8.471086502075195,
          12.904548645019531,
          13.66736125946045,
          12.653661727905273,
          11.632641792297363,
          8.75328254699707,
          7.510957717895508,
          7.9725823402404785,
          7.23021125793457,
          6.218109130859375,
          6.45976448059082,
          6.7277140617370605,
          6.556463241577148,
          6.580660820007324,
          6.212540626525879,
          7.7356462478637695,
          6.406503677368164,
          7.662400245666504,
          6.119054317474365,
          7.598928928375244,
          6.537690162658691,
          6.174654960632324,
          6.198203086853027,
          6.182292461395264,
          6.734519004821777,
          6.176743984222412,
          6.437481880187988,
          6.242697715759277,
          6.821547031402588,
          6.469703674316406,
          8.519502639770508,
          8.424567222595215,
          8.504107475280762,
          13.167003631591797,
          10.54024887084961,
          10.278639793395996,
          10.204894065856934,
          13.23083209991455,
          10.242976188659668,
          10.240623474121094,
          11.004463195800781,
          13.173847198486328,
          8.76923942565918,
          13.625380516052246,
          7.771738052368164,
          7.652725696563721,
          12.267975807189941,
          8.173968315124512,
          11.969827651977539,
          12.076316833496094,
          11.984956741333008,
          12.23460865020752,
          6.196225643157959,
          10.357388496398926,
          9.797650337219238,
          11.224587440490723,
          9.778316497802734,
          8.966032028198242,
          8.927556991577148,
          9.97010326385498,
          7.795935153961182,
          12.747823715209961,
          10.99692440032959,
          12.386600494384766,
          11.168153762817383,
          10.860234260559082,
          10.836433410644531,
          12.014023780822754,
          11.381560325622559,
          12.073485374450684,
          9.651861190795898,
          10.912261962890625,
          12.028663635253906,
          12.572193145751953,
          11.623079299926758,
          9.096495628356934,
          13.743048667907715,
          9.485886573791504,
          9.378490447998047,
          8.254225730895996,
          10.89333438873291,
          6.8335280418396,
          6.426548957824707,
          8.66222095489502,
          2.5632002353668213,
          11.095191955566406,
          10.940740585327148,
          10.794649124145508,
          10.703614234924316,
          12.749557495117188,
          7.253266334533691,
          6.78739595413208,
          7.922569751739502,
          2.816882371902466,
          6.442384243011475,
          2.589862585067749,
          7.9584503173828125,
          11.36616039276123,
          8.230032920837402,
          11.94485855102539,
          7.884580612182617,
          9.845763206481934,
          9.441978454589844,
          10.715271949768066,
          8.521258354187012,
          12.547992706298828,
          9.264185905456543,
          8.225422859191895,
          8.556655883789062,
          9.555723190307617,
          8.811295509338379,
          12.43632698059082,
          12.396023750305176,
          12.276214599609375,
          12.188486099243164,
          12.28298282623291,
          13.36839771270752,
          13.091131210327148,
          12.945076942443848,
          8.74693775177002,
          8.89344310760498,
          8.567879676818848,
          8.667739868164062,
          9.692034721374512,
          8.399177551269531,
          13.711284637451172,
          13.745498657226562,
          13.464859962463379,
          7.7106804847717285,
          6.077947616577148,
          9.358718872070312,
          8.498688697814941,
          7.160359859466553,
          12.297192573547363,
          3.279756784439087,
          6.721580505371094,
          13.036731719970703,
          13.787419319152832,
          7.864564895629883,
          7.987991809844971,
          7.79159688949585,
          7.437823295593262,
          12.340728759765625,
          6.334620952606201,
          5.9825592041015625,
          12.941313743591309,
          12.461827278137207,
          8.467087745666504,
          8.26194953918457,
          10.591206550598145,
          9.934367179870605,
          11.355608940124512,
          11.69909954071045,
          8.589470863342285,
          10.89508056640625,
          7.880404472351074,
          8.204129219055176,
          3.307081460952759,
          9.581113815307617,
          6.414956569671631,
          8.56618595123291,
          5.484899997711182,
          6.999198913574219,
          9.790782928466797,
          7.355391979217529,
          8.930379867553711,
          7.566056251525879,
          8.138495445251465,
          8.109796524047852,
          8.525927543640137,
          7.848539352416992,
          2.0300018787384033,
          8.075531005859375,
          7.501249313354492,
          8.096814155578613,
          13.747434616088867,
          8.645682334899902,
          7.77118444442749,
          8.078508377075195,
          6.7279815673828125,
          8.029152870178223,
          7.418837547302246,
          7.411129474639893,
          9.894474029541016,
          9.643817901611328,
          7.527557373046875,
          6.666584014892578,
          6.158483028411865,
          13.164469718933105,
          9.176704406738281,
          8.902929306030273,
          12.631793022155762,
          12.150446891784668,
          2.8499956130981445,
          2.743161916732788,
          2.9623453617095947,
          3.185488224029541,
          12.579084396362305,
          9.293877601623535,
          12.559919357299805,
          9.033679962158203,
          11.594310760498047,
          3.9440176486968994,
          11.700510025024414,
          11.546541213989258,
          10.826878547668457,
          11.253317832946777,
          9.74676513671875,
          10.10092830657959,
          9.311762809753418,
          9.53104019165039,
          9.244584083557129,
          5.878626346588135,
          9.677669525146484,
          11.195272445678711,
          12.296995162963867,
          8.746624946594238,
          8.87646198272705,
          11.645447731018066,
          8.577804565429688,
          8.75575065612793,
          11.949462890625,
          8.409546852111816,
          12.003994941711426,
          6.492934703826904,
          8.1333589553833,
          10.630131721496582,
          8.270922660827637,
          7.844433307647705,
          7.999624729156494,
          7.16616678237915,
          9.458471298217773,
          13.392193794250488,
          6.7933125495910645,
          7.024912357330322,
          6.364488124847412,
          9.008564949035645,
          8.509549140930176,
          9.552026748657227,
          8.807610511779785,
          7.410004615783691,
          8.9755277633667,
          11.01932144165039,
          12.925286293029785,
          8.689356803894043,
          13.58482551574707,
          8.380898475646973,
          8.203737258911133,
          7.565539360046387,
          8.552104949951172,
          7.697393894195557,
          8.448555946350098,
          8.256200790405273,
          7.681868553161621,
          11.620009422302246,
          11.758988380432129,
          8.848388671875,
          13.410794258117676,
          6.685841083526611,
          12.60383415222168,
          7.979519844055176,
          11.402684211730957,
          12.7758150100708,
          7.900071620941162,
          13.97581958770752,
          7.042033672332764,
          7.06791353225708,
          13.695281982421875,
          12.045722007751465,
          8.714427947998047,
          11.820558547973633,
          11.835907936096191,
          8.56680679321289,
          6.74478006362915,
          6.775898456573486,
          13.247037887573242,
          13.665661811828613,
          12.9946928024292,
          13.515530586242676,
          8.085121154785156,
          9.030341148376465,
          13.856632232666016,
          13.907454490661621,
          6.341611385345459,
          11.918852806091309,
          13.768028259277344,
          11.270122528076172,
          11.55561637878418,
          11.9190034866333,
          11.16533374786377,
          11.809488296508789,
          11.88411808013916,
          12.189212799072266,
          12.467240333557129,
          12.918010711669922,
          7.70834493637085,
          9.910470008850098,
          1.9751862287521362,
          11.86648178100586,
          8.13144588470459,
          7.560161590576172,
          7.854729175567627,
          13.901615142822266,
          13.064040184020996,
          13.491851806640625,
          7.301576137542725,
          6.940883636474609,
          6.449360370635986,
          9.544859886169434,
          2.7596187591552734,
          2.5731379985809326,
          12.494026184082031,
          12.788532257080078,
          12.904278755187988,
          8.983062744140625,
          12.227524757385254,
          7.438724994659424,
          7.94969367980957,
          9.07778263092041,
          2.278670310974121,
          8.839242935180664,
          8.209147453308105,
          10.070917129516602,
          6.54036283493042,
          12.105908393859863,
          8.507543563842773,
          8.613142013549805,
          10.218923568725586,
          9.137924194335938,
          9.348247528076172,
          9.593311309814453,
          8.705531120300293,
          11.590205192565918,
          9.687386512756348,
          10.485673904418945,
          9.311460494995117,
          9.584341049194336,
          9.336649894714355,
          8.927343368530273,
          10.676046371459961,
          8.402820587158203,
          8.985501289367676,
          9.217718124389648,
          6.527307987213135,
          9.439895629882812,
          9.389575004577637,
          10.00078296661377,
          11.207894325256348,
          9.197481155395508,
          9.120580673217773,
          9.949005126953125,
          9.738762855529785,
          13.507560729980469,
          9.321149826049805,
          11.22323989868164,
          9.702386856079102,
          9.252685546875,
          7.304041385650635,
          11.355091094970703,
          10.693836212158203,
          8.590799331665039,
          8.650494575500488,
          11.614259719848633,
          7.401557445526123,
          7.934000015258789,
          7.291950225830078,
          6.662691593170166,
          7.500670909881592,
          7.1243767738342285,
          7.089657783508301,
          10.03968334197998,
          7.427914142608643,
          11.805959701538086,
          11.713417053222656,
          12.153480529785156,
          8.520503997802734,
          7.167193412780762,
          7.485298156738281,
          8.527139663696289,
          11.849813461303711,
          10.215876579284668,
          11.597960472106934,
          8.719490051269531,
          8.14940357208252,
          9.747904777526855,
          10.390559196472168,
          10.628789901733398,
          9.229660987854004,
          8.411284446716309,
          8.670930862426758,
          10.649208068847656,
          8.265543937683105,
          12.003283500671387,
          8.865951538085938,
          7.850481986999512,
          11.486715316772461,
          12.217074394226074,
          10.95837116241455,
          11.050393104553223,
          8.337418556213379,
          12.17934799194336,
          10.393460273742676,
          10.624587059020996,
          8.40621566772461,
          11.125754356384277,
          12.088606834411621,
          11.950803756713867,
          11.611875534057617,
          7.037127494812012,
          6.07375431060791,
          5.882123947143555,
          11.489622116088867,
          12.358030319213867,
          12.590435028076172,
          8.894482612609863,
          9.208934783935547,
          9.282539367675781,
          8.678153991699219,
          9.048686027526855,
          9.316224098205566,
          9.252800941467285,
          8.743447303771973,
          8.830650329589844,
          8.691537857055664,
          10.169171333312988,
          8.743714332580566,
          8.674786567687988,
          9.250996589660645,
          10.986835479736328,
          11.156907081604004,
          11.540220260620117,
          11.589964866638184,
          11.978912353515625,
          11.841996192932129,
          11.564491271972656,
          10.648665428161621,
          12.299023628234863,
          10.760939598083496,
          11.088876724243164,
          11.260919570922852,
          11.690301895141602,
          11.296422004699707,
          12.41135025024414,
          11.938182830810547,
          12.214388847351074,
          11.39135456085205,
          12.875555992126465,
          12.226235389709473,
          11.756144523620605,
          11.076630592346191,
          10.884245872497559,
          13.049330711364746,
          12.819406509399414,
          12.071773529052734,
          12.572092056274414,
          12.423334121704102,
          12.415292739868164,
          9.220098495483398,
          12.415865898132324,
          13.933984756469727,
          12.652069091796875,
          12.289985656738281,
          12.82376766204834,
          11.242256164550781,
          6.64747953414917,
          9.999720573425293,
          10.024889945983887,
          7.80582857131958,
          3.1247973442077637,
          3.3025333881378174,
          2.3453876972198486,
          2.2366063594818115,
          2.3372387886047363,
          2.2404298782348633,
          2.157039165496826,
          2.991440534591675,
          10.82853889465332,
          11.724608421325684,
          12.930122375488281,
          9.917016983032227,
          7.056003570556641,
          6.121884822845459,
          10.688150405883789,
          8.772560119628906,
          8.775276184082031,
          11.437034606933594,
          8.418497085571289,
          12.285402297973633,
          10.933886528015137,
          7.911186218261719,
          7.667191505432129,
          12.45863151550293,
          9.369762420654297,
          8.795814514160156,
          9.408294677734375,
          7.6183576583862305,
          7.573853969573975,
          6.893012046813965,
          7.956664562225342,
          7.309837818145752,
          10.875975608825684,
          10.832144737243652,
          11.381324768066406,
          9.328454971313477,
          12.26061725616455,
          9.631189346313477,
          11.373880386352539,
          11.3964262008667,
          9.760196685791016,
          8.86525821685791,
          7.230082988739014,
          8.085139274597168,
          6.134453773498535,
          9.252723693847656,
          9.09250259399414,
          9.636795997619629,
          8.76411247253418,
          10.2539701461792,
          9.663647651672363,
          8.865240097045898,
          8.362784385681152,
          11.104146003723145,
          13.446809768676758,
          11.013227462768555,
          9.782483100891113,
          7.40406608581543,
          3.796938419342041,
          3.4632017612457275,
          3.4146053791046143,
          3.445138454437256,
          9.604606628417969,
          9.0287446975708,
          9.910077095031738,
          8.649235725402832,
          13.321993827819824,
          7.318737983703613,
          8.91419792175293,
          13.573290824890137,
          10.558927536010742,
          8.195427894592285,
          11.30959415435791,
          10.84243392944336,
          10.204523086547852,
          9.836920738220215,
          10.810416221618652,
          8.89570140838623,
          9.804478645324707,
          8.487133979797363,
          9.550372123718262,
          11.159224510192871,
          8.548707962036133,
          8.641621589660645,
          9.83781623840332,
          10.881224632263184,
          9.828452110290527,
          9.79197883605957,
          8.957871437072754,
          9.795618057250977,
          9.0576810836792,
          12.6257963180542,
          13.598695755004883,
          11.606843948364258,
          6.523899555206299,
          8.648938179016113,
          11.109932899475098,
          8.548808097839355,
          7.8831305503845215,
          8.685047149658203,
          8.455281257629395,
          8.291094779968262,
          8.814590454101562,
          8.865226745605469,
          9.75751781463623,
          10.129741668701172,
          13.221906661987305,
          10.1751708984375,
          12.7047700881958,
          9.452980041503906,
          7.6501851081848145,
          7.684762001037598,
          9.232183456420898,
          10.102892875671387,
          9.535945892333984,
          8.470622062683105,
          9.76357650756836,
          9.23230266571045,
          8.674362182617188,
          8.669636726379395,
          8.130696296691895,
          8.387293815612793,
          9.945194244384766,
          8.205035209655762,
          7.484273910522461,
          9.286474227905273,
          10.97473430633545,
          8.02564525604248,
          9.577286720275879,
          8.486737251281738,
          11.892410278320312,
          10.702375411987305,
          8.520626068115234,
          13.86329174041748,
          7.680706977844238,
          7.806211471557617,
          8.520699501037598,
          9.372149467468262,
          8.035665512084961,
          10.425305366516113,
          8.743597984313965,
          10.226018905639648,
          7.821757793426514,
          8.360529899597168,
          11.387716293334961,
          8.214041709899902,
          7.3774213790893555,
          8.100253105163574,
          9.965786933898926,
          11.746160507202148,
          7.14335298538208,
          7.586493015289307,
          7.183757781982422,
          9.051210403442383,
          8.365530967712402,
          7.173629283905029,
          7.169530391693115,
          7.409190654754639,
          9.20672607421875,
          10.005373001098633,
          11.024866104125977,
          11.071105003356934,
          8.53857707977295,
          7.794632434844971,
          9.19385051727295,
          10.886868476867676,
          11.701216697692871,
          7.6517229080200195,
          9.20382022857666,
          12.199223518371582,
          9.524812698364258,
          8.133218765258789,
          8.778212547302246,
          7.842813014984131,
          8.907625198364258,
          7.381678104400635,
          8.257345199584961,
          6.367921829223633,
          6.4114251136779785,
          6.594152927398682,
          5.9919233322143555,
          10.401631355285645,
          6.314870357513428,
          7.88266134262085,
          8.577227592468262,
          10.466007232666016,
          9.618057250976562,
          8.374643325805664,
          9.889546394348145,
          11.346893310546875,
          11.031107902526855,
          11.062528610229492,
          12.148106575012207,
          10.507563591003418,
          7.23518180847168,
          8.5794095993042,
          7.539238929748535,
          12.332022666931152,
          8.476936340332031,
          6.770688533782959,
          7.0284247398376465,
          6.926790237426758,
          6.4666643142700195,
          6.646415710449219,
          7.0516462326049805,
          7.187191486358643,
          6.882325172424316,
          11.886859893798828,
          7.97580099105835,
          7.9683661460876465,
          8.074691772460938,
          8.22099781036377,
          8.375027656555176,
          8.227675437927246,
          7.7204670906066895,
          7.306170463562012,
          11.815348625183105,
          11.857170104980469,
          10.97221851348877,
          11.584040641784668,
          7.7871222496032715,
          7.992981433868408,
          8.400629997253418,
          11.416755676269531,
          10.235332489013672,
          11.380424499511719,
          13.701751708984375,
          11.62053394317627,
          9.536927223205566,
          12.016237258911133,
          10.294939041137695,
          10.689796447753906,
          8.099230766296387,
          9.552766799926758,
          8.986990928649902,
          9.103596687316895,
          10.516246795654297,
          13.762468338012695,
          13.350704193115234,
          13.648890495300293,
          12.519186019897461,
          13.057473182678223,
          7.986296653747559,
          9.286986351013184,
          7.093365669250488,
          7.673379421234131,
          10.871633529663086,
          6.399996280670166,
          6.695601940155029,
          6.524867057800293,
          7.436060905456543,
          9.156095504760742,
          8.740265846252441,
          8.79120922088623,
          9.057289123535156,
          13.989112854003906,
          8.169322967529297,
          11.185100555419922,
          8.482961654663086,
          12.01887321472168,
          10.547536849975586,
          12.607096672058105,
          8.046359062194824,
          7.91955041885376,
          7.866279602050781,
          12.482704162597656,
          12.513792037963867,
          8.706001281738281,
          8.800915718078613,
          12.173067092895508,
          12.403860092163086,
          9.029190063476562,
          7.841625690460205,
          7.76264762878418,
          2.102395534515381,
          7.405936241149902,
          2.5225491523742676,
          6.548882007598877,
          7.185423851013184,
          1.9444102048873901,
          2.0769495964050293,
          2.1025822162628174,
          1.9875894784927368,
          2.2569501399993896,
          2.1892786026000977,
          2.9036612510681152,
          2.9691460132598877,
          7.8882880210876465,
          8.079201698303223,
          8.030881881713867,
          2.09559965133667,
          1.9680812358856201,
          8.075346946716309,
          8.664010047912598,
          6.939358234405518,
          2.6153042316436768,
          8.544750213623047,
          8.807339668273926,
          7.905314922332764,
          7.814937591552734,
          8.589957237243652,
          9.863607406616211,
          11.909721374511719,
          11.566810607910156,
          11.015156745910645,
          11.821222305297852,
          12.714320182800293,
          8.451844215393066,
          2.0847909450531006,
          10.395445823669434,
          9.74803352355957,
          9.838031768798828,
          8.811870574951172,
          9.373523712158203,
          13.14113712310791,
          2.0314462184906006,
          6.115444660186768,
          8.670378684997559,
          9.965291976928711,
          8.01028060913086,
          13.811254501342773,
          13.796928405761719,
          7.854750633239746,
          8.078571319580078,
          10.132295608520508,
          8.623149871826172,
          11.338932037353516,
          13.746016502380371,
          2.9122090339660645,
          2.74440860748291,
          8.356208801269531,
          6.415474891662598,
          7.175192356109619,
          7.073586463928223,
          9.85006046295166,
          8.867219924926758,
          9.071066856384277,
          8.90221881866455,
          7.81915807723999,
          9.780617713928223,
          8.69068717956543,
          13.992754936218262,
          13.838839530944824,
          13.504533767700195,
          13.928750991821289,
          13.828685760498047,
          13.937180519104004,
          9.684869766235352,
          12.922480583190918,
          8.496698379516602,
          13.187179565429688,
          8.069524765014648,
          13.588459014892578,
          11.92467975616455,
          12.741012573242188,
          10.846747398376465,
          8.035348892211914,
          8.33536434173584,
          8.821070671081543,
          10.693136215209961,
          7.457509517669678,
          9.513501167297363,
          9.104554176330566,
          8.126317977905273,
          8.07547378540039,
          2.107187509536743,
          2.2465407848358154,
          2.4094629287719727,
          7.73606538772583,
          7.907419681549072,
          8.66395378112793,
          8.270731925964355,
          8.278549194335938,
          5.950807094573975,
          10.808340072631836,
          11.679059028625488,
          8.748584747314453,
          8.5316162109375,
          8.583849906921387,
          8.464564323425293,
          6.659448623657227,
          6.788729190826416,
          7.152862548828125,
          6.751534938812256,
          13.611400604248047,
          9.716876983642578,
          7.319939613342285,
          8.549626350402832,
          8.548188209533691,
          8.566645622253418,
          12.23123550415039,
          13.83345890045166,
          13.97066593170166,
          14.076478004455566,
          13.914929389953613,
          13.931600570678711,
          13.954541206359863,
          8.507636070251465,
          8.327751159667969,
          7.9958696365356445,
          8.650711059570312,
          8.527708053588867,
          13.33123779296875,
          13.010381698608398,
          2.4893174171447754,
          8.135879516601562,
          2.837388753890991,
          2.807774066925049,
          2.7175984382629395,
          8.491796493530273,
          7.740678787231445,
          8.500596046447754,
          8.545760154724121,
          7.292202949523926,
          7.815577983856201,
          7.914193153381348,
          9.052894592285156,
          12.724660873413086,
          7.590521812438965,
          7.009466171264648,
          6.341714382171631,
          8.344918251037598,
          8.092222213745117,
          7.714507579803467,
          8.698827743530273,
          11.045838356018066,
          7.387683868408203,
          10.634439468383789,
          11.68524169921875,
          9.566967010498047,
          8.994318962097168,
          8.993766784667969,
          8.447897911071777,
          9.620317459106445,
          9.385525703430176,
          8.622276306152344,
          9.061688423156738,
          10.910469055175781,
          11.784022331237793,
          9.389920234680176,
          8.840622901916504,
          9.389860153198242,
          9.190478324890137,
          8.214838027954102,
          8.472350120544434,
          8.788805961608887,
          9.650504112243652,
          9.113171577453613,
          7.825855731964111,
          9.021218299865723,
          11.267624855041504,
          10.087127685546875,
          9.58212947845459,
          9.110968589782715,
          8.767410278320312,
          10.028733253479004,
          9.364361763000488,
          8.961785316467285,
          9.871077537536621,
          9.678818702697754,
          8.087204933166504,
          8.968184471130371,
          9.101048469543457,
          8.43246841430664,
          9.881494522094727,
          9.165226936340332,
          9.33666706085205,
          8.299541473388672,
          8.489951133728027,
          8.680929183959961,
          11.344558715820312,
          9.85685920715332,
          6.282293796539307,
          13.594684600830078,
          4.435606956481934,
          11.015064239501953,
          12.195210456848145,
          7.876619338989258,
          12.98641586303711,
          12.564805030822754,
          9.8641996383667,
          12.551624298095703,
          11.789946556091309,
          8.206265449523926,
          8.503168106079102,
          13.663589477539062,
          8.321356773376465,
          8.896173477172852,
          8.732129096984863,
          8.349072456359863,
          8.651714324951172,
          8.928089141845703,
          10.431037902832031,
          8.59423542022705,
          13.605413436889648,
          13.246830940246582,
          12.975662231445312,
          9.550759315490723,
          7.62516450881958,
          7.682668685913086,
          7.61674165725708,
          7.591854572296143,
          7.338451862335205,
          7.520476341247559,
          7.422710418701172,
          9.61267375946045,
          8.41347885131836,
          8.614564895629883,
          8.964373588562012,
          7.700462818145752,
          9.635910987854004,
          7.596982955932617,
          7.495121479034424,
          7.802183628082275,
          8.387157440185547,
          7.649546146392822,
          7.239441394805908,
          7.936724662780762,
          10.875128746032715,
          8.31617546081543,
          8.450372695922852,
          7.997609615325928,
          8.632501602172852,
          8.857888221740723,
          13.59398365020752,
          13.801210403442383,
          8.308843612670898,
          11.96184253692627,
          10.997577667236328,
          10.708285331726074,
          12.2106294631958,
          8.55717658996582,
          7.513493061065674,
          7.94664192199707,
          8.403478622436523,
          6.075385570526123,
          6.1671142578125,
          8.54679012298584,
          8.48800277709961,
          8.80291748046875,
          8.75473690032959,
          8.66914176940918,
          8.774336814880371,
          8.77498722076416,
          8.65551471710205,
          8.525191307067871,
          8.721172332763672,
          8.727473258972168,
          8.704459190368652,
          8.888703346252441,
          8.676581382751465,
          8.519817352294922,
          12.315632820129395,
          13.392492294311523,
          8.984281539916992,
          8.445687294006348,
          13.713927268981934,
          7.741884231567383,
          6.3643293380737305,
          6.022749423980713,
          8.857551574707031,
          8.755624771118164,
          8.574339866638184,
          8.565982818603516,
          8.890225410461426,
          8.593957901000977,
          8.881041526794434,
          10.870655059814453,
          12.844969749450684,
          7.820708274841309,
          7.977795124053955,
          12.12117862701416,
          7.188071250915527,
          7.447341442108154,
          8.455971717834473,
          12.733417510986328,
          12.73442554473877,
          3.1889307498931885,
          6.020495414733887,
          13.038713455200195,
          14.1231107711792,
          13.568610191345215,
          13.483235359191895,
          8.715219497680664,
          11.791760444641113,
          11.598857879638672,
          11.786136627197266,
          9.880928993225098,
          13.490410804748535,
          8.036760330200195,
          11.313128471374512,
          10.683460235595703,
          12.785840034484863,
          12.720359802246094,
          6.357527732849121,
          6.522950172424316,
          12.648523330688477,
          12.71121883392334,
          6.845900058746338,
          8.30810546875,
          9.035561561584473,
          8.763195037841797,
          13.290411949157715,
          8.753899574279785,
          8.32788372039795,
          13.277348518371582,
          9.058639526367188,
          13.787640571594238,
          12.68454360961914,
          7.429404258728027,
          2.8712873458862305,
          8.968192100524902,
          13.829894065856934,
          9.351269721984863,
          9.945012092590332,
          9.41321086883545,
          8.639729499816895,
          11.460258483886719,
          11.735550880432129,
          11.960822105407715,
          3.3286194801330566,
          3.229926586151123,
          3.1535613536834717,
          2.9607791900634766,
          3.2289628982543945,
          3.232558012008667,
          3.259472608566284,
          3.3248848915100098,
          3.1985833644866943,
          3.3547303676605225,
          3.051305055618286,
          3.5245730876922607,
          3.465707302093506,
          3.271514654159546,
          3.0329065322875977,
          3.165684700012207,
          3.0981507301330566,
          3.293358325958252,
          3.174805164337158,
          7.946849346160889,
          10.074535369873047,
          9.055858612060547,
          7.624346733093262,
          7.915800094604492,
          10.173238754272461,
          2.97286057472229,
          2.8482658863067627,
          3.0529205799102783,
          3.017854928970337,
          2.979823350906372,
          12.205201148986816,
          11.858789443969727,
          10.95849895477295,
          11.077852249145508,
          11.43761157989502,
          2.232971429824829,
          7.319879531860352,
          11.029768943786621,
          11.43222427368164,
          11.650867462158203,
          11.490056991577148,
          11.053473472595215,
          11.884124755859375,
          13.647674560546875,
          11.242706298828125,
          11.239520072937012,
          7.7414231300354,
          9.569989204406738,
          11.201488494873047,
          11.142829895019531,
          11.83264446258545,
          11.70544147491455,
          11.169628143310547,
          11.41173267364502,
          11.171080589294434,
          11.224133491516113,
          10.178953170776367,
          11.69204330444336,
          11.34359073638916,
          10.839423179626465,
          10.820942878723145,
          10.732958793640137,
          10.971226692199707,
          11.971826553344727,
          10.227137565612793,
          8.074036598205566,
          9.46402359008789,
          9.453659057617188,
          9.190741539001465,
          8.295924186706543,
          7.999380111694336,
          8.180495262145996,
          8.663189888000488,
          8.34343433380127,
          8.290066719055176,
          8.74927806854248,
          8.456836700439453,
          8.729121208190918,
          8.798473358154297,
          9.074928283691406,
          10.908201217651367,
          9.55583381652832,
          9.090253829956055,
          9.056973457336426,
          6.923769950866699,
          8.16057300567627,
          8.306499481201172,
          9.102588653564453,
          8.472810745239258,
          8.97295093536377,
          7.865724563598633,
          8.870973587036133,
          9.050663948059082,
          9.598877906799316,
          9.426898002624512,
          8.240874290466309,
          8.883410453796387,
          8.312539100646973,
          10.171659469604492,
          9.170806884765625,
          8.700575828552246,
          9.772842407226562,
          8.154557228088379,
          7.1042046546936035,
          8.110053062438965,
          9.742671012878418,
          8.572881698608398,
          8.078818321228027,
          7.827886581420898,
          8.930683135986328,
          8.707222938537598,
          8.994047164916992,
          8.78564167022705,
          9.03668212890625,
          9.331809043884277,
          8.489611625671387,
          10.172501564025879,
          9.57224178314209,
          8.160725593566895,
          9.762415885925293,
          8.139450073242188,
          7.618770122528076,
          12.337056159973145,
          9.055452346801758,
          9.377205848693848,
          9.098421096801758,
          9.776650428771973,
          8.80148696899414,
          13.658196449279785,
          13.691184043884277,
          13.968910217285156,
          13.886214256286621,
          13.800110816955566,
          13.899735450744629,
          13.595306396484375,
          11.826465606689453,
          13.548879623413086,
          13.297723770141602,
          14.018735885620117,
          14.128629684448242,
          13.19528865814209,
          11.955854415893555,
          10.738408088684082,
          11.624771118164062,
          11.384825706481934,
          11.633538246154785,
          3.5766334533691406,
          3.335466146469116,
          3.3954660892486572,
          3.5528650283813477,
          3.6175999641418457,
          3.6503400802612305,
          3.1653172969818115,
          3.668102264404297,
          3.4411189556121826,
          3.4802725315093994,
          3.5064990520477295,
          9.054258346557617,
          8.388769149780273,
          9.15740966796875,
          6.935940265655518,
          2.286480188369751,
          2.0715231895446777,
          2.2583093643188477,
          2.1188039779663086,
          2.2040441036224365,
          2.642042398452759,
          2.6685791015625,
          2.006737470626831,
          2.2426109313964844,
          2.103471040725708,
          1.9611613750457764,
          2.6787736415863037,
          2.7966015338897705,
          1.9679678678512573,
          2.4091432094573975,
          7.188359260559082,
          9.21726131439209,
          7.622678756713867,
          2.486955165863037,
          3.092665433883667,
          8.551121711730957,
          7.996374130249023,
          3.2210638523101807,
          3.173068046569824,
          3.0417697429656982,
          3.0686843395233154,
          3.169646978378296,
          8.955329895019531,
          8.673768997192383,
          8.53968334197998,
          1.9723576307296753,
          8.618638038635254,
          2.2646424770355225,
          2.116105318069458,
          2.1399142742156982,
          2.748978614807129,
          11.933727264404297,
          8.036365509033203,
          8.421914100646973,
          8.629608154296875,
          9.011143684387207,
          9.030877113342285,
          8.884774208068848,
          8.805230140686035,
          9.037795066833496,
          8.787141799926758,
          2.6943137645721436,
          2.797945499420166,
          2.8788645267486572,
          3.3986399173736572,
          8.55819320678711,
          8.871410369873047,
          2.0776374340057373,
          2.378042459487915,
          2.736975908279419,
          9.54123592376709,
          9.140861511230469,
          8.964141845703125,
          8.728544235229492,
          3.1766130924224854,
          13.9124174118042,
          9.020413398742676,
          13.420818328857422,
          8.689343452453613,
          6.830594062805176,
          3.1500425338745117,
          2.486788511276245,
          2.936755895614624,
          2.203578472137451,
          2.074669122695923,
          2.1446712017059326,
          2.011664390563965,
          2.293919563293457,
          2.041219472885132,
          2.157932758331299,
          2.147632360458374,
          2.2055423259735107,
          2.102752685546875,
          2.0216481685638428,
          2.0431087017059326,
          2.396796941757202,
          2.2608368396759033,
          2.8836755752563477,
          2.5846493244171143,
          2.7425026893615723,
          2.584745407104492,
          2.6480295658111572,
          2.5728652477264404,
          2.1538844108581543,
          2.6976189613342285,
          2.2704477310180664,
          2.4562368392944336,
          2.490293264389038,
          2.998087167739868,
          3.1407225131988525,
          7.998290538787842,
          8.737308502197266,
          13.356287002563477,
          13.566399574279785,
          13.678929328918457,
          13.873063087463379,
          2.8156189918518066,
          2.6746609210968018,
          13.264727592468262,
          13.639703750610352,
          13.65312385559082,
          13.675093650817871,
          13.785958290100098,
          10.711332321166992
         ],
         "xaxis": "x",
         "y": [
          0.1324474811553955,
          1.6706535816192627,
          2.0687451362609863,
          1.6968679428100586,
          1.3283560276031494,
          2.812077760696411,
          2.3219025135040283,
          2.611727237701416,
          2.496610403060913,
          -0.7859109044075012,
          1.8225489854812622,
          1.2269155979156494,
          -0.1026926189661026,
          0.5096864104270935,
          0.3302456736564636,
          0.7148889899253845,
          -2.014604330062866,
          -1.169291377067566,
          0.9451768398284912,
          -4.7747392654418945,
          -4.14958381652832,
          -4.664372444152832,
          -4.721762657165527,
          -3.8424787521362305,
          -3.785349130630493,
          -4.557797908782959,
          -4.301836967468262,
          -4.837902069091797,
          -4.767330646514893,
          -4.700016975402832,
          -4.705237865447998,
          1.8220252990722656,
          0.7150774598121643,
          0.912324070930481,
          2.8573925495147705,
          -2.3574845790863037,
          -1.3871047496795654,
          -3.5657131671905518,
          -0.6520278453826904,
          -2.289785623550415,
          -4.144696235656738,
          -2.6891913414001465,
          0.08531010895967484,
          -4.281634330749512,
          -1.4026820659637451,
          -0.3922697901725769,
          -0.1972845047712326,
          -0.32731807231903076,
          -0.29048097133636475,
          -0.14721588790416718,
          -0.14896894991397858,
          0.023286618292331696,
          -0.07033994048833847,
          -2.723630428314209,
          -0.49692395329475403,
          -0.11934415251016617,
          -0.11188919842243195,
          -0.6548953652381897,
          -1.724731206893921,
          -3.9027860164642334,
          -4.788390636444092,
          -4.726299285888672,
          -3.9538516998291016,
          -4.1804046630859375,
          -4.697680950164795,
          -4.801774978637695,
          -4.7751898765563965,
          -0.5412762761116028,
          -0.26196959614753723,
          -3.8154847621917725,
          -4.264017105102539,
          -4.5589680671691895,
          -4.2200026512146,
          -2.5555808544158936,
          0.0018499651923775673,
          -0.1122642382979393,
          2.4334073066711426,
          2.778128147125244,
          2.3458707332611084,
          6.954320907592773,
          -2.960191488265991,
          -0.18605546653270721,
          0.8714099526405334,
          -1.7066174745559692,
          6.804043769836426,
          -2.3341636657714844,
          -1.1599154472351074,
          1.1119707822799683,
          2.289081573486328,
          2.0170364379882812,
          2.3593649864196777,
          -1.0832908153533936,
          -1.3512630462646484,
          -0.8996936082839966,
          -1.8799909353256226,
          -2.4295477867126465,
          -0.6106610298156738,
          -1.5831636190414429,
          -0.24246184527873993,
          0.8879924416542053,
          -0.32128170132637024,
          0.49086183309555054,
          -0.7143528461456299,
          0.27457571029663086,
          -1.5400664806365967,
          0.645820677280426,
          0.29682686924934387,
          -0.5565236806869507,
          -1.2276614904403687,
          -0.33295774459838867,
          1.888791561126709,
          2.3102240562438965,
          1.7651842832565308,
          1.587633728981018,
          -0.7117646932601929,
          -1.3525817394256592,
          -1.8555982112884521,
          -2.850468873977661,
          -2.5766830444335938,
          -5.324029922485352,
          -2.1732962131500244,
          -1.9111948013305664,
          -2.3214609622955322,
          -5.020388603210449,
          -4.6997785568237305,
          -1.4520890712738037,
          1.7220124006271362,
          1.9244440793991089,
          2.056288719177246,
          -0.013927511870861053,
          1.2139334678649902,
          1.7789677381515503,
          3.648254871368408,
          3.0397450923919678,
          -4.780344486236572,
          -5.270537376403809,
          3.2421133518218994,
          -1.5095726251602173,
          -4.801956653594971,
          -5.472986698150635,
          2.645278215408325,
          3.5602190494537354,
          2.411092758178711,
          3.6293046474456787,
          -5.5650506019592285,
          -3.4886043071746826,
          3.200247049331665,
          2.967010498046875,
          3.6746950149536133,
          -5.258918762207031,
          -4.534554481506348,
          -1.7415332794189453,
          -2.2253668308258057,
          -2.135354518890381,
          -5.335848331451416,
          -5.259893894195557,
          -5.385457992553711,
          -5.357658863067627,
          -2.4425480365753174,
          -2.7218706607818604,
          -2.075687885284424,
          -1.6544266939163208,
          -0.608936607837677,
          1.4403434991836548,
          -1.3432999849319458,
          0.597696840763092,
          -1.639366865158081,
          -1.7724617719650269,
          1.3878729343414307,
          0.7154331803321838,
          1.1383670568466187,
          -1.4655978679656982,
          1.232487678527832,
          -0.33638057112693787,
          0.6830986142158508,
          1.633783221244812,
          1.5607558488845825,
          1.9636585712432861,
          -0.47798678278923035,
          0.8458345532417297,
          -0.37546780705451965,
          -0.6054354906082153,
          0.4084625542163849,
          1.6220489740371704,
          1.613725185394287,
          2.1013684272766113,
          -4.852321147918701,
          -0.21430115401744843,
          1.7204103469848633,
          3.008852005004883,
          1.276574969291687,
          1.3014692068099976,
          0.3426378071308136,
          -2.2754456996917725,
          -1.8254311084747314,
          -3.030160427093506,
          1.987749457359314,
          -1.421263337135315,
          -0.8029062747955322,
          0.8893715739250183,
          2.8005530834198,
          1.911957859992981,
          -0.5786752104759216,
          0.7691860198974609,
          -1.8210095167160034,
          -2.476970911026001,
          -0.8080223798751831,
          1.974899172782898,
          -4.326601982116699,
          -4.617218017578125,
          -0.8137156367301941,
          -1.6493291854858398,
          2.398416519165039,
          -2.4105770587921143,
          1.6060220003128052,
          -0.314426988363266,
          -0.5444414615631104,
          0.9127100706100464,
          2.2384867668151855,
          0.05570802837610245,
          2.552689790725708,
          -1.2599010467529297,
          -0.14026691019535065,
          -1.6192264556884766,
          -1.6326711177825928,
          -0.9195064306259155,
          -1.8878858089447021,
          -1.6298739910125732,
          -0.9720889925956726,
          -1.5800726413726807,
          -2.9269943237304688,
          2.850377082824707,
          2.695477247238159,
          2.7456247806549072,
          2.7036993503570557,
          2.81664776802063,
          -1.0775237083435059,
          -0.5362457633018494,
          -5.051999092102051,
          -5.1883625984191895,
          -5.245203018188477,
          3.3502237796783447,
          3.478299379348755,
          2.7512612342834473,
          3.1154932975769043,
          3.3366687297821045,
          3.6573870182037354,
          3.6141059398651123,
          0.5217998623847961,
          -4.787652015686035,
          -5.256258010864258,
          -3.5020625591278076,
          -4.534145832061768,
          -2.4862451553344727,
          -2.5626800060272217,
          0.042078275233507156,
          1.8317844867706299,
          -2.921996831893921,
          -0.2887473404407501,
          -2.7517526149749756,
          2.4609475135803223,
          -1.665065884590149,
          1.1450341939926147,
          -1.966249942779541,
          -1.7133619785308838,
          0.9227251410484314,
          0.47243404388427734,
          1.7963299751281738,
          -1.7197972536087036,
          -1.5930074453353882,
          0.8082296848297119,
          0.9448419809341431,
          0.8359386920928955,
          1.753602385520935,
          0.716907799243927,
          0.992801308631897,
          0.15443934500217438,
          0.6888473629951477,
          0.5868503451347351,
          2.4771170616149902,
          1.7270424365997314,
          0.38706260919570923,
          -0.49984127283096313,
          -3.3010222911834717,
          1.8364089727401733,
          2.1419804096221924,
          -3.843710422515869,
          -1.7412545680999756,
          -2.336392879486084,
          -1.332076907157898,
          -0.34499138593673706,
          -0.8332551121711731,
          -1.4851514101028442,
          -1.6660903692245483,
          -0.7726699113845825,
          -4.625944137573242,
          2.56459903717041,
          -2.0342841148376465,
          -2.102349281311035,
          -2.4456992149353027,
          -1.1206178665161133,
          -1.3783234357833862,
          2.8247299194335938,
          1.8058785200119019,
          1.6616448163986206,
          2.4703292846679688,
          -2.6243736743927,
          1.5966988801956177,
          -1.7680591344833374,
          1.7084652185440063,
          -2.7673728466033936,
          -3.6289944648742676,
          -4.999304294586182,
          1.2808220386505127,
          -2.8764193058013916,
          -0.21075744926929474,
          3.4889230728149414,
          2.617809295654297,
          2.057798385620117,
          -4.515807628631592,
          -2.9740183353424072,
          -2.0466885566711426,
          -5.4795942306518555,
          -0.07817748934030533,
          -1.5654913187026978,
          -0.4522418677806854,
          -2.0184311866760254,
          -0.7643404006958008,
          -0.4309537410736084,
          -3.6867663860321045,
          -0.6596755981445312,
          -0.07627613842487335,
          -0.8663190603256226,
          -4.643252372741699,
          1.1190804243087769,
          -0.6277189254760742,
          -0.1930456906557083,
          0.10736990720033646,
          2.4653730392456055,
          1.026686429977417,
          1.8644269704818726,
          1.6381018161773682,
          -0.833208441734314,
          1.5132815837860107,
          1.6875948905944824,
          -0.11912917345762253,
          1.3586280345916748,
          -3.9062139987945557,
          1.4701117277145386,
          0.9270781874656677,
          -1.4456244707107544,
          -2.9875006675720215,
          -2.0766513347625732,
          6.754918098449707,
          -2.3658227920532227,
          -2.452444553375244,
          -0.7329960465431213,
          -0.10674965381622314,
          -1.2196108102798462,
          -0.669317901134491,
          -3.682798147201538,
          -1.7672996520996094,
          -1.0674172639846802,
          -0.7476638555526733,
          -0.35247182846069336,
          1.6919530630111694,
          2.135684013366699,
          1.918228030204773,
          -2.6835899353027344,
          -0.9969688057899475,
          -0.3769812285900116,
          1.5257641077041626,
          1.0262091159820557,
          -3.9452996253967285,
          7.018594264984131,
          6.583587646484375,
          7.467333793640137,
          7.420039176940918,
          0.07477059215307236,
          -0.0010210375767201185,
          -0.0028594299219548702,
          -4.377102375030518,
          -0.9377237558364868,
          -1.3716472387313843,
          -1.6618382930755615,
          1.6424182653427124,
          1.0380936861038208,
          2.463371753692627,
          1.8842664957046509,
          -0.3312501311302185,
          -3.664915084838867,
          0.38939711451530457,
          -3.398460626602173,
          -3.31605863571167,
          -3.6462666988372803,
          -1.9736943244934082,
          -4.650605201721191,
          -3.32653546333313,
          -4.8041582107543945,
          -4.382619857788086,
          -3.1813549995422363,
          2.179403066635132,
          2.4601926803588867,
          2.7674691677093506,
          -3.2592806816101074,
          0.33469516038894653,
          0.41620898246765137,
          -0.28637373447418213,
          0.49778392910957336,
          1.927980899810791,
          -0.27283263206481934,
          -0.5963062644004822,
          -0.2341657131910324,
          -0.37082815170288086,
          -0.4471263289451599,
          -0.25021472573280334,
          -0.5879009962081909,
          -3.308621883392334,
          -0.06797191500663757,
          2.532815456390381,
          -4.708438873291016,
          -0.16255676746368408,
          -2.537351369857788,
          -1.1544666290283203,
          -3.807368516921997,
          2.046973943710327,
          2.7486860752105713,
          -3.5181257724761963,
          -1.9506089687347412,
          1.3355803489685059,
          -1.5649168491363525,
          -3.178999900817871,
          1.5530657768249512,
          2.267202138900757,
          2.388366460800171,
          2.1444485187530518,
          2.2234251499176025,
          2.507065773010254,
          -2.8762364387512207,
          -0.6471250057220459,
          -2.2100017070770264,
          -0.17964424192905426,
          -0.10257133841514587,
          -0.0592462494969368,
          -1.4194055795669556,
          0.4353735148906708,
          1.7818379402160645,
          0.4095470607280731,
          -0.9985633492469788,
          -1.7861214876174927,
          1.3166874647140503,
          -0.21776972711086273,
          -0.6697777509689331,
          -1.1882561445236206,
          0.27260497212409973,
          -0.12637141346931458,
          1.9467297792434692,
          0.8266315460205078,
          0.3157932162284851,
          1.1708124876022339,
          -2.494760036468506,
          -0.8707119226455688,
          1.1172516345977783,
          1.2157328128814697,
          -3.6472604274749756,
          0.25142210721969604,
          -1.5705074071884155,
          -2.411492109298706,
          -5.400516033172607,
          -5.3096795082092285,
          -2.7059895992279053,
          -1.3356378078460693,
          -0.514040470123291,
          0.9354819655418396,
          0.2074585258960724,
          1.4302647113800049,
          -3.0488295555114746,
          1.0193623304367065,
          1.6516156196594238,
          -2.369399309158325,
          2.136467933654785,
          0.6369590163230896,
          0.5263327360153198,
          0.21071967482566833,
          2.8502602577209473,
          1.9926186800003052,
          -0.09423210471868515,
          -2.411682367324829,
          1.6930845975875854,
          2.200990676879883,
          -2.637385606765747,
          0.7171043753623962,
          -4.907766342163086,
          2.76649808883667,
          -1.7889978885650635,
          -1.7795608043670654,
          -1.7239792346954346,
          0.085129514336586,
          -2.692023992538452,
          -2.5883054733276367,
          2.4060821533203125,
          -2.6579558849334717,
          -1.9642494916915894,
          -1.9646073579788208,
          0.08261168003082275,
          -0.412265419960022,
          -3.825674295425415,
          -1.2062242031097412,
          -2.092087984085083,
          1.885389804840088,
          -0.6418285965919495,
          -1.6044892072677612,
          -0.7071225643157959,
          -1.990889310836792,
          -1.9946088790893555,
          -0.90821772813797,
          0.595518171787262,
          -2.0739147663116455,
          0.026870451867580414,
          -0.9224360585212708,
          -0.7363421320915222,
          -0.5767474174499512,
          -2.479876756668091,
          -0.2159404307603836,
          1.6724194288253784,
          1.6460323333740234,
          1.9968252182006836,
          2.1372241973876953,
          1.4321621656417847,
          0.03669758513569832,
          1.8833459615707397,
          -2.980806350708008,
          -2.515904188156128,
          -3.0096652507781982,
          -2.5141494274139404,
          -0.20441319048404694,
          -2.896026611328125,
          -1.081748366355896,
          0.41534724831581116,
          0.49069952964782715,
          -1.1477681398391724,
          -1.1565024852752686,
          2.1450042724609375,
          -0.5206982493400574,
          2.3980729579925537,
          -1.1853610277175903,
          -4.278278827667236,
          1.9895521402359009,
          -1.4435226917266846,
          1.2112456560134888,
          0.6490806937217712,
          1.856057047843933,
          -1.2516882419586182,
          1.0512861013412476,
          0.17404721677303314,
          1.3318278789520264,
          -2.7867703437805176,
          0.7447863221168518,
          0.306392639875412,
          2.272993564605713,
          1.9620299339294434,
          -2.5957844257354736,
          -4.075589656829834,
          -0.666545569896698,
          0.4681532084941864,
          -2.493734359741211,
          0.9534096717834473,
          -1.4558101892471313,
          0.45093482732772827,
          0.6014988422393799,
          0.7193905115127563,
          0.8472096920013428,
          -0.44250041246414185,
          -0.4382006824016571,
          1.130000352859497,
          -0.5774824619293213,
          0.6455325484275818,
          0.8039812445640564,
          0.3683168292045593,
          -0.21553190052509308,
          -1.7865896224975586,
          1.1193060874938965,
          0.6118988394737244,
          1.4056316614151,
          0.6489700675010681,
          0.6607038974761963,
          0.903789222240448,
          -1.9838693141937256,
          -2.1039857864379883,
          1.2367802858352661,
          0.2357328236103058,
          1.3998088836669922,
          0.8043936491012573,
          0.4393959939479828,
          2.2958476543426514,
          0.3173372745513916,
          -0.36766061186790466,
          -1.3599129915237427,
          -0.818848192691803,
          1.2983638048171997,
          0.7310657501220703,
          0.9107411503791809,
          0.8994634747505188,
          3.2778072357177734,
          -2.788325786590576,
          -3.1218721866607666,
          -1.493072271347046,
          1.860062837600708,
          0.9263884425163269,
          0.3011360764503479,
          0.42063742876052856,
          0.5698642730712891,
          0.5079620480537415,
          0.37978631258010864,
          0.3789651393890381,
          0.4787181317806244,
          0.5303285717964172,
          0.295732319355011,
          -0.20354022085666656,
          -0.32892945408821106,
          -0.14237341284751892,
          0.33127501606941223,
          1.7294102907180786,
          7.175329685211182,
          1.2132008075714111,
          -0.19945430755615234,
          7.091663360595703,
          2.1095690727233887,
          1.3484315872192383,
          -2.5176022052764893,
          -2.514326333999634,
          -1.9886674880981445,
          -1.2343158721923828,
          1.7584253549575806,
          -2.1641688346862793,
          -1.0041987895965576,
          -1.2665444612503052,
          -3.9862468242645264,
          -2.3202433586120605,
          -2.3118505477905273,
          -0.6950538754463196,
          1.4521942138671875,
          2.3288204669952393,
          2.321258783340454,
          0.6146003603935242,
          0.957114040851593,
          2.3147804737091064,
          0.1790853887796402,
          -4.275092124938965,
          -4.419229984283447,
          0.7280818819999695,
          -0.670371949672699,
          0.26457810401916504,
          0.408084899187088,
          0.6641438603401184,
          0.7984932065010071,
          -1.883987545967102,
          -2.387000799179077,
          -1.231669306755066,
          -0.6091737151145935,
          2.0609943866729736,
          -1.4479470252990723,
          -0.4184306859970093,
          1.546524167060852,
          1.0651381015777588,
          -1.5430984497070312,
          0.1537323296070099,
          -3.5456202030181885,
          1.4140254259109497,
          1.6897568702697754,
          1.7452551126480103,
          1.779564380645752,
          1.493330717086792,
          1.8959269523620605,
          0.9253612160682678,
          -0.8514203429222107,
          0.8086891770362854,
          0.9798306226730347,
          0.9383618831634521,
          -3.0383565425872803,
          -2.507211685180664,
          -2.2908289432525635,
          -1.980627417564392,
          2.6865334510803223,
          -3.3319926261901855,
          -2.3796868324279785,
          1.443367600440979,
          -3.918341875076294,
          -4.476021766662598,
          -4.43811559677124,
          -4.206770896911621,
          -4.5963454246521,
          -3.9302451610565186,
          -3.7753255367279053,
          -4.5962371826171875,
          -3.8348960876464844,
          -4.6842451095581055,
          -4.107674598693848,
          -4.519462585449219,
          -4.653631210327148,
          3.6163578033447266,
          0.47356465458869934,
          1.9503381252288818,
          -0.3507581651210785,
          -0.5821216702461243,
          -1.2041972875595093,
          0.1787896752357483,
          2.199347496032715,
          -1.7925293445587158,
          -0.7677971720695496,
          -0.5310187339782715,
          -0.283163845539093,
          -1.4146482944488525,
          -2.4453964233398438,
          0.2877369821071625,
          2.210975170135498,
          -3.678513288497925,
          -3.0085625648498535,
          -3.649557590484619,
          1.0319113731384277,
          2.4319560527801514,
          0.6315644979476929,
          0.5961949229240417,
          0.21739734709262848,
          -2.754115104675293,
          3.1974992752075195,
          3.1345460414886475,
          2.910616159439087,
          1.8021368980407715,
          2.6079511642456055,
          2.8026669025421143,
          2.951935052871704,
          1.0321764945983887,
          3.2427096366882324,
          2.9743707180023193,
          3.096531867980957,
          2.862755537033081,
          2.988436698913574,
          3.086294174194336,
          2.845895290374756,
          3.253953218460083,
          2.4124984741210938,
          0.13877733051776886,
          2.823068618774414,
          3.150002956390381,
          2.631946325302124,
          3.0239806175231934,
          3.1110689640045166,
          3.1751058101654053,
          3.1860849857330322,
          2.8005452156066895,
          3.3228185176849365,
          3.254045248031616,
          3.3510093688964844,
          3.4343101978302,
          2.9134254455566406,
          -2.2995283603668213,
          3.132894515991211,
          -0.4424603283405304,
          -4.336019515991211,
          0.9963603615760803,
          0.2372020184993744,
          -4.228208065032959,
          1.4440134763717651,
          0.8614697456359863,
          1.5242775678634644,
          -0.801605224609375,
          1.3178765773773193,
          2.299572229385376,
          1.904750943183899,
          1.2577213048934937,
          -2.2326438426971436,
          1.9273432493209839,
          -3.0109622478485107,
          -3.0039782524108887,
          -3.4517853260040283,
          -1.0342035293579102,
          -4.819819450378418,
          0.04130623862147331,
          -0.08816526085138321,
          -2.6526358127593994,
          -4.688043117523193,
          -5.070648670196533,
          -5.053396224975586,
          -5.027075290679932,
          -4.8520097732543945,
          -5.105466365814209,
          -5.047821998596191,
          -4.755606174468994,
          -5.08182954788208,
          -2.766890525817871,
          -5.178509712219238,
          -1.5070481300354004,
          0.6046899557113647,
          2.0603208541870117,
          2.1528890132904053,
          2.7628116607666016,
          2.101165771484375,
          1.9905771017074585,
          2.252046585083008,
          -2.245943784713745,
          -0.48916780948638916,
          -0.5005099177360535,
          0.25626224279403687,
          1.2383463382720947,
          -0.039429910480976105,
          -0.22038379311561584,
          0.9978623986244202,
          0.051066961139440536,
          0.9040717482566833,
          0.9365247488021851,
          2.2012107372283936,
          1.243748426437378,
          0.6076472401618958,
          0.38631948828697205,
          0.7695808410644531,
          0.8680744171142578,
          0.7495965361595154,
          0.901682436466217,
          1.1057366132736206,
          1.087981939315796,
          0.9808159470558167,
          2.280106782913208,
          1.3325848579406738,
          -0.700652539730072,
          3.259352684020996,
          -2.9862449169158936,
          1.5132029056549072,
          -0.5971758961677551,
          -0.3768436014652252,
          2.4453563690185547,
          2.0109739303588867,
          0.4231952428817749,
          2.638800621032715,
          0.8966946005821228,
          0.18426552414894104,
          -1.5339993238449097,
          -0.25617748498916626,
          0.9004361629486084,
          1.0015063285827637,
          0.8075828552246094,
          1.2627465724945068,
          -0.4848378300666809,
          -0.03593730553984642,
          -1.7872464656829834,
          0.35827821493148804,
          0.6077944040298462,
          0.6029891967773438,
          -1.7957732677459717,
          -1.4462884664535522,
          0.21799470484256744,
          -0.09333787113428116,
          1.1766928434371948,
          1.1844133138656616,
          1.0919709205627441,
          -1.062140703201294,
          -1.503172516822815,
          -2.0742673873901367,
          -1.2716971635818481,
          -2.0418102741241455,
          -1.0808825492858887,
          -1.0652533769607544,
          -2.5313949584960938,
          -0.39645934104919434,
          1.6930111646652222,
          -0.8972591161727905,
          1.646390438079834,
          1.3249200582504272,
          2.096769094467163,
          1.4522031545639038,
          0.5875120759010315,
          2.1803903579711914,
          0.7760204076766968,
          1.5215414762496948,
          1.944037914276123,
          1.5494965314865112,
          0.9629919528961182,
          1.7606252431869507,
          0.19850800931453705,
          1.6331521272659302,
          0.2872135639190674,
          -0.33650705218315125,
          1.8266938924789429,
          0.7970052361488342,
          2.0215871334075928,
          1.3023922443389893,
          1.2994385957717896,
          1.1005327701568604,
          0.96469646692276,
          1.344625473022461,
          1.7525063753128052,
          1.4892399311065674,
          -2.3860225677490234,
          -2.262923240661621,
          -4.669576644897461,
          -4.387501239776611,
          -4.636641502380371,
          -0.020568745210766792,
          -0.8935008645057678,
          7.317336082458496,
          0.4826202988624573,
          -2.341891288757324,
          7.679419040679932,
          6.742515563964844,
          -1.9945205450057983,
          -2.4158644676208496,
          -3.599858522415161,
          -4.305115222930908,
          1.9999181032180786,
          0.25471916794776917,
          0.2388676553964615,
          0.1608559489250183,
          0.11457540094852448,
          -4.811774253845215,
          -1.039033055305481,
          -0.8634776473045349,
          0.381729394197464,
          1.5392341613769531,
          1.0456246137619019,
          -1.4454160928726196,
          1.166599154472351,
          0.976382851600647,
          1.6604318618774414,
          1.2299745082855225,
          0.6238975524902344,
          1.22849702835083,
          -0.5189933776855469,
          0.8837200403213501,
          0.4916344881057739,
          0.8418796062469482,
          0.7270631790161133,
          -1.1972826719284058,
          -1.5777610540390015,
          0.5752791166305542,
          -2.1391665935516357,
          0.5338753461837769,
          0.38132405281066895,
          0.829169750213623,
          0.4669339954853058,
          -1.2921855449676514,
          -3.9431028366088867,
          -0.7089823484420776,
          -1.9870023727416992,
          -1.3926759958267212,
          -1.7840180397033691,
          -0.1552882194519043,
          -0.13447609543800354,
          -0.4466581642627716,
          -1.1151008605957031,
          -1.4761064052581787,
          -1.4761943817138672,
          -0.19413946568965912,
          -1.7691880464553833,
          -2.374079465866089,
          0.9624998569488525,
          0.5949102640151978,
          1.73076593875885,
          -4.416163921356201,
          -4.611034870147705,
          0.4766635000705719,
          -0.5444306135177612,
          -0.06374554336071014,
          -2.630539655685425,
          0.7900141477584839,
          -2.9304311275482178,
          1.216803789138794,
          -2.599276542663574,
          2.0868046283721924,
          -3.0447044372558594,
          1.208093285560608,
          -0.29241761565208435,
          1.291672706604004,
          -0.2020137757062912,
          -2.4386227130889893,
          -2.1108579635620117,
          -0.17695409059524536,
          -0.36663979291915894,
          0.8723922371864319,
          2.208922863006592,
          1.7576050758361816,
          -1.379617691040039,
          1.7300108671188354,
          0.5692048072814941,
          1.742082118988037,
          -2.256605863571167,
          1.2766531705856323,
          -0.13560821115970612,
          -0.47114697098731995,
          -4.18147087097168,
          0.02072640135884285,
          -0.09670700132846832,
          -2.898430109024048,
          -0.13056887686252594,
          -0.9910765886306763,
          -4.376402378082275,
          -4.783825397491455,
          1.151252031326294,
          -2.674675464630127,
          -0.0693240836262703,
          -0.4733734428882599,
          -2.4442031383514404,
          1.71112859249115,
          1.8034937381744385,
          -0.1449763923883438,
          -3.4545252323150635,
          -1.6429986953735352,
          -2.5038490295410156,
          -1.8296672105789185,
          -1.0131937265396118,
          -1.057617425918579,
          -1.2814260721206665,
          -2.0601401329040527,
          1.7785890102386475,
          0.4462845027446747,
          -2.49147629737854,
          -2.622096300125122,
          -2.0797414779663086,
          -0.5862566232681274,
          -0.7574396133422852,
          -1.2733337879180908,
          0.9076105356216431,
          -1.9065930843353271,
          1.1102159023284912,
          0.2360614538192749,
          -0.39502522349357605,
          0.1431598663330078,
          0.7654884457588196,
          1.4218965768814087,
          1.8022013902664185,
          -4.450772285461426,
          0.2353348731994629,
          1.0699831247329712,
          -0.297482430934906,
          -0.3215981423854828,
          -0.4467092752456665,
          1.9152929782867432,
          -2.949756145477295,
          -3.166212320327759,
          -0.1359931230545044,
          1.7931228876113892,
          2.149867057800293,
          -3.0890390872955322,
          1.557417869567871,
          2.0416979789733887,
          -5.273399829864502,
          -0.17162080109119415,
          1.7241919040679932,
          0.4887000620365143,
          -2.080521821975708,
          -2.9980874061584473,
          -0.01071478147059679,
          -1.3542817831039429,
          -2.0116848945617676,
          -1.0680806636810303,
          -2.9863171577453613,
          -0.17568610608577728,
          -2.597740411758423,
          -1.306612253189087,
          0.569621205329895,
          -1.014697790145874,
          -2.1980347633361816,
          -3.55422043800354,
          -2.7646872997283936,
          -2.841064453125,
          -2.739330530166626,
          -1.8807635307312012,
          1.9387915134429932,
          0.9704290628433228,
          1.5712205171585083,
          0.47056126594543457,
          1.878104567527771,
          1.904107928276062,
          -0.36931782960891724,
          -4.315738201141357,
          -3.9274609088897705,
          -4.579166412353516,
          -0.36783942580223083,
          2.051896333694458,
          2.755176305770874,
          2.949780225753784,
          2.1761932373046875,
          0.9539524912834167,
          1.398434042930603,
          1.104547142982483,
          1.8804621696472168,
          1.539642572402954,
          1.9177963733673096,
          2.0154919624328613,
          2.434621810913086,
          2.3549818992614746,
          2.479862928390503,
          2.4478559494018555,
          1.9211004972457886,
          2.1852035522460938,
          2.3919289112091064,
          1.2405955791473389,
          2.664616584777832,
          2.404806613922119,
          0.058870457112789154,
          -2.219149351119995,
          2.5305349826812744,
          -0.23597973585128784,
          1.947529673576355,
          1.6989364624023438,
          1.3958953619003296,
          -0.8055404424667358,
          -3.0292251110076904,
          -1.9953287839889526,
          -3.052189350128174,
          -3.165198564529419,
          -0.5130011439323425,
          -3.0899689197540283,
          -2.277261734008789,
          -2.798703908920288,
          -2.0661697387695312,
          -1.919182538986206,
          -1.5559128522872925,
          -2.0101730823516846,
          -2.527397871017456,
          -2.5890557765960693,
          -1.5253740549087524,
          -2.68347430229187,
          -2.6174707412719727,
          -0.6813981533050537,
          1.9074516296386719,
          -0.7613703608512878,
          1.1438219547271729,
          1.4988735914230347,
          1.5028269290924072,
          -2.2809741497039795,
          1.405068039894104,
          2.072542667388916,
          0.43076154589653015,
          1.957843542098999,
          0.4693901240825653,
          0.728383481502533,
          -4.543336868286133,
          -3.270763874053955,
          -2.325650215148926,
          -4.0519914627075195,
          -3.8260743618011475,
          -1.6752020120620728,
          -1.5370581150054932,
          -1.3751555681228638,
          -1.9218288660049438,
          -1.2942708730697632,
          -0.41318580508232117,
          -0.6734346151351929,
          0.38320544362068176,
          -0.6503822803497314,
          -1.1816767454147339,
          -0.8358007669448853,
          -0.9773527979850769,
          -0.5503318309783936,
          0.17810839414596558,
          0.5977048277854919,
          -0.7267898321151733,
          1.049639344215393,
          0.4833982288837433,
          -0.7029292583465576,
          0.8953713178634644,
          1.7323304414749146,
          0.6406200528144836,
          0.5983721017837524,
          -4.239735126495361,
          -2.4009735584259033,
          -2.5096471309661865,
          -1.973567008972168,
          -1.147318959236145,
          -0.9500527381896973,
          -1.3849742412567139,
          -0.5485456585884094,
          -1.146757960319519,
          -0.5020776987075806,
          -0.3276267945766449,
          0.14618024230003357,
          -0.7842003107070923,
          -0.4929105341434479,
          -1.86915922164917,
          -0.5951172113418579,
          0.1652948558330536,
          7.009320259094238,
          7.2410197257995605,
          7.020707130432129,
          0.1647525280714035,
          7.264057636260986,
          -5.118342876434326,
          -5.185113906860352,
          -5.05833101272583,
          -5.418251991271973,
          0.028636198490858078,
          -2.123441457748413,
          -0.7873808741569519,
          -1.2375421524047852,
          2.3319385051727295,
          2.2116219997406006,
          -0.09756336361169815,
          2.0727741718292236,
          2.1458542346954346,
          -0.4084319770336151,
          -0.6708940267562866,
          -0.36978670954704285,
          -0.6230741739273071,
          -0.5963090062141418,
          -0.992594301700592,
          7.997632026672363,
          2.669874906539917,
          2.168517589569092,
          -0.4747488796710968,
          -4.103754997253418,
          -1.1600784063339233,
          -0.24731704592704773,
          0.15938664972782135,
          0.14442989230155945,
          6.643133640289307,
          2.408856153488159,
          1.5487046241760254,
          1.4605962038040161,
          -1.906999945640564,
          -0.8901972770690918,
          -1.3744313716888428,
          -1.8094426393508911,
          -0.6170147657394409,
          -0.2350720465183258,
          -0.6673742532730103,
          -0.3894265294075012,
          -3.2937145233154297,
          1.3697285652160645,
          1.7099498510360718,
          3.0093257427215576,
          1.8721585273742676,
          2.4788084030151367,
          1.601730227470398,
          0.7859549522399902,
          1.3844656944274902,
          1.3410178422927856,
          1.4202433824539185,
          1.4763292074203491,
          -4.475496768951416,
          1.1095683574676514,
          2.703805446624756,
          1.8668333292007446,
          2.2828187942504883,
          1.773358702659607,
          1.214989423751831,
          0.025929488241672516,
          2.6214354038238525,
          1.127535104751587,
          0.5906907916069031,
          1.8336659669876099,
          0.23259946703910828,
          3.057687759399414,
          2.155867576599121,
          1.388503909111023,
          1.2256145477294922,
          -2.8689727783203125,
          1.7235268354415894,
          3.2006847858428955,
          2.7567152976989746,
          2.7839231491088867,
          2.32123064994812,
          2.1869101524353027,
          2.7814531326293945,
          -1.4598957300186157,
          -1.9706275463104248,
          -1.6717802286148071,
          -1.7294409275054932,
          -1.8218175172805786,
          -1.7155804634094238,
          -1.7230377197265625,
          -1.3117891550064087,
          0.3712586462497711,
          1.0438225269317627,
          1.3513479232788086,
          0.7765487432479858,
          -4.196977138519287,
          3.134894371032715,
          -3.2455265522003174,
          -0.9731119275093079,
          -4.663856029510498,
          -3.6919562816619873,
          -3.897010087966919,
          -3.6372358798980713,
          -4.631121635437012,
          -2.0413434505462646,
          -1.72218918800354,
          -2.467498779296875,
          -4.693728446960449,
          -4.710920333862305,
          -0.11412379145622253,
          -0.04491007328033447,
          0.18856477737426758,
          0.463885635137558,
          0.2604108452796936,
          0.2808617055416107,
          1.284416913986206,
          1.9091997146606445,
          2.608001708984375,
          2.1431050300598145,
          7.904519081115723,
          -3.9635064601898193,
          3.2063214778900146,
          -4.181826114654541,
          -4.454647541046143,
          2.030618667602539,
          2.1506874561309814,
          2.0818278789520264,
          2.046984910964966,
          2.1400718688964844,
          -1.554018259048462,
          1.6204131841659546,
          1.7360597848892212,
          1.9201792478561401,
          1.1584038734436035,
          1.7244534492492676,
          1.7502995729446411,
          2.9705491065979004,
          2.991097927093506,
          1.6575058698654175,
          1.6076096296310425,
          2.020564079284668,
          2.4257986545562744,
          1.9599014520645142,
          2.295727491378784,
          2.4079997539520264,
          2.2127432823181152,
          2.0726125240325928,
          2.124329090118408,
          1.9919151067733765,
          1.8326412439346313,
          2.7292473316192627,
          2.344906806945801,
          2.465899705886841,
          2.2520546913146973,
          1.9040660858154297,
          1.7634557485580444,
          2.162325859069824,
          2.8601341247558594,
          1.777739405632019,
          1.3300317525863647,
          1.8215984106063843,
          1.725496530532837,
          -2.043823719024658,
          0.8632303476333618,
          0.8404747843742371,
          -0.14920350909233093,
          0.9537155628204346,
          -2.318342447280884,
          1.089147925376892,
          -3.3471035957336426,
          -0.3706722557544708,
          -0.16808420419692993,
          -2.7696845531463623,
          -0.9582221508026123,
          -4.1541523933410645,
          -4.735828399658203,
          7.5191497802734375,
          0.33481451869010925,
          1.1461247205734253,
          0.7797749638557434,
          0.6608232855796814,
          1.7496975660324097,
          2.124169111251831,
          1.3662363290786743,
          2.2834033966064453,
          2.1216607093811035,
          -0.753229022026062,
          -1.8607786893844604,
          -1.3015984296798706,
          -5.292404651641846,
          -2.2153093814849854,
          0.7853400111198425,
          -2.2933812141418457,
          0.012034017592668533,
          0.18428924679756165,
          -0.07442481070756912,
          0.22889763116836548,
          0.13143113255500793,
          2.0326781272888184,
          1.9820622205734253,
          -0.6759969592094421,
          0.11206087470054626,
          -0.07897985726594925,
          -1.8282917737960815,
          0.1472322642803192,
          -1.6032204627990723,
          -1.135130524635315,
          -2.020113229751587,
          -1.0961545705795288,
          -1.1248843669891357,
          7.415008544921875,
          -0.36175790429115295,
          -1.9747744798660278,
          0.4484001696109772,
          1.5439733266830444,
          0.4874859154224396,
          2.1715970039367676,
          0.24455446004867554,
          0.13464592397212982,
          6.864271640777588,
          0.24298763275146484,
          -0.18148326873779297,
          0.0778699740767479,
          0.04519608989357948,
          0.03871700540184975,
          -0.14130784571170807,
          -2.3556439876556396,
          2.230952024459839,
          2.904085874557495,
          -0.12783969938755035,
          7.562552452087402,
          7.378200054168701,
          0.8533781170845032,
          0.5610666275024414,
          -0.6758677959442139,
          -1.1478568315505981,
          -1.2148667573928833,
          -1.034166932106018,
          -2.7584667205810547,
          -1.4006872177124023,
          -0.6798909306526184,
          -0.3900679349899292,
          -0.9557784795761108,
          -0.8561468124389648,
          -1.2570759057998657,
          -2.0878543853759766,
          -1.1852930784225464,
          -0.20034398138523102,
          -0.7562269568443298,
          -1.191296935081482,
          -1.0050632953643799,
          -1.0976407527923584,
          -1.5528956651687622,
          -0.8614287972450256,
          -1.2816994190216064,
          -0.7679134607315063,
          -1.8967703580856323,
          -1.184593677520752,
          -0.885330319404602,
          -1.0958943367004395,
          -2.2840259075164795,
          1.2579785585403442,
          1.2615705728530884,
          0.6639705300331116,
          1.5222218036651611,
          -1.5470021963119507,
          -0.3020685315132141,
          2.4141769409179688,
          1.3064451217651367,
          0.49754345417022705,
          -0.12719488143920898,
          0.27353575825691223,
          7.726469039916992,
          7.487179279327393,
          7.2025017738342285,
          -2.4142649173736572,
          0.344319611787796,
          -0.31859496235847473,
          -1.1134413480758667,
          -0.8635188341140747,
          -1.0607019662857056,
          -0.7572853565216064,
          0.041209205985069275,
          1.485227108001709,
          -1.4768799543380737,
          -1.156593918800354,
          -0.2169862538576126,
          1.1014618873596191,
          0.6911047101020813,
          -0.3999604284763336,
          0.8178476095199585,
          -0.3179156184196472,
          1.5113861560821533,
          0.45630306005477905,
          -2.605884552001953,
          -1.192623257637024,
          -3.9848594665527344,
          -4.458754062652588,
          -4.597168922424316,
          -4.485897064208984,
          -4.304744243621826,
          -3.5312862396240234,
          -3.9860498905181885,
          -4.212089538574219,
          -3.9654881954193115,
          -3.4287877082824707,
          -4.3780517578125,
          -4.150738716125488,
          -3.8622024059295654,
          -3.813871145248413,
          -2.6443941593170166,
          -1.815922737121582,
          -4.086842060089111,
          -1.0537514686584473,
          -1.6920360326766968,
          -1.801145315170288,
          -2.26997971534729,
          -1.3399083614349365,
          -1.2186989784240723,
          -1.8461894989013672,
          -1.4555563926696777,
          -1.3937139511108398,
          -1.2690099477767944,
          -1.8345452547073364,
          -4.320387840270996,
          -0.4882670044898987,
          -0.2946498692035675,
          0.0927617996931076,
          0.9009490013122559,
          1.825403094291687,
          1.6233443021774292,
          1.290543556213379,
          -2.51533579826355,
          1.5548315048217773,
          2.785377264022827,
          0.3537772595882416,
          -0.5344840288162231,
          2.7339372634887695,
          1.5917123556137085,
          2.8997175693511963,
          1.6349549293518066,
          -4.637533664703369,
          0.3468700349330902,
          1.8275073766708374,
          -2.1601555347442627,
          -2.772183895111084,
          -2.3760368824005127,
          -2.2987008094787598,
          -0.2763867676258087,
          0.5197245478630066,
          2.7149014472961426,
          -0.3421492576599121,
          2.4950318336486816,
          -3.902362823486328,
          -4.260818958282471,
          -4.53507661819458,
          -0.9426514506340027,
          -1.341912031173706,
          -2.5554699897766113,
          0.1417296975851059,
          1.9215606451034546,
          7.471817970275879,
          -3.6241581439971924,
          0.7703192234039307,
          0.7454980611801147,
          -1.2411487102508545,
          -0.78333979845047,
          6.80397367477417,
          7.578757286071777,
          7.806909084320068,
          7.524653911590576,
          7.271563529968262,
          7.585761547088623,
          7.307619571685791,
          7.750938415527344,
          7.2578325271606445,
          7.665173053741455,
          -2.8499245643615723,
          -0.5746142864227295,
          -1.2912646532058716,
          -2.1015398502349854,
          2.673096179962158,
          0.01311725564301014,
          -1.0445449352264404,
          -1.450336217880249,
          1.260569453239441,
          1.5708646774291992,
          0.02113320492208004,
          -0.11771493405103683,
          -0.05145202577114105,
          -4.881386756896973,
          -0.07888906449079514,
          -0.7564923763275146,
          -0.358030766248703,
          -0.49703744053840637,
          -0.27780547738075256,
          -0.03863009810447693,
          -0.1313105821609497,
          0.11176492273807526,
          0.06628147512674332,
          -0.24601127207279205,
          -1.4778045415878296,
          -3.9634852409362793,
          -4.503002166748047,
          -1.119505763053894,
          2.8375723361968994,
          2.17734694480896,
          2.4244637489318848,
          0.010110647417604923,
          -0.6718007922172546,
          -1.6338765621185303,
          -3.0130722522735596,
          -0.3713993430137634,
          -1.3005563020706177,
          -4.349869728088379,
          -2.9813108444213867,
          2.7665717601776123,
          -2.3491439819335938,
          -0.11434700340032578,
          -2.8396708965301514,
          2.1765499114990234,
          2.9500696659088135,
          -2.666731834411621,
          -1.5891211032867432,
          -4.424042224884033,
          -3.14386248588562,
          -1.0089120864868164,
          1.6459217071533203,
          -4.911951541900635,
          -5.10638427734375,
          -5.076097011566162,
          7.252753734588623,
          6.693896293640137,
          -0.019877847284078598,
          -5.297445774078369,
          -4.974996566772461,
          -4.918708324432373,
          -5.138459205627441,
          -0.9870765805244446,
          5.922009468078613,
          6.746823310852051,
          -1.4764927625656128,
          0.2535361647605896,
          -0.8827487230300903,
          0.10929275304079056,
          -1.2600855827331543,
          -4.8938703536987305,
          0.7137047648429871,
          -4.9113850593566895,
          0.40083763003349304,
          -0.10064786672592163,
          7.357769966125488,
          -0.49788814783096313,
          -1.5466845035552979,
          -0.49065423011779785,
          -1.2696620225906372,
          -0.6376419067382812,
          0.7221062779426575,
          0.6893789172172546,
          -4.991369724273682,
          0.21097631752490997,
          -0.0692928209900856,
          -0.3400304317474365,
          0.20982664823532104,
          0.34371501207351685,
          0.31624606251716614,
          -0.044975489377975464,
          0.17111031711101532,
          0.9863482713699341,
          7.011605262756348,
          6.929966449737549,
          0.49777013063430786,
          -4.983065605163574,
          -0.2556290030479431,
          -5.409266471862793,
          -1.349884271621704,
          -1.2438714504241943,
          -5.174660682678223,
          -1.3434520959854126,
          -1.3291252851486206,
          -1.5151129961013794,
          -1.707370400428772,
          -5.357246398925781,
          -5.405760288238525,
          -5.581170558929443,
          -1.569266438484192,
          1.7684394121170044,
          1.6327600479125977,
          7.432973384857178,
          -1.2427986860275269,
          1.641714096069336,
          -2.437520742416382,
          2.266591787338257,
          3.6059138774871826,
          0.8765432834625244,
          2.51938533782959,
          -2.5457170009613037,
          -2.5232372283935547,
          -2.510779857635498,
          -2.2757749557495117,
          0.1472701132297516,
          1.7122313976287842,
          0.808707058429718,
          0.6817055344581604,
          0.49229028820991516,
          0.5499147772789001,
          0.8814303874969482,
          -0.2953348457813263,
          -4.336705207824707,
          -2.015087127685547,
          -3.1441597938537598,
          -3.670372486114502,
          -4.0619611740112305,
          -3.879619836807251,
          -4.013128757476807,
          -3.7931816577911377,
          -3.3539631366729736,
          -2.9641811847686768,
          -3.7892403602600098,
          0.46386513113975525,
          -3.700984001159668,
          -3.978541374206543,
          -3.9359560012817383,
          -4.096907138824463,
          -3.9764599800109863,
          -4.27721643447876,
          -4.090020656585693,
          -1.1683030128479004,
          -4.124140739440918,
          -4.67399787902832,
          -3.9930100440979004,
          -3.5496695041656494,
          -4.313795566558838,
          -4.805327892303467,
          1.940641164779663,
          2.396618604660034,
          2.529031276702881,
          2.357785224914551,
          2.664567470550537,
          2.7542245388031006,
          -2.3073596954345703,
          -1.9508469104766846,
          -2.881815195083618,
          -1.8385093212127686,
          -2.170666456222534,
          -1.8479702472686768,
          -1.927801489830017,
          -2.5370614528656006,
          3.0894787311553955,
          -2.5847184658050537,
          -0.6778014898300171,
          -0.6824915409088135,
          -1.1980738639831543,
          -1.4513463973999023,
          -1.617609977722168,
          2.5049307346343994,
          3.145355224609375,
          2.6860976219177246,
          1.6996058225631714,
          2.577298402786255,
          2.306694507598877,
          1.351177453994751,
          2.6953022480010986,
          2.915083169937134,
          2.856861114501953,
          2.3967928886413574,
          2.5993735790252686,
          2.52591609954834,
          2.3716535568237305,
          -1.5056500434875488,
          2.9041388034820557,
          1.2121100425720215,
          2.8126091957092285,
          2.4534521102905273,
          2.261296510696411,
          2.377553939819336,
          2.899592161178589,
          0.6072067022323608,
          1.1624008417129517,
          2.239478588104248,
          2.619743585586548,
          2.884235143661499,
          3.2912518978118896,
          3.139922618865967,
          -0.22604207694530487,
          0.6794997453689575,
          -1.848813772201538,
          1.6904288530349731,
          -4.1598920822143555,
          -4.614723205566406,
          -4.068222522735596,
          -3.3260092735290527,
          -3.496170997619629,
          -4.37261438369751,
          -3.6675539016723633,
          -4.255388259887695,
          -4.3114914894104,
          -4.578693389892578,
          -4.295910358428955,
          -3.6439566612243652,
          -3.468635320663452,
          -3.9251558780670166,
          -4.104763984680176,
          -2.18784761428833,
          -1.8409736156463623,
          -1.73236882686615,
          -2.8090507984161377,
          -1.772700309753418,
          -1.983527421951294,
          -4.02311372756958,
          -2.2729053497314453,
          -3.3919084072113037,
          -4.0282158851623535,
          -1.398290753364563,
          -2.5867629051208496,
          -4.461214542388916,
          -3.437178134918213,
          -2.3831052780151367,
          -2.444984197616577,
          -4.634047985076904,
          -3.046762704849243,
          -3.2257745265960693,
          -3.723083972930908,
          -4.21653413772583,
          -4.4335198402404785,
          -3.772317886352539,
          -3.828247547149658,
          -4.2895331382751465,
          -3.909785747528076,
          -3.913785696029663,
          -4.148276329040527,
          -3.947211265563965,
          -3.798584222793579,
          -4.2890143394470215,
          -3.5570032596588135,
          -1.754338026046753,
          0.0990154966711998,
          -0.24258990585803986,
          -0.12565629184246063,
          -0.4029808044433594,
          0.4709172248840332,
          0.23305478692054749,
          2.1231324672698975,
          0.8635841608047485,
          0.7661608457565308,
          0.48357880115509033,
          -0.9135305285453796,
          -0.2358333021402359,
          -0.12077751010656357,
          -0.012707346118986607,
          0.17458876967430115,
          0.029972758144140244,
          -0.08366040885448456,
          -0.1484670341014862,
          -2.480896234512329,
          -1.5596649646759033,
          -1.649172067642212,
          -0.02298431470990181,
          2.4079549312591553,
          6.94460916519165,
          1.0813376903533936,
          -0.022582288831472397,
          -0.730935275554657,
          -1.442657709121704,
          -1.1521576642990112,
          -1.6896355152130127,
          -2.059448003768921,
          -1.577382206916809,
          0.772111177444458,
          -2.736112117767334,
          1.8242099285125732,
          -1.24568772315979,
          -2.0796921253204346,
          -1.9996668100357056,
          -2.374951124191284,
          -0.933894157409668,
          -2.6572301387786865,
          -1.3070764541625977,
          -2.5125651359558105,
          -2.6537094116210938,
          -2.921776294708252,
          -1.3876399993896484,
          -0.7382467985153198,
          -2.4543650150299072,
          -2.2626049518585205,
          -2.2316951751708984,
          -2.0432283878326416,
          -3.312410831451416,
          -2.076324462890625,
          -2.6250791549682617,
          -2.2690300941467285,
          -2.6492373943328857,
          -0.9454374313354492,
          -2.2619214057922363,
          -0.053522925823926926,
          -1.8418444395065308,
          -2.2183971405029297,
          -2.5697524547576904,
          -1.3379039764404297,
          -1.3224105834960938,
          -1.6956769227981567,
          -1.5618399381637573,
          -1.7861621379852295,
          -2.630100727081299,
          -0.35355085134506226,
          -0.3441900312900543,
          -3.295570135116577,
          -0.18071095645427704,
          1.4262570142745972,
          -2.784735918045044,
          0.5981855392456055,
          0.6188716292381287,
          0.15338242053985596,
          -0.045168954879045486,
          0.10572894662618637,
          -2.2445068359375,
          -2.521339178085327,
          -2.5187788009643555,
          -2.4459197521209717,
          2.11387038230896,
          2.5728373527526855,
          0.42598065733909607,
          0.363704115152359,
          -2.123009204864502,
          -2.191617488861084,
          1.417150855064392,
          1.196673035621643,
          1.0226187705993652,
          1.2583388090133667,
          1.5906717777252197,
          -2.720561981201172,
          -0.021690089255571365,
          -0.36937010288238525,
          -0.015045526437461376,
          0.17841580510139465,
          -0.07789316028356552,
          1.0704559087753296,
          2.433821201324463,
          6.814400672912598,
          -0.08532540500164032,
          7.2084527015686035,
          -1.3322921991348267,
          -0.5462657809257507,
          -2.8704349994659424,
          0.5135427117347717,
          1.7006564140319824,
          -2.5717995166778564,
          0.012589982710778713,
          1.0971529483795166,
          0.9395292401313782,
          -2.409609317779541,
          -2.7546019554138184,
          -2.8371143341064453,
          1.1174942255020142,
          0.28412362933158875,
          0.9772486090660095,
          -2.534090042114258,
          -2.3498709201812744,
          -3.842986583709717,
          -2.4942917823791504,
          -0.7677741646766663,
          -1.714288592338562,
          -0.4107748866081238,
          -1.4033584594726562,
          -1.388587474822998,
          -0.9345479011535645,
          -0.9234682321548462,
          -0.8929329514503479,
          -1.2333813905715942,
          -0.8623898029327393,
          -0.059567444026470184,
          -4.028109550476074,
          -0.6202234029769897,
          -1.1997095346450806,
          -1.1790189743041992,
          -1.038288950920105,
          -2.0278003215789795,
          1.4426711797714233,
          -0.6575652956962585,
          -4.561910152435303,
          -4.386119365692139,
          -3.7498605251312256,
          -2.207488775253296,
          -1.376042127609253,
          -0.5678585767745972,
          -4.261488437652588,
          -0.5313670635223389,
          -3.468637704849243,
          -2.463460922241211,
          -4.636068344116211,
          -3.6253161430358887,
          3.4815406799316406,
          -0.14326691627502441,
          -1.502353549003601,
          2.1681017875671387,
          2.2167882919311523,
          2.543675661087036,
          2.1713109016418457,
          1.3371567726135254,
          0.3937092423439026,
          2.869858741760254,
          2.552511692047119,
          1.2448205947875977,
          2.7182698249816895,
          2.735823154449463,
          2.5505223274230957,
          2.582667350769043,
          1.7929396629333496,
          2.4985435009002686,
          2.965116500854492,
          2.059882164001465,
          2.5597715377807617,
          -0.6800764799118042,
          0.941082239151001,
          0.2856404185295105,
          -0.4860436022281647,
          2.9335460662841797,
          2.096006155014038,
          3.289360761642456,
          -2.095028877258301,
          1.0524243116378784,
          3.3110928535461426,
          2.149298906326294,
          3.1228861808776855,
          2.202578544616699,
          0.7243592739105225,
          3.3197596073150635,
          1.629533290863037,
          0.08855002373456955,
          2.887637138366699,
          2.8893356323242188,
          2.817126989364624,
          2.7781221866607666,
          2.1720845699310303,
          1.7660161256790161,
          3.012113571166992,
          1.2570308446884155,
          1.6708388328552246,
          2.156414031982422,
          2.4816477298736572,
          1.5461353063583374,
          2.0957107543945312,
          2.3670597076416016,
          0.8907159566879272,
          1.8262454271316528,
          3.2362449169158936,
          3.236013889312744,
          -0.036189403384923935,
          2.0737714767456055,
          2.476438045501709,
          2.6412768363952637,
          2.647897958755493,
          3.0319058895111084,
          2.508258819580078,
          2.6338107585906982,
          -3.421752452850342,
          2.4330015182495117,
          3.596649169921875,
          2.101790189743042,
          2.5098581314086914,
          1.6212427616119385,
          2.045041561126709,
          2.169741630554199,
          3.073545217514038,
          0.8698772192001343,
          3.111503839492798,
          3.461676836013794,
          0.4878653585910797,
          3.5709967613220215,
          0.5679067969322205,
          2.962214231491089,
          1.784761905670166,
          1.4899626970291138,
          3.2471864223480225,
          2.1474156379699707,
          2.028263807296753,
          2.42474365234375,
          0.9842469692230225,
          3.093282699584961,
          0.9178673624992371,
          0.6840043067932129,
          -3.807554006576538,
          -1.1162872314453125,
          -2.7935194969177246,
          -1.959311842918396,
          -2.5772595405578613,
          -4.85407018661499,
          -3.0475733280181885,
          -2.875206708908081,
          -1.9514615535736084,
          -0.8688375353813171,
          -0.43834683299064636,
          -1.3334414958953857,
          -1.7198750972747803,
          -0.5665150284767151,
          0.739742636680603,
          -1.427173137664795,
          -1.221779704093933,
          -1.375304102897644,
          -1.5461066961288452,
          -2.749453544616699,
          0.4181084930896759,
          -0.6061644554138184,
          -0.47496241331100464,
          0.6382958292961121,
          0.8151436448097229,
          -1.556883692741394,
          2.743255376815796,
          1.4181269407272339,
          0.2618081271648407,
          0.13806279003620148,
          2.644603967666626,
          0.9212478995323181,
          1.8219754695892334,
          0.8279263973236084,
          2.429874897003174,
          0.7545812129974365,
          -0.9924279451370239,
          -2.235185384750366,
          1.544712781906128,
          0.7503353357315063,
          -2.794381856918335,
          7.285121917724609,
          2.4426944255828857,
          -3.0151803493499756,
          0.05128634721040726,
          1.4278398752212524,
          -1.3349124193191528,
          -2.5469350814819336,
          -2.2854690551757812,
          -3.542898416519165,
          -2.6650564670562744,
          -2.562068462371826,
          -2.08219838142395,
          -2.4773871898651123,
          0.016649579629302025,
          0.09511257708072662,
          0.28770095109939575,
          -0.39902040362358093,
          -0.34590715169906616,
          -0.11778479069471359,
          -0.006757265422493219,
          -1.299539566040039,
          -3.198187828063965,
          -3.104942798614502,
          -3.0437276363372803,
          -3.157623052597046,
          -2.8257133960723877,
          -2.8819432258605957,
          -3.1375906467437744,
          -0.1187961995601654,
          -2.848435878753662,
          -4.232080459594727,
          -0.7959811687469482,
          -0.025473419576883316,
          -1.3481178283691406,
          -1.7680021524429321,
          -1.1595983505249023,
          -1.7973467111587524,
          -3.4862053394317627,
          -2.212726593017578,
          -1.721027135848999,
          -1.670876145362854,
          -2.8282129764556885,
          0.621687650680542,
          0.6091967225074768,
          -1.5430184602737427,
          -2.127676486968994,
          -2.394408702850342,
          -2.439891815185547,
          -2.988799571990967,
          -1.253443717956543,
          -2.5212550163269043,
          -1.3300646543502808,
          -0.4354124069213867,
          0.1163073256611824,
          -2.2266883850097656,
          -0.04760376363992691,
          -1.957466959953308,
          7.158320903778076,
          6.891667366027832,
          -1.2517513036727905,
          -4.447088241577148,
          -3.903041124343872,
          7.004699230194092,
          0.5771722793579102,
          6.786920547485352,
          7.339812755584717,
          7.177158355712891,
          6.667674541473389,
          -1.2055449485778809,
          -2.1557769775390625,
          -3.1196365356445312,
          -3.2727549076080322,
          7.241150379180908,
          7.910748481750488,
          6.910409450531006,
          6.725184917449951,
          6.6090617179870605,
          6.81137228012085,
          6.825193405151367,
          6.717777252197266,
          6.695476055145264,
          6.870542526245117,
          6.820676803588867,
          6.946547508239746,
          6.715153694152832,
          6.593516826629639,
          6.664858341217041,
          6.928635597229004,
          -2.768284559249878,
          -3.341952323913574,
          -1.6163201332092285,
          -1.4433594942092896,
          -1.5045709609985352,
          -4.263236999511719,
          0.17341063916683197,
          -0.7757852077484131,
          -4.761254787445068,
          -0.4117605984210968,
          -0.9843964576721191,
          -0.9273996353149414,
          -0.24485327303409576,
          -1.3513951301574707,
          -1.201467514038086,
          -0.22470754384994507,
          -0.6238170266151428,
          -0.7048962712287903,
          -0.9019742012023926,
          -0.5428229570388794,
          -0.6044757962226868,
          -0.29722654819488525,
          -0.4592292904853821,
          -0.17937631905078888,
          -0.20988230407238007,
          -0.3768429160118103,
          -0.3728279173374176,
          -0.29169607162475586,
          -0.3148910403251648,
          -2.1635756492614746,
          -0.9169029593467712,
          0.9459647536277771,
          0.37524643540382385,
          1.9710097312927246,
          1.5267428159713745,
          0.3634907901287079,
          7.948318958282471,
          8.081853866577148,
          8.187824249267578,
          8.292228698730469,
          7.765320301055908,
          6.751077175140381,
          6.6905198097229,
          6.974339008331299,
          7.678207874298096,
          -0.13768863677978516,
          6.496561050415039,
          -2.4991884231567383,
          -2.533599615097046,
          -4.3898396492004395,
          -2.4923431873321533,
          0.1559983342885971,
          -3.0647048950195312,
          -3.0988950729370117,
          -3.4208641052246094,
          6.938665390014648,
          1.7616541385650635,
          0.15339094400405884,
          1.0374388694763184,
          1.5019757747650146,
          1.6819580793380737,
          1.2014364004135132,
          0.18240797519683838,
          -1.957533836364746,
          -4.79987096786499,
          1.2287180423736572,
          2.0410995483398438,
          -2.7153725624084473,
          7.072778701782227,
          7.850257396697998,
          2.1510255336761475,
          1.787000298500061,
          0.6858779191970825,
          6.770401954650879,
          7.265133380889893,
          6.9602766036987305,
          7.298150539398193,
          6.850801467895508,
          1.5308037996292114,
          -2.2941462993621826,
          0.9217212200164795,
          7.307509899139404,
          6.712901592254639,
          -1.165258526802063,
          6.4814772605896,
          -1.3017266988754272,
          -1.6460767984390259,
          -2.229123830795288,
          -1.7065566778182983,
          -5.513723373413086,
          -5.42107629776001,
          -4.813977241516113,
          -4.756147384643555,
          -5.591634750366211,
          -5.278261661529541,
          6.736720561981201,
          6.549679756164551,
          7.094911098480225,
          -1.406428337097168,
          0.21562010049819946,
          0.7304760813713074,
          -2.6515719890594482,
          -1.68148934841156,
          6.986984729766846,
          0.028626078739762306,
          7.175224304199219,
          -1.4880720376968384,
          -0.4341375231742859,
          -0.3638864755630493,
          -1.7985941171646118,
          -0.2218559831380844,
          6.986846923828125,
          2.17744779586792,
          -2.5424163341522217,
          1.3715277910232544,
          -0.47903528809547424,
          0.1428900808095932,
          -0.2250518500804901,
          -0.16305574774742126,
          -0.712967574596405,
          -0.18204383552074432,
          -0.24966324865818024,
          -0.42543840408325195,
          -4.306991100311279,
          -4.417226314544678,
          0.07108575850725174,
          -0.6099781394004822,
          1.521223783493042,
          0.9195165634155273,
          0.5941559672355652,
          0.8606871962547302,
          -2.242692232131958,
          -2.3373336791992188,
          -0.03964089974761009,
          0.15626998245716095,
          -0.8321913480758667,
          -0.4450521767139435,
          0.051284968852996826,
          -0.15284422039985657,
          2.0992112159729004,
          0.7166879177093506,
          0.9492546319961548,
          0.1562923938035965,
          0.4503002464771271,
          0.10325685143470764,
          -2.3785111904144287,
          2.562692403793335,
          0.3776700496673584,
          1.8086735010147095,
          0.9991896152496338,
          1.4273686408996582,
          -2.8036718368530273,
          0.5512852668762207,
          1.6565927267074585,
          1.1997140645980835,
          6.512924671173096,
          0.36630183458328247,
          2.0758564472198486,
          2.068556547164917,
          0.4339990019798279,
          0.42222461104393005,
          -0.45939427614212036,
          -0.652629554271698,
          -1.6879709959030151,
          -2.683784246444702,
          -2.748143434524536,
          -2.6426470279693604,
          -2.4876303672790527,
          -2.6254587173461914,
          -2.5110483169555664,
          -2.472852945327759,
          -2.4896037578582764,
          0.005019244737923145,
          -4.1769561767578125,
          1.3814717531204224,
          -0.04794703423976898,
          1.0943361520767212,
          1.5647246837615967,
          0.9664416313171387,
          2.9183743000030518,
          -4.876379013061523,
          -0.4927577078342438,
          0.49482062458992004,
          -0.7644194960594177,
          0.08628706634044647,
          0.28339529037475586,
          -5.330937385559082,
          0.8777419924736023,
          -1.2222521305084229,
          -1.2815719842910767,
          -0.9807912707328796,
          -1.0306719541549683,
          -1.1760337352752686,
          -1.1582143306732178,
          -1.24038565158844,
          -1.0214523077011108,
          -1.1546413898468018,
          -1.3504537343978882,
          -1.2994797229766846,
          -1.0976359844207764,
          -1.22056245803833,
          -1.2851077318191528,
          -0.5594315528869629,
          0.04848209768533707,
          0.021713275462388992,
          0.3107842206954956,
          -0.2338869571685791,
          -4.0270676612854,
          -0.796075165271759,
          -0.8504083752632141,
          0.5708220601081848,
          -0.3533789813518524,
          1.6928246021270752,
          0.5058998465538025,
          0.4969940185546875,
          0.28410276770591736,
          0.13184936344623566,
          -0.337033212184906,
          -0.09960728883743286,
          -0.44607555866241455,
          -4.799506187438965,
          -0.30957016348838806,
          -3.4849958419799805,
          -2.8329761028289795,
          0.499366819858551,
          0.8454818725585938,
          -1.1815093755722046,
          -0.5881775617599487,
          -1.654497742652893,
          2.745725631713867,
          -1.6218444108963013,
          -0.81004798412323,
          -1.6576076745986938,
          -2.2979753017425537,
          -2.686624050140381,
          -1.7265515327453613,
          0.029363950714468956,
          -1.930290699005127,
          -3.428231954574585,
          -2.241488456726074,
          -2.5601890087127686,
          -1.8685369491577148,
          -1.0293762683868408,
          0.27379530668258667,
          -1.8864381313323975,
          -2.27388334274292,
          -1.8669445514678955,
          -2.9118940830230713,
          0.8471618294715881,
          -1.6600341796875,
          0.522671103477478,
          -0.9440286755561829,
          -1.7390464544296265,
          0.21961316466331482,
          -0.5995438098907471,
          -0.09803005307912827,
          -0.030677758157253265,
          -0.5180181264877319,
          -1.7058087587356567,
          -0.8391005992889404,
          -2.482576608657837,
          -2.000885248184204,
          -3.3402795791625977,
          -3.3529913425445557,
          -3.8212175369262695,
          -4.398724555969238,
          -2.487483501434326,
          0.23160754144191742,
          -1.294596552848816,
          -0.6273561120033264,
          -1.8115534782409668,
          1.6814407110214233,
          0.1196274608373642,
          0.9844669103622437,
          -1.2859352827072144,
          -3.1512293815612793,
          -3.726924419403076,
          2.4173367023468018,
          -1.1111340522766113,
          -0.5761472582817078,
          -1.4456204175949097,
          -0.3582752048969269,
          -2.266211986541748,
          -2.1931087970733643,
          0.5547455549240112,
          -2.8154351711273193,
          -1.8239461183547974,
          -2.934058904647827,
          -2.8129003047943115,
          -2.8085436820983887,
          -0.3306487798690796,
          -0.24165037274360657,
          -0.4370329976081848,
          -0.3739258348941803,
          0.7111416459083557,
          -0.20746688544750214,
          -2.42475962638855,
          -1.3263750076293945,
          -1.007446050643921,
          -0.9269914031028748,
          -1.1112165451049805,
          -0.8979071974754333,
          -0.8540495038032532,
          -0.8605449795722961,
          0.48393315076828003,
          -2.187326431274414,
          1.5832411050796509,
          0.5775077939033508,
          -3.509254217147827,
          7.481409549713135,
          -1.19297194480896,
          -2.6140236854553223,
          1.974508285522461,
          1.0727633237838745,
          -1.1740145683288574,
          -0.45052310824394226,
          -0.8302955627441406,
          1.08991539478302,
          -3.074066162109375,
          -2.6356706619262695,
          -2.8567404747009277,
          -2.4345638751983643,
          -2.8273630142211914,
          -1.391893744468689,
          -1.6029857397079468,
          -1.1986186504364014,
          -1.3265973329544067,
          2.063495397567749,
          -2.392435073852539,
          -2.5683236122131348,
          0.987143874168396,
          1.2874704599380493,
          1.1673952341079712,
          1.20161771774292,
          0.7108452320098877,
          0.7718881368637085,
          0.7955443263053894,
          1.5370806455612183,
          -0.259308397769928,
          2.0444090366363525,
          -2.3459935188293457,
          -0.2984931468963623,
          0.03505481034517288,
          -1.5718649625778198,
          -2.8327107429504395,
          -1.6493816375732422,
          -2.5172460079193115,
          -3.951495885848999,
          -4.744744300842285,
          0.6920846104621887,
          -4.779561996459961,
          -1.3208982944488525,
          -2.1577956676483154,
          -2.245063066482544,
          -1.4957129955291748,
          -4.689656734466553,
          -2.7484850883483887,
          0.5112591981887817,
          1.6986445188522339,
          2.0273361206054688,
          -1.9984084367752075,
          1.8457181453704834,
          1.6079633235931396,
          -0.3010336458683014,
          2.7198383808135986,
          1.017359972000122,
          1.5039421319961548,
          1.0569592714309692,
          1.1409246921539307,
          -0.16454406082630157,
          0.19153530895709991,
          1.6203813552856445,
          0.4332660734653473,
          -0.6603419184684753,
          -3.3895058631896973,
          -1.132364273071289,
          -3.0198183059692383,
          0.2642418444156647,
          -3.231034994125366,
          -1.7442400455474854,
          -1.5076016187667847,
          -2.3834259510040283,
          -4.692525386810303,
          -2.8805582523345947,
          6.721317768096924,
          0.6693168878555298,
          1.273188591003418,
          1.135080099105835,
          0.7767290472984314,
          1.016114354133606,
          1.305763840675354,
          1.2070305347442627,
          0.7107383012771606,
          1.788957953453064,
          0.007224688306450844,
          1.0952428579330444,
          0.1964946985244751,
          1.8031764030456543,
          1.4888265132904053,
          1.2467145919799805,
          1.348341941833496,
          1.257960557937622,
          1.53452730178833,
          1.9044737815856934,
          1.2766358852386475,
          1.0000388622283936,
          1.6536024808883667,
          -3.276789426803589,
          7.484210968017578,
          7.394021987915039,
          2.4071781635284424,
          -3.262542963027954,
          -3.061375617980957,
          -3.4016404151916504,
          2.6611320972442627,
          -3.3895151615142822,
          -3.388211488723755,
          -1.4021371603012085,
          -0.8794476389884949,
          -1.715511441230774,
          -1.2314579486846924,
          7.64424991607666,
          7.565746307373047,
          2.5935146808624268,
          1.8312251567840576,
          -1.434377670288086,
          -3.7185781002044678,
          -3.4310142993927,
          -4.115356922149658,
          -0.23413270711898804,
          -0.7889106273651123,
          -1.255698561668396,
          -0.4981308579444885,
          -1.9857555627822876,
          -0.8912393450737,
          0.16982987523078918,
          -2.7802209854125977,
          -2.5385055541992188,
          -1.0061964988708496,
          -0.14639590680599213,
          -0.4346593916416168,
          -1.0084006786346436,
          -0.056260012090206146,
          -0.6565188765525818,
          -0.4599566161632538,
          0.14901582896709442,
          -0.44009652733802795,
          -0.7142747044563293,
          -0.7212427258491516,
          -1.2784173488616943,
          -1.7601945400238037,
          -1.8343405723571777,
          0.47591906785964966,
          -2.167510509490967,
          -1.737892508506775,
          1.6454675197601318,
          2.2095084190368652,
          -0.12918898463249207,
          1.2656612396240234,
          1.2292566299438477,
          2.415607213973999,
          -0.6431261301040649,
          -3.053044080734253,
          -3.4058725833892822,
          -4.003260612487793,
          -3.4056735038757324,
          2.334721326828003,
          -2.0004732608795166,
          0.019674988463521004,
          1.110443115234375,
          -0.09814907610416412,
          0.34546875953674316,
          0.11225472390651703,
          1.7423031330108643,
          -1.9534363746643066,
          1.2054996490478516,
          -2.334137439727783,
          0.9480096697807312,
          0.038064152002334595,
          -4.349849224090576,
          -0.7762503027915955,
          0.510269820690155,
          -3.2164952754974365,
          -3.5838000774383545,
          -1.9993051290512085,
          -1.4042308330535889,
          -3.9493978023529053,
          -1.4691780805587769,
          2.850252866744995,
          2.7588233947753906,
          2.1781206130981445,
          -3.6976265907287598,
          -4.008230686187744,
          -0.5350998640060425,
          -0.9299652576446533,
          -2.3893957138061523,
          -4.75065803527832,
          -4.805627822875977,
          -5.1645355224609375,
          -5.073283672332764,
          -4.415676593780518,
          -5.220821380615234,
          -0.1845739483833313,
          0.25917884707450867,
          -1.1300466060638428,
          0.6475520133972168,
          0.19138284027576447,
          0.3751126229763031,
          -0.10579679906368256,
          -2.332993984222412,
          -2.0746705532073975,
          -0.4498834013938904,
          0.18569469451904297,
          2.0211713314056396,
          -0.7070903182029724,
          7.8343682289123535,
          7.606639862060547,
          7.89463472366333,
          -2.4083008766174316,
          -0.38736072182655334,
          1.047772765159607,
          0.6199394464492798,
          -0.505215585231781,
          -1.2395737171173096,
          0.28513413667678833,
          7.052145481109619,
          -0.05154747888445854,
          0.09064981341362,
          0.8499513268470764,
          -4.539316654205322,
          -5.027483940124512,
          -2.4307448863983154,
          1.7995871305465698,
          7.405162334442139,
          -0.15570108592510223,
          -0.4779127538204193,
          0.4701296389102936,
          -5.111578941345215,
          0.6980755925178528,
          -0.1853608787059784,
          0.3096619248390198,
          6.147322177886963,
          -3.1745502948760986,
          -1.8870208263397217,
          -4.893652439117432,
          7.425521373748779,
          6.621640682220459,
          7.581044673919678,
          2.1500613689422607,
          0.22896969318389893,
          -0.05577930808067322,
          -0.5322437286376953,
          -0.3351585566997528,
          6.5980610847473145,
          6.814777374267578,
          6.931001663208008,
          2.233051300048828,
          -4.847033500671387,
          -1.8044196367263794,
          1.5971397161483765,
          2.6652302742004395,
          -1.2841159105300903,
          6.275422096252441,
          -0.5684522986412048,
          -0.8226631879806519,
          -0.881088376045227,
          0.7312867641448975,
          0.6828646063804626,
          0.5166080594062805,
          0.3006819188594818,
          -0.7114803791046143,
          -0.6738974452018738,
          -0.5655806660652161,
          -0.9089801907539368,
          2.72886323928833,
          1.8854395151138306,
          1.7914501428604126,
          -5.040383338928223,
          1.2813520431518555,
          0.22531768679618835,
          -4.328990459442139,
          -4.034612655639648,
          -3.8039982318878174,
          0.9006978869438171,
          -2.5825583934783936,
          -3.1036903858184814,
          -2.3693878650665283,
          -2.66243314743042,
          -2.3916375637054443,
          1.026245355606079,
          -3.7352561950683594,
          -1.9622825384140015,
          -1.2035582065582275,
          -4.695928573608398,
          -4.9711127281188965,
          -2.3852884769439697,
          -5.26468563079834,
          -5.4685492515563965,
          -2.518723726272583,
          -5.240228652954102,
          -2.275839328765869,
          -0.5131031274795532,
          -4.939784526824951,
          -2.4913806915283203,
          7.66517448425293,
          7.801648139953613,
          7.197458267211914,
          -3.1350462436676025,
          -0.001860656077042222,
          0.12231038510799408,
          0.6526387929916382,
          2.1352555751800537,
          0.46325790882110596,
          0.13367325067520142,
          3.115919828414917,
          0.09736240655183792,
          1.873698115348816,
          -1.8000407218933105,
          3.1736128330230713,
          -2.4382426738739014,
          -1.7256526947021484,
          -1.324265956878662,
          0.04992518573999405,
          7.566350936889648,
          7.315915107727051,
          7.151540279388428,
          6.829531192779541,
          7.475790023803711,
          7.384348392486572,
          7.414332389831543,
          6.874800682067871,
          -1.9738836288452148,
          -2.340822696685791,
          -5.464130401611328,
          -2.0586910247802734,
          0.9487764239311218,
          -0.4615843594074249,
          -3.0253021717071533,
          -2.382850408554077,
          2.237520933151245,
          -2.1690356731414795,
          -0.05360228940844536,
          -2.6339516639709473,
          -2.9469306468963623,
          -1.3255043029785156,
          -0.1678558886051178,
          -4.517307758331299,
          -1.4410940408706665,
          -0.8814258575439453,
          1.9182569980621338,
          -2.6925532817840576,
          -2.2967052459716797,
          -0.09951768070459366,
          -1.1224616765975952,
          -1.6253197193145752,
          -0.9318520426750183,
          7.1039228439331055,
          0.887497067451477,
          -1.0225133895874023,
          -1.2775936126708984,
          1.4986432790756226,
          -0.9936370849609375,
          -0.5673837065696716,
          -0.9701516032218933,
          -1.6067355871200562,
          -1.1224424839019775,
          -0.39862126111984253,
          -3.1601243019104004,
          -0.8819689750671387,
          -0.6484363079071045,
          -1.0108695030212402,
          -1.1104605197906494,
          -2.146425724029541,
          0.765386164188385,
          2.2385237216949463,
          -2.257784366607666,
          -2.231828451156616,
          -3.136439085006714,
          -2.513974905014038,
          -0.5048536062240601,
          -0.2148934006690979,
          0.1518879234790802,
          0.3742620646953583,
          0.32683494687080383,
          1.0743381977081299,
          -3.891282081604004,
          -0.25776949524879456,
          -0.5536075234413147,
          3.0326969623565674,
          3.0297815799713135,
          2.5602076053619385,
          -1.7706513404846191,
          2.236203908920288,
          2.6998345851898193,
          3.0251688957214355,
          1.0763564109802246,
          0.4719999134540558,
          2.7629966735839844,
          2.387425422668457,
          0.5822354555130005,
          2.419645071029663,
          2.0091240406036377,
          2.7166171073913574,
          -0.29799532890319824,
          -1.0282135009765625,
          -0.35305672883987427,
          -0.7640148401260376,
          -0.6424367427825928,
          -1.2881556749343872,
          -2.8450725078582764,
          -1.8577841520309448,
          -0.835567057132721,
          0.6267600059509277,
          -0.9033704400062561,
          -1.7049815654754639,
          -1.8671469688415527,
          -1.5994446277618408,
          0.1504347026348114,
          0.06890930980443954,
          -0.8469308018684387,
          -0.8927385210990906,
          -0.10345882922410965,
          -0.17926014959812164,
          -0.07926095277070999,
          -1.1206773519515991,
          -0.6405060291290283,
          -1.3499503135681152,
          -1.4648865461349487,
          -0.24465292692184448,
          -1.2498730421066284,
          -1.3547863960266113,
          -1.3693256378173828,
          -1.2397912740707397,
          -1.4589354991912842,
          -1.8106001615524292,
          -4.013313293457031,
          -3.6222915649414062,
          -5.408728122711182,
          -5.074136257171631,
          -2.3531644344329834,
          -3.0872156620025635,
          -2.4486782550811768,
          -2.8793771266937256,
          1.8596649169921875,
          0.3457275629043579,
          1.572805404663086,
          1.843218445777893,
          -1.8830504417419434,
          2.1343324184417725,
          -2.634321689605713,
          -2.410606622695923,
          2.429725170135498,
          -0.8879417181015015,
          1.089982271194458,
          2.885836601257324,
          1.356062889099121,
          -1.2366158962249756,
          -0.08333123475313187,
          -2.117985486984253,
          1.3105201721191406,
          1.2664821147918701,
          1.4068995714187622,
          -1.178938388824463,
          0.2603853940963745,
          1.4039027690887451,
          1.1538355350494385,
          0.6313868165016174,
          -3.6811351776123047,
          1.3124569654464722,
          1.874037742614746,
          2.9340932369232178,
          1.1245837211608887,
          -4.733492851257324,
          -1.5882236957550049,
          -3.669217348098755,
          -4.622023582458496,
          0.9857847690582275,
          -0.09978261590003967,
          1.0465790033340454,
          -1.8411461114883423,
          1.5587577819824219,
          -2.0553152561187744,
          -3.602323532104492,
          -4.228928089141846,
          -1.486957311630249,
          1.813418984413147,
          0.5464011430740356,
          0.3422842025756836,
          -1.0458725690841675,
          2.6048812866210938,
          2.818911075592041,
          -0.5780210494995117,
          -2.5004611015319824,
          -1.9432578086853027,
          -1.6148266792297363,
          -1.8938897848129272,
          -2.1297314167022705,
          -1.6516172885894775,
          -1.622823715209961,
          -1.0823506116867065,
          -1.755638837814331,
          -2.5937209129333496,
          -1.5512157678604126,
          -1.9544501304626465,
          -0.8336006999015808,
          -3.8412976264953613,
          -3.866128921508789,
          -3.130378246307373,
          -3.454022169113159,
          -4.516907215118408,
          -4.424316883087158,
          -4.37274169921875,
          -4.163210391998291,
          -4.058873176574707,
          -4.364295482635498,
          -3.672886610031128,
          -4.326457977294922,
          -4.263469219207764,
          -3.94183087348938,
          -4.687272548675537,
          -4.5924153327941895,
          -4.756039142608643,
          -4.298278331756592,
          2.0752971172332764,
          -4.120667457580566,
          -4.690162658691406,
          -4.9002556800842285,
          -3.483360767364502,
          2.5259242057800293,
          2.1966145038604736,
          2.433375120162964,
          2.225499153137207,
          2.6203441619873047,
          2.4150755405426025,
          -4.247302532196045,
          2.518339157104492,
          -2.617546796798706,
          2.8878018856048584,
          1.289615511894226,
          2.909954071044922,
          1.6146548986434937,
          1.0006362199783325,
          2.278481960296631,
          2.3765921592712402,
          1.980997085571289,
          0.11378110945224762,
          -0.09145995229482651,
          -0.049179524183273315,
          -0.34368661046028137,
          -0.17220693826675415,
          -0.2558608055114746,
          -0.327412486076355,
          -0.2014525681734085,
          -3.941166400909424,
          -3.801915407180786,
          2.106375217437744,
          1.8332924842834473,
          2.4459900856018066,
          0.5082507729530334,
          -2.4412312507629395,
          0.9683842658996582,
          -4.637088775634766,
          -0.2012246698141098,
          -4.907485008239746,
          2.762200117111206,
          -0.5472863912582397,
          -1.4112443923950195,
          -1.3798537254333496,
          -0.7050967216491699,
          1.337405800819397,
          1.1130235195159912,
          1.6012548208236694,
          -1.1472609043121338,
          -2.6114320755004883,
          -2.5654492378234863,
          -2.2363827228546143,
          -2.4290881156921387,
          0.29587608575820923,
          0.44914764165878296,
          -4.056084156036377,
          -1.4037152528762817,
          0.4074617028236389,
          -1.8354886770248413,
          0.22724147140979767,
          0.9080289602279663,
          3.13010311126709,
          -0.5176793336868286,
          -3.068652629852295,
          1.4676285982131958,
          0.6899227499961853,
          0.17331773042678833,
          0.4704172611236572,
          -2.04498553276062,
          -0.14433693885803223,
          0.1726289838552475,
          -1.9123727083206177,
          0.5325924754142761,
          0.7786713242530823,
          -4.533559322357178,
          -1.526496171951294,
          -4.036002159118652,
          3.1973907947540283,
          -2.8856115341186523,
          -0.8229976296424866,
          -0.7475574612617493,
          -0.6032838225364685,
          -0.685495913028717,
          -1.325348973274231,
          -1.4315376281738281,
          -2.911609649658203,
          0.10418704152107239,
          -0.23659023642539978,
          0.022580701857805252,
          -2.834134578704834,
          -2.635425090789795,
          0.12662900984287262,
          0.6667595505714417,
          1.649910807609558,
          1.7652267217636108,
          -0.017104487866163254,
          0.06003320589661598,
          -1.1354624032974243,
          0.6342043280601501,
          0.5510267019271851,
          1.1766127347946167,
          1.9614976644515991,
          -1.962336778640747,
          1.3698797225952148,
          -0.3552382290363312,
          -0.9911816120147705,
          0.22043512761592865,
          1.0741671323776245,
          2.3220319747924805,
          1.8372713327407837,
          2.0399246215820312,
          -3.4503886699676514,
          2.6004960536956787,
          -1.2161587476730347,
          1.476135492324829,
          1.578663945198059,
          -3.484750509262085,
          -2.0897867679595947,
          2.8745572566986084,
          1.9366607666015625,
          -1.3592283725738525,
          3.3109898567199707,
          1.115143060684204,
          3.114359140396118,
          2.933016777038574,
          0.3409115970134735,
          0.5284868478775024,
          0.12743471562862396,
          0.22651396691799164,
          -0.11284997314214706,
          0.013277166523039341,
          3.2839279174804688,
          2.964440107345581,
          0.5032991766929626,
          -3.0124471187591553,
          0.7643191814422607,
          2.519529342651367,
          -2.4250221252441406,
          0.056317705661058426,
          -1.2220056056976318,
          0.05915781855583191,
          3.3373327255249023,
          -5.043673992156982,
          0.059304945170879364,
          3.2031586170196533,
          3.3123555183410645,
          0.3410225808620453,
          -2.9180591106414795,
          3.1109352111816406,
          -0.9126016497612,
          0.7040897607803345,
          -2.427722930908203,
          0.1797303408384323,
          2.744711399078369,
          -2.831444263458252,
          3.298264741897583,
          2.9390039443969727,
          2.455632209777832,
          1.2139593362808228,
          3.221109390258789,
          -0.06928501278162003,
          2.212435722351074,
          -0.14453262090682983,
          3.1917293071746826,
          2.7334935665130615,
          -2.2456328868865967,
          2.7658276557922363,
          2.8267440795898438,
          2.56347393989563,
          0.03548714518547058,
          -0.49169573187828064,
          -2.2380268573760986,
          -2.0469229221343994,
          2.6866283416748047,
          0.48610299825668335,
          2.1004440784454346,
          -1.936523675918579,
          -2.962798833847046,
          -2.9529225826263428,
          -1.2282673120498657,
          -1.7918236255645752,
          -4.305525302886963,
          -4.345029354095459,
          1.3248549699783325,
          1.5831996202468872,
          1.449661374092102,
          -4.265260696411133,
          -0.9774543642997742,
          -0.1941394954919815,
          -5.191705226898193,
          2.4429256916046143,
          -0.3684100806713104,
          1.1312161684036255,
          0.7346112132072449,
          2.090122699737549,
          0.6140742301940918,
          2.731027841567993,
          -0.9930152893066406,
          0.31560713052749634,
          -0.22614586353302002,
          1.1425597667694092,
          0.8382659554481506,
          0.5158114433288574,
          0.5840428471565247,
          1.1455070972442627,
          -0.5452925562858582,
          -0.19432133436203003,
          0.03776278719305992,
          0.8038637042045593,
          3.218538999557495,
          -0.35721051692962646,
          -0.8674291372299194,
          -0.44621360301971436,
          -1.0851930379867554,
          -0.10264331847429276,
          -2.603437662124634,
          -0.054002948105335236,
          1.5311496257781982,
          1.7233937978744507,
          1.9101624488830566,
          -0.15012289583683014,
          -0.29684939980506897,
          -0.11171439290046692,
          0.21314118802547455,
          0.20710699260234833,
          -0.038305848836898804,
          -0.3940091133117676,
          0.0728791207075119,
          -3.4974684715270996,
          6.773067951202393,
          7.432331085205078,
          6.945408821105957,
          6.905364990234375,
          7.2279462814331055,
          7.24772310256958,
          7.370476245880127,
          -0.05668461322784424,
          -4.5996551513671875,
          -3.590467691421509,
          0.5010690093040466,
          -4.223453521728516,
          -2.334214925765991,
          1.2064423561096191,
          0.5265105366706848,
          -3.938387870788574,
          1.7661453485488892,
          -3.0403833389282227,
          0.1581524908542633,
          -0.9482459425926208,
          1.745110273361206,
          -4.6690993309021,
          2.190842866897583,
          -1.8380500078201294,
          2.624692440032959,
          2.591003179550171,
          3.0402748584747314,
          2.7720370292663574,
          0.7569365501403809,
          -0.08383974432945251,
          -0.05168568715453148,
          -0.5302470922470093,
          -0.6358829140663147,
          2.7791292667388916,
          6.914597511291504,
          1.2661514282226562,
          -2.8355352878570557,
          -2.765223741531372,
          -3.87480092048645,
          -0.06433519721031189,
          0.5298865437507629,
          -0.09449639171361923,
          -0.9145305752754211,
          0.5155996680259705,
          -5.0601725578308105,
          7.528425693511963,
          5.66629695892334,
          -1.60660982131958,
          8.022871017456055,
          -3.5413806438446045,
          0.7062352895736694,
          0.1312059462070465,
          -3.6707513332366943,
          2.3316426277160645,
          6.698719501495361,
          6.60270357131958,
          7.5379509925842285,
          2.171203851699829,
          -2.173804759979248,
          -5.13514518737793,
          -5.500308036804199,
          1.3653866052627563,
          1.4966261386871338,
          -5.389646053314209,
          8.003118515014648,
          8.089604377746582,
          -0.21240352094173431,
          1.315912127494812,
          -0.08260127902030945,
          1.4935176372528076,
          1.447368860244751,
          0.43570655584335327,
          0.1027158871293068,
          0.39282259345054626,
          0.3305966854095459,
          0.10168541222810745,
          0.1549903303384781,
          -1.2519605159759521,
          -0.9160686731338501,
          7.450961112976074,
          7.6385273933410645,
          7.40662145614624,
          1.9794882535934448,
          2.0707099437713623,
          7.3034563064575195,
          7.0374650955200195,
          0.4437042474746704,
          -0.5372000932693481,
          7.3242974281311035,
          7.300702095031738,
          8.034351348876953,
          8.053229331970215,
          0.6736583709716797,
          -3.257223129272461,
          -2.2739953994750977,
          -1.028577208518982,
          -2.509561538696289,
          -2.30519437789917,
          2.1287992000579834,
          -4.502735137939453,
          2.053260564804077,
          -4.138213157653809,
          -3.500272274017334,
          -3.5748417377471924,
          -5.053506851196289,
          -2.39798903465271,
          1.9694116115570068,
          2.151923179626465,
          -0.7799735069274902,
          2.11576247215271,
          -0.5778199434280396,
          1.6930890083312988,
          -1.1416224241256714,
          -1.2679499387741089,
          7.73932409286499,
          7.16807222366333,
          -3.366506576538086,
          -3.7614433765411377,
          -1.403017282485962,
          -0.9259379506111145,
          -0.4300096035003662,
          -0.4506394565105438,
          -1.0378543138504028,
          -0.11064742505550385,
          0.2722208499908447,
          0.8413716554641724,
          -0.9765359163284302,
          6.615676403045654,
          1.603638768196106,
          1.4197595119476318,
          1.8806874752044678,
          -1.4286062717437744,
          -5.659178256988525,
          -2.726905345916748,
          -2.7779057025909424,
          -2.778650999069214,
          -2.276075839996338,
          -2.7110671997070312,
          -2.765744209289551,
          -0.008914714679121971,
          -1.090023398399353,
          1.1933977603912354,
          -2.177124500274658,
          1.1400789022445679,
          -2.6957719326019287,
          -2.1545729637145996,
          -1.9441231489181519,
          0.5468928813934326,
          1.4726041555404663,
          1.2512736320495605,
          0.9166213870048523,
          1.4365671873092651,
          2.802100896835327,
          0.6913985013961792,
          0.5576035976409912,
          -0.8484659790992737,
          7.654964447021484,
          -0.16236908733844757,
          -0.008121557533740997,
          -0.08659284561872482,
          0.029619842767715454,
          -0.1968589723110199,
          -0.9224743247032166,
          -1.0965187549591064,
          7.55718994140625,
          0.8204858899116516,
          -1.9382511377334595,
          -2.2669034004211426,
          -5.112198829650879,
          0.985871434211731,
          1.0398765802383423,
          -5.537646770477295,
          0.5703367590904236,
          0.07731419801712036,
          0.3173932433128357,
          0.2147921323776245,
          -2.7529778480529785,
          0.8135380148887634,
          -1.2368662357330322,
          7.215566158294678,
          6.970795631408691,
          7.1277852058410645,
          2.9389116764068604,
          -2.518467664718628,
          -2.738355875015259,
          -2.628204345703125,
          -2.292994499206543,
          -2.6419734954833984,
          -2.6129543781280518,
          -4.402332782745361,
          6.9092817306518555,
          7.033795356750488,
          6.8391923904418945,
          7.412568092346191,
          -1.954558253288269,
          -0.30245038866996765,
          0.5426840782165527,
          7.005362033843994,
          -1.0726109743118286,
          -0.8923139572143555,
          -0.9087738394737244,
          6.599812030792236,
          7.119268417358398,
          6.896264553070068,
          6.886477470397949,
          -2.0274763107299805,
          1.2909663915634155,
          7.495400905609131,
          -1.5788731575012207,
          1.78053617477417,
          7.763986587524414,
          -2.9655520915985107,
          0.8272304534912109,
          0.813363790512085,
          0.7734499573707581,
          1.2979519367218018,
          6.97195291519165,
          -2.917785167694092,
          -2.149435520172119,
          -4.565516948699951,
          -3.4898648262023926,
          -1.8792154788970947,
          0.656287670135498,
          -1.7660140991210938,
          1.6922091245651245,
          1.1869343519210815,
          -1.9947307109832764,
          -1.9605060815811157,
          -4.441988945007324,
          -1.3110368251800537,
          -1.9804751873016357,
          0.8592004179954529,
          3.08083438873291,
          2.4667389392852783,
          0.18956884741783142,
          3.2109687328338623,
          1.9376684427261353,
          2.136345624923706,
          1.3583378791809082,
          1.4505528211593628,
          3.0155887603759766,
          -1.606574535369873,
          -4.17487907409668,
          0.31064507365226746,
          1.3595631122589111,
          0.9759505391120911,
          2.4336535930633545,
          1.2801915407180786,
          2.2311818599700928,
          2.507254123687744,
          0.9560900926589966,
          1.5689375400543213,
          5.7263898849487305,
          1.7635868787765503,
          2.562302827835083,
          2.8629350662231445,
          1.6056580543518066,
          2.10394024848938,
          2.505263328552246,
          3.4432497024536133,
          2.5951173305511475,
          2.3494067192077637,
          -4.134164810180664,
          1.618962049484253,
          0.31918007135391235,
          -0.4879361391067505,
          -0.827304482460022,
          -0.11746794730424881,
          -1.786097526550293,
          0.26536986231803894,
          2.631441116333008,
          2.8361215591430664,
          3.0371761322021484,
          0.011135567910969257,
          -1.441044807434082,
          6.793676853179932,
          6.855239391326904,
          -1.4778186082839966,
          2.74629807472229,
          0.6564502120018005,
          0.11332301795482635,
          0.9303796291351318,
          3.1236655712127686,
          2.33377742767334,
          0.6486063003540039,
          7.045029640197754,
          -2.5448172092437744,
          2.64742374420166,
          2.038628101348877,
          2.674518585205078,
          7.437791347503662,
          7.48581075668335,
          7.611737251281738,
          7.556522369384766,
          7.717874050140381,
          7.682168006896973,
          7.591813087463379,
          -3.7365331649780273,
          7.2291436195373535,
          7.260948657989502,
          7.019398212432861,
          7.276971340179443,
          1.9870984554290771,
          -0.02153441123664379,
          6.222661018371582,
          7.44943380355835,
          7.707605838775635,
          -0.6883286237716675,
          0.057235218584537506,
          0.8874011635780334,
          -2.7890567779541016,
          7.376194953918457,
          -1.4986027479171753,
          7.068347930908203,
          7.494032382965088,
          6.776854515075684,
          -0.4602974057197571,
          -2.4872400760650635,
          7.727733612060547,
          1.6235989332199097,
          -0.9977482557296753,
          -1.9451290369033813,
          1.9156676530838013,
          7.571391582489014,
          6.694616794586182,
          7.462996482849121,
          7.9483256340026855,
          0.7223562002182007,
          0.5049704313278198,
          7.998136520385742,
          7.719262599945068,
          7.736210346221924,
          7.97664737701416,
          7.853168964385986,
          7.96652889251709,
          7.772889614105225,
          7.83693790435791,
          7.617245197296143,
          7.787387847900391,
          7.672855854034424,
          7.869735240936279,
          7.585830211639404,
          7.663915157318115,
          7.744995594024658,
          -1.5972732305526733,
          -1.5382351875305176,
          -4.50036096572876,
          -5.357723236083984,
          -0.07872802764177322,
          0.34568873047828674,
          0.8670978546142578,
          1.3277510404586792,
          -5.174997806549072,
          -4.845863342285156,
          -5.466142654418945,
          -4.903945446014404,
          -5.3486151695251465,
          -5.435271263122559,
          -5.193321704864502,
          -2.6777896881103516,
          -1.0439492464065552,
          -2.9544012546539307,
          -3.1315150260925293,
          -0.3268650472164154,
          -2.74310302734375,
          -1.901589035987854,
          -0.14208419620990753,
          -0.899498701095581,
          -0.17641660571098328,
          0.09070142358541489,
          0.663723349571228,
          -1.3839504718780518,
          0.10205679386854172,
          -0.39928802847862244,
          -0.6567209959030151,
          -5.122619152069092,
          -2.3916282653808594,
          -2.1203415393829346,
          -2.4714839458465576,
          -2.930365800857544,
          -0.4009475111961365,
          1.5905817747116089,
          1.8681854009628296,
          -3.4074270725250244,
          1.685202717781067,
          1.495641827583313,
          1.6836893558502197,
          0.20726998150348663,
          2.6684951782226562,
          2.808873176574707,
          1.138469934463501,
          -4.945082664489746,
          -5.223968029022217,
          -5.3614373207092285,
          -1.645504117012024,
          -4.498440265655518,
          -4.3075103759765625,
          -1.483646273612976,
          -5.268352031707764,
          -1.1892778873443604,
          -2.4096481800079346,
          2.91328501701355,
          -0.8023726940155029,
          -0.4624139070510864,
          -2.8494784832000732,
          2.372637987136841,
          0.6019019484519958,
          1.3906910419464111,
          1.6145093441009521,
          -0.3134869635105133,
          -0.15439000725746155,
          0.5725491642951965,
          0.11804215610027313,
          0.1557380110025406,
          0.13040022552013397,
          0.026558561250567436,
          0.2423231154680252,
          0.23818661272525787,
          0.03699902072548866,
          0.349700391292572,
          0.20894844830036163,
          -0.01051523257046938,
          -0.03969889506697655,
          -0.06827782839536667,
          -0.00988994725048542,
          0.019935380667448044,
          0.3026975393295288,
          0.07889588177204132,
          -0.0430901013314724,
          0.23651975393295288,
          0.1524510383605957,
          5.7135701179504395,
          0.4485202133655548,
          -4.513019561767578,
          6.956447601318359,
          6.987505912780762,
          -0.2995518147945404,
          0.39578118920326233,
          0.3743388056755066,
          0.44859036803245544,
          0.3450429141521454,
          0.22897958755493164,
          -0.25727391242980957,
          -1.3192557096481323,
          -0.9983060956001282,
          -1.140923023223877,
          -1.5949935913085938,
          2.206958293914795,
          -2.526261568069458,
          -2.015406608581543,
          -2.428814172744751,
          -2.186330556869507,
          -1.3165607452392578,
          -1.498746395111084,
          -2.4682517051696777,
          -2.511225461959839,
          -1.1038368940353394,
          -1.2394264936447144,
          -0.5556550025939941,
          0.7773066163063049,
          -4.15052604675293,
          -4.3246541023254395,
          -3.2837014198303223,
          -4.636711597442627,
          -4.490693092346191,
          -3.7657675743103027,
          -4.725781440734863,
          -3.88218092918396,
          -1.5447230339050293,
          -3.7515406608581543,
          -4.435358047485352,
          -4.605185508728027,
          -4.866497039794922,
          -4.7996907234191895,
          -4.73868465423584,
          -4.13323974609375,
          0.544685423374176,
          3.299410581588745,
          1.9942634105682373,
          1.8656606674194336,
          1.0182198286056519,
          3.112208127975464,
          2.899279832839966,
          2.536170721054077,
          2.8784852027893066,
          1.5422143936157227,
          2.9520652294158936,
          0.14814157783985138,
          2.275398015975952,
          -1.4121332168579102,
          2.298487663269043,
          2.358114719390869,
          -2.064232587814331,
          2.5480828285217285,
          2.3897335529327393,
          1.962126612663269,
          2.1441259384155273,
          2.316979169845581,
          2.6137237548828125,
          2.0783395767211914,
          2.8138608932495117,
          2.6734580993652344,
          3.149963617324829,
          2.0890231132507324,
          2.0674822330474854,
          2.4998743534088135,
          2.0953783988952637,
          2.274688243865967,
          2.3098385334014893,
          3.0353493690490723,
          -0.7226598858833313,
          2.4595887660980225,
          2.6036527156829834,
          0.7974170446395874,
          2.9456734657287598,
          1.3610373735427856,
          2.9253315925598145,
          1.5894979238510132,
          2.958620548248291,
          2.980562210083008,
          2.8663394451141357,
          2.080874443054199,
          1.7990933656692505,
          2.183642625808716,
          2.543020725250244,
          2.5226573944091797,
          2.2188339233398438,
          2.6112897396087646,
          1.8185080289840698,
          2.433793544769287,
          1.624904990196228,
          1.6467256546020508,
          2.4576284885406494,
          3.0648581981658936,
          -1.1717063188552856,
          -1.3084903955459595,
          -0.1599806845188141,
          1.5931038856506348,
          0.8840136528015137,
          1.381113886833191,
          -2.4813108444213867,
          -2.7143399715423584,
          -2.512887477874756,
          -2.517932415008545,
          -2.593975067138672,
          -2.6703341007232666,
          -2.9346165657043457,
          0.040428224951028824,
          -2.6904165744781494,
          -2.6575868129730225,
          -2.0464987754821777,
          -1.742824673652649,
          -2.4290897846221924,
          -1.0445833206176758,
          -0.24269217252731323,
          -1.881482720375061,
          0.24024485051631927,
          -4.8136091232299805,
          -0.33024531602859497,
          -0.5443057417869568,
          -0.557157039642334,
          -0.4542734622955322,
          -0.3367311954498291,
          -0.5821060538291931,
          -0.5413415431976318,
          -0.23626485466957092,
          -0.4093146026134491,
          -0.7155818939208984,
          -0.6269704103469849,
          2.5383782386779785,
          1.892926812171936,
          1.028211236000061,
          -2.7937633991241455,
          -0.15524552762508392,
          -0.5520437955856323,
          -0.40946924686431885,
          -0.5098398327827454,
          -0.6289275288581848,
          0.16355851292610168,
          -0.2643192708492279,
          -0.4244101047515869,
          -0.19866511225700378,
          -0.2244178056716919,
          -0.255514532327652,
          0.1756337583065033,
          -0.3218182921409607,
          -0.469773530960083,
          -0.474919855594635,
          -2.8671040534973145,
          -3.5692074298858643,
          7.3603129386901855,
          -0.17119073867797852,
          -0.48126089572906494,
          7.896263599395752,
          7.851382732391357,
          -0.46626222133636475,
          -0.2924923002719879,
          -0.5741360187530518,
          -0.7603482604026794,
          -0.5581632256507874,
          6.447560787200928,
          6.627598762512207,
          6.927804946899414,
          -0.18679918348789215,
          -3.0490615367889404,
          1.3710793256759644,
          1.8241111040115356,
          1.9292024374008179,
          -0.44567400217056274,
          -0.8963544964790344,
          6.8037214279174805,
          7.0638651847839355,
          7.706313610076904,
          6.62414026260376,
          6.756599426269531,
          6.871353626251221,
          7.185431957244873,
          -3.4450459480285645,
          -3.1521973609924316,
          -0.44982635974884033,
          -0.48018860816955566,
          -0.5337865948677063,
          -0.2703983187675476,
          6.693632125854492,
          6.668222427368164,
          1.9221484661102295,
          -0.07492939382791519,
          0.17891152203083038,
          -1.0063591003417969,
          -1.718690037727356,
          -1.1672364473342896,
          -4.525972366333008,
          -0.8860496878623962,
          -2.460559129714966,
          0.22672122716903687,
          -2.4134278297424316,
          -2.532961130142212,
          0.28350818157196045,
          0.16311520338058472,
          -0.7890505194664001,
          -0.6701309084892273,
          -0.8796756267547607,
          -0.8345632553100586,
          -1.016414999961853,
          -0.9004570245742798,
          -0.979043185710907,
          -0.657632052898407,
          -0.9910253286361694,
          -0.709169864654541,
          -0.7784854769706726,
          -0.9157148599624634,
          -0.8896576762199402,
          -0.7841779589653015,
          -0.9232378602027893,
          -0.7066667675971985,
          -0.31609416007995605,
          -0.5704951882362366,
          -0.3175584077835083,
          -0.6739524602890015,
          -0.6805073022842407,
          -0.10926473140716553,
          0.5368342995643616,
          0.15883414447307587,
          0.22321920096874237,
          0.25067001581192017,
          0.32301944494247437,
          -0.45001116394996643,
          -0.6275720596313477,
          -4.81066370010376,
          -4.344374656677246,
          -2.236281394958496,
          0.16024048626422882,
          0.4021688997745514,
          -1.5055545568466187,
          -0.7926982045173645,
          -0.8844112753868103,
          0.35219600796699524,
          0.362822562456131,
          -1.5818190574645996,
          -2.893017053604126,
          -2.9587624073028564,
          -2.3675944805145264
         ],
         "yaxis": "y"
        }
       ],
       "layout": {
        "height": 1600,
        "legend": {
         "tracegroupgap": 0
        },
        "margin": {
         "t": 60
        },
        "template": {
         "data": {
          "bar": [
           {
            "error_x": {
             "color": "#2a3f5f"
            },
            "error_y": {
             "color": "#2a3f5f"
            },
            "marker": {
             "line": {
              "color": "#E5ECF6",
              "width": 0.5
             },
             "pattern": {
              "fillmode": "overlay",
              "size": 10,
              "solidity": 0.2
             }
            },
            "type": "bar"
           }
          ],
          "barpolar": [
           {
            "marker": {
             "line": {
              "color": "#E5ECF6",
              "width": 0.5
             },
             "pattern": {
              "fillmode": "overlay",
              "size": 10,
              "solidity": 0.2
             }
            },
            "type": "barpolar"
           }
          ],
          "carpet": [
           {
            "aaxis": {
             "endlinecolor": "#2a3f5f",
             "gridcolor": "white",
             "linecolor": "white",
             "minorgridcolor": "white",
             "startlinecolor": "#2a3f5f"
            },
            "baxis": {
             "endlinecolor": "#2a3f5f",
             "gridcolor": "white",
             "linecolor": "white",
             "minorgridcolor": "white",
             "startlinecolor": "#2a3f5f"
            },
            "type": "carpet"
           }
          ],
          "choropleth": [
           {
            "colorbar": {
             "outlinewidth": 0,
             "ticks": ""
            },
            "type": "choropleth"
           }
          ],
          "contour": [
           {
            "colorbar": {
             "outlinewidth": 0,
             "ticks": ""
            },
            "colorscale": [
             [
              0,
              "#0d0887"
             ],
             [
              0.1111111111111111,
              "#46039f"
             ],
             [
              0.2222222222222222,
              "#7201a8"
             ],
             [
              0.3333333333333333,
              "#9c179e"
             ],
             [
              0.4444444444444444,
              "#bd3786"
             ],
             [
              0.5555555555555556,
              "#d8576b"
             ],
             [
              0.6666666666666666,
              "#ed7953"
             ],
             [
              0.7777777777777778,
              "#fb9f3a"
             ],
             [
              0.8888888888888888,
              "#fdca26"
             ],
             [
              1,
              "#f0f921"
             ]
            ],
            "type": "contour"
           }
          ],
          "contourcarpet": [
           {
            "colorbar": {
             "outlinewidth": 0,
             "ticks": ""
            },
            "type": "contourcarpet"
           }
          ],
          "heatmap": [
           {
            "colorbar": {
             "outlinewidth": 0,
             "ticks": ""
            },
            "colorscale": [
             [
              0,
              "#0d0887"
             ],
             [
              0.1111111111111111,
              "#46039f"
             ],
             [
              0.2222222222222222,
              "#7201a8"
             ],
             [
              0.3333333333333333,
              "#9c179e"
             ],
             [
              0.4444444444444444,
              "#bd3786"
             ],
             [
              0.5555555555555556,
              "#d8576b"
             ],
             [
              0.6666666666666666,
              "#ed7953"
             ],
             [
              0.7777777777777778,
              "#fb9f3a"
             ],
             [
              0.8888888888888888,
              "#fdca26"
             ],
             [
              1,
              "#f0f921"
             ]
            ],
            "type": "heatmap"
           }
          ],
          "heatmapgl": [
           {
            "colorbar": {
             "outlinewidth": 0,
             "ticks": ""
            },
            "colorscale": [
             [
              0,
              "#0d0887"
             ],
             [
              0.1111111111111111,
              "#46039f"
             ],
             [
              0.2222222222222222,
              "#7201a8"
             ],
             [
              0.3333333333333333,
              "#9c179e"
             ],
             [
              0.4444444444444444,
              "#bd3786"
             ],
             [
              0.5555555555555556,
              "#d8576b"
             ],
             [
              0.6666666666666666,
              "#ed7953"
             ],
             [
              0.7777777777777778,
              "#fb9f3a"
             ],
             [
              0.8888888888888888,
              "#fdca26"
             ],
             [
              1,
              "#f0f921"
             ]
            ],
            "type": "heatmapgl"
           }
          ],
          "histogram": [
           {
            "marker": {
             "pattern": {
              "fillmode": "overlay",
              "size": 10,
              "solidity": 0.2
             }
            },
            "type": "histogram"
           }
          ],
          "histogram2d": [
           {
            "colorbar": {
             "outlinewidth": 0,
             "ticks": ""
            },
            "colorscale": [
             [
              0,
              "#0d0887"
             ],
             [
              0.1111111111111111,
              "#46039f"
             ],
             [
              0.2222222222222222,
              "#7201a8"
             ],
             [
              0.3333333333333333,
              "#9c179e"
             ],
             [
              0.4444444444444444,
              "#bd3786"
             ],
             [
              0.5555555555555556,
              "#d8576b"
             ],
             [
              0.6666666666666666,
              "#ed7953"
             ],
             [
              0.7777777777777778,
              "#fb9f3a"
             ],
             [
              0.8888888888888888,
              "#fdca26"
             ],
             [
              1,
              "#f0f921"
             ]
            ],
            "type": "histogram2d"
           }
          ],
          "histogram2dcontour": [
           {
            "colorbar": {
             "outlinewidth": 0,
             "ticks": ""
            },
            "colorscale": [
             [
              0,
              "#0d0887"
             ],
             [
              0.1111111111111111,
              "#46039f"
             ],
             [
              0.2222222222222222,
              "#7201a8"
             ],
             [
              0.3333333333333333,
              "#9c179e"
             ],
             [
              0.4444444444444444,
              "#bd3786"
             ],
             [
              0.5555555555555556,
              "#d8576b"
             ],
             [
              0.6666666666666666,
              "#ed7953"
             ],
             [
              0.7777777777777778,
              "#fb9f3a"
             ],
             [
              0.8888888888888888,
              "#fdca26"
             ],
             [
              1,
              "#f0f921"
             ]
            ],
            "type": "histogram2dcontour"
           }
          ],
          "mesh3d": [
           {
            "colorbar": {
             "outlinewidth": 0,
             "ticks": ""
            },
            "type": "mesh3d"
           }
          ],
          "parcoords": [
           {
            "line": {
             "colorbar": {
              "outlinewidth": 0,
              "ticks": ""
             }
            },
            "type": "parcoords"
           }
          ],
          "pie": [
           {
            "automargin": true,
            "type": "pie"
           }
          ],
          "scatter": [
           {
            "fillpattern": {
             "fillmode": "overlay",
             "size": 10,
             "solidity": 0.2
            },
            "type": "scatter"
           }
          ],
          "scatter3d": [
           {
            "line": {
             "colorbar": {
              "outlinewidth": 0,
              "ticks": ""
             }
            },
            "marker": {
             "colorbar": {
              "outlinewidth": 0,
              "ticks": ""
             }
            },
            "type": "scatter3d"
           }
          ],
          "scattercarpet": [
           {
            "marker": {
             "colorbar": {
              "outlinewidth": 0,
              "ticks": ""
             }
            },
            "type": "scattercarpet"
           }
          ],
          "scattergeo": [
           {
            "marker": {
             "colorbar": {
              "outlinewidth": 0,
              "ticks": ""
             }
            },
            "type": "scattergeo"
           }
          ],
          "scattergl": [
           {
            "marker": {
             "colorbar": {
              "outlinewidth": 0,
              "ticks": ""
             }
            },
            "type": "scattergl"
           }
          ],
          "scattermapbox": [
           {
            "marker": {
             "colorbar": {
              "outlinewidth": 0,
              "ticks": ""
             }
            },
            "type": "scattermapbox"
           }
          ],
          "scatterpolar": [
           {
            "marker": {
             "colorbar": {
              "outlinewidth": 0,
              "ticks": ""
             }
            },
            "type": "scatterpolar"
           }
          ],
          "scatterpolargl": [
           {
            "marker": {
             "colorbar": {
              "outlinewidth": 0,
              "ticks": ""
             }
            },
            "type": "scatterpolargl"
           }
          ],
          "scatterternary": [
           {
            "marker": {
             "colorbar": {
              "outlinewidth": 0,
              "ticks": ""
             }
            },
            "type": "scatterternary"
           }
          ],
          "surface": [
           {
            "colorbar": {
             "outlinewidth": 0,
             "ticks": ""
            },
            "colorscale": [
             [
              0,
              "#0d0887"
             ],
             [
              0.1111111111111111,
              "#46039f"
             ],
             [
              0.2222222222222222,
              "#7201a8"
             ],
             [
              0.3333333333333333,
              "#9c179e"
             ],
             [
              0.4444444444444444,
              "#bd3786"
             ],
             [
              0.5555555555555556,
              "#d8576b"
             ],
             [
              0.6666666666666666,
              "#ed7953"
             ],
             [
              0.7777777777777778,
              "#fb9f3a"
             ],
             [
              0.8888888888888888,
              "#fdca26"
             ],
             [
              1,
              "#f0f921"
             ]
            ],
            "type": "surface"
           }
          ],
          "table": [
           {
            "cells": {
             "fill": {
              "color": "#EBF0F8"
             },
             "line": {
              "color": "white"
             }
            },
            "header": {
             "fill": {
              "color": "#C8D4E3"
             },
             "line": {
              "color": "white"
             }
            },
            "type": "table"
           }
          ]
         },
         "layout": {
          "annotationdefaults": {
           "arrowcolor": "#2a3f5f",
           "arrowhead": 0,
           "arrowwidth": 1
          },
          "autotypenumbers": "strict",
          "coloraxis": {
           "colorbar": {
            "outlinewidth": 0,
            "ticks": ""
           }
          },
          "colorscale": {
           "diverging": [
            [
             0,
             "#8e0152"
            ],
            [
             0.1,
             "#c51b7d"
            ],
            [
             0.2,
             "#de77ae"
            ],
            [
             0.3,
             "#f1b6da"
            ],
            [
             0.4,
             "#fde0ef"
            ],
            [
             0.5,
             "#f7f7f7"
            ],
            [
             0.6,
             "#e6f5d0"
            ],
            [
             0.7,
             "#b8e186"
            ],
            [
             0.8,
             "#7fbc41"
            ],
            [
             0.9,
             "#4d9221"
            ],
            [
             1,
             "#276419"
            ]
           ],
           "sequential": [
            [
             0,
             "#0d0887"
            ],
            [
             0.1111111111111111,
             "#46039f"
            ],
            [
             0.2222222222222222,
             "#7201a8"
            ],
            [
             0.3333333333333333,
             "#9c179e"
            ],
            [
             0.4444444444444444,
             "#bd3786"
            ],
            [
             0.5555555555555556,
             "#d8576b"
            ],
            [
             0.6666666666666666,
             "#ed7953"
            ],
            [
             0.7777777777777778,
             "#fb9f3a"
            ],
            [
             0.8888888888888888,
             "#fdca26"
            ],
            [
             1,
             "#f0f921"
            ]
           ],
           "sequentialminus": [
            [
             0,
             "#0d0887"
            ],
            [
             0.1111111111111111,
             "#46039f"
            ],
            [
             0.2222222222222222,
             "#7201a8"
            ],
            [
             0.3333333333333333,
             "#9c179e"
            ],
            [
             0.4444444444444444,
             "#bd3786"
            ],
            [
             0.5555555555555556,
             "#d8576b"
            ],
            [
             0.6666666666666666,
             "#ed7953"
            ],
            [
             0.7777777777777778,
             "#fb9f3a"
            ],
            [
             0.8888888888888888,
             "#fdca26"
            ],
            [
             1,
             "#f0f921"
            ]
           ]
          },
          "colorway": [
           "#636efa",
           "#EF553B",
           "#00cc96",
           "#ab63fa",
           "#FFA15A",
           "#19d3f3",
           "#FF6692",
           "#B6E880",
           "#FF97FF",
           "#FECB52"
          ],
          "font": {
           "color": "#2a3f5f"
          },
          "geo": {
           "bgcolor": "white",
           "lakecolor": "white",
           "landcolor": "#E5ECF6",
           "showlakes": true,
           "showland": true,
           "subunitcolor": "white"
          },
          "hoverlabel": {
           "align": "left"
          },
          "hovermode": "closest",
          "mapbox": {
           "style": "light"
          },
          "paper_bgcolor": "white",
          "plot_bgcolor": "#E5ECF6",
          "polar": {
           "angularaxis": {
            "gridcolor": "white",
            "linecolor": "white",
            "ticks": ""
           },
           "bgcolor": "#E5ECF6",
           "radialaxis": {
            "gridcolor": "white",
            "linecolor": "white",
            "ticks": ""
           }
          },
          "scene": {
           "xaxis": {
            "backgroundcolor": "#E5ECF6",
            "gridcolor": "white",
            "gridwidth": 2,
            "linecolor": "white",
            "showbackground": true,
            "ticks": "",
            "zerolinecolor": "white"
           },
           "yaxis": {
            "backgroundcolor": "#E5ECF6",
            "gridcolor": "white",
            "gridwidth": 2,
            "linecolor": "white",
            "showbackground": true,
            "ticks": "",
            "zerolinecolor": "white"
           },
           "zaxis": {
            "backgroundcolor": "#E5ECF6",
            "gridcolor": "white",
            "gridwidth": 2,
            "linecolor": "white",
            "showbackground": true,
            "ticks": "",
            "zerolinecolor": "white"
           }
          },
          "shapedefaults": {
           "line": {
            "color": "#2a3f5f"
           }
          },
          "ternary": {
           "aaxis": {
            "gridcolor": "white",
            "linecolor": "white",
            "ticks": ""
           },
           "baxis": {
            "gridcolor": "white",
            "linecolor": "white",
            "ticks": ""
           },
           "bgcolor": "#E5ECF6",
           "caxis": {
            "gridcolor": "white",
            "linecolor": "white",
            "ticks": ""
           }
          },
          "title": {
           "x": 0.05
          },
          "xaxis": {
           "automargin": true,
           "gridcolor": "white",
           "linecolor": "white",
           "ticks": "",
           "title": {
            "standoff": 15
           },
           "zerolinecolor": "white",
           "zerolinewidth": 2
          },
          "yaxis": {
           "automargin": true,
           "gridcolor": "white",
           "linecolor": "white",
           "ticks": "",
           "title": {
            "standoff": 15
           },
           "zerolinecolor": "white",
           "zerolinewidth": 2
          }
         }
        },
        "width": 1600,
        "xaxis": {
         "anchor": "y",
         "domain": [
          0,
          1
         ],
         "title": {
          "text": "umap_x"
         }
        },
        "yaxis": {
         "anchor": "x",
         "domain": [
          0,
          1
         ],
         "title": {
          "text": "umap_y"
         }
        }
       }
      }
     },
     "metadata": {},
     "output_type": "display_data"
    }
   ],
   "source": [
    "import plotly.express as px\n",
    "\n",
    "# Create a scatter plot with Plotly\n",
    "fig = px.scatter(\n",
    "    painter_summaries_clean,\n",
    "    x=\"umap_x\",\n",
    "    y=\"umap_y\",\n",
    "    hover_data=[\"painter_name\"],\n",
    "    width=1600,\n",
    "    height=1600,\n",
    ")\n",
    "\n",
    "fig.update_traces(marker=dict(size=10))\n",
    "# Show the plot\n",
    "fig.show()"
   ]
  },
  {
   "cell_type": "code",
   "execution_count": null,
   "id": "5e2e0f39",
   "metadata": {},
   "outputs": [],
   "source": []
  }
 ],
 "metadata": {
  "kernelspec": {
   "display_name": "Python 3 (ipykernel)",
   "language": "python",
   "name": "python3"
  },
  "language_info": {
   "codemirror_mode": {
    "name": "ipython",
    "version": 3
   },
   "file_extension": ".py",
   "mimetype": "text/x-python",
   "name": "python",
   "nbconvert_exporter": "python",
   "pygments_lexer": "ipython3",
   "version": "3.12.2"
  }
 },
 "nbformat": 4,
 "nbformat_minor": 5
}
