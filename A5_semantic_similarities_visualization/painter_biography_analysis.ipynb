{
 "cells": [
  {
   "cell_type": "markdown",
   "id": "99b5377c",
   "metadata": {},
   "source": [
    "Before you turn this problem in, make sure everything runs as expected. First, **restart the kernel** (in the menubar, select Kernel $\\rightarrow$ Restart) and then **run all cells** (in the menubar, select Cell $\\rightarrow$ Run All).\n",
    "\n",
    "Make sure you fill in any place that says `YOUR CODE HERE` or \"YOUR ANSWER HERE\", as well as your name and email below:"
   ]
  },
  {
   "cell_type": "code",
   "execution_count": null,
   "id": "69815e56",
   "metadata": {},
   "outputs": [],
   "source": [
    "# Full name\n",
    "NAME = \"\"\n",
    "# Institutional email (hm.edu or hmtm.de)\n",
    "EMAIL = \"\""
   ]
  },
  {
   "cell_type": "markdown",
   "id": "e29328bb",
   "metadata": {},
   "source": [
    "---"
   ]
  },
  {
   "cell_type": "markdown",
   "id": "5bf0c09a",
   "metadata": {
    "deletable": false,
    "editable": false,
    "nbgrader": {
     "cell_type": "markdown",
     "checksum": "86cb909435f26f0b0a52b48c3fcdb7be",
     "grade": false,
     "grade_id": "cell-f929ebfafd6568b5",
     "locked": true,
     "schema_version": 3,
     "solution": false,
     "task": false
    }
   },
   "source": [
    "# Day 5 - Visualizing painters' biographies similarity\n",
    "\n",
    "+ **AI in Culture and Arts - Tech Crash Course**\n",
    "+ **Date:** 11.06.2024\n",
    "+ **Author:** Lenny Martinez Dominguez, Ph.D candidate at Sorbonne Université\n",
    "\n",
    "<a href=\"https://colab.research.google.com/github/aica-wavelab/aica-assignments/blob/main/A5_semantic_similarities_visualization/painter_biography_analysis.ipynb\" target=\"_parent\">\n",
    "  <img src=\"https://colab.research.google.com/assets/colab-badge.svg\" alt=\"Open In Colab\"/>\n",
    "</a>\n",
    "\n",
    "## 0. Getting Started\n",
    "\n",
    "### Introduction\n",
    "\n",
    "This fifth day of class will teach you:\n",
    "\n",
    "- How to browse machine learning models on [HuggingFace](https://huggingface.co/), a platform for developing and hosting machine learning models;\n",
    "- How to compute and visualize similarities between artists' biographies;\n",
    "\n",
    "### Content of the repository\n",
    "\n",
    "- `data`: A folder containing the summary information for artists gathered from [Wikipedia](https://en.wikipedia.org/).\n",
    "- `painter_semantic_distance.ipynb`: This notebook you are reading right now, in which you will perform your analysis.\n",
    "\n",
    "### Assignment\n",
    "\n",
    "Your task is to cluster and visualize painters according to the similarity of their biographies, found on [Wikipedia](https://en.wikipedia.org/). The dataset comprises 3939 artists' biographies.\n",
    "\n",
    "### Installation required\n",
    "\n",
    "Please execute the next cell to make sure you have the necessary packages installed for today."
   ]
  },
  {
   "cell_type": "code",
   "execution_count": null,
   "id": "b874c467",
   "metadata": {
    "deletable": false,
    "editable": false,
    "nbgrader": {
     "cell_type": "code",
     "checksum": "1defecb240383aac3384df835516d606",
     "grade": false,
     "grade_id": "cell-88aba5c0e8e74094",
     "locked": true,
     "schema_version": 3,
     "solution": false,
     "task": false
    }
   },
   "outputs": [],
   "source": [
    "!pip install pandas numpy matplotlib seaborn sentence-transformers umap-learn plotly"
   ]
  },
  {
   "cell_type": "markdown",
   "id": "29f0421c",
   "metadata": {
    "deletable": false,
    "editable": false,
    "nbgrader": {
     "cell_type": "markdown",
     "checksum": "938d1b5ad0f21168f15993aff28162ab",
     "grade": false,
     "grade_id": "cell-4ec02fd8caddf5b5",
     "locked": true,
     "schema_version": 3,
     "solution": false,
     "task": false
    }
   },
   "source": [
    "---\n",
    "## 4.1. The dataset\n",
    "\n",
    "The dataset was extracted using the [`wikipedia-api` package](https://pypi.org/project/Wikipedia-API/). It's a collection of summaries from painter pages on Wikipedia. The painter pages come from the Wikipedia article [\"List of painters by name\"](https://en.wikipedia.org/wiki/List_of_painters_by_name). While it has a lot of painters, it is important to note that it is far to cover _all_  painters documented on Wikipedia.\n",
    "\n",
    "The dataset is divided into two sections:\n",
    "\n",
    "- The main file is `painter_summaries_all.csv`; it has data on all 3900+ painters listed in the Wikipedia article. One listed painter has been removed from this dataset, which appears in the partial files, and the IDs have not been changed.\n",
    "- There are also six files in the `partial` directory with the format `painter_summaries_part#.csv.` These files have the data split into smaller chunks based on how the data was gathered.\n",
    "\n",
    "### Inspecting the data\n",
    "\n",
    "Open the `painter_summaries_all.csv` file in a spreadsheet program (Excel, Numbers, Sheets, etc.) and look at the data.\n",
    "\n",
    "<div class=\"alert alert-info\">\n",
    "<b>Instruction:</b> What are the columns in this dataset? What do they each contain?\n",
    "</div>"
   ]
  },
  {
   "cell_type": "markdown",
   "id": "661d29b5",
   "metadata": {
    "deletable": false,
    "nbgrader": {
     "cell_type": "markdown",
     "checksum": "5361b736a6d96a706f6297961ff9086a",
     "grade": true,
     "grade_id": "cell-300c692fd608f685",
     "locked": false,
     "points": 0,
     "schema_version": 3,
     "solution": true,
     "task": false
    }
   },
   "source": [
    "YOUR ANSWER HERE"
   ]
  },
  {
   "cell_type": "markdown",
   "id": "e05dad26",
   "metadata": {
    "deletable": false,
    "editable": false,
    "nbgrader": {
     "cell_type": "markdown",
     "checksum": "65ac76c815705ede046be7088b52606a",
     "grade": false,
     "grade_id": "cell-04e7ec5d788172dc",
     "locked": true,
     "schema_version": 3,
     "solution": false,
     "task": false
    }
   },
   "source": [
    "### Loading the data\n",
    "\n",
    "Let's load the complete dataset and inspect it using pandas."
   ]
  },
  {
   "cell_type": "code",
   "execution_count": null,
   "id": "d2b4fd37",
   "metadata": {
    "deletable": false,
    "editable": false,
    "nbgrader": {
     "cell_type": "code",
     "checksum": "c835b2233582dc094c97cad2ca8b549b",
     "grade": false,
     "grade_id": "cell-c6d7539e5cdc44e9",
     "locked": true,
     "schema_version": 3,
     "solution": false,
     "task": false
    }
   },
   "outputs": [],
   "source": [
    "import pandas as pd\n",
    "\n",
    "painter_summaries_df = pd.read_csv(\"data/painter_summaries_all.csv\")\n",
    "\n",
    "painter_summaries_df.head(5)"
   ]
  },
  {
   "cell_type": "markdown",
   "id": "1a7f6584",
   "metadata": {
    "deletable": false,
    "editable": false,
    "nbgrader": {
     "cell_type": "markdown",
     "checksum": "3e699d74173b31cd194172c26f3acd46",
     "grade": false,
     "grade_id": "cell-6aadb4775bc4e583",
     "locked": true,
     "schema_version": 3,
     "solution": false,
     "task": false
    }
   },
   "source": [
    "<div class=\"alert alert-info\">\n",
    "<b>Instruction:</b> How many painters are in the dataset?"
   ]
  },
  {
   "cell_type": "code",
   "execution_count": null,
   "id": "b3f5f273",
   "metadata": {
    "deletable": false,
    "nbgrader": {
     "cell_type": "code",
     "checksum": "a31a961abf25d7361e63fe8d8a22e57e",
     "grade": true,
     "grade_id": "cell-7f66c19602fc1bc5",
     "locked": false,
     "points": 0,
     "schema_version": 3,
     "solution": true,
     "task": false
    }
   },
   "outputs": [],
   "source": [
    "# YOUR CODE HERE\n",
    "raise NotImplementedError()"
   ]
  },
  {
   "cell_type": "markdown",
   "id": "a601c4f0",
   "metadata": {
    "deletable": false,
    "editable": false,
    "nbgrader": {
     "cell_type": "markdown",
     "checksum": "2dae10055e661043d481adaea443ce73",
     "grade": false,
     "grade_id": "cell-0b80175ca420618e",
     "locked": true,
     "schema_version": 3,
     "solution": false,
     "task": false
    }
   },
   "source": [
    "<div class=\"alert alert-info\">\n",
    "<b>Instruction:</b> Print all rows of painters with identical names. Are they likely homonyms or duplicates?"
   ]
  },
  {
   "cell_type": "code",
   "execution_count": null,
   "id": "1243ed12",
   "metadata": {
    "deletable": false,
    "nbgrader": {
     "cell_type": "code",
     "checksum": "958aad180f35e642be86cd5488918633",
     "grade": true,
     "grade_id": "cell-f0c8ee421d1bd35f",
     "locked": false,
     "points": 0,
     "schema_version": 3,
     "solution": true,
     "task": false
    }
   },
   "outputs": [],
   "source": [
    "# YOUR CODE HERE\n",
    "raise NotImplementedError()"
   ]
  },
  {
   "cell_type": "markdown",
   "id": "fb8e86eb",
   "metadata": {
    "deletable": false,
    "editable": false,
    "nbgrader": {
     "cell_type": "markdown",
     "checksum": "7fbb7066a993f8cb3ab8e2e1758f23bf",
     "grade": false,
     "grade_id": "cell-e859757e56178f14",
     "locked": true,
     "schema_version": 3,
     "solution": false,
     "task": false
    }
   },
   "source": [
    "### Cleaning the dataset \n",
    "<div class=\"alert alert-info\">\n",
    "<b>Instruction:</b> Create a new dataframe <strong>painter_summaries_clean</strong> that does not have duplicates based on the <em>painter_name</em> column.\n",
    "</div>\n",
    "To do that, you can use the [`drop_duplicates`](https://pandas.pydata.org/docs/reference/api/pandas.DataFrame.drop_duplicates.html) method from pandas."
   ]
  },
  {
   "cell_type": "code",
   "execution_count": null,
   "id": "c07fb563",
   "metadata": {
    "deletable": false,
    "nbgrader": {
     "cell_type": "code",
     "checksum": "cc33563ed4b24c3e0d8fb2868dc3b24c",
     "grade": true,
     "grade_id": "cell-93049ee1a2f29c7e",
     "locked": false,
     "points": 0,
     "schema_version": 3,
     "solution": true,
     "task": false
    }
   },
   "outputs": [],
   "source": [
    "# YOUR CODE HERE\n",
    "raise NotImplementedError()"
   ]
  },
  {
   "cell_type": "markdown",
   "id": "192eb563",
   "metadata": {
    "deletable": false,
    "editable": false,
    "nbgrader": {
     "cell_type": "markdown",
     "checksum": "4707ac6535d96c88d03a627fb1833f96",
     "grade": false,
     "grade_id": "cell-6d71b867a452b486",
     "locked": true,
     "schema_version": 3,
     "solution": false,
     "task": false
    }
   },
   "source": [
    "Now that the dataset is duplicate free we can start working it for our analysis.\n",
    "\n",
    "If you look at the data file in a spreadsheet program, you will notice that the summaries are of various lengths. Let's keep track of that somehow because we may want to filter later on."
   ]
  },
  {
   "cell_type": "code",
   "execution_count": null,
   "id": "085bdc1d",
   "metadata": {
    "deletable": false,
    "editable": false,
    "nbgrader": {
     "cell_type": "code",
     "checksum": "170c5b1f96b4bdd66a7a32bcd8fb7a16",
     "grade": false,
     "grade_id": "cell-55810808c6b7eaba",
     "locked": true,
     "schema_version": 3,
     "solution": false,
     "task": false
    }
   },
   "outputs": [],
   "source": [
    "def count_words(text):\n",
    "    return len(text.split())"
   ]
  },
  {
   "cell_type": "code",
   "execution_count": null,
   "id": "3da28932",
   "metadata": {
    "deletable": false,
    "editable": false,
    "nbgrader": {
     "cell_type": "code",
     "checksum": "67820a24593c2915295b432126e4285d",
     "grade": false,
     "grade_id": "cell-ccaa01b572db81e0",
     "locked": true,
     "schema_version": 3,
     "solution": false,
     "task": false
    }
   },
   "outputs": [],
   "source": [
    "painter_summaries_clean[\"summary_length\"] = painter_summaries_clean[\"summary\"].apply(count_words)\n",
    "painter_summaries_clean.head(10)"
   ]
  },
  {
   "cell_type": "markdown",
   "id": "b6c948b4",
   "metadata": {
    "deletable": false,
    "editable": false,
    "nbgrader": {
     "cell_type": "markdown",
     "checksum": "681654c5937c363743e31fb58ed6db25",
     "grade": false,
     "grade_id": "cell-5fa6b1dc388a5701",
     "locked": true,
     "schema_version": 3,
     "solution": false,
     "task": false
    }
   },
   "source": [
    "We'll save the data as it is now and then we can work with these summaries."
   ]
  },
  {
   "cell_type": "code",
   "execution_count": null,
   "id": "648011d5",
   "metadata": {
    "deletable": false,
    "editable": false,
    "nbgrader": {
     "cell_type": "code",
     "checksum": "e7a014c88a90fd367d05be2a4fb4f01c",
     "grade": false,
     "grade_id": "cell-30e59803f1c4e3a6",
     "locked": true,
     "schema_version": 3,
     "solution": false,
     "task": false
    }
   },
   "outputs": [],
   "source": [
    "painter_summaries_clean.to_csv(\"data/painter_summaries_clean.csv\", index=False)"
   ]
  },
  {
   "cell_type": "markdown",
   "id": "866ca461",
   "metadata": {
    "deletable": false,
    "editable": false,
    "nbgrader": {
     "cell_type": "markdown",
     "checksum": "798f0cc68ce28cf7195f4788e917b817",
     "grade": false,
     "grade_id": "cell-0c9ededba0cd4bf9",
     "locked": true,
     "schema_version": 3,
     "solution": false,
     "task": false
    }
   },
   "source": [
    "\n",
    "---\n",
    "\n",
    "## 4.2. Sentence Similarity\n",
    "\n",
    "Let's take a step back and think about where we want to end up and where we are currently. Right now, we have a dataset of different painters' biographies (with some length differences). We want to end up with a visual of the painters clustered based on their biographies.\n",
    "\n",
    "We could manually take each biography, interpret the text, and try to group the painters ourselves. In some cases, we might group painters by their nationality (e.g., Dutch painters), their style (e.g., Surrealist painters), their subject matter (e.g., still life painters), or the period they lived in (e.g., Renaissance painters). \n",
    "\n",
    "<div class=\"alert alert-info\">\n",
    "<b>Instruction:</b> How many painter biographies would you go through before getting bored or burn out?\n",
    "</div>"
   ]
  },
  {
   "cell_type": "markdown",
   "id": "54945fde",
   "metadata": {
    "deletable": false,
    "nbgrader": {
     "cell_type": "markdown",
     "checksum": "dfe9b718c72fe1e72dcde915ffeaa4ce",
     "grade": true,
     "grade_id": "cell-223c5033a4a8f0ff",
     "locked": false,
     "points": 0,
     "schema_version": 3,
     "solution": true,
     "task": false
    }
   },
   "source": [
    "YOUR ANSWER HERE"
   ]
  },
  {
   "cell_type": "markdown",
   "id": "cb027d67",
   "metadata": {
    "deletable": false,
    "editable": false,
    "nbgrader": {
     "cell_type": "markdown",
     "checksum": "8947ecf36133178a061ef7a92e78b4b4",
     "grade": false,
     "grade_id": "cell-125fc4099402c400",
     "locked": true,
     "schema_version": 3,
     "solution": false,
     "task": false
    }
   },
   "source": [
    "We can use machine learning to assist us in clustering these biographies by comparing how similar or different the summaries are. This task is also known as Sentence Similarity and you can read more about it here: [https://huggingface.co/tasks/sentence-similarity](https://huggingface.co/tasks/sentence-similarity). \n",
    "\n",
    "For now we will play a bit with the widget on the page. First let's get a series of painter summaries to work with. I picked names that might have some obvious groupings so we can do sanity checks as we work."
   ]
  },
  {
   "cell_type": "code",
   "execution_count": null,
   "id": "ce7db487",
   "metadata": {
    "deletable": false,
    "editable": false,
    "nbgrader": {
     "cell_type": "code",
     "checksum": "e7ddcb48443fccc3b81bb0f54e43ec5f",
     "grade": false,
     "grade_id": "cell-13348eee1c4a0206",
     "locked": true,
     "schema_version": 3,
     "solution": false,
     "task": false
    }
   },
   "outputs": [],
   "source": [
    "select_painter_names = [\n",
    "    \"Albrecht Dürer\",\n",
    "    \"Leonardo da Vinci\",\n",
    "    \"Michelangelo\",\n",
    "    \"Raphael\",\n",
    "    \"Titian\",\n",
    "    \"Joaquín Sorolla\",\n",
    "    \"Pablo Picasso\",\n",
    "    \"Salvador Dalí\",\n",
    "    \"Andy Warhol\",\n",
    "    \"Vincent van Gogh\",\n",
    "    \"Johannes Vermeer\",\n",
    "    \"Sandro Botticelli\",\n",
    "    \"Hokusai\"\n",
    "]\n",
    "\n",
    "select_painter_bios = painter_summaries_clean[\n",
    "    painter_summaries_clean[\"painter_name\"].isin(select_painter_names)\n",
    "]\n",
    "\n",
    "# For this short dataset, we don't care about the other columns.\n",
    "select_painter_bios = select_painter_bios[[\"painter_name\", \"summary\"]]\n",
    "select_painter_bios"
   ]
  },
  {
   "cell_type": "markdown",
   "id": "8bd9b160",
   "metadata": {
    "deletable": false,
    "editable": false,
    "nbgrader": {
     "cell_type": "markdown",
     "checksum": "84bae6e173defd6dc10aad15fc651291",
     "grade": false,
     "grade_id": "cell-be4bc802c5bf5090",
     "locked": true,
     "schema_version": 3,
     "solution": false,
     "task": false
    }
   },
   "source": [
    "<div class=\"alert alert-info\">\n",
    "<b>Instruction:</b> Cluster the 13 painters based on what you may know, can quickly read about them.\n",
    "</div>"
   ]
  },
  {
   "cell_type": "markdown",
   "id": "05956262",
   "metadata": {
    "deletable": false,
    "nbgrader": {
     "cell_type": "markdown",
     "checksum": "778c47dbf8890109e748f22951c1b3c5",
     "grade": true,
     "grade_id": "cell-6630467ac576e077",
     "locked": false,
     "points": 0,
     "schema_version": 3,
     "solution": true,
     "task": false
    }
   },
   "source": [
    "YOUR ANSWER HERE"
   ]
  },
  {
   "cell_type": "markdown",
   "id": "b6460ee1",
   "metadata": {
    "deletable": false,
    "editable": false,
    "nbgrader": {
     "cell_type": "markdown",
     "checksum": "8f3a6a6e490970895b690a2df4f6a971",
     "grade": false,
     "grade_id": "cell-d8b53566b57e986a",
     "locked": true,
     "schema_version": 3,
     "solution": false,
     "task": false
    }
   },
   "source": [
    "Now let's play with the sentence similarity widget on Hugging face. For that we need the full summaries for each painter. I will save the previous table to a CSV for faster copy+paste, but you can also use the Python code under that to get the bios for a particular artist"
   ]
  },
  {
   "cell_type": "code",
   "execution_count": null,
   "id": "eb5161ea",
   "metadata": {
    "deletable": false,
    "editable": false,
    "nbgrader": {
     "cell_type": "code",
     "checksum": "7a680adf09a6d5fa06c8952d0c10adb9",
     "grade": false,
     "grade_id": "cell-d8c53f04da636097",
     "locked": true,
     "schema_version": 3,
     "solution": false,
     "task": false
    }
   },
   "outputs": [],
   "source": [
    "select_painter_bios.to_csv(\"data/select_painter_bios.csv\", index=False)"
   ]
  },
  {
   "cell_type": "code",
   "execution_count": null,
   "id": "0764c824",
   "metadata": {
    "deletable": false,
    "editable": false,
    "nbgrader": {
     "cell_type": "code",
     "checksum": "0bcd072e5eb936261c4e186236da33a2",
     "grade": false,
     "grade_id": "cell-036d3aec29625a85",
     "locked": true,
     "schema_version": 3,
     "solution": false,
     "task": false
    }
   },
   "outputs": [],
   "source": [
    "painter_name = \"Vincent van Gogh\"\n",
    "select_painter_bios[select_painter_bios[\"painter_name\"] == painter_name][\"summary\"].values[0]"
   ]
  },
  {
   "cell_type": "markdown",
   "id": "52325078",
   "metadata": {
    "deletable": false,
    "editable": false,
    "nbgrader": {
     "cell_type": "markdown",
     "checksum": "546fb5289ae004e74247289f4013a729",
     "grade": false,
     "grade_id": "cell-94502ae8ea799e95",
     "locked": true,
     "schema_version": 3,
     "solution": false,
     "task": false
    },
    "vscode": {
     "languageId": "html"
    }
   },
   "source": [
    "<div class=\"alert alert-info\">\n",
    "<b>Instruction:</b> Pick 5 painters from our test set. Put their bios in the <a href=\"https://huggingface.co/tasks/sentence-similarity\">Sentence Similarity demo</a> and write down the values. Then add your interpretation of the values. Are they high or low? Why might that be? Fill in the table below:\n",
    "</div>"
   ]
  },
  {
   "cell_type": "markdown",
   "id": "dabd5d01",
   "metadata": {
    "deletable": false,
    "nbgrader": {
     "cell_type": "markdown",
     "checksum": "ce59dc91290567055e714b951821d1d1",
     "grade": true,
     "grade_id": "cell-101e94b072f5bb1e",
     "locked": false,
     "points": 0,
     "schema_version": 3,
     "solution": true,
     "task": false
    }
   },
   "source": [
    "YOUR ANSWER HERE"
   ]
  },
  {
   "cell_type": "markdown",
   "id": "e7b2b4be",
   "metadata": {
    "deletable": false,
    "editable": false,
    "nbgrader": {
     "cell_type": "markdown",
     "checksum": "473029ebcd3e80a01d623a62d5edb179",
     "grade": false,
     "grade_id": "cell-309ac82efe82284f",
     "locked": true,
     "schema_version": 3,
     "solution": false,
     "task": false
    }
   },
   "source": [
    "This Sentence Similarity demo is quite cool. It takes each summary and converts it into an **embedding**, a numerical vector representation of the text that does a good job of capturing the semantics of the text. This is the part connected to machine learning. In the demo, the pre-trained model `all-MiniLM-L6-v2` is used to compute the embeddings. We'll work with this same model below.\n",
    "\n",
    "Once all the embeddings are computed, then it's a math game. The demo takes the source embedding (whichever artist you introduced first) and compares that embedding with each of the other embeddings in pairs. For each pair that is compared, say *source_painter* and *painter_1*, it produces a score between 0 and 1, where 0 means there is no similarity, and 1 means they are identical. There are many ways to compute similarity and a popular one is Cosine Similarity. There is some info on the demo page linked above, but reproduced here:\n",
    ">     The similarity of the embeddings is evaluated mainly on cosine similarity. It is calculated as the cosine of the angle between two vectors. It is particularly useful when your texts are not the same length\n",
    "\n",
    "---\n",
    "\n",
    "## 4.3. Visualizing the `select_painter_bios`\n",
    "\n",
    "### Create embeddings\n",
    "The first step to being able to cluster and visualize the painters is to compute the embeddings. We will do this as an extra column in our dataframe of `select_painter_bios`"
   ]
  },
  {
   "cell_type": "code",
   "execution_count": null,
   "id": "58e52934",
   "metadata": {
    "deletable": false,
    "editable": false,
    "nbgrader": {
     "cell_type": "code",
     "checksum": "95b75a9fdbf6b18ae2e90689f0a9decb",
     "grade": false,
     "grade_id": "cell-6e6e237c90ca0bd1",
     "locked": true,
     "schema_version": 3,
     "solution": false,
     "task": false
    }
   },
   "outputs": [],
   "source": [
    "from sentence_transformers import SentenceTransformer\n",
    "\n",
    "# Load the pre-trained model\n",
    "model = SentenceTransformer(\"all-MiniLM-L6-v2\")\n",
    "\n",
    "select_painter_bios[\"embeddings\"] = select_painter_bios[\"summary\"].apply(\n",
    "    lambda x: model.encode(x).tolist()\n",
    ")\n",
    "select_painter_bios"
   ]
  },
  {
   "cell_type": "markdown",
   "id": "585ead64",
   "metadata": {
    "deletable": false,
    "editable": false,
    "nbgrader": {
     "cell_type": "markdown",
     "checksum": "7c6ab7ccc45c17df17d9b4ff2e89c2b8",
     "grade": false,
     "grade_id": "cell-c74798848287f0fd",
     "locked": true,
     "schema_version": 3,
     "solution": false,
     "task": false
    }
   },
   "source": [
    "<div class=\"alert alert-info\">\n",
    "<b>Instruction:</b> Save the dataframe with the embeddings as <em>select_painter_embeddings.csv</em>\n",
    "</div>"
   ]
  },
  {
   "cell_type": "code",
   "execution_count": null,
   "id": "b4388331",
   "metadata": {
    "deletable": false,
    "nbgrader": {
     "cell_type": "code",
     "checksum": "360348bb9a3cb7cb35531ce6c0f79131",
     "grade": true,
     "grade_id": "cell-169aea08d141cc72",
     "locked": false,
     "points": 0,
     "schema_version": 3,
     "solution": true,
     "task": false
    }
   },
   "outputs": [],
   "source": [
    "# YOUR CODE HERE\n",
    "raise NotImplementedError()"
   ]
  },
  {
   "cell_type": "markdown",
   "id": "40459c6b",
   "metadata": {
    "deletable": false,
    "editable": false,
    "nbgrader": {
     "cell_type": "markdown",
     "checksum": "1adc34e8ff2525e959c485e29b10e126",
     "grade": false,
     "grade_id": "cell-a9248f42cc927573",
     "locked": true,
     "schema_version": 3,
     "solution": false,
     "task": false
    }
   },
   "source": [
    "We have created our embeddings using the specific model, `all-MiniLM-L6-v2`. That is one of many many models we can use. See a full list here: [https://huggingface.co/models?library=sentence-transformers&author=sentence-transformers](https://huggingface.co/models?library=sentence-transformers&author=sentence-transformers).\n",
    "\n",
    "<div class=\"alert alert-info\">\n",
    "<b>Instruction:</b> Pick a model from the link above and create a new set of embeddings. Name that new column <em>embeddings2</em>. Fill in the table below, and save the data for that run as well.\n",
    "</div>"
   ]
  },
  {
   "cell_type": "markdown",
   "id": "55614048",
   "metadata": {
    "deletable": false,
    "nbgrader": {
     "cell_type": "markdown",
     "checksum": "38c6711984b734b1bcf73ac168ed0bb2",
     "grade": true,
     "grade_id": "cell-e6eec22dc3fd2ea9",
     "locked": false,
     "points": 0,
     "schema_version": 3,
     "solution": true,
     "task": false
    }
   },
   "source": [
    "YOUR ANSWER HERE"
   ]
  },
  {
   "cell_type": "code",
   "execution_count": null,
   "id": "32e8d34a",
   "metadata": {
    "deletable": false,
    "nbgrader": {
     "cell_type": "code",
     "checksum": "fb685d89bfd17fca163eac8883d8e6f3",
     "grade": true,
     "grade_id": "cell-634f886b86791641",
     "locked": false,
     "points": 0,
     "schema_version": 3,
     "solution": true,
     "task": false
    }
   },
   "outputs": [],
   "source": [
    "# YOUR CODE HERE\n",
    "raise NotImplementedError()"
   ]
  },
  {
   "cell_type": "markdown",
   "id": "ae75786f",
   "metadata": {
    "deletable": false,
    "editable": false,
    "nbgrader": {
     "cell_type": "markdown",
     "checksum": "5eae9ac9e788e3de3933f664d6dad6cb",
     "grade": false,
     "grade_id": "cell-ed2674b2929b3091",
     "locked": true,
     "schema_version": 3,
     "solution": false,
     "task": false
    }
   },
   "source": [
    "### Reducing dimensions\n",
    "\n",
    "Now that we have at least one set of embeddings, we can work to visualize them. This is the embedding using the first model for Vincent van Gogh:"
   ]
  },
  {
   "cell_type": "code",
   "execution_count": null,
   "id": "9829e753",
   "metadata": {
    "deletable": false,
    "editable": false,
    "nbgrader": {
     "cell_type": "code",
     "checksum": "5080630f5511e71d11fc138924710279",
     "grade": false,
     "grade_id": "cell-78f4f1ef1b93f0bb",
     "locked": true,
     "schema_version": 3,
     "solution": false,
     "task": false
    }
   },
   "outputs": [],
   "source": [
    "van_gogh = select_painter_bios[select_painter_bios[\"painter_name\"] == \"Vincent van Gogh\"][\"embeddings\"].values[0]\n",
    "\n",
    "van_gogh"
   ]
  },
  {
   "cell_type": "markdown",
   "id": "982b154e",
   "metadata": {
    "deletable": false,
    "editable": false,
    "nbgrader": {
     "cell_type": "markdown",
     "checksum": "a0a18b407facde5dc780a73119602718",
     "grade": false,
     "grade_id": "cell-c106e8fd229de434",
     "locked": true,
     "schema_version": 3,
     "solution": false,
     "task": false
    }
   },
   "source": [
    "<div class=\"alert alert-info\">\n",
    "<b>Instruction:</b> How long is this vector?\n",
    "</div>"
   ]
  },
  {
   "cell_type": "code",
   "execution_count": null,
   "id": "462f62c6",
   "metadata": {
    "deletable": false,
    "nbgrader": {
     "cell_type": "code",
     "checksum": "cf7ab426746e417f1bb12283735de707",
     "grade": true,
     "grade_id": "cell-99fc92672474739a",
     "locked": false,
     "points": 0,
     "schema_version": 3,
     "solution": true,
     "task": false
    }
   },
   "outputs": [],
   "source": [
    "# YOUR CODE HERE\n",
    "raise NotImplementedError()"
   ]
  },
  {
   "cell_type": "markdown",
   "id": "13406294",
   "metadata": {
    "deletable": false,
    "editable": false,
    "nbgrader": {
     "cell_type": "markdown",
     "checksum": "82b37db8af8ab9cc2f5dfa2832cbc189",
     "grade": false,
     "grade_id": "cell-fd294b53e6d413de",
     "locked": true,
     "schema_version": 3,
     "solution": false,
     "task": false
    }
   },
   "source": [
    "This embedding has 384 components. It will be very difficult to visualize all 384 dimensions of this vector directly in a way that is interpretable. We are better off if we can somehow get these 384 dimensions into 2 or 3 dimensions (using 1 dimension might be too simplistic). This process of taking a large number of dimensions and reducing them to less dimensions is also known as projection. \n",
    "\n",
    "The technique that we will use is called [UMAP](https://umap-learn.readthedocs.io/en/latest/), or Uniform Manifold Approximation and Projection for Dimension Reduction. There are others, like SNE and t-SNE that are worth looking into."
   ]
  },
  {
   "cell_type": "code",
   "execution_count": null,
   "id": "ecdf5af6",
   "metadata": {
    "deletable": false,
    "editable": false,
    "nbgrader": {
     "cell_type": "code",
     "checksum": "b44c7102576a4f099e68f44bbed80334",
     "grade": false,
     "grade_id": "cell-5264d50b1667c81d",
     "locked": true,
     "schema_version": 3,
     "solution": false,
     "task": false
    }
   },
   "outputs": [],
   "source": [
    "import umap\n",
    "\n",
    "umap_model = umap.UMAP(n_components=2, n_neighbors=5, min_dist=0.3, metric=\"cosine\")\n",
    "embeddings = select_painter_bios[\"embeddings\"].tolist()\n",
    "embedded_data_2d = umap_model.fit_transform(embeddings)\n",
    "embedded_data_2d"
   ]
  },
  {
   "cell_type": "markdown",
   "id": "09b04ac3",
   "metadata": {
    "deletable": false,
    "editable": false,
    "nbgrader": {
     "cell_type": "markdown",
     "checksum": "101ce36987529161c4162f0ba757f4e2",
     "grade": false,
     "grade_id": "cell-c9252c1af84820a1",
     "locked": true,
     "schema_version": 3,
     "solution": false,
     "task": false
    }
   },
   "source": [
    "What we have done is use the UMAP technique to project all 384 dimensions of the original embedding into 2 dimensions that we can now visualize.\n",
    "\n",
    "Each of the parameters in `umap.UMAP()` can affect our output:\n",
    "* `n_components`: This parameter controls the dimensionality of the reduction. We set it to 2 because we want to end up with 2 components in the end (that we can visualize).\n",
    "* `n_neighbors`: This parameter tweaks how UMAP balances local vs global patterns. Play around with this if your visualization later looks off.\n",
    "* `min_dist`: This parameter controls how packed points can be. \n",
    "\n",
    "You can read more about these parameters, and see some visuals of how they affect the output at the UMAP website [here](https://umap-learn.readthedocs.io/en/latest/parameters.html).\n",
    "\n",
    "Let's add those dimensions to our dataframe. We'll name these new columns `umap1_x` and `umap1_y` because we're using the first set of embeddings that were created using the `all-MiniLM-L6-v2` model."
   ]
  },
  {
   "cell_type": "code",
   "execution_count": null,
   "id": "988f4905",
   "metadata": {
    "deletable": false,
    "editable": false,
    "nbgrader": {
     "cell_type": "code",
     "checksum": "519a535333b9d2e3842e83309b35db01",
     "grade": false,
     "grade_id": "cell-099bff046bed19bd",
     "locked": true,
     "schema_version": 3,
     "solution": false,
     "task": false
    }
   },
   "outputs": [],
   "source": [
    "select_painter_bios[\"umap1_x\"] = embedded_data_2d[:, 0]\n",
    "select_painter_bios[\"umap1_y\"] = embedded_data_2d[:, 1]"
   ]
  },
  {
   "cell_type": "markdown",
   "id": "3ec82569",
   "metadata": {
    "deletable": false,
    "editable": false,
    "nbgrader": {
     "cell_type": "markdown",
     "checksum": "55b5a80af72a032332ce360400092f71",
     "grade": false,
     "grade_id": "cell-3ff5ca46da21d0a8",
     "locked": true,
     "schema_version": 3,
     "solution": false,
     "task": false
    }
   },
   "source": [
    "### Scatterplot visualization\n",
    "\n",
    "Now that we have reduced the 384-component long embeddings to 2 dimensions. Let's visualize them using a scatterplot."
   ]
  },
  {
   "cell_type": "code",
   "execution_count": null,
   "id": "d5bf0815",
   "metadata": {
    "deletable": false,
    "editable": false,
    "nbgrader": {
     "cell_type": "code",
     "checksum": "059dc6a06ec0b4e24ffb0e9d7278dc54",
     "grade": false,
     "grade_id": "cell-c5d78aa0cb231db4",
     "locked": true,
     "schema_version": 3,
     "solution": false,
     "task": false
    }
   },
   "outputs": [],
   "source": [
    "import plotly.express as px\n",
    "\n",
    "# Create a scatter plot with Plotly\n",
    "fig = px.scatter(select_painter_bios, x=\"umap1_x\", y=\"umap1_y\", hover_data=[\"painter_name\"], width=800, height=800)\n",
    "\n",
    "# Show the plot\n",
    "fig.show()\n"
   ]
  },
  {
   "cell_type": "markdown",
   "id": "d4414cea",
   "metadata": {
    "deletable": false,
    "editable": false,
    "nbgrader": {
     "cell_type": "markdown",
     "checksum": "5dc22f6af0d5eef8ced4b28fdbaccca4",
     "grade": false,
     "grade_id": "cell-fc710007e0242729",
     "locked": true,
     "schema_version": 3,
     "solution": false,
     "task": false
    }
   },
   "source": [
    "<div class=\"alert alert-info\">\n",
    "<b>Instruction:</b> How do you interpret your figure?\n",
    "</div>"
   ]
  },
  {
   "cell_type": "markdown",
   "id": "99851bbc",
   "metadata": {
    "deletable": false,
    "nbgrader": {
     "cell_type": "markdown",
     "checksum": "031c407a62af64e7ce08e6199bc700ec",
     "grade": true,
     "grade_id": "cell-4bc2f8c787f8813d",
     "locked": false,
     "points": 0,
     "schema_version": 3,
     "solution": true,
     "task": false
    }
   },
   "source": [
    "YOUR ANSWER HERE"
   ]
  },
  {
   "cell_type": "markdown",
   "id": "4b8d3abe",
   "metadata": {
    "deletable": false,
    "editable": false,
    "nbgrader": {
     "cell_type": "markdown",
     "checksum": "c6023602a355ea10631b9f7422dbb31d",
     "grade": false,
     "grade_id": "cell-5874fa1c36950908",
     "locked": true,
     "schema_version": 3,
     "solution": false,
     "task": false
    }
   },
   "source": [
    "---\n",
    "\n",
    "## 4.5 - Visualizing the embeddings for the model you chose\n",
    "\n",
    "Now that you have visualized the first embedding using the `all-MiniLM-L6-v2` model, do it for the model you chose. Feel free to reuse code that is above, but be sure to write comments and notes explaining your process."
   ]
  },
  {
   "cell_type": "code",
   "execution_count": null,
   "id": "937f0d62",
   "metadata": {
    "deletable": false,
    "nbgrader": {
     "cell_type": "code",
     "checksum": "4b0de642766f5b0826dd350fd079e356",
     "grade": true,
     "grade_id": "cell-2595a2f06ab23c71",
     "locked": false,
     "points": 0,
     "schema_version": 3,
     "solution": true,
     "task": false
    }
   },
   "outputs": [],
   "source": [
    "# YOUR CODE HERE\n",
    "raise NotImplementedError()"
   ]
  },
  {
   "cell_type": "markdown",
   "id": "55efa57f",
   "metadata": {
    "deletable": false,
    "editable": false,
    "nbgrader": {
     "cell_type": "markdown",
     "checksum": "76373f7b33bccf77a983f7136974a4e5",
     "grade": false,
     "grade_id": "cell-e64602af193c308b",
     "locked": true,
     "schema_version": 3,
     "solution": false,
     "task": false
    }
   },
   "source": [
    "<div class=\"alert alert-info\">\n",
    "<b>Instruction:</b> Use the space below to interpret the final visualization of your embedding. How does it compare with the previous visual?\n",
    "</div>"
   ]
  },
  {
   "cell_type": "markdown",
   "id": "7191c759",
   "metadata": {
    "deletable": false,
    "nbgrader": {
     "cell_type": "markdown",
     "checksum": "da0a8db66cb31ef70c7e80f65660e458",
     "grade": true,
     "grade_id": "cell-8fd666fac7da7c58",
     "locked": false,
     "points": 0,
     "schema_version": 3,
     "solution": true,
     "task": false
    }
   },
   "source": [
    "YOUR ANSWER HERE"
   ]
  },
  {
   "cell_type": "markdown",
   "id": "12b016b9",
   "metadata": {
    "deletable": false,
    "editable": false,
    "nbgrader": {
     "cell_type": "markdown",
     "checksum": "0e400669f499597b9592ba0dcb6040b9",
     "grade": false,
     "grade_id": "cell-9b080313fc183ec0",
     "locked": true,
     "schema_version": 3,
     "solution": false,
     "task": false
    }
   },
   "source": [
    "---\n",
    "\n",
    "## 4.6 - Visualizing the entire dataset\n",
    "\n",
    "Taking all the tools from above, visualize the entire dataset of artists. The code may take longer to run, but the process is still the same.\n",
    "\n",
    "1. Compute embeddings using one of the models from [this page](https://huggingface.co/models?library=sentence-transformers&author=sentence-transformers)\n",
    "1. Reduce dimensions using UMAP\n",
    "1. Plot the result.\n",
    "\n"
   ]
  },
  {
   "cell_type": "code",
   "execution_count": null,
   "id": "abfc5ab3",
   "metadata": {
    "deletable": false,
    "nbgrader": {
     "cell_type": "code",
     "checksum": "a6773889c26fc1e307dc169bc70b64cd",
     "grade": true,
     "grade_id": "cell-81a08460ea7d32f7",
     "locked": false,
     "points": 0,
     "schema_version": 3,
     "solution": true,
     "task": false
    }
   },
   "outputs": [],
   "source": [
    "# YOUR CODE HERE\n",
    "raise NotImplementedError()"
   ]
  }
 ],
 "metadata": {
  "kernelspec": {
   "display_name": "Python 3 (ipykernel)",
   "language": "python",
   "name": "python3"
  },
  "language_info": {
   "codemirror_mode": {
    "name": "ipython",
    "version": 3
   },
   "file_extension": ".py",
   "mimetype": "text/x-python",
   "name": "python",
   "nbconvert_exporter": "python",
   "pygments_lexer": "ipython3",
   "version": "3.11.4"
  }
 },
 "nbformat": 4,
 "nbformat_minor": 5
}
