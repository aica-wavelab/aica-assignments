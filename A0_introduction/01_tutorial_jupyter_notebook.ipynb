{
 "cells": [
  {
   "cell_type": "markdown",
   "metadata": {},
   "source": [
    "Before you turn this problem in, make sure everything runs as expected. First, **restart the kernel** (in the menubar, select Kernel$\\rightarrow$Restart) and then **run all cells** (in the menubar, select Cell$\\rightarrow$Run All).\n",
    "\n",
    "Make sure you fill in any place that says `YOUR CODE HERE` or \"YOUR ANSWER HERE\", as well as your name and email below:"
   ]
  },
  {
   "cell_type": "code",
   "execution_count": null,
   "metadata": {},
   "outputs": [],
   "source": [
    "# Full name\n",
    "NAME = \"\"\n",
    "# Institutional email (hm.edu or hmtm.de)\n",
    "EMAIL = \"\""
   ]
  },
  {
   "cell_type": "markdown",
   "metadata": {},
   "source": [
    "---"
   ]
  },
  {
   "cell_type": "markdown",
   "metadata": {
    "deletable": false,
    "editable": false,
    "nbgrader": {
     "cell_type": "markdown",
     "checksum": "b479975e3ccf141028de2517714ba98a",
     "grade": false,
     "grade_id": "cell-d4e97482d85bfb1d",
     "locked": true,
     "schema_version": 3,
     "solution": false,
     "task": false
    }
   },
   "source": [
    "# Data analysis using Jupyter Notebook\n",
    "\n",
    "A *data analysis* addresses the following questions:\n",
    "\n",
    "- What are the data?\n",
    "- What is the question (our objective)?\n",
    "- How do we answer it (statistical tools)?\n",
    "- What are the results (our observations)?\n",
    "- What are the conclusions (our interpretation)?\n",
    "\n",
    "A data analysis takes the form of a narrative document explaining the objectives, hypotheses, and steps of the analysis; it is typically written in English so that it can be shared with a wider audience."
   ]
  },
  {
   "cell_type": "markdown",
   "metadata": {
    "deletable": false,
    "editable": false,
    "nbgrader": {
     "cell_type": "markdown",
     "checksum": "66ad55e7fb574bf00431626aec081737",
     "grade": false,
     "grade_id": "cell-28df5629e3b6957e",
     "locked": true,
     "schema_version": 3,
     "solution": false,
     "task": false
    }
   },
   "source": [
    "## Why using Jupyter Notebook?\n",
    "\n",
    "Jupyter Notebook is an open-source web application that allows you to create and share documents that contain live code, equations, visualizations, and narrative text. It supports various programming languages, but it's most commonly used with Python.\n",
    "\n",
    "It is the preferred means to write such data analysis because **the calculation are easily reproducibles** and **the document is self-contained**.\n",
    "You can intertwin narration (text, formulas), execution of code, and visualization.\n",
    "\n",
    "**The document you are currently reading is a Jupyter Notebook**. You can input calculations like the one below. To execute the calculation, click inside the cell below and type Shift-Enter:"
   ]
  },
  {
   "cell_type": "code",
   "execution_count": null,
   "metadata": {
    "deletable": false,
    "editable": false,
    "nbgrader": {
     "cell_type": "code",
     "checksum": "d10e5d306017bf42dc49e31e1e9cca72",
     "grade": false,
     "grade_id": "cell-96cd0bbaf31b132b",
     "locked": true,
     "schema_version": 3,
     "solution": false,
     "task": false
    }
   },
   "outputs": [],
   "source": [
    "1 + 1"
   ]
  },
  {
   "cell_type": "markdown",
   "metadata": {
    "deletable": false,
    "editable": false,
    "nbgrader": {
     "cell_type": "markdown",
     "checksum": "aeee4f28234bcc85a01b64bb6d09ee1d",
     "grade": false,
     "grade_id": "cell-682986b0d3d9e7b4",
     "locked": true,
     "schema_version": 3,
     "solution": false,
     "task": false
    }
   },
   "source": [
    "Now use the cell below to calculate 1+2; then\n",
    "use the same cell again to calculate 3*4:"
   ]
  },
  {
   "cell_type": "code",
   "execution_count": null,
   "metadata": {
    "deletable": false,
    "editable": false,
    "nbgrader": {
     "cell_type": "code",
     "checksum": "49697cd3d13fb305f1fd1a5676d5e030",
     "grade": false,
     "grade_id": "cell-628bd9009fe49b7d",
     "locked": true,
     "schema_version": 3,
     "solution": false,
     "task": false
    }
   },
   "outputs": [],
   "source": [
    "# Here is a code cell\n",
    "3*4\n"
   ]
  },
  {
   "cell_type": "markdown",
   "metadata": {
    "deletable": false,
    "editable": false,
    "nbgrader": {
     "cell_type": "markdown",
     "checksum": "3f545243eda61771a89aa6a4b6a666d7",
     "grade": false,
     "grade_id": "cell-a4c15553e347f5b8",
     "locked": true,
     "schema_version": 3,
     "solution": false,
     "task": false
    }
   },
   "source": [
    "Many of the class assignments will also take the form of Jupyter Notebooks, in which you will find cells to complete, either with code or with an answer in English. \n",
    "\n",
    "The following cell is an example of a cell to complete. Replace the two lines \"Your code here\" and\n",
    "\"raise NotImplementedError()\" with the calculation to be made. \n",
    "<div class=\"alert alert-info\">\n",
    "<b>Instruction:</b> calculate five times seven.\n",
    "</div>"
   ]
  },
  {
   "cell_type": "code",
   "execution_count": null,
   "metadata": {
    "deletable": false,
    "nbgrader": {
     "cell_type": "code",
     "checksum": "b411d4f3a6e07912e420c8e2c09eae91",
     "grade": true,
     "grade_id": "cell-7b512196b53d2f97",
     "locked": false,
     "points": 1,
     "schema_version": 3,
     "solution": true,
     "task": false
    }
   },
   "outputs": [],
   "source": [
    "# Write your variable here\n",
    "# YOUR CODE HERE\n",
    "raise NotImplementedError()"
   ]
  },
  {
   "cell_type": "markdown",
   "metadata": {
    "deletable": false,
    "nbgrader": {
     "cell_type": "markdown",
     "checksum": "a3f92ab7e64dcf26edc2c8227aa4909a",
     "grade": true,
     "grade_id": "cell-b52128dda6d3051b",
     "locked": false,
     "points": 1,
     "schema_version": 3,
     "solution": true,
     "task": false
    }
   },
   "source": [
    "You can also edit cells containing text like this one\n",
    "like this one. \n",
    "<div class=\"alert alert-info\">\n",
    "<b>Instruction:</b> double-click in the cell and put your name there:\n",
    "</div>\n",
    "\n",
    "YOUR ANSWER HERE\n",
    "\n",
    "Then Shift-Enter.\n",
    "\n",
    "Note that some cells in this document are **read-only** : you cannot modify them.  However, you can always insert new free cells (Menu Insert' > 'Insert cell after')."
   ]
  },
  {
   "cell_type": "markdown",
   "metadata": {
    "deletable": false,
    "editable": false,
    "nbgrader": {
     "cell_type": "markdown",
     "checksum": "8845c606798a5144d6863d4eeb1b9d96",
     "grade": false,
     "grade_id": "cell-bbc91f30c622bdc8",
     "locked": true,
     "schema_version": 3,
     "solution": false,
     "task": false
    }
   },
   "source": [
    "You can also enter mathematical formulae in a cell:\n",
    "$$\\frac 1 {1-\\frac 1z} = \\sum_{i=0}^\\infty \\frac 1 {z^i}$$"
   ]
  },
  {
   "cell_type": "markdown",
   "metadata": {
    "deletable": false,
    "editable": false,
    "nbgrader": {
     "cell_type": "markdown",
     "checksum": "0767c5b0b84dafa0706537552de75c18",
     "grade": false,
     "grade_id": "cell-80839d487efbf220",
     "locked": true,
     "schema_version": 3,
     "solution": false,
     "task": false
    }
   },
   "source": [
    "## Semi-automatic correction with nbgrader\n",
    "\n",
    "For a graded assignment using jupyter notebook (not all assignments use jupyter notebook), part of the correction is based on automatic and hidden tests.\n",
    "\n",
    "The rest of the correction is manual: your teachers will look at your answers and interpretations of the results and will award points to each of them.\n",
    "\n",
    "<div class=\"alert alert-info\">\n",
    "Today's session is a non-graded practice session. It is meant to teach you the basics of jupyter notebook, python, data science, and machine learning.\n",
    "</div>"
   ]
  },
  {
   "cell_type": "markdown",
   "metadata": {
    "deletable": false,
    "editable": false,
    "nbgrader": {
     "cell_type": "markdown",
     "checksum": "62b2e2ebf678f954524fd7ef65527b64",
     "grade": false,
     "grade_id": "cell-bfd00ebb6445e4ad",
     "locked": true,
     "schema_version": 3,
     "solution": false,
     "task": false
    }
   },
   "source": [
    "## Let's get to work!\n",
    "\n",
    "You've learned the basics of Jupyter, a recurrent\n",
    "working environment in this course and in data analysis. In particular, you should now be able to:\n",
    "\n",
    " - Open a jupyter notebook\n",
    " - Create and executing cells\n",
    " - Identify missing code/text that will be graded (either automatically or manually)\n",
    " \n",
    "It is time to learn or refresh your memory on the Python programming language! Go to the next sheet [Python tutorial](02_tutorial_python.ipynb)"
   ]
  }
 ],
 "metadata": {
  "kernelspec": {
   "display_name": "Python 3 (ipykernel)",
   "language": "python",
   "name": "python3"
  },
  "language_info": {
   "codemirror_mode": {
    "name": "ipython",
    "version": 3
   },
   "file_extension": ".py",
   "mimetype": "text/x-python",
   "name": "python",
   "nbconvert_exporter": "python",
   "pygments_lexer": "ipython3",
   "version": "3.11.4"
  }
 },
 "nbformat": 4,
 "nbformat_minor": 4
}
