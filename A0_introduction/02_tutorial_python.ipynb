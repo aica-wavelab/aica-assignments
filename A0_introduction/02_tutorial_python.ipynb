{
 "cells": [
  {
   "cell_type": "markdown",
   "metadata": {},
   "source": [
    "Before you turn this problem in, make sure everything runs as expected. First, **restart the kernel** (in the menubar, select Kernel$\\rightarrow$Restart) and then **run all cells** (in the menubar, select Cell$\\rightarrow$Run All).\n",
    "\n",
    "Make sure you fill in any place that says `YOUR CODE HERE` or \"YOUR ANSWER HERE\", as well as your name and email below:"
   ]
  },
  {
   "cell_type": "code",
   "execution_count": null,
   "metadata": {},
   "outputs": [],
   "source": [
    "# Full name\n",
    "NAME = \"\"\n",
    "# Institutional email (hm.edu or hmtm.de)\n",
    "EMAIL = \"\""
   ]
  },
  {
   "cell_type": "markdown",
   "metadata": {},
   "source": [
    "---"
   ]
  },
  {
   "cell_type": "markdown",
   "metadata": {
    "deletable": false,
    "editable": false,
    "nbgrader": {
     "cell_type": "markdown",
     "checksum": "e72c5ebd3c884e2ebe4fdfc93e2d771d",
     "grade": false,
     "grade_id": "cell-c08fd4305bac6204",
     "locked": true,
     "schema_version": 3,
     "solution": false,
     "task": false
    }
   },
   "source": [
    "# Rudiments of Python\n",
    "\n",
    "**Why Python ?**\n",
    "\n",
    "There are many reasons why we chose to teach you rudiments of Python in this tech crash course:\n",
    "\n",
    "- It is free and Open Source,\n",
    "- It is a worldwide language used in science and machine learning. For this reason, you will easily find support online, even for your specific problem, and it will continually be improved and updated,\n",
    "- It has a simple syntax, which makes it easy to read and learn"
   ]
  },
  {
   "cell_type": "markdown",
   "metadata": {
    "deletable": false,
    "editable": false,
    "nbgrader": {
     "cell_type": "markdown",
     "checksum": "b47d0fa569f223ac302be11311184358",
     "grade": false,
     "grade_id": "cell-ae69caf1b9052526",
     "locked": true,
     "schema_version": 3,
     "solution": false,
     "task": false
    }
   },
   "source": [
    "## 1. Basic types\n",
    "\n",
    "The main basic data types in python are:\n",
    "\n",
    "- **Numbers** : those can be integers `int` or floating  `float`;\n",
    "- **Strings** : a sequence of characters, noted `str`;\n",
    "- **Booleans** : Either `True` or `False`, noted `bool`;\n",
    "\n",
    "One function that is very useful to know is `type()`, which allows you to know the type of a variable."
   ]
  },
  {
   "cell_type": "code",
   "execution_count": null,
   "metadata": {
    "deletable": false,
    "editable": false,
    "nbgrader": {
     "cell_type": "code",
     "checksum": "d6b0363c61e59361e8a2a8b38a19ccfa",
     "grade": false,
     "grade_id": "cell-c6477c20c743c0d4",
     "locked": true,
     "schema_version": 3,
     "solution": false,
     "task": false
    }
   },
   "outputs": [],
   "source": [
    "type(42)"
   ]
  },
  {
   "cell_type": "code",
   "execution_count": null,
   "metadata": {
    "deletable": false,
    "editable": false,
    "nbgrader": {
     "cell_type": "code",
     "checksum": "66de033c976612579a6b2fa1104b646b",
     "grade": false,
     "grade_id": "cell-87d22b7c194c37e5",
     "locked": true,
     "schema_version": 3,
     "solution": false,
     "task": false
    }
   },
   "outputs": [],
   "source": [
    "type(1.4)"
   ]
  },
  {
   "cell_type": "code",
   "execution_count": null,
   "metadata": {
    "deletable": false,
    "editable": false,
    "nbgrader": {
     "cell_type": "code",
     "checksum": "21268462af3cdbcaeaae0a8840c05d44",
     "grade": false,
     "grade_id": "cell-7828194444dbb302",
     "locked": true,
     "schema_version": 3,
     "solution": false,
     "task": false
    }
   },
   "outputs": [],
   "source": [
    "type(\"Hello World!\")"
   ]
  },
  {
   "cell_type": "code",
   "execution_count": null,
   "metadata": {
    "deletable": false,
    "editable": false,
    "nbgrader": {
     "cell_type": "code",
     "checksum": "450680f2299349efce95b472cd0ef22f",
     "grade": false,
     "grade_id": "cell-af9033b9b4b9ec7c",
     "locked": true,
     "schema_version": 3,
     "solution": false,
     "task": false
    }
   },
   "outputs": [],
   "source": [
    "type(True)"
   ]
  },
  {
   "cell_type": "markdown",
   "metadata": {
    "deletable": false,
    "editable": false,
    "nbgrader": {
     "cell_type": "markdown",
     "checksum": "a7256fb3e7d888b4eb7d24d077ad684b",
     "grade": false,
     "grade_id": "cell-d6c2e3283f931f66",
     "locked": true,
     "schema_version": 3,
     "solution": false,
     "task": false
    }
   },
   "source": [
    "Another important function is `print()`, which allows you to display a value. \n",
    "\n",
    "In Jupyter Notebook, you can display a value by simply using a cell, as shown above with `type(\"Hello world!)`. However,  if several variables are called in the same cell, only the last one will be displayed, except if you `print` them all !\n",
    "\n",
    "As a rule of thumb, you should use `print()` to display values."
   ]
  },
  {
   "cell_type": "code",
   "execution_count": null,
   "metadata": {
    "deletable": false,
    "editable": false,
    "nbgrader": {
     "cell_type": "code",
     "checksum": "38e22589f04f3ac55b431ffd7491f45e",
     "grade": false,
     "grade_id": "cell-41f8be5a8660491b",
     "locked": true,
     "schema_version": 3,
     "solution": false,
     "task": false
    }
   },
   "outputs": [],
   "source": [
    "42\n",
    "\"Hello world!\""
   ]
  },
  {
   "cell_type": "code",
   "execution_count": null,
   "metadata": {
    "deletable": false,
    "editable": false,
    "nbgrader": {
     "cell_type": "code",
     "checksum": "fa219904204f014471d3c738bf82e47b",
     "grade": false,
     "grade_id": "cell-24d0ce7133eeaea1",
     "locked": true,
     "schema_version": 3,
     "solution": false,
     "task": false
    }
   },
   "outputs": [],
   "source": [
    "print(42)\n",
    "print(\"Hello world!\")"
   ]
  },
  {
   "cell_type": "markdown",
   "metadata": {
    "deletable": false,
    "editable": false,
    "nbgrader": {
     "cell_type": "markdown",
     "checksum": "80822347724298fac9b5b9dc3f48d3d3",
     "grade": false,
     "grade_id": "cell-c8c6a61fe0875f0a",
     "locked": true,
     "schema_version": 3,
     "solution": false,
     "task": false
    }
   },
   "source": [
    "Depending of their types, values can be manipulated differently. \n",
    "Let's take the example of the `+` operator."
   ]
  },
  {
   "cell_type": "code",
   "execution_count": null,
   "metadata": {
    "deletable": false,
    "editable": false,
    "nbgrader": {
     "cell_type": "code",
     "checksum": "ce36bcbb29dc7d177efb88ba8da03caa",
     "grade": false,
     "grade_id": "cell-6868307fa088c5d2",
     "locked": true,
     "schema_version": 3,
     "solution": false,
     "task": false
    }
   },
   "outputs": [],
   "source": [
    "type(2+2)"
   ]
  },
  {
   "cell_type": "code",
   "execution_count": null,
   "metadata": {
    "deletable": false,
    "editable": false,
    "nbgrader": {
     "cell_type": "code",
     "checksum": "518623600d4f1f4a34c26dcb20379c1a",
     "grade": false,
     "grade_id": "cell-50f665e12b12cf33",
     "locked": true,
     "schema_version": 3,
     "solution": false,
     "task": false
    }
   },
   "outputs": [],
   "source": [
    "type(2+2.0)"
   ]
  },
  {
   "cell_type": "code",
   "execution_count": null,
   "metadata": {
    "deletable": false,
    "editable": false,
    "nbgrader": {
     "cell_type": "code",
     "checksum": "913b65bbfcf3d99d51ac47fc06e62a0c",
     "grade": false,
     "grade_id": "cell-ad8ee39bf8236af8",
     "locked": true,
     "schema_version": 3,
     "solution": false,
     "task": false
    }
   },
   "outputs": [],
   "source": [
    "2+'2'"
   ]
  },
  {
   "cell_type": "markdown",
   "metadata": {
    "deletable": false,
    "editable": false,
    "nbgrader": {
     "cell_type": "markdown",
     "checksum": "0f63639a7fc01a4374c3982715f8ac2b",
     "grade": false,
     "grade_id": "cell-022d13b5adccdbc3",
     "locked": true,
     "schema_version": 3,
     "solution": false,
     "task": false
    }
   },
   "source": [
    "<div class=\"alert alert-info\">\n",
    "<b>Instruction:</b> In the next cell, use the + operator with two strings.\n",
    "</div>"
   ]
  },
  {
   "cell_type": "code",
   "execution_count": null,
   "metadata": {
    "deletable": false,
    "nbgrader": {
     "cell_type": "code",
     "checksum": "753c57b1ed8bd13f00c0f51363638de3",
     "grade": true,
     "grade_id": "cell-9feded7ef9f10ecc",
     "locked": false,
     "points": 1,
     "schema_version": 3,
     "solution": true,
     "task": false
    }
   },
   "outputs": [],
   "source": [
    "# YOUR CODE HERE\n",
    "raise NotImplementedError()"
   ]
  },
  {
   "cell_type": "markdown",
   "metadata": {
    "deletable": false,
    "nbgrader": {
     "cell_type": "markdown",
     "checksum": "e3b5cec4622adc9c609f95fb839aee09",
     "grade": true,
     "grade_id": "cell-1b9c781fd70f645f",
     "locked": false,
     "points": 1,
     "schema_version": 3,
     "solution": true,
     "task": false
    }
   },
   "source": [
    "<div class=\"alert alert-info\">\n",
    "<b>Instruction:</b> The `+` operator is called <b>concatenation</b> when used with strings. Explain what is concatenation in your own words.\n",
    "</div>\n",
    "\n",
    "YOUR ANSWER HERE"
   ]
  },
  {
   "cell_type": "markdown",
   "metadata": {
    "deletable": false,
    "editable": false,
    "nbgrader": {
     "cell_type": "markdown",
     "checksum": "2cd13d1d046d25f6cff08e3eaa154468",
     "grade": false,
     "grade_id": "cell-f0dfa3bbff7b2d7c",
     "locked": true,
     "schema_version": 3,
     "solution": false,
     "task": false
    }
   },
   "source": [
    "## 2. Basic operators ...\n",
    "\n",
    "### ... for numbers"
   ]
  },
  {
   "cell_type": "markdown",
   "metadata": {
    "deletable": false,
    "editable": false,
    "nbgrader": {
     "cell_type": "markdown",
     "checksum": "08101673a9c114e5671d7d0fe6f10b8f",
     "grade": false,
     "grade_id": "cell-a081d1d6fb8295e6",
     "locked": true,
     "schema_version": 3,
     "solution": false,
     "task": false
    }
   },
   "source": [
    "Addition"
   ]
  },
  {
   "cell_type": "code",
   "execution_count": null,
   "metadata": {
    "deletable": false,
    "editable": false,
    "nbgrader": {
     "cell_type": "code",
     "checksum": "bc9d027d9fa91c02504e3b46a8156e21",
     "grade": false,
     "grade_id": "cell-d89cda074701df4b",
     "locked": true,
     "schema_version": 3,
     "solution": false,
     "task": false
    }
   },
   "outputs": [],
   "source": [
    "2+3"
   ]
  },
  {
   "cell_type": "markdown",
   "metadata": {
    "deletable": false,
    "editable": false,
    "nbgrader": {
     "cell_type": "markdown",
     "checksum": "29ee201c4975a8da1f2595aeefebfb9e",
     "grade": false,
     "grade_id": "cell-5e7c49666d7d6aa9",
     "locked": true,
     "schema_version": 3,
     "solution": false,
     "task": false
    }
   },
   "source": [
    "Multiplication"
   ]
  },
  {
   "cell_type": "code",
   "execution_count": null,
   "metadata": {
    "deletable": false,
    "editable": false,
    "nbgrader": {
     "cell_type": "code",
     "checksum": "900f432d091a6d5a459b9b89fc26aae5",
     "grade": false,
     "grade_id": "cell-326e3bd1d3d37940",
     "locked": true,
     "schema_version": 3,
     "solution": false,
     "task": false
    }
   },
   "outputs": [],
   "source": [
    "2*3"
   ]
  },
  {
   "cell_type": "markdown",
   "metadata": {
    "deletable": false,
    "editable": false,
    "nbgrader": {
     "cell_type": "markdown",
     "checksum": "44c37fdd2dcedb78a4cd9e4d83813240",
     "grade": false,
     "grade_id": "cell-f2d7211008aabad2",
     "locked": true,
     "schema_version": 3,
     "solution": false,
     "task": false
    }
   },
   "source": [
    "Substraction"
   ]
  },
  {
   "cell_type": "code",
   "execution_count": null,
   "metadata": {
    "deletable": false,
    "editable": false,
    "nbgrader": {
     "cell_type": "code",
     "checksum": "f9d0f26042ded093b3d518402b167e90",
     "grade": false,
     "grade_id": "cell-9c3b0a39b8b728ce",
     "locked": true,
     "schema_version": 3,
     "solution": false,
     "task": false
    }
   },
   "outputs": [],
   "source": [
    "2-3"
   ]
  },
  {
   "cell_type": "markdown",
   "metadata": {
    "deletable": false,
    "editable": false,
    "nbgrader": {
     "cell_type": "markdown",
     "checksum": "e4b518521e175527b0d27d4fc8f4b739",
     "grade": false,
     "grade_id": "cell-f7903ec665fba02d",
     "locked": true,
     "schema_version": 3,
     "solution": false,
     "task": false
    }
   },
   "source": [
    "Power of a number"
   ]
  },
  {
   "cell_type": "code",
   "execution_count": null,
   "metadata": {
    "deletable": false,
    "editable": false,
    "nbgrader": {
     "cell_type": "code",
     "checksum": "3306613104086c9340f555a09052ca3c",
     "grade": false,
     "grade_id": "cell-1745ce5f0d382fe7",
     "locked": true,
     "schema_version": 3,
     "solution": false,
     "task": false
    }
   },
   "outputs": [],
   "source": [
    "3**2"
   ]
  },
  {
   "cell_type": "markdown",
   "metadata": {
    "deletable": false,
    "editable": false,
    "nbgrader": {
     "cell_type": "markdown",
     "checksum": "c635325e717af6d33b262677c1cd520b",
     "grade": false,
     "grade_id": "cell-d06353bb91f88830",
     "locked": true,
     "schema_version": 3,
     "solution": false,
     "task": false
    }
   },
   "source": [
    "Lower than"
   ]
  },
  {
   "cell_type": "code",
   "execution_count": null,
   "metadata": {
    "deletable": false,
    "editable": false,
    "nbgrader": {
     "cell_type": "code",
     "checksum": "97374203b37b8f107013b565ceb0cca3",
     "grade": false,
     "grade_id": "cell-2eae11494c5742e5",
     "locked": true,
     "schema_version": 3,
     "solution": false,
     "task": false
    }
   },
   "outputs": [],
   "source": [
    "2 < 3"
   ]
  },
  {
   "cell_type": "markdown",
   "metadata": {
    "deletable": false,
    "editable": false,
    "nbgrader": {
     "cell_type": "markdown",
     "checksum": "58ac20726e5043b91d7fc26f596b5757",
     "grade": false,
     "grade_id": "cell-f6c698562aa0bad4",
     "locked": true,
     "schema_version": 3,
     "solution": false,
     "task": false
    }
   },
   "source": [
    "Greater than"
   ]
  },
  {
   "cell_type": "code",
   "execution_count": null,
   "metadata": {
    "deletable": false,
    "editable": false,
    "nbgrader": {
     "cell_type": "code",
     "checksum": "5f817fa1d05e1286d044de51b7dbf927",
     "grade": false,
     "grade_id": "cell-2a9287bbd766ced2",
     "locked": true,
     "schema_version": 3,
     "solution": false,
     "task": false
    }
   },
   "outputs": [],
   "source": [
    "2 > 3"
   ]
  },
  {
   "cell_type": "markdown",
   "metadata": {
    "deletable": false,
    "editable": false,
    "nbgrader": {
     "cell_type": "markdown",
     "checksum": "c955bc1110592c8a1e2938f7c9a2533b",
     "grade": false,
     "grade_id": "cell-ae50a13cb337c5d4",
     "locked": true,
     "schema_version": 3,
     "solution": false,
     "task": false
    }
   },
   "source": [
    "Equal to"
   ]
  },
  {
   "cell_type": "code",
   "execution_count": null,
   "metadata": {
    "deletable": false,
    "editable": false,
    "nbgrader": {
     "cell_type": "code",
     "checksum": "a0536c07f850898486f1a0ca7626cd8b",
     "grade": false,
     "grade_id": "cell-b6a7b96bdd09d6f3",
     "locked": true,
     "schema_version": 3,
     "solution": false,
     "task": false
    }
   },
   "outputs": [],
   "source": [
    "2 == 2"
   ]
  },
  {
   "cell_type": "markdown",
   "metadata": {
    "deletable": false,
    "editable": false,
    "nbgrader": {
     "cell_type": "markdown",
     "checksum": "56dd31cb538b80189391edf6b7345937",
     "grade": false,
     "grade_id": "cell-f01a0f2577bbd57f",
     "locked": true,
     "schema_version": 3,
     "solution": false,
     "task": false
    }
   },
   "source": [
    "Greater/Lower or equal to"
   ]
  },
  {
   "cell_type": "code",
   "execution_count": null,
   "metadata": {
    "deletable": false,
    "editable": false,
    "nbgrader": {
     "cell_type": "code",
     "checksum": "020228552f93107364af1dc9b8ef4304",
     "grade": false,
     "grade_id": "cell-86a10ea8d11b56e0",
     "locked": true,
     "schema_version": 3,
     "solution": false,
     "task": false
    }
   },
   "outputs": [],
   "source": [
    "print(2 <= 2)\n",
    "print(2 <= 3)\n",
    "print(2 >= 3)"
   ]
  },
  {
   "cell_type": "markdown",
   "metadata": {
    "deletable": false,
    "editable": false,
    "nbgrader": {
     "cell_type": "markdown",
     "checksum": "228652dcea95d4be81211f70c9081c68",
     "grade": false,
     "grade_id": "cell-d51bf84134ade630",
     "locked": true,
     "schema_version": 3,
     "solution": false,
     "task": false
    }
   },
   "source": [
    "### ... for strings"
   ]
  },
  {
   "cell_type": "markdown",
   "metadata": {
    "deletable": false,
    "editable": false,
    "nbgrader": {
     "cell_type": "markdown",
     "checksum": "fd9b5fc8e7fb4abe9d866c1d907929ca",
     "grade": false,
     "grade_id": "cell-7bc8545f845698bd",
     "locked": true,
     "schema_version": 3,
     "solution": false,
     "task": false
    }
   },
   "source": [
    "Upper case"
   ]
  },
  {
   "cell_type": "code",
   "execution_count": null,
   "metadata": {
    "deletable": false,
    "editable": false,
    "nbgrader": {
     "cell_type": "code",
     "checksum": "2cd15517837a57034b10cf9a852e0190",
     "grade": false,
     "grade_id": "cell-62079aca56d237e7",
     "locked": true,
     "schema_version": 3,
     "solution": false,
     "task": false
    }
   },
   "outputs": [],
   "source": [
    "\"Hello world!\".upper()"
   ]
  },
  {
   "cell_type": "markdown",
   "metadata": {
    "deletable": false,
    "editable": false,
    "nbgrader": {
     "cell_type": "markdown",
     "checksum": "33c004dae2b335bb64bc6ab42265d22a",
     "grade": false,
     "grade_id": "cell-28b56f4efd5fe9b6",
     "locked": true,
     "schema_version": 3,
     "solution": false,
     "task": false
    }
   },
   "source": [
    "Lower case"
   ]
  },
  {
   "cell_type": "code",
   "execution_count": null,
   "metadata": {
    "deletable": false,
    "editable": false,
    "nbgrader": {
     "cell_type": "code",
     "checksum": "d509f703d776d278dcb2cb5f99b7a02c",
     "grade": false,
     "grade_id": "cell-835d126d6bafd077",
     "locked": true,
     "schema_version": 3,
     "solution": false,
     "task": false
    }
   },
   "outputs": [],
   "source": [
    "\"Hello world!\".lower()"
   ]
  },
  {
   "cell_type": "markdown",
   "metadata": {
    "deletable": false,
    "editable": false,
    "nbgrader": {
     "cell_type": "markdown",
     "checksum": "8028cbca7d09806dffa775c9b66072fe",
     "grade": false,
     "grade_id": "cell-6b8280a8edd1be0e",
     "locked": true,
     "schema_version": 3,
     "solution": false,
     "task": false
    }
   },
   "source": [
    "Concatenation"
   ]
  },
  {
   "cell_type": "code",
   "execution_count": null,
   "metadata": {
    "deletable": false,
    "editable": false,
    "nbgrader": {
     "cell_type": "code",
     "checksum": "9d00ce842a0c9e851246bb15adfd29a6",
     "grade": false,
     "grade_id": "cell-3bc58981b5359492",
     "locked": true,
     "schema_version": 3,
     "solution": false,
     "task": false
    }
   },
   "outputs": [],
   "source": [
    "\"Hello \" + \"world!\""
   ]
  },
  {
   "cell_type": "markdown",
   "metadata": {
    "deletable": false,
    "editable": false,
    "nbgrader": {
     "cell_type": "markdown",
     "checksum": "de6cd69afd9361ea3cd641f3a5fec4f2",
     "grade": false,
     "grade_id": "cell-67568cb022d23577",
     "locked": true,
     "schema_version": 3,
     "solution": false,
     "task": false
    }
   },
   "source": [
    "Repetition"
   ]
  },
  {
   "cell_type": "code",
   "execution_count": null,
   "metadata": {
    "deletable": false,
    "editable": false,
    "nbgrader": {
     "cell_type": "code",
     "checksum": "a4fc0a2a842370b98a94122bf9f72ba4",
     "grade": false,
     "grade_id": "cell-9834221d401e3291",
     "locked": true,
     "schema_version": 3,
     "solution": false,
     "task": false
    }
   },
   "outputs": [],
   "source": [
    "\"Hello world! \" * 3"
   ]
  },
  {
   "cell_type": "markdown",
   "metadata": {
    "deletable": false,
    "editable": false,
    "nbgrader": {
     "cell_type": "markdown",
     "checksum": "25716b2db57c0eed03640142773e85ad",
     "grade": false,
     "grade_id": "cell-45f23df5e05e3e1b",
     "locked": true,
     "schema_version": 3,
     "solution": false,
     "task": false
    }
   },
   "source": [
    "### ... for booleans\n",
    "\n",
    "Logical Operator | Description\n",
    "--- | ---\n",
    "and | If both the operands are True then condition becomes True.\n",
    "or | If any of the two operands are True then condition becomes True. \n",
    "not | Used to reverse the logical (not False becomes True, not True becomes False)"
   ]
  },
  {
   "cell_type": "code",
   "execution_count": null,
   "metadata": {
    "deletable": false,
    "editable": false,
    "nbgrader": {
     "cell_type": "code",
     "checksum": "4153e2c242f7556b2fba993ea5bbd81e",
     "grade": false,
     "grade_id": "cell-07fe7f4a43ecb69e",
     "locked": true,
     "schema_version": 3,
     "solution": false,
     "task": false
    }
   },
   "outputs": [],
   "source": [
    "True and False"
   ]
  },
  {
   "cell_type": "code",
   "execution_count": null,
   "metadata": {
    "deletable": false,
    "editable": false,
    "nbgrader": {
     "cell_type": "code",
     "checksum": "f84547bcab40c702417f9d65c598f54f",
     "grade": false,
     "grade_id": "cell-c1e48a51490af3ab",
     "locked": true,
     "schema_version": 3,
     "solution": false,
     "task": false
    }
   },
   "outputs": [],
   "source": [
    "True or False"
   ]
  },
  {
   "cell_type": "code",
   "execution_count": null,
   "metadata": {
    "deletable": false,
    "editable": false,
    "nbgrader": {
     "cell_type": "code",
     "checksum": "a675dbaa6daec19370df220b9391cd7b",
     "grade": false,
     "grade_id": "cell-de03d5e2be096dea",
     "locked": true,
     "schema_version": 3,
     "solution": false,
     "task": false
    }
   },
   "outputs": [],
   "source": [
    "not True"
   ]
  },
  {
   "cell_type": "markdown",
   "metadata": {
    "deletable": false,
    "nbgrader": {
     "cell_type": "markdown",
     "checksum": "773811e85ccaefb0ff3baf356a9a5e2e",
     "grade": true,
     "grade_id": "cell-4768a22d8ee7e324",
     "locked": false,
     "points": 0,
     "schema_version": 3,
     "solution": true,
     "task": false
    }
   },
   "source": [
    "<div class=\"alert alert-info\">\n",
    "<b>Instruction:</b> What are the type and values of the following expressions ?\n",
    "</div>\n",
    "\n",
    "```python\n",
    "3 < 2\n",
    "```\n",
    "\n",
    "\n",
    "YOUR ANSWER HERE\n",
    "\n",
    "```python\n",
    "not False\n",
    "```\n",
    "\n",
    "YOUR ANSWER HERE\n",
    "\n",
    "```python\n",
    "(3 < 2) or (not False)\n",
    "```\n",
    "\n",
    "YOUR ANSWER HERE"
   ]
  },
  {
   "cell_type": "markdown",
   "metadata": {
    "deletable": false,
    "editable": false,
    "nbgrader": {
     "cell_type": "markdown",
     "checksum": "a4d588ee91e488a49965238bbd3220ce",
     "grade": false,
     "grade_id": "cell-2e3c4a36dfdf8e68",
     "locked": true,
     "schema_version": 3,
     "solution": false,
     "task": false
    }
   },
   "source": [
    "## 3. Variables and assignments\n",
    "\n",
    "In Python, you can assign a value to a variable using the `=` operator. \n",
    "\n",
    "A variable is a container that stores a value.\n",
    "\n",
    "<div class=\"alert alert-warning\">\n",
    "⚠️ Be careful not to confuse the `=` operator with the `==` operator. The first one is used to assign a value to a variable, while the second one is used to check if two values are equal.\n",
    "</div>\n",
    "\n",
    "A variable can be named as you want, but there are some rules to follow:\n",
    "\n",
    "- Variable names must start with a letter or an underscore `_`,\n",
    "- Variable names can only contain letters, numbers and underscores,\n",
    "- Variable names are case sensitive.\n",
    "\n",
    "<div class=\"alert alert-info\">\n",
    "<b>Instruction:</b> Create a variable named `my_variable` and assign it the value 42 (int).\n",
    "</div>"
   ]
  },
  {
   "cell_type": "code",
   "execution_count": null,
   "metadata": {
    "deletable": false,
    "nbgrader": {
     "cell_type": "code",
     "checksum": "24076c1bf838ac0db2074bd4347f54aa",
     "grade": false,
     "grade_id": "cell-8108190acb4785a1",
     "locked": false,
     "schema_version": 3,
     "solution": true,
     "task": false
    }
   },
   "outputs": [],
   "source": [
    "# YOUR CODE HERE\n",
    "raise NotImplementedError()"
   ]
  },
  {
   "cell_type": "code",
   "execution_count": null,
   "metadata": {
    "deletable": false,
    "editable": false,
    "nbgrader": {
     "cell_type": "code",
     "checksum": "c9838518b62164000a5f0e989fc7d7b2",
     "grade": true,
     "grade_id": "cell-e7567a9ae4b3b7c6",
     "locked": true,
     "points": 1,
     "schema_version": 3,
     "solution": false,
     "task": false
    }
   },
   "outputs": [],
   "source": []
  },
  {
   "cell_type": "markdown",
   "metadata": {
    "deletable": false,
    "editable": false,
    "nbgrader": {
     "cell_type": "markdown",
     "checksum": "26ea88012f9b56579a91ed159e72c3b5",
     "grade": false,
     "grade_id": "cell-e85e416412f28c39",
     "locked": true,
     "schema_version": 3,
     "solution": false,
     "task": false
    }
   },
   "source": [
    "Now you assigned a value to the variable `my_variable` variable, you can use it in your code.\n",
    "\n",
    "<div class=\"alert alert-info\">\n",
    "<b>Instruction:</b> Display the value of `my_variable` and its type.\n",
    "</div>"
   ]
  },
  {
   "cell_type": "code",
   "execution_count": null,
   "metadata": {
    "deletable": false,
    "nbgrader": {
     "cell_type": "code",
     "checksum": "1c234cddfa784c48c9e0cd2a52c49a14",
     "grade": true,
     "grade_id": "cell-d3a28becf6d4f713",
     "locked": false,
     "points": 1,
     "schema_version": 3,
     "solution": true,
     "task": false
    }
   },
   "outputs": [],
   "source": [
    "# YOUR CODE HERE\n",
    "raise NotImplementedError()"
   ]
  },
  {
   "cell_type": "markdown",
   "metadata": {
    "deletable": false,
    "editable": false,
    "nbgrader": {
     "cell_type": "markdown",
     "checksum": "79b7a1d01ef8805874e89010a84a55cd",
     "grade": false,
     "grade_id": "cell-2baa73ea26b0b617",
     "locked": true,
     "schema_version": 3,
     "solution": false,
     "task": false
    }
   },
   "source": [
    "<div class=\"alert alert-info\">\n",
    "<b>Instruction:</b> Create a variable named my_variable_2 and assign it the value of my_variable multiplied by 2.\n",
    "</div>"
   ]
  },
  {
   "cell_type": "code",
   "execution_count": null,
   "metadata": {
    "deletable": false,
    "nbgrader": {
     "cell_type": "code",
     "checksum": "7d1888894d9253337151acde9a7518d1",
     "grade": true,
     "grade_id": "cell-e38275fd2d0a8170",
     "locked": false,
     "points": 1,
     "schema_version": 3,
     "solution": true,
     "task": false
    }
   },
   "outputs": [],
   "source": [
    "# YOUR CODE HERE\n",
    "raise NotImplementedError()"
   ]
  },
  {
   "cell_type": "markdown",
   "metadata": {
    "deletable": false,
    "editable": false,
    "nbgrader": {
     "cell_type": "markdown",
     "checksum": "a4f648f30f2d042a58cb70fe01f273da",
     "grade": false,
     "grade_id": "cell-235b35ce94e3d3ad",
     "locked": true,
     "schema_version": 3,
     "solution": false,
     "task": false
    }
   },
   "source": [
    "<div class=\"alert alert-warning\">\n",
    "⚠️ It is common that students get confused with variables in Jupyter Notebook, because code cells can be run in any order, and even multiple times. Look at the example below and explain why the value of `my_variable_3` is changing every time you execute the cell.\n",
    "</div>"
   ]
  },
  {
   "cell_type": "code",
   "execution_count": null,
   "metadata": {
    "deletable": false,
    "editable": false,
    "nbgrader": {
     "cell_type": "code",
     "checksum": "bebfd5910d9682ae9028fc5abec76bb6",
     "grade": false,
     "grade_id": "cell-d8bda9fe91566198",
     "locked": true,
     "schema_version": 3,
     "solution": false,
     "task": false
    }
   },
   "outputs": [],
   "source": [
    "# Initialization\n",
    "u_n = 0"
   ]
  },
  {
   "cell_type": "code",
   "execution_count": null,
   "metadata": {
    "deletable": false,
    "editable": false,
    "nbgrader": {
     "cell_type": "code",
     "checksum": "69a8bef2a5d2cf622948b5d6bab9d1fa",
     "grade": false,
     "grade_id": "cell-413463eb36d3ba77",
     "locked": true,
     "schema_version": 3,
     "solution": false,
     "task": false
    }
   },
   "outputs": [],
   "source": [
    "\n",
    "u_n = 5 + u_n\n",
    "print(u_n)\n"
   ]
  },
  {
   "cell_type": "markdown",
   "metadata": {
    "deletable": false,
    "editable": false,
    "nbgrader": {
     "cell_type": "markdown",
     "checksum": "6c23614837f11ba27c6f695ae5dd0ceb",
     "grade": false,
     "grade_id": "cell-f462f0cde53797aa",
     "locked": true,
     "schema_version": 3,
     "solution": false,
     "task": false
    }
   },
   "source": [
    "Now you know how to assign, retrieve, and use a value that was stored into a variable."
   ]
  },
  {
   "cell_type": "markdown",
   "metadata": {
    "deletable": false,
    "editable": false,
    "nbgrader": {
     "cell_type": "markdown",
     "checksum": "a640d761d98fd51227518f0e7a5016a0",
     "grade": false,
     "grade_id": "cell-830f95cb39b0498c",
     "locked": true,
     "schema_version": 3,
     "solution": false,
     "task": false
    }
   },
   "source": [
    "## 4. Control structures\n",
    "\n",
    "### 4.1 Conditional structures\n",
    "\n",
    "In Python, you can use the `if` statement to execute a block of code only if a condition is `True`.\n",
    "\n",
    "```python\n",
    "if condition:\n",
    "    # code to execute if condition is True\n",
    "```\n",
    "\n",
    "You can also use the `else` statement to execute a block of code if the condition is `False`.\n",
    "\n",
    "```python\n",
    "if condition:\n",
    "    # code to execute if condition is True\n",
    "else:\n",
    "    # code to execute if condition is False\n",
    "```\n",
    "\n",
    "Finally, you can use the `elif` statement to execute a block of code if the first condition is `False` and the second condition is `True`.\n",
    "\n",
    "```python\n",
    "if condition_1:\n",
    "    # code to execute if condition_1 is True\n",
    "elif condition_2:\n",
    "    # code to execute if condition_2 is True\n",
    "else:\n",
    "    # code to execute if condition_1 and condition_2 are False\n",
    "```\n",
    "\n",
    "<div class=\"alert alert-warning\">\n",
    "⚠️ In python, code blocks are defined by their indentation. An indentation is made of 4 spaces, and you can use the `Tab` key to create one.\n",
    "As a rule of thumb, you should always ident your code after a `:`.\n",
    "If the identation is not respected, you will get an `IndentationError`.\n",
    "</div>\n",
    "\n",
    "<div class=\"alert alert-info\">\n",
    "<b>Instruction:</b> Create a variable named `my_age` and assign it the value of your age (in years). Then, create a conditional structure that displays \"You are eligible to a youth discount\" if your age is lower or equal to 26, display \"You are not eligible to a discount\" if your age is greater than 26 and lower or equal to 65, and display \"You are eligible to a senior discount\" if your age is greater than 65. "
   ]
  },
  {
   "cell_type": "code",
   "execution_count": null,
   "metadata": {
    "deletable": false,
    "nbgrader": {
     "cell_type": "code",
     "checksum": "3aa790da32008490087692e3a9e08595",
     "grade": true,
     "grade_id": "cell-3f2214963d09110d",
     "locked": false,
     "points": 1,
     "schema_version": 3,
     "solution": true,
     "task": false
    }
   },
   "outputs": [],
   "source": [
    "# Create my_age variable and assign your age to it\n",
    "# YOUR CODE HERE\n",
    "raise NotImplementedError()"
   ]
  },
  {
   "cell_type": "code",
   "execution_count": null,
   "metadata": {
    "deletable": false,
    "nbgrader": {
     "cell_type": "code",
     "checksum": "91c491e5967d58234986817b4f480180",
     "grade": true,
     "grade_id": "cell-3805e6169aa62780",
     "locked": false,
     "points": 2,
     "schema_version": 3,
     "solution": true,
     "task": false
    }
   },
   "outputs": [],
   "source": [
    "# Create the conditional structure below\n",
    "# YOUR CODE HERE\n",
    "raise NotImplementedError()"
   ]
  },
  {
   "cell_type": "markdown",
   "metadata": {
    "deletable": false,
    "editable": false,
    "nbgrader": {
     "cell_type": "markdown",
     "checksum": "80dd12fd8222f3b2d80e9c88ef9ab86c",
     "grade": false,
     "grade_id": "cell-4e6ca78f268fd938",
     "locked": true,
     "schema_version": 3,
     "solution": false,
     "task": false
    }
   },
   "source": [
    "### 4.2 Types of data structure\n",
    "\n",
    "In Python, you can use different types of data structures to store multiple values.\n",
    "\n",
    "### 4.2.1 Lists\n",
    "\n",
    "A list is a collection of values that can be of different types. You can create a list by using square brackets `[]` and separating values with commas `,`."
   ]
  },
  {
   "cell_type": "code",
   "execution_count": null,
   "metadata": {
    "deletable": false,
    "editable": false,
    "nbgrader": {
     "cell_type": "code",
     "checksum": "0ca2811141f38cfbbd0a1d6196ffb864",
     "grade": false,
     "grade_id": "cell-9fefcbabd7bdabce",
     "locked": true,
     "schema_version": 3,
     "solution": false,
     "task": false
    }
   },
   "outputs": [],
   "source": [
    "my_list = [\"Hello\", \"world\", 42, 3.14, True]"
   ]
  },
  {
   "cell_type": "markdown",
   "metadata": {
    "deletable": false,
    "editable": false,
    "nbgrader": {
     "cell_type": "markdown",
     "checksum": "04daaa13d20818a72e56854cedbae445",
     "grade": false,
     "grade_id": "cell-61009126a816b724",
     "locked": true,
     "schema_version": 3,
     "solution": false,
     "task": false
    }
   },
   "source": [
    "You can access a value in a list by using its index. The index of a list starts at 0."
   ]
  },
  {
   "cell_type": "code",
   "execution_count": null,
   "metadata": {
    "deletable": false,
    "editable": false,
    "nbgrader": {
     "cell_type": "code",
     "checksum": "adfeb2573bd5bcb1804dd86e93350624",
     "grade": false,
     "grade_id": "cell-d882ac84b39ea355",
     "locked": true,
     "schema_version": 3,
     "solution": false,
     "task": false
    }
   },
   "outputs": [],
   "source": [
    "my_list[0]"
   ]
  },
  {
   "cell_type": "code",
   "execution_count": null,
   "metadata": {
    "deletable": false,
    "editable": false,
    "nbgrader": {
     "cell_type": "code",
     "checksum": "93f3e019cb5ffdc6c2753c2f03fb5f26",
     "grade": false,
     "grade_id": "cell-4c9c9b0c78346a6a",
     "locked": true,
     "schema_version": 3,
     "solution": false,
     "task": false
    }
   },
   "outputs": [],
   "source": [
    "my_list[4]"
   ]
  },
  {
   "cell_type": "code",
   "execution_count": null,
   "metadata": {
    "deletable": false,
    "editable": false,
    "nbgrader": {
     "cell_type": "code",
     "checksum": "d01ce4fed4a400190788027503d5d05b",
     "grade": false,
     "grade_id": "cell-89e619466fc72714",
     "locked": true,
     "schema_version": 3,
     "solution": false,
     "task": false
    }
   },
   "outputs": [],
   "source": [
    "my_list[5]"
   ]
  },
  {
   "cell_type": "markdown",
   "metadata": {
    "deletable": false,
    "nbgrader": {
     "cell_type": "markdown",
     "checksum": "b598b0d2761f8d2918c25453b498fb5d",
     "grade": true,
     "grade_id": "cell-4de4d365db4b8a24",
     "locked": false,
     "points": 1,
     "schema_version": 3,
     "solution": true,
     "task": false
    }
   },
   "source": [
    "<div class=\"alert alert-info\">\n",
    "<b>Instruction:</b> Why my_list[5] raised an error ?\n",
    "</div>\n",
    "\n",
    "YOUR ANSWER HERE"
   ]
  },
  {
   "cell_type": "markdown",
   "metadata": {
    "deletable": false,
    "editable": false,
    "nbgrader": {
     "cell_type": "markdown",
     "checksum": "996e356f0e1fffb59173e53a2ceab6f5",
     "grade": false,
     "grade_id": "cell-1801799cd8a42dbe",
     "locked": true,
     "schema_version": 3,
     "solution": false,
     "task": false
    }
   },
   "source": [
    "You can also use negative indexes to access values from the end of the list."
   ]
  },
  {
   "cell_type": "code",
   "execution_count": null,
   "metadata": {
    "deletable": false,
    "editable": false,
    "nbgrader": {
     "cell_type": "code",
     "checksum": "094ec4977254a45bfc991972aedce558",
     "grade": false,
     "grade_id": "cell-5e2916e76599d8c8",
     "locked": true,
     "schema_version": 3,
     "solution": false,
     "task": false
    }
   },
   "outputs": [],
   "source": [
    "my_list[-1]"
   ]
  },
  {
   "cell_type": "markdown",
   "metadata": {
    "deletable": false,
    "editable": false,
    "nbgrader": {
     "cell_type": "markdown",
     "checksum": "b448eef38be16ec5eafa4312ea3954df",
     "grade": false,
     "grade_id": "cell-90eb7c7a98bec8f3",
     "locked": true,
     "schema_version": 3,
     "solution": false,
     "task": false
    }
   },
   "source": [
    "The `len()` function allows you to know the length of a list."
   ]
  },
  {
   "cell_type": "code",
   "execution_count": null,
   "metadata": {
    "deletable": false,
    "editable": false,
    "nbgrader": {
     "cell_type": "code",
     "checksum": "e7d2b96f1d6aacef20b7817ff008ad62",
     "grade": false,
     "grade_id": "cell-d85b4d21607324e0",
     "locked": true,
     "schema_version": 3,
     "solution": false,
     "task": false
    }
   },
   "outputs": [],
   "source": [
    "len(my_list)"
   ]
  },
  {
   "cell_type": "markdown",
   "metadata": {
    "deletable": false,
    "editable": false,
    "nbgrader": {
     "cell_type": "markdown",
     "checksum": "5760f6017eea2954e422e13e53fdc4ba",
     "grade": false,
     "grade_id": "cell-00fea6f01f45205b",
     "locked": true,
     "schema_version": 3,
     "solution": false,
     "task": false
    }
   },
   "source": [
    "### 4.2.2 Dictionaries\n",
    "\n",
    "A dictionary is a collection of key-value pairs. You can create a dictionary by using curly brackets `{}` and separating key-value pairs with commas `,`. The key and the value are separated by a colon `:`.\n",
    "\n",
    "You can access a value in a dictionary by using its key, that can be numbers or strings: `my_dict[key]`.\n",
    "\n",
    "In the example below, let's create a fake telephone numbers' dictionary."
   ]
  },
  {
   "cell_type": "code",
   "execution_count": null,
   "metadata": {
    "deletable": false,
    "editable": false,
    "nbgrader": {
     "cell_type": "code",
     "checksum": "bbfc20a0e0e62e20e9c18af8225002f5",
     "grade": false,
     "grade_id": "cell-aa853a2984d48065",
     "locked": true,
     "schema_version": 3,
     "solution": false,
     "task": false
    }
   },
   "outputs": [],
   "source": [
    "# Create a list\n",
    "my_dict = {}\n",
    "\n",
    "## Assign a key-value pair to the dictionary\n",
    "my_dict[\"John\"] = \"+49 123456789\"\n",
    "my_dict[\"Jane\"] = \"+49 987654321\""
   ]
  },
  {
   "cell_type": "markdown",
   "metadata": {
    "deletable": false,
    "editable": false,
    "nbgrader": {
     "cell_type": "markdown",
     "checksum": "404448633f23e5063d88adde46cd2d5c",
     "grade": false,
     "grade_id": "cell-372b1a67937bd2d2",
     "locked": true,
     "schema_version": 3,
     "solution": false,
     "task": false
    }
   },
   "source": [
    "Display the dictionary using the `print()` function."
   ]
  },
  {
   "cell_type": "code",
   "execution_count": null,
   "metadata": {
    "deletable": false,
    "nbgrader": {
     "cell_type": "code",
     "checksum": "a3267bf1480280519761cdb8629dba76",
     "grade": true,
     "grade_id": "cell-6a288a78835435ce",
     "locked": false,
     "points": 1,
     "schema_version": 3,
     "solution": true,
     "task": false
    }
   },
   "outputs": [],
   "source": [
    "# YOUR CODE HERE\n",
    "raise NotImplementedError()\n"
   ]
  },
  {
   "cell_type": "markdown",
   "metadata": {
    "deletable": false,
    "editable": false,
    "nbgrader": {
     "cell_type": "markdown",
     "checksum": "eb5e37680ae58c0a0193e91f20649a4d",
     "grade": false,
     "grade_id": "cell-15de15485463a7d0",
     "locked": true,
     "schema_version": 3,
     "solution": false,
     "task": false
    }
   },
   "source": [
    "<div class=\"alert alert-info\"\n",
    "<b>Instruction:</b> Access the value of the key \"Jane\" and check if its type is a string using the type() function and the `==` operator.\n",
    "</div>"
   ]
  },
  {
   "cell_type": "code",
   "execution_count": null,
   "metadata": {
    "deletable": false,
    "nbgrader": {
     "cell_type": "code",
     "checksum": "37bd146021951e85710a4f70735e491d",
     "grade": true,
     "grade_id": "cell-4c137e09861f09bd",
     "locked": false,
     "points": 1,
     "schema_version": 3,
     "solution": true,
     "task": false
    }
   },
   "outputs": [],
   "source": [
    "# YOUR CODE HERE\n",
    "raise NotImplementedError()"
   ]
  },
  {
   "cell_type": "markdown",
   "metadata": {
    "deletable": false,
    "editable": false,
    "nbgrader": {
     "cell_type": "markdown",
     "checksum": "01ddf1d341d0429851eb24fc1fb7e569",
     "grade": false,
     "grade_id": "cell-7229da304c2851f8",
     "locked": true,
     "schema_version": 3,
     "solution": false,
     "task": false
    }
   },
   "source": [
    "Now you know two types of data structures and can be used to store and retrieve multiple values."
   ]
  },
  {
   "cell_type": "markdown",
   "metadata": {
    "deletable": false,
    "editable": false,
    "nbgrader": {
     "cell_type": "markdown",
     "checksum": "64e8f92cd87371904c49c9001be87916",
     "grade": false,
     "grade_id": "cell-83e3dab459b8ee68",
     "locked": true,
     "schema_version": 3,
     "solution": false,
     "task": false
    }
   },
   "source": [
    "### 4.3 Loops\n",
    "\n",
    "In Python, you can use loops to execute a block of code multiple times. There are two types of loops: `for` and `while`.\n",
    "\n",
    "### 4.3.1 For loop\n",
    "\n",
    "You can use a `for` loop to iterate over a sequence of values. The syntax is the following:\n",
    "\n",
    "```python\n",
    "for value in sequence:\n",
    "    # code to execute for each value in the sequence\n",
    "```\n",
    "\n",
    "In the example below, let's create a list of names and display each name using a `for` loop.\n"
   ]
  },
  {
   "cell_type": "code",
   "execution_count": null,
   "metadata": {
    "deletable": false,
    "editable": false,
    "nbgrader": {
     "cell_type": "code",
     "checksum": "0f22e83161e093de37f057e99b3666f9",
     "grade": false,
     "grade_id": "cell-69de9cb62362dff5",
     "locked": true,
     "schema_version": 3,
     "solution": false,
     "task": false
    }
   },
   "outputs": [],
   "source": [
    "names = [\"Alice\", \"Bob\", \"Charlie\", \"David\", \"Eve\"]\n",
    "\n",
    "for name in names:\n",
    "    print(name)"
   ]
  },
  {
   "cell_type": "markdown",
   "metadata": {
    "deletable": false,
    "editable": false,
    "nbgrader": {
     "cell_type": "markdown",
     "checksum": "d421404380d2901e44ca9cae51b46429",
     "grade": false,
     "grade_id": "cell-1bfabb22ee8b310a",
     "locked": true,
     "schema_version": 3,
     "solution": false,
     "task": false
    }
   },
   "source": [
    "The function `range()` is very useful to create a sequence of numbers. You can use it with one, two, or three arguments.\n",
    "\n",
    "```python\n",
    "range(stop) # create a sequence from 0 to (stop - 1)\n",
    "range(start, stop) # create a sequence from start to (stop - 1)\n",
    "range(start, stop, step) # create a sequence from start to (stop - 1) with a step\n",
    "```"
   ]
  },
  {
   "cell_type": "code",
   "execution_count": null,
   "metadata": {
    "deletable": false,
    "editable": false,
    "nbgrader": {
     "cell_type": "code",
     "checksum": "52b7637caa3e1e8440e46f0a8f31c5e0",
     "grade": false,
     "grade_id": "cell-4490d53a28d65ee0",
     "locked": true,
     "schema_version": 3,
     "solution": false,
     "task": false
    }
   },
   "outputs": [],
   "source": [
    "for i in range(5):\n",
    "    print(i)"
   ]
  },
  {
   "cell_type": "code",
   "execution_count": null,
   "metadata": {
    "deletable": false,
    "editable": false,
    "nbgrader": {
     "cell_type": "code",
     "checksum": "233a62d5a526095ac38aa730d00a52c4",
     "grade": false,
     "grade_id": "cell-a7355289656adce5",
     "locked": true,
     "schema_version": 3,
     "solution": false,
     "task": false
    }
   },
   "outputs": [],
   "source": [
    "for i in range(3, 8):\n",
    "    print(i)"
   ]
  },
  {
   "cell_type": "markdown",
   "metadata": {
    "deletable": false,
    "editable": false,
    "nbgrader": {
     "cell_type": "markdown",
     "checksum": "31a680167e635ff124f0189a745b6b47",
     "grade": false,
     "grade_id": "cell-ab12bd59900bcb58",
     "locked": true,
     "schema_version": 3,
     "solution": false,
     "task": false
    }
   },
   "source": [
    "<div class=\"alert alert-info\">\n",
    "<b>Instruction:</b> Create a `for` loop that displays all <b>even numbers</b> comprise between 0 and 100 included, in ascending order.\n",
    "</div>"
   ]
  },
  {
   "cell_type": "code",
   "execution_count": null,
   "metadata": {
    "deletable": false,
    "nbgrader": {
     "cell_type": "code",
     "checksum": "394964ae04b830e39daf9c40e28ac745",
     "grade": true,
     "grade_id": "cell-0236c1d73a206c2a",
     "locked": false,
     "points": 1,
     "schema_version": 3,
     "solution": true,
     "task": false
    }
   },
   "outputs": [],
   "source": [
    "# YOUR CODE HERE\n",
    "raise NotImplementedError()"
   ]
  },
  {
   "cell_type": "markdown",
   "metadata": {
    "deletable": false,
    "editable": false,
    "nbgrader": {
     "cell_type": "markdown",
     "checksum": "2e272ff1b1fe5de4751ca762d47f16b1",
     "grade": false,
     "grade_id": "cell-89c2131db58b0fdc",
     "locked": true,
     "schema_version": 3,
     "solution": false,
     "task": false
    }
   },
   "source": [
    "<div class=\"alert alert-info\">\n",
    "<b>Instruction:</b> Create a `for` loop that displays numbers that are multiples of 3 and comprise between 0 and 100 included, in descending order.\n",
    "</div>"
   ]
  },
  {
   "cell_type": "code",
   "execution_count": null,
   "metadata": {
    "deletable": false,
    "nbgrader": {
     "cell_type": "code",
     "checksum": "165eab96d8ffaf390634fe6b4d38523c",
     "grade": true,
     "grade_id": "cell-a3017beccb95f998",
     "locked": false,
     "points": 0,
     "schema_version": 3,
     "solution": true,
     "task": false
    }
   },
   "outputs": [],
   "source": [
    "# YOUR CODE HERE\n",
    "raise NotImplementedError()"
   ]
  },
  {
   "cell_type": "markdown",
   "metadata": {
    "deletable": false,
    "editable": false,
    "nbgrader": {
     "cell_type": "markdown",
     "checksum": "8d81e7b5d71688b0693595b351aadcd3",
     "grade": false,
     "grade_id": "cell-0febe357a9a4262b",
     "locked": true,
     "schema_version": 3,
     "solution": false,
     "task": false
    }
   },
   "source": [
    "### 4.3.2 While loop\n",
    "\n",
    "You can use a `while` loop to execute a block of code as long as a condition is `True`. The syntax is the following:\n",
    "\n",
    "```python\n",
    "while condition:\n",
    "    # code to execute as long as the condition is True\n",
    "```\n",
    "\n",
    "A `while` loop can be strictly equivalent to a `for` loop, as shown in the example below, but it is less used in Python. "
   ]
  },
  {
   "cell_type": "code",
   "execution_count": null,
   "metadata": {
    "deletable": false,
    "editable": false,
    "nbgrader": {
     "cell_type": "code",
     "checksum": "88215ddd5d42bc36c86062ff713c6479",
     "grade": false,
     "grade_id": "cell-8b331b76d3fb1dd5",
     "locked": true,
     "schema_version": 3,
     "solution": false,
     "task": false
    }
   },
   "outputs": [],
   "source": [
    "i = 0\n",
    "while i < 5:\n",
    "    print(i)\n",
    "    i += 1"
   ]
  },
  {
   "cell_type": "markdown",
   "metadata": {
    "deletable": false,
    "editable": false,
    "nbgrader": {
     "cell_type": "markdown",
     "checksum": "f717fab1e0ff0b159156071ff790884f",
     "grade": false,
     "grade_id": "cell-6064c25b0b8925d5",
     "locked": true,
     "schema_version": 3,
     "solution": false,
     "task": false
    }
   },
   "source": [
    "<div class=\"alert alert-info\">\n",
    "<b>Instruction:</b> Create a `while` loop that displays all <b>even numbers</b> comprise between 0 and 100 included, in ascending order.\n",
    "</div>"
   ]
  },
  {
   "cell_type": "code",
   "execution_count": null,
   "metadata": {
    "deletable": false,
    "nbgrader": {
     "cell_type": "code",
     "checksum": "a93cd5396a4aa14049ebd4a346f26618",
     "grade": true,
     "grade_id": "cell-7c340dc3fd86c33f",
     "locked": false,
     "points": 1,
     "schema_version": 3,
     "solution": true,
     "task": false
    }
   },
   "outputs": [],
   "source": [
    "# YOUR CODE HERE\n",
    "raise NotImplementedError()"
   ]
  },
  {
   "cell_type": "markdown",
   "metadata": {
    "deletable": false,
    "editable": false,
    "nbgrader": {
     "cell_type": "markdown",
     "checksum": "5fb2dc7e889d8492f7063688c8754044",
     "grade": false,
     "grade_id": "cell-9ad5a2e186b9e6a5",
     "locked": true,
     "schema_version": 3,
     "solution": false,
     "task": false
    }
   },
   "source": [
    "<div class=\"alert alert-info\">\n",
    "<b>Instruction:</b> Create a `while` loop that displays all numbers that are multiples of 3 and comprise between 0 and 100 included, in descending order.\n",
    "</div>"
   ]
  },
  {
   "cell_type": "code",
   "execution_count": null,
   "metadata": {
    "deletable": false,
    "nbgrader": {
     "cell_type": "code",
     "checksum": "3da59cd274622df335d4eaab0c6a4bef",
     "grade": true,
     "grade_id": "cell-43d8b947a5f5fcfb",
     "locked": false,
     "points": 1,
     "schema_version": 3,
     "solution": true,
     "task": false
    }
   },
   "outputs": [],
   "source": [
    "# YOUR CODE HERE\n",
    "raise NotImplementedError()"
   ]
  },
  {
   "cell_type": "markdown",
   "metadata": {
    "deletable": false,
    "editable": false,
    "nbgrader": {
     "cell_type": "markdown",
     "checksum": "ef2081eb7b6e56634aa7cf4c6596de9e",
     "grade": false,
     "grade_id": "cell-37738d26cab2f81c",
     "locked": true,
     "schema_version": 3,
     "solution": false,
     "task": false
    }
   },
   "source": [
    "<div class=\"alert alert-info\">\n",
    "<b>Instruction:</b> Below is a list of names. Create a `while` loop that iterate over the list and display each name until the name \"Jane\" is found.\n",
    "</div>"
   ]
  },
  {
   "cell_type": "code",
   "execution_count": null,
   "metadata": {
    "deletable": false,
    "editable": false,
    "nbgrader": {
     "cell_type": "code",
     "checksum": "aed1a51652a0700a587ceb984990f8b3",
     "grade": false,
     "grade_id": "cell-ab0a45904e480be5",
     "locked": true,
     "schema_version": 3,
     "solution": false,
     "task": false
    }
   },
   "outputs": [],
   "source": [
    "names = [\"Alice\", \"Bob\", \"Charlie\", \"David\", \"Eve\", \"Frank\", \"Grace\", \"Helen\", \"Isaac\", \"Jane\", \"Karl\", \"Linda\", \"Mary\", \"Nathan\", \"Olivia\", \"Peter\", \"Quinn\", \"Rachel\", \"Steve\", \"Tom\", \"Ursula\", \"Victor\", \"Wendy\", \"Xavier\", \"Yvonne\", \"Zach\"]"
   ]
  },
  {
   "cell_type": "code",
   "execution_count": null,
   "metadata": {},
   "outputs": [],
   "source": [
    "for i in range(len(names)):\n",
    "    print(names[i])\n",
    "    if names[i] != \"Jane\":\n",
    "        print(names[i])\n",
    "        break"
   ]
  },
  {
   "cell_type": "code",
   "execution_count": null,
   "metadata": {
    "deletable": false,
    "nbgrader": {
     "cell_type": "code",
     "checksum": "4b1edde9193c835505fd4a90eb357572",
     "grade": true,
     "grade_id": "cell-d4f9af6a7332cadf",
     "locked": false,
     "points": 2,
     "schema_version": 3,
     "solution": true,
     "task": false
    }
   },
   "outputs": [],
   "source": [
    "# YOUR CODE HERE\n",
    "raise NotImplementedError()"
   ]
  },
  {
   "cell_type": "code",
   "execution_count": null,
   "metadata": {},
   "outputs": [],
   "source": [
    "for v in names:\n",
    "    print(v)\n",
    "    if v == \"Jane\":\n",
    "        break"
   ]
  },
  {
   "cell_type": "code",
   "execution_count": null,
   "metadata": {},
   "outputs": [],
   "source": [
    "i = 0\n",
    "while names[i] != \"Jane\":\n",
    "    print(names[i])\n",
    "    i += 1\n",
    "print(names[i])"
   ]
  },
  {
   "cell_type": "markdown",
   "metadata": {
    "deletable": false,
    "editable": false,
    "nbgrader": {
     "cell_type": "markdown",
     "checksum": "a14ad6d0eaee5fbf326771d624d792b2",
     "grade": false,
     "grade_id": "cell-7d523db98dadb941",
     "locked": true,
     "schema_version": 3,
     "solution": false,
     "task": false
    }
   },
   "source": [
    "## 5. Functions\n",
    "\n",
    "In Python, you can define a function to execute a block of code. A function encapsulates a fragment of code into a variable that can be called multiple times.\n",
    "\n",
    "You can define a function by using the `def` keyword followed by the function name and its parameters, also called arguments. The function name must follow the same rules as variable names.\n",
    "\n",
    "```python\n",
    "def my_function(parameter_1, parameter_2, ...):\n",
    "    # code to execute\n",
    "    return value\n",
    "```\n",
    "\n",
    "Let's see an example of a function that returns the sum of two numbers.\n"
   ]
  },
  {
   "cell_type": "code",
   "execution_count": null,
   "metadata": {
    "deletable": false,
    "editable": false,
    "nbgrader": {
     "cell_type": "code",
     "checksum": "8e3b25f2601b6293b39cc100828f90a4",
     "grade": false,
     "grade_id": "cell-842c857127d17097",
     "locked": true,
     "schema_version": 3,
     "solution": false,
     "task": false
    }
   },
   "outputs": [],
   "source": [
    "def add(x, y):\n",
    "    return x + y"
   ]
  },
  {
   "cell_type": "markdown",
   "metadata": {
    "deletable": false,
    "editable": false,
    "nbgrader": {
     "cell_type": "markdown",
     "checksum": "45f7043ecbd38ff7aa82c131725e1c58",
     "grade": false,
     "grade_id": "cell-83f6592f63198204",
     "locked": true,
     "schema_version": 3,
     "solution": false,
     "task": false
    }
   },
   "source": [
    "After defining a function, you can call it by using its name and passing arguments."
   ]
  },
  {
   "cell_type": "code",
   "execution_count": null,
   "metadata": {
    "deletable": false,
    "editable": false,
    "nbgrader": {
     "cell_type": "code",
     "checksum": "3c89a9d7bb8c26335772601d1f3cabbd",
     "grade": false,
     "grade_id": "cell-8d0544beb7e9258c",
     "locked": true,
     "schema_version": 3,
     "solution": false,
     "task": false
    }
   },
   "outputs": [],
   "source": [
    "add(4, 3)"
   ]
  },
  {
   "cell_type": "markdown",
   "metadata": {
    "deletable": false,
    "nbgrader": {
     "cell_type": "markdown",
     "checksum": "a149069e5ff2952123e0aaf1948c1fd4",
     "grade": true,
     "grade_id": "cell-e113d689a177e910",
     "locked": false,
     "points": 1,
     "schema_version": 3,
     "solution": true,
     "task": false
    }
   },
   "source": [
    "<div class=\"alert alert-info\">\n",
    "<b>Instruction:</b> What is the type of the function's arguments? What is the type returned by the function?\n",
    "</div>\n",
    "\n",
    "YOUR ANSWER HERE"
   ]
  },
  {
   "cell_type": "markdown",
   "metadata": {
    "deletable": false,
    "editable": false,
    "nbgrader": {
     "cell_type": "markdown",
     "checksum": "6ffff321cedf936bb027864df2e0b1e9",
     "grade": false,
     "grade_id": "cell-7d0b1aeb456669ab",
     "locked": true,
     "schema_version": 3,
     "solution": false,
     "task": false
    }
   },
   "source": [
    "Types can be optionally specified in Python, but it is a good practice to do so. You can specify the type of the arguments and the return value by using the `->` operator.\n",
    "\n",
    "Using the example above, the header would become:\n",
    "\n",
    "```python\n",
    "def add(x: int, y: int) -> int:\n",
    "    # code to execute\n",
    "    return value\n",
    "```"
   ]
  },
  {
   "cell_type": "markdown",
   "metadata": {
    "deletable": false,
    "editable": false,
    "nbgrader": {
     "cell_type": "markdown",
     "checksum": "52685be8969e838cf7a5dd043e4c9638",
     "grade": false,
     "grade_id": "cell-f87de1680a6d7784",
     "locked": true,
     "schema_version": 3,
     "solution": false,
     "task": false
    }
   },
   "source": [
    "It is also a good practice to document your function by using a docstring. A docstring is a string that describes what the function does. It is placed between triple quotes `\"\"\"`.\n",
    "\n",
    "```python\n",
    "def add(x: int, y: int) -> int:\n",
    "    \"\"\"\n",
    "    This function returns the sum of two integers.\n",
    "\n",
    "    Parameters:\n",
    "        x (int): the first integer\n",
    "        y (int): the second integer\n",
    "    \n",
    "    Returns:\n",
    "        int: the sum of x and y\n",
    "    \"\"\"\n",
    "    # code to execute\n",
    "    return value\n",
    "```"
   ]
  },
  {
   "cell_type": "markdown",
   "metadata": {
    "deletable": false,
    "editable": false,
    "nbgrader": {
     "cell_type": "markdown",
     "checksum": "317739de94f162233b7390a62383e39c",
     "grade": false,
     "grade_id": "cell-320af444a0a9a8d0",
     "locked": true,
     "schema_version": 3,
     "solution": false,
     "task": false
    }
   },
   "source": [
    "<div class=\"alert alert-info\">\n",
    "<b>Instruction:</b> Create a function named `findNameIndex` using the docstring above.\n",
    "</div>\n",
    "\n",
    "```python\n",
    "\"\"\"\n",
    "This function takes a list of names and a name as arguments and returns the index of the name in the list if it is found, otherwise it returns -1.\n",
    "\n",
    "Parameters:\n",
    "    names (list): a list of names\n",
    "    name (str): the name to find in the list\n",
    "\n",
    "Returns:\n",
    "    int: the index of the name in the list if it is found, otherwise -1\n",
    "\"\"\"\n",
    "```\n"
   ]
  },
  {
   "cell_type": "code",
   "execution_count": null,
   "metadata": {
    "deletable": false,
    "nbgrader": {
     "cell_type": "code",
     "checksum": "399ccacaa5241f3dd7b7ab3e92fa0e91",
     "grade": true,
     "grade_id": "cell-fd8b0bc3d4285688",
     "locked": false,
     "points": 2,
     "schema_version": 3,
     "solution": true,
     "task": false
    }
   },
   "outputs": [],
   "source": [
    "# YOUR CODE HERE\n",
    "raise NotImplementedError()"
   ]
  },
  {
   "cell_type": "code",
   "execution_count": null,
   "metadata": {},
   "outputs": [],
   "source": [
    "findNameIndex(names, \"Ursula\")"
   ]
  },
  {
   "cell_type": "markdown",
   "metadata": {
    "deletable": false,
    "editable": false,
    "nbgrader": {
     "cell_type": "markdown",
     "checksum": "6e63fd407e0c42a357bba67a93eb0978",
     "grade": false,
     "grade_id": "cell-7c3efbfd7149567d",
     "locked": true,
     "schema_version": 3,
     "solution": false,
     "task": false
    }
   },
   "source": [
    "`assert` is a useful keyword to test functions. It raises an `AssertionError` if the condition is `False`, and nothing if the condition is `True`.\n",
    "\n",
    "Your fonction `findNameIndex` should not raise any `AssertionError` with the following tests."
   ]
  },
  {
   "cell_type": "code",
   "execution_count": null,
   "metadata": {
    "deletable": false,
    "editable": false,
    "nbgrader": {
     "cell_type": "code",
     "checksum": "6fcc484bcc29c102bb6b1dc31c074611",
     "grade": false,
     "grade_id": "cell-781e4739835752e1",
     "locked": true,
     "schema_version": 3,
     "solution": false,
     "task": false
    }
   },
   "outputs": [],
   "source": [
    "names = [\"Alice\", \"Bob\", \"Charlie\", \"David\", \"Eve\", \"Frank\", \"Grace\", \"Helen\", \"Isaac\", \"Jane\", \"Karl\", \"Linda\", \"Mary\", \"Nathan\", \"Olivia\", \"Peter\", \"Quinn\", \"Rachel\", \"Steve\", \"Tom\", \"Ursula\", \"Victor\", \"Wendy\", \"Xavier\", \"Yvonne\", \"Zach\"]\n",
    "\n",
    "assert findNameIndex(names, \"Alice\") == 0\n",
    "assert findNameIndex(names, \"Bob\") == 1"
   ]
  },
  {
   "cell_type": "markdown",
   "metadata": {
    "deletable": false,
    "editable": false,
    "nbgrader": {
     "cell_type": "markdown",
     "checksum": "6f05048ea8a568207fb87dd995ed7f2a",
     "grade": false,
     "grade_id": "cell-d54dc7075e2b7a0b",
     "locked": true,
     "schema_version": 3,
     "solution": false,
     "task": false
    }
   },
   "source": [
    "<div class=\"alert alert-info\">\n",
    "<b>Instruction:</b> Write two extra tests that your function should pass.\n",
    "</div>"
   ]
  },
  {
   "cell_type": "code",
   "execution_count": null,
   "metadata": {
    "deletable": false,
    "nbgrader": {
     "cell_type": "code",
     "checksum": "d860d478b7e2b8681d642fad8c8cc09e",
     "grade": true,
     "grade_id": "cell-0908b9536292f9d6",
     "locked": false,
     "points": 1,
     "schema_version": 3,
     "solution": true,
     "task": false
    }
   },
   "outputs": [],
   "source": [
    "# YOUR CODE HERE\n",
    "raise NotImplementedError()"
   ]
  },
  {
   "cell_type": "markdown",
   "metadata": {
    "deletable": false,
    "editable": false,
    "nbgrader": {
     "cell_type": "markdown",
     "checksum": "b5d13c5151c546f9dcfed9fe435d81c8",
     "grade": false,
     "grade_id": "cell-3c737e0ff7e40db4",
     "locked": true,
     "schema_version": 3,
     "solution": false,
     "task": false
    }
   },
   "source": [
    "## 6. Application: british artists and songs\n",
    "\n",
    "In this section, you will create functions to manipulate a dictionnary of artists and their songs.\n",
    "The questions will help you to recall the notions seen above.\n",
    "\n",
    "Let's start by creating a non-exhaustive dictionnary of british artists and their songs."
   ]
  },
  {
   "cell_type": "code",
   "execution_count": null,
   "metadata": {
    "deletable": false,
    "editable": false,
    "nbgrader": {
     "cell_type": "code",
     "checksum": "7d70a0f84c5fce0f8426150ee1bdda9a",
     "grade": false,
     "grade_id": "cell-7c47e9031abc4db4",
     "locked": true,
     "schema_version": 3,
     "solution": false,
     "task": false
    }
   },
   "outputs": [],
   "source": [
    "brit_artists = {\"The Beattles\" : [\"Yesterday\",\n",
    "                            \"Hey Jude\",\n",
    "                            \"Let it be\",\n",
    "                            \"Come Together\"],\n",
    "            \"Queen\" : [\"Bohemian Rhapsody\",\n",
    "                     \"We Will Rock You\",\n",
    "                     \"We Are The Champions\",\n",
    "                     \"Another One Bites The Dust\"],\n",
    "            \"Elton John\" : [\"Rocket man\",\n",
    "                            \"Your Song\",\n",
    "                            \"Tiny Dancer\",\n",
    "                            \"Crocodile Rock\"],\n",
    "            \"David Bowie\" : [\"Space Oddity\",\n",
    "                            \"Life on Mars\",\n",
    "                            \"Heroes\",\n",
    "                            \"Starman\"],\n",
    "            \"The Rolling Stones\" : [\"Paint it Black\",\n",
    "                                    \"Sympathy for the Devil\",\n",
    "                                    \"Gimme Shelter\",\n",
    "                                    \"Angie\"]}\n",
    "                            "
   ]
  },
  {
   "cell_type": "code",
   "execution_count": null,
   "metadata": {},
   "outputs": [],
   "source": [
    "brit_artists[\"The Beattles\"][0]"
   ]
  },
  {
   "cell_type": "markdown",
   "metadata": {
    "deletable": false,
    "editable": false,
    "nbgrader": {
     "cell_type": "markdown",
     "checksum": "19f68b1239c18b02eb1144cd03535235",
     "grade": false,
     "grade_id": "cell-ede85e773dc90eee",
     "locked": true,
     "schema_version": 3,
     "solution": false,
     "task": false
    }
   },
   "source": [
    "The variable `brit_artists` is a dictionary (`dict`) whose keys are strings (`str`) and values are lists (`list`) or strings."
   ]
  },
  {
   "cell_type": "markdown",
   "metadata": {
    "deletable": false,
    "editable": false,
    "nbgrader": {
     "cell_type": "markdown",
     "checksum": "f60e283a97051b32b9624a59fc6d51b2",
     "grade": false,
     "grade_id": "cell-89592bbb40492547",
     "locked": true,
     "schema_version": 3,
     "solution": false,
     "task": false
    }
   },
   "source": [
    "<div class=\"alert alert-info\">\n",
    "<b>Instruction:</b> Implement a function named `getSongs` that takes a dictionary of artists and the name of an artist as arguments and returns the list of songs of the artist if it is found, otherwise it raises a `ValueError`.\n",
    "</div>"
   ]
  },
  {
   "cell_type": "code",
   "execution_count": null,
   "metadata": {
    "deletable": false,
    "nbgrader": {
     "cell_type": "code",
     "checksum": "b6b72c8c6d912626dc20bc9a15b8da2f",
     "grade": true,
     "grade_id": "cell-1c252c2311895058",
     "locked": false,
     "points": 2,
     "schema_version": 3,
     "solution": true,
     "task": false
    }
   },
   "outputs": [],
   "source": [
    "def getSongs(data : dict, artist_name : str) -> list:\n",
    "    \"\"\" Get the list of songs from a given artist\n",
    "\n",
    "    Args:\n",
    "        data (dict): Dictionary with artists as keys and songs as values\n",
    "        artist_name (str): Name of the artist\n",
    "\n",
    "    Raises:\n",
    "        ValueError: If the artist is not found in the dictionary\n",
    "\n",
    "    Returns:\n",
    "        list: List of songs from the artist\n",
    "    \"\"\"\n",
    "    if artist_name in data:\n",
    "        # YOUR CODE HERE\n",
    "        raise NotImplementedError()\n",
    "    else:\n",
    "        raise ValueError(\"Artist not found\")"
   ]
  },
  {
   "cell_type": "markdown",
   "metadata": {
    "deletable": false,
    "editable": false,
    "nbgrader": {
     "cell_type": "markdown",
     "checksum": "702d4eb0e581d9d30c4e4d1eeee93d77",
     "grade": false,
     "grade_id": "cell-57c4b2435f2a94d1",
     "locked": true,
     "schema_version": 3,
     "solution": false,
     "task": false
    }
   },
   "source": [
    "<div class=\"alert alert-info\">\n",
    "<b>Instruction:</b> Implement a function named `getArtist` that takes a dictionary of artists and the name of a song as arguments and returns the artist that composed the song if it is found, otherwise it raises a `ValueError`.\n",
    "\n",
    "Do not forget to indicate the types of the arguments and the return value in the function's header, as well as to write a docstring.\n",
    "</div>"
   ]
  },
  {
   "cell_type": "code",
   "execution_count": null,
   "metadata": {
    "deletable": false,
    "nbgrader": {
     "cell_type": "code",
     "checksum": "15960e8a86cc330b0b2db1a6e16b6925",
     "grade": true,
     "grade_id": "cell-cb1da99495700477",
     "locked": false,
     "points": 3,
     "schema_version": 3,
     "solution": true,
     "task": false
    }
   },
   "outputs": [],
   "source": [
    "# YOUR CODE HERE\n",
    "raise NotImplementedError()"
   ]
  },
  {
   "cell_type": "code",
   "execution_count": null,
   "metadata": {
    "deletable": false,
    "editable": false,
    "nbgrader": {
     "cell_type": "code",
     "checksum": "cce37c5482fa8c046ea93db70157deb3",
     "grade": true,
     "grade_id": "cell-b936408aa64684b8",
     "locked": true,
     "points": 2,
     "schema_version": 3,
     "solution": false,
     "task": false
    }
   },
   "outputs": [],
   "source": [
    "assert getSongs(brit_artists, \"Queen\") == [\"Bohemian Rhapsody\",\n",
    "                        \"We Will Rock You\",\n",
    "                        \"We Are The Champions\",\n",
    "                        \"Another One Bites The Dust\"]\n",
    "\n",
    "assert getSongs(brit_artists, \"David Bowie\") == [\"Space Oddity\",\n",
    "                            \"Life on Mars\",\n",
    "                            \"Heroes\",\n",
    "                            \"Starman\"]\n",
    "assert getArtist(brit_artists, \"Bohemian Rhapsody\") == \"Queen\"\n",
    "assert getArtist(brit_artists, \"Space Oddity\") == \"David Bowie\"\n",
    "assert getArtist(brit_artists, \"Yesterday\") == \"The Beattles\""
   ]
  },
  {
   "cell_type": "markdown",
   "metadata": {},
   "source": [
    "## Well done!\n",
    "\n",
    "You've learned the basics of Python, a powerful programming language that is widely used in data science and machine learning.\n",
    "\n",
    "In particular, you should now be able to:\n",
    "\n",
    " - Identify the main basic data types in Python\n",
    " - Use basic operators for numbers, strings, and booleans\n",
    " - Assign values to variables using the `=` operator\n",
    " - Create conditional structures using `if`, `elif`, and `else`\n",
    " - Use lists and dictionaries to store multiple values\n",
    " - Use `for` and `while` loops to execute a block of code multiple times or iterate over a sequence of values\n",
    " - Define and document functions to encapsulate a fragment of code that can be called later.\n",
    " \n",
    "It is time to learn about data science! Go to the next sheet [Data science tutorial](03_tutorial_data_science.ipynb)"
   ]
  },
  {
   "cell_type": "markdown",
   "metadata": {},
   "source": []
  }
 ],
 "metadata": {
  "kernelspec": {
   "display_name": "Python 3 (ipykernel)",
   "language": "python",
   "name": "python3"
  },
  "language_info": {
   "codemirror_mode": {
    "name": "ipython",
    "version": 3
   },
   "file_extension": ".py",
   "mimetype": "text/x-python",
   "name": "python",
   "nbconvert_exporter": "python",
   "pygments_lexer": "ipython3",
   "version": "3.11.4"
  }
 },
 "nbformat": 4,
 "nbformat_minor": 4
}
