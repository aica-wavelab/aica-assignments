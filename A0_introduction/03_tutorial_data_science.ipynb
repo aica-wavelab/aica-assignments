{
 "cells": [
  {
   "cell_type": "markdown",
   "metadata": {},
   "source": [
    "Before you turn this problem in, make sure everything runs as expected. First, **restart the kernel** (in the menubar, select Kernel$\\rightarrow$Restart) and then **run all cells** (in the menubar, select Cell$\\rightarrow$Run All).\n",
    "\n",
    "Make sure you fill in any place that says `YOUR CODE HERE` or \"YOUR ANSWER HERE\", as well as your name and email below:"
   ]
  },
  {
   "cell_type": "code",
   "execution_count": null,
   "metadata": {},
   "outputs": [],
   "source": [
    "# Full name\n",
    "NAME = \"\"\n",
    "# Institutional email (hm.edu or hmtm.de)\n",
    "EMAIL = \"\""
   ]
  },
  {
   "cell_type": "markdown",
   "metadata": {},
   "source": [
    "---"
   ]
  },
  {
   "cell_type": "markdown",
   "metadata": {
    "deletable": false,
    "editable": false,
    "nbgrader": {
     "cell_type": "markdown",
     "checksum": "d44fc4573bda8db2b04c7ed95ccce43f",
     "grade": false,
     "grade_id": "cell-81518581088d699d",
     "locked": true,
     "schema_version": 3,
     "solution": false,
     "task": false
    }
   },
   "source": [
    "# Rudiments of data science\n",
    "\n",
    "## 1. Data manipulation\n",
    "\n",
    "In the previous tutorial, you learned about two native data structures in python: `list` and `dict`. \n",
    "Even if thoses data structure are essential in python, they are not the most efficient way to manipulate data because they lack functionalities to manipulate data in a more efficient way.\n",
    "\n",
    "\n",
    "We're going to learn how to manipulate data, i.e. a table with *attributes* as columns and *instances* as rows.\n",
    "\n",
    "### Pandas library\n",
    "\n",
    "[Pandas](https://fr.wikipedia.org/wiki/Pandas) is a python library that lets you:\n",
    "\n",
    "- manipulate data tables, \n",
    "- carry out statistical analyses,\n",
    "\n",
    "as you might do with a spreadsheet (e.g. Excel), but\n",
    "**programmatically**, thus promoting **automation**.\n",
    "\n",
    "The *Data tables* (type `DataFrame`) are arrays of two (or more) dimensions, with labels (*labels*) associated to rows and columns.\n",
    "The data is not necessarily **homogeneous** as data types can change from one column to another (strings, floats, integer, etc.).\n",
    "\n",
    "In addition, some data may be missing.\n",
    "\n",
    "*Series* (type `Series`) are one-dimensional tables (vectors), typically obtained by extracting a column from a `DataFrame`.\n",
    "\n",
    "In the rest of the course, by **table**, we mean a two-dimensional array of type `DataFrame`, while by **series** we mean a one-dimensional array of type `Series`.\n",
    "\n",
    "These concepts of `DataFrame` and `Series` can also be found in other libraries or data analysis systems such as [`R`](https://fr.wikipedia.org/wiki/R_(language)).\n",
    "\n",
    "In addition, Pandas makes it possible to process massive data distributed over many computers using parallelism libraries such as [dask](https://dask.org/)"
   ]
  },
  {
   "cell_type": "code",
   "execution_count": null,
   "metadata": {
    "deletable": false,
    "editable": false,
    "nbgrader": {
     "cell_type": "code",
     "checksum": "06273c8b62d8805e857be4c1a322a813",
     "grade": false,
     "grade_id": "cell-003c74eb20c2e08e",
     "locked": true,
     "schema_version": 3,
     "solution": false,
     "task": false
    }
   },
   "outputs": [],
   "source": [
    "# Run this cell if you do this notebook on Google Colab or have not installed the library yet\n",
    "!pip install pandas"
   ]
  },
  {
   "cell_type": "markdown",
   "metadata": {
    "deletable": false,
    "editable": false,
    "nbgrader": {
     "cell_type": "markdown",
     "checksum": "0bc07a75fb508aba6c6943e74b6fb204",
     "grade": false,
     "grade_id": "cell-077ef52d8478c480",
     "locked": true,
     "schema_version": 3,
     "solution": false,
     "task": false
    }
   },
   "source": [
    "## 2. Data series (`Series`)\n",
    "\n",
    "Because `pandas` is not natively included in Python, we first need to import the library. It is customary to import it under the alias `pd`:"
   ]
  },
  {
   "cell_type": "code",
   "execution_count": null,
   "metadata": {
    "deletable": false,
    "editable": false,
    "nbgrader": {
     "cell_type": "code",
     "checksum": "0b3f92a9e9e93a99dab2348bd7d5cb53",
     "grade": false,
     "grade_id": "cell-e64ce78377cbb1ae",
     "locked": true,
     "schema_version": 3,
     "solution": false,
     "task": false
    }
   },
   "outputs": [],
   "source": [
    "import pandas as pd"
   ]
  },
  {
   "cell_type": "markdown",
   "metadata": {
    "deletable": false,
    "editable": false,
    "nbgrader": {
     "cell_type": "markdown",
     "checksum": "23a5aea471a529b0d064fa30afcf6f69",
     "grade": false,
     "grade_id": "cell-53477b29fa16a6d1",
     "locked": true,
     "schema_version": 3,
     "solution": false,
     "task": false
    }
   },
   "source": [
    "Let's now create a `Series`object of art prices:"
   ]
  },
  {
   "cell_type": "code",
   "execution_count": null,
   "metadata": {
    "deletable": false,
    "editable": false,
    "nbgrader": {
     "cell_type": "code",
     "checksum": "945c41f14f9193cbd1d8abdb65d52c16",
     "grade": false,
     "grade_id": "cell-b3262f3d92df3cc1",
     "locked": true,
     "schema_version": 3,
     "solution": false,
     "task": false
    }
   },
   "outputs": [],
   "source": [
    "prices = pd.Series([10000, 5200, 12000, 3500, 2500, 62500], name=\"Price\")\n",
    "prices"
   ]
  },
  {
   "cell_type": "markdown",
   "metadata": {
    "deletable": false,
    "editable": false,
    "nbgrader": {
     "cell_type": "markdown",
     "checksum": "962a0044363a23dbe5255b111523739f",
     "grade": false,
     "grade_id": "cell-61453b30ca289f44",
     "locked": true,
     "schema_version": 3,
     "solution": false,
     "task": false
    }
   },
   "source": [
    "You will notice that the series is considered as a column and that the indices of its rows are displayed. By default, these are the integers $0,1,\\ldots$, but other indices are possible. Similar to Python lists, the notation 't[i]' is used to\n",
    "extract the line with index `i`:"
   ]
  },
  {
   "cell_type": "code",
   "execution_count": null,
   "metadata": {
    "deletable": false,
    "editable": false,
    "nbgrader": {
     "cell_type": "code",
     "checksum": "4304660e52acf8c1ffbda3a0c316e140",
     "grade": false,
     "grade_id": "cell-649650a689595c8b",
     "locked": true,
     "schema_version": 3,
     "solution": false,
     "task": false
    }
   },
   "outputs": [],
   "source": [
    "prices[1]"
   ]
  },
  {
   "cell_type": "markdown",
   "metadata": {
    "deletable": false,
    "editable": false,
    "nbgrader": {
     "cell_type": "markdown",
     "checksum": "32704a45f7124c33cf5b44e6920fe767",
     "grade": false,
     "grade_id": "cell-e0defb22cfcd619a",
     "locked": true,
     "schema_version": 3,
     "solution": false,
     "task": false
    }
   },
   "source": [
    "As with Python lists, The length of a series is obtained with the `len` function:"
   ]
  },
  {
   "cell_type": "code",
   "execution_count": null,
   "metadata": {
    "deletable": false,
    "editable": false,
    "nbgrader": {
     "cell_type": "code",
     "checksum": "a09c8f5b393c4171ac3a3fb5050068fb",
     "grade": false,
     "grade_id": "cell-1fe25d96d4467ae2",
     "locked": true,
     "schema_version": 3,
     "solution": false,
     "task": false
    }
   },
   "outputs": [],
   "source": [
    "len(prices)"
   ]
  },
  {
   "cell_type": "markdown",
   "metadata": {
    "deletable": false,
    "editable": false,
    "nbgrader": {
     "cell_type": "markdown",
     "checksum": "d8be6f9da15a87a44e25c1edeaaff579",
     "grade": false,
     "grade_id": "cell-54e7171eb0721490",
     "locked": true,
     "schema_version": 3,
     "solution": false,
     "task": false
    }
   },
   "source": [
    "Let's now calculate the average prices using the `mean` **method**:"
   ]
  },
  {
   "cell_type": "code",
   "execution_count": null,
   "metadata": {
    "deletable": false,
    "editable": false,
    "nbgrader": {
     "cell_type": "code",
     "checksum": "edaf87e83caa677660b1fa4f15aa0d9d",
     "grade": false,
     "grade_id": "cell-33102eaaffb56b85",
     "locked": true,
     "schema_version": 3,
     "solution": false,
     "task": false
    }
   },
   "outputs": [],
   "source": [
    "prices.mean()"
   ]
  },
  {
   "cell_type": "markdown",
   "metadata": {
    "deletable": false,
    "editable": false,
    "nbgrader": {
     "cell_type": "markdown",
     "checksum": "de6c7f2db1ddd5fedf578bf640e5d1bd",
     "grade": false,
     "grade_id": "cell-608e5fbe7182a151",
     "locked": true,
     "schema_version": 3,
     "solution": false,
     "task": false
    }
   },
   "source": [
    "<div class=\"alert alert-info\">\n",
    "<b>Instruction:</b> Now calculate the median price using the median method."
   ]
  },
  {
   "cell_type": "code",
   "execution_count": null,
   "metadata": {
    "deletable": false,
    "nbgrader": {
     "cell_type": "code",
     "checksum": "bab713c9e6699fcf2e5d97c7cf564946",
     "grade": true,
     "grade_id": "cell-e07105b5a1b56b9b",
     "locked": false,
     "points": 0,
     "schema_version": 3,
     "solution": true,
     "task": false
    }
   },
   "outputs": [],
   "source": [
    "# YOUR CODE HERE\n",
    "raise NotImplementedError()"
   ]
  },
  {
   "cell_type": "markdown",
   "metadata": {
    "deletable": false,
    "editable": false,
    "nbgrader": {
     "cell_type": "markdown",
     "checksum": "eb2d29a19b05f7e308458259c94fcbdd",
     "grade": false,
     "grade_id": "cell-58dc25eee3264e61",
     "locked": true,
     "schema_version": 3,
     "solution": false,
     "task": false
    }
   },
   "source": [
    "<div class=\"alert alert-info\">\n",
    "<b>Instruction:</b> Calculate the minimum resp. maximum price of the serie using the min resp. max method.\n",
    "</div>"
   ]
  },
  {
   "cell_type": "code",
   "execution_count": null,
   "metadata": {
    "deletable": false,
    "nbgrader": {
     "cell_type": "code",
     "checksum": "d3ed8c8d65fec3cae6ecf3318f6a7d78",
     "grade": true,
     "grade_id": "cell-469430e8c3455d51",
     "locked": false,
     "points": 0,
     "schema_version": 3,
     "solution": true,
     "task": false
    }
   },
   "outputs": [],
   "source": [
    "# YOUR CODE HERE\n",
    "raise NotImplementedError()"
   ]
  },
  {
   "cell_type": "code",
   "execution_count": null,
   "metadata": {
    "deletable": false,
    "nbgrader": {
     "cell_type": "code",
     "checksum": "bacd15bb250f5cec7f84550fb3d4a85f",
     "grade": true,
     "grade_id": "cell-cd4817910421213f",
     "locked": false,
     "points": 0,
     "schema_version": 3,
     "solution": true,
     "task": false
    }
   },
   "outputs": [],
   "source": [
    "# YOUR CODE HERE\n",
    "raise NotImplementedError()"
   ]
  },
  {
   "cell_type": "markdown",
   "metadata": {
    "deletable": false,
    "editable": false,
    "nbgrader": {
     "cell_type": "markdown",
     "checksum": "0e9b5517be98acc8a0f87c521d5b901f",
     "grade": false,
     "grade_id": "cell-cc7fed58b34a4788",
     "locked": true,
     "schema_version": 3,
     "solution": false,
     "task": false
    }
   },
   "source": [
    "<div class=\"alert alert-info\">\n",
    "<b>Instruction:</b> What is the range of prices, i.e. the difference between the maximum and minimum prices?\n",
    "</div>"
   ]
  },
  {
   "cell_type": "code",
   "execution_count": null,
   "metadata": {
    "deletable": false,
    "nbgrader": {
     "cell_type": "code",
     "checksum": "6063f39cda6af9406ee07a9c0d6b6203",
     "grade": true,
     "grade_id": "cell-02260e1a59325247",
     "locked": false,
     "points": 0,
     "schema_version": 3,
     "solution": true,
     "task": false
    }
   },
   "outputs": [],
   "source": [
    "# YOUR CODE HERE\n",
    "raise NotImplementedError()"
   ]
  },
  {
   "cell_type": "markdown",
   "metadata": {
    "deletable": false,
    "editable": false,
    "nbgrader": {
     "cell_type": "markdown",
     "checksum": "15a14842bac530e6f4c28628365db8be",
     "grade": false,
     "grade_id": "cell-052c26e18cad301d",
     "locked": true,
     "schema_version": 3,
     "solution": false,
     "task": false
    }
   },
   "source": [
    "## 3. Data tables (`DataFrame`)\n",
    "\n",
    "We are now going to construct a table containing (fake) artwork names and assign our fake prices to them.\n",
    "\n",
    "Here is how to initialize a `DataFrame` from a dictionary:"
   ]
  },
  {
   "cell_type": "code",
   "execution_count": null,
   "metadata": {
    "deletable": false,
    "editable": false,
    "nbgrader": {
     "cell_type": "code",
     "checksum": "c750a253136dafc022310fed3070b6cd",
     "grade": false,
     "grade_id": "cell-7aee8ee8044bf60e",
     "locked": true,
     "schema_version": 3,
     "solution": false,
     "task": false
    }
   },
   "outputs": [],
   "source": [
    "df = pd.DataFrame({\n",
    "    \"Artwork\" : [\"The Money Lisa\", \"The (Ice) Scream\", \"Autoportrait\", \"The Lady with the Plastic Earrings\", \"The Foggy Night\", \"The Ladies of Amignon\"],\n",
    "    \"Price\" : prices\n",
    "});\n",
    "df"
   ]
  },
  {
   "cell_type": "markdown",
   "metadata": {
    "deletable": false,
    "editable": false,
    "nbgrader": {
     "cell_type": "markdown",
     "checksum": "d3d3433ed7d2d8ea66b0694ab1e1ff0d",
     "grade": false,
     "grade_id": "cell-a0197c82bdbe887d",
     "locked": true,
     "schema_version": 3,
     "solution": false,
     "task": false
    }
   },
   "source": [
    "You'll notice that:\n",
    "\n",
    "- It is customary to use the variable name `df` to store a `DataFrame`. It is however better to choose a more evocative and explicit name such as `artwork_prices_df`.\n",
    "- The first column of the array gives the row index. By default, this is their number, starting at 0. It is possible to specify the index explicitly using the `index` parameter."
   ]
  },
  {
   "cell_type": "markdown",
   "metadata": {
    "deletable": false,
    "editable": false,
    "nbgrader": {
     "cell_type": "markdown",
     "checksum": "cc56af3558a4e687488104eedff1c2df",
     "grade": false,
     "grade_id": "cell-9cefcef8b05bb2f1",
     "locked": true,
     "schema_version": 3,
     "solution": false,
     "task": false
    }
   },
   "source": [
    "The table we created has two dimensions and can be seen as a collection of columns. Each column is a `Series` object. The columns can be accessed from their labels using the notation `df['label']`:"
   ]
  },
  {
   "cell_type": "code",
   "execution_count": null,
   "metadata": {
    "deletable": false,
    "editable": false,
    "nbgrader": {
     "cell_type": "code",
     "checksum": "bee8fc9aee27cadd48192f00b908dcbd",
     "grade": false,
     "grade_id": "cell-0e26829406f568b7",
     "locked": true,
     "schema_version": 3,
     "solution": false,
     "task": false
    }
   },
   "outputs": [],
   "source": [
    "df[\"Artwork\"]"
   ]
  },
  {
   "cell_type": "code",
   "execution_count": null,
   "metadata": {
    "deletable": false,
    "editable": false,
    "nbgrader": {
     "cell_type": "code",
     "checksum": "9939d5dea1a9e64ac68027eeb1e6d6e7",
     "grade": false,
     "grade_id": "cell-d9fc9f0ad6870d00",
     "locked": true,
     "schema_version": 3,
     "solution": false,
     "task": false
    }
   },
   "outputs": [],
   "source": [
    "df[\"Price\"]"
   ]
  },
  {
   "cell_type": "code",
   "execution_count": null,
   "metadata": {
    "deletable": false,
    "editable": false,
    "nbgrader": {
     "cell_type": "code",
     "checksum": "45f40e89c15e5dcaa2b14eaf9c807ff0",
     "grade": false,
     "grade_id": "cell-dbd03257f3595c50",
     "locked": true,
     "schema_version": 3,
     "solution": false,
     "task": false
    }
   },
   "outputs": [],
   "source": [
    "print(type(df))\n",
    "print(type(df[\"Artwork\"]))"
   ]
  },
  {
   "cell_type": "markdown",
   "metadata": {
    "deletable": false,
    "editable": false,
    "nbgrader": {
     "cell_type": "markdown",
     "checksum": "47086e84005ab60af9fd4a9c1a9d422d",
     "grade": false,
     "grade_id": "cell-99e885d32b4a764f",
     "locked": true,
     "schema_version": 3,
     "solution": false,
     "task": false
    }
   },
   "source": [
    "You can then access each of the values in the table by\n",
    "specifying its column label and then its row index. Here is the\n",
    "artwork in the second line (index 1):"
   ]
  },
  {
   "cell_type": "code",
   "execution_count": null,
   "metadata": {
    "deletable": false,
    "editable": false,
    "nbgrader": {
     "cell_type": "code",
     "checksum": "c1e84d7d63764b414a770cddc736799d",
     "grade": false,
     "grade_id": "cell-2496b3465703f10c",
     "locked": true,
     "schema_version": 3,
     "solution": false,
     "task": false
    }
   },
   "outputs": [],
   "source": [
    "df['Artwork'][1]"
   ]
  },
  {
   "cell_type": "markdown",
   "metadata": {
    "deletable": false,
    "editable": false,
    "nbgrader": {
     "cell_type": "markdown",
     "checksum": "6ff1b97dc10e0142f90ce20eb463032b",
     "grade": false,
     "grade_id": "cell-dca6efa1bccac3e7",
     "locked": true,
     "schema_version": 3,
     "solution": false,
     "task": false
    }
   },
   "source": [
    "And the price value in the fourth line (index 3):"
   ]
  },
  {
   "cell_type": "code",
   "execution_count": null,
   "metadata": {
    "deletable": false,
    "editable": false,
    "nbgrader": {
     "cell_type": "code",
     "checksum": "37a6e05cd2700cccb4ea824866baa8da",
     "grade": false,
     "grade_id": "cell-0fcd94622436912b",
     "locked": true,
     "schema_version": 3,
     "solution": false,
     "task": false
    }
   },
   "outputs": [],
   "source": [
    "df[\"Price\"][3]"
   ]
  },
  {
   "cell_type": "markdown",
   "metadata": {
    "deletable": false,
    "editable": false,
    "nbgrader": {
     "cell_type": "markdown",
     "checksum": "b611f6c92f4a5f4b3c38d1bc31c33c84",
     "grade": false,
     "grade_id": "cell-2ef278b808a83f4f",
     "locked": true,
     "schema_version": 3,
     "solution": false,
     "task": false
    }
   },
   "source": [
    "You can use the `loc` method to access the values of a row by specifying its index:"
   ]
  },
  {
   "cell_type": "code",
   "execution_count": null,
   "metadata": {
    "deletable": false,
    "editable": false,
    "nbgrader": {
     "cell_type": "code",
     "checksum": "62d61b10afbbd33fb38b69532993b276",
     "grade": false,
     "grade_id": "cell-662a4e6c753401e1",
     "locked": true,
     "schema_version": 3,
     "solution": false,
     "task": false
    }
   },
   "outputs": [],
   "source": [
    "df.loc[1]"
   ]
  },
  {
   "cell_type": "markdown",
   "metadata": {
    "deletable": false,
    "editable": false,
    "nbgrader": {
     "cell_type": "markdown",
     "checksum": "1e043d96bed57708c8b9f2966523f8d2",
     "grade": false,
     "grade_id": "cell-b6100099e977e865",
     "locked": true,
     "schema_version": 3,
     "solution": false,
     "task": false
    }
   },
   "source": [
    "You can also access the values of a column by specifying its index instead of its label using `iloc`:"
   ]
  },
  {
   "cell_type": "code",
   "execution_count": null,
   "metadata": {
    "deletable": false,
    "editable": false,
    "nbgrader": {
     "cell_type": "code",
     "checksum": "1f6d10af0ddbd863829a0a72b88e957a",
     "grade": false,
     "grade_id": "cell-fa6badde0b8000c2",
     "locked": true,
     "schema_version": 3,
     "solution": false,
     "task": false
    }
   },
   "outputs": [],
   "source": [
    "df.iloc[:, 0]"
   ]
  },
  {
   "cell_type": "markdown",
   "metadata": {
    "deletable": false,
    "editable": false,
    "nbgrader": {
     "cell_type": "markdown",
     "checksum": "7a088814c4a4de274eab2ae929bc81ee",
     "grade": false,
     "grade_id": "cell-ada19a59a735c352",
     "locked": true,
     "schema_version": 3,
     "solution": false,
     "task": false
    }
   },
   "source": [
    "The `:` symbol is used to select all rows or all columns, but it can also be used to select a range of rows or columns. For example, to select the rows from the second to the fourth, you can use the notation `df[1:4]`:"
   ]
  },
  {
   "cell_type": "code",
   "execution_count": null,
   "metadata": {
    "deletable": false,
    "editable": false,
    "nbgrader": {
     "cell_type": "code",
     "checksum": "790bc320fd1511c7780a5cf59b12dee0",
     "grade": false,
     "grade_id": "cell-b8f18763b38389b5",
     "locked": true,
     "schema_version": 3,
     "solution": false,
     "task": false
    }
   },
   "outputs": [],
   "source": [
    "df[1:4]"
   ]
  },
  {
   "cell_type": "markdown",
   "metadata": {
    "deletable": false,
    "editable": false,
    "nbgrader": {
     "cell_type": "markdown",
     "checksum": "dd3dd193655af32dda9d07cc469fb9ac",
     "grade": false,
     "grade_id": "cell-109e13f9a2f2c666",
     "locked": true,
     "schema_version": 3,
     "solution": false,
     "task": false
    }
   },
   "source": [
    "The `:` notation can also be used with `iloc` to select an arbitrary range of rows and columns:"
   ]
  },
  {
   "cell_type": "code",
   "execution_count": null,
   "metadata": {
    "deletable": false,
    "editable": false,
    "nbgrader": {
     "cell_type": "code",
     "checksum": "88039d7a690a761910cfd46df634e660",
     "grade": false,
     "grade_id": "cell-5c4f8826468d6b11",
     "locked": true,
     "schema_version": 3,
     "solution": false,
     "task": false
    }
   },
   "outputs": [],
   "source": [
    "df.iloc[1:4, 0]"
   ]
  },
  {
   "cell_type": "markdown",
   "metadata": {
    "deletable": false,
    "editable": false,
    "nbgrader": {
     "cell_type": "markdown",
     "checksum": "f6981d359a460f69a9cf452d23467ca0",
     "grade": false,
     "grade_id": "cell-21447879b4a2292b",
     "locked": true,
     "schema_version": 3,
     "solution": false,
     "task": false
    }
   },
   "source": [
    "## 4. Metadata and statistics\n",
    "\n",
    "We're now using `Pandas` to extract some metadata\n",
    "and statistics from our data.\n",
    "\n",
    "Firstly, the size of the table:"
   ]
  },
  {
   "cell_type": "code",
   "execution_count": null,
   "metadata": {
    "deletable": false,
    "editable": false,
    "nbgrader": {
     "cell_type": "code",
     "checksum": "a951d10d132a31a568f8f6c262d4be13",
     "grade": false,
     "grade_id": "cell-e1b1285aa1d1cf7c",
     "locked": true,
     "schema_version": 3,
     "solution": false,
     "task": false
    }
   },
   "outputs": [],
   "source": [
    "df.shape"
   ]
  },
  {
   "cell_type": "markdown",
   "metadata": {
    "deletable": false,
    "editable": false,
    "nbgrader": {
     "cell_type": "markdown",
     "checksum": "2fee966b0208109cc51bed6f47b8669b",
     "grade": false,
     "grade_id": "cell-55548e19e4ee1a26",
     "locked": true,
     "schema_version": 3,
     "solution": false,
     "task": false
    }
   },
   "source": [
    "The columns labels:"
   ]
  },
  {
   "cell_type": "code",
   "execution_count": null,
   "metadata": {
    "deletable": false,
    "editable": false,
    "nbgrader": {
     "cell_type": "code",
     "checksum": "8f018e51d970384ee4254e5815dc8f3a",
     "grade": false,
     "grade_id": "cell-9b0948519cd97156",
     "locked": true,
     "schema_version": 3,
     "solution": false,
     "task": false
    }
   },
   "outputs": [],
   "source": [
    "df.columns"
   ]
  },
  {
   "cell_type": "markdown",
   "metadata": {
    "deletable": false,
    "editable": false,
    "nbgrader": {
     "cell_type": "markdown",
     "checksum": "e2416499fd615f68bbaadcce241f3e1c",
     "grade": false,
     "grade_id": "cell-cec3fdba76475ca6",
     "locked": true,
     "schema_version": 3,
     "solution": false,
     "task": false
    }
   },
   "source": [
    "The number of rows:"
   ]
  },
  {
   "cell_type": "code",
   "execution_count": null,
   "metadata": {
    "deletable": false,
    "editable": false,
    "nbgrader": {
     "cell_type": "code",
     "checksum": "9a5ac5aaa4039b20fd1eb16cf9d91dae",
     "grade": false,
     "grade_id": "cell-fa8f6a9e28eca6b3",
     "locked": true,
     "schema_version": 3,
     "solution": false,
     "task": false
    }
   },
   "outputs": [],
   "source": [
    "len(df)"
   ]
  },
  {
   "cell_type": "markdown",
   "metadata": {
    "deletable": false,
    "editable": false,
    "nbgrader": {
     "cell_type": "markdown",
     "checksum": "69ce848705039a1a4bf66f1d4609c78b",
     "grade": false,
     "grade_id": "cell-d78b2385a67fc721",
     "locked": true,
     "schema_version": 3,
     "solution": false,
     "task": false
    }
   },
   "source": [
    "Some general information:"
   ]
  },
  {
   "cell_type": "code",
   "execution_count": null,
   "metadata": {
    "deletable": false,
    "editable": false,
    "nbgrader": {
     "cell_type": "code",
     "checksum": "2e031b85159d3cd683a43ad34916ac0c",
     "grade": false,
     "grade_id": "cell-b26249ac4d465dc3",
     "locked": true,
     "schema_version": 3,
     "solution": false,
     "task": false
    }
   },
   "outputs": [],
   "source": [
    "df.info()"
   ]
  },
  {
   "cell_type": "markdown",
   "metadata": {
    "deletable": false,
    "editable": false,
    "nbgrader": {
     "cell_type": "markdown",
     "checksum": "32b4cb992b9085b8e019cb16fcf85494",
     "grade": false,
     "grade_id": "cell-2b0af7b695518d36",
     "locked": true,
     "schema_version": 3,
     "solution": false,
     "task": false
    }
   },
   "source": [
    "The average of each column for which this makes sense, i.e. only columns containing numerical values (in this case only prices):"
   ]
  },
  {
   "cell_type": "code",
   "execution_count": null,
   "metadata": {
    "deletable": false,
    "editable": false,
    "nbgrader": {
     "cell_type": "code",
     "checksum": "6e897ee71c746592acb40e137da9f01e",
     "grade": false,
     "grade_id": "cell-e9cccb5d551381d8",
     "locked": true,
     "schema_version": 3,
     "solution": false,
     "task": false
    }
   },
   "outputs": [],
   "source": [
    "df.mean(numeric_only = True)"
   ]
  },
  {
   "cell_type": "markdown",
   "metadata": {
    "deletable": false,
    "editable": false,
    "nbgrader": {
     "cell_type": "markdown",
     "checksum": "1617d18ba94968311b905f910d2d4adc",
     "grade": false,
     "grade_id": "cell-3eb38ecf7b271452",
     "locked": true,
     "schema_version": 3,
     "solution": false,
     "task": false
    }
   },
   "source": [
    "Standard deviations:"
   ]
  },
  {
   "cell_type": "code",
   "execution_count": null,
   "metadata": {
    "deletable": false,
    "editable": false,
    "nbgrader": {
     "cell_type": "code",
     "checksum": "58b5e53acae95e3c5ceae75fbf8c7a9c",
     "grade": false,
     "grade_id": "cell-a2e518af46c19550",
     "locked": true,
     "schema_version": 3,
     "solution": false,
     "task": false
    }
   },
   "outputs": [],
   "source": [
    "df.std(numeric_only = True)"
   ]
  },
  {
   "cell_type": "markdown",
   "metadata": {
    "deletable": false,
    "editable": false,
    "nbgrader": {
     "cell_type": "markdown",
     "checksum": "14f601a1d64f8f85a923a8b9b19d6f6f",
     "grade": false,
     "grade_id": "cell-9279c5cb265d52df",
     "locked": true,
     "schema_version": 3,
     "solution": false,
     "task": false
    }
   },
   "source": [
    "Medians:"
   ]
  },
  {
   "cell_type": "code",
   "execution_count": null,
   "metadata": {
    "deletable": false,
    "editable": false,
    "nbgrader": {
     "cell_type": "code",
     "checksum": "12740241476cfda9bf25633f86db089d",
     "grade": false,
     "grade_id": "cell-8d3a9deb8f5b72c2",
     "locked": true,
     "schema_version": 3,
     "solution": false,
     "task": false
    }
   },
   "outputs": [],
   "source": [
    "df.median(numeric_only = True)"
   ]
  },
  {
   "cell_type": "markdown",
   "metadata": {
    "deletable": false,
    "editable": false,
    "nbgrader": {
     "cell_type": "markdown",
     "checksum": "4eec747ebe8c0f777c5504235bf66720",
     "grade": false,
     "grade_id": "cell-746e89ff61aefdfc",
     "locked": true,
     "schema_version": 3,
     "solution": false,
     "task": false
    }
   },
   "source": [
    "To be straightforward, the `describe` method provides a summary of the statistics for each column that contains numerical values:"
   ]
  },
  {
   "cell_type": "code",
   "execution_count": null,
   "metadata": {
    "deletable": false,
    "editable": false,
    "nbgrader": {
     "cell_type": "code",
     "checksum": "52f3d41fb4ed9a38e791fe63d075ad00",
     "grade": false,
     "grade_id": "cell-ae7824da807fe3fe",
     "locked": true,
     "schema_version": 3,
     "solution": false,
     "task": false
    }
   },
   "outputs": [],
   "source": [
    "df.describe()"
   ]
  },
  {
   "cell_type": "markdown",
   "metadata": {
    "deletable": false,
    "editable": false,
    "nbgrader": {
     "cell_type": "markdown",
     "checksum": "7ab0abc069bc85c49fd2c74ec34a037c",
     "grade": false,
     "grade_id": "cell-2268d7a788491934",
     "locked": true,
     "schema_version": 3,
     "solution": false,
     "task": false
    }
   },
   "source": [
    "To add a new column to the table, you can use the following syntax:\n",
    "```python\n",
    "df['new_column'] = values\n",
    "```\n",
    "\n",
    "Let's add a column with the year of creation of each artwork: "
   ]
  },
  {
   "cell_type": "code",
   "execution_count": null,
   "metadata": {
    "deletable": false,
    "editable": false,
    "nbgrader": {
     "cell_type": "code",
     "checksum": "0f45a29815e63b072a9cb2a5e6655e4f",
     "grade": false,
     "grade_id": "cell-a48655d7c9d5942d",
     "locked": true,
     "schema_version": 3,
     "solution": false,
     "task": false
    }
   },
   "outputs": [],
   "source": [
    "df[\"Year\"] = [1503, 1893, 1889, 1941, 1910, 1797]\n",
    "df"
   ]
  },
  {
   "cell_type": "code",
   "execution_count": null,
   "metadata": {
    "deletable": false,
    "editable": false,
    "nbgrader": {
     "cell_type": "code",
     "checksum": "d16361d3ff055b6f5c8a1eb79ea9fbbc",
     "grade": false,
     "grade_id": "cell-b49106a2091f0631",
     "locked": true,
     "schema_version": 3,
     "solution": false,
     "task": false
    }
   },
   "outputs": [],
   "source": [
    "df.describe()"
   ]
  },
  {
   "cell_type": "markdown",
   "metadata": {
    "deletable": false,
    "editable": false,
    "nbgrader": {
     "cell_type": "markdown",
     "checksum": "2e798eda2cd58b4e82f95c870e9d18f8",
     "grade": false,
     "grade_id": "cell-133aa65ed4659f77",
     "locked": true,
     "schema_version": 3,
     "solution": false,
     "task": false
    }
   },
   "source": [
    "## 5. Basic operations on data\n",
    "\n",
    "Pandas allows you to perform operations.\n",
    "\n",
    "Let's transform the table so that one of the columns\n",
    "is used as indices, for example the artwork names:"
   ]
  },
  {
   "cell_type": "code",
   "execution_count": null,
   "metadata": {
    "deletable": false,
    "editable": false,
    "nbgrader": {
     "cell_type": "code",
     "checksum": "bafe723876661fa345bf31f829f79ea2",
     "grade": false,
     "grade_id": "cell-13567d4f87e03560",
     "locked": true,
     "schema_version": 3,
     "solution": false,
     "task": false
    }
   },
   "outputs": [],
   "source": [
    "df1 = df.set_index(\"Artwork\")\n",
    "df1"
   ]
  },
  {
   "cell_type": "markdown",
   "metadata": {
    "deletable": false,
    "editable": false,
    "nbgrader": {
     "cell_type": "markdown",
     "checksum": "5e165b52f1c8600c1d78a4c482fe4fe2",
     "grade": false,
     "grade_id": "cell-442f9f1b7577c4d8",
     "locked": true,
     "schema_version": 3,
     "solution": false,
     "task": false
    }
   },
   "source": [
    "It is now possible to access a price value using the name directly as a line index:"
   ]
  },
  {
   "cell_type": "code",
   "execution_count": null,
   "metadata": {
    "deletable": false,
    "editable": false,
    "nbgrader": {
     "cell_type": "code",
     "checksum": "d6264397c12a0258c47fe79ef10fe05b",
     "grade": false,
     "grade_id": "cell-27ec0db1972d56cb",
     "locked": true,
     "schema_version": 3,
     "solution": false,
     "task": false
    }
   },
   "outputs": [],
   "source": [
    "df1['Price'][\"The Money Lisa\"]"
   ]
  },
  {
   "cell_type": "markdown",
   "metadata": {
    "deletable": false,
    "editable": false,
    "nbgrader": {
     "cell_type": "markdown",
     "checksum": "fc42336d1e1ee09fa7417d8b0ead91bb",
     "grade": false,
     "grade_id": "cell-7b3d5bea8696f11e",
     "locked": true,
     "schema_version": 3,
     "solution": false,
     "task": false
    }
   },
   "source": [
    "Let us now select all rows whose price is greater than 5000€:"
   ]
  },
  {
   "cell_type": "code",
   "execution_count": null,
   "metadata": {
    "deletable": false,
    "editable": false,
    "nbgrader": {
     "cell_type": "code",
     "checksum": "b64f77f21829ba6e0f81bedfbb3eab46",
     "grade": false,
     "grade_id": "cell-f30dfed675c4305f",
     "locked": true,
     "schema_version": 3,
     "solution": false,
     "task": false
    }
   },
   "outputs": [],
   "source": [
    "df1[df1[\"Price\"] > 5000]"
   ]
  },
  {
   "cell_type": "markdown",
   "metadata": {
    "deletable": false,
    "editable": false,
    "nbgrader": {
     "cell_type": "markdown",
     "checksum": "11ed063a5ea12b41f7f8591b7f58d12f",
     "grade": false,
     "grade_id": "cell-c328e98a06a74b92",
     "locked": true,
     "schema_version": 3,
     "solution": false,
     "task": false
    }
   },
   "source": [
    "Cool huh?  How does it work?\n",
    "Let's decompose the above expression.\n",
    "\n",
    "Let's create a variable containing the prices of the artworks:"
   ]
  },
  {
   "cell_type": "code",
   "execution_count": null,
   "metadata": {
    "deletable": false,
    "editable": false,
    "nbgrader": {
     "cell_type": "code",
     "checksum": "e41b8f5da1b23b8c6e39b96806526562",
     "grade": false,
     "grade_id": "cell-190ade1c5dc7c899",
     "locked": true,
     "schema_version": 3,
     "solution": false,
     "task": false
    }
   },
   "outputs": [],
   "source": [
    "prices = df1['Price']\n",
    "prices"
   ]
  },
  {
   "cell_type": "markdown",
   "metadata": {
    "deletable": false,
    "editable": false,
    "nbgrader": {
     "cell_type": "markdown",
     "checksum": "298c9777485ea96d0c343164632d0b45",
     "grade": false,
     "grade_id": "cell-dadbe5ed7b3f33ee",
     "locked": true,
     "schema_version": 3,
     "solution": false,
     "task": false
    }
   },
   "source": [
    "All operations are **vectorised** on all elements of the array or series. So, if we write `prices + 100`, this adds 1 to all the values in the series:"
   ]
  },
  {
   "cell_type": "code",
   "execution_count": null,
   "metadata": {
    "deletable": false,
    "editable": false,
    "nbgrader": {
     "cell_type": "code",
     "checksum": "c4ccf8b6dfcacb68f9d50bd0dc9e18c6",
     "grade": false,
     "grade_id": "cell-1ff522099d230275",
     "locked": true,
     "schema_version": 3,
     "solution": false,
     "task": false
    }
   },
   "outputs": [],
   "source": [
    "prices + 100"
   ]
  },
  {
   "cell_type": "markdown",
   "metadata": {
    "deletable": false,
    "editable": false,
    "nbgrader": {
     "cell_type": "markdown",
     "checksum": "45b3daf1fc974c26214f95a6960d2400",
     "grade": false,
     "grade_id": "cell-765816af4133d7c7",
     "locked": true,
     "schema_version": 3,
     "solution": false,
     "task": false
    }
   },
   "source": [
    "Similarly, if we write `prices == 5200`, it returns a series of Booleans, each one indicating whether the corresponding value is equal to $5200$ or not:"
   ]
  },
  {
   "cell_type": "code",
   "execution_count": null,
   "metadata": {
    "deletable": false,
    "editable": false,
    "nbgrader": {
     "cell_type": "code",
     "checksum": "220b77e59866d2e352064e4057b0d408",
     "grade": false,
     "grade_id": "cell-31987f5548662b46",
     "locked": true,
     "schema_version": 3,
     "solution": false,
     "task": false
    }
   },
   "outputs": [],
   "source": [
    "prices == 5200"
   ]
  },
  {
   "cell_type": "markdown",
   "metadata": {
    "deletable": false,
    "editable": false,
    "nbgrader": {
     "cell_type": "markdown",
     "checksum": "433d5cd14c3ca5b3f750065403b659d8",
     "grade": false,
     "grade_id": "cell-f7dcc891e18efb67",
     "locked": true,
     "schema_version": 3,
     "solution": false,
     "task": false
    }
   },
   "source": [
    "Let's now store the series of artworks whose price is greater than $5000$ in a new variable:"
   ]
  },
  {
   "cell_type": "code",
   "execution_count": null,
   "metadata": {
    "deletable": false,
    "editable": false,
    "nbgrader": {
     "cell_type": "code",
     "checksum": "08d26a9dbe16c17a75d32a6160731b80",
     "grade": false,
     "grade_id": "cell-cb1930fa7d18f6cf",
     "locked": true,
     "schema_version": 3,
     "solution": false,
     "task": false
    }
   },
   "outputs": [],
   "source": [
    "costMoreThan5000 = prices > 5000\n",
    "costMoreThan5000"
   ]
  },
  {
   "cell_type": "markdown",
   "metadata": {
    "deletable": false,
    "editable": false,
    "nbgrader": {
     "cell_type": "markdown",
     "checksum": "ceb70c475ad09628c5c4ccc34d838c69",
     "grade": false,
     "grade_id": "cell-e25f1c4762c58e17",
     "locked": true,
     "schema_version": 3,
     "solution": false,
     "task": false
    }
   },
   "source": [
    "Indexing a `DataFrame` by a series of Booleans will\n",
    "extracts the rows for which the series contains `True`:"
   ]
  },
  {
   "cell_type": "code",
   "execution_count": null,
   "metadata": {
    "deletable": false,
    "editable": false,
    "nbgrader": {
     "cell_type": "code",
     "checksum": "dea38364e61a7caa97fa4812210b369d",
     "grade": false,
     "grade_id": "cell-16ba50275d34182b",
     "locked": true,
     "schema_version": 3,
     "solution": false,
     "task": false
    }
   },
   "outputs": [],
   "source": [
    "df1[costMoreThan5000]"
   ]
  },
  {
   "cell_type": "markdown",
   "metadata": {
    "deletable": false,
    "editable": false,
    "nbgrader": {
     "cell_type": "markdown",
     "checksum": "0a6df231d666c5ba124f7604b60278ec",
     "grade": false,
     "grade_id": "cell-cda0276c72bc20de",
     "locked": true,
     "schema_version": 3,
     "solution": false,
     "task": false
    }
   },
   "source": [
    "This is why `df1[df1[\"Price\"] > 5000]` selects the rows for which the price is greater than $5000$."
   ]
  },
  {
   "cell_type": "markdown",
   "metadata": {
    "deletable": false,
    "editable": false,
    "nbgrader": {
     "cell_type": "markdown",
     "checksum": "5ead6d3c73f894736ce09bbb584a5b1b",
     "grade": false,
     "grade_id": "cell-1965a4f570a3edb1",
     "locked": true,
     "schema_version": 3,
     "solution": false,
     "task": false
    }
   },
   "source": [
    "## 6. MoMA dataset"
   ]
  },
  {
   "cell_type": "markdown",
   "metadata": {
    "deletable": false,
    "editable": false,
    "nbgrader": {
     "cell_type": "markdown",
     "checksum": "96a711b40462c130db8548ab04e5f253",
     "grade": false,
     "grade_id": "cell-f610576b3c52de8e",
     "locked": true,
     "schema_version": 3,
     "solution": false,
     "task": false
    }
   },
   "source": [
    "Now you've learned the basics to manipulate data with `pandas`, let's move on to a real dataset !\n",
    "\n",
    "The **Museum of Modern Art (MoMA)**, established in 1929, is a museum located in Midtown Manhattan, New York City. It houses an extensive collection that has grown to almost 200,000 artworks from around the globe, covering the last 150 years.\n",
    "\n",
    "The file `moma_artist.csv` contains information about artists including: their name, nationality, gender, birth and death year.\n",
    "\n",
    "The file `moma_artwork.csv`contains information about artworks including: their title, artist name, the date of acquisition, and the category of the artwork (painting, sculpture, etc.)\n",
    "\n",
    "Our analysis will try to answer the following research questions:\n",
    "\n",
    "**RQ1.** What are the demographic characteristics of the artists curated by the MoMA?\n",
    "\n",
    "**RQ2.** Did the artist curation of the MoMA shifted since its creation?\n",
    "\n",
    "**RQ3.** In particular, did the proportion of international and female artists evolved?\n"
   ]
  },
  {
   "cell_type": "markdown",
   "metadata": {
    "deletable": false,
    "editable": false,
    "nbgrader": {
     "cell_type": "markdown",
     "checksum": "e255afc157c01c993bf72eabcde05d6c",
     "grade": false,
     "grade_id": "cell-d7e2f75eb72c78f5",
     "locked": true,
     "schema_version": 3,
     "solution": false,
     "task": false
    }
   },
   "source": [
    "To load the dataset, we use the `read_csv` function from `pandas`:"
   ]
  },
  {
   "cell_type": "code",
   "execution_count": null,
   "metadata": {
    "deletable": false,
    "editable": false,
    "nbgrader": {
     "cell_type": "code",
     "checksum": "e0414cf6f8801c466401af36b37756b6",
     "grade": false,
     "grade_id": "cell-0118e7638d8e2dfd",
     "locked": true,
     "schema_version": 3,
     "solution": false,
     "task": false
    }
   },
   "outputs": [],
   "source": [
    "df_artists = pd.read_csv(\"data/moma_artist.csv\") \n",
    "df_artists"
   ]
  },
  {
   "cell_type": "markdown",
   "metadata": {
    "deletable": false,
    "nbgrader": {
     "cell_type": "markdown",
     "checksum": "82ce44c5c84ae5c7c94a948f7e555e82",
     "grade": true,
     "grade_id": "cell-40f364866fc9fef0",
     "locked": false,
     "points": 0,
     "schema_version": 3,
     "solution": true,
     "task": false
    }
   },
   "source": [
    "<div class=\"alert alert-info\">\n",
    "<b>Instruction:</b> How many rows and columns does the dataset contain?\n",
    "</div>\n",
    "\n",
    "YOUR ANSWER HERE"
   ]
  },
  {
   "cell_type": "markdown",
   "metadata": {
    "deletable": false,
    "editable": false,
    "nbgrader": {
     "cell_type": "markdown",
     "checksum": "c814744bab25acdbdc247648616f5d8c",
     "grade": false,
     "grade_id": "cell-8350a43e7ff3b40f",
     "locked": true,
     "schema_version": 3,
     "solution": false,
     "task": false
    }
   },
   "source": [
    "The column `Artist ID` assigns a unique identifier to each individual, in case homonyms exist in the dataset."
   ]
  },
  {
   "cell_type": "code",
   "execution_count": null,
   "metadata": {
    "deletable": false,
    "editable": false,
    "nbgrader": {
     "cell_type": "code",
     "checksum": "cceaa2d895e3ef58418a3715a291d8dc",
     "grade": false,
     "grade_id": "cell-fcbd9075c8f8c2ee",
     "locked": true,
     "schema_version": 3,
     "solution": false,
     "task": false
    }
   },
   "outputs": [],
   "source": [
    "df_artists[\"Artist ID\"].nunique()"
   ]
  },
  {
   "cell_type": "markdown",
   "metadata": {
    "deletable": false,
    "editable": false,
    "nbgrader": {
     "cell_type": "markdown",
     "checksum": "6af67960ab5e59c3890cc8545c3e9851",
     "grade": false,
     "grade_id": "cell-b40d8f402f1e8f4f",
     "locked": true,
     "schema_version": 3,
     "solution": false,
     "task": false
    }
   },
   "source": [
    "### 6.1 Analyzing artists' nationality"
   ]
  },
  {
   "cell_type": "markdown",
   "metadata": {
    "deletable": false,
    "editable": false,
    "nbgrader": {
     "cell_type": "markdown",
     "checksum": "6edee97a77d8a3ee5ad19b869a4afcdc",
     "grade": false,
     "grade_id": "cell-6a8945daccf3c5dc",
     "locked": true,
     "schema_version": 3,
     "solution": false,
     "task": false
    }
   },
   "source": [
    "<div class=\"alert alert-info\">\n",
    "<b>Instruction:</b> What is the most common artist's nationalities in this dataset? Use the `value_counts` method on the `Nationality` serie extracted from the dataframe.\n",
    "</div>"
   ]
  },
  {
   "cell_type": "code",
   "execution_count": null,
   "metadata": {
    "deletable": false,
    "nbgrader": {
     "cell_type": "code",
     "checksum": "257d15e53c7fa37c4dbbb17a486ce2ad",
     "grade": true,
     "grade_id": "cell-a636050170c0e833",
     "locked": false,
     "points": 0,
     "schema_version": 3,
     "solution": true,
     "task": false
    }
   },
   "outputs": [],
   "source": [
    "# YOUR CODE HERE\n",
    "raise NotImplementedError()"
   ]
  },
  {
   "cell_type": "markdown",
   "metadata": {
    "deletable": false,
    "editable": false,
    "nbgrader": {
     "cell_type": "markdown",
     "checksum": "985160406686150c7d92131fcec3dbd2",
     "grade": false,
     "grade_id": "cell-480e3cbcf01f7e3e",
     "locked": true,
     "schema_version": 3,
     "solution": false,
     "task": false
    }
   },
   "source": [
    "Visualization is of crucial importance in data analysis. The `seaborn` library is an extension of `matplotlib` that provides a high-level interface for drawing attractive and informative statistical graphics.\n",
    "\n",
    "If you are not sure what would be a good visualization for your data, you can browse the excellent [Python graph gallery](https://python-graph-gallery.com/) that also provides code snippets (using `matplotlib` or `seaborn`) to generate the plots.\n",
    "\n",
    "Let's use an horizontal barplot to visualize the most common artist's nationalities:\n"
   ]
  },
  {
   "cell_type": "code",
   "execution_count": null,
   "metadata": {
    "deletable": false,
    "editable": false,
    "nbgrader": {
     "cell_type": "code",
     "checksum": "6e4fb57d61286b7667f91e4e76f6552f",
     "grade": false,
     "grade_id": "cell-3bdb58403e3a8733",
     "locked": true,
     "schema_version": 3,
     "solution": false,
     "task": false
    }
   },
   "outputs": [],
   "source": [
    "# Run this cell if you haven't installed seaborn yet or work on a Google Colab\n",
    "!pip install matplotlib\n",
    "!pip install seaborn"
   ]
  },
  {
   "cell_type": "code",
   "execution_count": null,
   "metadata": {
    "deletable": false,
    "editable": false,
    "nbgrader": {
     "cell_type": "code",
     "checksum": "994bfcd78a7ddf468ebcb44f84b3fe26",
     "grade": false,
     "grade_id": "cell-281095b8d464f64c",
     "locked": true,
     "schema_version": 3,
     "solution": false,
     "task": false
    }
   },
   "outputs": [],
   "source": [
    "import seaborn as sns"
   ]
  },
  {
   "cell_type": "markdown",
   "metadata": {
    "deletable": false,
    "editable": false,
    "nbgrader": {
     "cell_type": "markdown",
     "checksum": "864fca951d663dcc3b3af37404cc78fc",
     "grade": false,
     "grade_id": "cell-94e6b11f61208ebf",
     "locked": true,
     "schema_version": 3,
     "solution": false,
     "task": false
    }
   },
   "source": [
    "For visibility let's only display the top 10 artists' nationalities:"
   ]
  },
  {
   "cell_type": "code",
   "execution_count": null,
   "metadata": {
    "deletable": false,
    "editable": false,
    "nbgrader": {
     "cell_type": "code",
     "checksum": "843657aced902d5393456a1fb1372a8e",
     "grade": false,
     "grade_id": "cell-2b53ce2f2d7f9a08",
     "locked": true,
     "schema_version": 3,
     "solution": false,
     "task": false
    }
   },
   "outputs": [],
   "source": [
    "top10Nationalities = df_artists[\"Nationality\"].value_counts().head(10)\n",
    "top10Nationalities"
   ]
  },
  {
   "cell_type": "code",
   "execution_count": null,
   "metadata": {
    "deletable": false,
    "editable": false,
    "nbgrader": {
     "cell_type": "code",
     "checksum": "e9f7b3698edad643065aec6b1cec05ba",
     "grade": false,
     "grade_id": "cell-c5702ce067587f8c",
     "locked": true,
     "schema_version": 3,
     "solution": false,
     "task": false
    }
   },
   "outputs": [],
   "source": [
    "sns.barplot(x=top10Nationalities, y=top10Nationalities.index)"
   ]
  },
  {
   "cell_type": "markdown",
   "metadata": {
    "deletable": false,
    "editable": false,
    "nbgrader": {
     "cell_type": "markdown",
     "checksum": "74bb9d2ebe05705ddac3ab407e69e264",
     "grade": false,
     "grade_id": "cell-f6d946cfc07b087f",
     "locked": true,
     "schema_version": 3,
     "solution": false,
     "task": false
    }
   },
   "source": [
    "### 6.2 Analyzing artists' gender"
   ]
  },
  {
   "cell_type": "markdown",
   "metadata": {
    "deletable": false,
    "editable": false,
    "nbgrader": {
     "cell_type": "markdown",
     "checksum": "76c94b3a499c97821daeadd302bd6b7b",
     "grade": false,
     "grade_id": "cell-499263e059cd01a3",
     "locked": true,
     "schema_version": 3,
     "solution": false,
     "task": false
    }
   },
   "source": [
    "Dataset often contain incorrect or missing values.\n",
    "For example, let's look at artists' gender:"
   ]
  },
  {
   "cell_type": "code",
   "execution_count": null,
   "metadata": {
    "deletable": false,
    "editable": false,
    "nbgrader": {
     "cell_type": "code",
     "checksum": "905f42e9f70a7b24de86ea61279db02e",
     "grade": false,
     "grade_id": "cell-0c155dc6a91404c8",
     "locked": true,
     "schema_version": 3,
     "solution": false,
     "task": false
    }
   },
   "outputs": [],
   "source": [
    "gender = df_artists[\"Gender\"].value_counts()\n",
    "gender"
   ]
  },
  {
   "cell_type": "markdown",
   "metadata": {
    "deletable": false,
    "editable": false,
    "nbgrader": {
     "cell_type": "markdown",
     "checksum": "42a0d08ac5846346c75793676a448536",
     "grade": false,
     "grade_id": "cell-4158278b5d4f7e62",
     "locked": true,
     "schema_version": 3,
     "solution": false,
     "task": false
    }
   },
   "source": [
    "It becomes obvious that there is an inconsistency in the format of the labels. Let's fix this by converting all labels to lowercase:"
   ]
  },
  {
   "cell_type": "code",
   "execution_count": null,
   "metadata": {
    "deletable": false,
    "editable": false,
    "nbgrader": {
     "cell_type": "code",
     "checksum": "86f26867217d35805749e82606716432",
     "grade": false,
     "grade_id": "cell-9c2ec586656b56e9",
     "locked": true,
     "schema_version": 3,
     "solution": false,
     "task": false
    }
   },
   "outputs": [],
   "source": [
    "df_artists[\"Gender\"] = df_artists[\"Gender\"].str.lower()\n",
    "gender = df_artists[\"Gender\"].value_counts()\n",
    "gender"
   ]
  },
  {
   "cell_type": "markdown",
   "metadata": {
    "deletable": false,
    "editable": false,
    "nbgrader": {
     "cell_type": "markdown",
     "checksum": "afc1976b68ed6b51aa38c72c1f77d0b0",
     "grade": false,
     "grade_id": "cell-25fcb5df6f60f543",
     "locked": true,
     "schema_version": 3,
     "solution": false,
     "task": false
    }
   },
   "source": [
    "<div class=\"alert alert-info\">\n",
    "<b>Instruction:</b> Visualize the gender distribution of artists that were curated at the MoMA using the visualization of your choice.\n",
    "</div>"
   ]
  },
  {
   "cell_type": "code",
   "execution_count": null,
   "metadata": {
    "deletable": false,
    "nbgrader": {
     "cell_type": "code",
     "checksum": "c5e2fd248e3614f33370712b08fb9245",
     "grade": true,
     "grade_id": "cell-ab3bbf4a2aa6f390",
     "locked": false,
     "points": 0,
     "schema_version": 3,
     "solution": true,
     "task": false
    }
   },
   "outputs": [],
   "source": [
    "# YOUR CODE HERE\n",
    "raise NotImplementedError()"
   ]
  },
  {
   "cell_type": "markdown",
   "metadata": {
    "deletable": false,
    "editable": false,
    "nbgrader": {
     "cell_type": "markdown",
     "checksum": "9e9a0c660171f70eaeba67512bc7f172",
     "grade": false,
     "grade_id": "cell-61a907a3b841bb9f",
     "locked": true,
     "schema_version": 3,
     "solution": false,
     "task": false
    }
   },
   "source": [
    "Let's now wonder about the relation between artists' birth years (age) and gender in this dataset. \n",
    "\n",
    "We can hypothesize: \n",
    "\n",
    "**Gender balance among curated artists has increased over the years.**\n",
    " \n",
    "To verify this hypothesis, we must, at least, visualize the data we possess, and ideally perform statistical tests.\n",
    "\n",
    "Let's start by visualizing the birth year distribution of all artists, independently of their gender."
   ]
  },
  {
   "cell_type": "code",
   "execution_count": null,
   "metadata": {
    "deletable": false,
    "editable": false,
    "nbgrader": {
     "cell_type": "code",
     "checksum": "df5e8f54c69815f9a74c73ee49d6bf5b",
     "grade": false,
     "grade_id": "cell-bd45014b89e70558",
     "locked": true,
     "schema_version": 3,
     "solution": false,
     "task": false
    }
   },
   "outputs": [],
   "source": [
    "sns.histplot(data=df_artists, x='Birth Year', bins=50)"
   ]
  },
  {
   "cell_type": "markdown",
   "metadata": {
    "deletable": false,
    "editable": false,
    "nbgrader": {
     "cell_type": "markdown",
     "checksum": "1f2d649adc3a34d3d1f78231abc8662b",
     "grade": false,
     "grade_id": "cell-8f5944b6e92b6c37",
     "locked": true,
     "schema_version": 3,
     "solution": false,
     "task": false
    }
   },
   "source": [
    "Now let's visualize the birth year distribution of artists, grouped by gender. We assign the `Gender` column to the `hue` (color) parameter of the `sns.histplot` function, and decide to stack the bars by setting the `multiple` parameter to `stack`:"
   ]
  },
  {
   "cell_type": "code",
   "execution_count": null,
   "metadata": {
    "deletable": false,
    "editable": false,
    "nbgrader": {
     "cell_type": "code",
     "checksum": "56ff16fb643a0c571dfd6c1c2264c8ec",
     "grade": false,
     "grade_id": "cell-44cf137744d94a42",
     "locked": true,
     "schema_version": 3,
     "solution": false,
     "task": false
    }
   },
   "outputs": [],
   "source": [
    "sns.histplot(data=df_artists, x='Birth Year', hue=\"Gender\", multiple=\"stack\")\n"
   ]
  },
  {
   "cell_type": "markdown",
   "metadata": {
    "deletable": false,
    "editable": false,
    "nbgrader": {
     "cell_type": "markdown",
     "checksum": "a1c5d10ac259e80ea40ebdeac506f2b3",
     "grade": false,
     "grade_id": "cell-5e8dca4acf6dc429",
     "locked": true,
     "schema_version": 3,
     "solution": false,
     "task": false
    }
   },
   "source": [
    "It is hard to interpret gender balance from this plot because:\n",
    "\n",
    "- the number of artists per band of birth years birth years also varies;\n",
    "- there is a lot of bins (band of birth years), i.e. the histogram is too granular;\n",
    "\n",
    "Let's instead plot the proportion of female artists as their birth year increases. We can do this by using the `sns.histplot` function with the `stat` parameter set to `density` and the `multiple` parameter set to `fill`."
   ]
  },
  {
   "cell_type": "code",
   "execution_count": null,
   "metadata": {
    "deletable": false,
    "editable": false,
    "nbgrader": {
     "cell_type": "code",
     "checksum": "b8bf3ef96055997138beb2752ad5b164",
     "grade": false,
     "grade_id": "cell-c3256e118401ba74",
     "locked": true,
     "schema_version": 3,
     "solution": false,
     "task": false
    }
   },
   "outputs": [],
   "source": [
    "sns.histplot(data=df_artists, x='Birth Year', hue=\"Gender\", stat=\"density\", multiple=\"fill\", bins=12)"
   ]
  },
  {
   "cell_type": "markdown",
   "metadata": {
    "deletable": false,
    "nbgrader": {
     "cell_type": "markdown",
     "checksum": "21408822e2099ec157423785c1bbf28e",
     "grade": true,
     "grade_id": "cell-448b277ee04ab640",
     "locked": false,
     "points": 0,
     "schema_version": 3,
     "solution": true,
     "task": false
    }
   },
   "source": [
    "<div class=\"alert alert-info\">\n",
    "<b>Instruction:</b> Describe the visualization above.\n",
    "</div>\n",
    "\n",
    "YOUR ANSWER HERE"
   ]
  },
  {
   "cell_type": "markdown",
   "metadata": {
    "deletable": false,
    "nbgrader": {
     "cell_type": "markdown",
     "checksum": "8c6443db8e82f6f8e574d17495f6f6b8",
     "grade": true,
     "grade_id": "cell-5bee56c3589ee3d3",
     "locked": false,
     "points": 0,
     "schema_version": 3,
     "solution": true,
     "task": false
    }
   },
   "source": [
    "<div class=\"alert alert-info\">\n",
    "<b>Instruction:</b> Give possible interpretations of the visualization above. Keep in mind that interpretations are additional hypotheses that need to be verified with further analysis. They are however essential to guide future analysis and is part your role as a data analyst or researcher.\n",
    "</div>\n",
    "\n",
    "YOUR ANSWER HERE"
   ]
  },
  {
   "cell_type": "markdown",
   "metadata": {
    "deletable": false,
    "editable": false,
    "nbgrader": {
     "cell_type": "markdown",
     "checksum": "5faa447791a60fd7fb4c0fc34c956d2e",
     "grade": false,
     "grade_id": "cell-b6e15dfaf4940a96",
     "locked": true,
     "schema_version": 3,
     "solution": false,
     "task": false
    }
   },
   "source": [
    "## 7. Advanced analysis\n",
    "\n",
    "The `moma_artist.csv` file contains limited information about the curation of the MoMA.\n",
    "In particular, we do not have information at the artwork level or the date of acquisition of the pieces.\n",
    "\n",
    "Let us now import the `moma_artwork.csv` file to get more information about the artworks."
   ]
  },
  {
   "cell_type": "code",
   "execution_count": null,
   "metadata": {
    "deletable": false,
    "editable": false,
    "nbgrader": {
     "cell_type": "code",
     "checksum": "72f7980c1cf1b0329efa236afb05907c",
     "grade": false,
     "grade_id": "cell-2f8fddfeea0f379f",
     "locked": true,
     "schema_version": 3,
     "solution": false,
     "task": false
    }
   },
   "outputs": [],
   "source": [
    "df_artworks = pd.read_csv(\"data/moma_artwork.csv\")\n",
    "df_artworks.head(7)"
   ]
  },
  {
   "cell_type": "markdown",
   "metadata": {
    "deletable": false,
    "editable": false,
    "nbgrader": {
     "cell_type": "markdown",
     "checksum": "484379e8a9cbdb96295122dd9955da7c",
     "grade": false,
     "grade_id": "cell-5ae51326eec30770",
     "locked": true,
     "schema_version": 3,
     "solution": false,
     "task": false
    }
   },
   "source": [
    "To further shed light on our question about gender balance in the curation of the MoMA, we can now analyze their curation at the level of artworks, and in particular the acquisition year."
   ]
  },
  {
   "cell_type": "markdown",
   "metadata": {
    "deletable": false,
    "editable": false,
    "nbgrader": {
     "cell_type": "markdown",
     "checksum": "c882c9b092af56e11c81af9ea8658e96",
     "grade": false,
     "grade_id": "cell-bf9e3bacb74c5fab",
     "locked": true,
     "schema_version": 3,
     "solution": false,
     "task": false
    }
   },
   "source": [
    "<div class=\"alert alert-info\">\n",
    "<b>Instruction:</b> What is the most recent acquisitions in the present dataset? Use the `sort_values` method to list the artworks by descending order of acquisition date.\n",
    "</div>"
   ]
  },
  {
   "cell_type": "code",
   "execution_count": null,
   "metadata": {
    "deletable": false,
    "nbgrader": {
     "cell_type": "code",
     "checksum": "bb5e908944cd408bd4e7632c9e1125c3",
     "grade": true,
     "grade_id": "cell-c6a7647ba074a2cd",
     "locked": false,
     "points": 0,
     "schema_version": 3,
     "solution": true,
     "task": false
    }
   },
   "outputs": [],
   "source": [
    "# YOUR CODE HERE\n",
    "raise NotImplementedError()"
   ]
  },
  {
   "cell_type": "markdown",
   "metadata": {
    "deletable": false,
    "editable": false,
    "nbgrader": {
     "cell_type": "markdown",
     "checksum": "18373a45df3d216bb71482b22ece6e24",
     "grade": false,
     "grade_id": "cell-baae3216eef485dc",
     "locked": true,
     "schema_version": 3,
     "solution": false,
     "task": false
    }
   },
   "source": [
    "<div class=\"alert alert-info\">\n",
    "<b>Instruction:</b> What is the most ancient acquisition present in the dataset? What can you say about it?\n",
    "</div>"
   ]
  },
  {
   "cell_type": "code",
   "execution_count": null,
   "metadata": {
    "deletable": false,
    "nbgrader": {
     "cell_type": "code",
     "checksum": "da01d440264c4d6e1baea542982b9295",
     "grade": true,
     "grade_id": "cell-a5ae564fa9961e38",
     "locked": false,
     "points": 0,
     "schema_version": 3,
     "solution": true,
     "task": false
    }
   },
   "outputs": [],
   "source": [
    "# YOUR CODE HERE\n",
    "raise NotImplementedError()"
   ]
  },
  {
   "cell_type": "markdown",
   "metadata": {
    "deletable": false,
    "nbgrader": {
     "cell_type": "markdown",
     "checksum": "1f9846c395311a8944d902130a415f47",
     "grade": true,
     "grade_id": "cell-02cb6574581a374c",
     "locked": false,
     "points": 0,
     "schema_version": 3,
     "solution": true,
     "task": false
    }
   },
   "source": [
    "YOUR ANSWER HERE"
   ]
  },
  {
   "cell_type": "markdown",
   "metadata": {
    "deletable": false,
    "editable": false,
    "nbgrader": {
     "cell_type": "markdown",
     "checksum": "df52648b83b8d9dde5ff9623d18fe24a",
     "grade": false,
     "grade_id": "cell-7a10258fd72b20e4",
     "locked": true,
     "schema_version": 3,
     "solution": false,
     "task": false
    }
   },
   "source": [
    "Let's delete the row corresponding to the artwork with the acquisition date 1216 using the `drop` method and the `index` parameter:"
   ]
  },
  {
   "cell_type": "code",
   "execution_count": null,
   "metadata": {
    "deletable": false,
    "editable": false,
    "nbgrader": {
     "cell_type": "code",
     "checksum": "34226f87fb2eff6a951c9890d93dc914",
     "grade": false,
     "grade_id": "cell-79be5f2d741b8832",
     "locked": true,
     "schema_version": 3,
     "solution": false,
     "task": false
    }
   },
   "outputs": [],
   "source": [
    "df_artworks = df_artworks.drop(index=128443)"
   ]
  },
  {
   "cell_type": "markdown",
   "metadata": {
    "deletable": false,
    "editable": false,
    "nbgrader": {
     "cell_type": "markdown",
     "checksum": "e7d9e921d154d1f2869bb558e03eb34c",
     "grade": false,
     "grade_id": "cell-b0b599b543e20359",
     "locked": true,
     "schema_version": 3,
     "solution": false,
     "task": false
    }
   },
   "source": [
    "We want to analyze artists' gender on the artwork-level to further investigate our question on gender balance in the curation of the MoMA. The problem is that `moma_artwork.csv` does not contain information about artists' gender.\n",
    "\n",
    "We can however merge the two datasets, `moma_artist.csv` and `moma_artwork.csv`, on the basis of artist names and artists birth years."
   ]
  },
  {
   "cell_type": "code",
   "execution_count": null,
   "metadata": {
    "deletable": false,
    "editable": false,
    "nbgrader": {
     "cell_type": "code",
     "checksum": "121f6fdfdbbacd222da694367c161259",
     "grade": false,
     "grade_id": "cell-8113e10bc2e06288",
     "locked": true,
     "schema_version": 3,
     "solution": false,
     "task": false
    }
   },
   "outputs": [],
   "source": [
    "df_merged = pd.merge(df_artists, df_artworks, left_on=[\"Name\", \"Birth Year\"], right_on=[\"Artist\", \"BirthYear\"])\n",
    "df_merged.head(5)"
   ]
  },
  {
   "cell_type": "markdown",
   "metadata": {
    "deletable": false,
    "editable": false,
    "nbgrader": {
     "cell_type": "markdown",
     "checksum": "7f11ab458455f2e641b3a4d5feb8eac9",
     "grade": false,
     "grade_id": "cell-49ff201fc5514c17",
     "locked": true,
     "schema_version": 3,
     "solution": false,
     "task": false
    }
   },
   "source": [
    "The `merge` method allows to merge two dataframes on the basis of common columns.\n",
    "Now, each row corresponds to an artwork as in `moma_artwork.csv`, but the columns also has information about the artist as in `moma_artist.csv`."
   ]
  },
  {
   "cell_type": "markdown",
   "metadata": {
    "deletable": false,
    "editable": false,
    "nbgrader": {
     "cell_type": "markdown",
     "checksum": "9ff7d84565f7c78279fe251143d4ceb2",
     "grade": false,
     "grade_id": "cell-ae5a00ebece425ff",
     "locked": true,
     "schema_version": 3,
     "solution": false,
     "task": false
    }
   },
   "source": [
    "### 7.1 Analyzing curated artists' nationality over time"
   ]
  },
  {
   "cell_type": "markdown",
   "metadata": {
    "deletable": false,
    "editable": false,
    "nbgrader": {
     "cell_type": "markdown",
     "checksum": "47de903056f8802667ef0a03ead5e956",
     "grade": false,
     "grade_id": "cell-ffe7100b0eeabd3c",
     "locked": true,
     "schema_version": 3,
     "solution": false,
     "task": false
    }
   },
   "source": [
    "Now that we have merged the two datasets, we can analyze the nationality of artists over time and at the artwork level.\n",
    "\n",
    "Let's now implement an appropriate format and visualization to show the evolution of artists' nationality as a function of the acquisition year of artworks."
   ]
  },
  {
   "cell_type": "code",
   "execution_count": null,
   "metadata": {
    "deletable": false,
    "editable": false,
    "nbgrader": {
     "cell_type": "code",
     "checksum": "8156ca4718860ff66468d1f2cc2ae3f6",
     "grade": false,
     "grade_id": "cell-d5ae2a8144b4ce8b",
     "locked": true,
     "schema_version": 3,
     "solution": false,
     "task": false
    }
   },
   "outputs": [],
   "source": [
    "\n",
    "# Clean data\n",
    "df_clean = df_merged.dropna(subset=['Nationality', 'YearAcquired'])\n",
    "\n",
    "# Identify the top 5 nationalities\n",
    "top_nationalities = df_clean['Nationality'].value_counts().nlargest(5).index\n",
    "\n",
    "# Group and recategorize nationalities\n",
    "df_clean['GroupedNationality'] = df_clean['Nationality'].apply(lambda x: x if x in top_nationalities else 'Other')\n",
    "\n",
    "# Group \n",
    "nationality_yearly = df_clean.groupby(['YearAcquired', 'GroupedNationality']).size()\n",
    "\n",
    "# Convert the Series to a DataFrame for easier manipulation\n",
    "nationality_yearly_df = nationality_yearly.unstack(fill_value=0)\n",
    "\n",
    "# Calculate total acquisitions per year\n",
    "total_per_year = nationality_yearly_df.sum(axis=1)\n",
    "\n",
    "# Calculate the percentage of total artworks acquired by each grouped nationality each year\n",
    "nationality_percentage = nationality_yearly_df.div(total_per_year, axis=0) * 100\n",
    "\n",
    "# Convert the result back to a format suitable for further analysis or plotting\n",
    "nationality_percentage_stacked = nationality_percentage.stack()\n",
    "\n",
    "# Show the result (Optional)\n",
    "print(nationality_percentage.head())\n"
   ]
  },
  {
   "cell_type": "code",
   "execution_count": null,
   "metadata": {
    "deletable": false,
    "editable": false,
    "nbgrader": {
     "cell_type": "code",
     "checksum": "d2b58a13f6e35650449fa14453e5a348",
     "grade": false,
     "grade_id": "cell-a0d276e61731ea50",
     "locked": true,
     "schema_version": 3,
     "solution": false,
     "task": false
    }
   },
   "outputs": [],
   "source": [
    "import matplotlib.pyplot as plt\n",
    "\n",
    "plt.figure(figsize=(12, 6))\n",
    "nationality_percentage.plot(kind='area', stacked=True, ax=plt.gca())\n",
    "plt.title(\"Ratio of artists' nationalities of MoMA acquisitions over time\")\n",
    "plt.xlabel('Year Acquired')\n",
    "plt.ylabel('Nationality ratio (%)')\n",
    "plt.legend(title='Nationality', bbox_to_anchor=(1.05, 1), loc='upper left')\n",
    "plt.grid(True)\n",
    "plt.tight_layout()  # Adjusts plot to ensure everything fits without overlap\n",
    "plt.show()"
   ]
  },
  {
   "cell_type": "code",
   "execution_count": null,
   "metadata": {},
   "outputs": [],
   "source": [
    "import pandas as pd\n",
    "import matplotlib.pyplot as plt\n",
    "\n",
    "# Clean data\n",
    "df_clean = df_merged.dropna(subset=['Nationality', 'YearAcquired'])\n",
    "\n",
    "# Identify the top 5 nationalities\n",
    "top_nationalities = df_clean['Nationality'].value_counts().nlargest(5).index\n",
    "\n",
    "# Group and recategorize nationalities\n",
    "df_clean['GroupedNationality'] = df_clean['Nationality'].apply(lambda x: x if x in top_nationalities else 'Other')\n",
    "\n",
    "# Group by YearAcquired and GroupedNationality and count the artworks\n",
    "nationality_yearly = df_clean.groupby(['YearAcquired', 'GroupedNationality']).size()\n",
    "\n",
    "# Convert the Series to a DataFrame for easier manipulation\n",
    "nationality_yearly_df = nationality_yearly.unstack(fill_value=0)\n",
    "\n",
    "# Cumulative total artworks acquired by nationality over years\n",
    "cumulative_nationality = nationality_yearly_df.cumsum()\n",
    "\n",
    "# Plotting\n",
    "plt.figure(figsize=(12, 6))\n",
    "cumulative_nationality.plot(kind='area', stacked=True, ax=plt.gca())\n",
    "plt.title(\"Cumulative total of MoMA acquisitions by artist nationality over time\")\n",
    "plt.xlabel('Year Acquired')\n",
    "plt.ylabel('Total Artworks Acquired')\n",
    "plt.legend(title='Nationality', bbox_to_anchor=(1.05, 1), loc='upper left')\n",
    "plt.grid(True)\n",
    "plt.tight_layout()  # Adjusts plot to ensure everything fits without overlap\n",
    "plt.show()\n"
   ]
  },
  {
   "cell_type": "markdown",
   "metadata": {
    "deletable": false,
    "nbgrader": {
     "cell_type": "markdown",
     "checksum": "81c9c1ef2e6228cb745727e583b976f8",
     "grade": true,
     "grade_id": "cell-01aa3317b02f76d8",
     "locked": false,
     "points": 0,
     "schema_version": 3,
     "solution": true,
     "task": false
    }
   },
   "source": [
    "<div class=\"alert alert-info\">\n",
    "<b>Instruction:</b> Describe and interpret the visualization above.\n",
    "</div>\n",
    "\n",
    "YOUR ANSWER HERE"
   ]
  },
  {
   "cell_type": "markdown",
   "metadata": {
    "deletable": false,
    "editable": false,
    "nbgrader": {
     "cell_type": "markdown",
     "checksum": "1e66a9a878956b39375c4d2ff55e4947",
     "grade": false,
     "grade_id": "cell-643689be1dbf53ae",
     "locked": true,
     "schema_version": 3,
     "solution": false,
     "task": false
    }
   },
   "source": [
    "### 7.2 Analysis of artists' gender\n",
    "\n",
    "<div class=\"alert alert-info\">\n",
    "<b>Instruction:</b> Repeat a similar analysis but for artists' gender as a function of artwork acquisition year. Use a stacked area plot as a visualization.\n",
    "</div>"
   ]
  },
  {
   "cell_type": "code",
   "execution_count": null,
   "metadata": {
    "deletable": false,
    "nbgrader": {
     "cell_type": "code",
     "checksum": "857ae72fedb05d372a416a958732578e",
     "grade": true,
     "grade_id": "cell-91c4c182ba9395e8",
     "locked": false,
     "points": 0,
     "schema_version": 3,
     "solution": true,
     "task": false
    }
   },
   "outputs": [],
   "source": [
    "\n",
    "# Clean data\n",
    "df_clean = df_merged.dropna(subset=['Gender', 'YearAcquired'])\n",
    "df_clean['Gender'] = df_clean['Gender'].apply(lambda x: x.lower())\n",
    "\n",
    "# YOUR CODE HERE\n",
    "raise NotImplementedError()"
   ]
  },
  {
   "cell_type": "code",
   "execution_count": null,
   "metadata": {
    "deletable": false,
    "nbgrader": {
     "cell_type": "code",
     "checksum": "4217d0963d5943586937c4e275039887",
     "grade": true,
     "grade_id": "cell-f06e3114f126e1de",
     "locked": false,
     "points": 0,
     "schema_version": 3,
     "solution": true,
     "task": false
    }
   },
   "outputs": [],
   "source": [
    "# Plotting the stacked area chart\n",
    "# YOUR CODE HERE\n",
    "raise NotImplementedError()"
   ]
  },
  {
   "cell_type": "code",
   "execution_count": null,
   "metadata": {},
   "outputs": [],
   "source": [
    "import pandas as pd\n",
    "import matplotlib.pyplot as plt\n",
    "\n",
    "# Clean data\n",
    "df_clean = df_merged.dropna(subset=['Gender', 'YearAcquired'])\n",
    "df_clean['Gender'] = df_clean['Gender'].apply(lambda x: x.lower())\n",
    "\n",
    "# Group by YearAcquired and Gender and count the artworks\n",
    "gender_yearly = df_clean.groupby(['YearAcquired', 'Gender']).size()\n",
    "\n",
    "# Convert the Series to a DataFrame for easier manipulation\n",
    "gender_yearly_df = gender_yearly.unstack(fill_value=0)\n",
    "\n",
    "# Cumulative total artworks acquired by gender over years\n",
    "cumulative_gender = gender_yearly_df.cumsum()\n",
    "\n",
    "# Plotting\n",
    "plt.figure(figsize=(12, 6))\n",
    "cumulative_gender.plot(kind='area', stacked=True, ax=plt.gca())\n",
    "plt.title(\"Cumulative total of MoMA acquisitions by artist gender over time\")\n",
    "plt.xlabel('Year Acquired')\n",
    "plt.ylabel('Total Artworks Acquired')\n",
    "plt.legend(title='Gender', bbox_to_anchor=(1.05, 1), loc='upper left')\n",
    "plt.grid(True)\n",
    "plt.tight_layout()  # Adjusts plot to ensure everything fits without overlap\n",
    "plt.show()\n"
   ]
  },
  {
   "cell_type": "markdown",
   "metadata": {
    "deletable": false,
    "nbgrader": {
     "cell_type": "markdown",
     "checksum": "c647d7317d268108cc0852fd5347bc68",
     "grade": true,
     "grade_id": "cell-234afb782a566d06",
     "locked": false,
     "points": 0,
     "schema_version": 3,
     "solution": true,
     "task": false
    }
   },
   "source": [
    "<div class=\"alert alert-info\">\n",
    "<b>Instruction:</b> Describe and interpret the visualization above.\n",
    "</div>\n",
    "\n",
    "YOUR ANSWER HERE"
   ]
  },
  {
   "cell_type": "markdown",
   "metadata": {
    "deletable": false,
    "editable": false,
    "nbgrader": {
     "cell_type": "markdown",
     "checksum": "d7e0ead8affcc8865ee3282409d488e3",
     "grade": false,
     "grade_id": "cell-72806b227aa82843",
     "locked": true,
     "schema_version": 3,
     "solution": false,
     "task": false
    }
   },
   "source": [
    "<div class=\"alert alert-info\">\n",
    "<b>Instruction:</b> Conclude about your analysis of the MoMA dataset and according to the research questions raised at the beginning. What are the limitations of your analysis and possible future work?\n",
    "</div>"
   ]
  },
  {
   "cell_type": "markdown",
   "metadata": {
    "deletable": false,
    "nbgrader": {
     "cell_type": "markdown",
     "checksum": "91026bfca7cf95d3c79e7411556050e9",
     "grade": true,
     "grade_id": "cell-375220537bb6ef6d",
     "locked": false,
     "points": 0,
     "schema_version": 3,
     "solution": true,
     "task": false
    }
   },
   "source": [
    "YOUR ANSWER HERE"
   ]
  },
  {
   "cell_type": "markdown",
   "metadata": {
    "deletable": false,
    "editable": false,
    "nbgrader": {
     "cell_type": "markdown",
     "checksum": "2d420db5a3ff007c0b80183a8bd1b3b4",
     "grade": false,
     "grade_id": "cell-3e39e3d43d39eb67",
     "locked": true,
     "schema_version": 3,
     "solution": false,
     "task": false
    }
   },
   "source": [
    "## Well done!\n",
    "\n",
    "You've learned the basics of `pandas` and `seaborn`, two essential libraries for data manipulation and visualization in Python.\n",
    "\n",
    "In particular, you should now be able to:\n",
    "\n",
    " - create and manipulate `Series` and `DataFrame` objects;\n",
    " - extract metadata and statistics from a dataset;\n",
    " - perform basic operations on data, such as filtering and adding columns;\n",
    " - visualize data using `seaborn` and `matplotlib`;\n",
    " - merge two datasets on the basis of common columns;\n",
    " - comment and interpret the results of your analysis.\n",
    " \n",
    "It is time to learn about machine learning in python! Go to the next sheet [Machine learning tutorial](03_tutorial_data_science.ipynb)"
   ]
  }
 ],
 "metadata": {
  "kernelspec": {
   "display_name": "Python 3 (ipykernel)",
   "language": "python",
   "name": "python3"
  },
  "language_info": {
   "codemirror_mode": {
    "name": "ipython",
    "version": 3
   },
   "file_extension": ".py",
   "mimetype": "text/x-python",
   "name": "python",
   "nbconvert_exporter": "python",
   "pygments_lexer": "ipython3",
   "version": "3.11.4"
  }
 },
 "nbformat": 4,
 "nbformat_minor": 4
}
