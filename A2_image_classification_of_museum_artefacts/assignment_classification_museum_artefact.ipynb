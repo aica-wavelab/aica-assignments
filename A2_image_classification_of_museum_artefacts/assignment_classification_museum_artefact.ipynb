{
 "cells": [
  {
   "cell_type": "markdown",
   "metadata": {},
   "source": [
    "Before you turn this problem in, make sure everything runs as expected. First, **restart the kernel** (in the menubar, select Kernel $\\rightarrow$ Restart) and then **run all cells** (in the menubar, select Cell $\\rightarrow$ Run All).\n",
    "\n",
    "Make sure you fill in any place that says `YOUR CODE HERE` or \"YOUR ANSWER HERE\", as well as your name and email below:"
   ]
  },
  {
   "cell_type": "code",
   "execution_count": null,
   "metadata": {},
   "outputs": [],
   "source": [
    "# Full name\n",
    "NAME = \"\"\n",
    "# Institutional email (hm.edu or hmtm.de)\n",
    "EMAIL = \"\""
   ]
  },
  {
   "cell_type": "markdown",
   "metadata": {},
   "source": [
    "---"
   ]
  },
  {
   "cell_type": "markdown",
   "metadata": {
    "deletable": false,
    "editable": false,
    "nbgrader": {
     "cell_type": "markdown",
     "checksum": "532b0f7acc7336ba58533bcc2a775a56",
     "grade": false,
     "grade_id": "cell-f12e58bbad76f136",
     "locked": true,
     "schema_version": 3,
     "solution": false,
     "task": false
    }
   },
   "source": [
    "# Assignement: Image classification of museum artefacts\n",
    "\n",
    "<image src=\"https://production-media.paperswithcode.com/datasets/Screenshot_2021-02-01_at_15.22.19.png\" style=\"width: 700px; display: block; margin-left: auto; margin-right: auto;\"/>\n",
    "\n",
    "## Introduction\n",
    "\n",
    "In this notebook, you will be asked to train an image classifier to classify images of museum artefacts.\n",
    "\n",
    "Your goal will be to recognize the artistic medium of the artefact in the image. \n",
    "\n",
    "## Data\n",
    "\n",
    "To do so, you will use the [Museum Art Medium (MAMe) dataset](https://hpai.bsc.es/MAMe-dataset/), that contains high and low resolution images of artefacts from:\n",
    "\n",
    "- The Metropolitan Museum of Art of New York\n",
    "- The Los Angeles County Museum of Art\n",
    "- The Cleveland Museum of Art\n",
    "\n",
    "\n",
    "The dataset is available at [MAMe dataset](https://hpai.bsc.es/MAMe-dataset/) and includes:\n",
    "\n",
    "- **Artefact images**: ~37,000 in both high and low resolution (224x224 pixels)\n",
    "- **Metadata** (`MAMe_dataset.csv`): the museum provenance, the widht, height, product size, and aspect ratio.\n",
    "- **The artistic medium** (`MAMe_labels.csv`): 29 categories of artistic medium (i.e. materials and techniques), such as \"oil on canvas\", \"painting\", \"photograph\", \"ceramic\", etc.\n",
    "\n",
    "In addition, we provide the file `MAMe_dataset_extended.csv`, which is similar to `MAMe_dataset.csv` but we added an extra column that contains the MobileNetV1 features for each image. [MobileNetV1](https://paperswithcode.com/method/mobilenetv1) is a generalist and pre-trained neural network specialized to extract visual features. It has been trained on 1000 categories of images from the ImageNet dataset. \n",
    "\n",
    "<div class=\"alert alert-info\">\n",
    "\n",
    "**Assignment**: Your goal is to train the most accurate model to predict the medium of an museum artefact. Beside vision-related data, you are allowed to use the dimension of the object (width, height etc.) in your features. You must document all steps of the development cycle: data collection, data processing, feature selection, training, and evaluation.\n",
    "</div>\n",
    "\n",
    "- Figures are encouraged and should be commented and interpreted\n",
    "- Every choice must be discussed and explained\n",
    "\n",
    "\n",
    "\n"
   ]
  },
  {
   "cell_type": "code",
   "execution_count": null,
   "metadata": {
    "deletable": false,
    "editable": false,
    "nbgrader": {
     "cell_type": "code",
     "checksum": "8dc7251f24cebc940e72085add5a0812",
     "grade": false,
     "grade_id": "cell-873459bc0a8cd5a7",
     "locked": true,
     "schema_version": 3,
     "solution": false,
     "task": false
    }
   },
   "outputs": [],
   "source": [
    "df = pd.read_csv(\"./data/MAMe_dataset_extended.csv\")\n",
    "df"
   ]
  }
 ],
 "metadata": {
  "kernelspec": {
   "display_name": "Python 3 (ipykernel)",
   "language": "python",
   "name": "python3"
  },
  "language_info": {
   "codemirror_mode": {
    "name": "ipython",
    "version": 3
   },
   "file_extension": ".py",
   "mimetype": "text/x-python",
   "name": "python",
   "nbconvert_exporter": "python",
   "pygments_lexer": "ipython3",
   "version": "3.11.4"
  }
 },
 "nbformat": 4,
 "nbformat_minor": 4
}
