{
 "cells": [
  {
   "cell_type": "code",
   "execution_count": null,
   "metadata": {},
   "outputs": [],
   "source": [
    "# Full name test\n",
    "NAME = \"\"\n",
    "# Institutional email (hm.edu or hmtm.de)\n",
    "EMAIL = \"\""
   ]
  },
  {
   "cell_type": "code",
   "execution_count": null,
   "metadata": {},
   "outputs": [],
   "source": [
    "#@title install required packages\n",
    "%pip install otter-grader\n",
    "%pip install pandas\n",
    "%pip install sklearn\n",
    "%pip install tensorflow"
   ]
  },
  {
   "cell_type": "code",
   "execution_count": null,
   "metadata": {},
   "outputs": [],
   "source": [
    "#@title clone git repository\n",
    "%%capture\n",
    "%rm -rf aica-assignments\n",
    "!git clone https://github.com/aica-wavelab/aica-assignments.git\n",
    "%cd aica-assignments/A2_image_classification_of_museum_artefacts"
   ]
  },
  {
   "cell_type": "code",
   "execution_count": null,
   "metadata": {},
   "outputs": [],
   "source": [
    "# Initialize Otter\n",
    "import otter\n",
    "grader = otter.Notebook(\"assignment_classification_museum_artefact.ipynb\")"
   ]
  },
  {
   "cell_type": "markdown",
   "metadata": {
    "nbgrader": {
     "grade": false,
     "grade_id": "cell-f12e58bbad76f136",
     "locked": true,
     "schema_version": 3,
     "solution": false,
     "task": false
    }
   },
   "source": [
    "# Assignement: Image Classification of Museum Artefacts\n",
    "\n",
    "+ **AI in Culture and Arts - Tech Crash Course**\n",
    "+ **Date:** 10.04.2025\n",
    "+ **Author:** Dr. Benedikt Zönnchen & Dr. Téo Sanchez\n",
    "\n",
    "<a href=\"https://colab.research.google.com/github/aica-wavelab/aica-assignments/blob/main/A1_introduction/assignment_classification_museum_artefact.ipynb\" target=\"_parent\">\n",
    "  <img src=\"https://colab.research.google.com/assets/colab-badge.svg\" alt=\"Open In Colab\"/>\n",
    "</a>\n",
    "\n",
    "<image src=\"https://production-media.paperswithcode.com/datasets/Screenshot_2021-02-01_at_15.22.19.png\" style=\"width: 700px; display: block; margin-left: auto; margin-right: auto;\"/>\n",
    "\n",
    "## Introduction\n",
    "\n",
    "In this notebook, you will be asked to train an image classifier to classify images of museum artefacts.\n",
    "\n",
    "Your goal will be to recognize the artistic medium of the artefact in the image. \n",
    "\n",
    "## Data\n",
    "\n",
    "To do so, you will use the [Museum Art Medium (MAMe) dataset](https://hpai.bsc.es/MAMe-dataset/), that contains high and low resolution images of artefacts from:\n",
    "\n",
    "- The Metropolitan Museum of Art of New York\n",
    "- The Los Angeles County Museum of Art\n",
    "- The Cleveland Museum of Art\n",
    "\n",
    "\n",
    "The dataset is available at [MAMe dataset](https://hpai.bsc.es/MAMe-dataset/) and includes:\n",
    "\n",
    "- **Artefact images**: ~37,000 in both high and low resolution (224x224 pixels)\n",
    "- **Metadata** (`MAMe_dataset.csv`): the museum provenance, the widht, height, product size, and aspect ratio.\n",
    "- **The artistic medium** (`MAMe_labels.csv`): 29 categories of artistic medium (i.e. materials and techniques), such as \"oil on canvas\", \"painting\", \"photograph\", \"ceramic\", etc.\n",
    "\n",
    "In addition, we provide the file `MAMe_dataset_extended.csv`, which is similar to `MAMe_dataset.csv` but we added an extra column that contains the MobileNetV1 features for each image. [MobileNetV1](https://paperswithcode.com/method/mobilenetv1) is a generalist and pre-trained neural network specialized to extract visual features. It has been trained on 1000 categories of images from the ImageNet dataset. "
   ]
  },
  {
   "cell_type": "markdown",
   "metadata": {},
   "source": [
    "<div class=\"alert alert-info\">\n",
    "\n",
    "**Assignment**: Your goal is to train the most accurate model to predict the medium of an museum artefact. Beside vision-related data, you are allowed to use the dimension of the object (width, height etc.) in your features. You must document all steps of the development cycle: data collection, data processing, feature selection, training, and evaluation.\n",
    "</div>\n",
    "\n",
    "- Figures are encouraged and should be commented and interpreted\n",
    "- Every choice must be discussed and explained"
   ]
  },
  {
   "cell_type": "code",
   "execution_count": null,
   "metadata": {},
   "outputs": [],
   "source": [
    "import pandas as pd"
   ]
  },
  {
   "cell_type": "code",
   "execution_count": null,
   "metadata": {
    "nbgrader": {
     "grade": false,
     "grade_id": "cell-873459bc0a8cd5a7",
     "locked": true,
     "schema_version": 3,
     "solution": false,
     "task": false
    },
    "scrolled": true
   },
   "outputs": [],
   "source": [
    "df = pd.read_parquet(\"./data/MAMe_dataset_extended.parquet\", engine=\"pyarrow\")\n",
    "df"
   ]
  },
  {
   "cell_type": "code",
   "execution_count": null,
   "metadata": {},
   "outputs": [],
   "source": [
    "print(f'Number of MobileNetV1 features: {len(df[\"MobileNetV1 features\"][0])}')"
   ]
  },
  {
   "cell_type": "markdown",
   "metadata": {
    "deletable": false,
    "editable": false
   },
   "source": [
    "<div class=\"alert alert-info\">\n",
    "    \n",
    "**Instruction 1**: Extract all the data required for training and put them into a data frame called ``X``. Select the features you want but you should include the ``MobileNetV1 features`` data. It contains multiple values and you want to interpret each value as a feature.\n",
    "\n",
    "</div>"
   ]
  },
  {
   "cell_type": "code",
   "execution_count": null,
   "metadata": {
    "scrolled": true,
    "tags": [
     "otter_answer_cell"
    ]
   },
   "outputs": [],
   "source": [
    "...\n",
    "\n",
    "X"
   ]
  },
  {
   "cell_type": "code",
   "execution_count": null,
   "metadata": {
    "tags": [
     "otter_answer_cell"
    ]
   },
   "outputs": [],
   "source": [
    "..."
   ]
  },
  {
   "cell_type": "code",
   "execution_count": null,
   "metadata": {
    "tags": [
     "otter_answer_cell"
    ]
   },
   "outputs": [],
   "source": [
    "from sklearn.model_selection import train_test_split\n",
    "X_train, X_test, y_train, y_test = ..."
   ]
  },
  {
   "cell_type": "code",
   "execution_count": null,
   "metadata": {
    "tags": [
     "otter_answer_cell"
    ]
   },
   "outputs": [],
   "source": [
    "# Training using Keras\n",
    "\n",
    "from tensorflow.keras.models import Sequential\n",
    "from tensorflow.keras.layers import Dense\n",
    "from tensorflow.keras.optimizers import Adam\n",
    "\n",
    "..."
   ]
  },
  {
   "cell_type": "code",
   "execution_count": null,
   "metadata": {
    "tags": [
     "otter_answer_cell"
    ]
   },
   "outputs": [],
   "source": [
    "\n",
    "# Evaluate the model on test data\n",
    "\n",
    "loss, accuracy = ...\n",
    "\n",
    "print(f\"Test loss: {loss}\")\n",
    "\n",
    "print(f\"Test accuracy: {accuracy}\")\n"
   ]
  },
  {
   "cell_type": "code",
   "execution_count": null,
   "metadata": {
    "deletable": false,
    "editable": false
   },
   "outputs": [],
   "source": [
    "grader.check(\"q1\")"
   ]
  },
  {
   "cell_type": "code",
   "execution_count": null,
   "metadata": {},
   "outputs": [],
   "source": []
  },
  {
   "cell_type": "markdown",
   "metadata": {
    "deletable": false,
    "editable": false
   },
   "source": [
    "---\n",
    "\n",
    "To double-check your work, the cell below will rerun all of the autograder tests."
   ]
  },
  {
   "cell_type": "code",
   "execution_count": null,
   "metadata": {
    "deletable": false,
    "editable": false
   },
   "outputs": [],
   "source": [
    "grader.check_all()"
   ]
  }
 ],
 "metadata": {
  "kernelspec": {
   "display_name": "Python 3 (ipykernel)",
   "language": "python",
   "name": "python3"
  },
  "language_info": {
   "codemirror_mode": {
    "name": "ipython",
    "version": 3
   },
   "file_extension": ".py",
   "mimetype": "text/x-python",
   "name": "python",
   "nbconvert_exporter": "python",
   "pygments_lexer": "ipython3",
   "version": "3.11.11"
  },
  "otter": {
   "assignment_name": "assignment1"
  }
 },
 "nbformat": 4,
 "nbformat_minor": 4
}
