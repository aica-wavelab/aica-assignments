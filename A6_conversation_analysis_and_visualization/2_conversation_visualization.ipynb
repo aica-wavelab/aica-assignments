{
 "cells": [
  {
   "cell_type": "markdown",
   "metadata": {},
   "source": [
    "Before you turn this problem in, make sure everything runs as expected. First, **restart the kernel** (in the menubar, select Kernel $\\rightarrow$ Restart) and then **run all cells** (in the menubar, select Cell $\\rightarrow$ Run All).\n",
    "\n",
    "Make sure you fill in any place that says `YOUR CODE HERE` or \"YOUR ANSWER HERE\", as well as your name and email below:"
   ]
  },
  {
   "cell_type": "code",
   "execution_count": null,
   "metadata": {},
   "outputs": [],
   "source": [
    "# Full name\n",
    "NAME = \"\"\n",
    "# Institutional email (hm.edu or hmtm.de)\n",
    "EMAIL = \"\""
   ]
  },
  {
   "cell_type": "markdown",
   "metadata": {},
   "source": [
    "---"
   ]
  },
  {
   "cell_type": "markdown",
   "metadata": {},
   "source": [
    "# Visualizing conversation data\n",
    "\n",
    "+ **AI in Culture and Arts - Tech Crash Course**\n",
    "+ **Date:** 13.06.2024\n",
    "+ **Author:** Lenny Martinez Dominguez, Ph.D candidate at Sorbonne Université\n",
    "\n",
    "<a href=\"https://colab.research.google.com/github/aica-wavelab/aica-assignments/blob/main/A6_conversation_analysis_and_visualization/2_conversation_visualization.ipynb\" target=\"_parent\">\n",
    "  <img src=\"https://colab.research.google.com/assets/colab-badge.svg\" alt=\"Open In Colab\"/>\n",
    "</a>\n",
    "\n",
    "## 1. Introduction\n",
    "\n",
    "In this notebook we will explore conversation analysis through visualization. \n",
    "\n",
    "\n",
    "### Assignment\n",
    "\n",
    "Sketch and implement a creative data visualization of a conversation of your choice. You can use the provided data (Romeo and Juliet) or import a private What's app conversation of your choice. \n",
    "\n",
    "<div class=\"alert alert-block alert-warning\">\n",
    "<b>Instruction:</b> Do not share any of your conversation data in the assigment! Please consider the privacy of the people involved in the conversation and look at anonymization techniques from the previous notebook.\n",
    "</div>\n",
    "\n",
    "### Installation requirements\n",
    "Execute the following cell to install the packages needed to work"
   ]
  },
  {
   "cell_type": "code",
   "execution_count": null,
   "metadata": {},
   "outputs": [],
   "source": [
    "!pip install seaborn matplotlib plotly numpy pandas"
   ]
  },
  {
   "cell_type": "markdown",
   "metadata": {},
   "source": [
    "---"
   ]
  },
  {
   "cell_type": "markdown",
   "metadata": {},
   "source": [
    "## 2. Data visualization examples:\n",
    "Below are some examples we'll walk through together (marked with `*`) and could serve as inspiration for the kinds of visualizations you could make. A lot of is interactive, and most of it does take its own time in one way or another.\n",
    "\n",
    "### Simple charts can tell a story:\n",
    "- [Who is the Biggest Pop Star?](https://pudding.cool/2019/03/pop-music/)*\n",
    "- [Graphics for the Publications Office of the EU](https://www.behance.net/gallery/188704943/Graphics-for-the-Publications-Office-of-the-EU)*\n",
    "- [The Rising of Olympic Mountains](https://projects.christianlaesser.com/olympics/)*\n",
    "- [Travel Visa Inequality](https://projects.christianlaesser.com/travel-visa-inequality/)\n",
    "\n",
    "### You can visualize your entire life, if you wanted\n",
    "- Nick Felton's [2013 Annual Report](http://feltron.com/FAR13.html)*\n",
    "\n",
    "### You can look to other parts of the world:\n",
    "- [2024 European elections results: Explore our map and view the make-up of the future Parliament](https://www.lemonde.fr/en/international/article/2024/06/09/2024-european-elections-results-explore-our-map-and-view-the-make-up-of-the-future-parliament_6674304_4.html)*\n",
    "- [Mona Chalabi on storytelling, the power of data, and covering Palestine](https://www.theverge.com/24093294/mona-chalabi-interview-palestine-gaza-data-viz)\n",
    "\n",
    "### Sometimes animation is good for getting a point across\n",
    "- [\"Land doesn't vote, people do! French edition.\"](https://x.com/karim_douieb/status/1800777148871188766)*\n",
    "\n",
    "### Some visualizations take time to understand and read\n",
    "- [La Lettura - VISUAL DATA](https://www.flickr.com/photos/accurat/albums/72157632185046466/)*\n",
    "\n",
    "### Visualizations can be pretty and colorful!\n",
    "- [Multiplicity: A collective photographic city portrait](https://truth-and-beauty.net/projects/multiplicity)\n",
    "- [Why do cats & dogs ...?](https://whydocatsanddogs.com/)*"
   ]
  },
  {
   "cell_type": "markdown",
   "metadata": {},
   "source": [
    "---"
   ]
  },
  {
   "cell_type": "markdown",
   "metadata": {},
   "source": [
    "## 3. Visualization ideas\n",
    "\n",
    "### Starting from the dataset\n",
    "\n",
    "In the previous notebook we computed and logged the following features that we can use when creating visualizations:\n",
    "\n",
    "- `char_count` : the length of each message in characters\n",
    "- `question_count`: the number of questions in a message\n",
    "- `sentiment_score`: positivity or negativity score of a message (between -1 and 1)\n",
    "\n",
    "For whatsapp conversation, we can also implement:\n",
    "- `time_diff_seconds` (whatsapp only): the time difference in seconds from the previous message\n",
    "- `media_sent` (whatsapp only): the presence of media (audio, file, document, photo, sticker, video) in a message\n",
    "- `emoji_count` (whatsapp only): the number of emojis in a message\n",
    "\n",
    "### Leading with questions\n",
    "\n",
    "In data visualization, it's best to lead with curiosity and make visualizations that help answer questions. With these columns and the types of conversations we have (the play or a conversation with a friend), some questions might be:\n",
    "\n",
    "- How long do we take to respond to each other? (Whatsapp data)\n",
    "- Who talks the most? Who sends the most messages?\n",
    "- Who sends the longest messages? What are those messages about? \n",
    "- Is someone more negative or positive than the other? Is there any time that pattern flips?\n",
    "- What's the most common word we use? When and how often do we each use it?\n",
    "\n",
    "These are all questions that can be answered in code and spreadsheets, but we can also answer them using simple graphics like _bar charts_, _line charts_, _histograms_, and _scatterplots_.\n",
    "\n",
    "<div class=\"alert alert-info\">\n",
    "<b>Instruction:</b> Let's spend some time looking at your analyzed data (maybe in excel!). Come up with three questions you may want to know about the data. We'll discuss as a group afterwards.\n",
    "</div>"
   ]
  },
  {
   "cell_type": "markdown",
   "metadata": {
    "deletable": false,
    "nbgrader": {
     "cell_type": "markdown",
     "checksum": "a3f4a84237c6953f86a0547a429c8972",
     "grade": true,
     "grade_id": "cell-8998fb37896fa173",
     "locked": false,
     "points": 0,
     "schema_version": 3,
     "solution": true,
     "task": false
    }
   },
   "source": [
    "YOUR ANSWER HERE"
   ]
  },
  {
   "cell_type": "markdown",
   "metadata": {},
   "source": [
    "### What do you need to know to answer the question?\n",
    "\n",
    "After you decide on some questions, it's important to make sure you have data (or can collect/compute data) that can answer your question. For each of the questions you chose, identify what columns from the dataset you need to answer the question.\n",
    "\n",
    "<div class=\"alert alert-info\">\n",
    "<b>Instruction:</b> Let's spend some time looking at your analyzed data (maybe in excel!) and the questions you chose. For each question, identify what information you have to answer it and what additional information (grouping or filtering data are common activities we need to do, even if we have the column) you may need.\n",
    "</div>"
   ]
  },
  {
   "cell_type": "markdown",
   "metadata": {},
   "source": [
    "YOUR ANSWER HERE"
   ]
  },
  {
   "cell_type": "markdown",
   "metadata": {},
   "source": [
    "### Ideate and Sketch\n",
    "\n",
    "Now that you have questions, and you have an idea of what parts of the dataset you need to answer them, it's a good time to sketch out the kind of graphics you might want to make.\n",
    "\n",
    "#### _Data to Viz_ & _Python Data Gallery_\n",
    "Data visualizations can be used to explore Distributions, Correlations, Rankings, Parts of a whole, Evolution, Flows, as well as geography through Maps. [Data to Viz](https://www.data-to-viz.com/) is a good resource for learning more about the different kinds of visualizations that fit into these categories, as well as getting directed to code for making these kinds of graphics in different programming languages. A python specific version is the [Python Graph Gallery](https://python-graph-gallery.com/).\n",
    "\n",
    "For today, these particular chart types might be good enough to focus on:\n",
    "- [Histogram](https://python-graph-gallery.com/histogram/)\n",
    "- [Scatterplot](https://python-graph-gallery.com/scatter-plot/) and [Bubble plot](https://python-graph-gallery.com/bubble-plot/)\n",
    "- [Lollipop plot](https://python-graph-gallery.com/lollipop-plot/) and [Bar chart](https://python-graph-gallery.com/barplot/)\n",
    "- [Line Chart](https://python-graph-gallery.com/line-chart/)\n",
    "\n",
    "<div class=\"alert alert-info\">\n",
    "<b>Instruction:</b> Let's spend some time ideating and sketching different graphics for the questions you want to answer. For each question, sketch at least two different graphics from the list I shared above. How do you think your charts would look like with the data you have? Below, write what charts you tried sketching for each question\n",
    "</div>"
   ]
  },
  {
   "cell_type": "markdown",
   "metadata": {
    "deletable": false,
    "nbgrader": {
     "cell_type": "markdown",
     "checksum": "a84b7b0c91ee18ecefdc9bac3a1b6131",
     "grade": true,
     "grade_id": "cell-39c7430d5a7d126e",
     "locked": false,
     "points": 0,
     "schema_version": 3,
     "solution": true,
     "task": false
    }
   },
   "source": [
    "YOUR ANSWER HERE"
   ]
  },
  {
   "cell_type": "markdown",
   "metadata": {},
   "source": [
    "---"
   ]
  },
  {
   "cell_type": "markdown",
   "metadata": {},
   "source": [
    "## 4. Example visualizations\n",
    "\n",
    "In this part I'll show you how I would create graphics to each of the following questions:\n",
    "\n",
    "1. Who sends the longest messages?\n",
    "1. Who asks the most questions?\n",
    "1. Is someone more negative or positive than the other? Is there any time that pattern flips?\n",
    "1. How long do we take to respond to each other? (Whatsapp data)\n",
    "\n",
    "First we want to load our data and import the libraries"
   ]
  },
  {
   "cell_type": "code",
   "execution_count": null,
   "metadata": {},
   "outputs": [],
   "source": [
    "import pandas as pd\n",
    "import seaborn as sns\n",
    "import matplotlib.pyplot as plt\n",
    "\n",
    "conversation_df = pd.read_csv('data/anonymized_conversation_features.csv')\n",
    "conversation_df.head()"
   ]
  },
  {
   "cell_type": "markdown",
   "metadata": {},
   "source": [
    "Now we will use Seaborn to build the visualizations.\n",
    "\n",
    "### Q1: Who sends the longest messages?\n",
    "\n",
    "We can use a histogram to answer this question. We'll need the `char_count` since that is the message length, and we'll need the `sender` to count things by speaker.\n",
    "\n",
    "I used the documentation on the Seaborn website about [`.histplot()`](https://seaborn.pydata.org/generated/seaborn.histplot.html) to add extra features to make the graphic. more legible."
   ]
  },
  {
   "cell_type": "code",
   "execution_count": null,
   "metadata": {},
   "outputs": [],
   "source": [
    "plt.figure(figsize=(12, 6))\n",
    "sns.histplot(data=conversation_df, x='char_count', hue='sender', element=\"step\", alpha=0.4)"
   ]
  },
  {
   "cell_type": "markdown",
   "metadata": {},
   "source": [
    "### Q2: Who asks the most questions?\n",
    "\n",
    "Let's try a barplot to answer this question. We'll need the `question_count` column (or feature), as well as the `sender` to plot this.\n",
    "\n",
    "Here's the Seaborn page for [`.barplot()`](https://seaborn.pydata.org/generated/seaborn.barplot.html)."
   ]
  },
  {
   "cell_type": "code",
   "execution_count": null,
   "metadata": {},
   "outputs": [],
   "source": [
    "plt.figure(figsize=(12, 6))\n",
    "sns.barplot(\n",
    "    data=conversation_df, x=\"char_count\", y=\"sender\", hue=\"sender\", errorbar=None, palette=\"viridis\"\n",
    ")"
   ]
  },
  {
   "cell_type": "markdown",
   "metadata": {},
   "source": [
    "### Q3: Is someone more negative or positive than the other? Is there any time that pattern flips?\n",
    "\n",
    "Let's try a scatterplot to answer this question. We'll need the `sentiment_score`feature, as well as the `date_time`, and `sender` features to plot this.\n",
    "\n",
    "Here's the Seaborn page for [`.scatterplot()`](https://seaborn.pydata.org/generated/seaborn.scatterplot.html)."
   ]
  },
  {
   "cell_type": "code",
   "execution_count": null,
   "metadata": {},
   "outputs": [],
   "source": [
    "plt.figure(figsize=(12, 6))\n",
    "sns.scatterplot(data=conversation_df, x=\"date_time\", y=\"sentiment_score\", hue=\"sender\")"
   ]
  },
  {
   "cell_type": "markdown",
   "metadata": {},
   "source": [
    "It's hard to tell anything from this scatterplot. Every message is quite positive. Could we try making the size match the length of the message? A short very positive message might be different from a long very positive message."
   ]
  },
  {
   "cell_type": "code",
   "execution_count": null,
   "metadata": {},
   "outputs": [],
   "source": [
    "plt.figure(figsize=(12, 6))\n",
    "sns.scatterplot(data=conversation_df, x=\"date_time\", y=\"sentiment_score\", hue=\"sender\", size=\"char_count\", sizes=(20, 200))"
   ]
  },
  {
   "cell_type": "markdown",
   "metadata": {},
   "source": [
    "We could say it's pretty but it's not easy to see how sentiment changes over time. For that we need to really connect the dots in the scatterplot. Let's try a line chart (or [lineplot](https://seaborn.pydata.org/generated/seaborn.lineplot.html) as Seaborn calls them)."
   ]
  },
  {
   "cell_type": "code",
   "execution_count": null,
   "metadata": {},
   "outputs": [],
   "source": [
    "plt.figure(figsize=(12, 6))\n",
    "sns.lineplot(\n",
    "    data=conversation_df,\n",
    "    x=\"date_time\",\n",
    "    y=\"sentiment_score\",\n",
    "    hue=\"sender\",\n",
    "    marker=\"o\"\n",
    ")"
   ]
  },
  {
   "cell_type": "markdown",
   "metadata": {},
   "source": [
    "Now we can se just how the sentiment changes over time. We can try to overlay the size of the dots as well:"
   ]
  },
  {
   "cell_type": "code",
   "execution_count": null,
   "metadata": {},
   "outputs": [],
   "source": [
    "plt.figure(figsize=(14, 10))\n",
    "sns.lineplot(\n",
    "    data=conversation_df, x=\"date_time\", y=\"sentiment_score\", hue=\"sender\")\n",
    "\n",
    "sns.scatterplot(\n",
    "    data=conversation_df,\n",
    "    x=\"date_time\",\n",
    "    y=\"sentiment_score\",\n",
    "    hue=\"sender\",\n",
    "    size=\"char_count\",\n",
    "    sizes=(20, 200),\n",
    ")"
   ]
  },
  {
   "cell_type": "markdown",
   "metadata": {},
   "source": [
    "---"
   ]
  },
  {
   "cell_type": "markdown",
   "metadata": {},
   "source": [
    "## 5. Try it yourself\n",
    "\n",
    "Make three graphics using your conversation data. Write out the question you are trying to answer with each graphic, as well as what data columns you need. Then when you make the graphic, write your interpretation of it, and what your answer to the question would be."
   ]
  },
  {
   "cell_type": "code",
   "execution_count": null,
   "metadata": {
    "deletable": false,
    "nbgrader": {
     "cell_type": "code",
     "checksum": "d245747fde54232b3cc56636e7178183",
     "grade": true,
     "grade_id": "cell-2413071f2d579e6b",
     "locked": false,
     "points": 0,
     "schema_version": 3,
     "solution": true,
     "task": false
    }
   },
   "outputs": [],
   "source": [
    "# YOUR CODE HERE\n",
    "raise NotImplementedError()"
   ]
  }
 ],
 "metadata": {
  "kernelspec": {
   "display_name": "Python 3 (ipykernel)",
   "language": "python",
   "name": "python3"
  },
  "language_info": {
   "codemirror_mode": {
    "name": "ipython",
    "version": 3
   },
   "file_extension": ".py",
   "mimetype": "text/x-python",
   "name": "python",
   "nbconvert_exporter": "python",
   "pygments_lexer": "ipython3",
   "version": "3.8.18"
  }
 },
 "nbformat": 4,
 "nbformat_minor": 4
}
