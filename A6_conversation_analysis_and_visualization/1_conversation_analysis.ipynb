{
 "cells": [
  {
   "cell_type": "markdown",
   "metadata": {},
   "source": [
    "Before you turn this problem in, make sure everything runs as expected. First, **restart the kernel** (in the menubar, select Kernel $\\rightarrow$ Restart) and then **run all cells** (in the menubar, select Cell $\\rightarrow$ Run All).\n",
    "\n",
    "Make sure you fill in any place that says `YOUR CODE HERE` or \"YOUR ANSWER HERE\", as well as your name and email below:"
   ]
  },
  {
   "cell_type": "code",
   "execution_count": null,
   "metadata": {},
   "outputs": [],
   "source": [
    "# Full name\n",
    "NAME = \"\"\n",
    "# Institutional email (hm.edu or hmtm.de)\n",
    "EMAIL = \"\""
   ]
  },
  {
   "cell_type": "markdown",
   "metadata": {},
   "source": [
    "---"
   ]
  },
  {
   "cell_type": "markdown",
   "metadata": {
    "deletable": false,
    "editable": false,
    "nbgrader": {
     "cell_type": "markdown",
     "checksum": "e8ca075beeea691ec1c57efe6e0f3b1f",
     "grade": false,
     "grade_id": "cell-3174e12625fe5ae4",
     "locked": true,
     "schema_version": 3,
     "solution": false,
     "task": false
    }
   },
   "source": [
    "# Day 6 - Analyzing & visualizing text messages\n",
    "\n",
    "+ **AI in Culture and Arts - Tech Crash Course**\n",
    "+ **Date:** 13.06.2024\n",
    "+ **Author:** Lenny Martinez Dominguez, Ph.D candidate at Sorbonne Université\n",
    "\n",
    "<a href=\"https://colab.research.google.com/github/aica-wavelab/aica-assignments/blob/main/A6_conversation_analysis_and_visualization/1_conversation_analysis.ipynb\" target=\"_parent\">\n",
    "  <img src=\"https://colab.research.google.com/assets/colab-badge.svg\" alt=\"Open In Colab\"/>\n",
    "</a>\n",
    "\n",
    "## 0. Getting Started\n",
    "\n",
    "### Introduction \n",
    "This sixth day of class will teach you:\n",
    "•⁠  ⁠How to explore and analyze your text data using ML and conventional methods.\n",
    "•⁠  ⁠How to visualize text data using Seaborn.\n",
    "\n",
    "### Content of the repository\n",
    "- `utils.py`: A Python script with some pre-written functions that we will use in this notebook.\n",
    "- `data`: The folder that will contain the data of interest. As an example, we probide a famous conversation between Romeo and Juliet (the balcony scene).\n",
    "- `1_conversation_analysis.ipynb`: This notebook, in which we will go through the process and analysis of conversation data.\n",
    "- `2_conversation_visualization.ipynb`: A second notebook that specifically demonstrate how to plot graphs and visualize data.\n",
    "\n",
    "### Assignment\n",
    "\n",
    "Sketch and implement a creative data visualization of a conversation of your choice. You can use the provided data (Romeo and Juliet) or import a private What's app conversation of your choice. \n",
    "\n",
    "<div class=\"alert alert-block alert-warning\">\n",
    "<b>Instruction:</b> Do not share any of your conversation data in the assigment! We will also teach you about data anonymization in this notebook.\n",
    "</div>\n",
    "\n",
    "### Installation required\n",
    "Run the following cell to make sure you have all the packages you need."
   ]
  },
  {
   "cell_type": "code",
   "execution_count": null,
   "metadata": {},
   "outputs": [],
   "source": [
    "# General purpose packages\n",
    "!pip install pandas numpy requests pprint\n",
    "\n",
    "# Packages for ML\n",
    "!pip install sentence-transformers umap-learn transformers nltk bertopic"
   ]
  },
  {
   "cell_type": "markdown",
   "metadata": {},
   "source": [
    "---"
   ]
  },
  {
   "cell_type": "markdown",
   "metadata": {
    "deletable": false,
    "editable": false,
    "nbgrader": {
     "cell_type": "markdown",
     "checksum": "4c78f0fdad63def80696844c4f95109d",
     "grade": false,
     "grade_id": "cell-a236870d384ae792",
     "locked": true,
     "schema_version": 3,
     "solution": false,
     "task": false
    }
   },
   "source": [
    "## 1. Importing a conversation\n",
    "\n",
    "We will be working with conversation data today. This section will guide you through the process of importing data, either from:\n",
    "1. A famous Shakespearian dialogue: the balcony scene from Romeo and Juliet.\n",
    "2. A whats'app conversation with a relative of yours."
   ]
  },
  {
   "cell_type": "markdown",
   "metadata": {
    "deletable": false,
    "editable": false,
    "nbgrader": {
     "cell_type": "markdown",
     "checksum": "f1d4ba698e0d19949f7bba61bc242737",
     "grade": false,
     "grade_id": "cell-bf6462d0d83836f5",
     "locked": true,
     "schema_version": 3,
     "solution": false,
     "task": false
    }
   },
   "source": [
    "### 1.1 Import the balcony dialogue from Romeo and Juliet\n",
    "\n",
    "We will start to import the dialogue from the balcony scene of Romeo and Juliet. We will use a public [website](https://shakespeare.mit.edu/romeo_juliet/romeo_juliet.2.2.html) to extract the dialogue in a python variable.\n",
    "\n",
    "The extraction will follow these steps:\n",
    "1. Extract HTML content from the url, using the `requests` library.\n",
    "2. Parse the HTML content using the `BeautifulSoup` library, which is a Python library for pulling data out of HTML and XML files. This process is called web scraping.\n",
    "3. Store the extracted content in a `pandas.DataFrame` object with the following columns:\n",
    "    - `date_time`: The date and time of the message, it our case, we will only use an integer (`int`) to represent the order of the message.\n",
    "    - `sender`: The name of the message sender.\n",
    "    - `message`: The message content."
   ]
  },
  {
   "cell_type": "code",
   "execution_count": null,
   "metadata": {},
   "outputs": [],
   "source": [
    "# STEP 1\n",
    "import requests\n",
    "import pprint # A library to print data in a more readable format\n",
    "url = 'https://shakespeare.mit.edu/romeo_juliet/romeo_juliet.2.2.html'\n",
    "html = requests.get(url).text\n",
    "pprint.pprint(html)\n"
   ]
  },
  {
   "cell_type": "markdown",
   "metadata": {
    "deletable": false,
    "editable": false,
    "nbgrader": {
     "cell_type": "markdown",
     "checksum": "af8f8469641410b0721f283214eaccb4",
     "grade": false,
     "grade_id": "cell-ceb2aae2ae8452a4",
     "locked": true,
     "schema_version": 3,
     "solution": false,
     "task": false
    }
   },
   "source": [
    "<div class=\"alert alert-info\">\n",
    "<b>Instruction:</b> What is HTML? What other information on a website than the dialogue can be extracted from this HTML file?\n",
    "</div>"
   ]
  },
  {
   "cell_type": "markdown",
   "metadata": {
    "deletable": false,
    "nbgrader": {
     "cell_type": "markdown",
     "checksum": "e32bcd896945b3e0864e9fd413836aec",
     "grade": true,
     "grade_id": "cell-df7842db902071bd",
     "locked": false,
     "points": 0,
     "schema_version": 3,
     "solution": true,
     "task": false
    }
   },
   "source": [
    "YOUR ANSWER HERE"
   ]
  },
  {
   "cell_type": "markdown",
   "metadata": {
    "deletable": false,
    "editable": false,
    "nbgrader": {
     "cell_type": "markdown",
     "checksum": "64fc11da9a83352a4522c577700afe3b",
     "grade": false,
     "grade_id": "cell-4d05587df677aea6",
     "locked": true,
     "schema_version": 3,
     "solution": false,
     "task": false
    }
   },
   "source": [
    "To process the HTML content, we will use a function `html2dataFrame` we programmed for you. This function is imported from the `utils.py` script.\n",
    "\n",
    "Here is the header of the function:\n",
    "```python\n",
    "def html2dataFrame(html_content : str, save_csv : bool = True) -> pd.DataFrame:\n",
    "    # the code...\n",
    "```\n",
    "\n",
    "<div class=\"alert alert-info\">\n",
    "<b>Instruction:</b> What is the type of the `html_content` argument? What is the type of the `save_csv` argument? What is the type of the function output?\n",
    "</div>"
   ]
  },
  {
   "cell_type": "markdown",
   "metadata": {
    "deletable": false,
    "nbgrader": {
     "cell_type": "markdown",
     "checksum": "3ad2f5882df1f0cd48c69778eb9f429d",
     "grade": true,
     "grade_id": "cell-efb41432f5c40d9c",
     "locked": false,
     "points": 0,
     "schema_version": 3,
     "solution": true,
     "task": false
    }
   },
   "source": [
    "YOUR ANSWER HERE"
   ]
  },
  {
   "cell_type": "markdown",
   "metadata": {
    "deletable": false,
    "editable": false,
    "nbgrader": {
     "cell_type": "markdown",
     "checksum": "93cfb9f91fee0c705561282f02703583",
     "grade": false,
     "grade_id": "cell-70a85560ef1fdab4",
     "locked": true,
     "schema_version": 3,
     "solution": false,
     "task": false
    }
   },
   "source": [
    "<div class=\"alert alert-info\">\n",
    "<b>Instruction:</b> Write the docstring of the function `html2dataFrame` in `utils.py`?\n",
    "</div>\n",
    "\n",
    "Let's not use the function to extract the dialogue from the balcony scene of Romeo and Juliet."
   ]
  },
  {
   "cell_type": "code",
   "execution_count": null,
   "metadata": {},
   "outputs": [],
   "source": [
    "# STEP 2 and 3\n",
    "from utils import html2dataFrame\n",
    "df = html2dataFrame(html, False)\n",
    "df.head()"
   ]
  },
  {
   "cell_type": "markdown",
   "metadata": {
    "deletable": false,
    "editable": false,
    "nbgrader": {
     "cell_type": "markdown",
     "checksum": "be91c7c72600fcb97562344fbfc3d898",
     "grade": false,
     "grade_id": "cell-63fbcb8534ad9cb7",
     "locked": true,
     "schema_version": 3,
     "solution": false,
     "task": false
    }
   },
   "source": [
    "### 1.1 Importing a conversation from Whatsapp\n",
    "\n",
    "As an alternative, we propose you to import a Whatsapp' conversation from one of your relatives. \n",
    "\n",
    "Be aware that such data is highly personal and sensitive. It should be treated with care as another person than you is involved ! **Importantly, such data should never be shared as part of an assignment, or on any other platform**.\n",
    "\n",
    "Such data is a good opportunity to learn about two important concepts in data science: **data anonymization** and **data protection**.\n",
    "\n",
    "#### a. Export the conversation from your phone\n",
    "\n",
    "Follow the following guide to export a conversation from Whatsapp:\n",
    "- [English](https://faq.whatsapp.com/1180414079177245/?locale=en_US&cms_platform=android)\n",
    "- [German](https://faq.whatsapp.com/1180414079177245/?locale=de_DE&cms_platform=android&cms_id=1180414079177245&draft=false)\n",
    "\n",
    "Export **Without Media** to minimize the size of the downloaded file.\n",
    "\n",
    "Whatsapp by default exports a file `_chat.txt`. Find that file on your computer and note the path.\n",
    "\n",
    "#### b. Import the conversation as a DataFrame\n",
    "\n",
    "In the file `utils.py`, we have written a function `whatsapp2dataFrame` that will help you import the conversation in a `pandas.dataFrame` for you."
   ]
  },
  {
   "cell_type": "code",
   "execution_count": null,
   "metadata": {},
   "outputs": [],
   "source": [
    "from utils import whatsapp2dataFrame\n",
    "\n",
    "whatsapp_archive_path = 'path/to/your/whatsapp/archive.txt' # ! : Do not include the file in the same folder as the note book to minimize the risk of sharing it with your assignment\n",
    "df"
   ]
  },
  {
   "cell_type": "markdown",
   "metadata": {
    "deletable": false,
    "editable": false,
    "nbgrader": {
     "cell_type": "markdown",
     "checksum": "af802fa3fbe25c12360325ee5974eb7e",
     "grade": false,
     "grade_id": "cell-6fca51aefc90c9c4",
     "locked": true,
     "schema_version": 3,
     "solution": false,
     "task": false
    }
   },
   "source": [
    "<div class=\"alert alert-info\">\n",
    "<b>Instruction:</b> What is data anonymization?\n",
    "</div>"
   ]
  },
  {
   "cell_type": "markdown",
   "metadata": {
    "deletable": false,
    "nbgrader": {
     "cell_type": "markdown",
     "checksum": "4ce0c249ff0b4e7e04e250b0d07775cc",
     "grade": true,
     "grade_id": "cell-6c48c258476500b0",
     "locked": false,
     "points": 0,
     "schema_version": 3,
     "solution": true,
     "task": false
    }
   },
   "source": [
    "YOUR ANSWER HERE"
   ]
  },
  {
   "cell_type": "markdown",
   "metadata": {
    "deletable": false,
    "editable": false,
    "nbgrader": {
     "cell_type": "markdown",
     "checksum": "ac8e0fec312794c04d304ae3ce3c41f2",
     "grade": false,
     "grade_id": "cell-55dd2d067d45561b",
     "locked": true,
     "schema_version": 3,
     "solution": false,
     "task": false
    }
   },
   "source": [
    "<div class=\"alert alert-info\">\n",
    "<b>Instruction:</b> What is the difference between anoymization and pseudo-anonymization?\n",
    "</div>"
   ]
  },
  {
   "cell_type": "markdown",
   "metadata": {
    "deletable": false,
    "nbgrader": {
     "cell_type": "markdown",
     "checksum": "dddba451c3793e6432528572ba690863",
     "grade": true,
     "grade_id": "cell-db51b84ca263e72a",
     "locked": false,
     "points": 0,
     "schema_version": 3,
     "solution": true,
     "task": false
    }
   },
   "source": [
    "YOUR ANSWER HERE"
   ]
  },
  {
   "cell_type": "markdown",
   "metadata": {
    "deletable": false,
    "editable": false,
    "nbgrader": {
     "cell_type": "markdown",
     "checksum": "675c5d232f8f19467b7779ed1c856606",
     "grade": false,
     "grade_id": "cell-af5ef368ea93a1f0",
     "locked": true,
     "schema_version": 3,
     "solution": false,
     "task": false
    }
   },
   "source": [
    "<div class=\"alert alert-info\">\n",
    "<b>Instruction:</b> What column needs to be anonymized in order to protect the identity of the people in the conversation? \n",
    "</div>"
   ]
  },
  {
   "cell_type": "markdown",
   "metadata": {
    "deletable": false,
    "nbgrader": {
     "cell_type": "markdown",
     "checksum": "0f24e95d23b234bbb59d3e904cf7d847",
     "grade": true,
     "grade_id": "cell-795ad3350ff58c19",
     "locked": false,
     "points": 0,
     "schema_version": 3,
     "solution": true,
     "task": false
    }
   },
   "source": [
    "YOUR ANSWER HERE"
   ]
  },
  {
   "cell_type": "markdown",
   "metadata": {
    "deletable": false,
    "editable": false,
    "nbgrader": {
     "cell_type": "markdown",
     "checksum": "05e0ab41f67bcdc118445d0a461d4a48",
     "grade": false,
     "grade_id": "cell-c2aa49a96ed7685d",
     "locked": true,
     "schema_version": 3,
     "solution": false,
     "task": false
    }
   },
   "source": [
    "To replace the name of the sender in the `sender` column, we can use the `.replace()` method of the `pandas.DataFrame` object. This method can take as argument a dictionary with:\n",
    "- The values to be replaced as the dictionary's keys\n",
    "- The new values as the dictionary's values\n",
    "\n",
    "Here is an example:\n",
    "```python\n",
    "mapping : dict = {\n",
    "    'ROMEO': 'Person 1',\n",
    "    'JULIET': 'Person 2'\n",
    "}\n",
    "\n",
    "df['sender'] = df['sender'].replace(mapping)\n",
    "```\n",
    "\n"
   ]
  },
  {
   "cell_type": "code",
   "execution_count": null,
   "metadata": {},
   "outputs": [],
   "source": [
    "# Define the anonymization mapping below:\n",
    "mapping : dict = {} # TODO : Fill in the mapping\n",
    "\n",
    "df[\"sender\"] = df[\"sender\"].replace(mapping)\n",
    "df.head()"
   ]
  },
  {
   "cell_type": "markdown",
   "metadata": {
    "deletable": false,
    "editable": false,
    "nbgrader": {
     "cell_type": "markdown",
     "checksum": "c92783ca9f50e95e82e7c057e2857150",
     "grade": false,
     "grade_id": "cell-b2d77f6000dd072d",
     "locked": true,
     "schema_version": 3,
     "solution": false,
     "task": false
    }
   },
   "source": [
    "<div class=\"alert alert-info\">\n",
    "<b>Instruction:</b> Is that enough to rename the values of the `sender` column to ensure the anonymity of the data? What should also be done?\n",
    "</div>"
   ]
  },
  {
   "cell_type": "markdown",
   "metadata": {
    "deletable": false,
    "nbgrader": {
     "cell_type": "markdown",
     "checksum": "98dce3698e752f790a363c10f90ac514",
     "grade": true,
     "grade_id": "cell-ab4fc170dace9565",
     "locked": false,
     "points": 0,
     "schema_version": 3,
     "solution": true,
     "task": false
    }
   },
   "source": [
    "YOUR ANSWER HERE"
   ]
  },
  {
   "cell_type": "markdown",
   "metadata": {},
   "source": [
    "---"
   ]
  },
  {
   "cell_type": "markdown",
   "metadata": {
    "deletable": false,
    "editable": false,
    "nbgrader": {
     "cell_type": "markdown",
     "checksum": "9a06f3437bf381cb0bf7ee16ab5fa64e",
     "grade": false,
     "grade_id": "cell-cfb67fc989e54336",
     "locked": true,
     "schema_version": 3,
     "solution": false,
     "task": false
    }
   },
   "source": [
    "## 2. Extracting features from the conversation\n",
    "\n",
    "Now we posess a pseudo-anonymized conversation (still personal and sensitive data!), we can start to extract features for our (creative) visualization.\n",
    "\n",
    "<div class=\"alert alert-info\">\n",
    "<b>Brainstorming:</b> Think about 6 features that could be extracted from a conversation. According to you, which of those features require machine learning to be extracted? Which of those features can be extracted with explicit programming?\n",
    "</div>"
   ]
  },
  {
   "cell_type": "markdown",
   "metadata": {
    "deletable": false,
    "nbgrader": {
     "cell_type": "markdown",
     "checksum": "a76b60976e168b8d6704ec89eb3300b0",
     "grade": true,
     "grade_id": "cell-d0b9052595de840a",
     "locked": false,
     "points": 0,
     "schema_version": 3,
     "solution": true,
     "task": false
    }
   },
   "source": [
    "YOUR ANSWER HERE"
   ]
  },
  {
   "cell_type": "markdown",
   "metadata": {
    "deletable": false,
    "editable": false,
    "nbgrader": {
     "cell_type": "markdown",
     "checksum": "65840305275d163c4bd3045f31d0b871",
     "grade": false,
     "grade_id": "cell-a1c52847201d43c1",
     "locked": true,
     "schema_version": 3,
     "solution": false,
     "task": false
    }
   },
   "source": [
    "Many different features can be implemented. In this notebook, we will implement only a few of them, including:\n",
    "- `char_count` : the length of each message in characters\n",
    "- `question_count`: the number of questions in a message\n",
    "- `sentiment_score`: positivity or negativity score of a message (between -1 and 1)\n",
    "\n",
    "For whatsapp conversation, we can also implement:\n",
    "- `time_diff_seconds` (whatsapp only): the time difference in seconds from the previous message\n",
    "- `media_sent` (whatsapp only): the presence of media (audio, file, document, photo, sticker, video) in a message\n",
    "- `emoji_count` (whatsapp only): the number of emojis in a message\n",
    "\n",
    "Furthermore, we will also perform a topic modeling analysis on the conversation using the `BERTopic` library.\n",
    "\n",
    "### 2.2 `char_count` : the length of each message\n",
    "\n",
    "You are now aware that each row of the `panda.DataFrame` object represents a message. We can use the `.apply()` method to a column of the `pandas.DataFrame` object to apply a function to each element of the column.\n",
    "\n",
    "The apply method takes as argument a **function** that will be applied to each element of the column. The result of the function will be stored in a new column called `char_count`. Look carefully at the example below:"
   ]
  },
  {
   "cell_type": "code",
   "execution_count": null,
   "metadata": {},
   "outputs": [],
   "source": [
    "df[\"char_count\"] = df[\"message\"].apply(len)\n",
    "df.head()"
   ]
  },
  {
   "cell_type": "markdown",
   "metadata": {},
   "source": [
    "### 2.3 `question_count` : the number of questions in each message"
   ]
  },
  {
   "cell_type": "markdown",
   "metadata": {
    "deletable": false,
    "editable": false,
    "nbgrader": {
     "cell_type": "markdown",
     "checksum": "05f1f613c4753ab31e2cffed676ecfb5",
     "grade": false,
     "grade_id": "cell-e2337271e704cda1",
     "locked": true,
     "schema_version": 3,
     "solution": false,
     "task": false
    }
   },
   "source": [
    "<div class=\"alert alert-info\">\n",
    "<b>Instruction:</b> Define a function that takes a string as input and returns the number of question marks in the string.\n",
    "</div>"
   ]
  },
  {
   "cell_type": "code",
   "execution_count": null,
   "metadata": {
    "deletable": false,
    "nbgrader": {
     "cell_type": "code",
     "checksum": "e91a8aa8eb7ee62b890763d00ab7d202",
     "grade": true,
     "grade_id": "cell-b79c1f62664e3a76",
     "locked": false,
     "points": 0,
     "schema_version": 3,
     "solution": true,
     "task": false
    }
   },
   "outputs": [],
   "source": [
    "def question_count(message : str ) -> int:\n",
    "    # YOUR CODE HERE\n",
    "    raise NotImplementedError()"
   ]
  },
  {
   "cell_type": "markdown",
   "metadata": {
    "deletable": false,
    "editable": false,
    "nbgrader": {
     "cell_type": "markdown",
     "checksum": "5697ed3ae898d3fcfcb352e8f8b7d0c4",
     "grade": false,
     "grade_id": "cell-9a813665ccae7afc",
     "locked": true,
     "schema_version": 3,
     "solution": false,
     "task": false
    }
   },
   "source": [
    "<div class=\"alert alert-info\">\n",
    "<b>Instruction:</b> Apply your function `question_count` to every message in the `message` column of the `pandas.DataFrame` object.\n",
    "</div>"
   ]
  },
  {
   "cell_type": "code",
   "execution_count": null,
   "metadata": {
    "deletable": false,
    "nbgrader": {
     "cell_type": "code",
     "checksum": "9a69eed64f40d2b32fc92bb3ecc077e7",
     "grade": true,
     "grade_id": "cell-afe1e06bb7b05bd9",
     "locked": false,
     "points": 0,
     "schema_version": 3,
     "solution": true,
     "task": false
    }
   },
   "outputs": [],
   "source": [
    "# YOUR CODE HERE\n",
    "raise NotImplementedError()"
   ]
  },
  {
   "cell_type": "markdown",
   "metadata": {
    "deletable": false,
    "editable": false,
    "nbgrader": {
     "cell_type": "markdown",
     "checksum": "89db075f2a5143aa5b2654ecd1bcfbd9",
     "grade": false,
     "grade_id": "cell-b5fb32835227c1f7",
     "locked": true,
     "schema_version": 3,
     "solution": false,
     "task": false
    }
   },
   "source": [
    "### 2.4 `sentiment_score` : the positivity or negativity score of a message (machine learning)\n",
    "\n",
    "\n",
    "\n",
    "Extracting sentiment from text is a common task in Natural Language Processing (NLP), that can be considered as a sub-task of text classification. \n",
    "\n",
    "Our goal will be to classify text as positive, negative, or neutral. The values of the `sentiment_score` feature will span from -1 (negative), 0 (neutral), to 1 (positive).\n",
    "\n",
    "Many pre-trained models for this task are available on the Hugging Face Hub platform introduced in day 5. The model below is somehow limited but support multiple languages:\n",
    "\n",
    "> [lxyuan/distilbert-base-multilingual-cased-sentiments-student](https://huggingface.co/lxyuan/distilbert-base-multilingual-cased-sentiments-student)\n",
    "\n",
    "Otherwise, this model seems to perform better, but with english text only:\n",
    "\n",
    "> [cardiffnlp/twitter-roberta-base-sentiment-latest](https://huggingface.co/cardiffnlp/twitter-roberta-base-sentiment-latest)\n",
    "\n",
    "<div class=\"alert alert-info\">\n",
    "<b>Instruction:</b> Read the documentation of the model of interest and load the model in a pipeline.\n",
    "</div>"
   ]
  },
  {
   "cell_type": "code",
   "execution_count": null,
   "metadata": {
    "deletable": false,
    "nbgrader": {
     "cell_type": "code",
     "checksum": "85296a99ecc82bee1a6bd89c34a152ae",
     "grade": true,
     "grade_id": "cell-a3757fc1e897a8c0",
     "locked": false,
     "points": 0,
     "schema_version": 3,
     "solution": true,
     "task": false
    }
   },
   "outputs": [],
   "source": [
    "# YOUR CODE HERE\n",
    "raise NotImplementedError()"
   ]
  },
  {
   "cell_type": "markdown",
   "metadata": {
    "deletable": false,
    "editable": false,
    "nbgrader": {
     "cell_type": "markdown",
     "checksum": "641d3bc4300a215b0d1faa353d50b496",
     "grade": false,
     "grade_id": "cell-a9b268c613507fb6",
     "locked": true,
     "schema_version": 3,
     "solution": false,
     "task": false
    }
   },
   "source": [
    "<div class=\"alert alert-info\">\n",
    "<b>Instruction:</b> Implement a function `sentiment_score` that takes a string (message) and a pipeline object (model) as inputs, and returns output of the model.\n",
    "\n",
    "The output of sentiment analysis models is usually a dictionary with two keys:\n",
    "    Dict[str, float] = {\n",
    "        'label': 'POSITIVE',\n",
    "        'score': 0.99\n",
    "    }\n",
    "</div>"
   ]
  },
  {
   "cell_type": "code",
   "execution_count": null,
   "metadata": {
    "deletable": false,
    "nbgrader": {
     "cell_type": "code",
     "checksum": "891e421feadf58d4e258ea21b4f519e7",
     "grade": true,
     "grade_id": "cell-b1256975592f16b6",
     "locked": false,
     "points": 0,
     "schema_version": 3,
     "solution": true,
     "task": false
    }
   },
   "outputs": [],
   "source": [
    "def sentiment_score(message : str, pipeline : pipeline) -> dict:\n",
    "    # YOUR CODE HERE\n",
    "    raise NotImplementedError()\n",
    "\n",
    "message = df[\"message\"][10]\n",
    "print(message)\n",
    "sentiment_score(message, sentiment_pipeline,)"
   ]
  },
  {
   "cell_type": "markdown",
   "metadata": {},
   "source": [
    "To simplify the encoding, we propose this function to convert labels into a single score using the function `label2score` below:"
   ]
  },
  {
   "cell_type": "code",
   "execution_count": null,
   "metadata": {},
   "outputs": [],
   "source": [
    "def label2score(output : dict) -> float:\n",
    "    if output[\"label\"].lower() == \"negative\":\n",
    "        return -output[\"score\"]\n",
    "    elif output[\"label\"].lower() == \"positive\":\n",
    "        return output[\"score\"]\n",
    "    else:\n",
    "        return 0\n",
    "\n",
    "label2score(sentiment_score(message, sentiment_pipeline))"
   ]
  },
  {
   "cell_type": "markdown",
   "metadata": {
    "deletable": false,
    "editable": false,
    "nbgrader": {
     "cell_type": "markdown",
     "checksum": "86838274cb2785651aad1fadd53c1182",
     "grade": false,
     "grade_id": "cell-72f5293aebba7f13",
     "locked": true,
     "schema_version": 3,
     "solution": false,
     "task": false
    }
   },
   "source": [
    "Let's now apply the functions `sentiment_score` and `label2score` to the `message` column of the `pandas.DataFrame` object, and store the result in a new column `sentiment_score`.\n",
    "\n",
    "To make sure that the model is working on every message, we will use a `for` loop and the `try` and `except` statements to catch any error that might occur during the process."
   ]
  },
  {
   "cell_type": "code",
   "execution_count": null,
   "metadata": {},
   "outputs": [],
   "source": [
    "sentiment_scores = []\n",
    "for i, message in enumerate(df[\"message\"]):\n",
    "    print(f'Processing message {i}/{len(df[\"message\"])}', end=\"\\r\")\n",
    "    try:\n",
    "        sentiment_scores.append(label2score(sentiment_score(message, sentiment_pipeline)))\n",
    "    except RuntimeError as e:\n",
    "        sentiment_scores.append(None)\n",
    "\n",
    "df[\"sentiment_score\"] = sentiment_scores\n"
   ]
  },
  {
   "cell_type": "markdown",
   "metadata": {},
   "source": [
    "### 2.5 `time_diff_seconds` : the time difference in seconds from the previous message\n",
    "\n",
    "Let's now implement the `time_diff_seconds` feature. This feature is specific to Whatsapp conversations, as it requires the `date_time` column to be in a specific format."
   ]
  },
  {
   "cell_type": "code",
   "execution_count": null,
   "metadata": {},
   "outputs": [],
   "source": [
    "if not df[\"date_time\"].dtype == 'int64':\n",
    "    df[\"time_diff_seconds\"] = df[\"date_time\"].diff().dt.total_seconds()\n",
    "    df.head(10)"
   ]
  },
  {
   "cell_type": "markdown",
   "metadata": {},
   "source": [
    "### 2.6 `media_sent` : the presence of media in a message\n",
    "\n",
    "The `utils.py` file also contains pre-programmed function to extract the presence of media in a message."
   ]
  },
  {
   "cell_type": "code",
   "execution_count": null,
   "metadata": {},
   "outputs": [],
   "source": [
    "from utils import check_media_sent\n",
    "\n",
    "df[\"media_sent\"] = df[\"message\"].apply(check_media_sent)\n",
    "df.head(10)"
   ]
  },
  {
   "cell_type": "markdown",
   "metadata": {},
   "source": [
    "### 2.7 `emoji_count` : the number of emojis in a message\n",
    "\n"
   ]
  },
  {
   "cell_type": "code",
   "execution_count": null,
   "metadata": {},
   "outputs": [],
   "source": [
    "from utils import count_emojis\n",
    "\n",
    "df[\"emoji_count\"] = df[\"message\"].apply(count_emojis)\n",
    "df.head(10)"
   ]
  },
  {
   "cell_type": "markdown",
   "metadata": {},
   "source": [
    "### 2.8 Final anonymization and export\n",
    "\n",
    "Now we have extracted all features we wanted, we can finalize anonymization by **deleting** the messages and ** anonymize** the `sender` column."
   ]
  },
  {
   "cell_type": "code",
   "execution_count": null,
   "metadata": {},
   "outputs": [],
   "source": [
    "# Deletion of the message column\n",
    "\n",
    "df_anonymized = df.drop(columns=[\"message\"], inplace=False)\n",
    "\n",
    "# Anonymizaiton of senders' names\n",
    "\n",
    "# TODO : Fill in the mapping to replace senders' names\n",
    "mapping = {\n",
    "    \"ROMEO\": \"Person 1\",\n",
    "    \"JULIET\": \"Person 2\",\n",
    "    \"Nurse\": \"Person 3\"\n",
    " } \n",
    "df_anonymized[\"sender\"] = df[\"sender\"].apply(lambda x: mapping[x])\n",
    "\n",
    "# Save the anonymized data frame to a csv file\n",
    "df_anonymized.to_csv(\"data/anonymized_conversation_features.csv\", index=False)"
   ]
  },
  {
   "cell_type": "markdown",
   "metadata": {},
   "source": [
    "Now we obtained numerical features from the conversation data, let's have a look at other analysis techniques."
   ]
  },
  {
   "cell_type": "markdown",
   "metadata": {},
   "source": [
    "# 3. Most common words in the conversation\n",
    "\n",
    "Another kind of text analysis method that is popular is to look for the most common words. You may have seen a wordcloud at some point -- that's how this kind of analysis is usually visualized. You can try one out here: [https://monkeylearn.com/word-cloud](https://monkeylearn.com/word-cloud). Try putting all your messages in there to see what it's like.\n",
    "\n",
    "We've written a function for you to get the most common words. If you want to get data for a specific time period (or a specific part of a scene) you'll have to filter the dataframe before working. Below is the function and an example of running it on an entire corpus"
   ]
  },
  {
   "cell_type": "code",
   "execution_count": null,
   "metadata": {},
   "outputs": [],
   "source": [
    "from collections import Counter\n",
    "import re\n",
    "import string\n",
    "from nltk.corpus import stopwords\n",
    "import nltk\n",
    "\n",
    "nltk.download('stopwords')\n",
    "\n",
    "def common_words(df, n_words=10, languages=[\"english\", \"german\"]):\n",
    "    words = \" \".join(df[\"message\"]).lower()\n",
    "    words = re.sub(f\"[{re.escape(string.punctuation)}]\", \"\", words)\n",
    "    words = words.split()\n",
    "\n",
    "    all_stop_words = set()\n",
    "    for lang in languages:\n",
    "        all_stop_words.update(set(stopwords.words(lang)))\n",
    "    \n",
    "    words = [word for word in words if word not in all_stop_words]\n",
    "\n",
    "    return Counter(words).most_common(n_words)"
   ]
  },
  {
   "cell_type": "code",
   "execution_count": null,
   "metadata": {},
   "outputs": [],
   "source": [
    "common_words = common_words(df, n_words=10)\n",
    "common_words"
   ]
  },
  {
   "cell_type": "markdown",
   "metadata": {},
   "source": [
    "---"
   ]
  },
  {
   "cell_type": "markdown",
   "metadata": {},
   "source": [
    "# 4. Topic Modeling using BERTopic\n",
    "\n",
    "The goal of topic modeling is to use unsupervised ML to identify clusters of similar words within a corpus. This might be useful if you don't know what kind of things to look into for your visualization.\n",
    "\n",
    "BERTopic is quite popular and we can visualize the results quite quickly. Below is the code for getting it to run on a whatsapp conversation."
   ]
  },
  {
   "cell_type": "code",
   "execution_count": null,
   "metadata": {},
   "outputs": [],
   "source": [
    "from bertopic import BERTopic\n",
    "\n",
    "docs = df[\"message\"].tolist()\n",
    "topic_model = BERTopic(language=\"multilingual\")\n",
    "topics, probs = topic_model.fit_transform(docs)"
   ]
  },
  {
   "cell_type": "markdown",
   "metadata": {},
   "source": [
    "We can then view the results and see how many topics we have. Note that Topic `-1` includes all the things that didn't fit in the other topics."
   ]
  },
  {
   "cell_type": "code",
   "execution_count": null,
   "metadata": {},
   "outputs": [],
   "source": [
    "topic_model.get_topic_info()"
   ]
  },
  {
   "cell_type": "markdown",
   "metadata": {},
   "source": [
    "A table isn't the best way to understand the topics. \n",
    "\n",
    "We can also visualize the topics overall using `.visualize_topics()`"
   ]
  },
  {
   "cell_type": "code",
   "execution_count": null,
   "metadata": {},
   "outputs": [],
   "source": [
    "topic_model.visualize_topics()"
   ]
  },
  {
   "cell_type": "markdown",
   "metadata": {},
   "source": [
    "And we can also see what words appear in which topics. This gives us an idea about what each topic relates to."
   ]
  },
  {
   "cell_type": "code",
   "execution_count": null,
   "metadata": {},
   "outputs": [],
   "source": [
    "topic_model.visualize_barchart(top_n_topics=10)"
   ]
  },
  {
   "cell_type": "markdown",
   "metadata": {},
   "source": [
    "There are more ways to customize the visualizations and the modeling to get better results. Check out the GitHub page: https://github.com/MaartenGr/BERTopic"
   ]
  }
 ],
 "metadata": {
  "kernelspec": {
   "display_name": "Python 3 (ipykernel)",
   "language": "python",
   "name": "python3"
  },
  "language_info": {
   "codemirror_mode": {
    "name": "ipython",
    "version": 3
   },
   "file_extension": ".py",
   "mimetype": "text/x-python",
   "name": "python",
   "nbconvert_exporter": "python",
   "pygments_lexer": "ipython3",
   "version": "3.8.18"
  }
 },
 "nbformat": 4,
 "nbformat_minor": 4
}
